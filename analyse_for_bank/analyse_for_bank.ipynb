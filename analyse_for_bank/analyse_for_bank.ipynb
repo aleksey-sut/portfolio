{
 "cells": [
  {
   "cell_type": "markdown",
   "metadata": {},
   "source": [
    "# Исследование надёжности заёмщиков\n",
    "\n",
    "Заказчик — кредитный отдел банка. Нужно разобраться, влияет ли семейное положение и количество детей клиента на факт погашения кредита в срок. Входные данные от банка — статистика о платёжеспособности клиентов.\n",
    "\n",
    "Результаты исследования будут учтены при построении модели **кредитного скоринга** — специальной системы, которая оценивает способность потенциального заёмщика вернуть кредит банку."
   ]
  },
  {
   "cell_type": "markdown",
   "metadata": {},
   "source": [
    "**Цель исследования: Дать ответ на следующие четыре вопроса:**\n",
    "\n",
    "- Есть ли зависимость между наличием детей и возвратом кредита в срок?\n",
    "- Есть ли зависимость между семейным положением и возвратом кредита в срок?\n",
    "- Есть ли зависимость между уровнем дохода и возвратом кредита в срок?\n",
    "- Как разные цели кредита влияют на его возврат в срок?"
   ]
  },
  {
   "cell_type": "markdown",
   "metadata": {},
   "source": [
    "**Ход исследования**\n",
    "\n",
    "Данные о кредитной статистике находяться в файле '/datasets/data.csv'. О качестве данных ничего не известно. Поэтому перед проверкой гипотез понадобится обзор данных.\n",
    "\n",
    "Далее необходимо проверить данные на ошибки и оценить их влияние на исследование.\n",
    "\n",
    "Затем, на этапе предобработки необходимо обработать пропущенные значения, при необходимости, заменить тип данных, обработать дубликаты, провести лемматизацию и категоризацию данных.\n",
    "\n",
    "После подготовки данных, необходимо дать ответы на поставленные вопросы и сделать выводы.\n",
    "\n",
    "**Таким образом, исследование пройдёт в четыре этапа:**"
   ]
  },
  {
   "cell_type": "markdown",
   "metadata": {},
   "source": [
    "1. [Обзор данных, изучение общей информации](#start)\n",
    "2. [Предобработка данных](#preprocessing)<br>\n",
    "   2.1. [Обработка пропусков](#null)<br>\n",
    "   2.2. [Замена типа данных](#change)<br>\n",
    "   2.3. [Обработка дубликатов](#duplicates)<br>\n",
    "   2.4. [Лемматизация](#lemma)<br>\n",
    "  2.5. [Категоризация данных](#category)<br>\n",
    "3. [Ответы на вопросы](#question)<br>\n",
    "4. [Общий вывод](#conclusion)<br>\n",
    "\n"
   ]
  },
  {
   "cell_type": "markdown",
   "metadata": {},
   "source": [
    "<a id =\"start\"></a>\n",
    "## Обзор данных, изучение общей информации"
   ]
  },
  {
   "cell_type": "code",
   "execution_count": 2,
   "metadata": {},
   "outputs": [],
   "source": [
    "# импорт библиотеки pandas\n",
    "import pandas as pd\n",
    "\n",
    "# Импортируем Counter\n",
    "from collections import Counter"
   ]
  },
  {
   "cell_type": "code",
   "execution_count": 8,
   "metadata": {
    "scrolled": false
   },
   "outputs": [],
   "source": [
    "# чтение файла с данными и сохранение в df\n",
    "df = pd.read_csv('data.csv')"
   ]
  },
  {
   "cell_type": "code",
   "execution_count": 9,
   "metadata": {
    "scrolled": true
   },
   "outputs": [
    {
     "name": "stdout",
     "output_type": "stream",
     "text": [
      "<class 'pandas.core.frame.DataFrame'>\n",
      "RangeIndex: 21525 entries, 0 to 21524\n",
      "Data columns (total 12 columns):\n",
      " #   Column            Non-Null Count  Dtype  \n",
      "---  ------            --------------  -----  \n",
      " 0   children          21525 non-null  int64  \n",
      " 1   days_employed     19351 non-null  float64\n",
      " 2   dob_years         21525 non-null  int64  \n",
      " 3   education         21525 non-null  object \n",
      " 4   education_id      21525 non-null  int64  \n",
      " 5   family_status     21525 non-null  object \n",
      " 6   family_status_id  21525 non-null  int64  \n",
      " 7   gender            21525 non-null  object \n",
      " 8   income_type       21525 non-null  object \n",
      " 9   debt              21525 non-null  int64  \n",
      " 10  total_income      19351 non-null  float64\n",
      " 11  purpose           21525 non-null  object \n",
      "dtypes: float64(2), int64(5), object(5)\n",
      "memory usage: 2.0+ MB\n"
     ]
    }
   ],
   "source": [
    "# получение общей информации о данных в таблице df\n",
    "df.info()"
   ]
  },
  {
   "cell_type": "markdown",
   "metadata": {},
   "source": [
    "Для более детального знакомства с данными выведем первые, последние и случайные 10 строк датафрейма:"
   ]
  },
  {
   "cell_type": "code",
   "execution_count": 10,
   "metadata": {
    "scrolled": true
   },
   "outputs": [
    {
     "data": {
      "text/html": [
       "<div>\n",
       "<style scoped>\n",
       "    .dataframe tbody tr th:only-of-type {\n",
       "        vertical-align: middle;\n",
       "    }\n",
       "\n",
       "    .dataframe tbody tr th {\n",
       "        vertical-align: top;\n",
       "    }\n",
       "\n",
       "    .dataframe thead th {\n",
       "        text-align: right;\n",
       "    }\n",
       "</style>\n",
       "<table border=\"1\" class=\"dataframe\">\n",
       "  <thead>\n",
       "    <tr style=\"text-align: right;\">\n",
       "      <th></th>\n",
       "      <th>children</th>\n",
       "      <th>days_employed</th>\n",
       "      <th>dob_years</th>\n",
       "      <th>education</th>\n",
       "      <th>education_id</th>\n",
       "      <th>family_status</th>\n",
       "      <th>family_status_id</th>\n",
       "      <th>gender</th>\n",
       "      <th>income_type</th>\n",
       "      <th>debt</th>\n",
       "      <th>total_income</th>\n",
       "      <th>purpose</th>\n",
       "    </tr>\n",
       "  </thead>\n",
       "  <tbody>\n",
       "    <tr>\n",
       "      <th>0</th>\n",
       "      <td>1</td>\n",
       "      <td>-8437.673028</td>\n",
       "      <td>42</td>\n",
       "      <td>высшее</td>\n",
       "      <td>0</td>\n",
       "      <td>женат / замужем</td>\n",
       "      <td>0</td>\n",
       "      <td>F</td>\n",
       "      <td>сотрудник</td>\n",
       "      <td>0</td>\n",
       "      <td>253875.639453</td>\n",
       "      <td>покупка жилья</td>\n",
       "    </tr>\n",
       "    <tr>\n",
       "      <th>1</th>\n",
       "      <td>1</td>\n",
       "      <td>-4024.803754</td>\n",
       "      <td>36</td>\n",
       "      <td>среднее</td>\n",
       "      <td>1</td>\n",
       "      <td>женат / замужем</td>\n",
       "      <td>0</td>\n",
       "      <td>F</td>\n",
       "      <td>сотрудник</td>\n",
       "      <td>0</td>\n",
       "      <td>112080.014102</td>\n",
       "      <td>приобретение автомобиля</td>\n",
       "    </tr>\n",
       "    <tr>\n",
       "      <th>2</th>\n",
       "      <td>0</td>\n",
       "      <td>-5623.422610</td>\n",
       "      <td>33</td>\n",
       "      <td>Среднее</td>\n",
       "      <td>1</td>\n",
       "      <td>женат / замужем</td>\n",
       "      <td>0</td>\n",
       "      <td>M</td>\n",
       "      <td>сотрудник</td>\n",
       "      <td>0</td>\n",
       "      <td>145885.952297</td>\n",
       "      <td>покупка жилья</td>\n",
       "    </tr>\n",
       "    <tr>\n",
       "      <th>3</th>\n",
       "      <td>3</td>\n",
       "      <td>-4124.747207</td>\n",
       "      <td>32</td>\n",
       "      <td>среднее</td>\n",
       "      <td>1</td>\n",
       "      <td>женат / замужем</td>\n",
       "      <td>0</td>\n",
       "      <td>M</td>\n",
       "      <td>сотрудник</td>\n",
       "      <td>0</td>\n",
       "      <td>267628.550329</td>\n",
       "      <td>дополнительное образование</td>\n",
       "    </tr>\n",
       "    <tr>\n",
       "      <th>4</th>\n",
       "      <td>0</td>\n",
       "      <td>340266.072047</td>\n",
       "      <td>53</td>\n",
       "      <td>среднее</td>\n",
       "      <td>1</td>\n",
       "      <td>гражданский брак</td>\n",
       "      <td>1</td>\n",
       "      <td>F</td>\n",
       "      <td>пенсионер</td>\n",
       "      <td>0</td>\n",
       "      <td>158616.077870</td>\n",
       "      <td>сыграть свадьбу</td>\n",
       "    </tr>\n",
       "    <tr>\n",
       "      <th>5</th>\n",
       "      <td>0</td>\n",
       "      <td>-926.185831</td>\n",
       "      <td>27</td>\n",
       "      <td>высшее</td>\n",
       "      <td>0</td>\n",
       "      <td>гражданский брак</td>\n",
       "      <td>1</td>\n",
       "      <td>M</td>\n",
       "      <td>компаньон</td>\n",
       "      <td>0</td>\n",
       "      <td>255763.565419</td>\n",
       "      <td>покупка жилья</td>\n",
       "    </tr>\n",
       "    <tr>\n",
       "      <th>6</th>\n",
       "      <td>0</td>\n",
       "      <td>-2879.202052</td>\n",
       "      <td>43</td>\n",
       "      <td>высшее</td>\n",
       "      <td>0</td>\n",
       "      <td>женат / замужем</td>\n",
       "      <td>0</td>\n",
       "      <td>F</td>\n",
       "      <td>компаньон</td>\n",
       "      <td>0</td>\n",
       "      <td>240525.971920</td>\n",
       "      <td>операции с жильем</td>\n",
       "    </tr>\n",
       "    <tr>\n",
       "      <th>7</th>\n",
       "      <td>0</td>\n",
       "      <td>-152.779569</td>\n",
       "      <td>50</td>\n",
       "      <td>СРЕДНЕЕ</td>\n",
       "      <td>1</td>\n",
       "      <td>женат / замужем</td>\n",
       "      <td>0</td>\n",
       "      <td>M</td>\n",
       "      <td>сотрудник</td>\n",
       "      <td>0</td>\n",
       "      <td>135823.934197</td>\n",
       "      <td>образование</td>\n",
       "    </tr>\n",
       "    <tr>\n",
       "      <th>8</th>\n",
       "      <td>2</td>\n",
       "      <td>-6929.865299</td>\n",
       "      <td>35</td>\n",
       "      <td>ВЫСШЕЕ</td>\n",
       "      <td>0</td>\n",
       "      <td>гражданский брак</td>\n",
       "      <td>1</td>\n",
       "      <td>F</td>\n",
       "      <td>сотрудник</td>\n",
       "      <td>0</td>\n",
       "      <td>95856.832424</td>\n",
       "      <td>на проведение свадьбы</td>\n",
       "    </tr>\n",
       "    <tr>\n",
       "      <th>9</th>\n",
       "      <td>0</td>\n",
       "      <td>-2188.756445</td>\n",
       "      <td>41</td>\n",
       "      <td>среднее</td>\n",
       "      <td>1</td>\n",
       "      <td>женат / замужем</td>\n",
       "      <td>0</td>\n",
       "      <td>M</td>\n",
       "      <td>сотрудник</td>\n",
       "      <td>0</td>\n",
       "      <td>144425.938277</td>\n",
       "      <td>покупка жилья для семьи</td>\n",
       "    </tr>\n",
       "  </tbody>\n",
       "</table>\n",
       "</div>"
      ],
      "text/plain": [
       "   children  days_employed  dob_years education  education_id  \\\n",
       "0         1   -8437.673028         42    высшее             0   \n",
       "1         1   -4024.803754         36   среднее             1   \n",
       "2         0   -5623.422610         33   Среднее             1   \n",
       "3         3   -4124.747207         32   среднее             1   \n",
       "4         0  340266.072047         53   среднее             1   \n",
       "5         0    -926.185831         27    высшее             0   \n",
       "6         0   -2879.202052         43    высшее             0   \n",
       "7         0    -152.779569         50   СРЕДНЕЕ             1   \n",
       "8         2   -6929.865299         35    ВЫСШЕЕ             0   \n",
       "9         0   -2188.756445         41   среднее             1   \n",
       "\n",
       "      family_status  family_status_id gender income_type  debt   total_income  \\\n",
       "0   женат / замужем                 0      F   сотрудник     0  253875.639453   \n",
       "1   женат / замужем                 0      F   сотрудник     0  112080.014102   \n",
       "2   женат / замужем                 0      M   сотрудник     0  145885.952297   \n",
       "3   женат / замужем                 0      M   сотрудник     0  267628.550329   \n",
       "4  гражданский брак                 1      F   пенсионер     0  158616.077870   \n",
       "5  гражданский брак                 1      M   компаньон     0  255763.565419   \n",
       "6   женат / замужем                 0      F   компаньон     0  240525.971920   \n",
       "7   женат / замужем                 0      M   сотрудник     0  135823.934197   \n",
       "8  гражданский брак                 1      F   сотрудник     0   95856.832424   \n",
       "9   женат / замужем                 0      M   сотрудник     0  144425.938277   \n",
       "\n",
       "                      purpose  \n",
       "0               покупка жилья  \n",
       "1     приобретение автомобиля  \n",
       "2               покупка жилья  \n",
       "3  дополнительное образование  \n",
       "4             сыграть свадьбу  \n",
       "5               покупка жилья  \n",
       "6           операции с жильем  \n",
       "7                 образование  \n",
       "8       на проведение свадьбы  \n",
       "9     покупка жилья для семьи  "
      ]
     },
     "execution_count": 10,
     "metadata": {},
     "output_type": "execute_result"
    }
   ],
   "source": [
    "df.head(10)"
   ]
  },
  {
   "cell_type": "code",
   "execution_count": 11,
   "metadata": {
    "scrolled": true
   },
   "outputs": [
    {
     "data": {
      "text/html": [
       "<div>\n",
       "<style scoped>\n",
       "    .dataframe tbody tr th:only-of-type {\n",
       "        vertical-align: middle;\n",
       "    }\n",
       "\n",
       "    .dataframe tbody tr th {\n",
       "        vertical-align: top;\n",
       "    }\n",
       "\n",
       "    .dataframe thead th {\n",
       "        text-align: right;\n",
       "    }\n",
       "</style>\n",
       "<table border=\"1\" class=\"dataframe\">\n",
       "  <thead>\n",
       "    <tr style=\"text-align: right;\">\n",
       "      <th></th>\n",
       "      <th>children</th>\n",
       "      <th>days_employed</th>\n",
       "      <th>dob_years</th>\n",
       "      <th>education</th>\n",
       "      <th>education_id</th>\n",
       "      <th>family_status</th>\n",
       "      <th>family_status_id</th>\n",
       "      <th>gender</th>\n",
       "      <th>income_type</th>\n",
       "      <th>debt</th>\n",
       "      <th>total_income</th>\n",
       "      <th>purpose</th>\n",
       "    </tr>\n",
       "  </thead>\n",
       "  <tbody>\n",
       "    <tr>\n",
       "      <th>21515</th>\n",
       "      <td>1</td>\n",
       "      <td>-467.685130</td>\n",
       "      <td>28</td>\n",
       "      <td>среднее</td>\n",
       "      <td>1</td>\n",
       "      <td>женат / замужем</td>\n",
       "      <td>0</td>\n",
       "      <td>F</td>\n",
       "      <td>сотрудник</td>\n",
       "      <td>1</td>\n",
       "      <td>109486.327999</td>\n",
       "      <td>заняться образованием</td>\n",
       "    </tr>\n",
       "    <tr>\n",
       "      <th>21516</th>\n",
       "      <td>0</td>\n",
       "      <td>-914.391429</td>\n",
       "      <td>42</td>\n",
       "      <td>высшее</td>\n",
       "      <td>0</td>\n",
       "      <td>женат / замужем</td>\n",
       "      <td>0</td>\n",
       "      <td>F</td>\n",
       "      <td>компаньон</td>\n",
       "      <td>0</td>\n",
       "      <td>322807.776603</td>\n",
       "      <td>покупка своего жилья</td>\n",
       "    </tr>\n",
       "    <tr>\n",
       "      <th>21517</th>\n",
       "      <td>0</td>\n",
       "      <td>-404.679034</td>\n",
       "      <td>42</td>\n",
       "      <td>высшее</td>\n",
       "      <td>0</td>\n",
       "      <td>гражданский брак</td>\n",
       "      <td>1</td>\n",
       "      <td>F</td>\n",
       "      <td>компаньон</td>\n",
       "      <td>0</td>\n",
       "      <td>178059.553491</td>\n",
       "      <td>на покупку своего автомобиля</td>\n",
       "    </tr>\n",
       "    <tr>\n",
       "      <th>21518</th>\n",
       "      <td>0</td>\n",
       "      <td>373995.710838</td>\n",
       "      <td>59</td>\n",
       "      <td>СРЕДНЕЕ</td>\n",
       "      <td>1</td>\n",
       "      <td>женат / замужем</td>\n",
       "      <td>0</td>\n",
       "      <td>F</td>\n",
       "      <td>пенсионер</td>\n",
       "      <td>0</td>\n",
       "      <td>153864.650328</td>\n",
       "      <td>сделка с автомобилем</td>\n",
       "    </tr>\n",
       "    <tr>\n",
       "      <th>21519</th>\n",
       "      <td>1</td>\n",
       "      <td>-2351.431934</td>\n",
       "      <td>37</td>\n",
       "      <td>ученая степень</td>\n",
       "      <td>4</td>\n",
       "      <td>в разводе</td>\n",
       "      <td>3</td>\n",
       "      <td>M</td>\n",
       "      <td>сотрудник</td>\n",
       "      <td>0</td>\n",
       "      <td>115949.039788</td>\n",
       "      <td>покупка коммерческой недвижимости</td>\n",
       "    </tr>\n",
       "    <tr>\n",
       "      <th>21520</th>\n",
       "      <td>1</td>\n",
       "      <td>-4529.316663</td>\n",
       "      <td>43</td>\n",
       "      <td>среднее</td>\n",
       "      <td>1</td>\n",
       "      <td>гражданский брак</td>\n",
       "      <td>1</td>\n",
       "      <td>F</td>\n",
       "      <td>компаньон</td>\n",
       "      <td>0</td>\n",
       "      <td>224791.862382</td>\n",
       "      <td>операции с жильем</td>\n",
       "    </tr>\n",
       "    <tr>\n",
       "      <th>21521</th>\n",
       "      <td>0</td>\n",
       "      <td>343937.404131</td>\n",
       "      <td>67</td>\n",
       "      <td>среднее</td>\n",
       "      <td>1</td>\n",
       "      <td>женат / замужем</td>\n",
       "      <td>0</td>\n",
       "      <td>F</td>\n",
       "      <td>пенсионер</td>\n",
       "      <td>0</td>\n",
       "      <td>155999.806512</td>\n",
       "      <td>сделка с автомобилем</td>\n",
       "    </tr>\n",
       "    <tr>\n",
       "      <th>21522</th>\n",
       "      <td>1</td>\n",
       "      <td>-2113.346888</td>\n",
       "      <td>38</td>\n",
       "      <td>среднее</td>\n",
       "      <td>1</td>\n",
       "      <td>гражданский брак</td>\n",
       "      <td>1</td>\n",
       "      <td>M</td>\n",
       "      <td>сотрудник</td>\n",
       "      <td>1</td>\n",
       "      <td>89672.561153</td>\n",
       "      <td>недвижимость</td>\n",
       "    </tr>\n",
       "    <tr>\n",
       "      <th>21523</th>\n",
       "      <td>3</td>\n",
       "      <td>-3112.481705</td>\n",
       "      <td>38</td>\n",
       "      <td>среднее</td>\n",
       "      <td>1</td>\n",
       "      <td>женат / замужем</td>\n",
       "      <td>0</td>\n",
       "      <td>M</td>\n",
       "      <td>сотрудник</td>\n",
       "      <td>1</td>\n",
       "      <td>244093.050500</td>\n",
       "      <td>на покупку своего автомобиля</td>\n",
       "    </tr>\n",
       "    <tr>\n",
       "      <th>21524</th>\n",
       "      <td>2</td>\n",
       "      <td>-1984.507589</td>\n",
       "      <td>40</td>\n",
       "      <td>среднее</td>\n",
       "      <td>1</td>\n",
       "      <td>женат / замужем</td>\n",
       "      <td>0</td>\n",
       "      <td>F</td>\n",
       "      <td>сотрудник</td>\n",
       "      <td>0</td>\n",
       "      <td>82047.418899</td>\n",
       "      <td>на покупку автомобиля</td>\n",
       "    </tr>\n",
       "  </tbody>\n",
       "</table>\n",
       "</div>"
      ],
      "text/plain": [
       "       children  days_employed  dob_years       education  education_id  \\\n",
       "21515         1    -467.685130         28         среднее             1   \n",
       "21516         0    -914.391429         42          высшее             0   \n",
       "21517         0    -404.679034         42          высшее             0   \n",
       "21518         0  373995.710838         59         СРЕДНЕЕ             1   \n",
       "21519         1   -2351.431934         37  ученая степень             4   \n",
       "21520         1   -4529.316663         43         среднее             1   \n",
       "21521         0  343937.404131         67         среднее             1   \n",
       "21522         1   -2113.346888         38         среднее             1   \n",
       "21523         3   -3112.481705         38         среднее             1   \n",
       "21524         2   -1984.507589         40         среднее             1   \n",
       "\n",
       "          family_status  family_status_id gender income_type  debt  \\\n",
       "21515   женат / замужем                 0      F   сотрудник     1   \n",
       "21516   женат / замужем                 0      F   компаньон     0   \n",
       "21517  гражданский брак                 1      F   компаньон     0   \n",
       "21518   женат / замужем                 0      F   пенсионер     0   \n",
       "21519         в разводе                 3      M   сотрудник     0   \n",
       "21520  гражданский брак                 1      F   компаньон     0   \n",
       "21521   женат / замужем                 0      F   пенсионер     0   \n",
       "21522  гражданский брак                 1      M   сотрудник     1   \n",
       "21523   женат / замужем                 0      M   сотрудник     1   \n",
       "21524   женат / замужем                 0      F   сотрудник     0   \n",
       "\n",
       "        total_income                            purpose  \n",
       "21515  109486.327999              заняться образованием  \n",
       "21516  322807.776603               покупка своего жилья  \n",
       "21517  178059.553491       на покупку своего автомобиля  \n",
       "21518  153864.650328               сделка с автомобилем  \n",
       "21519  115949.039788  покупка коммерческой недвижимости  \n",
       "21520  224791.862382                  операции с жильем  \n",
       "21521  155999.806512               сделка с автомобилем  \n",
       "21522   89672.561153                       недвижимость  \n",
       "21523  244093.050500       на покупку своего автомобиля  \n",
       "21524   82047.418899              на покупку автомобиля  "
      ]
     },
     "execution_count": 11,
     "metadata": {},
     "output_type": "execute_result"
    }
   ],
   "source": [
    "df.tail(10)"
   ]
  },
  {
   "cell_type": "code",
   "execution_count": 12,
   "metadata": {
    "scrolled": true
   },
   "outputs": [
    {
     "data": {
      "text/html": [
       "<div>\n",
       "<style scoped>\n",
       "    .dataframe tbody tr th:only-of-type {\n",
       "        vertical-align: middle;\n",
       "    }\n",
       "\n",
       "    .dataframe tbody tr th {\n",
       "        vertical-align: top;\n",
       "    }\n",
       "\n",
       "    .dataframe thead th {\n",
       "        text-align: right;\n",
       "    }\n",
       "</style>\n",
       "<table border=\"1\" class=\"dataframe\">\n",
       "  <thead>\n",
       "    <tr style=\"text-align: right;\">\n",
       "      <th></th>\n",
       "      <th>16619</th>\n",
       "      <th>12945</th>\n",
       "      <th>2451</th>\n",
       "      <th>8490</th>\n",
       "      <th>13294</th>\n",
       "      <th>6421</th>\n",
       "      <th>6746</th>\n",
       "      <th>16772</th>\n",
       "      <th>9355</th>\n",
       "      <th>8620</th>\n",
       "    </tr>\n",
       "  </thead>\n",
       "  <tbody>\n",
       "    <tr>\n",
       "      <th>children</th>\n",
       "      <td>0</td>\n",
       "      <td>0</td>\n",
       "      <td>0</td>\n",
       "      <td>1</td>\n",
       "      <td>0</td>\n",
       "      <td>0</td>\n",
       "      <td>0</td>\n",
       "      <td>0</td>\n",
       "      <td>0</td>\n",
       "      <td>4</td>\n",
       "    </tr>\n",
       "    <tr>\n",
       "      <th>days_employed</th>\n",
       "      <td>NaN</td>\n",
       "      <td>NaN</td>\n",
       "      <td>-1521.923874</td>\n",
       "      <td>NaN</td>\n",
       "      <td>355815.850208</td>\n",
       "      <td>-428.033481</td>\n",
       "      <td>-4237.553184</td>\n",
       "      <td>-2177.391045</td>\n",
       "      <td>374762.301257</td>\n",
       "      <td>-2688.85142</td>\n",
       "    </tr>\n",
       "    <tr>\n",
       "      <th>dob_years</th>\n",
       "      <td>67</td>\n",
       "      <td>47</td>\n",
       "      <td>54</td>\n",
       "      <td>31</td>\n",
       "      <td>62</td>\n",
       "      <td>32</td>\n",
       "      <td>34</td>\n",
       "      <td>25</td>\n",
       "      <td>58</td>\n",
       "      <td>34</td>\n",
       "    </tr>\n",
       "    <tr>\n",
       "      <th>education</th>\n",
       "      <td>среднее</td>\n",
       "      <td>высшее</td>\n",
       "      <td>среднее</td>\n",
       "      <td>среднее</td>\n",
       "      <td>среднее</td>\n",
       "      <td>высшее</td>\n",
       "      <td>высшее</td>\n",
       "      <td>высшее</td>\n",
       "      <td>среднее</td>\n",
       "      <td>среднее</td>\n",
       "    </tr>\n",
       "    <tr>\n",
       "      <th>education_id</th>\n",
       "      <td>1</td>\n",
       "      <td>0</td>\n",
       "      <td>1</td>\n",
       "      <td>1</td>\n",
       "      <td>1</td>\n",
       "      <td>0</td>\n",
       "      <td>0</td>\n",
       "      <td>0</td>\n",
       "      <td>1</td>\n",
       "      <td>1</td>\n",
       "    </tr>\n",
       "    <tr>\n",
       "      <th>family_status</th>\n",
       "      <td>гражданский брак</td>\n",
       "      <td>женат / замужем</td>\n",
       "      <td>женат / замужем</td>\n",
       "      <td>женат / замужем</td>\n",
       "      <td>в разводе</td>\n",
       "      <td>гражданский брак</td>\n",
       "      <td>женат / замужем</td>\n",
       "      <td>женат / замужем</td>\n",
       "      <td>женат / замужем</td>\n",
       "      <td>женат / замужем</td>\n",
       "    </tr>\n",
       "    <tr>\n",
       "      <th>family_status_id</th>\n",
       "      <td>1</td>\n",
       "      <td>0</td>\n",
       "      <td>0</td>\n",
       "      <td>0</td>\n",
       "      <td>3</td>\n",
       "      <td>1</td>\n",
       "      <td>0</td>\n",
       "      <td>0</td>\n",
       "      <td>0</td>\n",
       "      <td>0</td>\n",
       "    </tr>\n",
       "    <tr>\n",
       "      <th>gender</th>\n",
       "      <td>M</td>\n",
       "      <td>M</td>\n",
       "      <td>F</td>\n",
       "      <td>F</td>\n",
       "      <td>F</td>\n",
       "      <td>M</td>\n",
       "      <td>F</td>\n",
       "      <td>F</td>\n",
       "      <td>F</td>\n",
       "      <td>F</td>\n",
       "    </tr>\n",
       "    <tr>\n",
       "      <th>income_type</th>\n",
       "      <td>пенсионер</td>\n",
       "      <td>сотрудник</td>\n",
       "      <td>сотрудник</td>\n",
       "      <td>компаньон</td>\n",
       "      <td>пенсионер</td>\n",
       "      <td>сотрудник</td>\n",
       "      <td>сотрудник</td>\n",
       "      <td>компаньон</td>\n",
       "      <td>пенсионер</td>\n",
       "      <td>сотрудник</td>\n",
       "    </tr>\n",
       "    <tr>\n",
       "      <th>debt</th>\n",
       "      <td>1</td>\n",
       "      <td>0</td>\n",
       "      <td>0</td>\n",
       "      <td>0</td>\n",
       "      <td>0</td>\n",
       "      <td>0</td>\n",
       "      <td>0</td>\n",
       "      <td>0</td>\n",
       "      <td>0</td>\n",
       "      <td>0</td>\n",
       "    </tr>\n",
       "    <tr>\n",
       "      <th>total_income</th>\n",
       "      <td>NaN</td>\n",
       "      <td>NaN</td>\n",
       "      <td>129490.951216</td>\n",
       "      <td>NaN</td>\n",
       "      <td>106983.666412</td>\n",
       "      <td>312283.737346</td>\n",
       "      <td>91587.283408</td>\n",
       "      <td>89634.839257</td>\n",
       "      <td>103187.269076</td>\n",
       "      <td>164158.795147</td>\n",
       "    </tr>\n",
       "    <tr>\n",
       "      <th>purpose</th>\n",
       "      <td>профильное образование</td>\n",
       "      <td>покупка жилья для сдачи</td>\n",
       "      <td>операции с недвижимостью</td>\n",
       "      <td>покупка жилья</td>\n",
       "      <td>строительство жилой недвижимости</td>\n",
       "      <td>сделка с подержанным автомобилем</td>\n",
       "      <td>покупка недвижимости</td>\n",
       "      <td>сделка с подержанным автомобилем</td>\n",
       "      <td>на покупку своего автомобиля</td>\n",
       "      <td>заняться образованием</td>\n",
       "    </tr>\n",
       "  </tbody>\n",
       "</table>\n",
       "</div>"
      ],
      "text/plain": [
       "                                   16619                    12945  \\\n",
       "children                               0                        0   \n",
       "days_employed                        NaN                      NaN   \n",
       "dob_years                             67                       47   \n",
       "education                        среднее                   высшее   \n",
       "education_id                           1                        0   \n",
       "family_status           гражданский брак          женат / замужем   \n",
       "family_status_id                       1                        0   \n",
       "gender                                 M                        M   \n",
       "income_type                    пенсионер                сотрудник   \n",
       "debt                                   1                        0   \n",
       "total_income                         NaN                      NaN   \n",
       "purpose           профильное образование  покупка жилья для сдачи   \n",
       "\n",
       "                                     2451             8490   \\\n",
       "children                                 0                1   \n",
       "days_employed                 -1521.923874              NaN   \n",
       "dob_years                               54               31   \n",
       "education                          среднее          среднее   \n",
       "education_id                             1                1   \n",
       "family_status              женат / замужем  женат / замужем   \n",
       "family_status_id                         0                0   \n",
       "gender                                   F                F   \n",
       "income_type                      сотрудник        компаньон   \n",
       "debt                                     0                0   \n",
       "total_income                 129490.951216              NaN   \n",
       "purpose           операции с недвижимостью    покупка жилья   \n",
       "\n",
       "                                             13294  \\\n",
       "children                                         0   \n",
       "days_employed                        355815.850208   \n",
       "dob_years                                       62   \n",
       "education                                  среднее   \n",
       "education_id                                     1   \n",
       "family_status                            в разводе   \n",
       "family_status_id                                 3   \n",
       "gender                                           F   \n",
       "income_type                              пенсионер   \n",
       "debt                                             0   \n",
       "total_income                         106983.666412   \n",
       "purpose           строительство жилой недвижимости   \n",
       "\n",
       "                                             6421                  6746   \\\n",
       "children                                         0                     0   \n",
       "days_employed                          -428.033481          -4237.553184   \n",
       "dob_years                                       32                    34   \n",
       "education                                   высшее                высшее   \n",
       "education_id                                     0                     0   \n",
       "family_status                     гражданский брак       женат / замужем   \n",
       "family_status_id                                 1                     0   \n",
       "gender                                           M                     F   \n",
       "income_type                              сотрудник             сотрудник   \n",
       "debt                                             0                     0   \n",
       "total_income                         312283.737346          91587.283408   \n",
       "purpose           сделка с подержанным автомобилем  покупка недвижимости   \n",
       "\n",
       "                                             16772  \\\n",
       "children                                         0   \n",
       "days_employed                         -2177.391045   \n",
       "dob_years                                       25   \n",
       "education                                   высшее   \n",
       "education_id                                     0   \n",
       "family_status                      женат / замужем   \n",
       "family_status_id                                 0   \n",
       "gender                                           F   \n",
       "income_type                              компаньон   \n",
       "debt                                             0   \n",
       "total_income                          89634.839257   \n",
       "purpose           сделка с подержанным автомобилем   \n",
       "\n",
       "                                         9355                   8620   \n",
       "children                                     0                      4  \n",
       "days_employed                    374762.301257            -2688.85142  \n",
       "dob_years                                   58                     34  \n",
       "education                              среднее                среднее  \n",
       "education_id                                 1                      1  \n",
       "family_status                  женат / замужем        женат / замужем  \n",
       "family_status_id                             0                      0  \n",
       "gender                                       F                      F  \n",
       "income_type                          пенсионер              сотрудник  \n",
       "debt                                         0                      0  \n",
       "total_income                     103187.269076          164158.795147  \n",
       "purpose           на покупку своего автомобиля  заняться образованием  "
      ]
     },
     "execution_count": 12,
     "metadata": {},
     "output_type": "execute_result"
    }
   ],
   "source": [
    "df.sample(10, random_state = 19 ).T"
   ]
  },
  {
   "cell_type": "code",
   "execution_count": 449,
   "metadata": {},
   "outputs": [
    {
     "data": {
      "text/html": [
       "<div>\n",
       "<style scoped>\n",
       "    .dataframe tbody tr th:only-of-type {\n",
       "        vertical-align: middle;\n",
       "    }\n",
       "\n",
       "    .dataframe tbody tr th {\n",
       "        vertical-align: top;\n",
       "    }\n",
       "\n",
       "    .dataframe thead th {\n",
       "        text-align: right;\n",
       "    }\n",
       "</style>\n",
       "<table border=\"1\" class=\"dataframe\">\n",
       "  <thead>\n",
       "    <tr style=\"text-align: right;\">\n",
       "      <th></th>\n",
       "      <th>count</th>\n",
       "      <th>mean</th>\n",
       "      <th>std</th>\n",
       "      <th>min</th>\n",
       "      <th>25%</th>\n",
       "      <th>50%</th>\n",
       "      <th>75%</th>\n",
       "      <th>max</th>\n",
       "    </tr>\n",
       "  </thead>\n",
       "  <tbody>\n",
       "    <tr>\n",
       "      <td>children</td>\n",
       "      <td>21525.0</td>\n",
       "      <td>0.538908</td>\n",
       "      <td>1.381587</td>\n",
       "      <td>-1.000000</td>\n",
       "      <td>0.000000</td>\n",
       "      <td>0.000000</td>\n",
       "      <td>1.000000</td>\n",
       "      <td>2.000000e+01</td>\n",
       "    </tr>\n",
       "    <tr>\n",
       "      <td>days_employed</td>\n",
       "      <td>19351.0</td>\n",
       "      <td>63046.497661</td>\n",
       "      <td>140827.311974</td>\n",
       "      <td>-18388.949901</td>\n",
       "      <td>-2747.423625</td>\n",
       "      <td>-1203.369529</td>\n",
       "      <td>-291.095954</td>\n",
       "      <td>4.017554e+05</td>\n",
       "    </tr>\n",
       "    <tr>\n",
       "      <td>dob_years</td>\n",
       "      <td>21525.0</td>\n",
       "      <td>43.293380</td>\n",
       "      <td>12.574584</td>\n",
       "      <td>0.000000</td>\n",
       "      <td>33.000000</td>\n",
       "      <td>42.000000</td>\n",
       "      <td>53.000000</td>\n",
       "      <td>7.500000e+01</td>\n",
       "    </tr>\n",
       "    <tr>\n",
       "      <td>education_id</td>\n",
       "      <td>21525.0</td>\n",
       "      <td>0.817236</td>\n",
       "      <td>0.548138</td>\n",
       "      <td>0.000000</td>\n",
       "      <td>1.000000</td>\n",
       "      <td>1.000000</td>\n",
       "      <td>1.000000</td>\n",
       "      <td>4.000000e+00</td>\n",
       "    </tr>\n",
       "    <tr>\n",
       "      <td>family_status_id</td>\n",
       "      <td>21525.0</td>\n",
       "      <td>0.972544</td>\n",
       "      <td>1.420324</td>\n",
       "      <td>0.000000</td>\n",
       "      <td>0.000000</td>\n",
       "      <td>0.000000</td>\n",
       "      <td>1.000000</td>\n",
       "      <td>4.000000e+00</td>\n",
       "    </tr>\n",
       "    <tr>\n",
       "      <td>debt</td>\n",
       "      <td>21525.0</td>\n",
       "      <td>0.080883</td>\n",
       "      <td>0.272661</td>\n",
       "      <td>0.000000</td>\n",
       "      <td>0.000000</td>\n",
       "      <td>0.000000</td>\n",
       "      <td>0.000000</td>\n",
       "      <td>1.000000e+00</td>\n",
       "    </tr>\n",
       "    <tr>\n",
       "      <td>total_income</td>\n",
       "      <td>19351.0</td>\n",
       "      <td>167422.302208</td>\n",
       "      <td>102971.566448</td>\n",
       "      <td>20667.263793</td>\n",
       "      <td>103053.152913</td>\n",
       "      <td>145017.937533</td>\n",
       "      <td>203435.067663</td>\n",
       "      <td>2.265604e+06</td>\n",
       "    </tr>\n",
       "  </tbody>\n",
       "</table>\n",
       "</div>"
      ],
      "text/plain": [
       "                    count           mean            std           min  \\\n",
       "children          21525.0       0.538908       1.381587     -1.000000   \n",
       "days_employed     19351.0   63046.497661  140827.311974 -18388.949901   \n",
       "dob_years         21525.0      43.293380      12.574584      0.000000   \n",
       "education_id      21525.0       0.817236       0.548138      0.000000   \n",
       "family_status_id  21525.0       0.972544       1.420324      0.000000   \n",
       "debt              21525.0       0.080883       0.272661      0.000000   \n",
       "total_income      19351.0  167422.302208  102971.566448  20667.263793   \n",
       "\n",
       "                            25%            50%            75%           max  \n",
       "children               0.000000       0.000000       1.000000  2.000000e+01  \n",
       "days_employed      -2747.423625   -1203.369529    -291.095954  4.017554e+05  \n",
       "dob_years             33.000000      42.000000      53.000000  7.500000e+01  \n",
       "education_id           1.000000       1.000000       1.000000  4.000000e+00  \n",
       "family_status_id       0.000000       0.000000       1.000000  4.000000e+00  \n",
       "debt                   0.000000       0.000000       0.000000  1.000000e+00  \n",
       "total_income      103053.152913  145017.937533  203435.067663  2.265604e+06  "
      ]
     },
     "execution_count": 449,
     "metadata": {},
     "output_type": "execute_result"
    }
   ],
   "source": [
    "df.describe().T"
   ]
  },
  {
   "cell_type": "markdown",
   "metadata": {},
   "source": [
    "**Вывод**"
   ]
  },
  {
   "cell_type": "markdown",
   "metadata": {},
   "source": [
    "Итак, в таблице 12 столбцов. Тип данных в столбцах — int64, float64, object.<br>\n",
    "\n",
    "Согласно документации к данным:<br>\n",
    "\n",
    "children — количество детей в семье<br>\n",
    "days_employed — общий трудовой стаж в днях<br>\n",
    "dob_years — возраст клиента в годах<br>\n",
    "education — уровень образования клиента<br>\n",
    "education_id — идентификатор уровня образования<br>\n",
    "family_status — семейное положение<br>\n",
    "family_status_id — идентификатор семейного положения<br>\n",
    "gender — пол клиента<br>\n",
    "income_type — тип занятости<br>\n",
    "debt — имел ли задолженность по возврату кредитов<br>\n",
    "total_income — ежемесячный доход<br>\n",
    "purpose — цель получения кредита<br>\n",
    "\n",
    "Количество значений в столбцах days_employed и total_income отличается. Значит, в данных есть пропущенные значения.<br>\n",
    "В столбцах education, education_id, family_status, family_status_id, gender, income_type, debt, purpose - категориальные данные<br>\n",
    "В столбцах days_employed, dob_years, total_income - количественные данные.<br>\n",
    "Столбцы education - education_id и family_status - family_status_id еобходимо вынести в отдельную таблицу.<br>\n",
    "В столбце days_employed некоректные (мусорные) данные. Согласно документации там должны быть целые значения в днях. Учитывая что данные в этом столбце не используются для анализа поставленных целей, запрашивать дополнительную информацию нет необходимости.  В целях данной работы, необходимо изменить тип данных с float64 на int64 и убрать минусы<br>"
   ]
  },
  {
   "cell_type": "markdown",
   "metadata": {},
   "source": [
    "<a id=\"preprocessing\"></a>\n",
    "## Предобработка данных"
   ]
  },
  {
   "cell_type": "markdown",
   "metadata": {},
   "source": [
    "<a id=\"null\"></a>\n",
    "### Обработка пропусков"
   ]
  },
  {
   "cell_type": "markdown",
   "metadata": {},
   "source": [
    "Подсчет нулевых значений в таблице df"
   ]
  },
  {
   "cell_type": "code",
   "execution_count": 450,
   "metadata": {
    "scrolled": true
   },
   "outputs": [
    {
     "data": {
      "text/plain": [
       "children               0\n",
       "days_employed       2174\n",
       "dob_years              0\n",
       "education              0\n",
       "education_id           0\n",
       "family_status          0\n",
       "family_status_id       0\n",
       "gender                 0\n",
       "income_type            0\n",
       "debt                   0\n",
       "total_income        2174\n",
       "purpose                0\n",
       "dtype: int64"
      ]
     },
     "execution_count": 450,
     "metadata": {},
     "output_type": "execute_result"
    }
   ],
   "source": [
    "df.isna().sum()"
   ]
  },
  {
   "cell_type": "markdown",
   "metadata": {},
   "source": [
    "Пропущенные данные найдены в столбцах days_employed и total_income. Данные в этих столбцах - количественного типа.<br> \n",
    "Колличество пропущенных значений в столбцах  - 2174, что составляет более 10% выборки. Удаление строк с нулевыми значениями приведет к сокращению выборки и повлияет на результат исследования.<br>\n",
    "Для замены нулевых значений в столбце days_employed будем использовать среднее значение трудового стажа с учетом группировки по типу занятости (столбец income_type)<br> \n",
    "Для замены нулевых значений в столбце total_income будем использовать медианное значение ежемесячного дохода с учетом группировки по типу занятости (столбец income_type)<br> "
   ]
  },
  {
   "cell_type": "markdown",
   "metadata": {},
   "source": [
    "Определение уникальных значений столбца income_type и их кол-во"
   ]
  },
  {
   "cell_type": "code",
   "execution_count": 451,
   "metadata": {
    "scrolled": false
   },
   "outputs": [
    {
     "data": {
      "text/plain": [
       "сотрудник          11119\n",
       "компаньон           5085\n",
       "пенсионер           3856\n",
       "госслужащий         1459\n",
       "безработный            2\n",
       "предприниматель        2\n",
       "студент                1\n",
       "в декрете              1\n",
       "Name: income_type, dtype: int64"
      ]
     },
     "execution_count": 451,
     "metadata": {},
     "output_type": "execute_result"
    }
   ],
   "source": [
    "df['income_type'].value_counts()"
   ]
  },
  {
   "cell_type": "markdown",
   "metadata": {},
   "source": [
    "Определение количества нулевых значений столбца days_employed агрегированных по столбцу income_type"
   ]
  },
  {
   "cell_type": "code",
   "execution_count": 452,
   "metadata": {
    "scrolled": true
   },
   "outputs": [
    {
     "data": {
      "text/plain": [
       "income_type\n",
       "госслужащий         147\n",
       "компаньон           508\n",
       "пенсионер           413\n",
       "предприниматель       1\n",
       "сотрудник          1105\n",
       "Name: dob_years, dtype: int64"
      ]
     },
     "execution_count": 452,
     "metadata": {},
     "output_type": "execute_result"
    }
   ],
   "source": [
    "df[df['days_employed'].isna()].groupby('income_type')['dob_years'].count()"
   ]
  },
  {
   "cell_type": "markdown",
   "metadata": {},
   "source": [
    "Определение количества нулевых значений столбца days_employed агрегированных по столбцу income_type"
   ]
  },
  {
   "cell_type": "code",
   "execution_count": 453,
   "metadata": {
    "scrolled": true
   },
   "outputs": [
    {
     "data": {
      "text/plain": [
       "income_type\n",
       "госслужащий         147\n",
       "компаньон           508\n",
       "пенсионер           413\n",
       "предприниматель       1\n",
       "сотрудник          1105\n",
       "Name: dob_years, dtype: int64"
      ]
     },
     "execution_count": 453,
     "metadata": {},
     "output_type": "execute_result"
    }
   ],
   "source": [
    "df[df['total_income'].isna()].groupby('income_type')['dob_years'].count()"
   ]
  },
  {
   "cell_type": "markdown",
   "metadata": {},
   "source": [
    "Определение средних значений столбца days_employed агрегированных по столбцу income_type"
   ]
  },
  {
   "cell_type": "code",
   "execution_count": 454,
   "metadata": {},
   "outputs": [
    {
     "data": {
      "text/html": [
       "<div>\n",
       "<style scoped>\n",
       "    .dataframe tbody tr th:only-of-type {\n",
       "        vertical-align: middle;\n",
       "    }\n",
       "\n",
       "    .dataframe tbody tr th {\n",
       "        vertical-align: top;\n",
       "    }\n",
       "\n",
       "    .dataframe thead th {\n",
       "        text-align: right;\n",
       "    }\n",
       "</style>\n",
       "<table border=\"1\" class=\"dataframe\">\n",
       "  <thead>\n",
       "    <tr style=\"text-align: right;\">\n",
       "      <th></th>\n",
       "      <th>days_employed</th>\n",
       "    </tr>\n",
       "    <tr>\n",
       "      <th>income_type</th>\n",
       "      <th></th>\n",
       "    </tr>\n",
       "  </thead>\n",
       "  <tbody>\n",
       "    <tr>\n",
       "      <td>безработный</td>\n",
       "      <td>366413.652744</td>\n",
       "    </tr>\n",
       "    <tr>\n",
       "      <td>в декрете</td>\n",
       "      <td>-3296.759962</td>\n",
       "    </tr>\n",
       "    <tr>\n",
       "      <td>госслужащий</td>\n",
       "      <td>-3399.896902</td>\n",
       "    </tr>\n",
       "    <tr>\n",
       "      <td>компаньон</td>\n",
       "      <td>-2111.524398</td>\n",
       "    </tr>\n",
       "    <tr>\n",
       "      <td>пенсионер</td>\n",
       "      <td>365003.491245</td>\n",
       "    </tr>\n",
       "    <tr>\n",
       "      <td>предприниматель</td>\n",
       "      <td>-520.848083</td>\n",
       "    </tr>\n",
       "    <tr>\n",
       "      <td>сотрудник</td>\n",
       "      <td>-2326.499216</td>\n",
       "    </tr>\n",
       "    <tr>\n",
       "      <td>студент</td>\n",
       "      <td>-578.751554</td>\n",
       "    </tr>\n",
       "  </tbody>\n",
       "</table>\n",
       "</div>"
      ],
      "text/plain": [
       "                 days_employed\n",
       "income_type                   \n",
       "безработный      366413.652744\n",
       "в декрете         -3296.759962\n",
       "госслужащий       -3399.896902\n",
       "компаньон         -2111.524398\n",
       "пенсионер        365003.491245\n",
       "предприниматель    -520.848083\n",
       "сотрудник         -2326.499216\n",
       "студент            -578.751554"
      ]
     },
     "metadata": {},
     "output_type": "display_data"
    }
   ],
   "source": [
    "days_employed_mean = df.groupby('income_type').agg({'days_employed': 'mean'})\n",
    "display(days_employed_mean)"
   ]
  },
  {
   "cell_type": "markdown",
   "metadata": {},
   "source": [
    "Определение медианных значений столбца days_employed агрегированных по столбцу income_type"
   ]
  },
  {
   "cell_type": "code",
   "execution_count": 455,
   "metadata": {},
   "outputs": [
    {
     "data": {
      "text/html": [
       "<div>\n",
       "<style scoped>\n",
       "    .dataframe tbody tr th:only-of-type {\n",
       "        vertical-align: middle;\n",
       "    }\n",
       "\n",
       "    .dataframe tbody tr th {\n",
       "        vertical-align: top;\n",
       "    }\n",
       "\n",
       "    .dataframe thead th {\n",
       "        text-align: right;\n",
       "    }\n",
       "</style>\n",
       "<table border=\"1\" class=\"dataframe\">\n",
       "  <thead>\n",
       "    <tr style=\"text-align: right;\">\n",
       "      <th></th>\n",
       "      <th>total_income</th>\n",
       "    </tr>\n",
       "    <tr>\n",
       "      <th>income_type</th>\n",
       "      <th></th>\n",
       "    </tr>\n",
       "  </thead>\n",
       "  <tbody>\n",
       "    <tr>\n",
       "      <td>безработный</td>\n",
       "      <td>131339.751676</td>\n",
       "    </tr>\n",
       "    <tr>\n",
       "      <td>в декрете</td>\n",
       "      <td>53829.130729</td>\n",
       "    </tr>\n",
       "    <tr>\n",
       "      <td>госслужащий</td>\n",
       "      <td>150447.935283</td>\n",
       "    </tr>\n",
       "    <tr>\n",
       "      <td>компаньон</td>\n",
       "      <td>172357.950966</td>\n",
       "    </tr>\n",
       "    <tr>\n",
       "      <td>пенсионер</td>\n",
       "      <td>118514.486412</td>\n",
       "    </tr>\n",
       "    <tr>\n",
       "      <td>предприниматель</td>\n",
       "      <td>499163.144947</td>\n",
       "    </tr>\n",
       "    <tr>\n",
       "      <td>сотрудник</td>\n",
       "      <td>142594.396847</td>\n",
       "    </tr>\n",
       "    <tr>\n",
       "      <td>студент</td>\n",
       "      <td>98201.625314</td>\n",
       "    </tr>\n",
       "  </tbody>\n",
       "</table>\n",
       "</div>"
      ],
      "text/plain": [
       "                  total_income\n",
       "income_type                   \n",
       "безработный      131339.751676\n",
       "в декрете         53829.130729\n",
       "госслужащий      150447.935283\n",
       "компаньон        172357.950966\n",
       "пенсионер        118514.486412\n",
       "предприниматель  499163.144947\n",
       "сотрудник        142594.396847\n",
       "студент           98201.625314"
      ]
     },
     "metadata": {},
     "output_type": "display_data"
    }
   ],
   "source": [
    "total_income_median = df.groupby('income_type').agg({'total_income': 'median'})\n",
    "display(total_income_median)"
   ]
  },
  {
   "cell_type": "markdown",
   "metadata": {},
   "source": [
    "Замена нулевых значений в столбцах 'days_employed' и 'total_income'"
   ]
  },
  {
   "cell_type": "code",
   "execution_count": 456,
   "metadata": {
    "scrolled": true
   },
   "outputs": [],
   "source": [
    "types = df['income_type'].unique()\n",
    "for value in types:\n",
    "    df.loc[df.loc[:,'income_type'] == value,'days_employed'] =  df.loc[df.loc[:,'income_type'] == value, 'days_employed'].fillna(days_employed_mean.loc[value, 'days_employed'])\n",
    "    df.loc[df.loc[:,'income_type'] == value,'total_income'] =  df.loc[df.loc[:,'income_type'] == value, 'total_income'].fillna(total_income_median.loc[value, 'total_income'])\n",
    "    "
   ]
  },
  {
   "cell_type": "markdown",
   "metadata": {},
   "source": [
    "Проверка удаления нулевых значений в таблице df"
   ]
  },
  {
   "cell_type": "code",
   "execution_count": 457,
   "metadata": {
    "scrolled": true
   },
   "outputs": [
    {
     "data": {
      "text/plain": [
       "children            0\n",
       "days_employed       0\n",
       "dob_years           0\n",
       "education           0\n",
       "education_id        0\n",
       "family_status       0\n",
       "family_status_id    0\n",
       "gender              0\n",
       "income_type         0\n",
       "debt                0\n",
       "total_income        0\n",
       "purpose             0\n",
       "dtype: int64"
      ]
     },
     "execution_count": 457,
     "metadata": {},
     "output_type": "execute_result"
    }
   ],
   "source": [
    "df.isna().sum()                                                                 "
   ]
  },
  {
   "cell_type": "markdown",
   "metadata": {},
   "source": [
    "Проверка удаления нулевых значений в таблице df"
   ]
  },
  {
   "cell_type": "code",
   "execution_count": 458,
   "metadata": {},
   "outputs": [
    {
     "name": "stdout",
     "output_type": "stream",
     "text": [
      "<class 'pandas.core.frame.DataFrame'>\n",
      "RangeIndex: 21525 entries, 0 to 21524\n",
      "Data columns (total 12 columns):\n",
      "children            21525 non-null int64\n",
      "days_employed       21525 non-null float64\n",
      "dob_years           21525 non-null int64\n",
      "education           21525 non-null object\n",
      "education_id        21525 non-null int64\n",
      "family_status       21525 non-null object\n",
      "family_status_id    21525 non-null int64\n",
      "gender              21525 non-null object\n",
      "income_type         21525 non-null object\n",
      "debt                21525 non-null int64\n",
      "total_income        21525 non-null float64\n",
      "purpose             21525 non-null object\n",
      "dtypes: float64(2), int64(5), object(5)\n",
      "memory usage: 2.0+ MB\n"
     ]
    }
   ],
   "source": [
    "df.info()"
   ]
  },
  {
   "cell_type": "code",
   "execution_count": 459,
   "metadata": {},
   "outputs": [
    {
     "data": {
      "text/html": [
       "<div>\n",
       "<style scoped>\n",
       "    .dataframe tbody tr th:only-of-type {\n",
       "        vertical-align: middle;\n",
       "    }\n",
       "\n",
       "    .dataframe tbody tr th {\n",
       "        vertical-align: top;\n",
       "    }\n",
       "\n",
       "    .dataframe thead th {\n",
       "        text-align: right;\n",
       "    }\n",
       "</style>\n",
       "<table border=\"1\" class=\"dataframe\">\n",
       "  <thead>\n",
       "    <tr style=\"text-align: right;\">\n",
       "      <th></th>\n",
       "      <th>children</th>\n",
       "      <th>days_employed</th>\n",
       "      <th>dob_years</th>\n",
       "      <th>education</th>\n",
       "      <th>education_id</th>\n",
       "      <th>family_status</th>\n",
       "      <th>family_status_id</th>\n",
       "      <th>gender</th>\n",
       "      <th>income_type</th>\n",
       "      <th>debt</th>\n",
       "      <th>total_income</th>\n",
       "      <th>purpose</th>\n",
       "    </tr>\n",
       "  </thead>\n",
       "  <tbody>\n",
       "    <tr>\n",
       "      <td>0</td>\n",
       "      <td>1</td>\n",
       "      <td>-8437.673028</td>\n",
       "      <td>42</td>\n",
       "      <td>высшее</td>\n",
       "      <td>0</td>\n",
       "      <td>женат / замужем</td>\n",
       "      <td>0</td>\n",
       "      <td>F</td>\n",
       "      <td>сотрудник</td>\n",
       "      <td>0</td>\n",
       "      <td>253875.639453</td>\n",
       "      <td>покупка жилья</td>\n",
       "    </tr>\n",
       "    <tr>\n",
       "      <td>1</td>\n",
       "      <td>1</td>\n",
       "      <td>-4024.803754</td>\n",
       "      <td>36</td>\n",
       "      <td>среднее</td>\n",
       "      <td>1</td>\n",
       "      <td>женат / замужем</td>\n",
       "      <td>0</td>\n",
       "      <td>F</td>\n",
       "      <td>сотрудник</td>\n",
       "      <td>0</td>\n",
       "      <td>112080.014102</td>\n",
       "      <td>приобретение автомобиля</td>\n",
       "    </tr>\n",
       "    <tr>\n",
       "      <td>2</td>\n",
       "      <td>0</td>\n",
       "      <td>-5623.422610</td>\n",
       "      <td>33</td>\n",
       "      <td>Среднее</td>\n",
       "      <td>1</td>\n",
       "      <td>женат / замужем</td>\n",
       "      <td>0</td>\n",
       "      <td>M</td>\n",
       "      <td>сотрудник</td>\n",
       "      <td>0</td>\n",
       "      <td>145885.952297</td>\n",
       "      <td>покупка жилья</td>\n",
       "    </tr>\n",
       "    <tr>\n",
       "      <td>3</td>\n",
       "      <td>3</td>\n",
       "      <td>-4124.747207</td>\n",
       "      <td>32</td>\n",
       "      <td>среднее</td>\n",
       "      <td>1</td>\n",
       "      <td>женат / замужем</td>\n",
       "      <td>0</td>\n",
       "      <td>M</td>\n",
       "      <td>сотрудник</td>\n",
       "      <td>0</td>\n",
       "      <td>267628.550329</td>\n",
       "      <td>дополнительное образование</td>\n",
       "    </tr>\n",
       "    <tr>\n",
       "      <td>4</td>\n",
       "      <td>0</td>\n",
       "      <td>340266.072047</td>\n",
       "      <td>53</td>\n",
       "      <td>среднее</td>\n",
       "      <td>1</td>\n",
       "      <td>гражданский брак</td>\n",
       "      <td>1</td>\n",
       "      <td>F</td>\n",
       "      <td>пенсионер</td>\n",
       "      <td>0</td>\n",
       "      <td>158616.077870</td>\n",
       "      <td>сыграть свадьбу</td>\n",
       "    </tr>\n",
       "    <tr>\n",
       "      <td>5</td>\n",
       "      <td>0</td>\n",
       "      <td>-926.185831</td>\n",
       "      <td>27</td>\n",
       "      <td>высшее</td>\n",
       "      <td>0</td>\n",
       "      <td>гражданский брак</td>\n",
       "      <td>1</td>\n",
       "      <td>M</td>\n",
       "      <td>компаньон</td>\n",
       "      <td>0</td>\n",
       "      <td>255763.565419</td>\n",
       "      <td>покупка жилья</td>\n",
       "    </tr>\n",
       "    <tr>\n",
       "      <td>6</td>\n",
       "      <td>0</td>\n",
       "      <td>-2879.202052</td>\n",
       "      <td>43</td>\n",
       "      <td>высшее</td>\n",
       "      <td>0</td>\n",
       "      <td>женат / замужем</td>\n",
       "      <td>0</td>\n",
       "      <td>F</td>\n",
       "      <td>компаньон</td>\n",
       "      <td>0</td>\n",
       "      <td>240525.971920</td>\n",
       "      <td>операции с жильем</td>\n",
       "    </tr>\n",
       "    <tr>\n",
       "      <td>7</td>\n",
       "      <td>0</td>\n",
       "      <td>-152.779569</td>\n",
       "      <td>50</td>\n",
       "      <td>СРЕДНЕЕ</td>\n",
       "      <td>1</td>\n",
       "      <td>женат / замужем</td>\n",
       "      <td>0</td>\n",
       "      <td>M</td>\n",
       "      <td>сотрудник</td>\n",
       "      <td>0</td>\n",
       "      <td>135823.934197</td>\n",
       "      <td>образование</td>\n",
       "    </tr>\n",
       "    <tr>\n",
       "      <td>8</td>\n",
       "      <td>2</td>\n",
       "      <td>-6929.865299</td>\n",
       "      <td>35</td>\n",
       "      <td>ВЫСШЕЕ</td>\n",
       "      <td>0</td>\n",
       "      <td>гражданский брак</td>\n",
       "      <td>1</td>\n",
       "      <td>F</td>\n",
       "      <td>сотрудник</td>\n",
       "      <td>0</td>\n",
       "      <td>95856.832424</td>\n",
       "      <td>на проведение свадьбы</td>\n",
       "    </tr>\n",
       "    <tr>\n",
       "      <td>9</td>\n",
       "      <td>0</td>\n",
       "      <td>-2188.756445</td>\n",
       "      <td>41</td>\n",
       "      <td>среднее</td>\n",
       "      <td>1</td>\n",
       "      <td>женат / замужем</td>\n",
       "      <td>0</td>\n",
       "      <td>M</td>\n",
       "      <td>сотрудник</td>\n",
       "      <td>0</td>\n",
       "      <td>144425.938277</td>\n",
       "      <td>покупка жилья для семьи</td>\n",
       "    </tr>\n",
       "  </tbody>\n",
       "</table>\n",
       "</div>"
      ],
      "text/plain": [
       "   children  days_employed  dob_years education  education_id  \\\n",
       "0         1   -8437.673028         42    высшее             0   \n",
       "1         1   -4024.803754         36   среднее             1   \n",
       "2         0   -5623.422610         33   Среднее             1   \n",
       "3         3   -4124.747207         32   среднее             1   \n",
       "4         0  340266.072047         53   среднее             1   \n",
       "5         0    -926.185831         27    высшее             0   \n",
       "6         0   -2879.202052         43    высшее             0   \n",
       "7         0    -152.779569         50   СРЕДНЕЕ             1   \n",
       "8         2   -6929.865299         35    ВЫСШЕЕ             0   \n",
       "9         0   -2188.756445         41   среднее             1   \n",
       "\n",
       "      family_status  family_status_id gender income_type  debt   total_income  \\\n",
       "0   женат / замужем                 0      F   сотрудник     0  253875.639453   \n",
       "1   женат / замужем                 0      F   сотрудник     0  112080.014102   \n",
       "2   женат / замужем                 0      M   сотрудник     0  145885.952297   \n",
       "3   женат / замужем                 0      M   сотрудник     0  267628.550329   \n",
       "4  гражданский брак                 1      F   пенсионер     0  158616.077870   \n",
       "5  гражданский брак                 1      M   компаньон     0  255763.565419   \n",
       "6   женат / замужем                 0      F   компаньон     0  240525.971920   \n",
       "7   женат / замужем                 0      M   сотрудник     0  135823.934197   \n",
       "8  гражданский брак                 1      F   сотрудник     0   95856.832424   \n",
       "9   женат / замужем                 0      M   сотрудник     0  144425.938277   \n",
       "\n",
       "                      purpose  \n",
       "0               покупка жилья  \n",
       "1     приобретение автомобиля  \n",
       "2               покупка жилья  \n",
       "3  дополнительное образование  \n",
       "4             сыграть свадьбу  \n",
       "5               покупка жилья  \n",
       "6           операции с жильем  \n",
       "7                 образование  \n",
       "8       на проведение свадьбы  \n",
       "9     покупка жилья для семьи  "
      ]
     },
     "execution_count": 459,
     "metadata": {},
     "output_type": "execute_result"
    }
   ],
   "source": [
    "df.head(10)"
   ]
  },
  {
   "cell_type": "markdown",
   "metadata": {},
   "source": [
    "**Вывод**"
   ]
  },
  {
   "cell_type": "markdown",
   "metadata": {},
   "source": [
    "Нулевые значения в столбце total_income были заменены медианным значением данного столбца в разрезе типа занятости.<br>\n",
    "Нулевые значения в столбце days_employed были заменены среднеим значением трудового стажа  в разрезе типа занятости(столбец income_type)."
   ]
  },
  {
   "cell_type": "markdown",
   "metadata": {},
   "source": [
    "<a id=\"change\"></a>\n",
    "### Замена типа данных "
   ]
  },
  {
   "cell_type": "code",
   "execution_count": 460,
   "metadata": {},
   "outputs": [
    {
     "data": {
      "text/html": [
       "<div>\n",
       "<style scoped>\n",
       "    .dataframe tbody tr th:only-of-type {\n",
       "        vertical-align: middle;\n",
       "    }\n",
       "\n",
       "    .dataframe tbody tr th {\n",
       "        vertical-align: top;\n",
       "    }\n",
       "\n",
       "    .dataframe thead th {\n",
       "        text-align: right;\n",
       "    }\n",
       "</style>\n",
       "<table border=\"1\" class=\"dataframe\">\n",
       "  <thead>\n",
       "    <tr style=\"text-align: right;\">\n",
       "      <th></th>\n",
       "      <th>count</th>\n",
       "      <th>mean</th>\n",
       "      <th>std</th>\n",
       "      <th>min</th>\n",
       "      <th>25%</th>\n",
       "      <th>50%</th>\n",
       "      <th>75%</th>\n",
       "      <th>max</th>\n",
       "    </tr>\n",
       "  </thead>\n",
       "  <tbody>\n",
       "    <tr>\n",
       "      <td>children</td>\n",
       "      <td>21525.0</td>\n",
       "      <td>0.538908</td>\n",
       "      <td>1.381587</td>\n",
       "      <td>-1.000000</td>\n",
       "      <td>0.000000</td>\n",
       "      <td>0.000000</td>\n",
       "      <td>1.000000</td>\n",
       "      <td>2.000000e+01</td>\n",
       "    </tr>\n",
       "    <tr>\n",
       "      <td>days_employed</td>\n",
       "      <td>21525.0</td>\n",
       "      <td>63489.685315</td>\n",
       "      <td>141168.183775</td>\n",
       "      <td>-18388.949901</td>\n",
       "      <td>-2570.047544</td>\n",
       "      <td>-1355.683356</td>\n",
       "      <td>-316.240646</td>\n",
       "      <td>4.017554e+05</td>\n",
       "    </tr>\n",
       "    <tr>\n",
       "      <td>dob_years</td>\n",
       "      <td>21525.0</td>\n",
       "      <td>43.293380</td>\n",
       "      <td>12.574584</td>\n",
       "      <td>0.000000</td>\n",
       "      <td>33.000000</td>\n",
       "      <td>42.000000</td>\n",
       "      <td>53.000000</td>\n",
       "      <td>7.500000e+01</td>\n",
       "    </tr>\n",
       "    <tr>\n",
       "      <td>education_id</td>\n",
       "      <td>21525.0</td>\n",
       "      <td>0.817236</td>\n",
       "      <td>0.548138</td>\n",
       "      <td>0.000000</td>\n",
       "      <td>1.000000</td>\n",
       "      <td>1.000000</td>\n",
       "      <td>1.000000</td>\n",
       "      <td>4.000000e+00</td>\n",
       "    </tr>\n",
       "    <tr>\n",
       "      <td>family_status_id</td>\n",
       "      <td>21525.0</td>\n",
       "      <td>0.972544</td>\n",
       "      <td>1.420324</td>\n",
       "      <td>0.000000</td>\n",
       "      <td>0.000000</td>\n",
       "      <td>0.000000</td>\n",
       "      <td>1.000000</td>\n",
       "      <td>4.000000e+00</td>\n",
       "    </tr>\n",
       "    <tr>\n",
       "      <td>debt</td>\n",
       "      <td>21525.0</td>\n",
       "      <td>0.080883</td>\n",
       "      <td>0.272661</td>\n",
       "      <td>0.000000</td>\n",
       "      <td>0.000000</td>\n",
       "      <td>0.000000</td>\n",
       "      <td>0.000000</td>\n",
       "      <td>1.000000e+00</td>\n",
       "    </tr>\n",
       "    <tr>\n",
       "      <td>total_income</td>\n",
       "      <td>21525.0</td>\n",
       "      <td>165225.324514</td>\n",
       "      <td>98043.665491</td>\n",
       "      <td>20667.263793</td>\n",
       "      <td>107798.172619</td>\n",
       "      <td>142594.396847</td>\n",
       "      <td>195549.940861</td>\n",
       "      <td>2.265604e+06</td>\n",
       "    </tr>\n",
       "  </tbody>\n",
       "</table>\n",
       "</div>"
      ],
      "text/plain": [
       "                    count           mean            std           min  \\\n",
       "children          21525.0       0.538908       1.381587     -1.000000   \n",
       "days_employed     21525.0   63489.685315  141168.183775 -18388.949901   \n",
       "dob_years         21525.0      43.293380      12.574584      0.000000   \n",
       "education_id      21525.0       0.817236       0.548138      0.000000   \n",
       "family_status_id  21525.0       0.972544       1.420324      0.000000   \n",
       "debt              21525.0       0.080883       0.272661      0.000000   \n",
       "total_income      21525.0  165225.324514   98043.665491  20667.263793   \n",
       "\n",
       "                            25%            50%            75%           max  \n",
       "children               0.000000       0.000000       1.000000  2.000000e+01  \n",
       "days_employed      -2570.047544   -1355.683356    -316.240646  4.017554e+05  \n",
       "dob_years             33.000000      42.000000      53.000000  7.500000e+01  \n",
       "education_id           1.000000       1.000000       1.000000  4.000000e+00  \n",
       "family_status_id       0.000000       0.000000       1.000000  4.000000e+00  \n",
       "debt                   0.000000       0.000000       0.000000  1.000000e+00  \n",
       "total_income      107798.172619  142594.396847  195549.940861  2.265604e+06  "
      ]
     },
     "execution_count": 460,
     "metadata": {},
     "output_type": "execute_result"
    }
   ],
   "source": [
    "df.describe().T"
   ]
  },
  {
   "cell_type": "markdown",
   "metadata": {},
   "source": [
    "Замена типа данных в столбцах:<br>\n",
    "Исходя из max и min значений заменим типы данных в столбцах на следующие:\n",
    "- 'days_employed' c float64 на int32\n",
    "- 'children', 'dob_years', 'education_id', 'family_status_id' с int 32 на int8"
   ]
  },
  {
   "cell_type": "code",
   "execution_count": 461,
   "metadata": {},
   "outputs": [],
   "source": [
    "df['days_employed'] = df['days_employed'].astype('int32')"
   ]
  },
  {
   "cell_type": "code",
   "execution_count": 462,
   "metadata": {
    "scrolled": true
   },
   "outputs": [
    {
     "data": {
      "text/html": [
       "<div>\n",
       "<style scoped>\n",
       "    .dataframe tbody tr th:only-of-type {\n",
       "        vertical-align: middle;\n",
       "    }\n",
       "\n",
       "    .dataframe tbody tr th {\n",
       "        vertical-align: top;\n",
       "    }\n",
       "\n",
       "    .dataframe thead th {\n",
       "        text-align: right;\n",
       "    }\n",
       "</style>\n",
       "<table border=\"1\" class=\"dataframe\">\n",
       "  <thead>\n",
       "    <tr style=\"text-align: right;\">\n",
       "      <th></th>\n",
       "      <th>count</th>\n",
       "      <th>mean</th>\n",
       "      <th>std</th>\n",
       "      <th>min</th>\n",
       "      <th>25%</th>\n",
       "      <th>50%</th>\n",
       "      <th>75%</th>\n",
       "      <th>max</th>\n",
       "    </tr>\n",
       "  </thead>\n",
       "  <tbody>\n",
       "    <tr>\n",
       "      <td>children</td>\n",
       "      <td>21525.0</td>\n",
       "      <td>0.538908</td>\n",
       "      <td>1.381587</td>\n",
       "      <td>-1.000000</td>\n",
       "      <td>0.000000</td>\n",
       "      <td>0.000000</td>\n",
       "      <td>1.000000</td>\n",
       "      <td>2.000000e+01</td>\n",
       "    </tr>\n",
       "    <tr>\n",
       "      <td>days_employed</td>\n",
       "      <td>21525.0</td>\n",
       "      <td>63490.008688</td>\n",
       "      <td>141167.799840</td>\n",
       "      <td>-18388.000000</td>\n",
       "      <td>-2570.000000</td>\n",
       "      <td>-1355.000000</td>\n",
       "      <td>-316.000000</td>\n",
       "      <td>4.017550e+05</td>\n",
       "    </tr>\n",
       "    <tr>\n",
       "      <td>dob_years</td>\n",
       "      <td>21525.0</td>\n",
       "      <td>43.293380</td>\n",
       "      <td>12.574584</td>\n",
       "      <td>0.000000</td>\n",
       "      <td>33.000000</td>\n",
       "      <td>42.000000</td>\n",
       "      <td>53.000000</td>\n",
       "      <td>7.500000e+01</td>\n",
       "    </tr>\n",
       "    <tr>\n",
       "      <td>education_id</td>\n",
       "      <td>21525.0</td>\n",
       "      <td>0.817236</td>\n",
       "      <td>0.548138</td>\n",
       "      <td>0.000000</td>\n",
       "      <td>1.000000</td>\n",
       "      <td>1.000000</td>\n",
       "      <td>1.000000</td>\n",
       "      <td>4.000000e+00</td>\n",
       "    </tr>\n",
       "    <tr>\n",
       "      <td>family_status_id</td>\n",
       "      <td>21525.0</td>\n",
       "      <td>0.972544</td>\n",
       "      <td>1.420324</td>\n",
       "      <td>0.000000</td>\n",
       "      <td>0.000000</td>\n",
       "      <td>0.000000</td>\n",
       "      <td>1.000000</td>\n",
       "      <td>4.000000e+00</td>\n",
       "    </tr>\n",
       "    <tr>\n",
       "      <td>debt</td>\n",
       "      <td>21525.0</td>\n",
       "      <td>0.080883</td>\n",
       "      <td>0.272661</td>\n",
       "      <td>0.000000</td>\n",
       "      <td>0.000000</td>\n",
       "      <td>0.000000</td>\n",
       "      <td>0.000000</td>\n",
       "      <td>1.000000e+00</td>\n",
       "    </tr>\n",
       "    <tr>\n",
       "      <td>total_income</td>\n",
       "      <td>21525.0</td>\n",
       "      <td>165225.324514</td>\n",
       "      <td>98043.665491</td>\n",
       "      <td>20667.263793</td>\n",
       "      <td>107798.172619</td>\n",
       "      <td>142594.396847</td>\n",
       "      <td>195549.940861</td>\n",
       "      <td>2.265604e+06</td>\n",
       "    </tr>\n",
       "  </tbody>\n",
       "</table>\n",
       "</div>"
      ],
      "text/plain": [
       "                    count           mean            std           min  \\\n",
       "children          21525.0       0.538908       1.381587     -1.000000   \n",
       "days_employed     21525.0   63490.008688  141167.799840 -18388.000000   \n",
       "dob_years         21525.0      43.293380      12.574584      0.000000   \n",
       "education_id      21525.0       0.817236       0.548138      0.000000   \n",
       "family_status_id  21525.0       0.972544       1.420324      0.000000   \n",
       "debt              21525.0       0.080883       0.272661      0.000000   \n",
       "total_income      21525.0  165225.324514   98043.665491  20667.263793   \n",
       "\n",
       "                            25%            50%            75%           max  \n",
       "children               0.000000       0.000000       1.000000  2.000000e+01  \n",
       "days_employed      -2570.000000   -1355.000000    -316.000000  4.017550e+05  \n",
       "dob_years             33.000000      42.000000      53.000000  7.500000e+01  \n",
       "education_id           1.000000       1.000000       1.000000  4.000000e+00  \n",
       "family_status_id       0.000000       0.000000       1.000000  4.000000e+00  \n",
       "debt                   0.000000       0.000000       0.000000  1.000000e+00  \n",
       "total_income      107798.172619  142594.396847  195549.940861  2.265604e+06  "
      ]
     },
     "execution_count": 462,
     "metadata": {},
     "output_type": "execute_result"
    }
   ],
   "source": [
    "df.describe().T"
   ]
  },
  {
   "cell_type": "code",
   "execution_count": 463,
   "metadata": {},
   "outputs": [],
   "source": [
    "df[['children', 'dob_years', 'education_id', 'family_status_id']] = df[['children', 'dob_years', 'education_id', 'family_status_id']].astype('int8')"
   ]
  },
  {
   "cell_type": "code",
   "execution_count": 464,
   "metadata": {
    "scrolled": true
   },
   "outputs": [
    {
     "name": "stdout",
     "output_type": "stream",
     "text": [
      "<class 'pandas.core.frame.DataFrame'>\n",
      "RangeIndex: 21525 entries, 0 to 21524\n",
      "Data columns (total 12 columns):\n",
      "children            21525 non-null int8\n",
      "days_employed       21525 non-null int32\n",
      "dob_years           21525 non-null int8\n",
      "education           21525 non-null object\n",
      "education_id        21525 non-null int8\n",
      "family_status       21525 non-null object\n",
      "family_status_id    21525 non-null int8\n",
      "gender              21525 non-null object\n",
      "income_type         21525 non-null object\n",
      "debt                21525 non-null int64\n",
      "total_income        21525 non-null float64\n",
      "purpose             21525 non-null object\n",
      "dtypes: float64(1), int32(1), int64(1), int8(4), object(5)\n",
      "memory usage: 1.3+ MB\n"
     ]
    }
   ],
   "source": [
    "df.info()"
   ]
  },
  {
   "cell_type": "markdown",
   "metadata": {},
   "source": [
    "Приведение к абсолютным значениям данных в столбце 'days_employed'"
   ]
  },
  {
   "cell_type": "code",
   "execution_count": 465,
   "metadata": {
    "scrolled": true
   },
   "outputs": [],
   "source": [
    "df['days_employed'] = df['days_employed'].abs()"
   ]
  },
  {
   "cell_type": "markdown",
   "metadata": {},
   "source": [
    "**Вывод**"
   ]
  },
  {
   "cell_type": "markdown",
   "metadata": {},
   "source": [
    "Типы данных в столбцах на следующие:\n",
    "- 'days_employed' c float64 на int32\n",
    "- 'children', 'dob_years', 'education_id', 'family_status_id' с int 32 на int8"
   ]
  },
  {
   "cell_type": "markdown",
   "metadata": {},
   "source": [
    "<a id=\"duplicates\"></a>\n",
    "### Обработка дубликатов"
   ]
  },
  {
   "cell_type": "markdown",
   "metadata": {},
   "source": [
    "Обработку дубликатов будем проводить в 2 этапа:\n",
    "1. Поиск явных дубликатов\n",
    "2. Поиск неявных дубликатов"
   ]
  },
  {
   "cell_type": "markdown",
   "metadata": {},
   "source": [
    "#### Поиск явных дубликатов"
   ]
  },
  {
   "cell_type": "markdown",
   "metadata": {},
   "source": [
    "Подсчет явных дубликатов"
   ]
  },
  {
   "cell_type": "code",
   "execution_count": 466,
   "metadata": {},
   "outputs": [
    {
     "data": {
      "text/plain": [
       "54"
      ]
     },
     "execution_count": 466,
     "metadata": {},
     "output_type": "execute_result"
    }
   ],
   "source": [
    "df.duplicated().sum()"
   ]
  },
  {
   "cell_type": "markdown",
   "metadata": {},
   "source": [
    "Удаление явных дубликатов"
   ]
  },
  {
   "cell_type": "code",
   "execution_count": 467,
   "metadata": {
    "scrolled": true
   },
   "outputs": [],
   "source": [
    "df = df.drop_duplicates().reset_index(drop=True)"
   ]
  },
  {
   "cell_type": "markdown",
   "metadata": {},
   "source": [
    "Проверка удаления явных дубликатов"
   ]
  },
  {
   "cell_type": "code",
   "execution_count": 468,
   "metadata": {},
   "outputs": [
    {
     "data": {
      "text/plain": [
       "0"
      ]
     },
     "execution_count": 468,
     "metadata": {},
     "output_type": "execute_result"
    }
   ],
   "source": [
    "# Проверка удаления явных дубликатов\n",
    "df.duplicated().sum()"
   ]
  },
  {
   "cell_type": "markdown",
   "metadata": {},
   "source": [
    "####  Поиск неявных дубликатов"
   ]
  },
  {
   "cell_type": "markdown",
   "metadata": {},
   "source": [
    "При выводе 10 строк таблицы df видно что в столбце education есть неявные дубликаты. Исправим их."
   ]
  },
  {
   "cell_type": "markdown",
   "metadata": {},
   "source": [
    "**Проверка столбца столбца education**"
   ]
  },
  {
   "cell_type": "code",
   "execution_count": 469,
   "metadata": {
    "scrolled": false
   },
   "outputs": [
    {
     "data": {
      "text/plain": [
       "array(['высшее', 'среднее', 'Среднее', 'СРЕДНЕЕ', 'ВЫСШЕЕ',\n",
       "       'неоконченное высшее', 'начальное', 'Высшее',\n",
       "       'НЕОКОНЧЕННОЕ ВЫСШЕЕ', 'Неоконченное высшее', 'НАЧАЛЬНОЕ',\n",
       "       'Начальное', 'Ученая степень', 'УЧЕНАЯ СТЕПЕНЬ', 'ученая степень'],\n",
       "      dtype=object)"
      ]
     },
     "execution_count": 469,
     "metadata": {},
     "output_type": "execute_result"
    }
   ],
   "source": [
    "df['education'].unique()"
   ]
  },
  {
   "cell_type": "markdown",
   "metadata": {},
   "source": [
    "Приведение всех значений к нижнему регистру"
   ]
  },
  {
   "cell_type": "code",
   "execution_count": 470,
   "metadata": {},
   "outputs": [],
   "source": [
    "df['education'] = df['education'].str.lower()"
   ]
  },
  {
   "cell_type": "markdown",
   "metadata": {},
   "source": [
    "вывод уникальных значений столбца education"
   ]
  },
  {
   "cell_type": "code",
   "execution_count": 471,
   "metadata": {},
   "outputs": [
    {
     "data": {
      "text/plain": [
       "array(['высшее', 'среднее', 'неоконченное высшее', 'начальное',\n",
       "       'ученая степень'], dtype=object)"
      ]
     },
     "execution_count": 471,
     "metadata": {},
     "output_type": "execute_result"
    }
   ],
   "source": [
    "df['education'].unique()"
   ]
  },
  {
   "cell_type": "markdown",
   "metadata": {},
   "source": [
    "**Проверка столбца family_status**"
   ]
  },
  {
   "cell_type": "code",
   "execution_count": 472,
   "metadata": {
    "scrolled": true
   },
   "outputs": [
    {
     "data": {
      "text/plain": [
       "array(['женат / замужем', 'гражданский брак', 'вдовец / вдова',\n",
       "       'в разводе', 'Не женат / не замужем'], dtype=object)"
      ]
     },
     "execution_count": 472,
     "metadata": {},
     "output_type": "execute_result"
    }
   ],
   "source": [
    "\n",
    "df['family_status'].unique()"
   ]
  },
  {
   "cell_type": "markdown",
   "metadata": {},
   "source": [
    "Приведение всех значений к нижнему регистру"
   ]
  },
  {
   "cell_type": "code",
   "execution_count": 474,
   "metadata": {},
   "outputs": [],
   "source": [
    "df['family_status'] = df['family_status'].str.lower()"
   ]
  },
  {
   "cell_type": "code",
   "execution_count": 475,
   "metadata": {},
   "outputs": [
    {
     "data": {
      "text/plain": [
       "array(['женат / замужем', 'гражданский брак', 'вдовец / вдова',\n",
       "       'в разводе', 'не женат / не замужем'], dtype=object)"
      ]
     },
     "execution_count": 475,
     "metadata": {},
     "output_type": "execute_result"
    }
   ],
   "source": [
    "df['family_status'].unique()"
   ]
  },
  {
   "cell_type": "markdown",
   "metadata": {},
   "source": [
    "**Проверка столбца income_type**"
   ]
  },
  {
   "cell_type": "code",
   "execution_count": 476,
   "metadata": {},
   "outputs": [
    {
     "data": {
      "text/plain": [
       "array(['сотрудник', 'пенсионер', 'компаньон', 'госслужащий',\n",
       "       'безработный', 'предприниматель', 'студент', 'в декрете'],\n",
       "      dtype=object)"
      ]
     },
     "execution_count": 476,
     "metadata": {},
     "output_type": "execute_result"
    }
   ],
   "source": [
    "df['income_type'].unique()"
   ]
  },
  {
   "cell_type": "markdown",
   "metadata": {},
   "source": [
    "**Проверка столбца income_type**\n"
   ]
  },
  {
   "cell_type": "code",
   "execution_count": 477,
   "metadata": {
    "scrolled": true
   },
   "outputs": [
    {
     "data": {
      "text/plain": [
       "array(['покупка жилья', 'приобретение автомобиля',\n",
       "       'дополнительное образование', 'сыграть свадьбу',\n",
       "       'операции с жильем', 'образование', 'на проведение свадьбы',\n",
       "       'покупка жилья для семьи', 'покупка недвижимости',\n",
       "       'покупка коммерческой недвижимости', 'покупка жилой недвижимости',\n",
       "       'строительство собственной недвижимости', 'недвижимость',\n",
       "       'строительство недвижимости', 'на покупку подержанного автомобиля',\n",
       "       'на покупку своего автомобиля',\n",
       "       'операции с коммерческой недвижимостью',\n",
       "       'строительство жилой недвижимости', 'жилье',\n",
       "       'операции со своей недвижимостью', 'автомобили',\n",
       "       'заняться образованием', 'сделка с подержанным автомобилем',\n",
       "       'получение образования', 'автомобиль', 'свадьба',\n",
       "       'получение дополнительного образования', 'покупка своего жилья',\n",
       "       'операции с недвижимостью', 'получение высшего образования',\n",
       "       'свой автомобиль', 'сделка с автомобилем',\n",
       "       'профильное образование', 'высшее образование',\n",
       "       'покупка жилья для сдачи', 'на покупку автомобиля', 'ремонт жилью',\n",
       "       'заняться высшим образованием'], dtype=object)"
      ]
     },
     "execution_count": 477,
     "metadata": {},
     "output_type": "execute_result"
    }
   ],
   "source": [
    "df['purpose'].unique()"
   ]
  },
  {
   "cell_type": "markdown",
   "metadata": {},
   "source": [
    "**Подсчет дубликатов после форматирования данных**"
   ]
  },
  {
   "cell_type": "code",
   "execution_count": 478,
   "metadata": {},
   "outputs": [
    {
     "data": {
      "text/plain": [
       "17"
      ]
     },
     "execution_count": 478,
     "metadata": {},
     "output_type": "execute_result"
    }
   ],
   "source": [
    "df.duplicated().sum()"
   ]
  },
  {
   "cell_type": "markdown",
   "metadata": {},
   "source": [
    "**Удаление явных дубликатов после форматирования данных**"
   ]
  },
  {
   "cell_type": "code",
   "execution_count": 479,
   "metadata": {},
   "outputs": [],
   "source": [
    "df = df.drop_duplicates().reset_index(drop=True)"
   ]
  },
  {
   "cell_type": "code",
   "execution_count": 480,
   "metadata": {},
   "outputs": [
    {
     "data": {
      "text/plain": [
       "0"
      ]
     },
     "execution_count": 480,
     "metadata": {},
     "output_type": "execute_result"
    }
   ],
   "source": [
    "df.duplicated().sum()"
   ]
  },
  {
   "cell_type": "markdown",
   "metadata": {},
   "source": [
    "**В целях оптимизации вынесем столбцы education - education_id и family_status - family_status_id в отдельны датафреймы, оставив education_id и family_status_id**"
   ]
  },
  {
   "cell_type": "code",
   "execution_count": 481,
   "metadata": {},
   "outputs": [],
   "source": [
    "family_status = df[['family_status_id','family_status']].drop_duplicates().reset_index(drop = True)"
   ]
  },
  {
   "cell_type": "code",
   "execution_count": 482,
   "metadata": {},
   "outputs": [],
   "source": [
    "education = df[['education_id','education']].drop_duplicates().reset_index(drop = True)"
   ]
  },
  {
   "cell_type": "code",
   "execution_count": 483,
   "metadata": {
    "scrolled": true
   },
   "outputs": [
    {
     "data": {
      "text/html": [
       "<div>\n",
       "<style scoped>\n",
       "    .dataframe tbody tr th:only-of-type {\n",
       "        vertical-align: middle;\n",
       "    }\n",
       "\n",
       "    .dataframe tbody tr th {\n",
       "        vertical-align: top;\n",
       "    }\n",
       "\n",
       "    .dataframe thead th {\n",
       "        text-align: right;\n",
       "    }\n",
       "</style>\n",
       "<table border=\"1\" class=\"dataframe\">\n",
       "  <thead>\n",
       "    <tr style=\"text-align: right;\">\n",
       "      <th></th>\n",
       "      <th>family_status_id</th>\n",
       "      <th>family_status</th>\n",
       "    </tr>\n",
       "  </thead>\n",
       "  <tbody>\n",
       "    <tr>\n",
       "      <td>0</td>\n",
       "      <td>0</td>\n",
       "      <td>женат / замужем</td>\n",
       "    </tr>\n",
       "    <tr>\n",
       "      <td>1</td>\n",
       "      <td>1</td>\n",
       "      <td>гражданский брак</td>\n",
       "    </tr>\n",
       "    <tr>\n",
       "      <td>2</td>\n",
       "      <td>2</td>\n",
       "      <td>вдовец / вдова</td>\n",
       "    </tr>\n",
       "    <tr>\n",
       "      <td>3</td>\n",
       "      <td>3</td>\n",
       "      <td>в разводе</td>\n",
       "    </tr>\n",
       "    <tr>\n",
       "      <td>4</td>\n",
       "      <td>4</td>\n",
       "      <td>не женат / не замужем</td>\n",
       "    </tr>\n",
       "  </tbody>\n",
       "</table>\n",
       "</div>"
      ],
      "text/plain": [
       "   family_status_id          family_status\n",
       "0                 0        женат / замужем\n",
       "1                 1       гражданский брак\n",
       "2                 2         вдовец / вдова\n",
       "3                 3              в разводе\n",
       "4                 4  не женат / не замужем"
      ]
     },
     "execution_count": 483,
     "metadata": {},
     "output_type": "execute_result"
    }
   ],
   "source": [
    "family_status"
   ]
  },
  {
   "cell_type": "code",
   "execution_count": 484,
   "metadata": {
    "scrolled": true
   },
   "outputs": [
    {
     "data": {
      "text/html": [
       "<div>\n",
       "<style scoped>\n",
       "    .dataframe tbody tr th:only-of-type {\n",
       "        vertical-align: middle;\n",
       "    }\n",
       "\n",
       "    .dataframe tbody tr th {\n",
       "        vertical-align: top;\n",
       "    }\n",
       "\n",
       "    .dataframe thead th {\n",
       "        text-align: right;\n",
       "    }\n",
       "</style>\n",
       "<table border=\"1\" class=\"dataframe\">\n",
       "  <thead>\n",
       "    <tr style=\"text-align: right;\">\n",
       "      <th></th>\n",
       "      <th>education_id</th>\n",
       "      <th>education</th>\n",
       "    </tr>\n",
       "  </thead>\n",
       "  <tbody>\n",
       "    <tr>\n",
       "      <td>0</td>\n",
       "      <td>0</td>\n",
       "      <td>высшее</td>\n",
       "    </tr>\n",
       "    <tr>\n",
       "      <td>1</td>\n",
       "      <td>1</td>\n",
       "      <td>среднее</td>\n",
       "    </tr>\n",
       "    <tr>\n",
       "      <td>2</td>\n",
       "      <td>2</td>\n",
       "      <td>неоконченное высшее</td>\n",
       "    </tr>\n",
       "    <tr>\n",
       "      <td>3</td>\n",
       "      <td>3</td>\n",
       "      <td>начальное</td>\n",
       "    </tr>\n",
       "    <tr>\n",
       "      <td>4</td>\n",
       "      <td>4</td>\n",
       "      <td>ученая степень</td>\n",
       "    </tr>\n",
       "  </tbody>\n",
       "</table>\n",
       "</div>"
      ],
      "text/plain": [
       "   education_id            education\n",
       "0             0               высшее\n",
       "1             1              среднее\n",
       "2             2  неоконченное высшее\n",
       "3             3            начальное\n",
       "4             4       ученая степень"
      ]
     },
     "execution_count": 484,
     "metadata": {},
     "output_type": "execute_result"
    }
   ],
   "source": [
    "education"
   ]
  },
  {
   "cell_type": "markdown",
   "metadata": {},
   "source": [
    "**Удалим столбцы education и family_status_id из таблицы df**"
   ]
  },
  {
   "cell_type": "code",
   "execution_count": 485,
   "metadata": {},
   "outputs": [],
   "source": [
    "df = df.drop(columns=['family_status', 'education'])"
   ]
  },
  {
   "cell_type": "code",
   "execution_count": 486,
   "metadata": {},
   "outputs": [
    {
     "name": "stdout",
     "output_type": "stream",
     "text": [
      "<class 'pandas.core.frame.DataFrame'>\n",
      "RangeIndex: 21454 entries, 0 to 21453\n",
      "Data columns (total 10 columns):\n",
      "children            21454 non-null int8\n",
      "days_employed       21454 non-null int32\n",
      "dob_years           21454 non-null int8\n",
      "education_id        21454 non-null int8\n",
      "family_status_id    21454 non-null int8\n",
      "gender              21454 non-null object\n",
      "income_type         21454 non-null object\n",
      "debt                21454 non-null int64\n",
      "total_income        21454 non-null float64\n",
      "purpose             21454 non-null object\n",
      "dtypes: float64(1), int32(1), int64(1), int8(4), object(3)\n",
      "memory usage: 1005.8+ KB\n"
     ]
    }
   ],
   "source": [
    "df.info()"
   ]
  },
  {
   "cell_type": "markdown",
   "metadata": {},
   "source": [
    "**Вывод**"
   ]
  },
  {
   "cell_type": "markdown",
   "metadata": {},
   "source": [
    "Поиском явных дубликатов было обнаружено и удалено 54 дубликата,<br>\n",
    "После обработки неявных дубликатов было обнаружено и удалено еще 17 дубликатов.<br>\n",
    "Возможные причины возникновения дубликатов:\n",
    "- техническая ошибка при формировании данных\n",
    "- совпадение данных у разных клиентов, но тк уникальных id датафрейм несодержит, считаем что то техническая ошибка. "
   ]
  },
  {
   "cell_type": "markdown",
   "metadata": {},
   "source": [
    "В целях птимизации таблицы, вынесем столбцы family_status и education в отдельные датафреймы"
   ]
  },
  {
   "cell_type": "markdown",
   "metadata": {},
   "source": [
    "### Лемматизация <a id=\"lemma\"></a>"
   ]
  },
  {
   "cell_type": "markdown",
   "metadata": {},
   "source": [
    "В меющемся датафрейме лемматизацию целесообразно проводить только со столбцом purpose"
   ]
  },
  {
   "cell_type": "code",
   "execution_count": 487,
   "metadata": {},
   "outputs": [],
   "source": [
    "# Добавление к датафрейму дополнительного столбца, лемматизация столбца purpose\n",
    "df['lemmas'] = df['purpose'].apply(m.lemmatize)"
   ]
  },
  {
   "cell_type": "code",
   "execution_count": 488,
   "metadata": {},
   "outputs": [],
   "source": [
    "# Добавление к датафрейму дополнительного столбца, counter\n",
    "df['lemmas_counter'] = df['lemmas'].apply(Counter)"
   ]
  },
  {
   "cell_type": "code",
   "execution_count": 489,
   "metadata": {
    "scrolled": false
   },
   "outputs": [
    {
     "data": {
      "text/plain": [
       "{'автомобиль': 1, '\n",
       "': 1}                                                        972\n",
       "{'свадьба': 1, '\n",
       "': 1}                                                           791\n",
       "{'на': 1, ' ': 2, 'проведение': 1, 'свадьба': 1, '\n",
       "': 1}                         768\n",
       "{'сыграть': 1, ' ': 1, 'свадьба': 1, '\n",
       "': 1}                                     765\n",
       "{'операция': 1, ' ': 2, 'с': 1, 'недвижимость': 1, '\n",
       "': 1}                       675\n",
       "{'покупка': 1, ' ': 2, 'коммерческий': 1, 'недвижимость': 1, '\n",
       "': 1}             661\n",
       "{'операция': 1, ' ': 2, 'с': 1, 'жилье': 1, '\n",
       "': 1}                              652\n",
       "{'покупка': 1, ' ': 3, 'жилье': 1, 'для': 1, 'сдача': 1, '\n",
       "': 1}                 651\n",
       "{'операция': 1, ' ': 3, 'с': 1, 'коммерческий': 1, 'недвижимость': 1, '\n",
       "': 1}    650\n",
       "{'покупка': 1, ' ': 1, 'жилье': 1, '\n",
       "': 1}                                       646\n",
       "{'жилье': 1, '\n",
       "': 1}                                                             646\n",
       "{'покупка': 1, ' ': 3, 'жилье': 1, 'для': 1, 'семья': 1, '\n",
       "': 1}                 638\n",
       "{'строительство': 1, ' ': 2, 'собственный': 1, 'недвижимость': 1, '\n",
       "': 1}        635\n",
       "{'недвижимость': 1, '\n",
       "': 1}                                                      633\n",
       "{'операция': 1, ' ': 3, 'со': 1, 'свой': 1, 'недвижимость': 1, '\n",
       "': 1}           627\n",
       "{'строительство': 1, ' ': 2, 'жилой': 1, 'недвижимость': 1, '\n",
       "': 1}              624\n",
       "{'покупка': 1, ' ': 1, 'недвижимость': 1, '\n",
       "': 1}                                621\n",
       "{'покупка': 1, ' ': 2, 'свой': 1, 'жилье': 1, '\n",
       "': 1}                            620\n",
       "{'строительство': 1, ' ': 1, 'недвижимость': 1, '\n",
       "': 1}                          619\n",
       "{'ремонт': 1, ' ': 1, 'жилье': 1, '\n",
       "': 1}                                        607\n",
       "{'покупка': 1, ' ': 2, 'жилой': 1, 'недвижимость': 1, '\n",
       "': 1}                    606\n",
       "{'на': 1, ' ': 3, 'покупка': 1, 'свой': 1, 'автомобиль': 1, '\n",
       "': 1}              505\n",
       "{'заниматься': 1, ' ': 2, 'высокий': 1, 'образование': 1, '\n",
       "': 1}                496\n",
       "{'сделка': 1, ' ': 3, 'с': 1, 'подержанный': 1, 'автомобиль': 1, '\n",
       "': 1}         486\n",
       "{'свой': 1, ' ': 1, 'автомобиль': 1, '\n",
       "': 1}                                     478\n",
       "{'на': 1, ' ': 3, 'покупка': 1, 'подержать': 1, 'автомобиль': 1, '\n",
       "': 1}         478\n",
       "{'на': 1, ' ': 2, 'покупка': 1, 'автомобиль': 1, '\n",
       "': 1}                         471\n",
       "{'приобретение': 1, ' ': 1, 'автомобиль': 1, '\n",
       "': 1}                             461\n",
       "{'дополнительный': 1, ' ': 1, 'образование': 1, '\n",
       "': 1}                          460\n",
       "{'сделка': 1, ' ': 2, 'с': 1, 'автомобиль': 1, '\n",
       "': 1}                           455\n",
       "{'высокий': 1, ' ': 1, 'образование': 1, '\n",
       "': 1}                                 452\n",
       "{'образование': 1, '\n",
       "': 1}                                                       447\n",
       "{'получение': 1, ' ': 2, 'дополнительный': 1, 'образование': 1, '\n",
       "': 1}          446\n",
       "{'получение': 1, ' ': 1, 'образование': 1, '\n",
       "': 1}                               442\n",
       "{'профильный': 1, ' ': 1, 'образование': 1, '\n",
       "': 1}                              436\n",
       "{'получение': 1, ' ': 2, 'высокий': 1, 'образование': 1, '\n",
       "': 1}                 426\n",
       "{'заниматься': 1, ' ': 1, 'образование': 1, '\n",
       "': 1}                              408\n",
       "Name: lemmas_counter, dtype: int64"
      ]
     },
     "execution_count": 489,
     "metadata": {},
     "output_type": "execute_result"
    }
   ],
   "source": [
    "# Вывод уникальных значений counter\n",
    "df['lemmas_counter'].value_counts()"
   ]
  },
  {
   "cell_type": "markdown",
   "metadata": {},
   "source": [
    "**Вывод**"
   ]
  },
  {
   "cell_type": "markdown",
   "metadata": {},
   "source": [
    "Лемитизация выполнена, основные слова: жилье, недвижимость, автомобиль, образование, свдьба"
   ]
  },
  {
   "cell_type": "markdown",
   "metadata": {},
   "source": [
    "### Категоризация данных <a id=\"category\"></a>"
   ]
  },
  {
   "cell_type": "markdown",
   "metadata": {},
   "source": [
    "#### Категоризация данных в столбце children"
   ]
  },
  {
   "cell_type": "markdown",
   "metadata": {},
   "source": [
    "Для ответа на вопрос \"Есть ли зависимость между семейным положением и возвратом кредита в срок?\" категоризуем данные в столбце  children по принципу:\n",
    "- 0 детей - бездетные\n",
    "- от 1 до 2-х детей - с детьми\n",
    "- от 3-х детей - многодетные"
   ]
  },
  {
   "cell_type": "code",
   "execution_count": 490,
   "metadata": {},
   "outputs": [
    {
     "data": {
      "text/plain": [
       " 0     14091\n",
       " 1      4808\n",
       " 2      2052\n",
       " 3       330\n",
       " 20       76\n",
       "-1        47\n",
       " 4        41\n",
       " 5         9\n",
       "Name: children, dtype: int64"
      ]
     },
     "execution_count": 490,
     "metadata": {},
     "output_type": "execute_result"
    }
   ],
   "source": [
    "df['children'].value_counts()"
   ]
  },
  {
   "cell_type": "markdown",
   "metadata": {},
   "source": [
    "В столбце обнаружены неадекватные значения: -1 и 20, скорее всго опечатка. Изменим -1 на 1 а 20 на 2"
   ]
  },
  {
   "cell_type": "code",
   "execution_count": 491,
   "metadata": {},
   "outputs": [],
   "source": [
    "df['children'] = df['children'].replace(-1, 1)"
   ]
  },
  {
   "cell_type": "code",
   "execution_count": 492,
   "metadata": {},
   "outputs": [],
   "source": [
    "df['children'] = df['children'].replace(20, 2)"
   ]
  },
  {
   "cell_type": "code",
   "execution_count": 493,
   "metadata": {
    "scrolled": false
   },
   "outputs": [
    {
     "data": {
      "text/plain": [
       "0    14091\n",
       "1     4855\n",
       "2     2128\n",
       "3      330\n",
       "4       41\n",
       "5        9\n",
       "Name: children, dtype: int64"
      ]
     },
     "execution_count": 493,
     "metadata": {},
     "output_type": "execute_result"
    }
   ],
   "source": [
    "df['children'].value_counts()"
   ]
  },
  {
   "cell_type": "markdown",
   "metadata": {},
   "source": [
    "Функция, для категоризации children:"
   ]
  },
  {
   "cell_type": "code",
   "execution_count": 494,
   "metadata": {},
   "outputs": [],
   "source": [
    "def childrens_category (number):\n",
    "    if number == 0:\n",
    "        return('Бездетный')\n",
    "    if 0 < number < 3:\n",
    "        return('C детьми')\n",
    "    else:\n",
    "        return('Многодетный')"
   ]
  },
  {
   "cell_type": "markdown",
   "metadata": {},
   "source": [
    "Добавим в датафрейм категории наличия детей:"
   ]
  },
  {
   "cell_type": "code",
   "execution_count": 495,
   "metadata": {},
   "outputs": [],
   "source": [
    "df['children_category'] = df['children'].apply(childrens_category)"
   ]
  },
  {
   "cell_type": "code",
   "execution_count": 496,
   "metadata": {
    "scrolled": false
   },
   "outputs": [
    {
     "data": {
      "text/html": [
       "<div>\n",
       "<style scoped>\n",
       "    .dataframe tbody tr th:only-of-type {\n",
       "        vertical-align: middle;\n",
       "    }\n",
       "\n",
       "    .dataframe tbody tr th {\n",
       "        vertical-align: top;\n",
       "    }\n",
       "\n",
       "    .dataframe thead th {\n",
       "        text-align: right;\n",
       "    }\n",
       "</style>\n",
       "<table border=\"1\" class=\"dataframe\">\n",
       "  <thead>\n",
       "    <tr style=\"text-align: right;\">\n",
       "      <th></th>\n",
       "      <th>children</th>\n",
       "      <th>children_category</th>\n",
       "    </tr>\n",
       "  </thead>\n",
       "  <tbody>\n",
       "    <tr>\n",
       "      <td>0</td>\n",
       "      <td>1</td>\n",
       "      <td>C детьми</td>\n",
       "    </tr>\n",
       "    <tr>\n",
       "      <td>1</td>\n",
       "      <td>1</td>\n",
       "      <td>C детьми</td>\n",
       "    </tr>\n",
       "    <tr>\n",
       "      <td>2</td>\n",
       "      <td>0</td>\n",
       "      <td>Бездетный</td>\n",
       "    </tr>\n",
       "    <tr>\n",
       "      <td>3</td>\n",
       "      <td>3</td>\n",
       "      <td>Многодетный</td>\n",
       "    </tr>\n",
       "    <tr>\n",
       "      <td>4</td>\n",
       "      <td>0</td>\n",
       "      <td>Бездетный</td>\n",
       "    </tr>\n",
       "    <tr>\n",
       "      <td>5</td>\n",
       "      <td>0</td>\n",
       "      <td>Бездетный</td>\n",
       "    </tr>\n",
       "    <tr>\n",
       "      <td>6</td>\n",
       "      <td>0</td>\n",
       "      <td>Бездетный</td>\n",
       "    </tr>\n",
       "    <tr>\n",
       "      <td>7</td>\n",
       "      <td>0</td>\n",
       "      <td>Бездетный</td>\n",
       "    </tr>\n",
       "    <tr>\n",
       "      <td>8</td>\n",
       "      <td>2</td>\n",
       "      <td>C детьми</td>\n",
       "    </tr>\n",
       "    <tr>\n",
       "      <td>9</td>\n",
       "      <td>0</td>\n",
       "      <td>Бездетный</td>\n",
       "    </tr>\n",
       "  </tbody>\n",
       "</table>\n",
       "</div>"
      ],
      "text/plain": [
       "   children children_category\n",
       "0         1          C детьми\n",
       "1         1          C детьми\n",
       "2         0         Бездетный\n",
       "3         3       Многодетный\n",
       "4         0         Бездетный\n",
       "5         0         Бездетный\n",
       "6         0         Бездетный\n",
       "7         0         Бездетный\n",
       "8         2          C детьми\n",
       "9         0         Бездетный"
      ]
     },
     "execution_count": 496,
     "metadata": {},
     "output_type": "execute_result"
    }
   ],
   "source": [
    "df[['children', 'children_category']].head(10)"
   ]
  },
  {
   "cell_type": "markdown",
   "metadata": {},
   "source": [
    "#### Категоризация данных в столбце family_status_id"
   ]
  },
  {
   "cell_type": "markdown",
   "metadata": {},
   "source": [
    "Для ответа на вопрос \"Есть ли зависимость между семейным положением и возвратом кредита в срок?\" категоризуем данные в столбце family_status_id и соединим полученные данные с таблицей family_status по принципу:\n",
    "  - Семейные: 'женат / замужем', 'гражданский брак'       \n",
    "  - Холостые: 'вдовец / вдова', 'в разводе', 'не женат / не замужем'"
   ]
  },
  {
   "cell_type": "code",
   "execution_count": 497,
   "metadata": {
    "scrolled": true
   },
   "outputs": [
    {
     "data": {
      "text/html": [
       "<div>\n",
       "<style scoped>\n",
       "    .dataframe tbody tr th:only-of-type {\n",
       "        vertical-align: middle;\n",
       "    }\n",
       "\n",
       "    .dataframe tbody tr th {\n",
       "        vertical-align: top;\n",
       "    }\n",
       "\n",
       "    .dataframe thead th {\n",
       "        text-align: right;\n",
       "    }\n",
       "</style>\n",
       "<table border=\"1\" class=\"dataframe\">\n",
       "  <thead>\n",
       "    <tr style=\"text-align: right;\">\n",
       "      <th></th>\n",
       "      <th>family_status_id</th>\n",
       "      <th>family_status</th>\n",
       "    </tr>\n",
       "  </thead>\n",
       "  <tbody>\n",
       "    <tr>\n",
       "      <td>0</td>\n",
       "      <td>0</td>\n",
       "      <td>женат / замужем</td>\n",
       "    </tr>\n",
       "    <tr>\n",
       "      <td>1</td>\n",
       "      <td>1</td>\n",
       "      <td>гражданский брак</td>\n",
       "    </tr>\n",
       "    <tr>\n",
       "      <td>2</td>\n",
       "      <td>2</td>\n",
       "      <td>вдовец / вдова</td>\n",
       "    </tr>\n",
       "    <tr>\n",
       "      <td>3</td>\n",
       "      <td>3</td>\n",
       "      <td>в разводе</td>\n",
       "    </tr>\n",
       "    <tr>\n",
       "      <td>4</td>\n",
       "      <td>4</td>\n",
       "      <td>не женат / не замужем</td>\n",
       "    </tr>\n",
       "  </tbody>\n",
       "</table>\n",
       "</div>"
      ],
      "text/plain": [
       "   family_status_id          family_status\n",
       "0                 0        женат / замужем\n",
       "1                 1       гражданский брак\n",
       "2                 2         вдовец / вдова\n",
       "3                 3              в разводе\n",
       "4                 4  не женат / не замужем"
      ]
     },
     "execution_count": 497,
     "metadata": {},
     "output_type": "execute_result"
    }
   ],
   "source": [
    "family_status"
   ]
  },
  {
   "cell_type": "markdown",
   "metadata": {},
   "source": [
    "Функция, для категоризации family_status:"
   ]
  },
  {
   "cell_type": "code",
   "execution_count": 498,
   "metadata": {},
   "outputs": [],
   "source": [
    "def family_category (status):\n",
    "    family = [0, 1]\n",
    "    single = [2, 3, 4]\n",
    "    if status in family:\n",
    "        return('Семейные')\n",
    "    if status in single:\n",
    "        return('Холостые')"
   ]
  },
  {
   "cell_type": "markdown",
   "metadata": {},
   "source": [
    "Добавим в датафрейм категории семейного положения:"
   ]
  },
  {
   "cell_type": "code",
   "execution_count": 499,
   "metadata": {},
   "outputs": [],
   "source": [
    "df['family_category'] = df['family_status_id'].apply(family_category)"
   ]
  },
  {
   "cell_type": "code",
   "execution_count": 500,
   "metadata": {
    "scrolled": false
   },
   "outputs": [
    {
     "data": {
      "text/html": [
       "<div>\n",
       "<style scoped>\n",
       "    .dataframe tbody tr th:only-of-type {\n",
       "        vertical-align: middle;\n",
       "    }\n",
       "\n",
       "    .dataframe tbody tr th {\n",
       "        vertical-align: top;\n",
       "    }\n",
       "\n",
       "    .dataframe thead th {\n",
       "        text-align: right;\n",
       "    }\n",
       "</style>\n",
       "<table border=\"1\" class=\"dataframe\">\n",
       "  <thead>\n",
       "    <tr style=\"text-align: right;\">\n",
       "      <th></th>\n",
       "      <th>family_status_id</th>\n",
       "      <th>family_category</th>\n",
       "    </tr>\n",
       "  </thead>\n",
       "  <tbody>\n",
       "    <tr>\n",
       "      <td>0</td>\n",
       "      <td>0</td>\n",
       "      <td>Семейные</td>\n",
       "    </tr>\n",
       "    <tr>\n",
       "      <td>1</td>\n",
       "      <td>0</td>\n",
       "      <td>Семейные</td>\n",
       "    </tr>\n",
       "    <tr>\n",
       "      <td>2</td>\n",
       "      <td>0</td>\n",
       "      <td>Семейные</td>\n",
       "    </tr>\n",
       "    <tr>\n",
       "      <td>3</td>\n",
       "      <td>0</td>\n",
       "      <td>Семейные</td>\n",
       "    </tr>\n",
       "    <tr>\n",
       "      <td>4</td>\n",
       "      <td>1</td>\n",
       "      <td>Семейные</td>\n",
       "    </tr>\n",
       "    <tr>\n",
       "      <td>5</td>\n",
       "      <td>1</td>\n",
       "      <td>Семейные</td>\n",
       "    </tr>\n",
       "    <tr>\n",
       "      <td>6</td>\n",
       "      <td>0</td>\n",
       "      <td>Семейные</td>\n",
       "    </tr>\n",
       "    <tr>\n",
       "      <td>7</td>\n",
       "      <td>0</td>\n",
       "      <td>Семейные</td>\n",
       "    </tr>\n",
       "    <tr>\n",
       "      <td>8</td>\n",
       "      <td>1</td>\n",
       "      <td>Семейные</td>\n",
       "    </tr>\n",
       "    <tr>\n",
       "      <td>9</td>\n",
       "      <td>0</td>\n",
       "      <td>Семейные</td>\n",
       "    </tr>\n",
       "  </tbody>\n",
       "</table>\n",
       "</div>"
      ],
      "text/plain": [
       "   family_status_id family_category\n",
       "0                 0        Семейные\n",
       "1                 0        Семейные\n",
       "2                 0        Семейные\n",
       "3                 0        Семейные\n",
       "4                 1        Семейные\n",
       "5                 1        Семейные\n",
       "6                 0        Семейные\n",
       "7                 0        Семейные\n",
       "8                 1        Семейные\n",
       "9                 0        Семейные"
      ]
     },
     "execution_count": 500,
     "metadata": {},
     "output_type": "execute_result"
    }
   ],
   "source": [
    "df[['family_status_id', 'family_category']].head(10)"
   ]
  },
  {
   "cell_type": "markdown",
   "metadata": {},
   "source": [
    "#### Категоризация данных в столбце total_income"
   ]
  },
  {
   "cell_type": "markdown",
   "metadata": {},
   "source": [
    "Для ответа на вопрос \"Есть ли зависимость между уровнем дохода и возвратом кредита в срок?\" категоризуем данные в столбце total_income по принципу:\n",
    "\n",
    " - ниже среднего\n",
    " - выше среднего\n",
    " \n",
    "Для более точной картины, категоризацию проведем по медианному значению в разрезе типа занятости (столбец income_type)"
   ]
  },
  {
   "cell_type": "markdown",
   "metadata": {},
   "source": [
    "Вывод медианного значения уровня дохода:"
   ]
  },
  {
   "cell_type": "code",
   "execution_count": 501,
   "metadata": {
    "scrolled": false
   },
   "outputs": [
    {
     "data": {
      "text/plain": [
       "income_type\n",
       "безработный        131339.751676\n",
       "в декрете           53829.130729\n",
       "госслужащий        150447.935283\n",
       "компаньон          172357.950966\n",
       "пенсионер          118514.486412\n",
       "предприниматель    499163.144947\n",
       "сотрудник          142594.396847\n",
       "студент             98201.625314\n",
       "Name: total_income, dtype: float64"
      ]
     },
     "execution_count": 501,
     "metadata": {},
     "output_type": "execute_result"
    }
   ],
   "source": [
    "df.groupby('income_type')['total_income'].median()"
   ]
  },
  {
   "cell_type": "markdown",
   "metadata": {},
   "source": [
    "Функция, для категоризации total_income:"
   ]
  },
  {
   "cell_type": "code",
   "execution_count": 502,
   "metadata": {},
   "outputs": [],
   "source": [
    "\n",
    "def income_category (row):\n",
    "    income_type = row['income_type']\n",
    "    total_income = row['total_income']\n",
    "    \n",
    "    if income_type == 'безработный': \n",
    "        if total_income < 131339.751676:\n",
    "            return 'ниже среднего'\n",
    "    if income_type == 'в декрете': \n",
    "        if total_income < 53829.130729:\n",
    "            return 'ниже среднего'\n",
    "    if income_type == 'госслужащий': \n",
    "        if total_income < 150447.935283:\n",
    "            return 'ниже среднего'\n",
    "    if income_type == 'компаньон': \n",
    "        if total_income < 172357.950966:\n",
    "            return 'ниже среднего'\n",
    "    if income_type == 'пенсионер': \n",
    "        if total_income < 118514.486412:\n",
    "            return 'ниже среднего'\n",
    "    if income_type == 'предприниматель': \n",
    "        if total_income < 499163.144947:\n",
    "            return 'ниже среднего'\n",
    "    if income_type == 'сотрудник': \n",
    "        if total_income < 142594.396847:\n",
    "            return 'ниже среднего'\n",
    "    if income_type == 'студент': \n",
    "        if total_income < 98201.625314:\n",
    "            return 'ниже среднего'\n",
    "    return 'выше среднего'\n"
   ]
  },
  {
   "cell_type": "markdown",
   "metadata": {},
   "source": [
    "Добавим в датафрейм категории семейного положения:"
   ]
  },
  {
   "cell_type": "code",
   "execution_count": 503,
   "metadata": {},
   "outputs": [],
   "source": [
    "df['income_category'] = df.apply(income_category, axis=1)"
   ]
  },
  {
   "cell_type": "code",
   "execution_count": 504,
   "metadata": {
    "scrolled": true
   },
   "outputs": [
    {
     "data": {
      "text/html": [
       "<div>\n",
       "<style scoped>\n",
       "    .dataframe tbody tr th:only-of-type {\n",
       "        vertical-align: middle;\n",
       "    }\n",
       "\n",
       "    .dataframe tbody tr th {\n",
       "        vertical-align: top;\n",
       "    }\n",
       "\n",
       "    .dataframe thead th {\n",
       "        text-align: right;\n",
       "    }\n",
       "</style>\n",
       "<table border=\"1\" class=\"dataframe\">\n",
       "  <thead>\n",
       "    <tr style=\"text-align: right;\">\n",
       "      <th></th>\n",
       "      <th>income_type</th>\n",
       "      <th>total_income</th>\n",
       "      <th>income_category</th>\n",
       "    </tr>\n",
       "  </thead>\n",
       "  <tbody>\n",
       "    <tr>\n",
       "      <td>0</td>\n",
       "      <td>сотрудник</td>\n",
       "      <td>253875.639453</td>\n",
       "      <td>выше среднего</td>\n",
       "    </tr>\n",
       "    <tr>\n",
       "      <td>1</td>\n",
       "      <td>сотрудник</td>\n",
       "      <td>112080.014102</td>\n",
       "      <td>ниже среднего</td>\n",
       "    </tr>\n",
       "    <tr>\n",
       "      <td>2</td>\n",
       "      <td>сотрудник</td>\n",
       "      <td>145885.952297</td>\n",
       "      <td>выше среднего</td>\n",
       "    </tr>\n",
       "    <tr>\n",
       "      <td>3</td>\n",
       "      <td>сотрудник</td>\n",
       "      <td>267628.550329</td>\n",
       "      <td>выше среднего</td>\n",
       "    </tr>\n",
       "    <tr>\n",
       "      <td>4</td>\n",
       "      <td>пенсионер</td>\n",
       "      <td>158616.077870</td>\n",
       "      <td>выше среднего</td>\n",
       "    </tr>\n",
       "    <tr>\n",
       "      <td>5</td>\n",
       "      <td>компаньон</td>\n",
       "      <td>255763.565419</td>\n",
       "      <td>выше среднего</td>\n",
       "    </tr>\n",
       "    <tr>\n",
       "      <td>6</td>\n",
       "      <td>компаньон</td>\n",
       "      <td>240525.971920</td>\n",
       "      <td>выше среднего</td>\n",
       "    </tr>\n",
       "    <tr>\n",
       "      <td>7</td>\n",
       "      <td>сотрудник</td>\n",
       "      <td>135823.934197</td>\n",
       "      <td>ниже среднего</td>\n",
       "    </tr>\n",
       "    <tr>\n",
       "      <td>8</td>\n",
       "      <td>сотрудник</td>\n",
       "      <td>95856.832424</td>\n",
       "      <td>ниже среднего</td>\n",
       "    </tr>\n",
       "    <tr>\n",
       "      <td>9</td>\n",
       "      <td>сотрудник</td>\n",
       "      <td>144425.938277</td>\n",
       "      <td>выше среднего</td>\n",
       "    </tr>\n",
       "  </tbody>\n",
       "</table>\n",
       "</div>"
      ],
      "text/plain": [
       "  income_type   total_income income_category\n",
       "0   сотрудник  253875.639453   выше среднего\n",
       "1   сотрудник  112080.014102   ниже среднего\n",
       "2   сотрудник  145885.952297   выше среднего\n",
       "3   сотрудник  267628.550329   выше среднего\n",
       "4   пенсионер  158616.077870   выше среднего\n",
       "5   компаньон  255763.565419   выше среднего\n",
       "6   компаньон  240525.971920   выше среднего\n",
       "7   сотрудник  135823.934197   ниже среднего\n",
       "8   сотрудник   95856.832424   ниже среднего\n",
       "9   сотрудник  144425.938277   выше среднего"
      ]
     },
     "execution_count": 504,
     "metadata": {},
     "output_type": "execute_result"
    }
   ],
   "source": [
    "df[['income_type', 'total_income', 'income_category']].head(10)"
   ]
  },
  {
   "cell_type": "markdown",
   "metadata": {},
   "source": [
    "#### Категоризация данных в столбце purpose"
   ]
  },
  {
   "cell_type": "markdown",
   "metadata": {},
   "source": [
    "Для ответа на вопрос \"Как разные цели кредита влияют на его возврат в срок?\" категоризуем данные используя выполненную ранее лематезацию\n",
    "Основные категории цели получения кредита:\n",
    " - операции с жилой недвижимостью\n",
    " - операции с коммерческой недвижимостью\n",
    " - образование\n",
    " - покупка автомобиля\n",
    " - проведение свадьбы\n",
    " \n"
   ]
  },
  {
   "cell_type": "markdown",
   "metadata": {},
   "source": [
    "Функция, для категоризации purpose:"
   ]
  },
  {
   "cell_type": "code",
   "execution_count": 505,
   "metadata": {},
   "outputs": [],
   "source": [
    "def purpose_category (row):\n",
    "    \n",
    "    if 'жилье' in row:\n",
    "        return('операции с жилой недвижимостью')\n",
    "    if 'недвижимость' in row:\n",
    "        if ['собственный', 'свой', 'жилой'] in row:\n",
    "            return('операции с жилой недвижимостью')\n",
    "        return('операции с коммерческой недвижимостью')\n",
    "    if 'образование' in row:\n",
    "        return('образование')\n",
    "    if 'автомобиль' in row:\n",
    "        return('покупка автомобиля')\n",
    "    if 'свадьба' in row:\n",
    "        return('проведение свадьбы')"
   ]
  },
  {
   "cell_type": "markdown",
   "metadata": {},
   "source": [
    "Добавление в датафрейм категории целей кредита"
   ]
  },
  {
   "cell_type": "code",
   "execution_count": 506,
   "metadata": {},
   "outputs": [],
   "source": [
    "df['purpose_category'] = df['lemmas'].apply(purpose_category)"
   ]
  },
  {
   "cell_type": "code",
   "execution_count": 507,
   "metadata": {},
   "outputs": [
    {
     "data": {
      "text/html": [
       "<div>\n",
       "<style scoped>\n",
       "    .dataframe tbody tr th:only-of-type {\n",
       "        vertical-align: middle;\n",
       "    }\n",
       "\n",
       "    .dataframe tbody tr th {\n",
       "        vertical-align: top;\n",
       "    }\n",
       "\n",
       "    .dataframe thead th {\n",
       "        text-align: right;\n",
       "    }\n",
       "</style>\n",
       "<table border=\"1\" class=\"dataframe\">\n",
       "  <thead>\n",
       "    <tr style=\"text-align: right;\">\n",
       "      <th></th>\n",
       "      <th>purpose</th>\n",
       "      <th>purpose_category</th>\n",
       "    </tr>\n",
       "  </thead>\n",
       "  <tbody>\n",
       "    <tr>\n",
       "      <td>0</td>\n",
       "      <td>покупка жилья</td>\n",
       "      <td>операции с жилой недвижимостью</td>\n",
       "    </tr>\n",
       "    <tr>\n",
       "      <td>1</td>\n",
       "      <td>приобретение автомобиля</td>\n",
       "      <td>покупка автомобиля</td>\n",
       "    </tr>\n",
       "    <tr>\n",
       "      <td>2</td>\n",
       "      <td>покупка жилья</td>\n",
       "      <td>операции с жилой недвижимостью</td>\n",
       "    </tr>\n",
       "    <tr>\n",
       "      <td>3</td>\n",
       "      <td>дополнительное образование</td>\n",
       "      <td>образование</td>\n",
       "    </tr>\n",
       "    <tr>\n",
       "      <td>4</td>\n",
       "      <td>сыграть свадьбу</td>\n",
       "      <td>проведение свадьбы</td>\n",
       "    </tr>\n",
       "    <tr>\n",
       "      <td>5</td>\n",
       "      <td>покупка жилья</td>\n",
       "      <td>операции с жилой недвижимостью</td>\n",
       "    </tr>\n",
       "    <tr>\n",
       "      <td>6</td>\n",
       "      <td>операции с жильем</td>\n",
       "      <td>операции с жилой недвижимостью</td>\n",
       "    </tr>\n",
       "    <tr>\n",
       "      <td>7</td>\n",
       "      <td>образование</td>\n",
       "      <td>образование</td>\n",
       "    </tr>\n",
       "    <tr>\n",
       "      <td>8</td>\n",
       "      <td>на проведение свадьбы</td>\n",
       "      <td>проведение свадьбы</td>\n",
       "    </tr>\n",
       "    <tr>\n",
       "      <td>9</td>\n",
       "      <td>покупка жилья для семьи</td>\n",
       "      <td>операции с жилой недвижимостью</td>\n",
       "    </tr>\n",
       "  </tbody>\n",
       "</table>\n",
       "</div>"
      ],
      "text/plain": [
       "                      purpose                purpose_category\n",
       "0               покупка жилья  операции с жилой недвижимостью\n",
       "1     приобретение автомобиля              покупка автомобиля\n",
       "2               покупка жилья  операции с жилой недвижимостью\n",
       "3  дополнительное образование                     образование\n",
       "4             сыграть свадьбу              проведение свадьбы\n",
       "5               покупка жилья  операции с жилой недвижимостью\n",
       "6           операции с жильем  операции с жилой недвижимостью\n",
       "7                 образование                     образование\n",
       "8       на проведение свадьбы              проведение свадьбы\n",
       "9     покупка жилья для семьи  операции с жилой недвижимостью"
      ]
     },
     "execution_count": 507,
     "metadata": {},
     "output_type": "execute_result"
    }
   ],
   "source": [
    "# Проверка добавления нового столбца\n",
    "df[['purpose', 'purpose_category']].head(10)"
   ]
  },
  {
   "cell_type": "markdown",
   "metadata": {},
   "source": [
    "**Вывод**"
   ]
  },
  {
   "cell_type": "markdown",
   "metadata": {},
   "source": [
    "Для анализа данных и ответов на поставленные вопросы была проведена категоризация необходимых столбцов."
   ]
  },
  {
   "cell_type": "markdown",
   "metadata": {},
   "source": [
    "## Ответьте на вопросы <a id=\"question\"></a>"
   ]
  },
  {
   "cell_type": "markdown",
   "metadata": {},
   "source": [
    "**- Есть ли зависимость между наличием детей и возвратом кредита в срок?**"
   ]
  },
  {
   "cell_type": "markdown",
   "metadata": {},
   "source": [
    "Подсчет конверсии невозвратов в разрезе груп наличия детей"
   ]
  },
  {
   "cell_type": "code",
   "execution_count": 508,
   "metadata": {},
   "outputs": [
    {
     "data": {
      "text/plain": [
       "children_category\n",
       "C детьми       0.092654\n",
       "Бездетный      0.075438\n",
       "Многодетный    0.081579\n",
       "Name: debt, dtype: float64"
      ]
     },
     "execution_count": 508,
     "metadata": {},
     "output_type": "execute_result"
    }
   ],
   "source": [
    "df.groupby('children_category')['debt'].sum()/df.groupby('children_category')['debt'].count()"
   ]
  },
  {
   "cell_type": "markdown",
   "metadata": {},
   "source": [
    "**Вывод**"
   ]
  },
  {
   "cell_type": "markdown",
   "metadata": {},
   "source": [
    "Полученные значения конверсии невозврата кредита в 3-х категориях:\n",
    "- С детьми - 9,2%\n",
    "- Бездетные - 7,5%\n",
    "- Многодетные - 8,1%\n",
    "\n",
    "Наименьший процент невозврата кредита в срок наблюдается у клиентов без детей.<br>\n",
    "Клиенты имеющие одного или двоих детей имеют наибольший проент невозврата кредита в срок.<br>\n",
    "Многодетные клиенты, имеющие более 3-х детей, имеют средний показатель невозврата кредита в срок.<br>\n"
   ]
  },
  {
   "cell_type": "markdown",
   "metadata": {},
   "source": [
    "**- Есть ли зависимость между семейным положением и возвратом кредита в срок?**"
   ]
  },
  {
   "cell_type": "markdown",
   "metadata": {},
   "source": [
    "Подсчет конверсии невозвратов в разрезе категории семейного положения\n"
   ]
  },
  {
   "cell_type": "code",
   "execution_count": 509,
   "metadata": {
    "scrolled": true
   },
   "outputs": [
    {
     "data": {
      "text/plain": [
       "family_category\n",
       "Семейные    0.079988\n",
       "Холостые    0.085012\n",
       "Name: debt, dtype: float64"
      ]
     },
     "execution_count": 509,
     "metadata": {},
     "output_type": "execute_result"
    }
   ],
   "source": [
    "df.groupby('family_category')['debt'].sum()/df.groupby('family_category')['debt'].count()"
   ]
  },
  {
   "cell_type": "markdown",
   "metadata": {},
   "source": [
    "**Вывод**"
   ]
  },
  {
   "cell_type": "markdown",
   "metadata": {},
   "source": [
    "Полученные значения конверсии невозврата кредита сопоставимы в 2-х категориях:\n",
    " - Семейные - 8%\n",
    " - Холостые - 8,5%\n",
    "\n",
    "Можно сделать вывод что семейное положение не сильно влияет на возврат кредита в срок (в пределах 0,5%)."
   ]
  },
  {
   "cell_type": "markdown",
   "metadata": {},
   "source": [
    "**- Есть ли зависимость между уровнем дохода и возвратом кредита в срок?**"
   ]
  },
  {
   "cell_type": "markdown",
   "metadata": {},
   "source": [
    "Подсчет конверсии невозвратов в разрезе категории уровня дохода"
   ]
  },
  {
   "cell_type": "code",
   "execution_count": 510,
   "metadata": {
    "scrolled": true
   },
   "outputs": [
    {
     "data": {
      "text/plain": [
       "income_type      income_category\n",
       "безработный      выше среднего      0.000000\n",
       "                 ниже среднего      1.000000\n",
       "в декрете        выше среднего      1.000000\n",
       "госслужащий      выше среднего      0.049938\n",
       "                 ниже среднего      0.070122\n",
       "компаньон        выше среднего      0.070367\n",
       "                 ниже среднего      0.077061\n",
       "пенсионер        выше среднего      0.056363\n",
       "                 ниже среднего      0.056452\n",
       "предприниматель  выше среднего      0.000000\n",
       "сотрудник        выше среднего      0.093138\n",
       "                 ниже среднего      0.098862\n",
       "студент          выше среднего      0.000000\n",
       "Name: debt, dtype: float64"
      ]
     },
     "execution_count": 510,
     "metadata": {},
     "output_type": "execute_result"
    }
   ],
   "source": [
    "df.groupby(['income_type', 'income_category'])['debt'].sum()/df.groupby(['income_type', 'income_category'])['debt'].count()"
   ]
  },
  {
   "cell_type": "markdown",
   "metadata": {},
   "source": [
    "Вывод уникальных значений столбца 'income_type'"
   ]
  },
  {
   "cell_type": "code",
   "execution_count": 511,
   "metadata": {
    "scrolled": false
   },
   "outputs": [
    {
     "data": {
      "text/plain": [
       "сотрудник          11084\n",
       "компаньон           5078\n",
       "пенсионер           3829\n",
       "госслужащий         1457\n",
       "безработный            2\n",
       "предприниматель        2\n",
       "студент                1\n",
       "в декрете              1\n",
       "Name: income_type, dtype: int64"
      ]
     },
     "execution_count": 511,
     "metadata": {},
     "output_type": "execute_result"
    }
   ],
   "source": [
    "df['income_type'].value_counts()"
   ]
  },
  {
   "cell_type": "markdown",
   "metadata": {},
   "source": [
    "Для категорий: в декрете, студент, безработный и предприниматель количество наблюдений очень мало для анализа и формирования правильных выводов, поэтому анализ данных категорий производить не будем."
   ]
  },
  {
   "cell_type": "code",
   "execution_count": 512,
   "metadata": {},
   "outputs": [
    {
     "data": {
      "text/html": [
       "<div>\n",
       "<style scoped>\n",
       "    .dataframe tbody tr th:only-of-type {\n",
       "        vertical-align: middle;\n",
       "    }\n",
       "\n",
       "    .dataframe tbody tr th {\n",
       "        vertical-align: top;\n",
       "    }\n",
       "\n",
       "    .dataframe thead th {\n",
       "        text-align: right;\n",
       "    }\n",
       "</style>\n",
       "<table border=\"1\" class=\"dataframe\">\n",
       "  <thead>\n",
       "    <tr style=\"text-align: right;\">\n",
       "      <th></th>\n",
       "      <th>уровень дохода</th>\n",
       "      <th>госслужащий</th>\n",
       "      <th>компаньон</th>\n",
       "      <th>пенсионер</th>\n",
       "      <th>сотрудник</th>\n",
       "    </tr>\n",
       "  </thead>\n",
       "  <tbody>\n",
       "    <tr>\n",
       "      <td>0</td>\n",
       "      <td>выше среднего</td>\n",
       "      <td>4,9%</td>\n",
       "      <td>7%</td>\n",
       "      <td>5,6%</td>\n",
       "      <td>9.3%</td>\n",
       "    </tr>\n",
       "    <tr>\n",
       "      <td>1</td>\n",
       "      <td>ниже среднего</td>\n",
       "      <td>7%</td>\n",
       "      <td>7,7%</td>\n",
       "      <td>5,6%</td>\n",
       "      <td>9.8%</td>\n",
       "    </tr>\n",
       "  </tbody>\n",
       "</table>\n",
       "</div>"
      ],
      "text/plain": [
       "  уровень дохода госслужащий компаньон пенсионер сотрудник\n",
       "0  выше среднего        4,9%        7%      5,6%      9.3%\n",
       "1  ниже среднего          7%      7,7%      5,6%      9.8%"
      ]
     },
     "metadata": {},
     "output_type": "display_data"
    }
   ],
   "source": [
    "#Формирование сводной таблицы\n",
    "column = ['уровень дохода', 'госслужащий', 'компаньон', 'пенсионер', 'сотрудник']\n",
    "row = [['выше среднего', '4,9%', '7%', '5,6%', '9.3%'], ['ниже среднего', '7%', '7,7%', '5,6%', '9.8%']]\n",
    "result = pd.DataFrame(data=row, columns=column)\n",
    "display (result)"
   ]
  },
  {
   "cell_type": "markdown",
   "metadata": {},
   "source": [
    "**Вывод**"
   ]
  },
  {
   "cell_type": "markdown",
   "metadata": {},
   "source": [
    "В категории \"госслужащий\" разница между не возвратом кредита в срок в зависимости от уровня дохода составляет 2%<br>\n",
    "В категории \"компаньон\" разница между не возвратом кредита в срок в зависимости от уровня дохода составляет 0,7%<br>\n",
    "В категории \"пенсионер\" разницы между не возвратом кредита в срок в зависимости от уровня дохода не наблюдается<br>\n",
    "В категории \"компаньон\" разница между не возвратом кредита в срок в зависимости от уровня дохода составляет 0,5%<br>\n",
    "\n",
    "При этом наблюдается общая тенденция не возврата кредита в срок в зависимости от типа занятости по всем уровням дохода:\n",
    "пенсионеры (5,6%) - госслужащие (7%) - компаньон(7,7%) - сотрудник (9,8%)\n"
   ]
  },
  {
   "cell_type": "markdown",
   "metadata": {},
   "source": [
    "**- Как разные цели кредита влияют на его возврат в срок?**"
   ]
  },
  {
   "cell_type": "markdown",
   "metadata": {},
   "source": [
    "Подсчет конверсии невозвратов в разрезе категории цели кредита"
   ]
  },
  {
   "cell_type": "code",
   "execution_count": 513,
   "metadata": {},
   "outputs": [
    {
     "data": {
      "text/plain": [
       "purpose_category\n",
       "образование                              0.092200\n",
       "операции с жилой недвижимостью           0.069058\n",
       "операции с коммерческой недвижимостью    0.074634\n",
       "покупка автомобиля                       0.093590\n",
       "проведение свадьбы                       0.080034\n",
       "Name: debt, dtype: float64"
      ]
     },
     "execution_count": 513,
     "metadata": {},
     "output_type": "execute_result"
    }
   ],
   "source": [
    "df.groupby('purpose_category')['debt'].sum()/df.groupby('purpose_category')['debt'].count()"
   ]
  },
  {
   "cell_type": "markdown",
   "metadata": {},
   "source": [
    "**Вывод**"
   ]
  },
  {
   "cell_type": "markdown",
   "metadata": {},
   "source": [
    "Полученные значения конверсии невозврата кредита в срок в зависимости от цели кредита:\n",
    "- образование - 9,2%\n",
    "- операции с жилой недвижимостью - 6,9%\n",
    "- операции с коммерческой недвижимостью - 7,4%\n",
    "- покупка автомобиля  - 9,4%\n",
    "- проведение свадьбы - 8%\n",
    "\n",
    "Наименьший процент невозврата кредита в срок наблюдается у клиентов оформляющих кредит в целях покупки недвижимости (6,9% жилой и 7,2% коммерческой).<br>\n",
    "Наибольший процент невозврата кредита в срок наблюдается у клиентов оформляющих кредит в целях покупки автомобиля и оплаты образования.<br>\n",
    "Клиенты, оформляющие кредит в целях проведения свдьбы,невозвращают кредит в срок в 8% случаев.<br>\n"
   ]
  },
  {
   "cell_type": "markdown",
   "metadata": {},
   "source": [
    "## Общий вывод <a id=\"conclusion\"></a>"
   ]
  },
  {
   "cell_type": "markdown",
   "metadata": {},
   "source": [
    "**Есть ли зависимость между наличием детей и возвратом кредита в срок?**<br>\n",
    "Ответ: Зависимость есть:\n",
    " - наименьший процент невозврата кредита у клиентов без детей - 7,5%\n",
    " - наибольший процент невозврата кредита у клиентов с 1-м или 2-мя детьми - 9,2%<br>\n",
    "\n",
    "**Есть ли зависимость между семейным положением и возвратом кредита в срок?**<br>\n",
    "Ответ: Зависимость маловыраженная, семейные клиенты невозвращаюь кредит в срок на 0,5% реже\n",
    "- процент невозврата кредита у семейных клиентов - 8%\n",
    "- процент невозврата кредита у холостых клиентов - 8,5%<br>\n",
    "\n",
    "**Есть ли зависимость между уровнем дохода и возвратом кредита в срок?**<br>\n",
    "Ответ: Зависимость есть:\n",
    "- наименьший процент невозврата кредита имеет категория клиентов \"Госслужащий с уровнем дохода выше среднего\" - 4,9 %\n",
    "- наибольший процент у категории \"Сотрудник с уровнем дохода ниже среднего\" - 9,8%\n",
    "\n",
    "**Как разные цели кредита влияют на его возврат в срок?**<br>\n",
    "Ответ: \n",
    "- Наименьший процент невозврата кредита наблюдается у клиентов, оформляющих кредит в целях покупки жилой недвижимости. - 6,9%\n",
    "- Наибольший процент невозврата кредита наблюдается у клиентов, оформляющих кредит в целях покупки автомобиля и оплаты образования - 9,3%.\n",
    "\n",
    "\n"
   ]
  },
  {
   "cell_type": "markdown",
   "metadata": {},
   "source": [
    "## Чек-лист готовности проекта\n",
    "\n",
    "Поставьте 'x' в выполненных пунктах. Далее нажмите Shift+Enter."
   ]
  },
  {
   "cell_type": "markdown",
   "metadata": {},
   "source": [
    "- [x]  открыт файл;\n",
    "- [x]  файл изучен;\n",
    "- [x]  определены пропущенные значения;\n",
    "- [x]  заполнены пропущенные значения;\n",
    "- [x]  есть пояснение, какие пропущенные значения обнаружены;\n",
    "- [x]  описаны возможные причины появления пропусков в данных;\n",
    "- [x]  объяснено, по какому принципу заполнены пропуски;\n",
    "- [x]  заменен вещественный тип данных на целочисленный;\n",
    "- [x]  есть пояснение, какой метод используется для изменения типа данных и почему;\n",
    "- [x]  удалены дубликаты;\n",
    "- [x]  есть пояснение, какой метод используется для поиска и удаления дубликатов;\n",
    "- [x]  описаны возможные причины появления дубликатов в данных;\n",
    "- [x]  выделены леммы в значениях столбца с целями получения кредита;\n",
    "- [x]  описан процесс лемматизации;\n",
    "- [x]  данные категоризированы;\n",
    "- [x]  есть объяснение принципа категоризации данных;\n",
    "- [x]  есть ответ на вопрос: \"Есть ли зависимость между наличием детей и возвратом кредита в срок?\";\n",
    "- [x]  есть ответ на вопрос: \"Есть ли зависимость между семейным положением и возвратом кредита в срок?\";\n",
    "- [x]  есть ответ на вопрос: \"Есть ли зависимость между уровнем дохода и возвратом кредита в срок?\";\n",
    "- [x]  есть ответ на вопрос: \"Как разные цели кредита влияют на его возврат в срок?\";\n",
    "- [x]  в каждом этапе есть выводы;\n",
    "- [x]  есть общий вывод."
   ]
  }
 ],
 "metadata": {
  "ExecuteTimeLog": [
   {
    "duration": 592,
    "start_time": "2021-11-28T13:55:28.925Z"
   },
   {
    "duration": 118,
    "start_time": "2021-11-28T13:55:29.519Z"
   },
   {
    "duration": 22,
    "start_time": "2021-11-28T13:55:29.981Z"
   },
   {
    "duration": 894,
    "start_time": "2021-11-28T18:34:43.062Z"
   },
   {
    "duration": 75,
    "start_time": "2021-11-28T18:34:43.959Z"
   },
   {
    "duration": 4,
    "start_time": "2021-11-28T18:34:46.198Z"
   },
   {
    "duration": 59,
    "start_time": "2021-11-28T18:34:46.262Z"
   },
   {
    "duration": 16,
    "start_time": "2021-11-28T18:34:47.902Z"
   },
   {
    "duration": 19,
    "start_time": "2021-11-28T19:01:39.334Z"
   },
   {
    "duration": 30,
    "start_time": "2021-11-28T19:03:02.110Z"
   },
   {
    "duration": 490,
    "start_time": "2021-11-28T19:17:46.329Z"
   },
   {
    "duration": 5,
    "start_time": "2021-11-28T19:17:58.138Z"
   },
   {
    "duration": 29,
    "start_time": "2021-11-28T19:27:31.996Z"
   },
   {
    "duration": 7,
    "start_time": "2021-11-28T19:27:32.039Z"
   },
   {
    "duration": 13,
    "start_time": "2021-11-28T19:29:48.476Z"
   },
   {
    "duration": 9,
    "start_time": "2021-11-28T19:29:48.496Z"
   },
   {
    "duration": 17,
    "start_time": "2021-11-28T19:32:22.791Z"
   },
   {
    "duration": 19,
    "start_time": "2021-11-28T19:44:49.287Z"
   },
   {
    "duration": 10,
    "start_time": "2021-11-28T19:54:18.247Z"
   },
   {
    "duration": 14,
    "start_time": "2021-11-28T19:54:27.082Z"
   },
   {
    "duration": 11,
    "start_time": "2021-11-28T19:55:27.244Z"
   },
   {
    "duration": 10,
    "start_time": "2021-11-28T19:56:08.580Z"
   },
   {
    "duration": 11,
    "start_time": "2021-11-28T19:57:56.459Z"
   },
   {
    "duration": 25,
    "start_time": "2021-11-28T20:07:38.370Z"
   },
   {
    "duration": 19,
    "start_time": "2021-11-28T20:08:16.388Z"
   },
   {
    "duration": 15,
    "start_time": "2021-11-28T20:08:49.804Z"
   },
   {
    "duration": 20,
    "start_time": "2021-11-28T20:09:56.110Z"
   },
   {
    "duration": 20,
    "start_time": "2021-11-28T20:18:27.711Z"
   },
   {
    "duration": 19,
    "start_time": "2021-11-28T20:19:23.327Z"
   },
   {
    "duration": 353,
    "start_time": "2021-11-29T18:45:29.777Z"
   },
   {
    "duration": 787,
    "start_time": "2021-11-29T18:45:39.905Z"
   },
   {
    "duration": 63,
    "start_time": "2021-11-29T18:45:40.694Z"
   },
   {
    "duration": 14,
    "start_time": "2021-11-29T18:45:40.760Z"
   },
   {
    "duration": 34,
    "start_time": "2021-11-29T18:45:40.777Z"
   },
   {
    "duration": 27,
    "start_time": "2021-11-29T18:45:40.814Z"
   },
   {
    "duration": 9,
    "start_time": "2021-11-29T18:45:40.844Z"
   },
   {
    "duration": 13,
    "start_time": "2021-11-29T18:45:40.856Z"
   },
   {
    "duration": 9,
    "start_time": "2021-11-29T18:45:40.872Z"
   },
   {
    "duration": 44,
    "start_time": "2021-11-29T18:45:40.885Z"
   },
   {
    "duration": 8,
    "start_time": "2021-11-29T18:45:43.284Z"
   },
   {
    "duration": 15,
    "start_time": "2021-11-29T18:46:03.405Z"
   },
   {
    "duration": 16,
    "start_time": "2021-11-29T18:50:45.928Z"
   },
   {
    "duration": 895,
    "start_time": "2021-11-29T18:55:45.713Z"
   },
   {
    "duration": 809,
    "start_time": "2021-11-29T18:56:37.229Z"
   },
   {
    "duration": 4,
    "start_time": "2021-11-29T19:00:16.712Z"
   },
   {
    "duration": 121,
    "start_time": "2021-11-29T19:00:16.719Z"
   },
   {
    "duration": 22,
    "start_time": "2021-11-29T19:00:16.845Z"
   },
   {
    "duration": 72,
    "start_time": "2021-11-29T19:00:16.872Z"
   },
   {
    "duration": 61,
    "start_time": "2021-11-29T19:00:16.946Z"
   },
   {
    "duration": 41,
    "start_time": "2021-11-29T19:00:17.010Z"
   },
   {
    "duration": 21,
    "start_time": "2021-11-29T19:00:17.055Z"
   },
   {
    "duration": 47,
    "start_time": "2021-11-29T19:00:17.080Z"
   },
   {
    "duration": 28,
    "start_time": "2021-11-29T19:00:17.132Z"
   },
   {
    "duration": 56,
    "start_time": "2021-11-29T19:00:17.163Z"
   },
   {
    "duration": 7131,
    "start_time": "2021-11-29T19:00:22.475Z"
   },
   {
    "duration": 7837,
    "start_time": "2021-11-29T19:01:52.179Z"
   },
   {
    "duration": 7,
    "start_time": "2021-11-29T19:02:18.946Z"
   },
   {
    "duration": 7663,
    "start_time": "2021-11-29T19:03:46.367Z"
   },
   {
    "duration": 8,
    "start_time": "2021-11-29T19:08:56.513Z"
   },
   {
    "duration": 282,
    "start_time": "2021-11-29T19:15:14.226Z"
   },
   {
    "duration": 8249,
    "start_time": "2021-11-29T19:15:26.495Z"
   },
   {
    "duration": 353,
    "start_time": "2021-11-29T19:15:46.182Z"
   },
   {
    "duration": 6597,
    "start_time": "2021-11-29T19:16:23.583Z"
   },
   {
    "duration": 5,
    "start_time": "2021-11-29T19:16:52.615Z"
   },
   {
    "duration": 15,
    "start_time": "2021-11-29T19:21:25.185Z"
   },
   {
    "duration": 6,
    "start_time": "2021-11-29T19:28:42.306Z"
   },
   {
    "duration": 7,
    "start_time": "2021-11-29T19:28:42.315Z"
   },
   {
    "duration": 54,
    "start_time": "2021-11-29T19:35:19.202Z"
   },
   {
    "duration": 12,
    "start_time": "2021-11-29T19:35:20.443Z"
   },
   {
    "duration": 59,
    "start_time": "2021-11-29T19:36:21.351Z"
   },
   {
    "duration": 59,
    "start_time": "2021-11-29T19:36:44.473Z"
   },
   {
    "duration": 3854,
    "start_time": "2021-11-29T19:38:26.759Z"
   },
   {
    "duration": 834,
    "start_time": "2021-11-29T19:38:29.782Z"
   },
   {
    "duration": 6,
    "start_time": "2021-11-29T19:38:30.933Z"
   },
   {
    "duration": 3940,
    "start_time": "2021-11-29T19:41:08.115Z"
   },
   {
    "duration": 697,
    "start_time": "2021-11-29T19:41:11.361Z"
   },
   {
    "duration": 3510,
    "start_time": "2021-11-29T19:42:41.692Z"
   },
   {
    "duration": 3438,
    "start_time": "2021-11-29T19:43:25.882Z"
   },
   {
    "duration": 3431,
    "start_time": "2021-11-29T19:44:31.786Z"
   },
   {
    "duration": 267,
    "start_time": "2021-11-29T19:45:18.866Z"
   },
   {
    "duration": 275,
    "start_time": "2021-11-29T19:46:39.256Z"
   },
   {
    "duration": 745,
    "start_time": "2021-11-29T19:46:38.788Z"
   },
   {
    "duration": 3627,
    "start_time": "2021-11-29T19:47:58.085Z"
   },
   {
    "duration": 278,
    "start_time": "2021-11-29T19:49:13.966Z"
   },
   {
    "duration": 4,
    "start_time": "2021-11-29T19:49:26.446Z"
   },
   {
    "duration": 107,
    "start_time": "2021-11-29T19:49:26.452Z"
   },
   {
    "duration": 14,
    "start_time": "2021-11-29T19:49:26.562Z"
   },
   {
    "duration": 54,
    "start_time": "2021-11-29T19:49:26.578Z"
   },
   {
    "duration": 30,
    "start_time": "2021-11-29T19:49:26.634Z"
   },
   {
    "duration": 46,
    "start_time": "2021-11-29T19:49:26.666Z"
   },
   {
    "duration": 38,
    "start_time": "2021-11-29T19:49:26.714Z"
   },
   {
    "duration": 35,
    "start_time": "2021-11-29T19:49:26.755Z"
   },
   {
    "duration": 33,
    "start_time": "2021-11-29T19:49:26.794Z"
   },
   {
    "duration": 51,
    "start_time": "2021-11-29T19:49:26.831Z"
   },
   {
    "duration": 13,
    "start_time": "2021-11-29T19:49:36.377Z"
   },
   {
    "duration": 10,
    "start_time": "2021-11-29T19:49:39.072Z"
   },
   {
    "duration": 353,
    "start_time": "2021-11-29T19:50:04.324Z"
   },
   {
    "duration": 3579,
    "start_time": "2021-11-29T19:51:13.752Z"
   },
   {
    "duration": 3,
    "start_time": "2021-11-29T19:51:28.278Z"
   },
   {
    "duration": 61,
    "start_time": "2021-11-29T19:51:28.342Z"
   },
   {
    "duration": 14,
    "start_time": "2021-11-29T19:51:28.406Z"
   },
   {
    "duration": 46,
    "start_time": "2021-11-29T19:51:28.422Z"
   },
   {
    "duration": 30,
    "start_time": "2021-11-29T19:51:28.471Z"
   },
   {
    "duration": 28,
    "start_time": "2021-11-29T19:51:28.503Z"
   },
   {
    "duration": 27,
    "start_time": "2021-11-29T19:51:28.534Z"
   },
   {
    "duration": 17,
    "start_time": "2021-11-29T19:51:28.564Z"
   },
   {
    "duration": 13,
    "start_time": "2021-11-29T19:51:28.584Z"
   },
   {
    "duration": 25,
    "start_time": "2021-11-29T19:51:28.600Z"
   },
   {
    "duration": 9,
    "start_time": "2021-11-29T19:51:34.532Z"
   },
   {
    "duration": 13,
    "start_time": "2021-11-29T19:51:34.591Z"
   },
   {
    "duration": 10,
    "start_time": "2021-11-29T19:52:08.544Z"
   },
   {
    "duration": 15,
    "start_time": "2021-11-29T19:52:08.557Z"
   },
   {
    "duration": 5,
    "start_time": "2021-11-29T19:53:09.680Z"
   },
   {
    "duration": 6,
    "start_time": "2021-11-29T19:53:52.582Z"
   },
   {
    "duration": 6,
    "start_time": "2021-11-29T19:54:34.495Z"
   },
   {
    "duration": 348,
    "start_time": "2021-11-29T19:55:09.541Z"
   },
   {
    "duration": 825,
    "start_time": "2021-11-29T19:55:09.067Z"
   },
   {
    "duration": 6,
    "start_time": "2021-11-29T19:56:32.347Z"
   },
   {
    "duration": 282,
    "start_time": "2021-11-29T19:57:53.329Z"
   },
   {
    "duration": 317,
    "start_time": "2021-11-29T19:59:42.081Z"
   },
   {
    "duration": 3497,
    "start_time": "2021-11-29T20:00:07.891Z"
   },
   {
    "duration": 5118,
    "start_time": "2021-11-29T20:01:08.099Z"
   },
   {
    "duration": -652,
    "start_time": "2021-11-29T20:01:13.871Z"
   },
   {
    "duration": 3471,
    "start_time": "2021-11-29T20:01:36.683Z"
   },
   {
    "duration": 4066,
    "start_time": "2021-11-29T20:03:06.893Z"
   },
   {
    "duration": 3684,
    "start_time": "2021-11-29T20:06:42.942Z"
   },
   {
    "duration": 3463,
    "start_time": "2021-11-29T20:07:04.325Z"
   },
   {
    "duration": 711,
    "start_time": "2021-11-29T20:07:07.080Z"
   },
   {
    "duration": 4006,
    "start_time": "2021-11-29T20:07:51.129Z"
   },
   {
    "duration": 3,
    "start_time": "2021-11-29T20:08:12.756Z"
   },
   {
    "duration": 86,
    "start_time": "2021-11-29T20:08:12.761Z"
   },
   {
    "duration": 14,
    "start_time": "2021-11-29T20:08:12.850Z"
   },
   {
    "duration": 42,
    "start_time": "2021-11-29T20:08:12.866Z"
   },
   {
    "duration": 34,
    "start_time": "2021-11-29T20:08:12.910Z"
   },
   {
    "duration": 21,
    "start_time": "2021-11-29T20:08:12.947Z"
   },
   {
    "duration": 21,
    "start_time": "2021-11-29T20:08:12.970Z"
   },
   {
    "duration": 13,
    "start_time": "2021-11-29T20:08:12.993Z"
   },
   {
    "duration": 27,
    "start_time": "2021-11-29T20:08:13.009Z"
   },
   {
    "duration": 14,
    "start_time": "2021-11-29T20:08:13.039Z"
   },
   {
    "duration": 75,
    "start_time": "2021-11-29T20:08:18.678Z"
   },
   {
    "duration": 41,
    "start_time": "2021-11-29T20:09:41.206Z"
   },
   {
    "duration": 31,
    "start_time": "2021-11-29T20:10:16.003Z"
   },
   {
    "duration": 4051,
    "start_time": "2021-11-29T20:11:00.287Z"
   },
   {
    "duration": 3690,
    "start_time": "2021-11-29T20:11:43.824Z"
   },
   {
    "duration": 3,
    "start_time": "2021-11-29T20:11:54.335Z"
   },
   {
    "duration": 70,
    "start_time": "2021-11-29T20:11:54.341Z"
   },
   {
    "duration": 20,
    "start_time": "2021-11-29T20:11:54.414Z"
   },
   {
    "duration": 21,
    "start_time": "2021-11-29T20:11:54.437Z"
   },
   {
    "duration": 15,
    "start_time": "2021-11-29T20:11:54.461Z"
   },
   {
    "duration": 10,
    "start_time": "2021-11-29T20:11:54.478Z"
   },
   {
    "duration": 44,
    "start_time": "2021-11-29T20:11:54.491Z"
   },
   {
    "duration": 18,
    "start_time": "2021-11-29T20:11:54.538Z"
   },
   {
    "duration": 13,
    "start_time": "2021-11-29T20:11:54.560Z"
   },
   {
    "duration": 14,
    "start_time": "2021-11-29T20:11:54.575Z"
   },
   {
    "duration": 32,
    "start_time": "2021-11-29T20:12:03.011Z"
   },
   {
    "duration": 299,
    "start_time": "2021-11-29T20:13:03.982Z"
   },
   {
    "duration": 33,
    "start_time": "2021-11-29T20:13:09.544Z"
   },
   {
    "duration": 3516,
    "start_time": "2021-11-29T20:15:18.694Z"
   },
   {
    "duration": 429,
    "start_time": "2021-11-29T20:15:21.785Z"
   },
   {
    "duration": 7,
    "start_time": "2021-11-29T20:16:07.145Z"
   },
   {
    "duration": 14,
    "start_time": "2021-11-29T20:16:07.156Z"
   },
   {
    "duration": 7,
    "start_time": "2021-11-29T20:17:06.024Z"
   },
   {
    "duration": 6,
    "start_time": "2021-11-29T20:17:06.090Z"
   },
   {
    "duration": 3550,
    "start_time": "2021-11-29T20:17:58.008Z"
   },
   {
    "duration": 3,
    "start_time": "2021-11-29T20:18:05.605Z"
   },
   {
    "duration": 69,
    "start_time": "2021-11-29T20:18:05.611Z"
   },
   {
    "duration": 14,
    "start_time": "2021-11-29T20:18:05.683Z"
   },
   {
    "duration": 36,
    "start_time": "2021-11-29T20:18:05.699Z"
   },
   {
    "duration": 16,
    "start_time": "2021-11-29T20:18:05.737Z"
   },
   {
    "duration": 10,
    "start_time": "2021-11-29T20:18:05.755Z"
   },
   {
    "duration": 11,
    "start_time": "2021-11-29T20:18:05.767Z"
   },
   {
    "duration": 24,
    "start_time": "2021-11-29T20:18:05.780Z"
   },
   {
    "duration": 14,
    "start_time": "2021-11-29T20:18:05.829Z"
   },
   {
    "duration": 13,
    "start_time": "2021-11-29T20:18:05.845Z"
   },
   {
    "duration": 39,
    "start_time": "2021-11-29T20:18:05.861Z"
   },
   {
    "duration": 31,
    "start_time": "2021-11-29T20:18:09.525Z"
   },
   {
    "duration": 32,
    "start_time": "2021-11-29T20:20:40.495Z"
   },
   {
    "duration": 37,
    "start_time": "2021-11-29T20:22:56.899Z"
   },
   {
    "duration": 12,
    "start_time": "2021-11-29T20:22:56.938Z"
   },
   {
    "duration": 44,
    "start_time": "2021-11-29T20:24:59.686Z"
   },
   {
    "duration": 19,
    "start_time": "2021-11-29T20:24:59.732Z"
   },
   {
    "duration": 4111,
    "start_time": "2021-11-29T20:25:28.747Z"
   },
   {
    "duration": 833,
    "start_time": "2021-11-29T20:25:32.028Z"
   },
   {
    "duration": 4,
    "start_time": "2021-11-29T20:26:01.790Z"
   },
   {
    "duration": 69,
    "start_time": "2021-11-29T20:26:01.796Z"
   },
   {
    "duration": 15,
    "start_time": "2021-11-29T20:26:01.868Z"
   },
   {
    "duration": 23,
    "start_time": "2021-11-29T20:26:01.886Z"
   },
   {
    "duration": 28,
    "start_time": "2021-11-29T20:26:01.911Z"
   },
   {
    "duration": 30,
    "start_time": "2021-11-29T20:26:01.941Z"
   },
   {
    "duration": 12,
    "start_time": "2021-11-29T20:26:01.974Z"
   },
   {
    "duration": 11,
    "start_time": "2021-11-29T20:26:01.989Z"
   },
   {
    "duration": 15,
    "start_time": "2021-11-29T20:26:02.029Z"
   },
   {
    "duration": 15,
    "start_time": "2021-11-29T20:26:02.046Z"
   },
   {
    "duration": 41,
    "start_time": "2021-11-29T20:26:05.919Z"
   },
   {
    "duration": 13,
    "start_time": "2021-11-29T20:26:05.966Z"
   },
   {
    "duration": 3594,
    "start_time": "2021-11-29T20:31:37.673Z"
   },
   {
    "duration": 4,
    "start_time": "2021-11-29T20:35:13.413Z"
   },
   {
    "duration": 74,
    "start_time": "2021-11-29T20:35:13.420Z"
   },
   {
    "duration": 13,
    "start_time": "2021-11-29T20:35:13.497Z"
   },
   {
    "duration": 23,
    "start_time": "2021-11-29T20:35:13.513Z"
   },
   {
    "duration": 13,
    "start_time": "2021-11-29T20:35:13.539Z"
   },
   {
    "duration": 14,
    "start_time": "2021-11-29T20:35:13.555Z"
   },
   {
    "duration": 21,
    "start_time": "2021-11-29T20:35:13.571Z"
   },
   {
    "duration": 36,
    "start_time": "2021-11-29T20:35:13.594Z"
   },
   {
    "duration": 12,
    "start_time": "2021-11-29T20:35:13.634Z"
   },
   {
    "duration": 25,
    "start_time": "2021-11-29T20:35:13.649Z"
   },
   {
    "duration": 4853,
    "start_time": "2021-11-29T20:35:13.677Z"
   },
   {
    "duration": 876,
    "start_time": "2021-11-29T20:35:25.056Z"
   },
   {
    "duration": 864,
    "start_time": "2021-11-29T20:35:25.069Z"
   },
   {
    "duration": 6,
    "start_time": "2021-11-29T20:35:26.060Z"
   },
   {
    "duration": 3,
    "start_time": "2021-11-29T20:35:31.433Z"
   },
   {
    "duration": 77,
    "start_time": "2021-11-29T20:35:31.439Z"
   },
   {
    "duration": 16,
    "start_time": "2021-11-29T20:35:31.519Z"
   },
   {
    "duration": 20,
    "start_time": "2021-11-29T20:35:31.538Z"
   },
   {
    "duration": 14,
    "start_time": "2021-11-29T20:35:31.560Z"
   },
   {
    "duration": 10,
    "start_time": "2021-11-29T20:35:31.577Z"
   },
   {
    "duration": 47,
    "start_time": "2021-11-29T20:35:31.589Z"
   },
   {
    "duration": 10,
    "start_time": "2021-11-29T20:35:31.638Z"
   },
   {
    "duration": 15,
    "start_time": "2021-11-29T20:35:31.651Z"
   },
   {
    "duration": 17,
    "start_time": "2021-11-29T20:35:31.668Z"
   },
   {
    "duration": 3674,
    "start_time": "2021-11-29T20:35:35.631Z"
   },
   {
    "duration": 3574,
    "start_time": "2021-11-29T20:38:23.732Z"
   },
   {
    "duration": 5,
    "start_time": "2021-11-29T20:39:12.597Z"
   },
   {
    "duration": 98,
    "start_time": "2021-11-29T20:39:59.786Z"
   },
   {
    "duration": 3650,
    "start_time": "2021-11-29T20:40:18.941Z"
   },
   {
    "duration": 3,
    "start_time": "2021-11-29T20:42:19.848Z"
   },
   {
    "duration": 67,
    "start_time": "2021-11-29T20:42:19.853Z"
   },
   {
    "duration": 13,
    "start_time": "2021-11-29T20:42:19.923Z"
   },
   {
    "duration": 19,
    "start_time": "2021-11-29T20:42:19.939Z"
   },
   {
    "duration": 18,
    "start_time": "2021-11-29T20:42:19.960Z"
   },
   {
    "duration": 8,
    "start_time": "2021-11-29T20:42:19.981Z"
   },
   {
    "duration": 49,
    "start_time": "2021-11-29T20:42:19.992Z"
   },
   {
    "duration": 9,
    "start_time": "2021-11-29T20:42:20.044Z"
   },
   {
    "duration": 12,
    "start_time": "2021-11-29T20:42:20.057Z"
   },
   {
    "duration": 13,
    "start_time": "2021-11-29T20:42:20.072Z"
   },
   {
    "duration": 4,
    "start_time": "2021-11-29T20:42:20.087Z"
   },
   {
    "duration": 11,
    "start_time": "2021-11-29T20:42:23.854Z"
   },
   {
    "duration": 7,
    "start_time": "2021-11-29T20:42:28.724Z"
   },
   {
    "duration": 3,
    "start_time": "2021-11-29T20:43:46.115Z"
   },
   {
    "duration": 68,
    "start_time": "2021-11-29T20:43:46.121Z"
   },
   {
    "duration": 15,
    "start_time": "2021-11-29T20:43:46.192Z"
   },
   {
    "duration": 25,
    "start_time": "2021-11-29T20:43:46.210Z"
   },
   {
    "duration": 19,
    "start_time": "2021-11-29T20:43:46.237Z"
   },
   {
    "duration": 11,
    "start_time": "2021-11-29T20:43:46.258Z"
   },
   {
    "duration": 15,
    "start_time": "2021-11-29T20:43:46.271Z"
   },
   {
    "duration": 43,
    "start_time": "2021-11-29T20:43:46.288Z"
   },
   {
    "duration": 14,
    "start_time": "2021-11-29T20:43:46.335Z"
   },
   {
    "duration": 13,
    "start_time": "2021-11-29T20:43:46.352Z"
   },
   {
    "duration": 15,
    "start_time": "2021-11-29T20:43:47.932Z"
   },
   {
    "duration": 108,
    "start_time": "2021-11-29T20:43:47.995Z"
   },
   {
    "duration": 12,
    "start_time": "2021-11-29T20:44:00.655Z"
   },
   {
    "duration": 72,
    "start_time": "2021-11-29T20:44:15.262Z"
   },
   {
    "duration": 12,
    "start_time": "2021-11-29T20:44:21.871Z"
   },
   {
    "duration": 15,
    "start_time": "2021-11-29T20:45:45.403Z"
   },
   {
    "duration": 116,
    "start_time": "2021-11-29T20:47:25.980Z"
   },
   {
    "duration": 15,
    "start_time": "2021-11-29T20:48:36.794Z"
   },
   {
    "duration": 53,
    "start_time": "2021-11-29T20:49:26.736Z"
   },
   {
    "duration": 13,
    "start_time": "2021-11-29T20:49:29.479Z"
   },
   {
    "duration": 16,
    "start_time": "2021-11-29T20:49:29.534Z"
   },
   {
    "duration": 14,
    "start_time": "2021-11-29T20:49:54.362Z"
   },
   {
    "duration": 29,
    "start_time": "2021-11-29T20:50:34.328Z"
   },
   {
    "duration": 13,
    "start_time": "2021-11-29T20:50:35.221Z"
   },
   {
    "duration": 13,
    "start_time": "2021-11-29T20:50:35.273Z"
   },
   {
    "duration": 37,
    "start_time": "2021-11-29T20:50:42.038Z"
   },
   {
    "duration": 12,
    "start_time": "2021-11-29T20:50:42.535Z"
   },
   {
    "duration": 14,
    "start_time": "2021-11-29T20:50:43.454Z"
   },
   {
    "duration": 4,
    "start_time": "2021-11-29T20:51:05.473Z"
   },
   {
    "duration": 84,
    "start_time": "2021-11-29T20:51:06.049Z"
   },
   {
    "duration": 23,
    "start_time": "2021-11-29T20:51:07.389Z"
   },
   {
    "duration": 29,
    "start_time": "2021-11-29T20:51:07.434Z"
   },
   {
    "duration": 13,
    "start_time": "2021-11-29T20:51:16.536Z"
   },
   {
    "duration": 10,
    "start_time": "2021-11-29T20:51:23.985Z"
   },
   {
    "duration": 10,
    "start_time": "2021-11-29T20:51:24.065Z"
   },
   {
    "duration": 10,
    "start_time": "2021-11-29T20:51:29.799Z"
   },
   {
    "duration": 15,
    "start_time": "2021-11-29T20:51:39.637Z"
   },
   {
    "duration": 14,
    "start_time": "2021-11-29T20:51:44.936Z"
   },
   {
    "duration": 54,
    "start_time": "2021-11-29T20:51:45.000Z"
   },
   {
    "duration": 13,
    "start_time": "2021-11-29T20:51:52.760Z"
   },
   {
    "duration": 15,
    "start_time": "2021-11-29T20:52:06.729Z"
   },
   {
    "duration": 56,
    "start_time": "2021-11-29T20:52:23.154Z"
   },
   {
    "duration": 12,
    "start_time": "2021-11-29T20:52:24.082Z"
   },
   {
    "duration": 14,
    "start_time": "2021-11-29T20:52:29.111Z"
   },
   {
    "duration": 54,
    "start_time": "2021-11-29T20:54:25.333Z"
   },
   {
    "duration": 45,
    "start_time": "2021-11-29T20:57:57.673Z"
   },
   {
    "duration": 12,
    "start_time": "2021-11-29T20:57:59.605Z"
   },
   {
    "duration": 15,
    "start_time": "2021-11-29T20:58:00.795Z"
   },
   {
    "duration": 53,
    "start_time": "2021-11-29T21:04:48.748Z"
   },
   {
    "duration": 40,
    "start_time": "2021-11-29T21:09:26.929Z"
   },
   {
    "duration": 15,
    "start_time": "2021-11-29T21:09:28.884Z"
   },
   {
    "duration": 11,
    "start_time": "2021-11-29T21:10:20.267Z"
   },
   {
    "duration": 48,
    "start_time": "2021-11-29T21:13:55.922Z"
   },
   {
    "duration": 812,
    "start_time": "2021-11-30T07:00:39.023Z"
   },
   {
    "duration": 63,
    "start_time": "2021-11-30T07:00:39.838Z"
   },
   {
    "duration": 14,
    "start_time": "2021-11-30T07:00:39.904Z"
   },
   {
    "duration": 41,
    "start_time": "2021-11-30T07:00:39.921Z"
   },
   {
    "duration": 12,
    "start_time": "2021-11-30T07:00:39.964Z"
   },
   {
    "duration": 10,
    "start_time": "2021-11-30T07:00:39.978Z"
   },
   {
    "duration": 13,
    "start_time": "2021-11-30T07:00:39.991Z"
   },
   {
    "duration": 10,
    "start_time": "2021-11-30T07:00:40.006Z"
   },
   {
    "duration": 14,
    "start_time": "2021-11-30T07:00:40.059Z"
   },
   {
    "duration": 13,
    "start_time": "2021-11-30T07:00:40.076Z"
   },
   {
    "duration": 40,
    "start_time": "2021-11-30T07:00:42.652Z"
   },
   {
    "duration": 100,
    "start_time": "2021-11-30T07:01:45.087Z"
   },
   {
    "duration": 37,
    "start_time": "2021-11-30T08:18:22.198Z"
   },
   {
    "duration": 11,
    "start_time": "2021-11-30T08:18:24.473Z"
   },
   {
    "duration": 122,
    "start_time": "2021-11-30T09:17:28.076Z"
   },
   {
    "duration": 55,
    "start_time": "2021-11-30T09:19:22.502Z"
   },
   {
    "duration": 57,
    "start_time": "2021-11-30T09:20:25.832Z"
   },
   {
    "duration": 11,
    "start_time": "2021-11-30T09:20:27.387Z"
   },
   {
    "duration": 102,
    "start_time": "2021-11-30T09:21:32.428Z"
   },
   {
    "duration": 13,
    "start_time": "2021-11-30T09:21:32.948Z"
   },
   {
    "duration": 102,
    "start_time": "2021-11-30T09:23:19.895Z"
   },
   {
    "duration": 14,
    "start_time": "2021-11-30T09:23:20.583Z"
   },
   {
    "duration": 15,
    "start_time": "2021-11-30T09:23:20.646Z"
   },
   {
    "duration": 117,
    "start_time": "2021-11-30T09:23:37.548Z"
   },
   {
    "duration": 11,
    "start_time": "2021-11-30T09:23:38.046Z"
   },
   {
    "duration": 17,
    "start_time": "2021-11-30T09:23:38.681Z"
   },
   {
    "duration": 112,
    "start_time": "2021-11-30T09:25:05.018Z"
   },
   {
    "duration": 13,
    "start_time": "2021-11-30T09:25:05.133Z"
   },
   {
    "duration": 16,
    "start_time": "2021-11-30T09:25:06.358Z"
   },
   {
    "duration": 109,
    "start_time": "2021-11-30T09:25:18.356Z"
   },
   {
    "duration": 12,
    "start_time": "2021-11-30T09:25:19.366Z"
   },
   {
    "duration": 16,
    "start_time": "2021-11-30T09:25:20.427Z"
   },
   {
    "duration": 10,
    "start_time": "2021-11-30T19:01:33.857Z"
   },
   {
    "duration": 503,
    "start_time": "2021-11-30T19:02:29.195Z"
   },
   {
    "duration": 8,
    "start_time": "2021-11-30T19:03:42.184Z"
   },
   {
    "duration": 10,
    "start_time": "2021-11-30T19:05:06.482Z"
   },
   {
    "duration": 364,
    "start_time": "2021-11-30T19:16:50.013Z"
   },
   {
    "duration": 7,
    "start_time": "2021-11-30T19:17:00.499Z"
   },
   {
    "duration": 416,
    "start_time": "2021-11-30T19:18:19.877Z"
   },
   {
    "duration": 7,
    "start_time": "2021-11-30T19:18:32.094Z"
   },
   {
    "duration": 381,
    "start_time": "2021-11-30T19:18:35.062Z"
   },
   {
    "duration": 17,
    "start_time": "2021-11-30T19:28:09.794Z"
   },
   {
    "duration": 13,
    "start_time": "2021-11-30T19:30:26.008Z"
   },
   {
    "duration": 19,
    "start_time": "2021-11-30T19:30:40.710Z"
   },
   {
    "duration": 4,
    "start_time": "2021-11-30T19:31:06.649Z"
   },
   {
    "duration": 86,
    "start_time": "2021-11-30T19:31:06.657Z"
   },
   {
    "duration": 15,
    "start_time": "2021-11-30T19:31:06.746Z"
   },
   {
    "duration": 29,
    "start_time": "2021-11-30T19:31:06.764Z"
   },
   {
    "duration": 18,
    "start_time": "2021-11-30T19:31:06.797Z"
   },
   {
    "duration": 41,
    "start_time": "2021-11-30T19:31:06.818Z"
   },
   {
    "duration": 14,
    "start_time": "2021-11-30T19:31:06.863Z"
   },
   {
    "duration": 14,
    "start_time": "2021-11-30T19:31:06.882Z"
   },
   {
    "duration": 13,
    "start_time": "2021-11-30T19:31:06.899Z"
   },
   {
    "duration": 52,
    "start_time": "2021-11-30T19:31:06.915Z"
   },
   {
    "duration": 199,
    "start_time": "2021-11-30T19:31:06.971Z"
   },
   {
    "duration": 17,
    "start_time": "2021-11-30T19:31:07.173Z"
   },
   {
    "duration": 11,
    "start_time": "2021-11-30T19:31:09.606Z"
   },
   {
    "duration": 15,
    "start_time": "2021-11-30T19:31:09.694Z"
   },
   {
    "duration": 20,
    "start_time": "2021-11-30T19:31:13.118Z"
   },
   {
    "duration": 14,
    "start_time": "2021-11-30T19:32:35.535Z"
   },
   {
    "duration": 12,
    "start_time": "2021-11-30T19:32:35.586Z"
   },
   {
    "duration": 9,
    "start_time": "2021-11-30T19:33:25.910Z"
   },
   {
    "duration": 12,
    "start_time": "2021-11-30T19:33:25.956Z"
   },
   {
    "duration": 368,
    "start_time": "2021-11-30T19:34:03.249Z"
   },
   {
    "duration": 20,
    "start_time": "2021-11-30T19:34:13.914Z"
   },
   {
    "duration": 602,
    "start_time": "2021-12-01T18:51:31.721Z"
   },
   {
    "duration": 51,
    "start_time": "2021-12-01T18:51:32.325Z"
   },
   {
    "duration": 55,
    "start_time": "2021-12-01T18:51:32.379Z"
   },
   {
    "duration": 49,
    "start_time": "2021-12-01T18:51:32.436Z"
   },
   {
    "duration": 53,
    "start_time": "2021-12-01T18:51:32.488Z"
   },
   {
    "duration": 45,
    "start_time": "2021-12-01T18:51:32.543Z"
   },
   {
    "duration": 12,
    "start_time": "2021-12-01T18:51:32.590Z"
   },
   {
    "duration": 26,
    "start_time": "2021-12-01T18:51:32.605Z"
   },
   {
    "duration": 9,
    "start_time": "2021-12-01T18:51:32.633Z"
   },
   {
    "duration": 9,
    "start_time": "2021-12-01T18:51:32.644Z"
   },
   {
    "duration": 87,
    "start_time": "2021-12-01T18:51:32.655Z"
   },
   {
    "duration": 72,
    "start_time": "2021-12-01T18:51:35.003Z"
   },
   {
    "duration": 10,
    "start_time": "2021-12-01T18:51:35.440Z"
   },
   {
    "duration": 11,
    "start_time": "2021-12-01T18:51:35.488Z"
   },
   {
    "duration": 13,
    "start_time": "2021-12-01T18:51:41.961Z"
   },
   {
    "duration": 6,
    "start_time": "2021-12-01T18:51:45.819Z"
   },
   {
    "duration": 14,
    "start_time": "2021-12-01T18:51:45.885Z"
   },
   {
    "duration": 18,
    "start_time": "2021-12-01T18:55:45.922Z"
   },
   {
    "duration": 19,
    "start_time": "2021-12-01T18:57:39.768Z"
   },
   {
    "duration": 24,
    "start_time": "2021-12-01T18:58:09.901Z"
   },
   {
    "duration": 5,
    "start_time": "2021-12-01T19:02:06.688Z"
   },
   {
    "duration": 16,
    "start_time": "2021-12-01T19:05:14.268Z"
   },
   {
    "duration": 11,
    "start_time": "2021-12-01T19:05:41.610Z"
   },
   {
    "duration": 6,
    "start_time": "2021-12-01T19:05:57.863Z"
   },
   {
    "duration": 5,
    "start_time": "2021-12-01T19:07:36.217Z"
   },
   {
    "duration": 5,
    "start_time": "2021-12-01T19:08:42.419Z"
   },
   {
    "duration": 6,
    "start_time": "2021-12-01T19:10:28.006Z"
   },
   {
    "duration": 6,
    "start_time": "2021-12-01T19:11:57.519Z"
   },
   {
    "duration": 17,
    "start_time": "2021-12-01T19:13:22.849Z"
   },
   {
    "duration": 18,
    "start_time": "2021-12-01T19:14:17.895Z"
   },
   {
    "duration": 17,
    "start_time": "2021-12-01T19:14:19.243Z"
   },
   {
    "duration": 8,
    "start_time": "2021-12-01T19:39:52.054Z"
   },
   {
    "duration": 298,
    "start_time": "2021-12-01T19:39:52.455Z"
   },
   {
    "duration": 3,
    "start_time": "2021-12-01T19:40:53.221Z"
   },
   {
    "duration": 5,
    "start_time": "2021-12-01T19:44:07.390Z"
   },
   {
    "duration": 7,
    "start_time": "2021-12-01T19:44:36.078Z"
   },
   {
    "duration": 3676,
    "start_time": "2021-12-01T19:49:15.716Z"
   },
   {
    "duration": 20,
    "start_time": "2021-12-01T19:49:27.584Z"
   },
   {
    "duration": 3,
    "start_time": "2021-12-01T19:49:28.407Z"
   },
   {
    "duration": 6,
    "start_time": "2021-12-01T19:49:29.517Z"
   },
   {
    "duration": 3518,
    "start_time": "2021-12-01T19:49:30.243Z"
   },
   {
    "duration": 3004,
    "start_time": "2021-12-01T19:49:57.725Z"
   },
   {
    "duration": 15,
    "start_time": "2021-12-01T19:50:37.567Z"
   },
   {
    "duration": 61,
    "start_time": "2021-12-01T20:02:57.080Z"
   },
   {
    "duration": 1819,
    "start_time": "2021-12-01T20:03:42.468Z"
   },
   {
    "duration": 66,
    "start_time": "2021-12-01T20:04:04.901Z"
   },
   {
    "duration": 1687,
    "start_time": "2021-12-01T20:04:06.447Z"
   },
   {
    "duration": 18,
    "start_time": "2021-12-01T20:04:33.959Z"
   },
   {
    "duration": 25,
    "start_time": "2021-12-01T20:05:58.915Z"
   },
   {
    "duration": 83,
    "start_time": "2021-12-01T20:39:56.476Z"
   },
   {
    "duration": 7,
    "start_time": "2021-12-01T20:40:08.007Z"
   },
   {
    "duration": 5,
    "start_time": "2021-12-01T20:43:27.600Z"
   },
   {
    "duration": 4,
    "start_time": "2021-12-01T20:43:28.315Z"
   },
   {
    "duration": 6,
    "start_time": "2021-12-01T20:43:42.027Z"
   },
   {
    "duration": 82,
    "start_time": "2021-12-01T20:49:29.721Z"
   },
   {
    "duration": 3,
    "start_time": "2021-12-01T20:49:36.250Z"
   },
   {
    "duration": 245,
    "start_time": "2021-12-01T20:53:49.671Z"
   },
   {
    "duration": 18,
    "start_time": "2021-12-01T20:53:50.191Z"
   },
   {
    "duration": 7,
    "start_time": "2021-12-01T20:54:08.850Z"
   },
   {
    "duration": 20,
    "start_time": "2021-12-01T20:54:10.345Z"
   },
   {
    "duration": 20,
    "start_time": "2021-12-01T20:57:11.781Z"
   },
   {
    "duration": 47,
    "start_time": "2021-12-01T20:58:19.504Z"
   },
   {
    "duration": 86,
    "start_time": "2021-12-01T21:04:50.369Z"
   },
   {
    "duration": 83,
    "start_time": "2021-12-01T21:05:08.315Z"
   },
   {
    "duration": 11,
    "start_time": "2021-12-01T21:05:23.481Z"
   },
   {
    "duration": 96,
    "start_time": "2021-12-02T19:19:22.556Z"
   },
   {
    "duration": 893,
    "start_time": "2021-12-02T19:45:02.805Z"
   },
   {
    "duration": 66,
    "start_time": "2021-12-02T19:45:03.701Z"
   },
   {
    "duration": 15,
    "start_time": "2021-12-02T19:45:03.771Z"
   },
   {
    "duration": 31,
    "start_time": "2021-12-02T19:45:03.789Z"
   },
   {
    "duration": 45,
    "start_time": "2021-12-02T19:45:03.822Z"
   },
   {
    "duration": 10,
    "start_time": "2021-12-02T19:45:03.869Z"
   },
   {
    "duration": 14,
    "start_time": "2021-12-02T19:45:03.881Z"
   },
   {
    "duration": 9,
    "start_time": "2021-12-02T19:45:03.897Z"
   },
   {
    "duration": 12,
    "start_time": "2021-12-02T19:45:03.911Z"
   },
   {
    "duration": 14,
    "start_time": "2021-12-02T19:45:03.966Z"
   },
   {
    "duration": 122,
    "start_time": "2021-12-02T19:45:03.982Z"
   },
   {
    "duration": 14,
    "start_time": "2021-12-02T19:45:04.106Z"
   },
   {
    "duration": 15,
    "start_time": "2021-12-02T19:45:04.123Z"
   },
   {
    "duration": 20,
    "start_time": "2021-12-02T19:45:04.168Z"
   },
   {
    "duration": 9,
    "start_time": "2021-12-02T19:45:04.190Z"
   },
   {
    "duration": 20,
    "start_time": "2021-12-02T19:45:04.202Z"
   },
   {
    "duration": 60,
    "start_time": "2021-12-02T19:45:04.225Z"
   },
   {
    "duration": 27,
    "start_time": "2021-12-02T19:45:04.287Z"
   },
   {
    "duration": 23,
    "start_time": "2021-12-02T19:45:04.316Z"
   },
   {
    "duration": 27,
    "start_time": "2021-12-02T19:45:04.342Z"
   },
   {
    "duration": 17,
    "start_time": "2021-12-02T19:45:04.372Z"
   },
   {
    "duration": 26,
    "start_time": "2021-12-02T19:45:04.392Z"
   },
   {
    "duration": 17,
    "start_time": "2021-12-02T19:45:04.420Z"
   },
   {
    "duration": 29,
    "start_time": "2021-12-02T19:45:04.439Z"
   },
   {
    "duration": 7,
    "start_time": "2021-12-02T19:45:04.471Z"
   },
   {
    "duration": 26,
    "start_time": "2021-12-02T19:45:04.480Z"
   },
   {
    "duration": 24,
    "start_time": "2021-12-02T19:45:04.511Z"
   },
   {
    "duration": 23,
    "start_time": "2021-12-02T19:45:04.567Z"
   },
   {
    "duration": 12,
    "start_time": "2021-12-02T19:45:04.592Z"
   },
   {
    "duration": 3,
    "start_time": "2021-12-02T19:45:04.607Z"
   },
   {
    "duration": 4655,
    "start_time": "2021-12-02T19:45:04.612Z"
   },
   {
    "duration": 105,
    "start_time": "2021-12-02T19:45:09.270Z"
   },
   {
    "duration": 43,
    "start_time": "2021-12-02T19:45:09.377Z"
   },
   {
    "duration": 11,
    "start_time": "2021-12-02T19:45:09.423Z"
   },
   {
    "duration": 31,
    "start_time": "2021-12-02T19:45:09.437Z"
   },
   {
    "duration": 5,
    "start_time": "2021-12-02T19:45:09.471Z"
   },
   {
    "duration": 9,
    "start_time": "2021-12-02T19:45:09.479Z"
   },
   {
    "duration": 5,
    "start_time": "2021-12-02T19:45:09.491Z"
   },
   {
    "duration": 17,
    "start_time": "2021-12-02T19:45:09.498Z"
   },
   {
    "duration": 67,
    "start_time": "2021-12-02T19:45:09.517Z"
   },
   {
    "duration": 112,
    "start_time": "2021-12-02T19:45:09.588Z"
   },
   {
    "duration": 110,
    "start_time": "2021-12-02T19:47:07.740Z"
   },
   {
    "duration": 4,
    "start_time": "2021-12-02T19:47:53.806Z"
   },
   {
    "duration": 5,
    "start_time": "2021-12-02T19:48:32.797Z"
   },
   {
    "duration": 6,
    "start_time": "2021-12-02T19:48:44.435Z"
   },
   {
    "duration": 5,
    "start_time": "2021-12-02T19:48:54.736Z"
   },
   {
    "duration": 8,
    "start_time": "2021-12-02T19:50:06.929Z"
   },
   {
    "duration": 7049,
    "start_time": "2021-12-02T19:50:35.295Z"
   },
   {
    "duration": 19,
    "start_time": "2021-12-02T19:53:13.626Z"
   },
   {
    "duration": 4,
    "start_time": "2021-12-02T19:54:36.258Z"
   },
   {
    "duration": 10,
    "start_time": "2021-12-02T19:54:40.889Z"
   },
   {
    "duration": 12,
    "start_time": "2021-12-02T19:54:41.504Z"
   },
   {
    "duration": 5,
    "start_time": "2021-12-02T19:54:49.438Z"
   },
   {
    "duration": 14,
    "start_time": "2021-12-02T19:54:50.333Z"
   },
   {
    "duration": 15,
    "start_time": "2021-12-02T19:56:04.955Z"
   },
   {
    "duration": 21,
    "start_time": "2021-12-02T19:56:05.569Z"
   },
   {
    "duration": 21,
    "start_time": "2021-12-02T19:57:36.065Z"
   },
   {
    "duration": 14,
    "start_time": "2021-12-02T19:58:13.001Z"
   },
   {
    "duration": 12,
    "start_time": "2021-12-02T19:58:13.614Z"
   },
   {
    "duration": 15,
    "start_time": "2021-12-02T19:58:16.648Z"
   },
   {
    "duration": 15,
    "start_time": "2021-12-02T19:58:20.138Z"
   },
   {
    "duration": 13,
    "start_time": "2021-12-02T19:58:47.260Z"
   },
   {
    "duration": 19,
    "start_time": "2021-12-02T20:07:40.283Z"
   },
   {
    "duration": 3,
    "start_time": "2021-12-02T20:07:58.019Z"
   },
   {
    "duration": 75,
    "start_time": "2021-12-02T20:07:58.025Z"
   },
   {
    "duration": 15,
    "start_time": "2021-12-02T20:07:58.103Z"
   },
   {
    "duration": 21,
    "start_time": "2021-12-02T20:07:58.120Z"
   },
   {
    "duration": 19,
    "start_time": "2021-12-02T20:07:58.167Z"
   },
   {
    "duration": 10,
    "start_time": "2021-12-02T20:07:58.341Z"
   },
   {
    "duration": 15,
    "start_time": "2021-12-02T20:07:58.354Z"
   },
   {
    "duration": 12,
    "start_time": "2021-12-02T20:07:58.377Z"
   },
   {
    "duration": 15,
    "start_time": "2021-12-02T20:07:58.392Z"
   },
   {
    "duration": 13,
    "start_time": "2021-12-02T20:07:58.409Z"
   },
   {
    "duration": 159,
    "start_time": "2021-12-02T20:07:58.425Z"
   },
   {
    "duration": 13,
    "start_time": "2021-12-02T20:07:58.587Z"
   },
   {
    "duration": 19,
    "start_time": "2021-12-02T20:07:58.603Z"
   },
   {
    "duration": 45,
    "start_time": "2021-12-02T20:07:58.626Z"
   },
   {
    "duration": 7,
    "start_time": "2021-12-02T20:07:58.679Z"
   },
   {
    "duration": 24,
    "start_time": "2021-12-02T20:07:58.690Z"
   },
   {
    "duration": 67,
    "start_time": "2021-12-02T20:07:58.717Z"
   },
   {
    "duration": 27,
    "start_time": "2021-12-02T20:07:58.787Z"
   },
   {
    "duration": 58,
    "start_time": "2021-12-02T20:07:58.817Z"
   },
   {
    "duration": 7,
    "start_time": "2021-12-02T20:07:58.878Z"
   },
   {
    "duration": 20,
    "start_time": "2021-12-02T20:07:58.887Z"
   },
   {
    "duration": 13,
    "start_time": "2021-12-02T20:07:58.909Z"
   },
   {
    "duration": 10,
    "start_time": "2021-12-02T20:07:58.925Z"
   },
   {
    "duration": 49,
    "start_time": "2021-12-02T20:07:58.938Z"
   },
   {
    "duration": 10,
    "start_time": "2021-12-02T20:07:58.989Z"
   },
   {
    "duration": 9,
    "start_time": "2021-12-02T20:07:59.001Z"
   },
   {
    "duration": 61,
    "start_time": "2021-12-02T20:07:59.013Z"
   },
   {
    "duration": 29,
    "start_time": "2021-12-02T20:07:59.078Z"
   },
   {
    "duration": 24,
    "start_time": "2021-12-02T20:07:59.109Z"
   },
   {
    "duration": 55,
    "start_time": "2021-12-02T20:07:59.135Z"
   },
   {
    "duration": 5,
    "start_time": "2021-12-02T20:07:59.192Z"
   },
   {
    "duration": 4995,
    "start_time": "2021-12-02T20:07:59.202Z"
   },
   {
    "duration": 108,
    "start_time": "2021-12-02T20:08:04.199Z"
   },
   {
    "duration": 99,
    "start_time": "2021-12-02T20:08:04.309Z"
   },
   {
    "duration": 61,
    "start_time": "2021-12-02T20:08:04.411Z"
   },
   {
    "duration": 7,
    "start_time": "2021-12-02T20:08:04.475Z"
   },
   {
    "duration": 9,
    "start_time": "2021-12-02T20:08:04.485Z"
   },
   {
    "duration": 12,
    "start_time": "2021-12-02T20:08:04.496Z"
   },
   {
    "duration": 8,
    "start_time": "2021-12-02T20:08:04.510Z"
   },
   {
    "duration": 13,
    "start_time": "2021-12-02T20:08:04.521Z"
   },
   {
    "duration": 20,
    "start_time": "2021-12-02T20:08:04.536Z"
   },
   {
    "duration": 5,
    "start_time": "2021-12-02T20:08:04.902Z"
   },
   {
    "duration": 16,
    "start_time": "2021-12-02T20:08:04.934Z"
   },
   {
    "duration": 19,
    "start_time": "2021-12-02T20:15:44.375Z"
   },
   {
    "duration": 10,
    "start_time": "2021-12-02T20:16:47.881Z"
   },
   {
    "duration": 10,
    "start_time": "2021-12-02T20:18:24.201Z"
   },
   {
    "duration": 269,
    "start_time": "2021-12-02T20:55:41.095Z"
   },
   {
    "duration": 7,
    "start_time": "2021-12-02T20:56:07.912Z"
   },
   {
    "duration": 562,
    "start_time": "2021-12-02T20:56:10.246Z"
   },
   {
    "duration": 312,
    "start_time": "2021-12-02T20:56:53.851Z"
   },
   {
    "duration": 6,
    "start_time": "2021-12-02T20:57:12.391Z"
   },
   {
    "duration": 7,
    "start_time": "2021-12-02T20:57:16.614Z"
   },
   {
    "duration": 660,
    "start_time": "2021-12-02T20:57:17.226Z"
   },
   {
    "duration": 20,
    "start_time": "2021-12-02T20:57:19.056Z"
   },
   {
    "duration": 25,
    "start_time": "2021-12-02T21:03:47.129Z"
   },
   {
    "duration": 792,
    "start_time": "2021-12-03T07:21:25.223Z"
   },
   {
    "duration": 75,
    "start_time": "2021-12-03T07:21:26.017Z"
   },
   {
    "duration": 16,
    "start_time": "2021-12-03T07:21:26.095Z"
   },
   {
    "duration": 29,
    "start_time": "2021-12-03T07:21:26.114Z"
   },
   {
    "duration": 34,
    "start_time": "2021-12-03T07:21:26.145Z"
   },
   {
    "duration": 46,
    "start_time": "2021-12-03T07:21:26.182Z"
   },
   {
    "duration": 13,
    "start_time": "2021-12-03T07:21:26.230Z"
   },
   {
    "duration": 73,
    "start_time": "2021-12-03T07:21:26.246Z"
   },
   {
    "duration": 30,
    "start_time": "2021-12-03T07:21:26.322Z"
   },
   {
    "duration": 25,
    "start_time": "2021-12-03T07:21:26.354Z"
   },
   {
    "duration": 78,
    "start_time": "2021-12-03T07:21:26.381Z"
   },
   {
    "duration": 12,
    "start_time": "2021-12-03T07:21:26.460Z"
   },
   {
    "duration": 26,
    "start_time": "2021-12-03T07:21:26.474Z"
   },
   {
    "duration": 35,
    "start_time": "2021-12-03T07:21:26.503Z"
   },
   {
    "duration": 27,
    "start_time": "2021-12-03T07:21:26.540Z"
   },
   {
    "duration": 32,
    "start_time": "2021-12-03T07:21:26.569Z"
   },
   {
    "duration": 41,
    "start_time": "2021-12-03T07:21:26.603Z"
   },
   {
    "duration": 35,
    "start_time": "2021-12-03T07:21:26.646Z"
   },
   {
    "duration": 83,
    "start_time": "2021-12-03T07:21:26.683Z"
   },
   {
    "duration": 11,
    "start_time": "2021-12-03T07:21:26.768Z"
   },
   {
    "duration": 31,
    "start_time": "2021-12-03T07:21:26.781Z"
   },
   {
    "duration": 11,
    "start_time": "2021-12-03T07:21:26.814Z"
   },
   {
    "duration": 11,
    "start_time": "2021-12-03T07:21:26.829Z"
   },
   {
    "duration": 19,
    "start_time": "2021-12-03T07:21:26.843Z"
   },
   {
    "duration": 13,
    "start_time": "2021-12-03T07:21:26.864Z"
   },
   {
    "duration": 18,
    "start_time": "2021-12-03T07:21:26.879Z"
   },
   {
    "duration": 21,
    "start_time": "2021-12-03T07:21:26.899Z"
   },
   {
    "duration": 18,
    "start_time": "2021-12-03T07:21:26.922Z"
   },
   {
    "duration": 30,
    "start_time": "2021-12-03T07:21:26.942Z"
   },
   {
    "duration": 7,
    "start_time": "2021-12-03T07:21:26.974Z"
   },
   {
    "duration": 2,
    "start_time": "2021-12-03T07:21:26.983Z"
   },
   {
    "duration": 3933,
    "start_time": "2021-12-03T07:21:26.988Z"
   },
   {
    "duration": 73,
    "start_time": "2021-12-03T07:21:30.923Z"
   },
   {
    "duration": 28,
    "start_time": "2021-12-03T07:21:30.998Z"
   },
   {
    "duration": 21,
    "start_time": "2021-12-03T07:21:31.028Z"
   },
   {
    "duration": 14,
    "start_time": "2021-12-03T07:21:31.050Z"
   },
   {
    "duration": 14,
    "start_time": "2021-12-03T07:21:31.066Z"
   },
   {
    "duration": 15,
    "start_time": "2021-12-03T07:21:31.082Z"
   },
   {
    "duration": 11,
    "start_time": "2021-12-03T07:21:31.099Z"
   },
   {
    "duration": 16,
    "start_time": "2021-12-03T07:21:31.112Z"
   },
   {
    "duration": 22,
    "start_time": "2021-12-03T07:21:31.130Z"
   },
   {
    "duration": 4,
    "start_time": "2021-12-03T07:21:31.153Z"
   },
   {
    "duration": 23,
    "start_time": "2021-12-03T07:21:31.158Z"
   },
   {
    "duration": 21,
    "start_time": "2021-12-03T07:21:31.183Z"
   },
   {
    "duration": 9,
    "start_time": "2021-12-03T07:21:31.206Z"
   },
   {
    "duration": 5,
    "start_time": "2021-12-03T07:21:31.217Z"
   },
   {
    "duration": 398,
    "start_time": "2021-12-03T07:21:31.224Z"
   },
   {
    "duration": 18,
    "start_time": "2021-12-03T07:21:31.624Z"
   },
   {
    "duration": 43,
    "start_time": "2021-12-03T07:21:31.644Z"
   },
   {
    "duration": 13,
    "start_time": "2021-12-03T07:21:31.689Z"
   },
   {
    "duration": 95,
    "start_time": "2021-12-03T07:25:05.214Z"
   },
   {
    "duration": 8,
    "start_time": "2021-12-03T07:25:15.654Z"
   },
   {
    "duration": 16,
    "start_time": "2021-12-03T07:31:48.190Z"
   },
   {
    "duration": 15,
    "start_time": "2021-12-03T07:31:48.220Z"
   },
   {
    "duration": 15,
    "start_time": "2021-12-03T07:33:44.935Z"
   },
   {
    "duration": 18,
    "start_time": "2021-12-03T07:33:45.246Z"
   },
   {
    "duration": 16,
    "start_time": "2021-12-03T07:35:04.115Z"
   },
   {
    "duration": 8,
    "start_time": "2021-12-03T07:50:35.135Z"
   },
   {
    "duration": 17,
    "start_time": "2021-12-03T07:50:35.195Z"
   },
   {
    "duration": 7,
    "start_time": "2021-12-03T07:51:03.436Z"
   },
   {
    "duration": 5,
    "start_time": "2021-12-03T08:04:52.046Z"
   },
   {
    "duration": 5,
    "start_time": "2021-12-03T08:04:58.992Z"
   },
   {
    "duration": 10,
    "start_time": "2021-12-03T08:05:22.550Z"
   },
   {
    "duration": 9,
    "start_time": "2021-12-03T08:10:47.511Z"
   },
   {
    "duration": 15,
    "start_time": "2021-12-03T08:10:54.106Z"
   },
   {
    "duration": 7,
    "start_time": "2021-12-03T08:10:58.169Z"
   },
   {
    "duration": 9,
    "start_time": "2021-12-03T08:10:59.487Z"
   },
   {
    "duration": 27,
    "start_time": "2021-12-03T08:43:17.224Z"
   },
   {
    "duration": 84,
    "start_time": "2021-12-03T08:48:35.417Z"
   },
   {
    "duration": 3,
    "start_time": "2021-12-03T09:02:03.138Z"
   },
   {
    "duration": 4,
    "start_time": "2021-12-03T09:02:37.966Z"
   },
   {
    "duration": 4,
    "start_time": "2021-12-03T09:02:44.353Z"
   },
   {
    "duration": 4,
    "start_time": "2021-12-03T09:02:54.547Z"
   },
   {
    "duration": 13,
    "start_time": "2021-12-03T09:54:34.022Z"
   },
   {
    "duration": 18,
    "start_time": "2021-12-03T09:55:29.144Z"
   },
   {
    "duration": 13,
    "start_time": "2021-12-03T09:56:00.820Z"
   },
   {
    "duration": 9,
    "start_time": "2021-12-03T09:56:05.678Z"
   },
   {
    "duration": 10,
    "start_time": "2021-12-03T10:00:27.882Z"
   },
   {
    "duration": 13,
    "start_time": "2021-12-03T10:01:18.289Z"
   },
   {
    "duration": 3,
    "start_time": "2021-12-03T10:23:42.192Z"
   },
   {
    "duration": 60,
    "start_time": "2021-12-03T10:23:42.197Z"
   },
   {
    "duration": 11,
    "start_time": "2021-12-03T10:23:42.260Z"
   },
   {
    "duration": 14,
    "start_time": "2021-12-03T10:23:42.273Z"
   },
   {
    "duration": 13,
    "start_time": "2021-12-03T10:23:42.288Z"
   },
   {
    "duration": 9,
    "start_time": "2021-12-03T10:23:42.302Z"
   },
   {
    "duration": 12,
    "start_time": "2021-12-03T10:23:42.313Z"
   },
   {
    "duration": 9,
    "start_time": "2021-12-03T10:23:42.326Z"
   },
   {
    "duration": 10,
    "start_time": "2021-12-03T10:23:42.364Z"
   },
   {
    "duration": 10,
    "start_time": "2021-12-03T10:23:42.577Z"
   },
   {
    "duration": 86,
    "start_time": "2021-12-03T10:23:42.589Z"
   },
   {
    "duration": 9,
    "start_time": "2021-12-03T10:23:42.677Z"
   },
   {
    "duration": 13,
    "start_time": "2021-12-03T10:23:42.688Z"
   },
   {
    "duration": 13,
    "start_time": "2021-12-03T10:23:42.703Z"
   },
   {
    "duration": 7,
    "start_time": "2021-12-03T10:23:42.717Z"
   },
   {
    "duration": 42,
    "start_time": "2021-12-03T10:23:42.725Z"
   },
   {
    "duration": 17,
    "start_time": "2021-12-03T10:23:42.769Z"
   },
   {
    "duration": 18,
    "start_time": "2021-12-03T10:23:42.789Z"
   },
   {
    "duration": 16,
    "start_time": "2021-12-03T10:23:42.810Z"
   },
   {
    "duration": 4,
    "start_time": "2021-12-03T10:23:42.828Z"
   },
   {
    "duration": 40,
    "start_time": "2021-12-03T10:23:42.834Z"
   },
   {
    "duration": 21,
    "start_time": "2021-12-03T10:23:42.876Z"
   },
   {
    "duration": 9,
    "start_time": "2021-12-03T10:23:42.899Z"
   },
   {
    "duration": 17,
    "start_time": "2021-12-03T10:23:42.910Z"
   },
   {
    "duration": 14,
    "start_time": "2021-12-03T10:23:42.929Z"
   },
   {
    "duration": 6,
    "start_time": "2021-12-03T10:23:42.945Z"
   },
   {
    "duration": 29,
    "start_time": "2021-12-03T10:23:42.953Z"
   },
   {
    "duration": 21,
    "start_time": "2021-12-03T10:23:42.983Z"
   },
   {
    "duration": 18,
    "start_time": "2021-12-03T10:23:43.006Z"
   },
   {
    "duration": 50,
    "start_time": "2021-12-03T10:23:43.026Z"
   },
   {
    "duration": 3,
    "start_time": "2021-12-03T10:23:43.078Z"
   },
   {
    "duration": 3801,
    "start_time": "2021-12-03T10:23:43.083Z"
   },
   {
    "duration": 66,
    "start_time": "2021-12-03T10:23:46.886Z"
   },
   {
    "duration": 27,
    "start_time": "2021-12-03T10:23:46.964Z"
   },
   {
    "duration": 13,
    "start_time": "2021-12-03T10:23:46.993Z"
   },
   {
    "duration": 4,
    "start_time": "2021-12-03T10:23:47.011Z"
   },
   {
    "duration": 5,
    "start_time": "2021-12-03T10:23:47.018Z"
   },
   {
    "duration": 11,
    "start_time": "2021-12-03T10:23:47.025Z"
   },
   {
    "duration": 4,
    "start_time": "2021-12-03T10:23:47.037Z"
   },
   {
    "duration": 7,
    "start_time": "2021-12-03T10:23:47.064Z"
   },
   {
    "duration": 21,
    "start_time": "2021-12-03T10:23:47.073Z"
   },
   {
    "duration": 3,
    "start_time": "2021-12-03T10:23:47.096Z"
   },
   {
    "duration": 22,
    "start_time": "2021-12-03T10:23:47.100Z"
   },
   {
    "duration": 20,
    "start_time": "2021-12-03T10:23:47.124Z"
   },
   {
    "duration": 21,
    "start_time": "2021-12-03T10:23:47.145Z"
   },
   {
    "duration": 5,
    "start_time": "2021-12-03T10:23:47.167Z"
   },
   {
    "duration": 374,
    "start_time": "2021-12-03T10:23:47.174Z"
   },
   {
    "duration": 25,
    "start_time": "2021-12-03T10:23:47.550Z"
   },
   {
    "duration": 9,
    "start_time": "2021-12-03T10:23:47.577Z"
   },
   {
    "duration": 21,
    "start_time": "2021-12-03T10:23:47.588Z"
   },
   {
    "duration": 21,
    "start_time": "2021-12-03T10:23:47.611Z"
   },
   {
    "duration": 12,
    "start_time": "2021-12-03T10:23:47.634Z"
   },
   {
    "duration": 23,
    "start_time": "2021-12-03T10:23:47.648Z"
   },
   {
    "duration": 15,
    "start_time": "2021-12-03T10:23:47.673Z"
   },
   {
    "duration": 7,
    "start_time": "2021-12-03T10:23:47.690Z"
   },
   {
    "duration": 12,
    "start_time": "2021-12-03T10:23:47.699Z"
   },
   {
    "duration": 17,
    "start_time": "2021-12-03T10:23:47.713Z"
   },
   {
    "duration": 723,
    "start_time": "2021-12-04T10:10:01.748Z"
   },
   {
    "duration": 672,
    "start_time": "2021-12-04T10:10:11.537Z"
   },
   {
    "duration": 5,
    "start_time": "2021-12-04T10:10:12.211Z"
   },
   {
    "duration": 3,
    "start_time": "2021-12-04T10:10:12.218Z"
   },
   {
    "duration": 61,
    "start_time": "2021-12-04T10:10:12.222Z"
   },
   {
    "duration": 11,
    "start_time": "2021-12-04T10:10:12.285Z"
   },
   {
    "duration": 19,
    "start_time": "2021-12-04T10:10:12.298Z"
   },
   {
    "duration": 13,
    "start_time": "2021-12-04T10:11:50.499Z"
   },
   {
    "duration": 13,
    "start_time": "2021-12-04T10:22:29.683Z"
   },
   {
    "duration": 290,
    "start_time": "2021-12-04T10:25:53.275Z"
   },
   {
    "duration": 2,
    "start_time": "2021-12-04T10:27:18.522Z"
   },
   {
    "duration": 6,
    "start_time": "2021-12-04T10:27:18.526Z"
   },
   {
    "duration": 4,
    "start_time": "2021-12-04T10:27:18.534Z"
   },
   {
    "duration": 13,
    "start_time": "2021-12-04T10:27:18.539Z"
   },
   {
    "duration": 51,
    "start_time": "2021-12-04T10:27:18.557Z"
   },
   {
    "duration": 11,
    "start_time": "2021-12-04T10:27:18.609Z"
   },
   {
    "duration": 12,
    "start_time": "2021-12-04T10:27:18.622Z"
   },
   {
    "duration": 35,
    "start_time": "2021-12-04T10:27:18.636Z"
   },
   {
    "duration": 262,
    "start_time": "2021-12-04T10:27:18.673Z"
   },
   {
    "duration": 369,
    "start_time": "2021-12-04T10:27:40.109Z"
   },
   {
    "duration": 15,
    "start_time": "2021-12-04T10:34:35.874Z"
   },
   {
    "duration": 3,
    "start_time": "2021-12-04T10:39:50.724Z"
   },
   {
    "duration": 5,
    "start_time": "2021-12-04T10:39:50.731Z"
   },
   {
    "duration": 7,
    "start_time": "2021-12-04T10:39:50.738Z"
   },
   {
    "duration": 53,
    "start_time": "2021-12-04T10:39:50.747Z"
   },
   {
    "duration": 10,
    "start_time": "2021-12-04T10:39:50.802Z"
   },
   {
    "duration": 13,
    "start_time": "2021-12-04T10:39:50.814Z"
   },
   {
    "duration": 27,
    "start_time": "2021-12-04T10:39:50.829Z"
   },
   {
    "duration": 15,
    "start_time": "2021-12-04T10:39:52.653Z"
   },
   {
    "duration": 14,
    "start_time": "2021-12-04T10:39:59.014Z"
   },
   {
    "duration": 15,
    "start_time": "2021-12-04T10:46:08.705Z"
   },
   {
    "duration": 33,
    "start_time": "2021-12-04T10:57:06.574Z"
   },
   {
    "duration": 41,
    "start_time": "2021-12-04T10:57:14.365Z"
   },
   {
    "duration": 32,
    "start_time": "2021-12-04T10:58:26.934Z"
   },
   {
    "duration": 8,
    "start_time": "2021-12-04T13:00:15.399Z"
   },
   {
    "duration": 123,
    "start_time": "2021-12-04T13:04:48.482Z"
   },
   {
    "duration": 14,
    "start_time": "2021-12-04T13:05:44.606Z"
   },
   {
    "duration": 3,
    "start_time": "2021-12-04T13:12:04.349Z"
   },
   {
    "duration": 6,
    "start_time": "2021-12-04T13:12:04.356Z"
   },
   {
    "duration": 5,
    "start_time": "2021-12-04T13:12:04.364Z"
   },
   {
    "duration": 52,
    "start_time": "2021-12-04T13:12:04.370Z"
   },
   {
    "duration": 11,
    "start_time": "2021-12-04T13:12:04.693Z"
   },
   {
    "duration": 14,
    "start_time": "2021-12-04T13:12:04.706Z"
   },
   {
    "duration": 14,
    "start_time": "2021-12-04T13:12:04.722Z"
   },
   {
    "duration": 21,
    "start_time": "2021-12-04T13:12:04.739Z"
   },
   {
    "duration": 48,
    "start_time": "2021-12-04T13:12:04.763Z"
   },
   {
    "duration": 31,
    "start_time": "2021-12-04T13:12:04.814Z"
   },
   {
    "duration": 11,
    "start_time": "2021-12-04T13:12:04.848Z"
   },
   {
    "duration": 13,
    "start_time": "2021-12-04T13:12:04.864Z"
   },
   {
    "duration": 11,
    "start_time": "2021-12-04T13:12:04.880Z"
   },
   {
    "duration": 14,
    "start_time": "2021-12-04T13:12:04.893Z"
   },
   {
    "duration": 46,
    "start_time": "2021-12-04T13:12:04.910Z"
   },
   {
    "duration": 144,
    "start_time": "2021-12-04T13:12:04.958Z"
   },
   {
    "duration": 16,
    "start_time": "2021-12-04T13:12:05.105Z"
   },
   {
    "duration": 33,
    "start_time": "2021-12-04T13:12:05.123Z"
   },
   {
    "duration": 18,
    "start_time": "2021-12-04T13:12:05.158Z"
   },
   {
    "duration": 16,
    "start_time": "2021-12-04T13:12:05.178Z"
   },
   {
    "duration": 20,
    "start_time": "2021-12-04T13:12:05.197Z"
   },
   {
    "duration": 4,
    "start_time": "2021-12-04T13:12:07.425Z"
   },
   {
    "duration": 13,
    "start_time": "2021-12-04T13:12:11.569Z"
   },
   {
    "duration": 30,
    "start_time": "2021-12-04T13:29:41.112Z"
   },
   {
    "duration": 3,
    "start_time": "2021-12-04T13:38:39.718Z"
   },
   {
    "duration": 603,
    "start_time": "2021-12-04T13:42:11.110Z"
   },
   {
    "duration": 6,
    "start_time": "2021-12-04T13:42:40.931Z"
   },
   {
    "duration": 2,
    "start_time": "2021-12-04T13:43:57.377Z"
   },
   {
    "duration": 4,
    "start_time": "2021-12-04T13:43:57.382Z"
   },
   {
    "duration": 5,
    "start_time": "2021-12-04T13:43:57.388Z"
   },
   {
    "duration": 54,
    "start_time": "2021-12-04T13:43:57.395Z"
   },
   {
    "duration": 10,
    "start_time": "2021-12-04T13:43:57.451Z"
   },
   {
    "duration": 13,
    "start_time": "2021-12-04T13:43:57.463Z"
   },
   {
    "duration": 14,
    "start_time": "2021-12-04T13:43:57.478Z"
   },
   {
    "duration": 18,
    "start_time": "2021-12-04T13:43:57.493Z"
   },
   {
    "duration": 63,
    "start_time": "2021-12-04T13:43:57.513Z"
   },
   {
    "duration": 12,
    "start_time": "2021-12-04T13:43:57.738Z"
   },
   {
    "duration": 8,
    "start_time": "2021-12-04T13:43:57.752Z"
   },
   {
    "duration": 8,
    "start_time": "2021-12-04T13:43:57.763Z"
   },
   {
    "duration": 8,
    "start_time": "2021-12-04T13:43:57.774Z"
   },
   {
    "duration": 11,
    "start_time": "2021-12-04T13:43:57.785Z"
   },
   {
    "duration": 54,
    "start_time": "2021-12-04T13:43:57.797Z"
   },
   {
    "duration": 73,
    "start_time": "2021-12-04T13:43:57.853Z"
   },
   {
    "duration": 22,
    "start_time": "2021-12-04T13:43:57.928Z"
   },
   {
    "duration": 10,
    "start_time": "2021-12-04T13:43:57.952Z"
   },
   {
    "duration": 14,
    "start_time": "2021-12-04T13:43:57.964Z"
   },
   {
    "duration": 32,
    "start_time": "2021-12-04T13:43:59.898Z"
   },
   {
    "duration": 32,
    "start_time": "2021-12-04T13:46:21.553Z"
   },
   {
    "duration": 621,
    "start_time": "2021-12-04T13:55:22.106Z"
   },
   {
    "duration": 556,
    "start_time": "2021-12-04T13:55:32.430Z"
   },
   {
    "duration": 4,
    "start_time": "2021-12-04T13:56:28.228Z"
   },
   {
    "duration": 7,
    "start_time": "2021-12-04T13:57:06.646Z"
   },
   {
    "duration": 9,
    "start_time": "2021-12-04T13:58:32.464Z"
   },
   {
    "duration": 9,
    "start_time": "2021-12-04T13:58:40.501Z"
   },
   {
    "duration": 8,
    "start_time": "2021-12-04T14:01:09.687Z"
   },
   {
    "duration": 7,
    "start_time": "2021-12-04T14:01:41.063Z"
   },
   {
    "duration": 12,
    "start_time": "2021-12-04T14:04:24.571Z"
   },
   {
    "duration": 3,
    "start_time": "2021-12-04T14:04:44.090Z"
   },
   {
    "duration": 5,
    "start_time": "2021-12-04T14:04:44.095Z"
   },
   {
    "duration": 4,
    "start_time": "2021-12-04T14:04:44.102Z"
   },
   {
    "duration": 53,
    "start_time": "2021-12-04T14:04:44.108Z"
   },
   {
    "duration": 12,
    "start_time": "2021-12-04T14:04:44.163Z"
   },
   {
    "duration": 14,
    "start_time": "2021-12-04T14:04:44.178Z"
   },
   {
    "duration": 13,
    "start_time": "2021-12-04T14:04:44.196Z"
   },
   {
    "duration": 39,
    "start_time": "2021-12-04T14:04:44.210Z"
   },
   {
    "duration": 30,
    "start_time": "2021-12-04T14:04:44.251Z"
   },
   {
    "duration": 9,
    "start_time": "2021-12-04T14:04:44.282Z"
   },
   {
    "duration": 10,
    "start_time": "2021-12-04T14:04:44.446Z"
   },
   {
    "duration": 8,
    "start_time": "2021-12-04T14:04:44.458Z"
   },
   {
    "duration": 9,
    "start_time": "2021-12-04T14:04:44.468Z"
   },
   {
    "duration": 10,
    "start_time": "2021-12-04T14:04:44.479Z"
   },
   {
    "duration": 10,
    "start_time": "2021-12-04T14:04:44.491Z"
   },
   {
    "duration": 112,
    "start_time": "2021-12-04T14:04:44.503Z"
   },
   {
    "duration": 11,
    "start_time": "2021-12-04T14:04:44.616Z"
   },
   {
    "duration": 26,
    "start_time": "2021-12-04T14:04:44.629Z"
   },
   {
    "duration": 15,
    "start_time": "2021-12-04T14:04:44.657Z"
   },
   {
    "duration": 29,
    "start_time": "2021-12-04T14:04:44.964Z"
   },
   {
    "duration": 4,
    "start_time": "2021-12-04T14:04:44.994Z"
   },
   {
    "duration": 19,
    "start_time": "2021-12-04T14:04:45.000Z"
   },
   {
    "duration": 11,
    "start_time": "2021-12-04T14:04:47.871Z"
   },
   {
    "duration": 3,
    "start_time": "2021-12-04T14:20:12.786Z"
   },
   {
    "duration": 5,
    "start_time": "2021-12-04T14:20:12.791Z"
   },
   {
    "duration": 5,
    "start_time": "2021-12-04T14:20:12.798Z"
   },
   {
    "duration": 55,
    "start_time": "2021-12-04T14:20:12.805Z"
   },
   {
    "duration": 11,
    "start_time": "2021-12-04T14:20:12.861Z"
   },
   {
    "duration": 14,
    "start_time": "2021-12-04T14:20:12.874Z"
   },
   {
    "duration": 13,
    "start_time": "2021-12-04T14:20:12.890Z"
   },
   {
    "duration": 41,
    "start_time": "2021-12-04T14:20:12.905Z"
   },
   {
    "duration": 31,
    "start_time": "2021-12-04T14:20:12.948Z"
   },
   {
    "duration": 11,
    "start_time": "2021-12-04T14:20:12.981Z"
   },
   {
    "duration": 8,
    "start_time": "2021-12-04T14:20:12.994Z"
   },
   {
    "duration": 11,
    "start_time": "2021-12-04T14:20:13.004Z"
   },
   {
    "duration": 33,
    "start_time": "2021-12-04T14:20:13.017Z"
   },
   {
    "duration": 10,
    "start_time": "2021-12-04T14:20:13.052Z"
   },
   {
    "duration": 9,
    "start_time": "2021-12-04T14:20:13.064Z"
   },
   {
    "duration": 96,
    "start_time": "2021-12-04T14:20:13.074Z"
   },
   {
    "duration": 9,
    "start_time": "2021-12-04T14:20:13.171Z"
   },
   {
    "duration": 11,
    "start_time": "2021-12-04T14:20:13.182Z"
   },
   {
    "duration": 12,
    "start_time": "2021-12-04T14:20:13.194Z"
   },
   {
    "duration": 54,
    "start_time": "2021-12-04T14:20:13.208Z"
   },
   {
    "duration": 3,
    "start_time": "2021-12-04T14:20:13.264Z"
   },
   {
    "duration": 9,
    "start_time": "2021-12-04T14:20:13.269Z"
   },
   {
    "duration": 11,
    "start_time": "2021-12-04T14:20:13.280Z"
   },
   {
    "duration": 3,
    "start_time": "2021-12-04T14:20:13.293Z"
   },
   {
    "duration": 14,
    "start_time": "2021-12-04T14:20:13.297Z"
   },
   {
    "duration": 43,
    "start_time": "2021-12-04T14:20:13.313Z"
   },
   {
    "duration": 17,
    "start_time": "2021-12-04T14:20:13.359Z"
   },
   {
    "duration": 16,
    "start_time": "2021-12-04T14:20:13.377Z"
   },
   {
    "duration": 4,
    "start_time": "2021-12-04T14:20:13.394Z"
   },
   {
    "duration": 13,
    "start_time": "2021-12-04T14:20:13.400Z"
   },
   {
    "duration": 30,
    "start_time": "2021-12-04T14:20:13.415Z"
   },
   {
    "duration": 20,
    "start_time": "2021-12-04T14:20:13.447Z"
   },
   {
    "duration": 17,
    "start_time": "2021-12-04T14:20:13.469Z"
   },
   {
    "duration": 8,
    "start_time": "2021-12-04T14:20:13.488Z"
   },
   {
    "duration": 6,
    "start_time": "2021-12-04T14:20:13.513Z"
   },
   {
    "duration": 23,
    "start_time": "2021-12-04T14:20:13.522Z"
   },
   {
    "duration": 19,
    "start_time": "2021-12-04T14:20:13.548Z"
   },
   {
    "duration": 18,
    "start_time": "2021-12-04T14:20:13.569Z"
   },
   {
    "duration": 10,
    "start_time": "2021-12-04T14:20:13.589Z"
   },
   {
    "duration": 10,
    "start_time": "2021-12-04T14:20:13.600Z"
   },
   {
    "duration": 36,
    "start_time": "2021-12-04T14:20:13.611Z"
   },
   {
    "duration": 6,
    "start_time": "2021-12-04T14:20:21.890Z"
   },
   {
    "duration": 7,
    "start_time": "2021-12-04T14:20:22.530Z"
   },
   {
    "duration": 19,
    "start_time": "2021-12-04T14:28:12.612Z"
   },
   {
    "duration": 6,
    "start_time": "2021-12-04T14:28:30.789Z"
   },
   {
    "duration": 9,
    "start_time": "2021-12-04T14:28:45.594Z"
   },
   {
    "duration": 6,
    "start_time": "2021-12-04T14:34:32.091Z"
   },
   {
    "duration": 2,
    "start_time": "2021-12-04T14:37:06.836Z"
   },
   {
    "duration": 9,
    "start_time": "2021-12-04T14:37:06.840Z"
   },
   {
    "duration": 13,
    "start_time": "2021-12-04T14:37:06.851Z"
   },
   {
    "duration": 66,
    "start_time": "2021-12-04T14:37:06.866Z"
   },
   {
    "duration": 11,
    "start_time": "2021-12-04T14:37:06.934Z"
   },
   {
    "duration": 33,
    "start_time": "2021-12-04T14:37:06.946Z"
   },
   {
    "duration": 19,
    "start_time": "2021-12-04T14:37:06.981Z"
   },
   {
    "duration": 19,
    "start_time": "2021-12-04T14:37:07.003Z"
   },
   {
    "duration": 45,
    "start_time": "2021-12-04T14:37:07.024Z"
   },
   {
    "duration": 9,
    "start_time": "2021-12-04T14:37:07.070Z"
   },
   {
    "duration": 18,
    "start_time": "2021-12-04T14:37:07.080Z"
   },
   {
    "duration": 40,
    "start_time": "2021-12-04T14:37:07.099Z"
   },
   {
    "duration": 8,
    "start_time": "2021-12-04T14:37:07.256Z"
   },
   {
    "duration": 14,
    "start_time": "2021-12-04T14:37:07.265Z"
   },
   {
    "duration": 16,
    "start_time": "2021-12-04T14:37:07.281Z"
   },
   {
    "duration": 97,
    "start_time": "2021-12-04T14:37:07.298Z"
   },
   {
    "duration": 9,
    "start_time": "2021-12-04T14:37:07.397Z"
   },
   {
    "duration": 13,
    "start_time": "2021-12-04T14:37:07.407Z"
   },
   {
    "duration": 25,
    "start_time": "2021-12-04T14:37:07.422Z"
   },
   {
    "duration": 30,
    "start_time": "2021-12-04T14:37:07.449Z"
   },
   {
    "duration": 3,
    "start_time": "2021-12-04T14:37:07.481Z"
   },
   {
    "duration": 6,
    "start_time": "2021-12-04T14:37:07.486Z"
   },
   {
    "duration": 13,
    "start_time": "2021-12-04T14:37:07.494Z"
   },
   {
    "duration": 3,
    "start_time": "2021-12-04T14:37:07.508Z"
   },
   {
    "duration": 40,
    "start_time": "2021-12-04T14:37:07.513Z"
   },
   {
    "duration": 15,
    "start_time": "2021-12-04T14:37:07.554Z"
   },
   {
    "duration": 16,
    "start_time": "2021-12-04T14:37:07.570Z"
   },
   {
    "duration": 15,
    "start_time": "2021-12-04T14:37:07.587Z"
   },
   {
    "duration": 4,
    "start_time": "2021-12-04T14:37:07.603Z"
   },
   {
    "duration": 38,
    "start_time": "2021-12-04T14:37:07.609Z"
   },
   {
    "duration": 9,
    "start_time": "2021-12-04T14:37:07.648Z"
   },
   {
    "duration": 5,
    "start_time": "2021-12-04T14:37:07.658Z"
   },
   {
    "duration": 19,
    "start_time": "2021-12-04T14:37:07.664Z"
   },
   {
    "duration": 10,
    "start_time": "2021-12-04T14:37:07.685Z"
   },
   {
    "duration": 5,
    "start_time": "2021-12-04T14:37:07.697Z"
   },
   {
    "duration": 18,
    "start_time": "2021-12-04T14:37:07.703Z"
   },
   {
    "duration": 17,
    "start_time": "2021-12-04T14:37:07.745Z"
   },
   {
    "duration": 17,
    "start_time": "2021-12-04T14:37:07.764Z"
   },
   {
    "duration": 9,
    "start_time": "2021-12-04T14:37:07.783Z"
   },
   {
    "duration": 7,
    "start_time": "2021-12-04T14:37:07.794Z"
   },
   {
    "duration": 6,
    "start_time": "2021-12-04T14:37:07.803Z"
   },
   {
    "duration": 34,
    "start_time": "2021-12-04T14:37:07.811Z"
   },
   {
    "duration": 21,
    "start_time": "2021-12-04T14:37:07.847Z"
   },
   {
    "duration": 23,
    "start_time": "2021-12-04T14:37:07.870Z"
   },
   {
    "duration": 3640,
    "start_time": "2021-12-04T14:37:07.895Z"
   },
   {
    "duration": 60,
    "start_time": "2021-12-04T14:37:11.546Z"
   },
   {
    "duration": 38,
    "start_time": "2021-12-04T14:37:11.607Z"
   },
   {
    "duration": 6,
    "start_time": "2021-12-04T14:37:11.647Z"
   },
   {
    "duration": 3,
    "start_time": "2021-12-04T14:37:11.654Z"
   },
   {
    "duration": 4,
    "start_time": "2021-12-04T14:37:11.659Z"
   },
   {
    "duration": 7,
    "start_time": "2021-12-04T14:37:11.664Z"
   },
   {
    "duration": 3,
    "start_time": "2021-12-04T14:37:11.672Z"
   },
   {
    "duration": 10,
    "start_time": "2021-12-04T14:37:11.677Z"
   },
   {
    "duration": 14,
    "start_time": "2021-12-04T14:37:11.688Z"
   },
   {
    "duration": 42,
    "start_time": "2021-12-04T14:37:11.704Z"
   },
   {
    "duration": 3,
    "start_time": "2021-12-04T14:37:20.985Z"
   },
   {
    "duration": 8,
    "start_time": "2021-12-04T14:37:29.846Z"
   },
   {
    "duration": 403,
    "start_time": "2021-12-04T14:37:30.422Z"
   },
   {
    "duration": 13,
    "start_time": "2021-12-04T14:38:03.159Z"
   },
   {
    "duration": 1817,
    "start_time": "2021-12-04T18:13:28.227Z"
   },
   {
    "duration": 2132,
    "start_time": "2021-12-04T18:14:19.849Z"
   },
   {
    "duration": 2,
    "start_time": "2021-12-04T18:14:44.721Z"
   },
   {
    "duration": 24,
    "start_time": "2021-12-04T18:14:44.877Z"
   },
   {
    "duration": 2,
    "start_time": "2021-12-04T18:14:44.902Z"
   },
   {
    "duration": 51,
    "start_time": "2021-12-04T18:14:44.906Z"
   },
   {
    "duration": 11,
    "start_time": "2021-12-04T18:14:44.959Z"
   },
   {
    "duration": 13,
    "start_time": "2021-12-04T18:14:44.972Z"
   },
   {
    "duration": 18,
    "start_time": "2021-12-04T18:14:44.987Z"
   },
   {
    "duration": 32,
    "start_time": "2021-12-04T18:14:45.007Z"
   },
   {
    "duration": 30,
    "start_time": "2021-12-04T18:14:45.045Z"
   },
   {
    "duration": 10,
    "start_time": "2021-12-04T18:14:45.078Z"
   },
   {
    "duration": 7,
    "start_time": "2021-12-04T18:14:45.090Z"
   },
   {
    "duration": 8,
    "start_time": "2021-12-04T18:14:45.099Z"
   },
   {
    "duration": 36,
    "start_time": "2021-12-04T18:14:45.109Z"
   },
   {
    "duration": 9,
    "start_time": "2021-12-04T18:14:45.147Z"
   },
   {
    "duration": 9,
    "start_time": "2021-12-04T18:14:45.158Z"
   },
   {
    "duration": 97,
    "start_time": "2021-12-04T18:14:45.169Z"
   },
   {
    "duration": 10,
    "start_time": "2021-12-04T18:14:45.267Z"
   },
   {
    "duration": 10,
    "start_time": "2021-12-04T18:14:45.278Z"
   },
   {
    "duration": 11,
    "start_time": "2021-12-04T18:14:45.290Z"
   },
   {
    "duration": 52,
    "start_time": "2021-12-04T18:14:45.303Z"
   },
   {
    "duration": 4,
    "start_time": "2021-12-04T18:14:45.356Z"
   },
   {
    "duration": 8,
    "start_time": "2021-12-04T18:14:45.361Z"
   },
   {
    "duration": 10,
    "start_time": "2021-12-04T18:14:45.371Z"
   },
   {
    "duration": 3,
    "start_time": "2021-12-04T18:14:45.383Z"
   },
   {
    "duration": 13,
    "start_time": "2021-12-04T18:14:45.387Z"
   },
   {
    "duration": 46,
    "start_time": "2021-12-04T18:14:45.402Z"
   },
   {
    "duration": 16,
    "start_time": "2021-12-04T18:14:50.822Z"
   },
   {
    "duration": 18,
    "start_time": "2021-12-04T18:15:20.035Z"
   },
   {
    "duration": 95,
    "start_time": "2021-12-04T18:16:05.155Z"
   },
   {
    "duration": 4,
    "start_time": "2021-12-04T18:17:25.151Z"
   },
   {
    "duration": 5,
    "start_time": "2021-12-04T18:17:25.198Z"
   },
   {
    "duration": 5,
    "start_time": "2021-12-04T18:22:52.693Z"
   },
   {
    "duration": 13,
    "start_time": "2021-12-04T18:22:58.305Z"
   },
   {
    "duration": 8,
    "start_time": "2021-12-04T18:22:58.939Z"
   },
   {
    "duration": 6,
    "start_time": "2021-12-04T18:24:30.747Z"
   },
   {
    "duration": 13,
    "start_time": "2021-12-04T18:24:38.772Z"
   },
   {
    "duration": 7,
    "start_time": "2021-12-04T18:24:40.128Z"
   },
   {
    "duration": 6,
    "start_time": "2021-12-04T18:26:07.260Z"
   },
   {
    "duration": 6,
    "start_time": "2021-12-04T18:27:54.747Z"
   },
   {
    "duration": 2,
    "start_time": "2021-12-04T18:32:01.244Z"
   },
   {
    "duration": 27,
    "start_time": "2021-12-04T18:32:01.248Z"
   },
   {
    "duration": 22,
    "start_time": "2021-12-04T18:32:01.277Z"
   },
   {
    "duration": 59,
    "start_time": "2021-12-04T18:32:01.301Z"
   },
   {
    "duration": 12,
    "start_time": "2021-12-04T18:32:01.362Z"
   },
   {
    "duration": 16,
    "start_time": "2021-12-04T18:32:01.376Z"
   },
   {
    "duration": 20,
    "start_time": "2021-12-04T18:32:01.395Z"
   },
   {
    "duration": 38,
    "start_time": "2021-12-04T18:32:01.418Z"
   },
   {
    "duration": 31,
    "start_time": "2021-12-04T18:32:01.458Z"
   },
   {
    "duration": 11,
    "start_time": "2021-12-04T18:32:01.490Z"
   },
   {
    "duration": 7,
    "start_time": "2021-12-04T18:32:01.503Z"
   },
   {
    "duration": 40,
    "start_time": "2021-12-04T18:32:01.512Z"
   },
   {
    "duration": 11,
    "start_time": "2021-12-04T18:32:01.554Z"
   },
   {
    "duration": 10,
    "start_time": "2021-12-04T18:32:01.567Z"
   },
   {
    "duration": 9,
    "start_time": "2021-12-04T18:32:01.579Z"
   },
   {
    "duration": 106,
    "start_time": "2021-12-04T18:32:01.591Z"
   },
   {
    "duration": 9,
    "start_time": "2021-12-04T18:32:01.699Z"
   },
   {
    "duration": 11,
    "start_time": "2021-12-04T18:32:01.710Z"
   },
   {
    "duration": 13,
    "start_time": "2021-12-04T18:32:01.744Z"
   },
   {
    "duration": 43,
    "start_time": "2021-12-04T18:32:01.759Z"
   },
   {
    "duration": 4,
    "start_time": "2021-12-04T18:32:01.804Z"
   },
   {
    "duration": 58,
    "start_time": "2021-12-04T18:32:01.810Z"
   },
   {
    "duration": 6,
    "start_time": "2021-12-04T18:32:01.870Z"
   },
   {
    "duration": 20,
    "start_time": "2021-12-04T18:32:01.877Z"
   },
   {
    "duration": 7,
    "start_time": "2021-12-04T18:32:01.899Z"
   },
   {
    "duration": 11,
    "start_time": "2021-12-04T18:32:01.908Z"
   },
   {
    "duration": 25,
    "start_time": "2021-12-04T18:32:01.921Z"
   },
   {
    "duration": 4,
    "start_time": "2021-12-04T18:32:01.947Z"
   },
   {
    "duration": 18,
    "start_time": "2021-12-04T18:32:01.952Z"
   },
   {
    "duration": 16,
    "start_time": "2021-12-04T18:32:01.972Z"
   },
   {
    "duration": 18,
    "start_time": "2021-12-04T18:32:01.989Z"
   },
   {
    "duration": 28,
    "start_time": "2021-12-04T18:32:02.008Z"
   },
   {
    "duration": 14,
    "start_time": "2021-12-04T18:32:02.038Z"
   },
   {
    "duration": 6,
    "start_time": "2021-12-04T18:32:02.106Z"
   },
   {
    "duration": 42,
    "start_time": "2021-12-04T18:32:02.114Z"
   },
   {
    "duration": 16,
    "start_time": "2021-12-04T18:32:02.158Z"
   },
   {
    "duration": 34,
    "start_time": "2021-12-04T18:32:02.176Z"
   },
   {
    "duration": 6,
    "start_time": "2021-12-04T18:32:02.212Z"
   },
   {
    "duration": 24,
    "start_time": "2021-12-04T18:32:02.220Z"
   },
   {
    "duration": 19,
    "start_time": "2021-12-04T18:32:02.246Z"
   },
   {
    "duration": 15,
    "start_time": "2021-12-04T18:32:02.267Z"
   },
   {
    "duration": 121,
    "start_time": "2021-12-04T18:32:02.284Z"
   },
   {
    "duration": -254,
    "start_time": "2021-12-04T18:32:02.661Z"
   },
   {
    "duration": -255,
    "start_time": "2021-12-04T18:32:02.663Z"
   },
   {
    "duration": -257,
    "start_time": "2021-12-04T18:32:02.666Z"
   },
   {
    "duration": -260,
    "start_time": "2021-12-04T18:32:02.669Z"
   },
   {
    "duration": -262,
    "start_time": "2021-12-04T18:32:02.672Z"
   },
   {
    "duration": -263,
    "start_time": "2021-12-04T18:32:02.674Z"
   },
   {
    "duration": -265,
    "start_time": "2021-12-04T18:32:02.677Z"
   },
   {
    "duration": -267,
    "start_time": "2021-12-04T18:32:02.680Z"
   },
   {
    "duration": -268,
    "start_time": "2021-12-04T18:32:02.682Z"
   },
   {
    "duration": -270,
    "start_time": "2021-12-04T18:32:02.685Z"
   },
   {
    "duration": -272,
    "start_time": "2021-12-04T18:32:02.688Z"
   },
   {
    "duration": -295,
    "start_time": "2021-12-04T18:32:02.712Z"
   },
   {
    "duration": -297,
    "start_time": "2021-12-04T18:32:02.716Z"
   },
   {
    "duration": -303,
    "start_time": "2021-12-04T18:32:02.722Z"
   },
   {
    "duration": -306,
    "start_time": "2021-12-04T18:32:02.726Z"
   },
   {
    "duration": -308,
    "start_time": "2021-12-04T18:32:02.730Z"
   },
   {
    "duration": -312,
    "start_time": "2021-12-04T18:32:02.734Z"
   },
   {
    "duration": -313,
    "start_time": "2021-12-04T18:32:02.737Z"
   },
   {
    "duration": -334,
    "start_time": "2021-12-04T18:32:02.759Z"
   },
   {
    "duration": -342,
    "start_time": "2021-12-04T18:32:02.768Z"
   },
   {
    "duration": -347,
    "start_time": "2021-12-04T18:32:02.774Z"
   },
   {
    "duration": -358,
    "start_time": "2021-12-04T18:32:02.786Z"
   },
   {
    "duration": -360,
    "start_time": "2021-12-04T18:32:02.789Z"
   },
   {
    "duration": -362,
    "start_time": "2021-12-04T18:32:02.792Z"
   },
   {
    "duration": -364,
    "start_time": "2021-12-04T18:32:02.795Z"
   },
   {
    "duration": -365,
    "start_time": "2021-12-04T18:32:02.797Z"
   },
   {
    "duration": -367,
    "start_time": "2021-12-04T18:32:02.800Z"
   },
   {
    "duration": -368,
    "start_time": "2021-12-04T18:32:02.802Z"
   },
   {
    "duration": -370,
    "start_time": "2021-12-04T18:32:02.805Z"
   },
   {
    "duration": -372,
    "start_time": "2021-12-04T18:32:02.808Z"
   },
   {
    "duration": -374,
    "start_time": "2021-12-04T18:32:02.811Z"
   },
   {
    "duration": -375,
    "start_time": "2021-12-04T18:32:02.813Z"
   },
   {
    "duration": -377,
    "start_time": "2021-12-04T18:32:02.816Z"
   },
   {
    "duration": -378,
    "start_time": "2021-12-04T18:32:02.818Z"
   },
   {
    "duration": -380,
    "start_time": "2021-12-04T18:32:02.821Z"
   },
   {
    "duration": -380,
    "start_time": "2021-12-04T18:32:02.823Z"
   },
   {
    "duration": -387,
    "start_time": "2021-12-04T18:32:02.831Z"
   },
   {
    "duration": -388,
    "start_time": "2021-12-04T18:32:02.833Z"
   },
   {
    "duration": -391,
    "start_time": "2021-12-04T18:32:02.837Z"
   },
   {
    "duration": 263,
    "start_time": "2021-12-04T18:32:07.965Z"
   },
   {
    "duration": 1083,
    "start_time": "2021-12-04T18:32:26.317Z"
   },
   {
    "duration": 259,
    "start_time": "2021-12-04T18:32:55.376Z"
   },
   {
    "duration": 3,
    "start_time": "2021-12-04T18:33:11.456Z"
   },
   {
    "duration": 3,
    "start_time": "2021-12-04T18:33:11.506Z"
   },
   {
    "duration": 3,
    "start_time": "2021-12-04T18:33:12.029Z"
   },
   {
    "duration": 67,
    "start_time": "2021-12-04T18:33:14.149Z"
   },
   {
    "duration": 17,
    "start_time": "2021-12-04T18:33:14.219Z"
   },
   {
    "duration": 12,
    "start_time": "2021-12-04T18:33:15.935Z"
   },
   {
    "duration": 12,
    "start_time": "2021-12-04T18:33:17.709Z"
   },
   {
    "duration": 14,
    "start_time": "2021-12-04T18:33:17.788Z"
   },
   {
    "duration": 31,
    "start_time": "2021-12-04T18:33:18.516Z"
   },
   {
    "duration": 13,
    "start_time": "2021-12-04T18:33:21.660Z"
   },
   {
    "duration": 8,
    "start_time": "2021-12-04T18:33:23.749Z"
   },
   {
    "duration": 8,
    "start_time": "2021-12-04T18:33:24.481Z"
   },
   {
    "duration": 10,
    "start_time": "2021-12-04T18:33:25.920Z"
   },
   {
    "duration": 11,
    "start_time": "2021-12-04T18:33:26.630Z"
   },
   {
    "duration": 9,
    "start_time": "2021-12-04T18:33:27.916Z"
   },
   {
    "duration": 69,
    "start_time": "2021-12-04T18:33:30.410Z"
   },
   {
    "duration": 9,
    "start_time": "2021-12-04T18:33:31.386Z"
   },
   {
    "duration": 11,
    "start_time": "2021-12-04T18:33:38.733Z"
   },
   {
    "duration": 14,
    "start_time": "2021-12-04T18:33:39.691Z"
   },
   {
    "duration": 30,
    "start_time": "2021-12-04T18:33:42.588Z"
   },
   {
    "duration": 4,
    "start_time": "2021-12-04T18:33:43.800Z"
   },
   {
    "duration": 32,
    "start_time": "2021-12-04T18:33:44.282Z"
   },
   {
    "duration": 6,
    "start_time": "2021-12-04T18:33:44.978Z"
   },
   {
    "duration": 11,
    "start_time": "2021-12-04T18:33:45.733Z"
   },
   {
    "duration": 7,
    "start_time": "2021-12-04T18:33:47.368Z"
   },
   {
    "duration": 7,
    "start_time": "2021-12-04T18:33:47.429Z"
   },
   {
    "duration": 8,
    "start_time": "2021-12-04T18:34:10.069Z"
   },
   {
    "duration": 8,
    "start_time": "2021-12-04T18:34:14.271Z"
   },
   {
    "duration": 7,
    "start_time": "2021-12-04T18:34:24.326Z"
   },
   {
    "duration": 7,
    "start_time": "2021-12-04T18:34:25.486Z"
   },
   {
    "duration": 4,
    "start_time": "2021-12-04T18:34:26.784Z"
   },
   {
    "duration": 7,
    "start_time": "2021-12-04T18:34:28.500Z"
   },
   {
    "duration": 4,
    "start_time": "2021-12-04T18:36:40.648Z"
   },
   {
    "duration": 11,
    "start_time": "2021-12-04T18:38:02.540Z"
   },
   {
    "duration": 3,
    "start_time": "2021-12-04T18:38:04.167Z"
   },
   {
    "duration": 17,
    "start_time": "2021-12-04T18:38:15.079Z"
   },
   {
    "duration": 17,
    "start_time": "2021-12-04T18:38:16.554Z"
   },
   {
    "duration": 16,
    "start_time": "2021-12-04T18:38:19.678Z"
   },
   {
    "duration": 5,
    "start_time": "2021-12-04T18:38:29.494Z"
   },
   {
    "duration": 12,
    "start_time": "2021-12-04T18:38:33.740Z"
   },
   {
    "duration": 6,
    "start_time": "2021-12-04T18:38:34.488Z"
   },
   {
    "duration": 6,
    "start_time": "2021-12-04T18:38:36.032Z"
   },
   {
    "duration": 97,
    "start_time": "2021-12-04T18:38:39.214Z"
   },
   {
    "duration": 14,
    "start_time": "2021-12-04T18:39:25.586Z"
   },
   {
    "duration": 8,
    "start_time": "2021-12-04T18:39:28.630Z"
   },
   {
    "duration": 4,
    "start_time": "2021-12-04T18:39:33.809Z"
   },
   {
    "duration": 5,
    "start_time": "2021-12-04T18:39:35.510Z"
   },
   {
    "duration": 16,
    "start_time": "2021-12-04T18:39:37.952Z"
   },
   {
    "duration": 18,
    "start_time": "2021-12-04T18:39:40.383Z"
   },
   {
    "duration": 17,
    "start_time": "2021-12-04T18:39:41.222Z"
   },
   {
    "duration": 9,
    "start_time": "2021-12-04T18:39:44.800Z"
   },
   {
    "duration": 8,
    "start_time": "2021-12-04T18:39:46.108Z"
   },
   {
    "duration": 6,
    "start_time": "2021-12-04T18:39:46.987Z"
   },
   {
    "duration": 6,
    "start_time": "2021-12-04T18:39:48.697Z"
   },
   {
    "duration": 6,
    "start_time": "2021-12-04T18:39:51.593Z"
   },
   {
    "duration": 10,
    "start_time": "2021-12-04T18:39:52.354Z"
   },
   {
    "duration": 3710,
    "start_time": "2021-12-04T18:40:05.045Z"
   },
   {
    "duration": 63,
    "start_time": "2021-12-04T18:40:08.757Z"
   },
   {
    "duration": 29,
    "start_time": "2021-12-04T18:40:13.999Z"
   },
   {
    "duration": 268,
    "start_time": "2021-12-04T18:40:23.710Z"
   },
   {
    "duration": 211,
    "start_time": "2021-12-04T18:40:23.768Z"
   },
   {
    "duration": 6,
    "start_time": "2021-12-04T18:40:56.793Z"
   },
   {
    "duration": 4,
    "start_time": "2021-12-04T18:41:06.033Z"
   },
   {
    "duration": 4,
    "start_time": "2021-12-04T18:41:06.646Z"
   },
   {
    "duration": 7,
    "start_time": "2021-12-04T18:41:14.878Z"
   },
   {
    "duration": 3,
    "start_time": "2021-12-04T18:41:17.978Z"
   },
   {
    "duration": 8,
    "start_time": "2021-12-04T18:41:21.306Z"
   },
   {
    "duration": 14,
    "start_time": "2021-12-04T18:41:21.357Z"
   },
   {
    "duration": 3,
    "start_time": "2021-12-04T18:42:14.707Z"
   },
   {
    "duration": 8,
    "start_time": "2021-12-04T18:42:40.678Z"
   },
   {
    "duration": 10,
    "start_time": "2021-12-04T18:42:41.281Z"
   },
   {
    "duration": 6,
    "start_time": "2021-12-04T18:42:52.885Z"
   },
   {
    "duration": 3,
    "start_time": "2021-12-04T18:42:58.486Z"
   },
   {
    "duration": 5,
    "start_time": "2021-12-04T18:43:17.019Z"
   },
   {
    "duration": 8,
    "start_time": "2021-12-04T18:43:39.705Z"
   },
   {
    "duration": 15,
    "start_time": "2021-12-04T18:43:39.751Z"
   },
   {
    "duration": 6,
    "start_time": "2021-12-04T18:44:29.315Z"
   },
   {
    "duration": 4,
    "start_time": "2021-12-04T18:44:59.062Z"
   },
   {
    "duration": 91,
    "start_time": "2021-12-04T18:44:59.516Z"
   },
   {
    "duration": 335,
    "start_time": "2021-12-04T18:45:07.996Z"
   },
   {
    "duration": 14,
    "start_time": "2021-12-04T18:45:08.528Z"
   },
   {
    "duration": 4,
    "start_time": "2021-12-04T18:46:01.558Z"
   },
   {
    "duration": 13,
    "start_time": "2021-12-04T18:46:26.804Z"
   },
   {
    "duration": 4,
    "start_time": "2021-12-04T18:46:54.888Z"
   },
   {
    "duration": 13,
    "start_time": "2021-12-04T18:46:56.671Z"
   },
   {
    "duration": 12,
    "start_time": "2021-12-04T18:46:57.985Z"
   },
   {
    "duration": 4,
    "start_time": "2021-12-04T18:47:03.456Z"
   },
   {
    "duration": 13,
    "start_time": "2021-12-04T18:47:04.400Z"
   },
   {
    "duration": 9,
    "start_time": "2021-12-04T18:47:04.852Z"
   },
   {
    "duration": 19,
    "start_time": "2021-12-04T18:47:25.048Z"
   },
   {
    "duration": 9,
    "start_time": "2021-12-04T18:47:29.422Z"
   },
   {
    "duration": 10,
    "start_time": "2021-12-04T18:47:54.630Z"
   },
   {
    "duration": 9,
    "start_time": "2021-12-04T18:48:24.067Z"
   },
   {
    "duration": 14,
    "start_time": "2021-12-04T18:48:33.777Z"
   },
   {
    "duration": 15,
    "start_time": "2021-12-04T18:49:03.093Z"
   },
   {
    "duration": 14,
    "start_time": "2021-12-04T18:49:37.527Z"
   },
   {
    "duration": 8,
    "start_time": "2021-12-04T18:49:44.124Z"
   },
   {
    "duration": 11,
    "start_time": "2021-12-04T18:50:05.491Z"
   },
   {
    "duration": 11,
    "start_time": "2021-12-04T18:51:48.948Z"
   },
   {
    "duration": 2,
    "start_time": "2021-12-04T19:01:51.572Z"
   },
   {
    "duration": 44,
    "start_time": "2021-12-04T19:01:51.576Z"
   },
   {
    "duration": 2,
    "start_time": "2021-12-04T19:01:51.623Z"
   },
   {
    "duration": 54,
    "start_time": "2021-12-04T19:01:51.628Z"
   },
   {
    "duration": 12,
    "start_time": "2021-12-04T19:01:51.683Z"
   },
   {
    "duration": 27,
    "start_time": "2021-12-04T19:01:51.697Z"
   },
   {
    "duration": 28,
    "start_time": "2021-12-04T19:01:51.725Z"
   },
   {
    "duration": 40,
    "start_time": "2021-12-04T19:01:51.756Z"
   },
   {
    "duration": 33,
    "start_time": "2021-12-04T19:01:51.798Z"
   },
   {
    "duration": 12,
    "start_time": "2021-12-04T19:01:51.833Z"
   },
   {
    "duration": 7,
    "start_time": "2021-12-04T19:01:51.847Z"
   },
   {
    "duration": 7,
    "start_time": "2021-12-04T19:01:51.856Z"
   },
   {
    "duration": 6,
    "start_time": "2021-12-04T19:01:51.865Z"
   },
   {
    "duration": 15,
    "start_time": "2021-12-04T19:01:51.873Z"
   },
   {
    "duration": 12,
    "start_time": "2021-12-04T19:01:51.890Z"
   },
   {
    "duration": 104,
    "start_time": "2021-12-04T19:01:51.904Z"
   },
   {
    "duration": 10,
    "start_time": "2021-12-04T19:01:52.010Z"
   },
   {
    "duration": 25,
    "start_time": "2021-12-04T19:01:52.022Z"
   },
   {
    "duration": 14,
    "start_time": "2021-12-04T19:01:52.050Z"
   },
   {
    "duration": 39,
    "start_time": "2021-12-04T19:01:52.066Z"
   },
   {
    "duration": 4,
    "start_time": "2021-12-04T19:01:52.108Z"
   },
   {
    "duration": 59,
    "start_time": "2021-12-04T19:01:52.114Z"
   },
   {
    "duration": 7,
    "start_time": "2021-12-04T19:01:52.179Z"
   },
   {
    "duration": 13,
    "start_time": "2021-12-04T19:01:52.188Z"
   },
   {
    "duration": 4,
    "start_time": "2021-12-04T19:01:52.203Z"
   },
   {
    "duration": 46,
    "start_time": "2021-12-04T19:01:52.209Z"
   },
   {
    "duration": 16,
    "start_time": "2021-12-04T19:01:52.257Z"
   },
   {
    "duration": 21,
    "start_time": "2021-12-04T19:01:52.275Z"
   },
   {
    "duration": 4,
    "start_time": "2021-12-04T19:01:52.298Z"
   },
   {
    "duration": 20,
    "start_time": "2021-12-04T19:01:52.304Z"
   },
   {
    "duration": 64,
    "start_time": "2021-12-04T19:01:52.326Z"
   },
   {
    "duration": 9,
    "start_time": "2021-12-04T19:01:52.392Z"
   },
   {
    "duration": 99,
    "start_time": "2021-12-04T19:01:52.402Z"
   },
   {
    "duration": -179,
    "start_time": "2021-12-04T19:01:52.683Z"
   },
   {
    "duration": -193,
    "start_time": "2021-12-04T19:01:52.698Z"
   },
   {
    "duration": -200,
    "start_time": "2021-12-04T19:01:52.706Z"
   },
   {
    "duration": -207,
    "start_time": "2021-12-04T19:01:52.713Z"
   },
   {
    "duration": -212,
    "start_time": "2021-12-04T19:01:52.720Z"
   },
   {
    "duration": -215,
    "start_time": "2021-12-04T19:01:52.724Z"
   },
   {
    "duration": -219,
    "start_time": "2021-12-04T19:01:52.728Z"
   },
   {
    "duration": -220,
    "start_time": "2021-12-04T19:01:52.730Z"
   },
   {
    "duration": -229,
    "start_time": "2021-12-04T19:01:52.740Z"
   },
   {
    "duration": -233,
    "start_time": "2021-12-04T19:01:52.745Z"
   },
   {
    "duration": -233,
    "start_time": "2021-12-04T19:01:52.747Z"
   },
   {
    "duration": -235,
    "start_time": "2021-12-04T19:01:52.750Z"
   },
   {
    "duration": -236,
    "start_time": "2021-12-04T19:01:52.752Z"
   },
   {
    "duration": -239,
    "start_time": "2021-12-04T19:01:52.756Z"
   },
   {
    "duration": -242,
    "start_time": "2021-12-04T19:01:52.760Z"
   },
   {
    "duration": -243,
    "start_time": "2021-12-04T19:01:52.762Z"
   },
   {
    "duration": -245,
    "start_time": "2021-12-04T19:01:52.765Z"
   },
   {
    "duration": -247,
    "start_time": "2021-12-04T19:01:52.767Z"
   },
   {
    "duration": -249,
    "start_time": "2021-12-04T19:01:52.770Z"
   },
   {
    "duration": -251,
    "start_time": "2021-12-04T19:01:52.773Z"
   },
   {
    "duration": -256,
    "start_time": "2021-12-04T19:01:52.779Z"
   },
   {
    "duration": -258,
    "start_time": "2021-12-04T19:01:52.782Z"
   },
   {
    "duration": -260,
    "start_time": "2021-12-04T19:01:52.785Z"
   },
   {
    "duration": -262,
    "start_time": "2021-12-04T19:01:52.787Z"
   },
   {
    "duration": -265,
    "start_time": "2021-12-04T19:01:52.791Z"
   },
   {
    "duration": -266,
    "start_time": "2021-12-04T19:01:52.793Z"
   },
   {
    "duration": -268,
    "start_time": "2021-12-04T19:01:52.796Z"
   },
   {
    "duration": -271,
    "start_time": "2021-12-04T19:01:52.799Z"
   },
   {
    "duration": -272,
    "start_time": "2021-12-04T19:01:52.801Z"
   },
   {
    "duration": -274,
    "start_time": "2021-12-04T19:01:52.804Z"
   },
   {
    "duration": -276,
    "start_time": "2021-12-04T19:01:52.807Z"
   },
   {
    "duration": -279,
    "start_time": "2021-12-04T19:01:52.810Z"
   },
   {
    "duration": -281,
    "start_time": "2021-12-04T19:01:52.813Z"
   },
   {
    "duration": -282,
    "start_time": "2021-12-04T19:01:52.815Z"
   },
   {
    "duration": -284,
    "start_time": "2021-12-04T19:01:52.818Z"
   },
   {
    "duration": -285,
    "start_time": "2021-12-04T19:01:52.820Z"
   },
   {
    "duration": -288,
    "start_time": "2021-12-04T19:01:52.824Z"
   },
   {
    "duration": -290,
    "start_time": "2021-12-04T19:01:52.827Z"
   },
   {
    "duration": -293,
    "start_time": "2021-12-04T19:01:52.830Z"
   },
   {
    "duration": -294,
    "start_time": "2021-12-04T19:01:52.832Z"
   },
   {
    "duration": 3,
    "start_time": "2021-12-04T19:02:21.077Z"
   },
   {
    "duration": 3,
    "start_time": "2021-12-04T19:02:21.480Z"
   },
   {
    "duration": 2,
    "start_time": "2021-12-04T19:02:21.815Z"
   },
   {
    "duration": 55,
    "start_time": "2021-12-04T19:02:22.672Z"
   },
   {
    "duration": 10,
    "start_time": "2021-12-04T19:02:22.928Z"
   },
   {
    "duration": 13,
    "start_time": "2021-12-04T19:02:23.783Z"
   },
   {
    "duration": 13,
    "start_time": "2021-12-04T19:02:24.119Z"
   },
   {
    "duration": 14,
    "start_time": "2021-12-04T19:02:24.475Z"
   },
   {
    "duration": 33,
    "start_time": "2021-12-04T19:02:24.764Z"
   },
   {
    "duration": 10,
    "start_time": "2021-12-04T19:02:26.730Z"
   },
   {
    "duration": 8,
    "start_time": "2021-12-04T19:02:27.390Z"
   },
   {
    "duration": 8,
    "start_time": "2021-12-04T19:02:27.806Z"
   },
   {
    "duration": 9,
    "start_time": "2021-12-04T19:02:28.199Z"
   },
   {
    "duration": 11,
    "start_time": "2021-12-04T19:02:28.639Z"
   },
   {
    "duration": 10,
    "start_time": "2021-12-04T19:02:29.247Z"
   },
   {
    "duration": 75,
    "start_time": "2021-12-04T19:02:30.104Z"
   },
   {
    "duration": 10,
    "start_time": "2021-12-04T19:02:30.498Z"
   },
   {
    "duration": 10,
    "start_time": "2021-12-04T19:02:30.930Z"
   },
   {
    "duration": 13,
    "start_time": "2021-12-04T19:02:31.139Z"
   },
   {
    "duration": 31,
    "start_time": "2021-12-04T19:02:31.971Z"
   },
   {
    "duration": 4,
    "start_time": "2021-12-04T19:02:32.387Z"
   },
   {
    "duration": 32,
    "start_time": "2021-12-04T19:02:32.610Z"
   },
   {
    "duration": 6,
    "start_time": "2021-12-04T19:02:32.819Z"
   },
   {
    "duration": 12,
    "start_time": "2021-12-04T19:02:33.027Z"
   },
   {
    "duration": 3,
    "start_time": "2021-12-04T19:02:33.927Z"
   },
   {
    "duration": 16,
    "start_time": "2021-12-04T19:02:35.159Z"
   },
   {
    "duration": 16,
    "start_time": "2021-12-04T19:02:35.999Z"
   },
   {
    "duration": 15,
    "start_time": "2021-12-04T19:02:36.395Z"
   },
   {
    "duration": 5,
    "start_time": "2021-12-04T19:02:37.243Z"
   },
   {
    "duration": 11,
    "start_time": "2021-12-04T19:02:38.604Z"
   },
   {
    "duration": 7,
    "start_time": "2021-12-04T19:02:53.255Z"
   },
   {
    "duration": 7,
    "start_time": "2021-12-04T19:02:54.447Z"
   },
   {
    "duration": 96,
    "start_time": "2021-12-04T19:02:55.350Z"
   },
   {
    "duration": 12,
    "start_time": "2021-12-04T19:03:03.172Z"
   },
   {
    "duration": 8,
    "start_time": "2021-12-04T19:03:03.645Z"
   },
   {
    "duration": 6,
    "start_time": "2021-12-04T19:03:06.529Z"
   },
   {
    "duration": 8,
    "start_time": "2021-12-04T19:03:07.794Z"
   },
   {
    "duration": 18,
    "start_time": "2021-12-04T19:03:09.232Z"
   },
   {
    "duration": 24,
    "start_time": "2021-12-04T19:03:10.420Z"
   },
   {
    "duration": 16,
    "start_time": "2021-12-04T19:03:10.868Z"
   },
   {
    "duration": 10,
    "start_time": "2021-12-04T19:03:11.740Z"
   },
   {
    "duration": 8,
    "start_time": "2021-12-04T19:03:11.787Z"
   },
   {
    "duration": 7,
    "start_time": "2021-12-04T19:03:12.237Z"
   },
   {
    "duration": 7,
    "start_time": "2021-12-04T19:03:12.684Z"
   },
   {
    "duration": 6,
    "start_time": "2021-12-04T19:03:13.121Z"
   },
   {
    "duration": 13,
    "start_time": "2021-12-04T19:03:13.678Z"
   },
   {
    "duration": 3757,
    "start_time": "2021-12-04T19:03:16.850Z"
   },
   {
    "duration": 158,
    "start_time": "2021-12-04T19:03:20.610Z"
   },
   {
    "duration": 27,
    "start_time": "2021-12-04T19:03:20.770Z"
   },
   {
    "duration": 6,
    "start_time": "2021-12-04T19:03:25.381Z"
   },
   {
    "duration": 4,
    "start_time": "2021-12-04T19:03:26.254Z"
   },
   {
    "duration": 3,
    "start_time": "2021-12-04T19:03:26.719Z"
   },
   {
    "duration": 7,
    "start_time": "2021-12-04T19:03:27.592Z"
   },
   {
    "duration": 3,
    "start_time": "2021-12-04T19:03:28.371Z"
   },
   {
    "duration": 7,
    "start_time": "2021-12-04T19:03:28.924Z"
   },
   {
    "duration": 12,
    "start_time": "2021-12-04T19:03:29.178Z"
   },
   {
    "duration": 6,
    "start_time": "2021-12-04T19:03:29.677Z"
   },
   {
    "duration": 3,
    "start_time": "2021-12-04T19:03:35.836Z"
   },
   {
    "duration": 8,
    "start_time": "2021-12-04T19:03:37.003Z"
   },
   {
    "duration": 12,
    "start_time": "2021-12-04T19:03:37.594Z"
   },
   {
    "duration": 8,
    "start_time": "2021-12-04T19:03:39.655Z"
   },
   {
    "duration": 5,
    "start_time": "2021-12-04T19:03:41.093Z"
   },
   {
    "duration": 342,
    "start_time": "2021-12-04T19:03:41.231Z"
   },
   {
    "duration": 14,
    "start_time": "2021-12-04T19:03:41.640Z"
   },
   {
    "duration": 3,
    "start_time": "2021-12-04T19:03:43.995Z"
   },
   {
    "duration": 13,
    "start_time": "2021-12-04T19:03:44.991Z"
   },
   {
    "duration": 14,
    "start_time": "2021-12-04T19:03:45.042Z"
   },
   {
    "duration": 10,
    "start_time": "2021-12-04T19:03:48.221Z"
   },
   {
    "duration": 10,
    "start_time": "2021-12-04T19:03:50.934Z"
   },
   {
    "duration": 15,
    "start_time": "2021-12-04T19:03:52.854Z"
   },
   {
    "duration": 8,
    "start_time": "2021-12-04T19:03:53.786Z"
   },
   {
    "duration": 10,
    "start_time": "2021-12-04T19:03:54.587Z"
   },
   {
    "duration": 11,
    "start_time": "2021-12-04T19:03:56.982Z"
   },
   {
    "duration": 624,
    "start_time": "2021-12-04T22:56:40.136Z"
   },
   {
    "duration": 5,
    "start_time": "2021-12-04T22:56:40.764Z"
   },
   {
    "duration": 2,
    "start_time": "2021-12-04T22:56:40.773Z"
   },
   {
    "duration": 56,
    "start_time": "2021-12-04T22:56:40.777Z"
   },
   {
    "duration": 12,
    "start_time": "2021-12-04T22:56:40.835Z"
   },
   {
    "duration": 32,
    "start_time": "2021-12-04T22:56:40.849Z"
   },
   {
    "duration": 14,
    "start_time": "2021-12-04T22:56:40.884Z"
   },
   {
    "duration": 16,
    "start_time": "2021-12-04T22:56:43.038Z"
   }
  ],
  "kernelspec": {
   "display_name": "Python 3 (ipykernel)",
   "language": "python",
   "name": "python3"
  },
  "language_info": {
   "codemirror_mode": {
    "name": "ipython",
    "version": 3
   },
   "file_extension": ".py",
   "mimetype": "text/x-python",
   "name": "python",
   "nbconvert_exporter": "python",
   "pygments_lexer": "ipython3",
   "version": "3.9.7"
  },
  "toc": {
   "base_numbering": 1,
   "nav_menu": {
    "height": "361.997px",
    "width": "160px"
   },
   "number_sections": true,
   "sideBar": true,
   "skip_h1_title": true,
   "title_cell": "Table of Contents",
   "title_sidebar": "Contents",
   "toc_cell": false,
   "toc_position": {},
   "toc_section_display": true,
   "toc_window_display": true
  }
 },
 "nbformat": 4,
 "nbformat_minor": 2
}
