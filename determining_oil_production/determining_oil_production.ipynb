{
 "cells": [
  {
   "cell_type": "markdown",
   "metadata": {},
   "source": [
    "# Выбор локации для скважины"
   ]
  },
  {
   "cell_type": "markdown",
   "metadata": {},
   "source": [
    "Допустим, вы работаете в добывающей компании «ГлавРосГосНефть». Нужно решить, где бурить новую скважину.\n",
    "\n",
    "Вам предоставлены пробы нефти в трёх регионах: в каждом 10 000 месторождений, где измерили качество нефти и объём её запасов. Постройте модель машинного обучения, которая поможет определить регион, где добыча принесёт наибольшую прибыль. Проанализируйте возможную прибыль и риски техникой *Bootstrap.*\n",
    "\n",
    "Шаги для выбора локации:\n",
    "\n",
    "- В избранном регионе ищут месторождения, для каждого определяют значения признаков;\n",
    "- Строят модель и оценивают объём запасов;\n",
    "- Выбирают месторождения с самым высокими оценками значений. Количество месторождений зависит от бюджета компании и стоимости разработки одной скважины;\n",
    "- Прибыль равна суммарной прибыли отобранных месторождений."
   ]
  },
  {
   "cell_type": "code",
   "execution_count": 28,
   "metadata": {},
   "outputs": [],
   "source": [
    "import pandas as pd\n",
    "import numpy as np\n",
    "from numpy.random import RandomState\n",
    "from sklearn.model_selection import train_test_split\n",
    "from sklearn.linear_model import LinearRegression\n",
    "from sklearn.metrics import mean_squared_error"
   ]
  },
  {
   "cell_type": "markdown",
   "metadata": {},
   "source": [
    "## Загрузка и подготовка данных"
   ]
  },
  {
   "cell_type": "markdown",
   "metadata": {},
   "source": [
    "На данном данные загружаются и разбиваются на обучающую и валидационную выборки, в соотношении 75:25"
   ]
  },
  {
   "cell_type": "code",
   "execution_count": 29,
   "metadata": {},
   "outputs": [],
   "source": [
    "data_1 = pd.read_csv('/datasets/geo_data_0.csv')\n",
    "data_2 = pd.read_csv('/datasets/geo_data_1.csv')\n",
    "data_3 = pd.read_csv('/datasets/geo_data_2.csv')"
   ]
  },
  {
   "cell_type": "code",
   "execution_count": 30,
   "metadata": {},
   "outputs": [
    {
     "data": {
      "text/html": [
       "<div>\n",
       "<style scoped>\n",
       "    .dataframe tbody tr th:only-of-type {\n",
       "        vertical-align: middle;\n",
       "    }\n",
       "\n",
       "    .dataframe tbody tr th {\n",
       "        vertical-align: top;\n",
       "    }\n",
       "\n",
       "    .dataframe thead th {\n",
       "        text-align: right;\n",
       "    }\n",
       "</style>\n",
       "<table border=\"1\" class=\"dataframe\">\n",
       "  <thead>\n",
       "    <tr style=\"text-align: right;\">\n",
       "      <th></th>\n",
       "      <th>id</th>\n",
       "      <th>f0</th>\n",
       "      <th>f1</th>\n",
       "      <th>f2</th>\n",
       "      <th>product</th>\n",
       "    </tr>\n",
       "  </thead>\n",
       "  <tbody>\n",
       "    <tr>\n",
       "      <td>23830</td>\n",
       "      <td>LnihI</td>\n",
       "      <td>0.536930</td>\n",
       "      <td>-0.499839</td>\n",
       "      <td>1.585133</td>\n",
       "      <td>101.234625</td>\n",
       "    </tr>\n",
       "    <tr>\n",
       "      <td>17775</td>\n",
       "      <td>JSkzB</td>\n",
       "      <td>0.076925</td>\n",
       "      <td>-0.212972</td>\n",
       "      <td>6.594024</td>\n",
       "      <td>142.839474</td>\n",
       "    </tr>\n",
       "    <tr>\n",
       "      <td>42971</td>\n",
       "      <td>HAUog</td>\n",
       "      <td>0.377430</td>\n",
       "      <td>-0.282113</td>\n",
       "      <td>-1.134120</td>\n",
       "      <td>56.845192</td>\n",
       "    </tr>\n",
       "    <tr>\n",
       "      <td>99560</td>\n",
       "      <td>9RPh0</td>\n",
       "      <td>0.940057</td>\n",
       "      <td>0.748740</td>\n",
       "      <td>-1.276136</td>\n",
       "      <td>33.679779</td>\n",
       "    </tr>\n",
       "    <tr>\n",
       "      <td>18120</td>\n",
       "      <td>d6ZlH</td>\n",
       "      <td>-0.989872</td>\n",
       "      <td>0.530342</td>\n",
       "      <td>5.835365</td>\n",
       "      <td>147.447134</td>\n",
       "    </tr>\n",
       "  </tbody>\n",
       "</table>\n",
       "</div>"
      ],
      "text/plain": [
       "          id        f0        f1        f2     product\n",
       "23830  LnihI  0.536930 -0.499839  1.585133  101.234625\n",
       "17775  JSkzB  0.076925 -0.212972  6.594024  142.839474\n",
       "42971  HAUog  0.377430 -0.282113 -1.134120   56.845192\n",
       "99560  9RPh0  0.940057  0.748740 -1.276136   33.679779\n",
       "18120  d6ZlH -0.989872  0.530342  5.835365  147.447134"
      ]
     },
     "execution_count": 30,
     "metadata": {},
     "output_type": "execute_result"
    }
   ],
   "source": [
    "data_1.sample(5)"
   ]
  },
  {
   "cell_type": "code",
   "execution_count": 31,
   "metadata": {},
   "outputs": [
    {
     "name": "stdout",
     "output_type": "stream",
     "text": [
      "<class 'pandas.core.frame.DataFrame'>\n",
      "RangeIndex: 100000 entries, 0 to 99999\n",
      "Data columns (total 5 columns):\n",
      "id         100000 non-null object\n",
      "f0         100000 non-null float64\n",
      "f1         100000 non-null float64\n",
      "f2         100000 non-null float64\n",
      "product    100000 non-null float64\n",
      "dtypes: float64(4), object(1)\n",
      "memory usage: 3.8+ MB\n"
     ]
    }
   ],
   "source": [
    "data_1.info()"
   ]
  },
  {
   "cell_type": "code",
   "execution_count": 32,
   "metadata": {
    "scrolled": true
   },
   "outputs": [
    {
     "data": {
      "text/html": [
       "<div>\n",
       "<style scoped>\n",
       "    .dataframe tbody tr th:only-of-type {\n",
       "        vertical-align: middle;\n",
       "    }\n",
       "\n",
       "    .dataframe tbody tr th {\n",
       "        vertical-align: top;\n",
       "    }\n",
       "\n",
       "    .dataframe thead th {\n",
       "        text-align: right;\n",
       "    }\n",
       "</style>\n",
       "<table border=\"1\" class=\"dataframe\">\n",
       "  <thead>\n",
       "    <tr style=\"text-align: right;\">\n",
       "      <th></th>\n",
       "      <th>id</th>\n",
       "      <th>f0</th>\n",
       "      <th>f1</th>\n",
       "      <th>f2</th>\n",
       "      <th>product</th>\n",
       "    </tr>\n",
       "  </thead>\n",
       "  <tbody>\n",
       "    <tr>\n",
       "      <td>41059</td>\n",
       "      <td>MyQyz</td>\n",
       "      <td>-0.857045</td>\n",
       "      <td>-3.081804</td>\n",
       "      <td>3.999712</td>\n",
       "      <td>110.992147</td>\n",
       "    </tr>\n",
       "    <tr>\n",
       "      <td>43761</td>\n",
       "      <td>YcEZS</td>\n",
       "      <td>6.493443</td>\n",
       "      <td>-0.711439</td>\n",
       "      <td>3.002242</td>\n",
       "      <td>80.859783</td>\n",
       "    </tr>\n",
       "    <tr>\n",
       "      <td>27037</td>\n",
       "      <td>Oazt2</td>\n",
       "      <td>7.843738</td>\n",
       "      <td>-8.669030</td>\n",
       "      <td>4.994159</td>\n",
       "      <td>134.766305</td>\n",
       "    </tr>\n",
       "    <tr>\n",
       "      <td>49343</td>\n",
       "      <td>twQVL</td>\n",
       "      <td>6.349549</td>\n",
       "      <td>-2.201355</td>\n",
       "      <td>3.000749</td>\n",
       "      <td>80.859783</td>\n",
       "    </tr>\n",
       "    <tr>\n",
       "      <td>93751</td>\n",
       "      <td>i8N8U</td>\n",
       "      <td>-11.652990</td>\n",
       "      <td>-8.215475</td>\n",
       "      <td>0.997027</td>\n",
       "      <td>30.132364</td>\n",
       "    </tr>\n",
       "  </tbody>\n",
       "</table>\n",
       "</div>"
      ],
      "text/plain": [
       "          id         f0        f1        f2     product\n",
       "41059  MyQyz  -0.857045 -3.081804  3.999712  110.992147\n",
       "43761  YcEZS   6.493443 -0.711439  3.002242   80.859783\n",
       "27037  Oazt2   7.843738 -8.669030  4.994159  134.766305\n",
       "49343  twQVL   6.349549 -2.201355  3.000749   80.859783\n",
       "93751  i8N8U -11.652990 -8.215475  0.997027   30.132364"
      ]
     },
     "execution_count": 32,
     "metadata": {},
     "output_type": "execute_result"
    }
   ],
   "source": [
    "data_2.sample(5)"
   ]
  },
  {
   "cell_type": "code",
   "execution_count": 33,
   "metadata": {},
   "outputs": [
    {
     "name": "stdout",
     "output_type": "stream",
     "text": [
      "<class 'pandas.core.frame.DataFrame'>\n",
      "RangeIndex: 100000 entries, 0 to 99999\n",
      "Data columns (total 5 columns):\n",
      "id         100000 non-null object\n",
      "f0         100000 non-null float64\n",
      "f1         100000 non-null float64\n",
      "f2         100000 non-null float64\n",
      "product    100000 non-null float64\n",
      "dtypes: float64(4), object(1)\n",
      "memory usage: 3.8+ MB\n"
     ]
    }
   ],
   "source": [
    "data_2.info()"
   ]
  },
  {
   "cell_type": "code",
   "execution_count": 34,
   "metadata": {},
   "outputs": [
    {
     "data": {
      "text/html": [
       "<div>\n",
       "<style scoped>\n",
       "    .dataframe tbody tr th:only-of-type {\n",
       "        vertical-align: middle;\n",
       "    }\n",
       "\n",
       "    .dataframe tbody tr th {\n",
       "        vertical-align: top;\n",
       "    }\n",
       "\n",
       "    .dataframe thead th {\n",
       "        text-align: right;\n",
       "    }\n",
       "</style>\n",
       "<table border=\"1\" class=\"dataframe\">\n",
       "  <thead>\n",
       "    <tr style=\"text-align: right;\">\n",
       "      <th></th>\n",
       "      <th>id</th>\n",
       "      <th>f0</th>\n",
       "      <th>f1</th>\n",
       "      <th>f2</th>\n",
       "      <th>product</th>\n",
       "    </tr>\n",
       "  </thead>\n",
       "  <tbody>\n",
       "    <tr>\n",
       "      <td>88259</td>\n",
       "      <td>KIoiR</td>\n",
       "      <td>0.741738</td>\n",
       "      <td>0.436720</td>\n",
       "      <td>3.902632</td>\n",
       "      <td>40.495971</td>\n",
       "    </tr>\n",
       "    <tr>\n",
       "      <td>45631</td>\n",
       "      <td>lULyQ</td>\n",
       "      <td>1.951993</td>\n",
       "      <td>-1.523091</td>\n",
       "      <td>-0.144337</td>\n",
       "      <td>75.655319</td>\n",
       "    </tr>\n",
       "    <tr>\n",
       "      <td>29171</td>\n",
       "      <td>9J3Sz</td>\n",
       "      <td>-1.961073</td>\n",
       "      <td>1.142530</td>\n",
       "      <td>2.190700</td>\n",
       "      <td>116.396151</td>\n",
       "    </tr>\n",
       "    <tr>\n",
       "      <td>50125</td>\n",
       "      <td>NgEY1</td>\n",
       "      <td>1.030945</td>\n",
       "      <td>3.810242</td>\n",
       "      <td>3.054304</td>\n",
       "      <td>69.142771</td>\n",
       "    </tr>\n",
       "    <tr>\n",
       "      <td>44911</td>\n",
       "      <td>eLHbN</td>\n",
       "      <td>-2.680819</td>\n",
       "      <td>-0.139307</td>\n",
       "      <td>0.511025</td>\n",
       "      <td>30.011320</td>\n",
       "    </tr>\n",
       "  </tbody>\n",
       "</table>\n",
       "</div>"
      ],
      "text/plain": [
       "          id        f0        f1        f2     product\n",
       "88259  KIoiR  0.741738  0.436720  3.902632   40.495971\n",
       "45631  lULyQ  1.951993 -1.523091 -0.144337   75.655319\n",
       "29171  9J3Sz -1.961073  1.142530  2.190700  116.396151\n",
       "50125  NgEY1  1.030945  3.810242  3.054304   69.142771\n",
       "44911  eLHbN -2.680819 -0.139307  0.511025   30.011320"
      ]
     },
     "execution_count": 34,
     "metadata": {},
     "output_type": "execute_result"
    }
   ],
   "source": [
    "data_3.sample(5)"
   ]
  },
  {
   "cell_type": "code",
   "execution_count": 35,
   "metadata": {
    "scrolled": true
   },
   "outputs": [
    {
     "name": "stdout",
     "output_type": "stream",
     "text": [
      "<class 'pandas.core.frame.DataFrame'>\n",
      "RangeIndex: 100000 entries, 0 to 99999\n",
      "Data columns (total 5 columns):\n",
      "id         100000 non-null object\n",
      "f0         100000 non-null float64\n",
      "f1         100000 non-null float64\n",
      "f2         100000 non-null float64\n",
      "product    100000 non-null float64\n",
      "dtypes: float64(4), object(1)\n",
      "memory usage: 3.8+ MB\n"
     ]
    }
   ],
   "source": [
    "data_3.info()"
   ]
  },
  {
   "cell_type": "code",
   "execution_count": 36,
   "metadata": {},
   "outputs": [],
   "source": [
    "target_1 = data_1['product']\n",
    "features_1 = data_1.drop(['id', 'product'] , axis=1)\n",
    "features_train_1, features_valid_1, target_train_1, target_valid_1 = train_test_split(\n",
    "    features_1, target_1, test_size=0.25, random_state=12345) "
   ]
  },
  {
   "cell_type": "code",
   "execution_count": 37,
   "metadata": {},
   "outputs": [],
   "source": [
    "target_2 = data_2['product']\n",
    "features_2 = data_2.drop(['id', 'product'] , axis=1)\n",
    "features_train_2, features_valid_2, target_train_2, target_valid_2 = train_test_split(\n",
    "    features_2, target_2, test_size=0.25, random_state=12345) "
   ]
  },
  {
   "cell_type": "code",
   "execution_count": 38,
   "metadata": {},
   "outputs": [],
   "source": [
    "target_3 = data_3['product']\n",
    "features_3 = data_3.drop(['id', 'product'] , axis=1)\n",
    "features_train_3, features_valid_3, target_train_3, target_valid_3 = train_test_split(\n",
    "    features_3, target_3, test_size=0.25, random_state=12345) "
   ]
  },
  {
   "cell_type": "markdown",
   "metadata": {},
   "source": [
    "**Вывод**\n",
    "Данные подготовлены для обучения модели, разбиты на 2 выборки - тестовую и валидационную в отношении 75:25"
   ]
  },
  {
   "cell_type": "markdown",
   "metadata": {},
   "source": [
    "## Обучение и проверка модели"
   ]
  },
  {
   "cell_type": "markdown",
   "metadata": {},
   "source": [
    "На данном этапе происходит обучение и проверка моделей.По условию задачи, для обучения модели подходит только линейная регрессия. Необхадимо найти средний запас предсказанного сырья и RMSE модели."
   ]
  },
  {
   "cell_type": "code",
   "execution_count": 39,
   "metadata": {},
   "outputs": [
    {
     "name": "stdout",
     "output_type": "stream",
     "text": [
      "Средний запас предсказанного сырья в 1-м регионе: 92.59256778438038\n",
      "RMSE модели для 1-го региона: 37.5794217150813\n"
     ]
    }
   ],
   "source": [
    "model_1 = LinearRegression()\n",
    "model_1.fit(features_train_1, target_train_1)\n",
    "predictions_valid_1 = model_1.predict(features_valid_1)\n",
    "print('Средний запас предсказанного сырья в 1-м регионе:', np.mean(predictions_valid_1))\n",
    "print('RMSE модели для 1-го региона:',mean_squared_error(target_valid_1, predictions_valid_1)**0.5) "
   ]
  },
  {
   "cell_type": "code",
   "execution_count": 40,
   "metadata": {},
   "outputs": [
    {
     "name": "stdout",
     "output_type": "stream",
     "text": [
      "Средний запас предсказанного сырья во 2-м регионе: 68.728546895446\n",
      "RMSE модели для 2-го региона: 0.893099286775616\n"
     ]
    }
   ],
   "source": [
    "model_2 = LinearRegression()\n",
    "model_2.fit(features_train_2, target_train_2)\n",
    "predictions_valid_2 = model_2.predict(features_valid_2)\n",
    "print('Средний запас предсказанного сырья во 2-м регионе:', np.mean(predictions_valid_2))\n",
    "print('RMSE модели для 2-го региона:',mean_squared_error(target_valid_2, predictions_valid_2)**0.5) "
   ]
  },
  {
   "cell_type": "code",
   "execution_count": 41,
   "metadata": {
    "scrolled": false
   },
   "outputs": [
    {
     "name": "stdout",
     "output_type": "stream",
     "text": [
      "Средний запас предсказанного сырья в 3-м регионе: 94.96504596800489\n",
      "RMSE модели для 3-го региона: 40.02970873393434\n"
     ]
    }
   ],
   "source": [
    "model_3 = LinearRegression()\n",
    "model_3.fit(features_train_3, target_train_3)\n",
    "predictions_valid_3 = model_3.predict(features_valid_3)\n",
    "print('Средний запас предсказанного сырья в 3-м регионе:', np.mean(predictions_valid_3))\n",
    "print('RMSE модели для 3-го региона:',mean_squared_error(target_valid_3, predictions_valid_3)**0.5) "
   ]
  },
  {
   "cell_type": "markdown",
   "metadata": {},
   "source": [
    "**Вывод:**\n",
    "Качество 1 и 3 модели низкое, однако среднее значениие высокие, в то время как качество 2-й модели хорошее, но среднее значение меньше. "
   ]
  },
  {
   "cell_type": "code",
   "execution_count": 42,
   "metadata": {},
   "outputs": [
    {
     "name": "stdout",
     "output_type": "stream",
     "text": [
      "Средний запас предсказанного сырья в 1 регионе: 92.59256778438038\n",
      "RMSE модели для 1-го региона: 37.5794217150813\n",
      "Средний запас предсказанного сырья в 2 регионе: 80.6605573399132\n",
      "RMSE модели для 2-го региона: 0.893099286775616\n",
      "Средний запас предсказанного сырья в 3 регионе: 85.42872021594377\n",
      "RMSE модели для 3-го региона: 40.02970873393434\n"
     ]
    }
   ],
   "source": [
    "features_train = [features_train_1, features_train_2, features_train_3]\n",
    "target_train = [target_train_1, target_train_2, target_train_3]\n",
    "features_valid = [features_valid_1, features_valid_2, features_valid_3]\n",
    "target_valid = [target_valid_1, target_valid_2, target_valid_3]\n",
    "model = LinearRegression()\n",
    "predictions_valid = []\n",
    "for i in range(3):\n",
    "    model.fit(features_train[i], target_train[i])\n",
    "    predictions_valid_i = model.predict(features_valid[i])\n",
    "    predictions_valid.append(predictions_valid_i)\n",
    "    print(f'Средний запас предсказанного сырья в {i+1} регионе: {np.mean(predictions_valid)}')\n",
    "    print(f'RMSE модели для {i+1}-го региона: {mean_squared_error(target_valid[i], predictions_valid_i)**0.5}')   "
   ]
  },
  {
   "cell_type": "markdown",
   "metadata": {},
   "source": [
    "## Подготовка к расчёту прибыли"
   ]
  },
  {
   "cell_type": "markdown",
   "metadata": {},
   "source": [
    "- При разведке региона исследуют 500 точек, из которых с помощью машинного обучения выбирают 200 лучших для разработки.\n",
    "- Бюджет на разработку скважин в регионе — 10 млрд рублей.\n",
    "- При нынешних ценах один баррель сырья приносит 450 рублей дохода. Доход с каждой единицы продукта составляет 450 тыс. рублей, поскольку объём указан в тысячах баррелей.\n",
    "- После оценки рисков нужно оставить лишь те регионы, в которых вероятность убытков меньше 2.5%. Среди них выбирают регион с наибольшей средней прибылью."
   ]
  },
  {
   "cell_type": "code",
   "execution_count": 43,
   "metadata": {},
   "outputs": [],
   "source": [
    "BUDGET = 10000000000\n",
    "REVENUE_PER_PRODUCT = 450000 \n",
    "QUANTITY = 200"
   ]
  },
  {
   "cell_type": "code",
   "execution_count": 44,
   "metadata": {},
   "outputs": [],
   "source": [
    "stock = BUDGET/(REVENUE_PER_PRODUCT*QUANTITY)"
   ]
  },
  {
   "cell_type": "code",
   "execution_count": 45,
   "metadata": {},
   "outputs": [
    {
     "data": {
      "text/plain": [
       "111.11111111111111"
      ]
     },
     "execution_count": 45,
     "metadata": {},
     "output_type": "execute_result"
    }
   ],
   "source": [
    "stock"
   ]
  },
  {
   "cell_type": "markdown",
   "metadata": {},
   "source": [
    "**Вывод**\n",
    "Для того чтобы окупить бюджет на разработку 200 скважин в регионе, достаточный объём сырья для безубыточной разработки новой скважины должен быть 111.1 тыс баррелей. Средний запас предсказанного сырья в 3-х регионах меньше необходимого:\n",
    "- в 1-м регионе 92.6 \n",
    "- во 2-м регионе 68.7\n",
    "- в 3-м регионе 94.9"
   ]
  },
  {
   "cell_type": "markdown",
   "metadata": {},
   "source": [
    "## Расчёт прибыли и рисков "
   ]
  },
  {
   "cell_type": "markdown",
   "metadata": {},
   "source": [
    "**Функция для расчёта прибыли по выбранным скважинам и предсказаниям модели:**"
   ]
  },
  {
   "cell_type": "code",
   "execution_count": 46,
   "metadata": {},
   "outputs": [],
   "source": [
    "def profit(target, probabilities, count):\n",
    "    probs_sorted = probabilities.sort_values(ascending=False)\n",
    "    selected = target[probs_sorted.index][:count]\n",
    "    return REVENUE_PER_PRODUCT * selected.sum() - BUDGET"
   ]
  },
  {
   "cell_type": "markdown",
   "metadata": {},
   "source": [
    "**Расчет рисков и прибыли для каждого региона:**"
   ]
  },
  {
   "cell_type": "markdown",
   "metadata": {},
   "source": [
    "Посчитайте риски и прибыль для каждого региона:\n",
    "- Примените технику Bootstrap с 1000 выборок, чтобы найти распределение прибыли.\n",
    "- Найдите среднюю прибыль, 95%-й доверительный интервал и риск убытков. Убыток — это отрицательная прибыль.\n",
    "- Напишите выводы: предложите регион для разработки скважин и обоснуйте выбор."
   ]
  },
  {
   "cell_type": "code",
   "execution_count": 47,
   "metadata": {},
   "outputs": [
    {
     "ename": "NameError",
     "evalue": "name 'state' is not defined",
     "output_type": "error",
     "traceback": [
      "\u001b[0;31m---------------------------------------------------------------------------\u001b[0m",
      "\u001b[0;31mNameError\u001b[0m                                 Traceback (most recent call last)",
      "\u001b[0;32m<ipython-input-47-d9884f17179c>\u001b[0m in \u001b[0;36m<module>\u001b[0;34m\u001b[0m\n\u001b[0;32m----> 1\u001b[0;31m \u001b[0mtarget_subsample_1\u001b[0m \u001b[0;34m=\u001b[0m \u001b[0mtarget_valid_1\u001b[0m\u001b[0;34m.\u001b[0m\u001b[0mreset_index\u001b[0m\u001b[0;34m(\u001b[0m\u001b[0mdrop\u001b[0m\u001b[0;34m=\u001b[0m\u001b[0;32mTrue\u001b[0m\u001b[0;34m)\u001b[0m\u001b[0;34m.\u001b[0m\u001b[0msample\u001b[0m\u001b[0;34m(\u001b[0m\u001b[0mn\u001b[0m\u001b[0;34m=\u001b[0m\u001b[0;36m500\u001b[0m\u001b[0;34m,\u001b[0m \u001b[0mreplace\u001b[0m\u001b[0;34m=\u001b[0m\u001b[0;32mTrue\u001b[0m\u001b[0;34m,\u001b[0m \u001b[0mrandom_state\u001b[0m\u001b[0;34m=\u001b[0m\u001b[0mstate\u001b[0m\u001b[0;34m)\u001b[0m\u001b[0;34m\u001b[0m\u001b[0;34m\u001b[0m\u001b[0m\n\u001b[0m\u001b[1;32m      2\u001b[0m \u001b[0mprobs_subsample_1\u001b[0m \u001b[0;34m=\u001b[0m \u001b[0mpd\u001b[0m\u001b[0;34m.\u001b[0m\u001b[0mSeries\u001b[0m\u001b[0;34m(\u001b[0m\u001b[0mpredictions_valid_1\u001b[0m\u001b[0;34m[\u001b[0m\u001b[0mtarget_subsample_1\u001b[0m\u001b[0;34m.\u001b[0m\u001b[0mindex\u001b[0m\u001b[0;34m]\u001b[0m\u001b[0;34m,\u001b[0m \u001b[0mindex\u001b[0m \u001b[0;34m=\u001b[0m \u001b[0mtarget_subsample_1\u001b[0m\u001b[0;34m.\u001b[0m\u001b[0mindex\u001b[0m\u001b[0;34m)\u001b[0m\u001b[0;34m\u001b[0m\u001b[0;34m\u001b[0m\u001b[0m\n\u001b[1;32m      3\u001b[0m \u001b[0;34m\u001b[0m\u001b[0m\n\u001b[1;32m      4\u001b[0m \u001b[0mprint\u001b[0m\u001b[0;34m(\u001b[0m\u001b[0mtarget_subsample_1\u001b[0m \u001b[0;34m)\u001b[0m\u001b[0;34m\u001b[0m\u001b[0;34m\u001b[0m\u001b[0m\n\u001b[1;32m      5\u001b[0m \u001b[0mprint\u001b[0m\u001b[0;34m(\u001b[0m\u001b[0mprobs_subsample_1\u001b[0m \u001b[0;34m)\u001b[0m\u001b[0;34m\u001b[0m\u001b[0;34m\u001b[0m\u001b[0m\n",
      "\u001b[0;31mNameError\u001b[0m: name 'state' is not defined"
     ]
    }
   ],
   "source": [
    "target_subsample_1 = target_valid_1.reset_index(drop=True).sample(n=500, replace=True, random_state=state)\n",
    "probs_subsample_1 = pd.Series(predictions_valid_1[target_subsample_1.index], index = target_subsample_1.index)\n",
    "\n",
    "print(target_subsample_1 )\n",
    "print(probs_subsample_1 )"
   ]
  },
  {
   "cell_type": "code",
   "execution_count": 54,
   "metadata": {},
   "outputs": [
    {
     "name": "stdout",
     "output_type": "stream",
     "text": [
      "Средняя прибыль в 1-м регионе: 425938526.9105923\n",
      "95%-й доверительный интервал: от -102090094.83793654 до 947976353.358369\n",
      "Риск убытков:  0.06\n"
     ]
    }
   ],
   "source": [
    "state = np.random.RandomState(12345)\n",
    "    \n",
    "values = []\n",
    "for i in range(1000):\n",
    "    # < напишите код здесь>\n",
    "    target_subsample_1 = target_valid_1.reset_index(drop=True).sample(n=500, replace=True, random_state=state)\n",
    "    probs_subsample_1 = pd.Series(predictions_valid_1[target_subsample_1.index], index = target_subsample_1.index)\n",
    "    values.append(profit(target_subsample_1, probs_subsample_1, QUANTITY))\n",
    "\n",
    "values = pd.Series(values)\n",
    "lower = values.quantile(0.025)   \n",
    "upper = values.quantile(0.975)\n",
    "\n",
    "mean = values.mean()\n",
    "loss = (values < 0).mean()\n",
    "\n",
    "print(\"Средняя прибыль в 1-м регионе:\", mean)\n",
    "print(f'95%-й доверительный интервал: от {lower} до {upper}')\n",
    "print('Риск убытков: ', loss)"
   ]
  },
  {
   "cell_type": "code",
   "execution_count": 55,
   "metadata": {},
   "outputs": [
    {
     "name": "stdout",
     "output_type": "stream",
     "text": [
      "Средняя прибыль во 2-м регионе: 515222773.44328994\n",
      "95%-й доверительный интервал: от 68873225.37050177 до 931547591.2570496\n",
      "Риск убытков:  0.01\n"
     ]
    }
   ],
   "source": [
    "state = np.random.RandomState(12345)\n",
    "    \n",
    "values = []\n",
    "for i in range(1000):\n",
    "    # < напишите код здесь>\n",
    "    target_subsample_2 = target_valid_2.reset_index(drop=True).sample(n=500, replace=True, random_state=state)\n",
    "    probs_subsample_2 = pd.Series(predictions_valid_2[target_subsample_2.index], index = target_subsample_2.index)\n",
    "    values.append(profit(target_subsample_2, probs_subsample_2, QUANTITY))\n",
    "    \n",
    "values = pd.Series(values)\n",
    "lower = values.quantile(0.025)   \n",
    "upper = values.quantile(0.975)\n",
    "\n",
    "mean = values.mean()\n",
    "loss = (values < 0).mean()\n",
    "\n",
    "print(\"Средняя прибыль во 2-м регионе:\", mean)\n",
    "print(f'95%-й доверительный интервал: от {lower} до {upper}')\n",
    "print('Риск убытков: ', loss)"
   ]
  },
  {
   "cell_type": "code",
   "execution_count": 56,
   "metadata": {
    "scrolled": true
   },
   "outputs": [
    {
     "name": "stdout",
     "output_type": "stream",
     "text": [
      "Средняя прибыль в 3-м регионе: 435008362.78275555\n",
      "95%-й доверительный интервал: от -128880547.32978901 до 969706954.1802679\n",
      "Риск убытков:  0.064\n"
     ]
    }
   ],
   "source": [
    "state = np.random.RandomState(12345)\n",
    "    \n",
    "values = []\n",
    "for i in range(1000):\n",
    "    # < напишите код здесь>\n",
    "    target_subsample_3 = target_valid_3.reset_index(drop=True).sample(n=500, replace=True, random_state=state)\n",
    "    probs_subsample_3 = pd.Series(predictions_valid_3[target_subsample_3.index], index = target_subsample_3.index)\n",
    "    values.append(profit(target_subsample_3, probs_subsample_3, QUANTITY))\n",
    "    \n",
    "values = pd.Series(values)\n",
    "lower = values.quantile(0.025)   \n",
    "upper = values.quantile(0.975)\n",
    "\n",
    "mean = values.mean()\n",
    "loss = (values < 0).mean()\n",
    "\n",
    "print(\"Средняя прибыль в 3-м регионе:\", mean)\n",
    "print(f'95%-й доверительный интервал: от {lower} до {upper}')\n",
    "print('Риск убытков: ', loss)"
   ]
  },
  {
   "cell_type": "markdown",
   "metadata": {},
   "source": [
    "**Вывод** Было произведено исследование, наилучшие результаты показал 2-й регион"
   ]
  },
  {
   "cell_type": "code",
   "execution_count": 59,
   "metadata": {},
   "outputs": [],
   "source": [
    "def bootstrap_func (target_valid, predictions_valid,i):\n",
    "    state = np.random.RandomState(12345)\n",
    "    \n",
    "    values = []\n",
    "    for _ in range(1000):\n",
    "        # < напишите код здесь>\n",
    "        target_subsample = target_valid.reset_index(drop=True).sample(n=500, replace=True, random_state=state)\n",
    "        probs_subsample = pd.Series(predictions_valid[target_subsample.index], index = target_subsample.index)\n",
    "        values.append(profit(target_subsample, probs_subsample, QUANTITY))\n",
    "\n",
    "    values = pd.Series(values)\n",
    "    lower = values.quantile(0.025)   \n",
    "    upper = values.quantile(0.975)\n",
    "\n",
    "    mean = values.mean()\n",
    "    loss = (values < 0).mean()\n",
    "\n",
    "    print(f\"Средняя прибыль в {i+1}-м регионе:\", mean)\n",
    "    print(f'95%-й доверительный интервал: от {lower} до {upper}')\n",
    "    print('Риск убытков: ', loss)\n",
    "    print()"
   ]
  },
  {
   "cell_type": "code",
   "execution_count": 60,
   "metadata": {},
   "outputs": [
    {
     "name": "stdout",
     "output_type": "stream",
     "text": [
      "Средняя прибыль в 1-м регионе: 425938526.9105923\n",
      "95%-й доверительный интервал: от -102090094.83793654 до 947976353.358369\n",
      "Риск убытков:  0.06\n",
      "\n",
      "Средняя прибыль в 2-м регионе: 515222773.44328994\n",
      "95%-й доверительный интервал: от 68873225.37050177 до 931547591.2570496\n",
      "Риск убытков:  0.01\n",
      "\n",
      "Средняя прибыль в 3-м регионе: 435008362.78275555\n",
      "95%-й доверительный интервал: от -128880547.32978901 до 969706954.1802679\n",
      "Риск убытков:  0.064\n",
      "\n"
     ]
    }
   ],
   "source": [
    "for i in range(3):\n",
    "    bootstrap_func(target_valid[i], predictions_valid[i],i)"
   ]
  },
  {
   "cell_type": "markdown",
   "metadata": {},
   "source": [
    "## Общий вывод по исследованию:"
   ]
  },
  {
   "cell_type": "markdown",
   "metadata": {},
   "source": [
    "1. Данные по скважинам в 3-х регионах, содержащие по 10000 записей ыли подготовлены для обучения моделей: разделены на обучающую и валидационную выборки в соотношении 75:25.\n",
    "2. Для 3-х регионов были построены модели машинного обучения (LinearRegression) и обучены на основании тестовых выборок. Получены предсказания запасов нефти на основании валидационной выборки.\n",
    "3. Написана функция, вычисляющая среднюю прибыль, исходя из условия:\n",
    "- При разведке региона исследуют 500 точек, из которых с помощью машинного обучения выбирают 200 лучших для разработки.\n",
    "- Бюджет на разработку скважин в регионе — 10 млрд рублей.\n",
    "- При нынешних ценах один баррель сырья приносит 450 рублей дохода. Доход с каждой единицы продукта составляет 450 тыс. рублей, поскольку объём указан в тысячах баррелей.\n",
    "4.  Проведен анализ возможной прибыли и риски техникой Bootstrap, получены следующие данные:\n",
    "- 1-й регион: средняя прибыль - 426 млн руб., 95% интервал от -102 млн руб. до 948 млн руб., вероятность убытков - 6% \n",
    "- 2-й регион: средняя прибыль - 515 млн руб., 95% интервал от 68,9 млн руб. до 931,5 млн руб., вероятность убытков - 1%\n",
    "- 3-й регион: средняя прибыль - 435 млн руб., 95% интервал от -128,8 млн руб. до 969,7 млн руб., вероятность убытков - 6,4%\n",
    "\n",
    "Исходя, из полученных результатов, только 2-й регион имеет вероятность убытков меньше заданного порога 2,5%, а также самую высокую среднюю прибыль. \n",
    "\n",
    "Рекомендация к освоению - 2-й регион."
   ]
  },
  {
   "cell_type": "markdown",
   "metadata": {},
   "source": [
    "## Чек-лист готовности проекта"
   ]
  },
  {
   "cell_type": "markdown",
   "metadata": {},
   "source": [
    "Поставьте 'x' в выполненных пунктах. Далее нажмите Shift+Enter."
   ]
  },
  {
   "cell_type": "markdown",
   "metadata": {},
   "source": [
    "- [x]  Jupyter Notebook открыт\n",
    "- [x]  Весь код выполняется без ошибок\n",
    "- [x]  Ячейки с кодом расположены в порядке исполнения\n",
    "- [x]  Выполнен шаг 1: данные подготовлены\n",
    "- [x]  Выполнен шаг 2: модели обучены и проверены\n",
    "    - [x]  Данные корректно разбиты на обучающую и валидационную выборки\n",
    "    - [x]  Модели обучены, предсказания сделаны\n",
    "    - [x]  Предсказания и правильные ответы на валидационной выборке сохранены\n",
    "    - [x]  На экране напечатаны результаты\n",
    "    - [x]  Сделаны выводы\n",
    "- [x]  Выполнен шаг 3: проведена подготовка к расчёту прибыли\n",
    "    - [x]  Для всех ключевых значений созданы константы Python\n",
    "    - [x]  Посчитано минимальное среднее количество продукта в месторождениях региона, достаточное для разработки\n",
    "    - [x]  По предыдущему пункту сделаны выводы\n",
    "    - [x]  Написана функция расчёта прибыли\n",
    "- [x]  Выполнен шаг 4: посчитаны риски и прибыль\n",
    "    - [x]  Проведена процедура *Bootstrap*\n",
    "    - [x]  Все параметры бутстрепа соответствуют условию\n",
    "    - [x]  Найдены все нужные величины\n",
    "    - [x]  Предложен регион для разработки месторождения\n",
    "    - [x]  Выбор региона обоснован"
   ]
  }
 ],
 "metadata": {
  "ExecuteTimeLog": [
   {
    "duration": 515,
    "start_time": "2022-02-28T05:03:31.326Z"
   },
   {
    "duration": 364,
    "start_time": "2022-02-28T05:09:50.699Z"
   },
   {
    "duration": 17,
    "start_time": "2022-02-28T05:10:17.622Z"
   },
   {
    "duration": 11,
    "start_time": "2022-02-28T05:10:44.290Z"
   },
   {
    "duration": 13,
    "start_time": "2022-02-28T05:11:07.382Z"
   },
   {
    "duration": 306,
    "start_time": "2022-02-28T05:12:10.138Z"
   },
   {
    "duration": 10,
    "start_time": "2022-02-28T05:12:21.831Z"
   },
   {
    "duration": 9,
    "start_time": "2022-02-28T05:12:43.558Z"
   },
   {
    "duration": 9,
    "start_time": "2022-02-28T05:21:38.632Z"
   },
   {
    "duration": 960,
    "start_time": "2022-03-01T05:24:28.833Z"
   },
   {
    "duration": 348,
    "start_time": "2022-03-01T05:24:30.651Z"
   },
   {
    "duration": 16,
    "start_time": "2022-03-01T05:24:31.001Z"
   },
   {
    "duration": 10,
    "start_time": "2022-03-01T05:24:31.354Z"
   },
   {
    "duration": 11,
    "start_time": "2022-03-01T05:24:31.466Z"
   },
   {
    "duration": 9,
    "start_time": "2022-03-01T05:24:32.242Z"
   },
   {
    "duration": 10,
    "start_time": "2022-03-01T05:24:32.338Z"
   },
   {
    "duration": 9,
    "start_time": "2022-03-01T05:24:33.318Z"
   },
   {
    "duration": 15,
    "start_time": "2022-03-01T05:24:33.398Z"
   },
   {
    "duration": 16,
    "start_time": "2022-03-01T05:24:33.782Z"
   },
   {
    "duration": 16,
    "start_time": "2022-03-01T05:24:33.862Z"
   },
   {
    "duration": 2,
    "start_time": "2022-03-01T05:40:25.758Z"
   },
   {
    "duration": 448,
    "start_time": "2022-03-01T05:49:37.300Z"
   },
   {
    "duration": 3,
    "start_time": "2022-03-01T05:50:07.752Z"
   },
   {
    "duration": 331,
    "start_time": "2022-03-01T05:50:12.258Z"
   },
   {
    "duration": 14,
    "start_time": "2022-03-01T05:51:03.399Z"
   },
   {
    "duration": 14,
    "start_time": "2022-03-01T05:53:21.497Z"
   },
   {
    "duration": 14,
    "start_time": "2022-03-01T05:55:12.457Z"
   },
   {
    "duration": 964,
    "start_time": "2022-03-02T05:26:58.508Z"
   },
   {
    "duration": 340,
    "start_time": "2022-03-02T05:26:59.474Z"
   },
   {
    "duration": 18,
    "start_time": "2022-03-02T05:26:59.816Z"
   },
   {
    "duration": 10,
    "start_time": "2022-03-02T05:26:59.837Z"
   },
   {
    "duration": 11,
    "start_time": "2022-03-02T05:26:59.848Z"
   },
   {
    "duration": 13,
    "start_time": "2022-03-02T05:26:59.860Z"
   },
   {
    "duration": 10,
    "start_time": "2022-03-02T05:26:59.875Z"
   },
   {
    "duration": 9,
    "start_time": "2022-03-02T05:26:59.887Z"
   },
   {
    "duration": 50,
    "start_time": "2022-03-02T05:26:59.897Z"
   },
   {
    "duration": 17,
    "start_time": "2022-03-02T05:26:59.949Z"
   },
   {
    "duration": 18,
    "start_time": "2022-03-02T05:26:59.968Z"
   },
   {
    "duration": 53,
    "start_time": "2022-03-02T05:26:59.987Z"
   },
   {
    "duration": 101,
    "start_time": "2022-03-02T05:27:00.043Z"
   },
   {
    "duration": 206,
    "start_time": "2022-03-02T05:27:00.146Z"
   },
   {
    "duration": 85,
    "start_time": "2022-03-02T05:27:00.355Z"
   },
   {
    "duration": 3,
    "start_time": "2022-03-02T05:27:04.245Z"
   },
   {
    "duration": 3,
    "start_time": "2022-03-02T05:27:05.150Z"
   },
   {
    "duration": 4,
    "start_time": "2022-03-02T05:27:19.218Z"
   },
   {
    "duration": 264,
    "start_time": "2022-03-02T05:31:45.725Z"
   },
   {
    "duration": 3,
    "start_time": "2022-03-02T05:31:52.993Z"
   },
   {
    "duration": 3,
    "start_time": "2022-03-02T05:31:53.369Z"
   },
   {
    "duration": 4,
    "start_time": "2022-03-02T05:31:53.433Z"
   },
   {
    "duration": 3,
    "start_time": "2022-03-02T05:49:06.351Z"
   },
   {
    "duration": 2,
    "start_time": "2022-03-02T05:49:06.408Z"
   },
   {
    "duration": 4,
    "start_time": "2022-03-02T05:49:07.460Z"
   },
   {
    "duration": 4,
    "start_time": "2022-03-02T05:53:37.180Z"
   },
   {
    "duration": 186,
    "start_time": "2022-03-02T06:01:07.908Z"
   },
   {
    "duration": 3,
    "start_time": "2022-03-02T06:02:57.115Z"
   },
   {
    "duration": 180,
    "start_time": "2022-03-02T06:02:58.220Z"
   },
   {
    "duration": 6,
    "start_time": "2022-03-02T06:04:07.311Z"
   },
   {
    "duration": 222,
    "start_time": "2022-03-02T06:04:43.131Z"
   },
   {
    "duration": 923,
    "start_time": "2022-03-02T06:04:42.432Z"
   },
   {
    "duration": 4,
    "start_time": "2022-03-02T06:15:39.169Z"
   },
   {
    "duration": 173,
    "start_time": "2022-03-02T06:23:08.841Z"
   },
   {
    "duration": 11,
    "start_time": "2022-03-02T06:25:46.845Z"
   },
   {
    "duration": 9,
    "start_time": "2022-03-02T06:26:04.084Z"
   },
   {
    "duration": 5,
    "start_time": "2022-03-02T06:27:17.925Z"
   },
   {
    "duration": 179,
    "start_time": "2022-03-02T06:27:44.640Z"
   },
   {
    "duration": 364,
    "start_time": "2022-03-02T06:28:17.489Z"
   },
   {
    "duration": 2250,
    "start_time": "2022-03-02T06:29:55.216Z"
   },
   {
    "duration": 650,
    "start_time": "2022-03-02T06:45:12.779Z"
   },
   {
    "duration": 2244,
    "start_time": "2022-03-02T06:45:21.975Z"
   },
   {
    "duration": 3,
    "start_time": "2022-03-02T07:17:24.553Z"
   },
   {
    "duration": 3,
    "start_time": "2022-03-02T07:17:43.461Z"
   },
   {
    "duration": 5,
    "start_time": "2022-03-02T07:17:44.533Z"
   },
   {
    "duration": 2256,
    "start_time": "2022-03-02T07:17:45.328Z"
   },
   {
    "duration": 2290,
    "start_time": "2022-03-02T07:24:54.978Z"
   },
   {
    "duration": 990,
    "start_time": "2022-03-03T05:14:47.486Z"
   },
   {
    "duration": 352,
    "start_time": "2022-03-03T05:14:48.478Z"
   },
   {
    "duration": 17,
    "start_time": "2022-03-03T05:14:48.832Z"
   },
   {
    "duration": 20,
    "start_time": "2022-03-03T05:14:48.851Z"
   },
   {
    "duration": 17,
    "start_time": "2022-03-03T05:14:48.872Z"
   },
   {
    "duration": 11,
    "start_time": "2022-03-03T05:14:48.891Z"
   },
   {
    "duration": 11,
    "start_time": "2022-03-03T05:14:48.903Z"
   },
   {
    "duration": 16,
    "start_time": "2022-03-03T05:14:48.916Z"
   },
   {
    "duration": 25,
    "start_time": "2022-03-03T05:14:48.934Z"
   },
   {
    "duration": 28,
    "start_time": "2022-03-03T05:14:48.960Z"
   },
   {
    "duration": 17,
    "start_time": "2022-03-03T05:14:48.989Z"
   },
   {
    "duration": 53,
    "start_time": "2022-03-03T05:14:49.007Z"
   },
   {
    "duration": 110,
    "start_time": "2022-03-03T05:14:49.062Z"
   },
   {
    "duration": 192,
    "start_time": "2022-03-03T05:14:49.174Z"
   },
   {
    "duration": 92,
    "start_time": "2022-03-03T05:14:49.369Z"
   },
   {
    "duration": 7,
    "start_time": "2022-03-03T05:14:49.558Z"
   },
   {
    "duration": 23,
    "start_time": "2022-03-03T05:14:49.567Z"
   },
   {
    "duration": 9,
    "start_time": "2022-03-03T05:14:49.592Z"
   },
   {
    "duration": 41,
    "start_time": "2022-03-03T05:14:49.602Z"
   },
   {
    "duration": 6,
    "start_time": "2022-03-03T05:18:55.342Z"
   },
   {
    "duration": 2425,
    "start_time": "2022-03-03T05:18:56.331Z"
   },
   {
    "duration": 2386,
    "start_time": "2022-03-03T05:19:41.319Z"
   },
   {
    "duration": 2,
    "start_time": "2022-03-03T05:20:46.270Z"
   },
   {
    "duration": 4,
    "start_time": "2022-03-03T05:20:46.933Z"
   },
   {
    "duration": 3,
    "start_time": "2022-03-03T05:21:13.522Z"
   },
   {
    "duration": 3,
    "start_time": "2022-03-03T05:21:14.206Z"
   },
   {
    "duration": 2395,
    "start_time": "2022-03-03T05:22:40.034Z"
   },
   {
    "duration": 2409,
    "start_time": "2022-03-03T05:26:58.480Z"
   },
   {
    "duration": 2392,
    "start_time": "2022-03-03T05:28:33.464Z"
   },
   {
    "duration": 2373,
    "start_time": "2022-03-03T05:28:55.681Z"
   },
   {
    "duration": 2382,
    "start_time": "2022-03-03T05:28:58.056Z"
   },
   {
    "duration": 62,
    "start_time": "2022-03-03T05:29:45.276Z"
   },
   {
    "duration": 2377,
    "start_time": "2022-03-03T05:30:47.472Z"
   },
   {
    "duration": 2457,
    "start_time": "2022-03-03T05:31:09.387Z"
   },
   {
    "duration": 2441,
    "start_time": "2022-03-03T05:31:11.846Z"
   },
   {
    "duration": 3,
    "start_time": "2022-03-03T05:40:00.037Z"
   },
   {
    "duration": 3,
    "start_time": "2022-03-03T05:41:40.432Z"
   },
   {
    "duration": 5,
    "start_time": "2022-03-03T05:41:43.091Z"
   },
   {
    "duration": 2410,
    "start_time": "2022-03-03T05:41:43.652Z"
   },
   {
    "duration": 2482,
    "start_time": "2022-03-03T05:41:46.064Z"
   },
   {
    "duration": 2435,
    "start_time": "2022-03-03T05:42:11.788Z"
   },
   {
    "duration": 3,
    "start_time": "2022-03-03T05:44:23.188Z"
   },
   {
    "duration": 5,
    "start_time": "2022-03-03T05:44:30.635Z"
   },
   {
    "duration": 2428,
    "start_time": "2022-03-03T05:44:38.738Z"
   },
   {
    "duration": 2421,
    "start_time": "2022-03-03T05:44:41.168Z"
   },
   {
    "duration": 2435,
    "start_time": "2022-03-03T05:44:43.591Z"
   },
   {
    "duration": 3,
    "start_time": "2022-03-03T05:46:30.219Z"
   },
   {
    "duration": 5,
    "start_time": "2022-03-03T05:46:41.571Z"
   },
   {
    "duration": 35,
    "start_time": "2022-03-03T05:54:06.212Z"
   },
   {
    "duration": 3,
    "start_time": "2022-03-03T05:54:39.491Z"
   },
   {
    "duration": 431,
    "start_time": "2022-03-03T05:54:40.875Z"
   },
   {
    "duration": 1926,
    "start_time": "2022-03-03T05:54:39.382Z"
   },
   {
    "duration": 225,
    "start_time": "2022-03-03T05:55:37.573Z"
   },
   {
    "duration": 42,
    "start_time": "2022-03-03T05:56:20.260Z"
   },
   {
    "duration": 33,
    "start_time": "2022-03-03T05:57:43.596Z"
   },
   {
    "duration": 2728,
    "start_time": "2022-03-03T05:57:43.632Z"
   },
   {
    "duration": 10,
    "start_time": "2022-03-03T06:00:40.306Z"
   },
   {
    "duration": 7,
    "start_time": "2022-03-03T06:01:31.898Z"
   },
   {
    "duration": 2784,
    "start_time": "2022-03-03T06:01:31.979Z"
   },
   {
    "duration": 7,
    "start_time": "2022-03-03T06:02:27.717Z"
   },
   {
    "duration": 187,
    "start_time": "2022-03-03T06:09:37.787Z"
   },
   {
    "duration": 65,
    "start_time": "2022-03-03T06:10:10.105Z"
   },
   {
    "duration": 214,
    "start_time": "2022-03-03T06:10:12.819Z"
   },
   {
    "duration": 198,
    "start_time": "2022-03-03T06:10:31.910Z"
   },
   {
    "duration": 7,
    "start_time": "2022-03-03T06:10:51.475Z"
   },
   {
    "duration": 203,
    "start_time": "2022-03-03T06:10:51.538Z"
   },
   {
    "duration": 199,
    "start_time": "2022-03-03T06:12:56.254Z"
   },
   {
    "duration": 7,
    "start_time": "2022-03-03T06:13:40.401Z"
   },
   {
    "duration": 200,
    "start_time": "2022-03-03T06:14:45.213Z"
   },
   {
    "duration": 7,
    "start_time": "2022-03-03T06:15:30.914Z"
   },
   {
    "duration": 248,
    "start_time": "2022-03-03T06:17:05.692Z"
   },
   {
    "duration": 3,
    "start_time": "2022-03-03T06:18:27.281Z"
   },
   {
    "duration": 208,
    "start_time": "2022-03-03T06:18:28.235Z"
   },
   {
    "duration": 187,
    "start_time": "2022-03-03T06:19:44.684Z"
   },
   {
    "duration": 5,
    "start_time": "2022-03-03T06:19:52.275Z"
   },
   {
    "duration": 5,
    "start_time": "2022-03-03T06:20:51.359Z"
   },
   {
    "duration": 6,
    "start_time": "2022-03-03T06:22:27.207Z"
   },
   {
    "duration": 5,
    "start_time": "2022-03-03T06:22:49.371Z"
   },
   {
    "duration": 7,
    "start_time": "2022-03-03T06:24:01.099Z"
   },
   {
    "duration": 214,
    "start_time": "2022-03-03T06:24:01.147Z"
   },
   {
    "duration": 7,
    "start_time": "2022-03-03T06:24:35.730Z"
   },
   {
    "duration": 187,
    "start_time": "2022-03-03T06:24:35.778Z"
   },
   {
    "duration": 10,
    "start_time": "2022-03-03T06:26:22.810Z"
   },
   {
    "duration": 198,
    "start_time": "2022-03-03T06:26:22.841Z"
   },
   {
    "duration": 2110,
    "start_time": "2022-03-03T06:27:52.159Z"
   },
   {
    "duration": 2431,
    "start_time": "2022-03-03T06:28:44.084Z"
   },
   {
    "duration": 2389,
    "start_time": "2022-03-03T06:29:57.741Z"
   },
   {
    "duration": 2858,
    "start_time": "2022-03-03T06:30:00.132Z"
   },
   {
    "duration": 207,
    "start_time": "2022-03-03T06:30:53.193Z"
   },
   {
    "duration": 1943,
    "start_time": "2022-03-03T06:30:51.459Z"
   },
   {
    "duration": 264,
    "start_time": "2022-03-03T06:31:03.768Z"
   },
   {
    "duration": 1966,
    "start_time": "2022-03-03T06:31:02.069Z"
   },
   {
    "duration": 187,
    "start_time": "2022-03-03T06:31:35.301Z"
   },
   {
    "duration": 2650,
    "start_time": "2022-03-03T06:32:09.283Z"
   },
   {
    "duration": 2651,
    "start_time": "2022-03-03T06:33:29.287Z"
   },
   {
    "duration": 2495,
    "start_time": "2022-03-03T06:35:30.286Z"
   },
   {
    "duration": 2451,
    "start_time": "2022-03-03T06:35:48.390Z"
   },
   {
    "duration": 2491,
    "start_time": "2022-03-03T06:35:50.844Z"
   },
   {
    "duration": 2484,
    "start_time": "2022-03-03T06:36:04.238Z"
   },
   {
    "duration": 2454,
    "start_time": "2022-03-03T06:39:55.305Z"
   },
   {
    "duration": 2469,
    "start_time": "2022-03-03T06:40:40.737Z"
   },
   {
    "duration": 2475,
    "start_time": "2022-03-03T06:41:15.269Z"
   },
   {
    "duration": 1075,
    "start_time": "2022-03-05T18:04:02.325Z"
   },
   {
    "duration": 313,
    "start_time": "2022-03-05T18:04:03.402Z"
   },
   {
    "duration": 16,
    "start_time": "2022-03-05T18:04:03.717Z"
   },
   {
    "duration": 9,
    "start_time": "2022-03-05T18:04:03.735Z"
   },
   {
    "duration": 9,
    "start_time": "2022-03-05T18:04:03.745Z"
   },
   {
    "duration": 9,
    "start_time": "2022-03-05T18:04:03.755Z"
   },
   {
    "duration": 9,
    "start_time": "2022-03-05T18:04:03.765Z"
   },
   {
    "duration": 33,
    "start_time": "2022-03-05T18:04:03.776Z"
   },
   {
    "duration": 14,
    "start_time": "2022-03-05T18:04:03.810Z"
   },
   {
    "duration": 14,
    "start_time": "2022-03-05T18:04:03.825Z"
   },
   {
    "duration": 16,
    "start_time": "2022-03-05T18:04:03.840Z"
   },
   {
    "duration": 58,
    "start_time": "2022-03-05T18:04:03.857Z"
   },
   {
    "duration": 98,
    "start_time": "2022-03-05T18:04:03.917Z"
   },
   {
    "duration": 193,
    "start_time": "2022-03-05T18:04:04.016Z"
   },
   {
    "duration": 3,
    "start_time": "2022-03-05T18:04:06.883Z"
   },
   {
    "duration": 3,
    "start_time": "2022-03-05T18:05:10.741Z"
   },
   {
    "duration": 472,
    "start_time": "2022-03-05T18:13:04.104Z"
   },
   {
    "duration": 381,
    "start_time": "2022-03-05T18:14:00.231Z"
   },
   {
    "duration": 312,
    "start_time": "2022-03-05T18:17:12.785Z"
   },
   {
    "duration": 183,
    "start_time": "2022-03-05T18:18:50.725Z"
   },
   {
    "duration": 315,
    "start_time": "2022-03-05T18:22:46.692Z"
   },
   {
    "duration": 188,
    "start_time": "2022-03-05T18:23:06.620Z"
   },
   {
    "duration": 173,
    "start_time": "2022-03-05T18:23:58.536Z"
   },
   {
    "duration": 130,
    "start_time": "2022-03-05T18:24:17.280Z"
   },
   {
    "duration": 192,
    "start_time": "2022-03-05T18:24:25.019Z"
   },
   {
    "duration": 158,
    "start_time": "2022-03-05T18:25:25.351Z"
   },
   {
    "duration": 4,
    "start_time": "2022-03-05T18:33:13.024Z"
   },
   {
    "duration": 3,
    "start_time": "2022-03-05T18:33:35.312Z"
   },
   {
    "duration": 337,
    "start_time": "2022-03-05T18:33:35.317Z"
   },
   {
    "duration": 10,
    "start_time": "2022-03-05T18:33:35.656Z"
   },
   {
    "duration": 26,
    "start_time": "2022-03-05T18:33:35.668Z"
   },
   {
    "duration": 15,
    "start_time": "2022-03-05T18:33:35.696Z"
   },
   {
    "duration": 17,
    "start_time": "2022-03-05T18:33:35.713Z"
   },
   {
    "duration": 16,
    "start_time": "2022-03-05T18:33:35.731Z"
   },
   {
    "duration": 14,
    "start_time": "2022-03-05T18:33:35.749Z"
   },
   {
    "duration": 17,
    "start_time": "2022-03-05T18:33:35.765Z"
   },
   {
    "duration": 19,
    "start_time": "2022-03-05T18:33:35.783Z"
   },
   {
    "duration": 15,
    "start_time": "2022-03-05T18:33:35.803Z"
   },
   {
    "duration": 89,
    "start_time": "2022-03-05T18:33:35.819Z"
   },
   {
    "duration": 98,
    "start_time": "2022-03-05T18:33:35.911Z"
   },
   {
    "duration": 105,
    "start_time": "2022-03-05T18:33:36.011Z"
   },
   {
    "duration": 202,
    "start_time": "2022-03-05T18:33:36.206Z"
   },
   {
    "duration": 96,
    "start_time": "2022-03-05T18:33:36.410Z"
   },
   {
    "duration": 99,
    "start_time": "2022-03-05T18:33:36.509Z"
   },
   {
    "duration": 13,
    "start_time": "2022-03-05T18:33:36.610Z"
   },
   {
    "duration": 11,
    "start_time": "2022-03-05T18:33:36.624Z"
   },
   {
    "duration": 298,
    "start_time": "2022-03-05T18:33:36.636Z"
   },
   {
    "duration": 312,
    "start_time": "2022-03-05T18:33:36.624Z"
   },
   {
    "duration": 306,
    "start_time": "2022-03-05T18:33:36.630Z"
   },
   {
    "duration": 304,
    "start_time": "2022-03-05T18:33:36.633Z"
   },
   {
    "duration": 5,
    "start_time": "2022-03-05T18:33:40.044Z"
   },
   {
    "duration": 6296,
    "start_time": "2022-03-05T18:35:15.554Z"
   },
   {
    "duration": 4,
    "start_time": "2022-03-05T18:36:14.460Z"
   },
   {
    "duration": 6275,
    "start_time": "2022-03-05T18:36:16.575Z"
   },
   {
    "duration": 4,
    "start_time": "2022-03-05T18:36:38.540Z"
   },
   {
    "duration": 6375,
    "start_time": "2022-03-05T18:36:42.379Z"
   },
   {
    "duration": 2134,
    "start_time": "2022-03-05T18:36:59.559Z"
   },
   {
    "duration": 2112,
    "start_time": "2022-03-05T18:37:16.744Z"
   },
   {
    "duration": 2114,
    "start_time": "2022-03-05T18:37:19.948Z"
   },
   {
    "duration": 4,
    "start_time": "2022-03-05T18:40:11.690Z"
   },
   {
    "duration": 6280,
    "start_time": "2022-03-05T18:40:12.402Z"
   },
   {
    "duration": 5,
    "start_time": "2022-03-05T18:40:47.398Z"
   },
   {
    "duration": 6516,
    "start_time": "2022-03-05T18:40:47.429Z"
   }
  ],
  "kernelspec": {
   "display_name": "Python 3 (ipykernel)",
   "language": "python",
   "name": "python3"
  },
  "language_info": {
   "codemirror_mode": {
    "name": "ipython",
    "version": 3
   },
   "file_extension": ".py",
   "mimetype": "text/x-python",
   "name": "python",
   "nbconvert_exporter": "python",
   "pygments_lexer": "ipython3",
   "version": "3.9.7"
  },
  "toc": {
   "base_numbering": 1,
   "nav_menu": {},
   "number_sections": true,
   "sideBar": true,
   "skip_h1_title": true,
   "title_cell": "Table of Contents",
   "title_sidebar": "Contents",
   "toc_cell": false,
   "toc_position": {},
   "toc_section_display": true,
   "toc_window_display": false
  }
 },
 "nbformat": 4,
 "nbformat_minor": 2
}
