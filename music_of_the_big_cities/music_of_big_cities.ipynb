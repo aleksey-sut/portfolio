{
 "cells": [
  {
   "cell_type": "code",
   "execution_count": 1,
   "metadata": {},
   "outputs": [
    {
     "name": "stdout",
     "output_type": "stream",
     "text": [
      "Requirement already satisfied: jupyterthemes in c:\\users\\comp\\anaconda3\\lib\\site-packages (0.20.0)\n",
      "Requirement already satisfied: matplotlib>=1.4.3 in c:\\users\\comp\\anaconda3\\lib\\site-packages (from jupyterthemes) (3.5.2)\n",
      "Requirement already satisfied: notebook>=5.6.0 in c:\\users\\comp\\anaconda3\\lib\\site-packages (from jupyterthemes) (6.4.12)\n",
      "Requirement already satisfied: ipython>=5.4.1 in c:\\users\\comp\\anaconda3\\lib\\site-packages (from jupyterthemes) (7.31.1)\n",
      "Requirement already satisfied: lesscpy>=0.11.2 in c:\\users\\comp\\anaconda3\\lib\\site-packages (from jupyterthemes) (0.15.0)\n",
      "Requirement already satisfied: jupyter-core in c:\\users\\comp\\anaconda3\\lib\\site-packages (from jupyterthemes) (4.10.0)\n",
      "Requirement already satisfied: setuptools>=18.5 in c:\\users\\comp\\anaconda3\\lib\\site-packages (from ipython>=5.4.1->jupyterthemes) (63.4.1)\n",
      "Requirement already satisfied: backcall in c:\\users\\comp\\anaconda3\\lib\\site-packages (from ipython>=5.4.1->jupyterthemes) (0.2.0)\n",
      "Requirement already satisfied: pygments in c:\\users\\comp\\anaconda3\\lib\\site-packages (from ipython>=5.4.1->jupyterthemes) (2.11.2)\n",
      "Requirement already satisfied: pickleshare in c:\\users\\comp\\anaconda3\\lib\\site-packages (from ipython>=5.4.1->jupyterthemes) (0.7.5)\n",
      "Requirement already satisfied: colorama in c:\\users\\comp\\anaconda3\\lib\\site-packages (from ipython>=5.4.1->jupyterthemes) (0.4.5)\n",
      "Requirement already satisfied: jedi>=0.16 in c:\\users\\comp\\anaconda3\\lib\\site-packages (from ipython>=5.4.1->jupyterthemes) (0.18.1)\n",
      "Requirement already satisfied: prompt-toolkit!=3.0.0,!=3.0.1,<3.1.0,>=2.0.0 in c:\\users\\comp\\anaconda3\\lib\\site-packages (from ipython>=5.4.1->jupyterthemes) (3.0.20)\n",
      "Requirement already satisfied: matplotlib-inline in c:\\users\\comp\\anaconda3\\lib\\site-packages (from ipython>=5.4.1->jupyterthemes) (0.1.6)\n",
      "Requirement already satisfied: traitlets>=4.2 in c:\\users\\comp\\anaconda3\\lib\\site-packages (from ipython>=5.4.1->jupyterthemes) (5.1.1)\n",
      "Requirement already satisfied: decorator in c:\\users\\comp\\anaconda3\\lib\\site-packages (from ipython>=5.4.1->jupyterthemes) (5.1.1)\n",
      "Requirement already satisfied: ply in c:\\users\\comp\\anaconda3\\lib\\site-packages (from lesscpy>=0.11.2->jupyterthemes) (3.11)\n",
      "Requirement already satisfied: six in c:\\users\\comp\\anaconda3\\lib\\site-packages (from lesscpy>=0.11.2->jupyterthemes) (1.16.0)\n",
      "Requirement already satisfied: fonttools>=4.22.0 in c:\\users\\comp\\anaconda3\\lib\\site-packages (from matplotlib>=1.4.3->jupyterthemes) (4.25.0)\n",
      "Requirement already satisfied: python-dateutil>=2.7 in c:\\users\\comp\\anaconda3\\lib\\site-packages (from matplotlib>=1.4.3->jupyterthemes) (2.8.2)\n",
      "Requirement already satisfied: pillow>=6.2.0 in c:\\users\\comp\\anaconda3\\lib\\site-packages (from matplotlib>=1.4.3->jupyterthemes) (9.2.0)\n",
      "Requirement already satisfied: packaging>=20.0 in c:\\users\\comp\\anaconda3\\lib\\site-packages (from matplotlib>=1.4.3->jupyterthemes) (21.3)\n",
      "Requirement already satisfied: pyparsing>=2.2.1 in c:\\users\\comp\\anaconda3\\lib\\site-packages (from matplotlib>=1.4.3->jupyterthemes) (3.0.9)\n",
      "Requirement already satisfied: cycler>=0.10 in c:\\users\\comp\\anaconda3\\lib\\site-packages (from matplotlib>=1.4.3->jupyterthemes) (0.11.0)\n",
      "Requirement already satisfied: numpy>=1.17 in c:\\users\\comp\\anaconda3\\lib\\site-packages (from matplotlib>=1.4.3->jupyterthemes) (1.21.5)\n",
      "Requirement already satisfied: kiwisolver>=1.0.1 in c:\\users\\comp\\anaconda3\\lib\\site-packages (from matplotlib>=1.4.3->jupyterthemes) (1.4.2)\n",
      "Requirement already satisfied: tornado>=6.1 in c:\\users\\comp\\anaconda3\\lib\\site-packages (from notebook>=5.6.0->jupyterthemes) (6.1)\n",
      "Requirement already satisfied: argon2-cffi in c:\\users\\comp\\anaconda3\\lib\\site-packages (from notebook>=5.6.0->jupyterthemes) (21.3.0)\n",
      "Requirement already satisfied: terminado>=0.8.3 in c:\\users\\comp\\anaconda3\\lib\\site-packages (from notebook>=5.6.0->jupyterthemes) (0.13.1)\n",
      "Requirement already satisfied: ipython-genutils in c:\\users\\comp\\anaconda3\\lib\\site-packages (from notebook>=5.6.0->jupyterthemes) (0.2.0)\n",
      "Requirement already satisfied: ipykernel in c:\\users\\comp\\anaconda3\\lib\\site-packages (from notebook>=5.6.0->jupyterthemes) (6.15.2)\n",
      "Requirement already satisfied: nbformat in c:\\users\\comp\\anaconda3\\lib\\site-packages (from notebook>=5.6.0->jupyterthemes) (5.3.0)\n",
      "Requirement already satisfied: jinja2 in c:\\users\\comp\\anaconda3\\lib\\site-packages (from notebook>=5.6.0->jupyterthemes) (2.11.3)\n",
      "Requirement already satisfied: Send2Trash>=1.8.0 in c:\\users\\comp\\anaconda3\\lib\\site-packages (from notebook>=5.6.0->jupyterthemes) (1.8.0)\n",
      "Requirement already satisfied: pyzmq>=17 in c:\\users\\comp\\anaconda3\\lib\\site-packages (from notebook>=5.6.0->jupyterthemes) (23.2.0)\n",
      "Requirement already satisfied: jupyter-client>=5.3.4 in c:\\users\\comp\\anaconda3\\lib\\site-packages (from notebook>=5.6.0->jupyterthemes) (7.3.4)\n",
      "Requirement already satisfied: nbconvert>=5 in c:\\users\\comp\\anaconda3\\lib\\site-packages (from notebook>=5.6.0->jupyterthemes) (6.4.4)\n",
      "Requirement already satisfied: prometheus-client in c:\\users\\comp\\anaconda3\\lib\\site-packages (from notebook>=5.6.0->jupyterthemes) (0.14.1)\n",
      "Requirement already satisfied: nest-asyncio>=1.5 in c:\\users\\comp\\anaconda3\\lib\\site-packages (from notebook>=5.6.0->jupyterthemes) (1.5.5)\n",
      "Requirement already satisfied: pywin32>=1.0 in c:\\users\\comp\\anaconda3\\lib\\site-packages (from jupyter-core->jupyterthemes) (302)\n",
      "Requirement already satisfied: parso<0.9.0,>=0.8.0 in c:\\users\\comp\\anaconda3\\lib\\site-packages (from jedi>=0.16->ipython>=5.4.1->jupyterthemes) (0.8.3)\n",
      "Requirement already satisfied: entrypoints in c:\\users\\comp\\anaconda3\\lib\\site-packages (from jupyter-client>=5.3.4->notebook>=5.6.0->jupyterthemes) (0.4)\n",
      "Requirement already satisfied: beautifulsoup4 in c:\\users\\comp\\anaconda3\\lib\\site-packages (from nbconvert>=5->notebook>=5.6.0->jupyterthemes) (4.11.1)\n",
      "Requirement already satisfied: testpath in c:\\users\\comp\\anaconda3\\lib\\site-packages (from nbconvert>=5->notebook>=5.6.0->jupyterthemes) (0.6.0)\n",
      "Requirement already satisfied: mistune<2,>=0.8.1 in c:\\users\\comp\\anaconda3\\lib\\site-packages (from nbconvert>=5->notebook>=5.6.0->jupyterthemes) (0.8.4)\n",
      "Requirement already satisfied: jupyterlab-pygments in c:\\users\\comp\\anaconda3\\lib\\site-packages (from nbconvert>=5->notebook>=5.6.0->jupyterthemes) (0.1.2)\n",
      "Requirement already satisfied: defusedxml in c:\\users\\comp\\anaconda3\\lib\\site-packages (from nbconvert>=5->notebook>=5.6.0->jupyterthemes) (0.7.1)\n",
      "Requirement already satisfied: bleach in c:\\users\\comp\\anaconda3\\lib\\site-packages (from nbconvert>=5->notebook>=5.6.0->jupyterthemes) (4.1.0)\n",
      "Requirement already satisfied: nbclient<0.6.0,>=0.5.0 in c:\\users\\comp\\anaconda3\\lib\\site-packages (from nbconvert>=5->notebook>=5.6.0->jupyterthemes) (0.5.13)\n",
      "Requirement already satisfied: pandocfilters>=1.4.1 in c:\\users\\comp\\anaconda3\\lib\\site-packages (from nbconvert>=5->notebook>=5.6.0->jupyterthemes) (1.5.0)\n",
      "Requirement already satisfied: MarkupSafe>=0.23 in c:\\users\\comp\\anaconda3\\lib\\site-packages (from jinja2->notebook>=5.6.0->jupyterthemes) (2.0.1)\n",
      "Requirement already satisfied: fastjsonschema in c:\\users\\comp\\anaconda3\\lib\\site-packages (from nbformat->notebook>=5.6.0->jupyterthemes) (2.16.2)\n",
      "Requirement already satisfied: jsonschema>=2.6 in c:\\users\\comp\\anaconda3\\lib\\site-packages (from nbformat->notebook>=5.6.0->jupyterthemes) (4.4.0)\n",
      "Requirement already satisfied: wcwidth in c:\\users\\comp\\anaconda3\\lib\\site-packages (from prompt-toolkit!=3.0.0,!=3.0.1,<3.1.0,>=2.0.0->ipython>=5.4.1->jupyterthemes) (0.2.5)\n",
      "Requirement already satisfied: pywinpty>=1.1.0 in c:\\users\\comp\\anaconda3\\lib\\site-packages (from terminado>=0.8.3->notebook>=5.6.0->jupyterthemes) (2.0.2)\n",
      "Requirement already satisfied: argon2-cffi-bindings in c:\\users\\comp\\anaconda3\\lib\\site-packages (from argon2-cffi->notebook>=5.6.0->jupyterthemes) (21.2.0)\n",
      "Requirement already satisfied: psutil in c:\\users\\comp\\anaconda3\\lib\\site-packages (from ipykernel->notebook>=5.6.0->jupyterthemes) (5.9.0)\n",
      "Requirement already satisfied: debugpy>=1.0 in c:\\users\\comp\\anaconda3\\lib\\site-packages (from ipykernel->notebook>=5.6.0->jupyterthemes) (1.5.1)\n",
      "Requirement already satisfied: pyrsistent!=0.17.0,!=0.17.1,!=0.17.2,>=0.14.0 in c:\\users\\comp\\anaconda3\\lib\\site-packages (from jsonschema>=2.6->nbformat->notebook>=5.6.0->jupyterthemes) (0.18.0)\n",
      "Requirement already satisfied: attrs>=17.4.0 in c:\\users\\comp\\anaconda3\\lib\\site-packages (from jsonschema>=2.6->nbformat->notebook>=5.6.0->jupyterthemes) (21.4.0)\n",
      "Requirement already satisfied: cffi>=1.0.1 in c:\\users\\comp\\anaconda3\\lib\\site-packages (from argon2-cffi-bindings->argon2-cffi->notebook>=5.6.0->jupyterthemes) (1.15.1)\n",
      "Requirement already satisfied: soupsieve>1.2 in c:\\users\\comp\\anaconda3\\lib\\site-packages (from beautifulsoup4->nbconvert>=5->notebook>=5.6.0->jupyterthemes) (2.3.1)\n",
      "Requirement already satisfied: webencodings in c:\\users\\comp\\anaconda3\\lib\\site-packages (from bleach->nbconvert>=5->notebook>=5.6.0->jupyterthemes) (0.5.1)\n",
      "Requirement already satisfied: pycparser in c:\\users\\comp\\anaconda3\\lib\\site-packages (from cffi>=1.0.1->argon2-cffi-bindings->argon2-cffi->notebook>=5.6.0->jupyterthemes) (2.21)\n",
      "Note: you may need to restart the kernel to use updated packages.\n"
     ]
    }
   ],
   "source": [
    "pip install jupyterthemes"
   ]
  },
  {
   "cell_type": "code",
   "execution_count": 2,
   "metadata": {},
   "outputs": [
    {
     "name": "stdout",
     "output_type": "stream",
     "text": [
      "Didn't recognize theme name: gruvbo\n",
      "Available Themes: \n",
      "   chesterish\n",
      "   grade3\n",
      "   gruvboxd\n",
      "   gruvboxl\n",
      "   monokai\n",
      "   oceans16\n",
      "   onedork\n",
      "   solarizedd\n",
      "   solarizedl\n"
     ]
    }
   ],
   "source": [
    "!jt -t gruvbo"
   ]
  },
  {
   "cell_type": "markdown",
   "metadata": {
    "id": "E0vqbgi9ay0H"
   },
   "source": [
    "# Яндекс.Музыка"
   ]
  },
  {
   "cell_type": "markdown",
   "metadata": {
    "id": "VUC88oWjTJw2"
   },
   "source": [
    "Сравнение Москвы и Петербурга окружено мифами. Например:\n",
    " * Москва — мегаполис, подчинённый жёсткому ритму рабочей недели;\n",
    " * Петербург — культурная столица, со своими вкусами.\n",
    "\n",
    "На данных Яндекс.Музыки вы сравните поведение пользователей двух столиц.\n",
    "\n",
    "**Цель исследования** — проверьте три гипотезы:\n",
    "1. Активность пользователей зависит от дня недели. Причём в Москве и Петербурге это проявляется по-разному.\n",
    "2. В понедельник утром в Москве преобладают одни жанры, а в Петербурге — другие. Так же и вечером пятницы преобладают разные жанры — в зависимости от города. \n",
    "3. Москва и Петербург предпочитают разные жанры музыки. В Москве чаще слушают поп-музыку, в Петербурге — русский рэп.\n",
    "\n",
    "**Ход исследования**\n",
    "\n",
    "Данные о поведении пользователей вы получите из файла `yandex_music_project.csv`. О качестве данных ничего не известно. Поэтому перед проверкой гипотез понадобится обзор данных. \n",
    "\n",
    "Вы проверите данные на ошибки и оцените их влияние на исследование. Затем, на этапе предобработки вы поищете возможность исправить самые критичные ошибки данных.\n",
    " \n",
    "Таким образом, исследование пройдёт в три этапа:\n",
    " 1. Обзор данных.\n",
    " 2. Предобработка данных.\n",
    " 3. Проверка гипотез.\n",
    "\n"
   ]
  },
  {
   "cell_type": "markdown",
   "metadata": {
    "id": "Ml1hmfXC_Zcs"
   },
   "source": [
    "## Обзор данных\n",
    "\n",
    "Составьте первое представление о данных Яндекс.Музыки.\n",
    "\n",
    "\n"
   ]
  },
  {
   "cell_type": "markdown",
   "metadata": {
    "id": "57eAOGIz_Zcs"
   },
   "source": [
    "Основной инструмент аналитика — `pandas`. Импортируйте эту библиотеку."
   ]
  },
  {
   "cell_type": "code",
   "execution_count": 3,
   "metadata": {
    "id": "AXN7PHPN_Zcs"
   },
   "outputs": [],
   "source": [
    "# импорт библиотеки pandas\n",
    "import pandas as pd"
   ]
  },
  {
   "cell_type": "markdown",
   "metadata": {
    "id": "SG23P8tt_Zcs"
   },
   "source": [
    "Прочитайте файл `yandex_music_project.csv` из папки `/datasets` и сохраните его в переменной `df`:"
   ]
  },
  {
   "cell_type": "code",
   "execution_count": 4,
   "metadata": {
    "id": "fFVu7vqh_Zct"
   },
   "outputs": [],
   "source": [
    "# чтение файла с данными и сохранение в df\n",
    "df = pd.read_csv('yandex_music_project.csv')"
   ]
  },
  {
   "cell_type": "markdown",
   "metadata": {
    "id": "rDoOMd3uTqnZ"
   },
   "source": [
    "Выведите на экран первые десять строк таблицы:"
   ]
  },
  {
   "cell_type": "code",
   "execution_count": 5,
   "metadata": {
    "id": "oWTVX3gW_Zct",
    "scrolled": true
   },
   "outputs": [
    {
     "data": {
      "text/html": [
       "<div>\n",
       "<style scoped>\n",
       "    .dataframe tbody tr th:only-of-type {\n",
       "        vertical-align: middle;\n",
       "    }\n",
       "\n",
       "    .dataframe tbody tr th {\n",
       "        vertical-align: top;\n",
       "    }\n",
       "\n",
       "    .dataframe thead th {\n",
       "        text-align: right;\n",
       "    }\n",
       "</style>\n",
       "<table border=\"1\" class=\"dataframe\">\n",
       "  <thead>\n",
       "    <tr style=\"text-align: right;\">\n",
       "      <th></th>\n",
       "      <th>Unnamed: 0</th>\n",
       "      <th>userID</th>\n",
       "      <th>Track</th>\n",
       "      <th>artist</th>\n",
       "      <th>genre</th>\n",
       "      <th>City</th>\n",
       "      <th>time</th>\n",
       "      <th>Day</th>\n",
       "    </tr>\n",
       "  </thead>\n",
       "  <tbody>\n",
       "    <tr>\n",
       "      <th>0</th>\n",
       "      <td>0</td>\n",
       "      <td>FFB692EC</td>\n",
       "      <td>Kamigata To Boots</td>\n",
       "      <td>The Mass Missile</td>\n",
       "      <td>rock</td>\n",
       "      <td>Saint-Petersburg</td>\n",
       "      <td>20:28:33</td>\n",
       "      <td>Wednesday</td>\n",
       "    </tr>\n",
       "    <tr>\n",
       "      <th>1</th>\n",
       "      <td>1</td>\n",
       "      <td>55204538</td>\n",
       "      <td>Delayed Because of Accident</td>\n",
       "      <td>Andreas Rönnberg</td>\n",
       "      <td>rock</td>\n",
       "      <td>Moscow</td>\n",
       "      <td>14:07:09</td>\n",
       "      <td>Friday</td>\n",
       "    </tr>\n",
       "    <tr>\n",
       "      <th>2</th>\n",
       "      <td>2</td>\n",
       "      <td>20EC38</td>\n",
       "      <td>Funiculì funiculà</td>\n",
       "      <td>Mario Lanza</td>\n",
       "      <td>pop</td>\n",
       "      <td>Saint-Petersburg</td>\n",
       "      <td>20:58:07</td>\n",
       "      <td>Wednesday</td>\n",
       "    </tr>\n",
       "    <tr>\n",
       "      <th>3</th>\n",
       "      <td>3</td>\n",
       "      <td>A3DD03C9</td>\n",
       "      <td>Dragons in the Sunset</td>\n",
       "      <td>Fire + Ice</td>\n",
       "      <td>folk</td>\n",
       "      <td>Saint-Petersburg</td>\n",
       "      <td>08:37:09</td>\n",
       "      <td>Monday</td>\n",
       "    </tr>\n",
       "    <tr>\n",
       "      <th>4</th>\n",
       "      <td>4</td>\n",
       "      <td>E2DC1FAE</td>\n",
       "      <td>Soul People</td>\n",
       "      <td>Space Echo</td>\n",
       "      <td>dance</td>\n",
       "      <td>Moscow</td>\n",
       "      <td>08:34:34</td>\n",
       "      <td>Monday</td>\n",
       "    </tr>\n",
       "    <tr>\n",
       "      <th>5</th>\n",
       "      <td>5</td>\n",
       "      <td>842029A1</td>\n",
       "      <td>Преданная</td>\n",
       "      <td>IMPERVTOR</td>\n",
       "      <td>rusrap</td>\n",
       "      <td>Saint-Petersburg</td>\n",
       "      <td>13:09:41</td>\n",
       "      <td>Friday</td>\n",
       "    </tr>\n",
       "    <tr>\n",
       "      <th>6</th>\n",
       "      <td>6</td>\n",
       "      <td>4CB90AA5</td>\n",
       "      <td>True</td>\n",
       "      <td>Roman Messer</td>\n",
       "      <td>dance</td>\n",
       "      <td>Moscow</td>\n",
       "      <td>13:00:07</td>\n",
       "      <td>Wednesday</td>\n",
       "    </tr>\n",
       "    <tr>\n",
       "      <th>7</th>\n",
       "      <td>7</td>\n",
       "      <td>F03E1C1F</td>\n",
       "      <td>Feeling This Way</td>\n",
       "      <td>Polina Griffith</td>\n",
       "      <td>dance</td>\n",
       "      <td>Moscow</td>\n",
       "      <td>20:47:49</td>\n",
       "      <td>Wednesday</td>\n",
       "    </tr>\n",
       "    <tr>\n",
       "      <th>8</th>\n",
       "      <td>8</td>\n",
       "      <td>8FA1D3BE</td>\n",
       "      <td>И вновь продолжается бой</td>\n",
       "      <td>NaN</td>\n",
       "      <td>ruspop</td>\n",
       "      <td>Moscow</td>\n",
       "      <td>09:17:40</td>\n",
       "      <td>Friday</td>\n",
       "    </tr>\n",
       "    <tr>\n",
       "      <th>9</th>\n",
       "      <td>9</td>\n",
       "      <td>E772D5C0</td>\n",
       "      <td>Pessimist</td>\n",
       "      <td>NaN</td>\n",
       "      <td>dance</td>\n",
       "      <td>Saint-Petersburg</td>\n",
       "      <td>21:20:49</td>\n",
       "      <td>Wednesday</td>\n",
       "    </tr>\n",
       "  </tbody>\n",
       "</table>\n",
       "</div>"
      ],
      "text/plain": [
       "   Unnamed: 0    userID                        Track            artist  \\\n",
       "0           0  FFB692EC            Kamigata To Boots  The Mass Missile   \n",
       "1           1  55204538  Delayed Because of Accident  Andreas Rönnberg   \n",
       "2           2    20EC38            Funiculì funiculà       Mario Lanza   \n",
       "3           3  A3DD03C9        Dragons in the Sunset        Fire + Ice   \n",
       "4           4  E2DC1FAE                  Soul People        Space Echo   \n",
       "5           5  842029A1                    Преданная         IMPERVTOR   \n",
       "6           6  4CB90AA5                         True      Roman Messer   \n",
       "7           7  F03E1C1F             Feeling This Way   Polina Griffith   \n",
       "8           8  8FA1D3BE     И вновь продолжается бой               NaN   \n",
       "9           9  E772D5C0                    Pessimist               NaN   \n",
       "\n",
       "    genre            City        time        Day  \n",
       "0    rock  Saint-Petersburg  20:28:33  Wednesday  \n",
       "1    rock            Moscow  14:07:09     Friday  \n",
       "2     pop  Saint-Petersburg  20:58:07  Wednesday  \n",
       "3    folk  Saint-Petersburg  08:37:09     Monday  \n",
       "4   dance            Moscow  08:34:34     Monday  \n",
       "5  rusrap  Saint-Petersburg  13:09:41     Friday  \n",
       "6   dance            Moscow  13:00:07  Wednesday  \n",
       "7   dance            Moscow  20:47:49  Wednesday  \n",
       "8  ruspop            Moscow  09:17:40     Friday  \n",
       "9   dance  Saint-Petersburg  21:20:49  Wednesday  "
      ]
     },
     "execution_count": 5,
     "metadata": {},
     "output_type": "execute_result"
    }
   ],
   "source": [
    "# получение первых 10 строк таблицы df\n",
    "df.head(10)"
   ]
  },
  {
   "cell_type": "markdown",
   "metadata": {
    "id": "EO73Kwic_Zct"
   },
   "source": [
    "Одной командой получить общую информацию о таблице:"
   ]
  },
  {
   "cell_type": "code",
   "execution_count": 6,
   "metadata": {
    "id": "DSf2kIb-_Zct"
   },
   "outputs": [
    {
     "name": "stdout",
     "output_type": "stream",
     "text": [
      "<class 'pandas.core.frame.DataFrame'>\n",
      "RangeIndex: 65079 entries, 0 to 65078\n",
      "Data columns (total 8 columns):\n",
      " #   Column      Non-Null Count  Dtype \n",
      "---  ------      --------------  ----- \n",
      " 0   Unnamed: 0  65079 non-null  int64 \n",
      " 1     userID    65079 non-null  object\n",
      " 2   Track       63848 non-null  object\n",
      " 3   artist      57876 non-null  object\n",
      " 4   genre       63881 non-null  object\n",
      " 5     City      65079 non-null  object\n",
      " 6   time        65079 non-null  object\n",
      " 7   Day         65079 non-null  object\n",
      "dtypes: int64(1), object(7)\n",
      "memory usage: 4.0+ MB\n"
     ]
    }
   ],
   "source": [
    "# получение общей информации о данных в таблице df\n",
    "df.info()"
   ]
  },
  {
   "cell_type": "markdown",
   "metadata": {
    "id": "TaQ2Iwbr_Zct"
   },
   "source": [
    "Итак, в таблице семь столбцов. Тип данных во всех столбцах — `object`.\n",
    "\n",
    "Согласно документации к данным:\n",
    "* `userID` — идентификатор пользователя;\n",
    "* `Track` — название трека;  \n",
    "* `artist` — имя исполнителя;\n",
    "* `genre` — название жанра;\n",
    "* `City` — город пользователя;\n",
    "* `time` — время начала прослушивания;\n",
    "* `Day` — день недели.\n",
    "\n",
    "В названиях колонок видны три нарушения стиля:\n",
    "1. Строчные буквы сочетаются с прописными.\n",
    "2. Встречаются пробелы.\n",
    "3. Не используется принцип \"змеины регистр\", названия столбцов не информативны.(Найдите ещё одну проблему в названии колонок и опишите её в этом пункте.)\n",
    "\n",
    "\n",
    "\n",
    "Количество значений в столбцах различается. Значит, в данных есть пропущенные значения.\n"
   ]
  },
  {
   "cell_type": "markdown",
   "metadata": {
    "id": "MCB6-dXG_Zct"
   },
   "source": [
    "**Выводы**\n",
    "\n",
    "В каждой строке таблицы — данные о прослушанном треке. Часть колонок описывает саму композицию: название, исполнителя и жанр. Остальные данные рассказывают о пользователе: из какого он города, когда он слушал музыку. \n",
    "\n",
    "Предварительно можно утверждать, что, данных достаточно для проверки гипотез. Но встречаются пропуски в данных, а в названиях колонок — расхождения с хорошим стилем.\n",
    "\n",
    "Чтобы двигаться дальше, нужно устранить проблемы в данных."
   ]
  },
  {
   "cell_type": "markdown",
   "metadata": {
    "id": "SjYF6Ub9_Zct"
   },
   "source": [
    "## Предобработка данных\n",
    "Исправьте стиль в заголовках столбцов, исключите пропуски. Затем проверьте данные на дубликаты."
   ]
  },
  {
   "cell_type": "markdown",
   "metadata": {
    "id": "dIaKXr29_Zct"
   },
   "source": [
    "### Стиль заголовков\n",
    "Выведите на экран названия столбцов:"
   ]
  },
  {
   "cell_type": "code",
   "execution_count": 7,
   "metadata": {
    "id": "oKOTdF_Q_Zct"
   },
   "outputs": [
    {
     "data": {
      "text/plain": [
       "Index(['Unnamed: 0', '  userID', 'Track', 'artist', 'genre', '  City  ',\n",
       "       'time', 'Day'],\n",
       "      dtype='object')"
      ]
     },
     "execution_count": 7,
     "metadata": {},
     "output_type": "execute_result"
    }
   ],
   "source": [
    "# перечень названий столбцов таблицы df\n",
    "df.columns"
   ]
  },
  {
   "cell_type": "markdown",
   "metadata": {
    "id": "zj5534cv_Zct"
   },
   "source": [
    "Приведите названия в соответствие с хорошим стилем:\n",
    "* несколько слов в названии запишите в «змеином_регистре»,\n",
    "* все символы сделайте строчными,\n",
    "* устраните пробелы.\n",
    "\n",
    "Для этого переименуйте колонки так:\n",
    "* `'  userID'` → `'user_id'`;\n",
    "* `'Track'` → `'track'`;\n",
    "* `'  City  '` → `'city'`;\n",
    "* `'Day'` → `'day'`."
   ]
  },
  {
   "cell_type": "code",
   "execution_count": 8,
   "metadata": {
    "id": "ISlFqs5y_Zct"
   },
   "outputs": [],
   "source": [
    "# переименование столбцов\n",
    "df = df.rename(columns={'  userID':'user_id', 'Track':'track', '  City  ':'city', 'Day':'day'})"
   ]
  },
  {
   "cell_type": "markdown",
   "metadata": {
    "id": "1dqbh00J_Zct"
   },
   "source": [
    "Проверьте результат. Для этого ещё раз выведите на экран названия столбцов:"
   ]
  },
  {
   "cell_type": "code",
   "execution_count": 9,
   "metadata": {
    "id": "d4NOAmTW_Zct"
   },
   "outputs": [
    {
     "data": {
      "text/plain": [
       "Index(['Unnamed: 0', 'user_id', 'track', 'artist', 'genre', 'city', 'time',\n",
       "       'day'],\n",
       "      dtype='object')"
      ]
     },
     "execution_count": 9,
     "metadata": {},
     "output_type": "execute_result"
    }
   ],
   "source": [
    "# проверка результатов - перечень названий столбцов\n",
    "df.columns"
   ]
  },
  {
   "cell_type": "markdown",
   "metadata": {
    "id": "5ISfbcfY_Zct"
   },
   "source": [
    "### Пропуски значений\n",
    "Сначала посчитайте, сколько в таблице пропущенных значений. Для этого достаточно двух методов `pandas`:"
   ]
  },
  {
   "cell_type": "code",
   "execution_count": 10,
   "metadata": {
    "id": "RskX29qr_Zct"
   },
   "outputs": [
    {
     "data": {
      "text/plain": [
       "Unnamed: 0       0\n",
       "user_id          0\n",
       "track         1231\n",
       "artist        7203\n",
       "genre         1198\n",
       "city             0\n",
       "time             0\n",
       "day              0\n",
       "dtype: int64"
      ]
     },
     "execution_count": 10,
     "metadata": {},
     "output_type": "execute_result"
    }
   ],
   "source": [
    "# подсчёт пропусков\n",
    "df.isna().sum()"
   ]
  },
  {
   "cell_type": "markdown",
   "metadata": {
    "id": "qubhgnlO_Zct"
   },
   "source": [
    "Не все пропущенные значения влияют на исследование. Так в `track` и `artist` пропуски не важны для вашей работы. Достаточно заменить их явными обозначениями.\n",
    "\n",
    "Но пропуски в `genre` могут помешать сравнению музыкальных вкусов в Москве и Санкт-Петербурге. На практике было бы правильно установить причину пропусков и восстановить данные. Такой возможности нет в учебном проекте. Придётся:\n",
    "* заполнить и эти пропуски явными обозначениями,\n",
    "* оценить, насколько они повредят расчётам. "
   ]
  },
  {
   "cell_type": "markdown",
   "metadata": {
    "id": "fSv2laPA_Zct"
   },
   "source": [
    "Замените пропущенные значения в столбцах `track`, `artist` и `genre` на строку `'unknown'`. Для этого создайте список `columns_to_replace`, переберите его элементы циклом `for` и для каждого столбца выполните замену пропущенных значений:"
   ]
  },
  {
   "cell_type": "code",
   "execution_count": 11,
   "metadata": {
    "id": "KplB5qWs_Zct"
   },
   "outputs": [],
   "source": [
    "# перебор названий столбцов в цикле и замена пропущенных значений на 'unknown'\n",
    "columns_to_replace = ['track', 'artist', 'genre']\n",
    "for colum_name in columns_to_replace:\n",
    "    df[colum_name] = df[colum_name].fillna('unknown')"
   ]
  },
  {
   "cell_type": "markdown",
   "metadata": {
    "id": "Ilsm-MZo_Zct"
   },
   "source": [
    "Убедитесь, что в таблице не осталось пропусков. Для этого ещё раз посчитайте пропущенные значения."
   ]
  },
  {
   "cell_type": "code",
   "execution_count": 12,
   "metadata": {
    "id": "Tq4nYRX4_Zct"
   },
   "outputs": [
    {
     "data": {
      "text/plain": [
       "Unnamed: 0    0\n",
       "user_id       0\n",
       "track         0\n",
       "artist        0\n",
       "genre         0\n",
       "city          0\n",
       "time          0\n",
       "day           0\n",
       "dtype: int64"
      ]
     },
     "execution_count": 12,
     "metadata": {},
     "output_type": "execute_result"
    }
   ],
   "source": [
    "# подсчёт пропусков\n",
    "df.isna().sum()"
   ]
  },
  {
   "cell_type": "markdown",
   "metadata": {
    "id": "BWKRtBJ3_Zct"
   },
   "source": [
    "### Дубликаты\n",
    "Посчитайте явные дубликаты в таблице одной командой:"
   ]
  },
  {
   "cell_type": "code",
   "execution_count": 13,
   "metadata": {
    "id": "36eES_S0_Zct"
   },
   "outputs": [
    {
     "data": {
      "text/plain": [
       "0"
      ]
     },
     "execution_count": 13,
     "metadata": {},
     "output_type": "execute_result"
    }
   ],
   "source": [
    "# подсчёт явных дубликатов\n",
    "df.duplicated().sum()"
   ]
  },
  {
   "cell_type": "markdown",
   "metadata": {
    "id": "Ot25h6XR_Zct"
   },
   "source": [
    "Вызовите специальный метод `pandas`, чтобы удалить явные дубликаты:"
   ]
  },
  {
   "cell_type": "code",
   "execution_count": 14,
   "metadata": {
    "id": "exFHq6tt_Zct"
   },
   "outputs": [],
   "source": [
    "# удаление явных дубликатов (с удалением старых индексов и формированием новых)\n",
    "df = df.drop_duplicates().reset_index(drop = True)"
   ]
  },
  {
   "cell_type": "markdown",
   "metadata": {
    "id": "Im2YwBEG_Zct"
   },
   "source": [
    "Ещё раз посчитайте явные дубликаты в таблице — убедитесь, что полностью от них избавились:"
   ]
  },
  {
   "cell_type": "code",
   "execution_count": 15,
   "metadata": {
    "id": "-8PuNWQ0_Zct"
   },
   "outputs": [
    {
     "data": {
      "text/plain": [
       "0"
      ]
     },
     "execution_count": 15,
     "metadata": {},
     "output_type": "execute_result"
    }
   ],
   "source": [
    "# проверка на отсутствие дубликатов\n",
    "df.duplicated().sum()"
   ]
  },
  {
   "cell_type": "markdown",
   "metadata": {
    "id": "QlFBsxAr_Zct"
   },
   "source": [
    "Теперь избавьтесь от неявных дубликатов в колонке `genre`. Например, название одного и того же жанра может быть записано немного по-разному. Такие ошибки тоже повлияют на результат исследования."
   ]
  },
  {
   "cell_type": "markdown",
   "metadata": {
    "id": "eSjWwsOh_Zct"
   },
   "source": [
    "Выведите на экран список уникальных названий жанров, отсортированный в алфавитном порядке. Для этого:\n",
    "* извлеките нужный столбец датафрейма, \n",
    "* примените к нему метод сортировки,\n",
    "* для отсортированного столбца вызовите метод, который вернёт уникальные значения из столбца."
   ]
  },
  {
   "cell_type": "code",
   "execution_count": 16,
   "metadata": {
    "id": "JIUcqzZN_Zct"
   },
   "outputs": [
    {
     "data": {
      "text/plain": [
       "array(['acid', 'acoustic', 'action', 'adult', 'africa', 'afrikaans',\n",
       "       'alternative', 'alternativepunk', 'ambient', 'americana',\n",
       "       'animated', 'anime', 'arabesk', 'arabic', 'arena',\n",
       "       'argentinetango', 'art', 'audiobook', 'author', 'avantgarde',\n",
       "       'axé', 'baile', 'balkan', 'beats', 'bigroom', 'black', 'bluegrass',\n",
       "       'blues', 'bollywood', 'bossa', 'brazilian', 'breakbeat', 'breaks',\n",
       "       'broadway', 'cantautori', 'cantopop', 'canzone', 'caribbean',\n",
       "       'caucasian', 'celtic', 'chamber', 'chanson', 'children', 'chill',\n",
       "       'chinese', 'choral', 'christian', 'christmas', 'classical',\n",
       "       'classicmetal', 'club', 'colombian', 'comedy', 'conjazz',\n",
       "       'contemporary', 'country', 'cuban', 'dance', 'dancehall',\n",
       "       'dancepop', 'dark', 'death', 'deep', 'deutschrock', 'deutschspr',\n",
       "       'dirty', 'disco', 'dnb', 'documentary', 'downbeat', 'downtempo',\n",
       "       'drum', 'dub', 'dubstep', 'eastern', 'easy', 'electronic',\n",
       "       'electropop', 'emo', 'entehno', 'epicmetal', 'estrada', 'ethnic',\n",
       "       'eurofolk', 'european', 'experimental', 'extrememetal', 'fado',\n",
       "       'fairytail', 'film', 'fitness', 'flamenco', 'folk', 'folklore',\n",
       "       'folkmetal', 'folkrock', 'folktronica', 'forró', 'frankreich',\n",
       "       'französisch', 'french', 'funk', 'future', 'gangsta', 'garage',\n",
       "       'german', 'ghazal', 'gitarre', 'glitch', 'gospel', 'gothic',\n",
       "       'grime', 'grunge', 'gypsy', 'handsup', \"hard'n'heavy\", 'hardcore',\n",
       "       'hardstyle', 'hardtechno', 'hip', 'hip-hop', 'hiphop',\n",
       "       'historisch', 'holiday', 'hop', 'horror', 'house', 'hymn', 'idm',\n",
       "       'independent', 'indian', 'indie', 'indipop', 'industrial',\n",
       "       'inspirational', 'instrumental', 'international', 'irish', 'jam',\n",
       "       'japanese', 'jazz', 'jewish', 'jpop', 'jungle', 'k-pop',\n",
       "       'karadeniz', 'karaoke', 'kayokyoku', 'korean', 'laiko', 'latin',\n",
       "       'latino', 'leftfield', 'local', 'lounge', 'loungeelectronic',\n",
       "       'lovers', 'malaysian', 'mandopop', 'marschmusik', 'meditative',\n",
       "       'mediterranean', 'melodic', 'metal', 'metalcore', 'mexican',\n",
       "       'middle', 'minimal', 'miscellaneous', 'modern', 'mood', 'mpb',\n",
       "       'muslim', 'native', 'neoklassik', 'neue', 'new', 'newage',\n",
       "       'newwave', 'nu', 'nujazz', 'numetal', 'oceania', 'old', 'opera',\n",
       "       'orchestral', 'other', 'piano', 'podcasts', 'pop', 'popdance',\n",
       "       'popelectronic', 'popeurodance', 'poprussian', 'post',\n",
       "       'posthardcore', 'postrock', 'power', 'progmetal', 'progressive',\n",
       "       'psychedelic', 'punjabi', 'punk', 'quebecois', 'ragga', 'ram',\n",
       "       'rancheras', 'rap', 'rave', 'reggae', 'reggaeton', 'regional',\n",
       "       'relax', 'religious', 'retro', 'rhythm', 'rnb', 'rnr', 'rock',\n",
       "       'rockabilly', 'rockalternative', 'rockindie', 'rockother',\n",
       "       'romance', 'roots', 'ruspop', 'rusrap', 'rusrock', 'russian',\n",
       "       'salsa', 'samba', 'scenic', 'schlager', 'self', 'sertanejo',\n",
       "       'shanson', 'shoegazing', 'showtunes', 'singer', 'ska', 'skarock',\n",
       "       'slow', 'smooth', 'soft', 'soul', 'soulful', 'sound', 'soundtrack',\n",
       "       'southern', 'specialty', 'speech', 'spiritual', 'sport',\n",
       "       'stonerrock', 'surf', 'swing', 'synthpop', 'synthrock',\n",
       "       'sängerportrait', 'tango', 'tanzorchester', 'taraftar', 'tatar',\n",
       "       'tech', 'techno', 'teen', 'thrash', 'top', 'traditional',\n",
       "       'tradjazz', 'trance', 'tribal', 'trip', 'triphop', 'tropical',\n",
       "       'türk', 'türkçe', 'ukrrock', 'unknown', 'urban', 'uzbek',\n",
       "       'variété', 'vi', 'videogame', 'vocal', 'western', 'world',\n",
       "       'worldbeat', 'ïîï', 'электроника'], dtype=object)"
      ]
     },
     "metadata": {},
     "output_type": "display_data"
    }
   ],
   "source": [
    "# Просмотр уникальных названий жанров\n",
    "unic_genres = df['genre'].sort_values().unique()\n",
    "display(unic_genres)"
   ]
  },
  {
   "cell_type": "markdown",
   "metadata": {
    "id": "qej-Qmuo_Zct"
   },
   "source": [
    "Просмотрите список и найдите неявные дубликаты названия `hiphop`. Это могут быть названия с ошибками или альтернативные названия того же жанра.\n",
    "\n",
    "Вы увидите следующие неявные дубликаты:\n",
    "* *hip*,\n",
    "* *hop*,\n",
    "* *hip-hop*.\n",
    "\n",
    "Чтобы очистить от них таблицу, напишите функцию `replace_wrong_genres()` с двумя параметрами: \n",
    "* `wrong_genres` — список дубликатов,\n",
    "* `correct_genre` — строка с правильным значением.\n",
    "\n",
    "Функция должна исправить колонку `genre` в таблице `df`: заменить каждое значение из списка `wrong_genres` на значение из `correct_genre`."
   ]
  },
  {
   "cell_type": "code",
   "execution_count": 17,
   "metadata": {
    "id": "ErNDkmns_Zct"
   },
   "outputs": [],
   "source": [
    "# Функция для замены неявных дубликатов\n",
    "def replace_wrong_genres(wrong_genres, correct_genre): # на вход функции подаются список неправильных значений и строка с правильным значением\n",
    "    for wrong_genre in wrong_genres: # перебираем неправильные имена\n",
    "        df['genre'] = df['genre'].replace(wrong_genre, correct_genre)"
   ]
  },
  {
   "cell_type": "markdown",
   "metadata": {
    "id": "aDoBJxbA_Zct"
   },
   "source": [
    "Вызовите `replace_wrong_genres()` и передайте ей такие аргументы, чтобы она устранила неявные дубликаты: вместо `hip`, `hop` и `hip-hop` в таблице должно быть значение `hiphop`:"
   ]
  },
  {
   "cell_type": "code",
   "execution_count": 18,
   "metadata": {
    "id": "YN5i2hpmSo09"
   },
   "outputs": [],
   "source": [
    "# Устранение неявных дубликатов\n",
    "replace_wrong_genres(['hip', 'hop', 'hip-hop'], 'hiphop')\n",
    "replace_wrong_genres(['электроника'], 'electronic')"
   ]
  },
  {
   "cell_type": "markdown",
   "metadata": {
    "id": "zQKF16_RG15m"
   },
   "source": [
    "Проверьте, что заменили неправильные названия:\n",
    "\n",
    "*   hip\n",
    "*   hop\n",
    "*   hip-hop\n",
    "\n",
    "Выведите отсортированный список уникальных значений столбца `genre`:"
   ]
  },
  {
   "cell_type": "code",
   "execution_count": 19,
   "metadata": {
    "id": "wvixALnFG15m"
   },
   "outputs": [
    {
     "data": {
      "text/plain": [
       "array(['acid', 'acoustic', 'action', 'adult', 'africa', 'afrikaans',\n",
       "       'alternative', 'alternativepunk', 'ambient', 'americana',\n",
       "       'animated', 'anime', 'arabesk', 'arabic', 'arena',\n",
       "       'argentinetango', 'art', 'audiobook', 'author', 'avantgarde',\n",
       "       'axé', 'baile', 'balkan', 'beats', 'bigroom', 'black', 'bluegrass',\n",
       "       'blues', 'bollywood', 'bossa', 'brazilian', 'breakbeat', 'breaks',\n",
       "       'broadway', 'cantautori', 'cantopop', 'canzone', 'caribbean',\n",
       "       'caucasian', 'celtic', 'chamber', 'chanson', 'children', 'chill',\n",
       "       'chinese', 'choral', 'christian', 'christmas', 'classical',\n",
       "       'classicmetal', 'club', 'colombian', 'comedy', 'conjazz',\n",
       "       'contemporary', 'country', 'cuban', 'dance', 'dancehall',\n",
       "       'dancepop', 'dark', 'death', 'deep', 'deutschrock', 'deutschspr',\n",
       "       'dirty', 'disco', 'dnb', 'documentary', 'downbeat', 'downtempo',\n",
       "       'drum', 'dub', 'dubstep', 'eastern', 'easy', 'electronic',\n",
       "       'electropop', 'emo', 'entehno', 'epicmetal', 'estrada', 'ethnic',\n",
       "       'eurofolk', 'european', 'experimental', 'extrememetal', 'fado',\n",
       "       'fairytail', 'film', 'fitness', 'flamenco', 'folk', 'folklore',\n",
       "       'folkmetal', 'folkrock', 'folktronica', 'forró', 'frankreich',\n",
       "       'französisch', 'french', 'funk', 'future', 'gangsta', 'garage',\n",
       "       'german', 'ghazal', 'gitarre', 'glitch', 'gospel', 'gothic',\n",
       "       'grime', 'grunge', 'gypsy', 'handsup', \"hard'n'heavy\", 'hardcore',\n",
       "       'hardstyle', 'hardtechno', 'hiphop', 'historisch', 'holiday',\n",
       "       'horror', 'house', 'hymn', 'idm', 'independent', 'indian', 'indie',\n",
       "       'indipop', 'industrial', 'inspirational', 'instrumental',\n",
       "       'international', 'irish', 'jam', 'japanese', 'jazz', 'jewish',\n",
       "       'jpop', 'jungle', 'k-pop', 'karadeniz', 'karaoke', 'kayokyoku',\n",
       "       'korean', 'laiko', 'latin', 'latino', 'leftfield', 'local',\n",
       "       'lounge', 'loungeelectronic', 'lovers', 'malaysian', 'mandopop',\n",
       "       'marschmusik', 'meditative', 'mediterranean', 'melodic', 'metal',\n",
       "       'metalcore', 'mexican', 'middle', 'minimal', 'miscellaneous',\n",
       "       'modern', 'mood', 'mpb', 'muslim', 'native', 'neoklassik', 'neue',\n",
       "       'new', 'newage', 'newwave', 'nu', 'nujazz', 'numetal', 'oceania',\n",
       "       'old', 'opera', 'orchestral', 'other', 'piano', 'podcasts', 'pop',\n",
       "       'popdance', 'popelectronic', 'popeurodance', 'poprussian', 'post',\n",
       "       'posthardcore', 'postrock', 'power', 'progmetal', 'progressive',\n",
       "       'psychedelic', 'punjabi', 'punk', 'quebecois', 'ragga', 'ram',\n",
       "       'rancheras', 'rap', 'rave', 'reggae', 'reggaeton', 'regional',\n",
       "       'relax', 'religious', 'retro', 'rhythm', 'rnb', 'rnr', 'rock',\n",
       "       'rockabilly', 'rockalternative', 'rockindie', 'rockother',\n",
       "       'romance', 'roots', 'ruspop', 'rusrap', 'rusrock', 'russian',\n",
       "       'salsa', 'samba', 'scenic', 'schlager', 'self', 'sertanejo',\n",
       "       'shanson', 'shoegazing', 'showtunes', 'singer', 'ska', 'skarock',\n",
       "       'slow', 'smooth', 'soft', 'soul', 'soulful', 'sound', 'soundtrack',\n",
       "       'southern', 'specialty', 'speech', 'spiritual', 'sport',\n",
       "       'stonerrock', 'surf', 'swing', 'synthpop', 'synthrock',\n",
       "       'sängerportrait', 'tango', 'tanzorchester', 'taraftar', 'tatar',\n",
       "       'tech', 'techno', 'teen', 'thrash', 'top', 'traditional',\n",
       "       'tradjazz', 'trance', 'tribal', 'trip', 'triphop', 'tropical',\n",
       "       'türk', 'türkçe', 'ukrrock', 'unknown', 'urban', 'uzbek',\n",
       "       'variété', 'vi', 'videogame', 'vocal', 'western', 'world',\n",
       "       'worldbeat', 'ïîï'], dtype=object)"
      ]
     },
     "metadata": {},
     "output_type": "display_data"
    }
   ],
   "source": [
    "# Проверка на неявные дубликаты\n",
    "display(df['genre'].sort_values().unique())"
   ]
  },
  {
   "cell_type": "markdown",
   "metadata": {
    "id": "jz6a9-7HQUDd"
   },
   "source": [
    "**Выводы**\n",
    "\n",
    "Предобработка обнаружила три проблемы в данных:\n",
    "\n",
    "- нарушения в стиле заголовков,\n",
    "- пропущенные значения,\n",
    "- дубликаты — явные и неявные.\n",
    "\n",
    "Вы исправили заголовки, чтобы упростить работу с таблицей. Без дубликатов исследование станет более точным.\n",
    "\n",
    "Пропущенные значения вы заменили на `'unknown'`. Ещё предстоит увидеть, не повредят ли исследованию пропуски в колонке `genre`.\n",
    "\n",
    "Теперь можно перейти к проверке гипотез. "
   ]
  },
  {
   "cell_type": "markdown",
   "metadata": {
    "id": "WttZHXH0SqKk"
   },
   "source": [
    "## Проверка гипотез"
   ]
  },
  {
   "cell_type": "markdown",
   "metadata": {
    "id": "Im936VVi_Zcu"
   },
   "source": [
    "### Сравнение поведения пользователей двух столиц"
   ]
  },
  {
   "cell_type": "markdown",
   "metadata": {
    "id": "nwt_MuaL_Zcu"
   },
   "source": [
    "Первая гипотеза утверждает, что пользователи по-разному слушают музыку в Москве и Санкт-Петербурге. Проверьте это предположение по данным о трёх днях недели — понедельнике, среде и пятнице. Для этого:\n",
    "\n",
    "* Разделите пользователей Москвы и Санкт-Петербурга\n",
    "* Сравните, сколько треков послушала каждая группа пользователей в понедельник, среду и пятницу.\n"
   ]
  },
  {
   "cell_type": "markdown",
   "metadata": {
    "id": "8Dw_YMmT_Zcu"
   },
   "source": [
    "Для тренировки сначала выполните каждый из расчётов по отдельности. \n",
    "\n",
    "Оцените активность пользователей в каждом городе. Сгруппируйте данные по городу и посчитайте прослушивания в каждой группе.\n",
    "\n"
   ]
  },
  {
   "cell_type": "code",
   "execution_count": 20,
   "metadata": {
    "id": "0_Qs96oh_Zcu"
   },
   "outputs": [
    {
     "name": "stdout",
     "output_type": "stream",
     "text": [
      "Колличество прослушиваний в Москве: 45360\n",
      "Колличество прослушиваний в Питере: 19719\n"
     ]
    }
   ],
   "source": [
    "# Подсчёт прослушиваний в каждом городе\n",
    "count_moscow = df[df['city'] == 'Moscow']['genre'].count()\n",
    "count_peter = df[df['city'] == 'Saint-Petersburg']['genre'].count()\n",
    "print ('Колличество прослушиваний в Москве:', count_moscow)\n",
    "print ('Колличество прослушиваний в Питере:', count_peter)"
   ]
  },
  {
   "cell_type": "markdown",
   "metadata": {
    "id": "dzli3w8o_Zcu"
   },
   "source": [
    "В Москве прослушиваний больше, чем в Петербурге. Из этого не следует, что московские пользователи чаще слушают музыку. Просто самих пользователей в Москве больше.\n",
    "\n",
    "Теперь сгруппируйте данные по дню недели и подсчитайте прослушивания в понедельник, среду и пятницу. Учтите, что в данных есть информация только о прослушиваниях только за эти дни.\n"
   ]
  },
  {
   "cell_type": "code",
   "execution_count": 21,
   "metadata": {
    "id": "uZMKjiJz_Zcu"
   },
   "outputs": [
    {
     "name": "stdout",
     "output_type": "stream",
     "text": [
      "Колличество прослушиваний в понедельник: 22697\n",
      "Колличество прослушиваний в среду: 19233\n",
      "Колличество прослушиваний в пятницу: 23149\n"
     ]
    }
   ],
   "source": [
    "# Подсчёт прослушиваний в каждый из трёх дней\n",
    "count_monday = df[df['day'] == 'Monday']['genre'].count()\n",
    "count_wednesday = df[df['day'] == 'Wednesday']['genre'].count()\n",
    "count_friday = df[df['day'] == 'Friday']['genre'].count()\n",
    "print ('Колличество прослушиваний в понедельник:', count_monday)\n",
    "print ('Колличество прослушиваний в среду:', count_wednesday)\n",
    "print ('Колличество прослушиваний в пятницу:', count_friday)"
   ]
  },
  {
   "cell_type": "markdown",
   "metadata": {
    "id": "cC2tNrlL_Zcu"
   },
   "source": [
    "В среднем пользователи из двух городов менее активны по средам. Но картина может измениться, если рассмотреть каждый город в отдельности."
   ]
  },
  {
   "cell_type": "markdown",
   "metadata": {
    "id": "POzs8bGa_Zcu"
   },
   "source": [
    "Вы видели, как работает группировка по городу и по дням недели. Теперь напишите функцию, которая объединит два эти расчёта.\n",
    "\n",
    "Создайте функцию `number_tracks()`, которая посчитает прослушивания для заданного дня и города. Ей понадобятся два параметра:\n",
    "* день недели,\n",
    "* название города.\n",
    "\n",
    "В функции сохраните в переменную строки исходной таблицы, у которых значение:\n",
    "  * в колонке `day` равно параметру `day`,\n",
    "  * в колонке `city` равно параметру `city`.\n",
    "\n",
    "Для этого примените последовательную фильтрацию с логической индексацией.\n",
    "\n",
    "Затем посчитайте значения в столбце `user_id` получившейся таблицы. Результат сохраните в новую переменную. Верните эту переменную из функции."
   ]
  },
  {
   "cell_type": "code",
   "execution_count": 22,
   "metadata": {
    "id": "Nz3GdQB1_Zcu"
   },
   "outputs": [],
   "source": [
    "# <создание функции number_tracks()>\n",
    "# Объявляется функция с двумя параметрами: day, city.\n",
    "# В переменной track_list сохраняются те строки таблицы df, для которых\n",
    "# значение в столбце 'day' равно параметру day и одновременно значение\n",
    "# в столбце 'city' равно параметру city (используйте последовательную фильтрацию\n",
    "# с помощью логической индексации).\n",
    "# В переменной track_list_count сохраняется число значений столбца 'user_id',\n",
    "# рассчитанное методом count() для таблицы track_list.\n",
    "# Функция возвращает число - значение track_list_count.\n",
    "\n",
    "# Функция для подсчёта прослушиваний для конкретного города и дня.\n",
    "# С помощью последовательной фильтрации с логической индексацией она \n",
    "# сначала получит из исходной таблицы строки с нужным днём,\n",
    "# затем из результата отфильтрует строки с нужным городом,\n",
    "# методом count() посчитает количество значений в колонке user_id. \n",
    "# Это количество функция вернёт в качестве результата\n",
    "def number_tracks(day, city):\n",
    "    track_list = df[df['day'] == day]\n",
    "    track_list = track_list[track_list['city'] == city]\n",
    "    track_list_count = track_list['user_id'].count()\n",
    "    return track_list_count"
   ]
  },
  {
   "cell_type": "markdown",
   "metadata": {
    "id": "ytf7xFrFJQ2r"
   },
   "source": [
    "Вызовите `number_tracks()` шесть раз, меняя значение параметров — так, чтобы получить данные для каждого города в каждый из трёх дней."
   ]
  },
  {
   "cell_type": "code",
   "execution_count": 23,
   "metadata": {
    "id": "rJcRATNQ_Zcu"
   },
   "outputs": [
    {
     "name": "stdout",
     "output_type": "stream",
     "text": [
      "16715\n"
     ]
    }
   ],
   "source": [
    "# количество прослушиваний в Москве по понедельникам\n",
    "print(number_tracks('Monday', 'Moscow'))"
   ]
  },
  {
   "cell_type": "code",
   "execution_count": 24,
   "metadata": {
    "id": "hq_ncZ5T_Zcu"
   },
   "outputs": [
    {
     "name": "stdout",
     "output_type": "stream",
     "text": [
      "5982\n"
     ]
    }
   ],
   "source": [
    "# количество прослушиваний в Санкт-Петербурге по понедельникам\n",
    "print(number_tracks('Monday', 'Saint-Petersburg'))"
   ]
  },
  {
   "cell_type": "code",
   "execution_count": 25,
   "metadata": {
    "id": "_NTy2VPU_Zcu"
   },
   "outputs": [
    {
     "name": "stdout",
     "output_type": "stream",
     "text": [
      "11755\n"
     ]
    }
   ],
   "source": [
    "# количество прослушиваний в Москве по средам\n",
    "print(number_tracks('Wednesday', 'Moscow'))"
   ]
  },
  {
   "cell_type": "code",
   "execution_count": 26,
   "metadata": {
    "id": "j2y3TAwo_Zcu"
   },
   "outputs": [
    {
     "name": "stdout",
     "output_type": "stream",
     "text": [
      "7478\n"
     ]
    }
   ],
   "source": [
    "# количество прослушиваний в Санкт-Петербурге по средам\n",
    "print(number_tracks('Wednesday', 'Saint-Petersburg'))"
   ]
  },
  {
   "cell_type": "code",
   "execution_count": 27,
   "metadata": {
    "id": "vYDw5u_K_Zcu"
   },
   "outputs": [
    {
     "name": "stdout",
     "output_type": "stream",
     "text": [
      "16890\n"
     ]
    }
   ],
   "source": [
    "# количество прослушиваний в Москве по пятницам\n",
    "print(number_tracks('Friday', 'Moscow'))"
   ]
  },
  {
   "cell_type": "code",
   "execution_count": 28,
   "metadata": {
    "id": "8_yzFtW3_Zcu"
   },
   "outputs": [
    {
     "name": "stdout",
     "output_type": "stream",
     "text": [
      "6259\n"
     ]
    }
   ],
   "source": [
    "# количество прослушиваний в Санкт-Петербурге по пятницам\n",
    "print(number_tracks('Friday', 'Saint-Petersburg'))"
   ]
  },
  {
   "cell_type": "markdown",
   "metadata": {
    "id": "7QXffbO-_Zcu"
   },
   "source": [
    "Создайте c помощью конструктора `pd.DataFrame` таблицу, где\n",
    "* названия колонок — `['city', 'monday', 'wednesday', 'friday']`;\n",
    "* данные — результаты, которые вы получили с помощью `number_tracks`."
   ]
  },
  {
   "cell_type": "code",
   "execution_count": 29,
   "metadata": {
    "id": "APAcLpOr_Zcu"
   },
   "outputs": [
    {
     "data": {
      "text/html": [
       "<div>\n",
       "<style scoped>\n",
       "    .dataframe tbody tr th:only-of-type {\n",
       "        vertical-align: middle;\n",
       "    }\n",
       "\n",
       "    .dataframe tbody tr th {\n",
       "        vertical-align: top;\n",
       "    }\n",
       "\n",
       "    .dataframe thead th {\n",
       "        text-align: right;\n",
       "    }\n",
       "</style>\n",
       "<table border=\"1\" class=\"dataframe\">\n",
       "  <thead>\n",
       "    <tr style=\"text-align: right;\">\n",
       "      <th></th>\n",
       "      <th>city</th>\n",
       "      <th>monday</th>\n",
       "      <th>wednesday</th>\n",
       "      <th>friday</th>\n",
       "    </tr>\n",
       "  </thead>\n",
       "  <tbody>\n",
       "    <tr>\n",
       "      <th>0</th>\n",
       "      <td>Moscow</td>\n",
       "      <td>15740</td>\n",
       "      <td>11056</td>\n",
       "      <td>15945</td>\n",
       "    </tr>\n",
       "    <tr>\n",
       "      <th>1</th>\n",
       "      <td>Saint-Petersburg</td>\n",
       "      <td>5614</td>\n",
       "      <td>7003</td>\n",
       "      <td>5895</td>\n",
       "    </tr>\n",
       "  </tbody>\n",
       "</table>\n",
       "</div>"
      ],
      "text/plain": [
       "               city  monday  wednesday  friday\n",
       "0            Moscow   15740      11056   15945\n",
       "1  Saint-Petersburg    5614       7003    5895"
      ]
     },
     "metadata": {},
     "output_type": "display_data"
    }
   ],
   "source": [
    "# Таблица с результатами\n",
    "data = [['Moscow', 15740, 11056, 15945],\n",
    "       ['Saint-Petersburg', 5614, 7003, 5895]]\n",
    "columns = ['city', 'monday', 'wednesday', 'friday']\n",
    "\n",
    "research_music_result = pd.DataFrame(data = data, columns = columns)\n",
    "display(research_music_result)"
   ]
  },
  {
   "cell_type": "markdown",
   "metadata": {
    "id": "-EgPIHYu_Zcu"
   },
   "source": [
    "**Выводы**\n",
    "\n",
    "Данные показывают разницу поведения пользователей:\n",
    "\n",
    "- В Москве пик прослушиваний приходится на понедельник и пятницу, а в среду заметен спад.\n",
    "- В Петербурге, наоборот, больше слушают музыку по средам. Активность в понедельник и пятницу здесь почти в равной мере уступает среде.\n",
    "\n",
    "Значит, данные говорят в пользу первой гипотезы."
   ]
  },
  {
   "cell_type": "markdown",
   "metadata": {
    "id": "atZAxtq4_Zcu"
   },
   "source": [
    "### Музыка в начале и в конце недели"
   ]
  },
  {
   "cell_type": "markdown",
   "metadata": {
    "id": "eXrQqXFH_Zcu"
   },
   "source": [
    "Согласно второй гипотезе, утром в понедельник в Москве преобладают одни жанры, а в Петербурге — другие. Так же и вечером пятницы преобладают разные жанры — в зависимости от города."
   ]
  },
  {
   "cell_type": "markdown",
   "metadata": {
    "id": "S8UcW6Hw_Zcu"
   },
   "source": [
    "Сохраните таблицы с данными в две переменные:\n",
    "* по Москве — в `moscow_general`;\n",
    "* по Санкт-Петербургу — в `spb_general`."
   ]
  },
  {
   "cell_type": "code",
   "execution_count": 30,
   "metadata": {
    "id": "qeaFfM_P_Zcu"
   },
   "outputs": [],
   "source": [
    "# получение таблицы moscow_general из тех строк таблицы df, \n",
    "# для которых значение в столбце 'city' равно 'Moscow'\n",
    "moscow_general = df[df['city'] == 'Moscow']"
   ]
  },
  {
   "cell_type": "code",
   "execution_count": 31,
   "metadata": {
    "id": "ORaVRKto_Zcu"
   },
   "outputs": [],
   "source": [
    "# получение таблицы spb_general из тех строк таблицы df,\n",
    "# для которых значение в столбце 'city' равно 'Saint-Petersburg'\n",
    "spb_general = df[df['city'] == 'Saint-Petersburg']"
   ]
  },
  {
   "cell_type": "markdown",
   "metadata": {
    "id": "MEJV-CX2_Zcu"
   },
   "source": [
    "Создайте функцию `genre_weekday()` с четырьмя параметрами:\n",
    "* таблица (датафрейм) с данными,\n",
    "* день недели,\n",
    "* начальная временная метка в формате 'hh:mm', \n",
    "* последняя временная метка в формате 'hh:mm'.\n",
    "\n",
    "Функция должна вернуть информацию о топ-10 жанров тех треков, которые прослушивали в указанный день, в промежутке между двумя отметками времени."
   ]
  },
  {
   "cell_type": "code",
   "execution_count": 32,
   "metadata": {
    "id": "laJT9BYl_Zcu"
   },
   "outputs": [],
   "source": [
    "# Объявление функции genre_weekday() с параметрами table, day, time1, time2,\n",
    "# которая возвращает информацию о самых популярных жанрах в указанный день в\n",
    "# заданное время:\n",
    "# 1) в переменную genre_df сохраняются те строки переданного датафрейма table, для\n",
    "#    которых одновременно:\n",
    "#    - значение в столбце day равно значению аргумента day\n",
    "#    - значение в столбце time больше значения аргумента time1\n",
    "#    - значение в столбце time меньше значения аргумента time2\n",
    "#    Используйте последовательную фильтрацию с помощью логической индексации.\n",
    "# 2) сгруппировать датафрейм genre_df по столбцу genre, взять один из его\n",
    "#    столбцов и посчитать методом count() количество записей для каждого из\n",
    "#    присутствующих жанров, получившийся Series записать в переменную\n",
    "#    genre_df_count\n",
    "# 3) отсортировать genre_df_count по убыванию встречаемости и сохранить\n",
    "#    в переменную genre_df_sorted\n",
    "# 4) вернуть Series из 10 первых значений genre_df_sorted, это будут топ-10\n",
    "#    популярных жанров (в указанный день, в заданное время)\n",
    "def genre_weekday(table, day, time1, time2):\n",
    "    genre_df = table[table['day'] == day]\n",
    "    genre_df = genre_df[genre_df['time'] > time1]\n",
    "    genre_df = genre_df[genre_df['time'] < time2]\n",
    "    genre_df_count = genre_df.groupby('genre')['user_id'].count()\n",
    "    genre_df_sorted = genre_df_count.sort_values(ascending = False)\n",
    "    return genre_df_sorted.head(10)\n",
    "\n",
    "    "
   ]
  },
  {
   "cell_type": "markdown",
   "metadata": {
    "id": "la2s2_PF_Zcu"
   },
   "source": [
    "Cравните результаты функции `genre_weekday()` для Москвы и Санкт-Петербурга в понедельник утром (с 7:00 до 11:00) и в пятницу вечером (с 17:00 до 23:00):"
   ]
  },
  {
   "cell_type": "code",
   "execution_count": 33,
   "metadata": {
    "id": "yz7itPUQ_Zcu"
   },
   "outputs": [
    {
     "name": "stdout",
     "output_type": "stream",
     "text": [
      "genre\n",
      "pop            830\n",
      "dance          589\n",
      "rock           511\n",
      "electronic     501\n",
      "hiphop         311\n",
      "ruspop         203\n",
      "world          190\n",
      "rusrap         188\n",
      "alternative    175\n",
      "unknown        172\n",
      "Name: user_id, dtype: int64\n"
     ]
    }
   ],
   "source": [
    "# вызов функции для утра понедельника в Москве (вместо df — таблица moscow_general)\n",
    "# объекты, хранящие время, являются строками и сравниваются как строки\n",
    "# пример вызова: genre_weekday(moscow_general, 'Monday', '07:00', '11:00')\n",
    "print(genre_weekday(moscow_general, 'Monday', '07:00', '11:00'))"
   ]
  },
  {
   "cell_type": "code",
   "execution_count": 34,
   "metadata": {
    "id": "kwUcHPdy_Zcu"
   },
   "outputs": [
    {
     "name": "stdout",
     "output_type": "stream",
     "text": [
      "genre\n",
      "pop            238\n",
      "dance          192\n",
      "rock           173\n",
      "electronic     154\n",
      "hiphop          88\n",
      "ruspop          68\n",
      "alternative     65\n",
      "rusrap          56\n",
      "jazz            47\n",
      "classical       42\n",
      "Name: user_id, dtype: int64\n"
     ]
    }
   ],
   "source": [
    "# вызов функции для утра понедельника в Петербурге (вместо df — таблица spb_general)\n",
    "print(genre_weekday(spb_general, 'Monday', '07:00', '11:00'))"
   ]
  },
  {
   "cell_type": "code",
   "execution_count": 35,
   "metadata": {
    "id": "EzXVRE1o_Zcu"
   },
   "outputs": [
    {
     "name": "stdout",
     "output_type": "stream",
     "text": [
      "genre\n",
      "pop            761\n",
      "rock           546\n",
      "dance          521\n",
      "electronic     510\n",
      "hiphop         282\n",
      "world          220\n",
      "ruspop         184\n",
      "alternative    176\n",
      "classical      171\n",
      "rusrap         151\n",
      "Name: user_id, dtype: int64\n"
     ]
    }
   ],
   "source": [
    "# вызов функции для вечера пятницы в Москве\n",
    "print(genre_weekday(moscow_general, 'Friday', '17:00', '23:00'))"
   ]
  },
  {
   "cell_type": "code",
   "execution_count": 36,
   "metadata": {
    "id": "JZaEKu5v_Zcu",
    "scrolled": true
   },
   "outputs": [
    {
     "name": "stdout",
     "output_type": "stream",
     "text": [
      "genre\n",
      "pop            279\n",
      "rock           230\n",
      "electronic     227\n",
      "dance          221\n",
      "hiphop         103\n",
      "alternative     67\n",
      "jazz            66\n",
      "rusrap          66\n",
      "classical       64\n",
      "world           60\n",
      "Name: user_id, dtype: int64\n"
     ]
    }
   ],
   "source": [
    "# вызов функции для вечера пятницы в Петербурге\n",
    "print(genre_weekday(spb_general, 'Friday', '17:00', '23:00'))"
   ]
  },
  {
   "cell_type": "markdown",
   "metadata": {
    "id": "wrCe4MNX_Zcu"
   },
   "source": [
    "**Выводы**\n",
    "\n",
    "Если сравнить топ-10 жанров в понедельник утром, можно сделать такие выводы:\n",
    "\n",
    "1. В Москве и Петербурге слушают похожую музыку. Единственное отличие — в московский рейтинг вошёл жанр “world”, а в петербургский — джаз и классика.   \n",
    "\n",
    "2. В Москве пропущенных значений оказалось так много, что значение `'unknown'` заняло десятое место среди самых популярных жанров. Значит, пропущенные значения занимают существенную долю в данных и угрожают достоверности исследования.\n",
    "\n",
    "Вечер пятницы не меняет эту картину. Некоторые жанры поднимаются немного выше, другие спускаются, но в целом топ-10 остаётся тем же самым.\n",
    "\n",
    "Таким образом, вторая гипотеза подтвердилась лишь частично:\n",
    "* Пользователи слушают похожую музыку в начале недели и в конце.\n",
    "* Разница между Москвой и Петербургом не слишком выражена. В Москве чаще слушают русскую популярную музыку, в Петербурге — джаз. \n",
    "\n",
    "Однако пропуски в данных ставят под сомнение этот результат. В Москве их так много, что рейтинг топ-10 мог бы выглядеть иначе, если бы не утерянные  данные о жанрах."
   ]
  },
  {
   "cell_type": "markdown",
   "metadata": {
    "id": "JolODAqr_Zcu"
   },
   "source": [
    "### Жанровые предпочтения в Москве и Петербурге\n",
    "\n",
    "Гипотеза: Петербург — столица рэпа, музыку этого жанра там слушают чаще, чем в Москве.  А Москва — город контрастов, в котором, тем не менее, преобладает поп-музыка."
   ]
  },
  {
   "cell_type": "markdown",
   "metadata": {
    "id": "DlegSvaT_Zcu"
   },
   "source": [
    "Сгруппируйте таблицу `moscow_general` по жанру и посчитайте прослушивания треков каждого жанра методом `count()`. Затем отсортируйте результат в порядке убывания и сохраните его в таблице `moscow_genres`."
   ]
  },
  {
   "cell_type": "code",
   "execution_count": 37,
   "metadata": {
    "id": "r19lIPke_Zcu"
   },
   "outputs": [],
   "source": [
    "# одной строкой: группировка таблицы moscow_general по столбцу 'genre', \n",
    "# подсчёт числа значений 'genre' в этой группировке методом count(), \n",
    "# сортировка получившегося Series в порядке убывания и сохранение в moscow_genres\n",
    "moscow_genres = moscow_general.groupby('genre')['genre'].count().sort_values(ascending = False)"
   ]
  },
  {
   "cell_type": "markdown",
   "metadata": {
    "id": "6kMuomxTiIr8"
   },
   "source": [
    "Выведите на экран первые десять строк `moscow_genres`:"
   ]
  },
  {
   "cell_type": "code",
   "execution_count": 38,
   "metadata": {
    "id": "WhCSooF8_Zcv"
   },
   "outputs": [
    {
     "data": {
      "text/plain": [
       "genre\n",
       "pop            6253\n",
       "dance          4707\n",
       "rock           4188\n",
       "electronic     4010\n",
       "hiphop         2215\n",
       "classical      1712\n",
       "world          1516\n",
       "alternative    1466\n",
       "ruspop         1453\n",
       "rusrap         1239\n",
       "Name: genre, dtype: int64"
      ]
     },
     "metadata": {},
     "output_type": "display_data"
    }
   ],
   "source": [
    "# просмотр первых 10 строк moscow_genres\n",
    "display(moscow_genres.head(10))"
   ]
  },
  {
   "cell_type": "markdown",
   "metadata": {
    "id": "cnPG2vnN_Zcv"
   },
   "source": [
    "Теперь повторите то же и для Петербурга.\n",
    "\n",
    "Сгруппируйте таблицу `spb_general` по жанру. Посчитайте прослушивания треков каждого жанра. Результат отсортируйте в порядке убывания и сохраните в таблице `spb_genres`:\n"
   ]
  },
  {
   "cell_type": "code",
   "execution_count": 39,
   "metadata": {
    "id": "gluLIpE7_Zcv"
   },
   "outputs": [],
   "source": [
    "# одной строкой: группировка таблицы spb_general по столбцу 'genre', \n",
    "# подсчёт числа значений 'genre' в этой группировке методом count(), \n",
    "# сортировка получившегося Series в порядке убывания и сохранение в spb_genres\n",
    "spb_genres = spb_general.groupby('genre')['genre'].count().sort_values(ascending = False)"
   ]
  },
  {
   "cell_type": "markdown",
   "metadata": {
    "id": "5Doha_ODgyQ8"
   },
   "source": [
    "Выведите на экран первые десять строк `spb_genres`:"
   ]
  },
  {
   "cell_type": "code",
   "execution_count": 40,
   "metadata": {
    "id": "uaGJHjVU_Zcv"
   },
   "outputs": [
    {
     "data": {
      "text/plain": [
       "genre\n",
       "pop            2597\n",
       "dance          2054\n",
       "rock           2004\n",
       "electronic     1843\n",
       "hiphop         1020\n",
       "alternative     700\n",
       "classical       684\n",
       "rusrap          604\n",
       "ruspop          565\n",
       "world           553\n",
       "Name: genre, dtype: int64"
      ]
     },
     "metadata": {},
     "output_type": "display_data"
    }
   ],
   "source": [
    "# просмотр первых 10 строк spb_genres\n",
    "display(spb_genres.head(10))"
   ]
  },
  {
   "cell_type": "markdown",
   "metadata": {
    "id": "RY51YJYu_Zcv"
   },
   "source": [
    "**Выводы**"
   ]
  },
  {
   "cell_type": "markdown",
   "metadata": {
    "id": "nVhnJEm__Zcv"
   },
   "source": [
    "Гипотеза частично подтвердилась:\n",
    "* Поп-музыка — самый популярный жанр в Москве, как и предполагала гипотеза. Более того, в топ-10 жанров встречается близкий жанр — русская популярная музыка.\n",
    "* Вопреки ожиданиям, рэп одинаково популярен в Москве и Петербурге. \n"
   ]
  },
  {
   "cell_type": "markdown",
   "metadata": {
    "id": "ykKQ0N65_Zcv"
   },
   "source": [
    "## Итоги исследования"
   ]
  },
  {
   "cell_type": "markdown",
   "metadata": {
    "id": "tjUwbHb3_Zcv"
   },
   "source": [
    "Вы проверили три гипотезы и установили:\n",
    "\n",
    "1. День недели по-разному влияет на активность пользователей в Москве и Петербурге. \n",
    "\n",
    "Первая гипотеза полностью подтвердилась.\n",
    "\n",
    "2. Музыкальные предпочтения не сильно меняются в течение недели — будь то Москва или Петербург. Небольшие различия заметны в начале недели, по понедельникам:\n",
    "* в Москве слушают музыку жанра “world”,\n",
    "* в Петербурге — джаз и классику.\n",
    "\n",
    "Таким образом, вторая гипотеза подтвердилась лишь отчасти. Этот результат мог оказаться иным, если бы не пропуски в данных.\n",
    "\n",
    "3. Во вкусах пользователей Москвы и Петербурга больше общего чем различий. Вопреки ожиданиям, предпочтения жанров в Петербурге напоминают московские.\n",
    "\n",
    "Третья гипотеза не подтвердилась. Если различия в предпочтениях и существуют, на основной массе пользователей они незаметны.\n",
    "\n",
    "**На практике исследования содержат проверки статистических гипотез.**\n",
    "Из данных одного сервиса не всегда можно сделать вывод о всех жителях города.\n",
    "Проверки статистических гипотез покажут, насколько они достоверны, исходя из имеющихся данных. \n",
    "С методами проверок гипотез вы ещё познакомитесь в следующих темах."
   ]
  },
  {
   "cell_type": "code",
   "execution_count": null,
   "metadata": {},
   "outputs": [],
   "source": []
  }
 ],
 "metadata": {
  "ExecuteTimeLog": [
   {
    "duration": 795,
    "start_time": "2021-11-16T19:03:15.760Z"
   },
   {
    "duration": 173,
    "start_time": "2021-11-16T19:03:21.251Z"
   },
   {
    "duration": 26,
    "start_time": "2021-11-16T19:04:06.430Z"
   },
   {
    "duration": 34,
    "start_time": "2021-11-16T19:05:27.541Z"
   },
   {
    "duration": 6,
    "start_time": "2021-11-16T19:11:30.621Z"
   },
   {
    "duration": 33,
    "start_time": "2021-11-16T19:31:54.712Z"
   },
   {
    "duration": 6,
    "start_time": "2021-11-16T19:32:19.712Z"
   },
   {
    "duration": 35,
    "start_time": "2021-11-16T19:32:49.620Z"
   },
   {
    "duration": 7,
    "start_time": "2021-11-16T19:32:54.505Z"
   },
   {
    "duration": 23,
    "start_time": "2021-11-16T19:33:45.597Z"
   },
   {
    "duration": 5,
    "start_time": "2021-11-16T19:33:47.230Z"
   },
   {
    "duration": 23,
    "start_time": "2021-11-16T19:34:24.839Z"
   },
   {
    "duration": 6,
    "start_time": "2021-11-16T19:34:28.347Z"
   },
   {
    "duration": 16,
    "start_time": "2021-11-16T19:35:41.595Z"
   },
   {
    "duration": 6,
    "start_time": "2021-11-16T19:35:43.006Z"
   },
   {
    "duration": 30,
    "start_time": "2021-11-16T19:37:18.215Z"
   },
   {
    "duration": 23,
    "start_time": "2021-11-16T19:42:14.883Z"
   },
   {
    "duration": 33,
    "start_time": "2021-11-16T19:42:38.831Z"
   },
   {
    "duration": 79,
    "start_time": "2021-11-16T19:43:36.757Z"
   },
   {
    "duration": 78,
    "start_time": "2021-11-16T19:44:41.312Z"
   },
   {
    "duration": 92,
    "start_time": "2021-11-16T19:45:03.597Z"
   },
   {
    "duration": 83,
    "start_time": "2021-11-16T19:45:05.342Z"
   },
   {
    "duration": 85,
    "start_time": "2021-11-16T19:51:57.016Z"
   },
   {
    "duration": 86,
    "start_time": "2021-11-16T19:52:52.954Z"
   },
   {
    "duration": 5,
    "start_time": "2021-11-17T12:41:35.349Z"
   },
   {
    "duration": 356,
    "start_time": "2021-11-17T12:46:07.146Z"
   },
   {
    "duration": 6,
    "start_time": "2021-11-17T12:46:21.323Z"
   },
   {
    "duration": 702,
    "start_time": "2021-11-17T12:46:23.521Z"
   },
   {
    "duration": 743,
    "start_time": "2021-11-17T12:47:05.517Z"
   },
   {
    "duration": 181,
    "start_time": "2021-11-17T12:47:06.263Z"
   },
   {
    "duration": 37,
    "start_time": "2021-11-17T12:47:06.447Z"
   },
   {
    "duration": 53,
    "start_time": "2021-11-17T12:47:06.488Z"
   },
   {
    "duration": 7,
    "start_time": "2021-11-17T12:47:06.545Z"
   },
   {
    "duration": 126,
    "start_time": "2021-11-17T12:47:06.555Z"
   },
   {
    "duration": 13,
    "start_time": "2021-11-17T12:47:06.684Z"
   },
   {
    "duration": 82,
    "start_time": "2021-11-17T12:47:06.707Z"
   },
   {
    "duration": 37,
    "start_time": "2021-11-17T12:47:06.793Z"
   },
   {
    "duration": 48,
    "start_time": "2021-11-17T12:47:06.839Z"
   },
   {
    "duration": 109,
    "start_time": "2021-11-17T12:47:06.889Z"
   },
   {
    "duration": 121,
    "start_time": "2021-11-17T12:47:07.000Z"
   },
   {
    "duration": 87,
    "start_time": "2021-11-17T12:47:07.124Z"
   },
   {
    "duration": 70,
    "start_time": "2021-11-17T12:47:07.213Z"
   },
   {
    "duration": 4,
    "start_time": "2021-11-17T12:47:07.286Z"
   },
   {
    "duration": 14,
    "start_time": "2021-11-17T12:47:12.603Z"
   },
   {
    "duration": 14,
    "start_time": "2021-11-17T12:47:19.785Z"
   },
   {
    "duration": 59,
    "start_time": "2021-11-17T12:47:59.833Z"
   },
   {
    "duration": 521,
    "start_time": "2021-11-17T13:10:43.247Z"
   },
   {
    "duration": 22,
    "start_time": "2021-11-17T13:10:54.445Z"
   },
   {
    "duration": 29,
    "start_time": "2021-11-17T13:10:58.079Z"
   },
   {
    "duration": 31,
    "start_time": "2021-11-17T13:13:38.405Z"
   },
   {
    "duration": 59,
    "start_time": "2021-11-17T14:31:27.784Z"
   },
   {
    "duration": 4,
    "start_time": "2021-11-17T14:40:45.195Z"
   },
   {
    "duration": 338,
    "start_time": "2021-11-17T14:40:46.447Z"
   },
   {
    "duration": 21,
    "start_time": "2021-11-17T14:41:00.941Z"
   },
   {
    "duration": 18,
    "start_time": "2021-11-17T14:41:28.298Z"
   },
   {
    "duration": 18,
    "start_time": "2021-11-17T14:41:55.036Z"
   },
   {
    "duration": 21,
    "start_time": "2021-11-17T14:42:15.185Z"
   },
   {
    "duration": 29,
    "start_time": "2021-11-17T14:42:47.067Z"
   },
   {
    "duration": 19,
    "start_time": "2021-11-17T14:45:49.458Z"
   },
   {
    "duration": 16,
    "start_time": "2021-11-17T14:47:02.510Z"
   },
   {
    "duration": 5,
    "start_time": "2021-11-17T15:02:49.911Z"
   },
   {
    "duration": 341,
    "start_time": "2021-11-17T15:02:51.093Z"
   },
   {
    "duration": 343,
    "start_time": "2021-11-17T15:03:11.534Z"
   },
   {
    "duration": 15,
    "start_time": "2021-11-17T15:03:20.409Z"
   },
   {
    "duration": 12,
    "start_time": "2021-11-17T15:03:20.973Z"
   },
   {
    "duration": 6,
    "start_time": "2021-11-17T15:03:22.187Z"
   },
   {
    "duration": 40,
    "start_time": "2021-11-17T15:03:23.643Z"
   },
   {
    "duration": 54,
    "start_time": "2021-11-17T15:03:50.691Z"
   },
   {
    "duration": 24,
    "start_time": "2021-11-17T15:04:19.342Z"
   },
   {
    "duration": 60,
    "start_time": "2021-11-17T15:06:22.545Z"
   },
   {
    "duration": 24,
    "start_time": "2021-11-17T15:06:25.590Z"
   },
   {
    "duration": 4,
    "start_time": "2021-11-17T15:12:39.403Z"
   },
   {
    "duration": 199,
    "start_time": "2021-11-17T15:12:39.410Z"
   },
   {
    "duration": 18,
    "start_time": "2021-11-17T15:12:39.612Z"
   },
   {
    "duration": 49,
    "start_time": "2021-11-17T15:12:39.633Z"
   },
   {
    "duration": 5,
    "start_time": "2021-11-17T15:12:39.685Z"
   },
   {
    "duration": 30,
    "start_time": "2021-11-17T15:12:39.692Z"
   },
   {
    "duration": 6,
    "start_time": "2021-11-17T15:12:39.724Z"
   },
   {
    "duration": 73,
    "start_time": "2021-11-17T15:12:39.732Z"
   },
   {
    "duration": 24,
    "start_time": "2021-11-17T15:12:39.809Z"
   },
   {
    "duration": 53,
    "start_time": "2021-11-17T15:12:39.836Z"
   },
   {
    "duration": 112,
    "start_time": "2021-11-17T15:12:39.892Z"
   },
   {
    "duration": 105,
    "start_time": "2021-11-17T15:12:40.006Z"
   },
   {
    "duration": 92,
    "start_time": "2021-11-17T15:12:40.113Z"
   },
   {
    "duration": 56,
    "start_time": "2021-11-17T15:12:40.208Z"
   },
   {
    "duration": 4,
    "start_time": "2021-11-17T15:12:40.283Z"
   },
   {
    "duration": 16,
    "start_time": "2021-11-17T15:12:40.289Z"
   },
   {
    "duration": 76,
    "start_time": "2021-11-17T15:12:40.307Z"
   },
   {
    "duration": 34,
    "start_time": "2021-11-17T15:12:40.386Z"
   },
   {
    "duration": 65,
    "start_time": "2021-11-17T15:12:40.422Z"
   },
   {
    "duration": 4,
    "start_time": "2021-11-17T15:12:40.491Z"
   },
   {
    "duration": 35,
    "start_time": "2021-11-17T15:12:40.498Z"
   },
   {
    "duration": 20,
    "start_time": "2021-11-17T15:12:40.535Z"
   },
   {
    "duration": 38,
    "start_time": "2021-11-17T15:12:40.557Z"
   },
   {
    "duration": 17,
    "start_time": "2021-11-17T15:12:40.597Z"
   },
   {
    "duration": 21,
    "start_time": "2021-11-17T15:12:40.616Z"
   },
   {
    "duration": 53,
    "start_time": "2021-11-17T15:12:40.639Z"
   },
   {
    "duration": 12,
    "start_time": "2021-11-17T15:12:40.694Z"
   },
   {
    "duration": 20,
    "start_time": "2021-11-17T15:12:40.709Z"
   },
   {
    "duration": 59,
    "start_time": "2021-11-17T15:12:40.732Z"
   },
   {
    "duration": 5,
    "start_time": "2021-11-17T15:12:40.794Z"
   },
   {
    "duration": 42,
    "start_time": "2021-11-17T15:12:40.801Z"
   },
   {
    "duration": 52,
    "start_time": "2021-11-17T15:12:40.846Z"
   },
   {
    "duration": 39,
    "start_time": "2021-11-17T15:12:40.901Z"
   },
   {
    "duration": 57,
    "start_time": "2021-11-17T15:12:40.943Z"
   },
   {
    "duration": 14,
    "start_time": "2021-11-17T15:32:08.281Z"
   },
   {
    "duration": 15,
    "start_time": "2021-11-17T15:33:02.490Z"
   },
   {
    "duration": 7,
    "start_time": "2021-11-17T15:33:27.914Z"
   },
   {
    "duration": 10,
    "start_time": "2021-11-17T15:34:35.524Z"
   },
   {
    "duration": 6,
    "start_time": "2021-11-17T15:34:36.371Z"
   },
   {
    "duration": 563,
    "start_time": "2021-11-17T21:20:16.274Z"
   },
   {
    "duration": 150,
    "start_time": "2021-11-17T21:20:16.838Z"
   },
   {
    "duration": 24,
    "start_time": "2021-11-17T21:20:16.990Z"
   },
   {
    "duration": 39,
    "start_time": "2021-11-17T21:20:17.016Z"
   },
   {
    "duration": 4,
    "start_time": "2021-11-17T21:20:17.057Z"
   },
   {
    "duration": 49,
    "start_time": "2021-11-17T21:20:17.063Z"
   },
   {
    "duration": 4,
    "start_time": "2021-11-17T21:20:17.114Z"
   },
   {
    "duration": 22,
    "start_time": "2021-11-17T21:20:17.121Z"
   },
   {
    "duration": 16,
    "start_time": "2021-11-17T21:20:17.145Z"
   },
   {
    "duration": 43,
    "start_time": "2021-11-17T21:20:17.162Z"
   },
   {
    "duration": 55,
    "start_time": "2021-11-17T21:20:17.207Z"
   },
   {
    "duration": 81,
    "start_time": "2021-11-17T21:20:17.263Z"
   },
   {
    "duration": 50,
    "start_time": "2021-11-17T21:20:17.346Z"
   },
   {
    "duration": 35,
    "start_time": "2021-11-17T21:20:17.398Z"
   },
   {
    "duration": 2,
    "start_time": "2021-11-17T21:20:17.435Z"
   },
   {
    "duration": 10,
    "start_time": "2021-11-17T21:20:17.439Z"
   },
   {
    "duration": 54,
    "start_time": "2021-11-17T21:20:17.451Z"
   },
   {
    "duration": 21,
    "start_time": "2021-11-17T21:20:17.506Z"
   },
   {
    "duration": 24,
    "start_time": "2021-11-17T21:20:17.528Z"
   },
   {
    "duration": 3,
    "start_time": "2021-11-17T21:20:17.553Z"
   },
   {
    "duration": 39,
    "start_time": "2021-11-17T21:20:17.557Z"
   },
   {
    "duration": 11,
    "start_time": "2021-11-17T21:20:17.598Z"
   },
   {
    "duration": 14,
    "start_time": "2021-11-17T21:20:17.612Z"
   },
   {
    "duration": 13,
    "start_time": "2021-11-17T21:20:17.628Z"
   },
   {
    "duration": 17,
    "start_time": "2021-11-17T21:20:17.643Z"
   },
   {
    "duration": 14,
    "start_time": "2021-11-17T21:20:17.687Z"
   },
   {
    "duration": 7,
    "start_time": "2021-11-17T21:20:17.703Z"
   },
   {
    "duration": 11,
    "start_time": "2021-11-17T21:20:17.712Z"
   },
   {
    "duration": 8,
    "start_time": "2021-11-17T21:20:17.724Z"
   },
   {
    "duration": 4,
    "start_time": "2021-11-17T21:20:17.733Z"
   },
   {
    "duration": 50,
    "start_time": "2021-11-17T21:20:17.738Z"
   },
   {
    "duration": 15,
    "start_time": "2021-11-17T21:20:17.789Z"
   },
   {
    "duration": 25,
    "start_time": "2021-11-17T21:20:17.805Z"
   },
   {
    "duration": 15,
    "start_time": "2021-11-17T21:20:17.832Z"
   },
   {
    "duration": 7,
    "start_time": "2021-11-17T21:20:17.848Z"
   },
   {
    "duration": 33,
    "start_time": "2021-11-17T21:20:17.856Z"
   },
   {
    "duration": 6,
    "start_time": "2021-11-17T21:20:17.890Z"
   },
   {
    "duration": 4,
    "start_time": "2021-11-17T21:20:17.898Z"
   },
   {
    "duration": 320,
    "start_time": "2021-11-18T08:59:23.734Z"
   },
   {
    "duration": 569,
    "start_time": "2021-11-18T08:59:34.181Z"
   },
   {
    "duration": 134,
    "start_time": "2021-11-18T08:59:34.752Z"
   },
   {
    "duration": 16,
    "start_time": "2021-11-18T08:59:34.888Z"
   },
   {
    "duration": 45,
    "start_time": "2021-11-18T09:05:51.236Z"
   },
   {
    "duration": 288,
    "start_time": "2021-11-18T09:06:20.907Z"
   },
   {
    "duration": 45,
    "start_time": "2021-11-18T09:06:23.333Z"
   },
   {
    "duration": 2,
    "start_time": "2021-11-18T09:07:15.219Z"
   },
   {
    "duration": 139,
    "start_time": "2021-11-18T09:07:15.223Z"
   },
   {
    "duration": 10,
    "start_time": "2021-11-18T09:07:15.364Z"
   },
   {
    "duration": 25,
    "start_time": "2021-11-18T09:07:15.376Z"
   },
   {
    "duration": 4,
    "start_time": "2021-11-18T09:07:15.403Z"
   },
   {
    "duration": 49,
    "start_time": "2021-11-18T09:07:15.408Z"
   },
   {
    "duration": 4,
    "start_time": "2021-11-18T09:07:15.459Z"
   },
   {
    "duration": 23,
    "start_time": "2021-11-18T09:07:15.681Z"
   },
   {
    "duration": 21,
    "start_time": "2021-11-18T09:07:15.705Z"
   },
   {
    "duration": 24,
    "start_time": "2021-11-18T09:07:15.728Z"
   },
   {
    "duration": 62,
    "start_time": "2021-11-18T09:07:15.755Z"
   },
   {
    "duration": 90,
    "start_time": "2021-11-18T09:07:15.819Z"
   },
   {
    "duration": 66,
    "start_time": "2021-11-18T09:07:15.911Z"
   },
   {
    "duration": 42,
    "start_time": "2021-11-18T09:07:15.980Z"
   },
   {
    "duration": 5,
    "start_time": "2021-11-18T09:07:16.024Z"
   },
   {
    "duration": 31,
    "start_time": "2021-11-18T09:07:16.045Z"
   },
   {
    "duration": 28,
    "start_time": "2021-11-18T09:07:20.701Z"
   },
   {
    "duration": 41,
    "start_time": "2021-11-18T09:07:23.368Z"
   },
   {
    "duration": 40,
    "start_time": "2021-11-18T09:07:31.584Z"
   },
   {
    "duration": 29,
    "start_time": "2021-11-18T09:08:14.096Z"
   },
   {
    "duration": 29,
    "start_time": "2021-11-18T09:08:17.488Z"
   },
   {
    "duration": 40,
    "start_time": "2021-11-18T09:08:20.589Z"
   },
   {
    "duration": 40,
    "start_time": "2021-11-18T09:08:25.201Z"
   },
   {
    "duration": 42,
    "start_time": "2021-11-18T09:08:37.599Z"
   },
   {
    "duration": 31,
    "start_time": "2021-11-18T09:09:01.491Z"
   },
   {
    "duration": 39,
    "start_time": "2021-11-18T09:09:04.559Z"
   },
   {
    "duration": 28,
    "start_time": "2021-11-18T09:09:14.672Z"
   },
   {
    "duration": 47,
    "start_time": "2021-11-18T09:09:25.049Z"
   },
   {
    "duration": 32,
    "start_time": "2021-11-18T09:11:26.925Z"
   },
   {
    "duration": 40,
    "start_time": "2021-11-18T09:11:30.595Z"
   },
   {
    "duration": 24,
    "start_time": "2021-11-18T09:12:28.501Z"
   },
   {
    "duration": 38,
    "start_time": "2021-11-18T09:12:31.732Z"
   },
   {
    "duration": 34,
    "start_time": "2021-11-18T09:12:40.703Z"
   },
   {
    "duration": 38,
    "start_time": "2021-11-18T09:12:44.234Z"
   },
   {
    "duration": 29,
    "start_time": "2021-11-18T09:13:16.262Z"
   },
   {
    "duration": 40,
    "start_time": "2021-11-18T09:13:18.786Z"
   },
   {
    "duration": 2,
    "start_time": "2021-11-18T09:13:52.474Z"
   },
   {
    "duration": 28,
    "start_time": "2021-11-18T09:13:53.563Z"
   },
   {
    "duration": 39,
    "start_time": "2021-11-18T09:13:55.703Z"
   },
   {
    "duration": 2,
    "start_time": "2021-11-18T09:19:31.908Z"
   },
   {
    "duration": 155,
    "start_time": "2021-11-18T09:19:31.913Z"
   },
   {
    "duration": 10,
    "start_time": "2021-11-18T09:19:32.070Z"
   },
   {
    "duration": 32,
    "start_time": "2021-11-18T09:19:32.082Z"
   },
   {
    "duration": 16,
    "start_time": "2021-11-18T09:19:32.115Z"
   },
   {
    "duration": 23,
    "start_time": "2021-11-18T09:19:32.133Z"
   },
   {
    "duration": 13,
    "start_time": "2021-11-18T09:19:32.159Z"
   },
   {
    "duration": 60,
    "start_time": "2021-11-18T09:19:32.174Z"
   },
   {
    "duration": 47,
    "start_time": "2021-11-18T09:19:32.237Z"
   },
   {
    "duration": 36,
    "start_time": "2021-11-18T09:19:32.286Z"
   },
   {
    "duration": 73,
    "start_time": "2021-11-18T09:19:32.324Z"
   },
   {
    "duration": 72,
    "start_time": "2021-11-18T09:19:32.398Z"
   },
   {
    "duration": 47,
    "start_time": "2021-11-18T09:19:32.472Z"
   },
   {
    "duration": 58,
    "start_time": "2021-11-18T09:19:32.521Z"
   },
   {
    "duration": 18,
    "start_time": "2021-11-18T09:19:32.581Z"
   },
   {
    "duration": 35,
    "start_time": "2021-11-18T09:19:32.601Z"
   },
   {
    "duration": 43,
    "start_time": "2021-11-18T09:19:32.638Z"
   },
   {
    "duration": 27,
    "start_time": "2021-11-18T09:19:32.683Z"
   },
   {
    "duration": 41,
    "start_time": "2021-11-18T09:19:32.712Z"
   },
   {
    "duration": 4,
    "start_time": "2021-11-18T09:19:32.755Z"
   },
   {
    "duration": 27,
    "start_time": "2021-11-18T09:19:32.760Z"
   },
   {
    "duration": 14,
    "start_time": "2021-11-18T09:19:32.789Z"
   },
   {
    "duration": 15,
    "start_time": "2021-11-18T09:19:32.805Z"
   },
   {
    "duration": 33,
    "start_time": "2021-11-18T09:19:32.821Z"
   },
   {
    "duration": 16,
    "start_time": "2021-11-18T09:19:32.856Z"
   },
   {
    "duration": 18,
    "start_time": "2021-11-18T09:19:32.873Z"
   },
   {
    "duration": 8,
    "start_time": "2021-11-18T09:19:32.894Z"
   },
   {
    "duration": 11,
    "start_time": "2021-11-18T09:19:32.904Z"
   },
   {
    "duration": 27,
    "start_time": "2021-11-18T09:19:32.917Z"
   },
   {
    "duration": 263,
    "start_time": "2021-11-18T09:20:52.672Z"
   },
   {
    "duration": 2,
    "start_time": "2021-11-18T09:21:02.637Z"
   },
   {
    "duration": 150,
    "start_time": "2021-11-18T09:21:02.641Z"
   },
   {
    "duration": 10,
    "start_time": "2021-11-18T09:21:02.793Z"
   },
   {
    "duration": 28,
    "start_time": "2021-11-18T09:21:02.805Z"
   },
   {
    "duration": 12,
    "start_time": "2021-11-18T09:21:02.835Z"
   },
   {
    "duration": 25,
    "start_time": "2021-11-18T09:21:02.848Z"
   },
   {
    "duration": 10,
    "start_time": "2021-11-18T09:21:02.874Z"
   },
   {
    "duration": 23,
    "start_time": "2021-11-18T09:21:02.886Z"
   },
   {
    "duration": 17,
    "start_time": "2021-11-18T09:21:02.911Z"
   },
   {
    "duration": 32,
    "start_time": "2021-11-18T09:21:02.930Z"
   },
   {
    "duration": 61,
    "start_time": "2021-11-18T09:21:02.964Z"
   },
   {
    "duration": 63,
    "start_time": "2021-11-18T09:21:03.026Z"
   },
   {
    "duration": 55,
    "start_time": "2021-11-18T09:21:03.090Z"
   },
   {
    "duration": 39,
    "start_time": "2021-11-18T09:21:03.147Z"
   },
   {
    "duration": 2,
    "start_time": "2021-11-18T09:21:03.188Z"
   },
   {
    "duration": 40,
    "start_time": "2021-11-18T09:21:03.192Z"
   },
   {
    "duration": 39,
    "start_time": "2021-11-18T09:21:03.245Z"
   },
   {
    "duration": 21,
    "start_time": "2021-11-18T09:21:03.286Z"
   },
   {
    "duration": 43,
    "start_time": "2021-11-18T09:21:03.308Z"
   },
   {
    "duration": 3,
    "start_time": "2021-11-18T09:21:03.353Z"
   },
   {
    "duration": 27,
    "start_time": "2021-11-18T09:21:03.357Z"
   },
   {
    "duration": 12,
    "start_time": "2021-11-18T09:21:03.385Z"
   },
   {
    "duration": 20,
    "start_time": "2021-11-18T09:21:03.399Z"
   },
   {
    "duration": 28,
    "start_time": "2021-11-18T09:21:03.421Z"
   },
   {
    "duration": 17,
    "start_time": "2021-11-18T09:21:03.450Z"
   },
   {
    "duration": 16,
    "start_time": "2021-11-18T09:21:03.469Z"
   },
   {
    "duration": 11,
    "start_time": "2021-11-18T09:21:03.490Z"
   },
   {
    "duration": 42,
    "start_time": "2021-11-18T09:21:03.503Z"
   },
   {
    "duration": 9,
    "start_time": "2021-11-18T09:21:03.546Z"
   },
   {
    "duration": 13,
    "start_time": "2021-11-18T09:21:03.557Z"
   },
   {
    "duration": 23,
    "start_time": "2021-11-18T09:21:07.284Z"
   },
   {
    "duration": 17,
    "start_time": "2021-11-18T09:21:12.583Z"
   },
   {
    "duration": 27,
    "start_time": "2021-11-18T09:21:45.580Z"
   },
   {
    "duration": 16,
    "start_time": "2021-11-18T09:21:46.780Z"
   },
   {
    "duration": 27,
    "start_time": "2021-11-18T09:21:49.846Z"
   },
   {
    "duration": 18,
    "start_time": "2021-11-18T09:21:54.776Z"
   },
   {
    "duration": 5,
    "start_time": "2021-11-18T09:25:51.555Z"
   },
   {
    "duration": 19,
    "start_time": "2021-11-18T09:25:54.150Z"
   },
   {
    "duration": 13,
    "start_time": "2021-11-18T09:25:55.245Z"
   },
   {
    "duration": 17,
    "start_time": "2021-11-18T09:25:56.007Z"
   },
   {
    "duration": 12,
    "start_time": "2021-11-18T09:25:56.681Z"
   },
   {
    "duration": 3,
    "start_time": "2021-11-18T09:26:07.197Z"
   },
   {
    "duration": 154,
    "start_time": "2021-11-18T09:26:07.202Z"
   },
   {
    "duration": 10,
    "start_time": "2021-11-18T09:26:07.358Z"
   },
   {
    "duration": 35,
    "start_time": "2021-11-18T09:26:07.370Z"
   },
   {
    "duration": 27,
    "start_time": "2021-11-18T09:26:07.407Z"
   },
   {
    "duration": 45,
    "start_time": "2021-11-18T09:26:07.435Z"
   },
   {
    "duration": 13,
    "start_time": "2021-11-18T09:26:07.481Z"
   },
   {
    "duration": 47,
    "start_time": "2021-11-18T09:26:07.497Z"
   },
   {
    "duration": 53,
    "start_time": "2021-11-18T09:26:07.546Z"
   },
   {
    "duration": 39,
    "start_time": "2021-11-18T09:26:07.601Z"
   },
   {
    "duration": 98,
    "start_time": "2021-11-18T09:26:07.642Z"
   },
   {
    "duration": 89,
    "start_time": "2021-11-18T09:26:07.742Z"
   },
   {
    "duration": 76,
    "start_time": "2021-11-18T09:26:07.833Z"
   },
   {
    "duration": 48,
    "start_time": "2021-11-18T09:26:07.910Z"
   },
   {
    "duration": 9,
    "start_time": "2021-11-18T09:26:07.960Z"
   },
   {
    "duration": 48,
    "start_time": "2021-11-18T09:26:07.970Z"
   },
   {
    "duration": 40,
    "start_time": "2021-11-18T09:26:08.020Z"
   },
   {
    "duration": 27,
    "start_time": "2021-11-18T09:26:08.062Z"
   },
   {
    "duration": 32,
    "start_time": "2021-11-18T09:26:08.091Z"
   },
   {
    "duration": 3,
    "start_time": "2021-11-18T09:26:08.125Z"
   },
   {
    "duration": 39,
    "start_time": "2021-11-18T09:26:08.129Z"
   },
   {
    "duration": 23,
    "start_time": "2021-11-18T09:26:08.170Z"
   },
   {
    "duration": 22,
    "start_time": "2021-11-18T09:26:08.197Z"
   },
   {
    "duration": 22,
    "start_time": "2021-11-18T09:26:08.221Z"
   },
   {
    "duration": 21,
    "start_time": "2021-11-18T09:26:08.245Z"
   },
   {
    "duration": 19,
    "start_time": "2021-11-18T09:26:08.267Z"
   },
   {
    "duration": 10,
    "start_time": "2021-11-18T09:26:08.287Z"
   },
   {
    "duration": 16,
    "start_time": "2021-11-18T09:26:08.299Z"
   },
   {
    "duration": 13,
    "start_time": "2021-11-18T09:26:08.316Z"
   },
   {
    "duration": 17,
    "start_time": "2021-11-18T09:26:08.331Z"
   },
   {
    "duration": 30,
    "start_time": "2021-11-18T09:26:08.349Z"
   },
   {
    "duration": 12,
    "start_time": "2021-11-18T09:26:08.381Z"
   },
   {
    "duration": 35,
    "start_time": "2021-11-18T09:26:08.394Z"
   },
   {
    "duration": 10,
    "start_time": "2021-11-18T09:26:08.431Z"
   },
   {
    "duration": 9,
    "start_time": "2021-11-18T09:26:08.444Z"
   },
   {
    "duration": 6,
    "start_time": "2021-11-18T09:26:08.454Z"
   },
   {
    "duration": 16,
    "start_time": "2021-11-18T09:26:08.462Z"
   },
   {
    "duration": 17,
    "start_time": "2021-11-18T09:26:08.480Z"
   },
   {
    "duration": 808,
    "start_time": "2021-11-18T18:27:14.643Z"
   },
   {
    "duration": 202,
    "start_time": "2021-11-18T18:27:15.454Z"
   },
   {
    "duration": 32,
    "start_time": "2021-11-18T18:27:15.660Z"
   },
   {
    "duration": 35,
    "start_time": "2021-11-18T18:27:15.695Z"
   },
   {
    "duration": 8,
    "start_time": "2021-11-18T18:27:15.769Z"
   },
   {
    "duration": 31,
    "start_time": "2021-11-18T18:27:15.785Z"
   },
   {
    "duration": 11,
    "start_time": "2021-11-18T18:27:15.818Z"
   },
   {
    "duration": 62,
    "start_time": "2021-11-18T18:27:15.831Z"
   },
   {
    "duration": 23,
    "start_time": "2021-11-18T18:27:15.898Z"
   },
   {
    "duration": 58,
    "start_time": "2021-11-18T18:27:15.925Z"
   },
   {
    "duration": 116,
    "start_time": "2021-11-18T18:27:15.986Z"
   },
   {
    "duration": 120,
    "start_time": "2021-11-18T18:27:16.104Z"
   },
   {
    "duration": 92,
    "start_time": "2021-11-18T18:27:16.227Z"
   },
   {
    "duration": 75,
    "start_time": "2021-11-18T18:27:16.321Z"
   },
   {
    "duration": 4,
    "start_time": "2021-11-18T18:27:16.399Z"
   },
   {
    "duration": 72,
    "start_time": "2021-11-18T18:27:16.406Z"
   },
   {
    "duration": 60,
    "start_time": "2021-11-18T18:27:16.481Z"
   },
   {
    "duration": 57,
    "start_time": "2021-11-18T18:27:16.543Z"
   },
   {
    "duration": 41,
    "start_time": "2021-11-18T18:27:16.602Z"
   },
   {
    "duration": 8,
    "start_time": "2021-11-18T18:27:16.669Z"
   },
   {
    "duration": 33,
    "start_time": "2021-11-18T18:27:16.680Z"
   },
   {
    "duration": 20,
    "start_time": "2021-11-18T18:27:16.716Z"
   },
   {
    "duration": 49,
    "start_time": "2021-11-18T18:27:16.739Z"
   },
   {
    "duration": 19,
    "start_time": "2021-11-18T18:27:16.790Z"
   },
   {
    "duration": 26,
    "start_time": "2021-11-18T18:27:16.811Z"
   },
   {
    "duration": 49,
    "start_time": "2021-11-18T18:27:16.840Z"
   },
   {
    "duration": 13,
    "start_time": "2021-11-18T18:27:16.894Z"
   },
   {
    "duration": 18,
    "start_time": "2021-11-18T18:27:16.909Z"
   },
   {
    "duration": 49,
    "start_time": "2021-11-18T18:27:16.930Z"
   },
   {
    "duration": 8,
    "start_time": "2021-11-18T18:27:16.982Z"
   },
   {
    "duration": 30,
    "start_time": "2021-11-18T18:27:16.992Z"
   },
   {
    "duration": 49,
    "start_time": "2021-11-18T18:27:17.025Z"
   },
   {
    "duration": 23,
    "start_time": "2021-11-18T18:27:17.078Z"
   },
   {
    "duration": 16,
    "start_time": "2021-11-18T18:27:17.104Z"
   },
   {
    "duration": 50,
    "start_time": "2021-11-18T18:27:17.123Z"
   },
   {
    "duration": 8,
    "start_time": "2021-11-18T18:27:17.176Z"
   },
   {
    "duration": 9,
    "start_time": "2021-11-18T18:27:17.186Z"
   },
   {
    "duration": 6,
    "start_time": "2021-11-18T18:27:17.198Z"
   },
   {
    "duration": 546,
    "start_time": "2021-11-18T19:10:05.893Z"
   },
   {
    "duration": 128,
    "start_time": "2021-11-18T19:10:06.441Z"
   },
   {
    "duration": 16,
    "start_time": "2021-11-18T19:10:06.571Z"
   },
   {
    "duration": 35,
    "start_time": "2021-11-18T19:10:06.589Z"
   },
   {
    "duration": 11,
    "start_time": "2021-11-18T19:10:06.626Z"
   },
   {
    "duration": 26,
    "start_time": "2021-11-18T19:10:06.638Z"
   },
   {
    "duration": 8,
    "start_time": "2021-11-18T19:10:06.665Z"
   },
   {
    "duration": 35,
    "start_time": "2021-11-18T19:10:06.676Z"
   },
   {
    "duration": 16,
    "start_time": "2021-11-18T19:10:06.713Z"
   },
   {
    "duration": 32,
    "start_time": "2021-11-18T19:10:06.730Z"
   },
   {
    "duration": 70,
    "start_time": "2021-11-18T19:10:06.764Z"
   },
   {
    "duration": 62,
    "start_time": "2021-11-18T19:10:06.836Z"
   },
   {
    "duration": 52,
    "start_time": "2021-11-18T19:10:06.899Z"
   },
   {
    "duration": 39,
    "start_time": "2021-11-18T19:10:06.952Z"
   },
   {
    "duration": 10,
    "start_time": "2021-11-18T19:10:06.992Z"
   },
   {
    "duration": 11,
    "start_time": "2021-11-18T19:10:10.402Z"
   },
   {
    "duration": 40,
    "start_time": "2021-11-18T19:10:19.301Z"
   }
  ],
  "colab": {
   "collapsed_sections": [
    "E0vqbgi9ay0H",
    "VUC88oWjTJw2"
   ],
   "name": "yandex_music_project_2021.2.ipynb",
   "provenance": []
  },
  "kernelspec": {
   "display_name": "Python 3 (ipykernel)",
   "language": "python",
   "name": "python3"
  },
  "language_info": {
   "codemirror_mode": {
    "name": "ipython",
    "version": 3
   },
   "file_extension": ".py",
   "mimetype": "text/x-python",
   "name": "python",
   "nbconvert_exporter": "python",
   "pygments_lexer": "ipython3",
   "version": "3.9.7"
  },
  "toc": {
   "base_numbering": 1,
   "nav_menu": {},
   "number_sections": true,
   "sideBar": true,
   "skip_h1_title": true,
   "title_cell": "Table of Contents",
   "title_sidebar": "Contents",
   "toc_cell": false,
   "toc_position": {
    "height": "calc(100% - 180px)",
    "left": "10px",
    "top": "150px",
    "width": "186.875px"
   },
   "toc_section_display": true,
   "toc_window_display": true
  }
 },
 "nbformat": 4,
 "nbformat_minor": 1
}
