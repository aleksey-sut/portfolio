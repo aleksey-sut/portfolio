{
 "cells": [
  {
   "cell_type": "markdown",
   "metadata": {
    "toc": true
   },
   "source": [
    "<h1>Содержание<span class=\"tocSkip\"></span></h1>\n",
    "<div class=\"toc\"><ul class=\"toc-item\"><li><span><a href=\"#Подготовка-данных\" data-toc-modified-id=\"Подготовка-данных-1\"><span class=\"toc-item-num\">1&nbsp;&nbsp;</span>Подготовка данных</a></span></li><li><span><a href=\"#Анализ-данных\" data-toc-modified-id=\"Анализ-данных-2\"><span class=\"toc-item-num\">2&nbsp;&nbsp;</span>Анализ данных</a></span></li><li><span><a href=\"#Модель\" data-toc-modified-id=\"Модель-3\"><span class=\"toc-item-num\">3&nbsp;&nbsp;</span>Модель</a></span></li><li><span><a href=\"#Чек-лист-готовности-проекта\" data-toc-modified-id=\"Чек-лист-готовности-проекта-4\"><span class=\"toc-item-num\">4&nbsp;&nbsp;</span>Чек-лист готовности проекта</a></span></li></ul></div>"
   ]
  },
  {
   "cell_type": "markdown",
   "metadata": {},
   "source": [
    "# Восстановление золота из руды"
   ]
  },
  {
   "cell_type": "markdown",
   "metadata": {},
   "source": [
    "Подготовьте прототип модели машинного обучения для «Цифры». Компания разрабатывает решения для эффективной работы промышленных предприятий.\n",
    "\n",
    "Модель должна предсказать коэффициент восстановления золота из золотосодержащей руды. Используйте данные с параметрами добычи и очистки. \n",
    "\n",
    "Модель поможет оптимизировать производство, чтобы не запускать предприятие с убыточными характеристиками.\n",
    "\n",
    "Вам нужно:\n",
    "\n",
    "1. Подготовить данные;\n",
    "2. Провести исследовательский анализ данных;\n",
    "3. Построить и обучить модель.\n",
    "\n",
    "Чтобы выполнить проект, обращайтесь к библиотекам *pandas*, *matplotlib* и *sklearn.* Вам поможет их документация."
   ]
  },
  {
   "cell_type": "code",
   "execution_count": 1,
   "metadata": {},
   "outputs": [],
   "source": [
    "import pandas as pd\n",
    "import matplotlib.pyplot as plt\n",
    "import seaborn as sns\n",
    "import numpy as np\n",
    "from sklearn.dummy import DummyRegressor\n",
    "from sklearn.linear_model import LinearRegression\n",
    "from sklearn.tree import DecisionTreeRegressor\n",
    "from sklearn.ensemble import RandomForestRegressor\n",
    "from sklearn.metrics import mean_absolute_error, make_scorer\n",
    "from sklearn.model_selection import cross_val_score, GridSearchCV\n",
    "from tqdm.notebook import tqdm"
   ]
  },
  {
   "cell_type": "markdown",
   "metadata": {},
   "source": [
    "## Подготовка данных"
   ]
  },
  {
   "cell_type": "markdown",
   "metadata": {},
   "source": [
    "На данном этапе выполняются следующие действия:\n",
    "* Откройте файлы и изучите их.\n",
    "* Проверьте, что эффективность обогащения рассчитана правильно. Вычислите её на обучающей выборке для признака rougher.output.recovery. Найдите MAE между вашими расчётами и значением признака. Опишите выводы.\n",
    "* Проанализируйте признаки, недоступные в тестовой выборке. Что это за параметры? К какому типу относятся?\n",
    "* Проведите предобработку данных."
   ]
  },
  {
   "cell_type": "markdown",
   "metadata": {},
   "source": [
    "Описание данных\n",
    "\n",
    "Технологический процесс\n",
    "\n",
    "- Rougher feed — исходное сырье\n",
    "- Rougher additions (или reagent additions) — флотационные реагенты: (Xanthate, Sulphate, Depressant)\n",
    "- Xanthate **— ксантогенат (промотер, или активатор флотации);\n",
    "- Sulphate — сульфат (на данном производстве сульфид натрия);\n",
    "- Depressant — депрессант (силикат натрия).\n",
    "- Rougher process (англ. «грубый процесс») — флотация\n",
    "- Rougher tails — отвальные хвосты\n",
    "- Float banks — флотационная установка\n",
    "- Cleaner process — очистка\n",
    "- Rougher Au — черновой концентрат золота\n",
    "- Final Au — финальный концентрат золота\n",
    "\n",
    "Параметры этапов\n",
    "\n",
    "- air amount — объём воздуха\n",
    "- fluid levels — уровень жидкости\n",
    "- feed size — размер гранул сырья\n",
    "- feed rate — скорость подачи\n",
    "\n",
    "Наименование признаков\n",
    "\n",
    "Наименование признаков должно быть такое:<br>\n",
    "\n",
    "[этап].[тип_параметра].[название_параметра]<br>\n",
    "Пример: rougher.input.feed_ag<br>\n",
    "\n",
    "Возможные значения для блока [этап]:<br>\n",
    "- rougher — флотация\n",
    "- primary_cleaner — первичная очистка\n",
    "- secondary_cleaner — вторичная очистка\n",
    "- final — финальные характеристики\n",
    "\n",
    "Возможные значения для блока [тип_параметра]:\n",
    "- input — параметры сырья\n",
    "- output — параметры продукта\n",
    "- state — параметры, характеризующие текущее состояние этапа\n",
    "- calculation — расчётные характеристики"
   ]
  },
  {
   "cell_type": "markdown",
   "metadata": {},
   "source": [
    "**Откройте файлы и изучите их**"
   ]
  },
  {
   "cell_type": "code",
   "execution_count": 2,
   "metadata": {},
   "outputs": [],
   "source": [
    "train = pd.read_csv('/datasets/gold_recovery_train_new.csv')\n",
    "test = pd.read_csv('/datasets/gold_recovery_test_new.csv')\n",
    "full = pd.read_csv('/datasets/gold_recovery_full_new.csv')"
   ]
  },
  {
   "cell_type": "code",
   "execution_count": 3,
   "metadata": {},
   "outputs": [
    {
     "name": "stdout",
     "output_type": "stream",
     "text": [
      "<class 'pandas.core.frame.DataFrame'>\n",
      "RangeIndex: 14149 entries, 0 to 14148\n",
      "Data columns (total 87 columns):\n",
      "date                                                  14149 non-null object\n",
      "final.output.concentrate_ag                           14148 non-null float64\n",
      "final.output.concentrate_pb                           14148 non-null float64\n",
      "final.output.concentrate_sol                          13938 non-null float64\n",
      "final.output.concentrate_au                           14149 non-null float64\n",
      "final.output.recovery                                 14149 non-null float64\n",
      "final.output.tail_ag                                  14149 non-null float64\n",
      "final.output.tail_pb                                  14049 non-null float64\n",
      "final.output.tail_sol                                 14144 non-null float64\n",
      "final.output.tail_au                                  14149 non-null float64\n",
      "primary_cleaner.input.sulfate                         14129 non-null float64\n",
      "primary_cleaner.input.depressant                      14117 non-null float64\n",
      "primary_cleaner.input.feed_size                       14149 non-null float64\n",
      "primary_cleaner.input.xanthate                        14049 non-null float64\n",
      "primary_cleaner.output.concentrate_ag                 14149 non-null float64\n",
      "primary_cleaner.output.concentrate_pb                 14063 non-null float64\n",
      "primary_cleaner.output.concentrate_sol                13863 non-null float64\n",
      "primary_cleaner.output.concentrate_au                 14149 non-null float64\n",
      "primary_cleaner.output.tail_ag                        14148 non-null float64\n",
      "primary_cleaner.output.tail_pb                        14134 non-null float64\n",
      "primary_cleaner.output.tail_sol                       14103 non-null float64\n",
      "primary_cleaner.output.tail_au                        14149 non-null float64\n",
      "primary_cleaner.state.floatbank8_a_air                14145 non-null float64\n",
      "primary_cleaner.state.floatbank8_a_level              14148 non-null float64\n",
      "primary_cleaner.state.floatbank8_b_air                14145 non-null float64\n",
      "primary_cleaner.state.floatbank8_b_level              14148 non-null float64\n",
      "primary_cleaner.state.floatbank8_c_air                14147 non-null float64\n",
      "primary_cleaner.state.floatbank8_c_level              14148 non-null float64\n",
      "primary_cleaner.state.floatbank8_d_air                14146 non-null float64\n",
      "primary_cleaner.state.floatbank8_d_level              14148 non-null float64\n",
      "rougher.calculation.sulfate_to_au_concentrate         14148 non-null float64\n",
      "rougher.calculation.floatbank10_sulfate_to_au_feed    14148 non-null float64\n",
      "rougher.calculation.floatbank11_sulfate_to_au_feed    14148 non-null float64\n",
      "rougher.calculation.au_pb_ratio                       14149 non-null float64\n",
      "rougher.input.feed_ag                                 14149 non-null float64\n",
      "rougher.input.feed_pb                                 14049 non-null float64\n",
      "rougher.input.feed_rate                               14141 non-null float64\n",
      "rougher.input.feed_size                               14005 non-null float64\n",
      "rougher.input.feed_sol                                14071 non-null float64\n",
      "rougher.input.feed_au                                 14149 non-null float64\n",
      "rougher.input.floatbank10_sulfate                     14120 non-null float64\n",
      "rougher.input.floatbank10_xanthate                    14141 non-null float64\n",
      "rougher.input.floatbank11_sulfate                     14113 non-null float64\n",
      "rougher.input.floatbank11_xanthate                    13721 non-null float64\n",
      "rougher.output.concentrate_ag                         14149 non-null float64\n",
      "rougher.output.concentrate_pb                         14149 non-null float64\n",
      "rougher.output.concentrate_sol                        14127 non-null float64\n",
      "rougher.output.concentrate_au                         14149 non-null float64\n",
      "rougher.output.recovery                               14149 non-null float64\n",
      "rougher.output.tail_ag                                14148 non-null float64\n",
      "rougher.output.tail_pb                                14149 non-null float64\n",
      "rougher.output.tail_sol                               14149 non-null float64\n",
      "rougher.output.tail_au                                14149 non-null float64\n",
      "rougher.state.floatbank10_a_air                       14148 non-null float64\n",
      "rougher.state.floatbank10_a_level                     14148 non-null float64\n",
      "rougher.state.floatbank10_b_air                       14148 non-null float64\n",
      "rougher.state.floatbank10_b_level                     14148 non-null float64\n",
      "rougher.state.floatbank10_c_air                       14148 non-null float64\n",
      "rougher.state.floatbank10_c_level                     14148 non-null float64\n",
      "rougher.state.floatbank10_d_air                       14149 non-null float64\n",
      "rougher.state.floatbank10_d_level                     14149 non-null float64\n",
      "rougher.state.floatbank10_e_air                       13713 non-null float64\n",
      "rougher.state.floatbank10_e_level                     14149 non-null float64\n",
      "rougher.state.floatbank10_f_air                       14149 non-null float64\n",
      "rougher.state.floatbank10_f_level                     14149 non-null float64\n",
      "secondary_cleaner.output.tail_ag                      14147 non-null float64\n",
      "secondary_cleaner.output.tail_pb                      14139 non-null float64\n",
      "secondary_cleaner.output.tail_sol                     12544 non-null float64\n",
      "secondary_cleaner.output.tail_au                      14149 non-null float64\n",
      "secondary_cleaner.state.floatbank2_a_air              13932 non-null float64\n",
      "secondary_cleaner.state.floatbank2_a_level            14148 non-null float64\n",
      "secondary_cleaner.state.floatbank2_b_air              14128 non-null float64\n",
      "secondary_cleaner.state.floatbank2_b_level            14148 non-null float64\n",
      "secondary_cleaner.state.floatbank3_a_air              14145 non-null float64\n",
      "secondary_cleaner.state.floatbank3_a_level            14148 non-null float64\n",
      "secondary_cleaner.state.floatbank3_b_air              14148 non-null float64\n",
      "secondary_cleaner.state.floatbank3_b_level            14148 non-null float64\n",
      "secondary_cleaner.state.floatbank4_a_air              14143 non-null float64\n",
      "secondary_cleaner.state.floatbank4_a_level            14148 non-null float64\n",
      "secondary_cleaner.state.floatbank4_b_air              14148 non-null float64\n",
      "secondary_cleaner.state.floatbank4_b_level            14148 non-null float64\n",
      "secondary_cleaner.state.floatbank5_a_air              14148 non-null float64\n",
      "secondary_cleaner.state.floatbank5_a_level            14148 non-null float64\n",
      "secondary_cleaner.state.floatbank5_b_air              14148 non-null float64\n",
      "secondary_cleaner.state.floatbank5_b_level            14148 non-null float64\n",
      "secondary_cleaner.state.floatbank6_a_air              14147 non-null float64\n",
      "secondary_cleaner.state.floatbank6_a_level            14148 non-null float64\n",
      "dtypes: float64(86), object(1)\n",
      "memory usage: 9.4+ MB\n"
     ]
    }
   ],
   "source": [
    "train.info()"
   ]
  },
  {
   "cell_type": "code",
   "execution_count": 4,
   "metadata": {
    "scrolled": true
   },
   "outputs": [
    {
     "name": "stdout",
     "output_type": "stream",
     "text": [
      "<class 'pandas.core.frame.DataFrame'>\n",
      "RangeIndex: 5290 entries, 0 to 5289\n",
      "Data columns (total 53 columns):\n",
      "date                                          5290 non-null object\n",
      "primary_cleaner.input.sulfate                 5286 non-null float64\n",
      "primary_cleaner.input.depressant              5285 non-null float64\n",
      "primary_cleaner.input.feed_size               5290 non-null float64\n",
      "primary_cleaner.input.xanthate                5286 non-null float64\n",
      "primary_cleaner.state.floatbank8_a_air        5290 non-null float64\n",
      "primary_cleaner.state.floatbank8_a_level      5290 non-null float64\n",
      "primary_cleaner.state.floatbank8_b_air        5290 non-null float64\n",
      "primary_cleaner.state.floatbank8_b_level      5290 non-null float64\n",
      "primary_cleaner.state.floatbank8_c_air        5290 non-null float64\n",
      "primary_cleaner.state.floatbank8_c_level      5290 non-null float64\n",
      "primary_cleaner.state.floatbank8_d_air        5290 non-null float64\n",
      "primary_cleaner.state.floatbank8_d_level      5290 non-null float64\n",
      "rougher.input.feed_ag                         5290 non-null float64\n",
      "rougher.input.feed_pb                         5290 non-null float64\n",
      "rougher.input.feed_rate                       5287 non-null float64\n",
      "rougher.input.feed_size                       5289 non-null float64\n",
      "rougher.input.feed_sol                        5269 non-null float64\n",
      "rougher.input.feed_au                         5290 non-null float64\n",
      "rougher.input.floatbank10_sulfate             5285 non-null float64\n",
      "rougher.input.floatbank10_xanthate            5290 non-null float64\n",
      "rougher.input.floatbank11_sulfate             5282 non-null float64\n",
      "rougher.input.floatbank11_xanthate            5265 non-null float64\n",
      "rougher.state.floatbank10_a_air               5290 non-null float64\n",
      "rougher.state.floatbank10_a_level             5290 non-null float64\n",
      "rougher.state.floatbank10_b_air               5290 non-null float64\n",
      "rougher.state.floatbank10_b_level             5290 non-null float64\n",
      "rougher.state.floatbank10_c_air               5290 non-null float64\n",
      "rougher.state.floatbank10_c_level             5290 non-null float64\n",
      "rougher.state.floatbank10_d_air               5290 non-null float64\n",
      "rougher.state.floatbank10_d_level             5290 non-null float64\n",
      "rougher.state.floatbank10_e_air               5290 non-null float64\n",
      "rougher.state.floatbank10_e_level             5290 non-null float64\n",
      "rougher.state.floatbank10_f_air               5290 non-null float64\n",
      "rougher.state.floatbank10_f_level             5290 non-null float64\n",
      "secondary_cleaner.state.floatbank2_a_air      5287 non-null float64\n",
      "secondary_cleaner.state.floatbank2_a_level    5290 non-null float64\n",
      "secondary_cleaner.state.floatbank2_b_air      5288 non-null float64\n",
      "secondary_cleaner.state.floatbank2_b_level    5290 non-null float64\n",
      "secondary_cleaner.state.floatbank3_a_air      5281 non-null float64\n",
      "secondary_cleaner.state.floatbank3_a_level    5290 non-null float64\n",
      "secondary_cleaner.state.floatbank3_b_air      5290 non-null float64\n",
      "secondary_cleaner.state.floatbank3_b_level    5290 non-null float64\n",
      "secondary_cleaner.state.floatbank4_a_air      5290 non-null float64\n",
      "secondary_cleaner.state.floatbank4_a_level    5290 non-null float64\n",
      "secondary_cleaner.state.floatbank4_b_air      5290 non-null float64\n",
      "secondary_cleaner.state.floatbank4_b_level    5290 non-null float64\n",
      "secondary_cleaner.state.floatbank5_a_air      5290 non-null float64\n",
      "secondary_cleaner.state.floatbank5_a_level    5290 non-null float64\n",
      "secondary_cleaner.state.floatbank5_b_air      5290 non-null float64\n",
      "secondary_cleaner.state.floatbank5_b_level    5290 non-null float64\n",
      "secondary_cleaner.state.floatbank6_a_air      5290 non-null float64\n",
      "secondary_cleaner.state.floatbank6_a_level    5290 non-null float64\n",
      "dtypes: float64(52), object(1)\n",
      "memory usage: 2.1+ MB\n"
     ]
    }
   ],
   "source": [
    "test.info()"
   ]
  },
  {
   "cell_type": "code",
   "execution_count": 5,
   "metadata": {
    "scrolled": false
   },
   "outputs": [
    {
     "name": "stdout",
     "output_type": "stream",
     "text": [
      "<class 'pandas.core.frame.DataFrame'>\n",
      "RangeIndex: 19439 entries, 0 to 19438\n",
      "Data columns (total 87 columns):\n",
      "date                                                  19439 non-null object\n",
      "final.output.concentrate_ag                           19438 non-null float64\n",
      "final.output.concentrate_pb                           19438 non-null float64\n",
      "final.output.concentrate_sol                          19228 non-null float64\n",
      "final.output.concentrate_au                           19439 non-null float64\n",
      "final.output.recovery                                 19439 non-null float64\n",
      "final.output.tail_ag                                  19438 non-null float64\n",
      "final.output.tail_pb                                  19338 non-null float64\n",
      "final.output.tail_sol                                 19433 non-null float64\n",
      "final.output.tail_au                                  19439 non-null float64\n",
      "primary_cleaner.input.sulfate                         19415 non-null float64\n",
      "primary_cleaner.input.depressant                      19402 non-null float64\n",
      "primary_cleaner.input.feed_size                       19439 non-null float64\n",
      "primary_cleaner.input.xanthate                        19335 non-null float64\n",
      "primary_cleaner.output.concentrate_ag                 19439 non-null float64\n",
      "primary_cleaner.output.concentrate_pb                 19323 non-null float64\n",
      "primary_cleaner.output.concentrate_sol                19069 non-null float64\n",
      "primary_cleaner.output.concentrate_au                 19439 non-null float64\n",
      "primary_cleaner.output.tail_ag                        19435 non-null float64\n",
      "primary_cleaner.output.tail_pb                        19418 non-null float64\n",
      "primary_cleaner.output.tail_sol                       19377 non-null float64\n",
      "primary_cleaner.output.tail_au                        19439 non-null float64\n",
      "primary_cleaner.state.floatbank8_a_air                19435 non-null float64\n",
      "primary_cleaner.state.floatbank8_a_level              19438 non-null float64\n",
      "primary_cleaner.state.floatbank8_b_air                19435 non-null float64\n",
      "primary_cleaner.state.floatbank8_b_level              19438 non-null float64\n",
      "primary_cleaner.state.floatbank8_c_air                19437 non-null float64\n",
      "primary_cleaner.state.floatbank8_c_level              19438 non-null float64\n",
      "primary_cleaner.state.floatbank8_d_air                19436 non-null float64\n",
      "primary_cleaner.state.floatbank8_d_level              19438 non-null float64\n",
      "rougher.calculation.sulfate_to_au_concentrate         19437 non-null float64\n",
      "rougher.calculation.floatbank10_sulfate_to_au_feed    19437 non-null float64\n",
      "rougher.calculation.floatbank11_sulfate_to_au_feed    19437 non-null float64\n",
      "rougher.calculation.au_pb_ratio                       19439 non-null float64\n",
      "rougher.input.feed_ag                                 19439 non-null float64\n",
      "rougher.input.feed_pb                                 19339 non-null float64\n",
      "rougher.input.feed_rate                               19428 non-null float64\n",
      "rougher.input.feed_size                               19294 non-null float64\n",
      "rougher.input.feed_sol                                19340 non-null float64\n",
      "rougher.input.feed_au                                 19439 non-null float64\n",
      "rougher.input.floatbank10_sulfate                     19405 non-null float64\n",
      "rougher.input.floatbank10_xanthate                    19431 non-null float64\n",
      "rougher.input.floatbank11_sulfate                     19395 non-null float64\n",
      "rougher.input.floatbank11_xanthate                    18986 non-null float64\n",
      "rougher.output.concentrate_ag                         19439 non-null float64\n",
      "rougher.output.concentrate_pb                         19439 non-null float64\n",
      "rougher.output.concentrate_sol                        19416 non-null float64\n",
      "rougher.output.concentrate_au                         19439 non-null float64\n",
      "rougher.output.recovery                               19439 non-null float64\n",
      "rougher.output.tail_ag                                19438 non-null float64\n",
      "rougher.output.tail_pb                                19439 non-null float64\n",
      "rougher.output.tail_sol                               19439 non-null float64\n",
      "rougher.output.tail_au                                19439 non-null float64\n",
      "rougher.state.floatbank10_a_air                       19438 non-null float64\n",
      "rougher.state.floatbank10_a_level                     19438 non-null float64\n",
      "rougher.state.floatbank10_b_air                       19438 non-null float64\n",
      "rougher.state.floatbank10_b_level                     19438 non-null float64\n",
      "rougher.state.floatbank10_c_air                       19438 non-null float64\n",
      "rougher.state.floatbank10_c_level                     19438 non-null float64\n",
      "rougher.state.floatbank10_d_air                       19439 non-null float64\n",
      "rougher.state.floatbank10_d_level                     19439 non-null float64\n",
      "rougher.state.floatbank10_e_air                       19003 non-null float64\n",
      "rougher.state.floatbank10_e_level                     19439 non-null float64\n",
      "rougher.state.floatbank10_f_air                       19439 non-null float64\n",
      "rougher.state.floatbank10_f_level                     19439 non-null float64\n",
      "secondary_cleaner.output.tail_ag                      19437 non-null float64\n",
      "secondary_cleaner.output.tail_pb                      19427 non-null float64\n",
      "secondary_cleaner.output.tail_sol                     17691 non-null float64\n",
      "secondary_cleaner.output.tail_au                      19439 non-null float64\n",
      "secondary_cleaner.state.floatbank2_a_air              19219 non-null float64\n",
      "secondary_cleaner.state.floatbank2_a_level            19438 non-null float64\n",
      "secondary_cleaner.state.floatbank2_b_air              19416 non-null float64\n",
      "secondary_cleaner.state.floatbank2_b_level            19438 non-null float64\n",
      "secondary_cleaner.state.floatbank3_a_air              19426 non-null float64\n",
      "secondary_cleaner.state.floatbank3_a_level            19438 non-null float64\n",
      "secondary_cleaner.state.floatbank3_b_air              19438 non-null float64\n",
      "secondary_cleaner.state.floatbank3_b_level            19438 non-null float64\n",
      "secondary_cleaner.state.floatbank4_a_air              19433 non-null float64\n",
      "secondary_cleaner.state.floatbank4_a_level            19438 non-null float64\n",
      "secondary_cleaner.state.floatbank4_b_air              19438 non-null float64\n",
      "secondary_cleaner.state.floatbank4_b_level            19438 non-null float64\n",
      "secondary_cleaner.state.floatbank5_a_air              19438 non-null float64\n",
      "secondary_cleaner.state.floatbank5_a_level            19438 non-null float64\n",
      "secondary_cleaner.state.floatbank5_b_air              19438 non-null float64\n",
      "secondary_cleaner.state.floatbank5_b_level            19438 non-null float64\n",
      "secondary_cleaner.state.floatbank6_a_air              19437 non-null float64\n",
      "secondary_cleaner.state.floatbank6_a_level            19438 non-null float64\n",
      "dtypes: float64(86), object(1)\n",
      "memory usage: 12.9+ MB\n"
     ]
    }
   ],
   "source": [
    "full.info()"
   ]
  },
  {
   "cell_type": "code",
   "execution_count": 6,
   "metadata": {},
   "outputs": [
    {
     "data": {
      "text/html": [
       "<div>\n",
       "<style scoped>\n",
       "    .dataframe tbody tr th:only-of-type {\n",
       "        vertical-align: middle;\n",
       "    }\n",
       "\n",
       "    .dataframe tbody tr th {\n",
       "        vertical-align: top;\n",
       "    }\n",
       "\n",
       "    .dataframe thead th {\n",
       "        text-align: right;\n",
       "    }\n",
       "</style>\n",
       "<table border=\"1\" class=\"dataframe\">\n",
       "  <thead>\n",
       "    <tr style=\"text-align: right;\">\n",
       "      <th></th>\n",
       "      <th>date</th>\n",
       "      <th>final.output.concentrate_ag</th>\n",
       "      <th>final.output.concentrate_pb</th>\n",
       "      <th>final.output.concentrate_sol</th>\n",
       "      <th>final.output.concentrate_au</th>\n",
       "      <th>final.output.recovery</th>\n",
       "      <th>final.output.tail_ag</th>\n",
       "      <th>final.output.tail_pb</th>\n",
       "      <th>final.output.tail_sol</th>\n",
       "      <th>final.output.tail_au</th>\n",
       "      <th>...</th>\n",
       "      <th>secondary_cleaner.state.floatbank4_a_air</th>\n",
       "      <th>secondary_cleaner.state.floatbank4_a_level</th>\n",
       "      <th>secondary_cleaner.state.floatbank4_b_air</th>\n",
       "      <th>secondary_cleaner.state.floatbank4_b_level</th>\n",
       "      <th>secondary_cleaner.state.floatbank5_a_air</th>\n",
       "      <th>secondary_cleaner.state.floatbank5_a_level</th>\n",
       "      <th>secondary_cleaner.state.floatbank5_b_air</th>\n",
       "      <th>secondary_cleaner.state.floatbank5_b_level</th>\n",
       "      <th>secondary_cleaner.state.floatbank6_a_air</th>\n",
       "      <th>secondary_cleaner.state.floatbank6_a_level</th>\n",
       "    </tr>\n",
       "  </thead>\n",
       "  <tbody>\n",
       "    <tr>\n",
       "      <td>0</td>\n",
       "      <td>2016-01-15 00:00:00</td>\n",
       "      <td>6.055403</td>\n",
       "      <td>9.889648</td>\n",
       "      <td>5.507324</td>\n",
       "      <td>42.192020</td>\n",
       "      <td>70.541216</td>\n",
       "      <td>10.411962</td>\n",
       "      <td>0.895447</td>\n",
       "      <td>16.904297</td>\n",
       "      <td>2.143149</td>\n",
       "      <td>...</td>\n",
       "      <td>14.016835</td>\n",
       "      <td>-502.488007</td>\n",
       "      <td>12.099931</td>\n",
       "      <td>-504.715942</td>\n",
       "      <td>9.925633</td>\n",
       "      <td>-498.310211</td>\n",
       "      <td>8.079666</td>\n",
       "      <td>-500.470978</td>\n",
       "      <td>14.151341</td>\n",
       "      <td>-605.841980</td>\n",
       "    </tr>\n",
       "    <tr>\n",
       "      <td>1</td>\n",
       "      <td>2016-01-15 01:00:00</td>\n",
       "      <td>6.029369</td>\n",
       "      <td>9.968944</td>\n",
       "      <td>5.257781</td>\n",
       "      <td>42.701629</td>\n",
       "      <td>69.266198</td>\n",
       "      <td>10.462676</td>\n",
       "      <td>0.927452</td>\n",
       "      <td>16.634514</td>\n",
       "      <td>2.224930</td>\n",
       "      <td>...</td>\n",
       "      <td>13.992281</td>\n",
       "      <td>-505.503262</td>\n",
       "      <td>11.950531</td>\n",
       "      <td>-501.331529</td>\n",
       "      <td>10.039245</td>\n",
       "      <td>-500.169983</td>\n",
       "      <td>7.984757</td>\n",
       "      <td>-500.582168</td>\n",
       "      <td>13.998353</td>\n",
       "      <td>-599.787184</td>\n",
       "    </tr>\n",
       "    <tr>\n",
       "      <td>2</td>\n",
       "      <td>2016-01-15 02:00:00</td>\n",
       "      <td>6.055926</td>\n",
       "      <td>10.213995</td>\n",
       "      <td>5.383759</td>\n",
       "      <td>42.657501</td>\n",
       "      <td>68.116445</td>\n",
       "      <td>10.507046</td>\n",
       "      <td>0.953716</td>\n",
       "      <td>16.208849</td>\n",
       "      <td>2.257889</td>\n",
       "      <td>...</td>\n",
       "      <td>14.015015</td>\n",
       "      <td>-502.520901</td>\n",
       "      <td>11.912783</td>\n",
       "      <td>-501.133383</td>\n",
       "      <td>10.070913</td>\n",
       "      <td>-500.129135</td>\n",
       "      <td>8.013877</td>\n",
       "      <td>-500.517572</td>\n",
       "      <td>14.028663</td>\n",
       "      <td>-601.427363</td>\n",
       "    </tr>\n",
       "    <tr>\n",
       "      <td>3</td>\n",
       "      <td>2016-01-15 03:00:00</td>\n",
       "      <td>6.047977</td>\n",
       "      <td>9.977019</td>\n",
       "      <td>4.858634</td>\n",
       "      <td>42.689819</td>\n",
       "      <td>68.347543</td>\n",
       "      <td>10.422762</td>\n",
       "      <td>0.883763</td>\n",
       "      <td>16.532835</td>\n",
       "      <td>2.146849</td>\n",
       "      <td>...</td>\n",
       "      <td>14.036510</td>\n",
       "      <td>-500.857308</td>\n",
       "      <td>11.999550</td>\n",
       "      <td>-501.193686</td>\n",
       "      <td>9.970366</td>\n",
       "      <td>-499.201640</td>\n",
       "      <td>7.977324</td>\n",
       "      <td>-500.255908</td>\n",
       "      <td>14.005551</td>\n",
       "      <td>-599.996129</td>\n",
       "    </tr>\n",
       "    <tr>\n",
       "      <td>4</td>\n",
       "      <td>2016-01-15 04:00:00</td>\n",
       "      <td>6.148599</td>\n",
       "      <td>10.142511</td>\n",
       "      <td>4.939416</td>\n",
       "      <td>42.774141</td>\n",
       "      <td>66.927016</td>\n",
       "      <td>10.360302</td>\n",
       "      <td>0.792826</td>\n",
       "      <td>16.525686</td>\n",
       "      <td>2.055292</td>\n",
       "      <td>...</td>\n",
       "      <td>14.027298</td>\n",
       "      <td>-499.838632</td>\n",
       "      <td>11.953070</td>\n",
       "      <td>-501.053894</td>\n",
       "      <td>9.925709</td>\n",
       "      <td>-501.686727</td>\n",
       "      <td>7.894242</td>\n",
       "      <td>-500.356035</td>\n",
       "      <td>13.996647</td>\n",
       "      <td>-601.496691</td>\n",
       "    </tr>\n",
       "  </tbody>\n",
       "</table>\n",
       "<p>5 rows × 87 columns</p>\n",
       "</div>"
      ],
      "text/plain": [
       "                  date  final.output.concentrate_ag  \\\n",
       "0  2016-01-15 00:00:00                     6.055403   \n",
       "1  2016-01-15 01:00:00                     6.029369   \n",
       "2  2016-01-15 02:00:00                     6.055926   \n",
       "3  2016-01-15 03:00:00                     6.047977   \n",
       "4  2016-01-15 04:00:00                     6.148599   \n",
       "\n",
       "   final.output.concentrate_pb  final.output.concentrate_sol  \\\n",
       "0                     9.889648                      5.507324   \n",
       "1                     9.968944                      5.257781   \n",
       "2                    10.213995                      5.383759   \n",
       "3                     9.977019                      4.858634   \n",
       "4                    10.142511                      4.939416   \n",
       "\n",
       "   final.output.concentrate_au  final.output.recovery  final.output.tail_ag  \\\n",
       "0                    42.192020              70.541216             10.411962   \n",
       "1                    42.701629              69.266198             10.462676   \n",
       "2                    42.657501              68.116445             10.507046   \n",
       "3                    42.689819              68.347543             10.422762   \n",
       "4                    42.774141              66.927016             10.360302   \n",
       "\n",
       "   final.output.tail_pb  final.output.tail_sol  final.output.tail_au  ...  \\\n",
       "0              0.895447              16.904297              2.143149  ...   \n",
       "1              0.927452              16.634514              2.224930  ...   \n",
       "2              0.953716              16.208849              2.257889  ...   \n",
       "3              0.883763              16.532835              2.146849  ...   \n",
       "4              0.792826              16.525686              2.055292  ...   \n",
       "\n",
       "   secondary_cleaner.state.floatbank4_a_air  \\\n",
       "0                                 14.016835   \n",
       "1                                 13.992281   \n",
       "2                                 14.015015   \n",
       "3                                 14.036510   \n",
       "4                                 14.027298   \n",
       "\n",
       "   secondary_cleaner.state.floatbank4_a_level  \\\n",
       "0                                 -502.488007   \n",
       "1                                 -505.503262   \n",
       "2                                 -502.520901   \n",
       "3                                 -500.857308   \n",
       "4                                 -499.838632   \n",
       "\n",
       "   secondary_cleaner.state.floatbank4_b_air  \\\n",
       "0                                 12.099931   \n",
       "1                                 11.950531   \n",
       "2                                 11.912783   \n",
       "3                                 11.999550   \n",
       "4                                 11.953070   \n",
       "\n",
       "   secondary_cleaner.state.floatbank4_b_level  \\\n",
       "0                                 -504.715942   \n",
       "1                                 -501.331529   \n",
       "2                                 -501.133383   \n",
       "3                                 -501.193686   \n",
       "4                                 -501.053894   \n",
       "\n",
       "   secondary_cleaner.state.floatbank5_a_air  \\\n",
       "0                                  9.925633   \n",
       "1                                 10.039245   \n",
       "2                                 10.070913   \n",
       "3                                  9.970366   \n",
       "4                                  9.925709   \n",
       "\n",
       "   secondary_cleaner.state.floatbank5_a_level  \\\n",
       "0                                 -498.310211   \n",
       "1                                 -500.169983   \n",
       "2                                 -500.129135   \n",
       "3                                 -499.201640   \n",
       "4                                 -501.686727   \n",
       "\n",
       "   secondary_cleaner.state.floatbank5_b_air  \\\n",
       "0                                  8.079666   \n",
       "1                                  7.984757   \n",
       "2                                  8.013877   \n",
       "3                                  7.977324   \n",
       "4                                  7.894242   \n",
       "\n",
       "   secondary_cleaner.state.floatbank5_b_level  \\\n",
       "0                                 -500.470978   \n",
       "1                                 -500.582168   \n",
       "2                                 -500.517572   \n",
       "3                                 -500.255908   \n",
       "4                                 -500.356035   \n",
       "\n",
       "   secondary_cleaner.state.floatbank6_a_air  \\\n",
       "0                                 14.151341   \n",
       "1                                 13.998353   \n",
       "2                                 14.028663   \n",
       "3                                 14.005551   \n",
       "4                                 13.996647   \n",
       "\n",
       "   secondary_cleaner.state.floatbank6_a_level  \n",
       "0                                 -605.841980  \n",
       "1                                 -599.787184  \n",
       "2                                 -601.427363  \n",
       "3                                 -599.996129  \n",
       "4                                 -601.496691  \n",
       "\n",
       "[5 rows x 87 columns]"
      ]
     },
     "execution_count": 6,
     "metadata": {},
     "output_type": "execute_result"
    }
   ],
   "source": [
    "full.head()"
   ]
  },
  {
   "cell_type": "markdown",
   "metadata": {},
   "source": [
    "Вывод: Данные загружены, в обучающей выборке 14149 объектов. В тестовой выборке 5290 обектов - достаточное количество для проведения исследования. В выборках присутствуют null значения, которые необходимо заполнить."
   ]
  },
  {
   "cell_type": "markdown",
   "metadata": {},
   "source": [
    "**Проверьте, что эффективность обогащения рассчитана правильно. Вычислите её на обучающей выборке для признака rougher.output.recovery. Найдите MAE между вашими расчётами и значением признака. Опишите выводы.**"
   ]
  },
  {
   "cell_type": "code",
   "execution_count": 7,
   "metadata": {},
   "outputs": [],
   "source": [
    "train['rougher.calculation.recovery'] = (\n",
    "   100 * (train['rougher.output.concentrate_au'] * (train['rougher.input.feed_au'] - train['rougher.output.tail_au'])) /\n",
    "    (train['rougher.input.feed_au']*(train['rougher.output.concentrate_au'] - train['rougher.output.tail_au']))\n",
    ")"
   ]
  },
  {
   "cell_type": "code",
   "execution_count": 8,
   "metadata": {
    "scrolled": true
   },
   "outputs": [
    {
     "data": {
      "text/plain": [
       "1.1100347049376097e-14"
      ]
     },
     "execution_count": 8,
     "metadata": {},
     "output_type": "execute_result"
    }
   ],
   "source": [
    "mean_absolute_error(train['rougher.output.recovery'], train['rougher.calculation.recovery'])"
   ]
  },
  {
   "cell_type": "markdown",
   "metadata": {},
   "source": [
    "Вывод: близкая к нулю ошибка показывает что эффективность обогащения rougher.output.recovery рассчитана правильно. "
   ]
  },
  {
   "cell_type": "markdown",
   "metadata": {},
   "source": [
    "**Проанализируйте признаки, недоступные в тестовой выборке. Что это за параметры? К какому типу относятся?**"
   ]
  },
  {
   "cell_type": "code",
   "execution_count": 9,
   "metadata": {
    "scrolled": true
   },
   "outputs": [],
   "source": [
    "features_missing_list = [x for x in train.columns if x not in test.columns]"
   ]
  },
  {
   "cell_type": "code",
   "execution_count": 10,
   "metadata": {},
   "outputs": [
    {
     "data": {
      "text/plain": [
       "['final.output.concentrate_ag',\n",
       " 'final.output.concentrate_pb',\n",
       " 'final.output.concentrate_sol',\n",
       " 'final.output.concentrate_au',\n",
       " 'final.output.recovery',\n",
       " 'final.output.tail_ag',\n",
       " 'final.output.tail_pb',\n",
       " 'final.output.tail_sol',\n",
       " 'final.output.tail_au',\n",
       " 'primary_cleaner.output.concentrate_ag',\n",
       " 'primary_cleaner.output.concentrate_pb',\n",
       " 'primary_cleaner.output.concentrate_sol',\n",
       " 'primary_cleaner.output.concentrate_au',\n",
       " 'primary_cleaner.output.tail_ag',\n",
       " 'primary_cleaner.output.tail_pb',\n",
       " 'primary_cleaner.output.tail_sol',\n",
       " 'primary_cleaner.output.tail_au',\n",
       " 'rougher.calculation.sulfate_to_au_concentrate',\n",
       " 'rougher.calculation.floatbank10_sulfate_to_au_feed',\n",
       " 'rougher.calculation.floatbank11_sulfate_to_au_feed',\n",
       " 'rougher.calculation.au_pb_ratio',\n",
       " 'rougher.output.concentrate_ag',\n",
       " 'rougher.output.concentrate_pb',\n",
       " 'rougher.output.concentrate_sol',\n",
       " 'rougher.output.concentrate_au',\n",
       " 'rougher.output.recovery',\n",
       " 'rougher.output.tail_ag',\n",
       " 'rougher.output.tail_pb',\n",
       " 'rougher.output.tail_sol',\n",
       " 'rougher.output.tail_au',\n",
       " 'secondary_cleaner.output.tail_ag',\n",
       " 'secondary_cleaner.output.tail_pb',\n",
       " 'secondary_cleaner.output.tail_sol',\n",
       " 'secondary_cleaner.output.tail_au',\n",
       " 'rougher.calculation.recovery']"
      ]
     },
     "execution_count": 10,
     "metadata": {},
     "output_type": "execute_result"
    }
   ],
   "source": [
    "features_missing_list"
   ]
  },
  {
   "cell_type": "markdown",
   "metadata": {},
   "source": [
    "Вывод: В тестовой выборке не доступны выходные параметры, которые измеряются после каждого технологического процесса очистки: концентрация полезных металлов и «отвальные хвосты», то есть остатки продукта с низкой концентрацией ценных металлов, а также расчитанные на их базе параметры. Очевидно что  \"production\" модели будут недоступны данные измерения на этапе предсказания, и она должна быть обучена без этих признаков. Также отсутствуют целевые признаки final.output.recovery и rougher.output.recovery."
   ]
  },
  {
   "cell_type": "markdown",
   "metadata": {},
   "source": [
    "**Проведите предобработку данных.**\n",
    "На данном этапе избавимся от null значений в выборках:"
   ]
  },
  {
   "cell_type": "code",
   "execution_count": 11,
   "metadata": {
    "scrolled": true
   },
   "outputs": [
    {
     "data": {
      "text/plain": [
       "primary_cleaner.input.sulfate                4\n",
       "primary_cleaner.input.depressant             5\n",
       "primary_cleaner.input.xanthate               4\n",
       "rougher.input.feed_rate                      3\n",
       "rougher.input.feed_size                      1\n",
       "rougher.input.feed_sol                      21\n",
       "rougher.input.floatbank10_sulfate            5\n",
       "rougher.input.floatbank11_sulfate            8\n",
       "rougher.input.floatbank11_xanthate          25\n",
       "secondary_cleaner.state.floatbank2_a_air     3\n",
       "secondary_cleaner.state.floatbank2_b_air     2\n",
       "secondary_cleaner.state.floatbank3_a_air     9\n",
       "dtype: int64"
      ]
     },
     "execution_count": 11,
     "metadata": {},
     "output_type": "execute_result"
    }
   ],
   "source": [
    "test.isna().sum()[test.isna().sum()>0]"
   ]
  },
  {
   "cell_type": "code",
   "execution_count": 12,
   "metadata": {},
   "outputs": [
    {
     "data": {
      "text/plain": [
       "final.output.concentrate_ag                     1\n",
       "final.output.concentrate_pb                     1\n",
       "final.output.concentrate_sol                  211\n",
       "final.output.tail_pb                          100\n",
       "final.output.tail_sol                           5\n",
       "                                             ... \n",
       "secondary_cleaner.state.floatbank5_a_level      1\n",
       "secondary_cleaner.state.floatbank5_b_air        1\n",
       "secondary_cleaner.state.floatbank5_b_level      1\n",
       "secondary_cleaner.state.floatbank6_a_air        2\n",
       "secondary_cleaner.state.floatbank6_a_level      1\n",
       "Length: 62, dtype: int64"
      ]
     },
     "execution_count": 12,
     "metadata": {},
     "output_type": "execute_result"
    }
   ],
   "source": [
    "train.isna().sum()[train.isna().sum()>0]"
   ]
  },
  {
   "cell_type": "markdown",
   "metadata": {},
   "source": [
    "Для замены нулей в тестовой выборке, проверим наличие нулей в  полной выборке для соответствующих столбцов. Если в полной выборке значения отличаются, возмем их для замены нулей в тестовой выборке, если значения идентичны, заменим нули в тестовой выборке средними значениями параметра из полной выборки."
   ]
  },
  {
   "cell_type": "code",
   "execution_count": 13,
   "metadata": {
    "scrolled": true
   },
   "outputs": [
    {
     "data": {
      "text/plain": [
       "primary_cleaner.input.sulfate                4\n",
       "primary_cleaner.input.depressant             5\n",
       "primary_cleaner.input.xanthate               4\n",
       "rougher.input.feed_rate                      3\n",
       "rougher.input.feed_size                      1\n",
       "rougher.input.feed_sol                      21\n",
       "rougher.input.floatbank10_sulfate            5\n",
       "rougher.input.floatbank11_sulfate            8\n",
       "rougher.input.floatbank11_xanthate          25\n",
       "secondary_cleaner.state.floatbank2_a_air     3\n",
       "secondary_cleaner.state.floatbank2_b_air     2\n",
       "secondary_cleaner.state.floatbank3_a_air     9\n",
       "dtype: int64"
      ]
     },
     "execution_count": 13,
     "metadata": {},
     "output_type": "execute_result"
    }
   ],
   "source": [
    "full.query('date in @test.date')[test.columns].isna().sum()[full.query('date in @test.date')[test.columns].isna().sum()>0]"
   ]
  },
  {
   "cell_type": "markdown",
   "metadata": {},
   "source": [
    "Значения нулей в тестовой и полной выборках совпадают, следовательно нули образовались до этапа разделения полной выборки на тестовую и обучающую. Заменим нулевые значения в тестовой и обучающей выборках средним по признаку полной выборки:"
   ]
  },
  {
   "cell_type": "code",
   "execution_count": 14,
   "metadata": {},
   "outputs": [],
   "source": [
    "samples = [test, train]\n",
    "for sample in samples:\n",
    "    columns = sample.isna().sum()[sample.isna().sum()>0].index\n",
    "    for column in columns:\n",
    "        sample[column] = sample[column].fillna(full[column].mean())"
   ]
  },
  {
   "cell_type": "code",
   "execution_count": 15,
   "metadata": {},
   "outputs": [
    {
     "data": {
      "text/plain": [
       "Series([], dtype: int64)"
      ]
     },
     "execution_count": 15,
     "metadata": {},
     "output_type": "execute_result"
    }
   ],
   "source": [
    "test.isna().sum()[test.isna().sum()>0]"
   ]
  },
  {
   "cell_type": "code",
   "execution_count": 16,
   "metadata": {},
   "outputs": [
    {
     "data": {
      "text/plain": [
       "Series([], dtype: int64)"
      ]
     },
     "execution_count": 16,
     "metadata": {},
     "output_type": "execute_result"
    }
   ],
   "source": [
    "train.isna().sum()[train.isna().sum()>0]"
   ]
  },
  {
   "cell_type": "markdown",
   "metadata": {},
   "source": [
    "Вывод: Нулевые значения заменены средними по признаку."
   ]
  },
  {
   "cell_type": "markdown",
   "metadata": {},
   "source": [
    "**Вывод по этапу 1**\n",
    "\n",
    "Данные подготовлены для дальнейшего анализа и построения модели. Эффективность обогащения rougher.output.recovery рассчитана правильно. Обучать модель можно только на тех признаках, которые есть в тестовой выборке, так как только они будут доступны в рабочей модели. "
   ]
  },
  {
   "cell_type": "markdown",
   "metadata": {},
   "source": [
    "## Анализ данных"
   ]
  },
  {
   "cell_type": "markdown",
   "metadata": {},
   "source": [
    "На данном этапе выполняем следующие исследования: \n",
    "\n",
    "2.1. Посмотрите, как меняется концентрация металлов (Au, Ag, Pb) на различных этапах очистки. Опишите выводы.<br>\n",
    "2.2. Сравните распределения размеров гранул сырья на обучающей и тестовой выборках. Если распределения сильно отличаются друг от друга, оценка модели будет неправильной.<br>\n",
    "2.3. Исследуйте суммарную концентрацию всех веществ на разных стадиях: в сырье, в черновом и финальном концентратах.<br>"
   ]
  },
  {
   "cell_type": "markdown",
   "metadata": {},
   "source": [
    "**Посмотрите, как меняется концентрация металлов (Au, Ag, Pb) на различных этапах очистки. Опишите выводы.**"
   ]
  },
  {
   "cell_type": "code",
   "execution_count": 17,
   "metadata": {
    "scrolled": true
   },
   "outputs": [
    {
     "data": {
      "text/plain": [
       "<function matplotlib.pyplot.show(*args, **kw)>"
      ]
     },
     "execution_count": 17,
     "metadata": {},
     "output_type": "execute_result"
    },
    {
     "data": {
      "image/png": "[encoded data removed]",
      "text/plain": [
       "<Figure size 1080x504 with 3 Axes>"
      ]
     },
     "metadata": {
      "needs_background": "light"
     },
     "output_type": "display_data"
    }
   ],
   "source": [
    "fig = plt.figure()\n",
    "ax_1 = fig.add_subplot(1, 3, 1)\n",
    "full['rougher.output.concentrate_ag'].hist(alpha=0.75)\n",
    "full['primary_cleaner.output.concentrate_ag'].hist(alpha=0.75)\n",
    "full['final.output.concentrate_ag'].hist(alpha=0.75)\n",
    "ax_2 = fig.add_subplot(1, 3, 2)\n",
    "full['rougher.output.concentrate_pb'].hist(alpha=0.75)\n",
    "full['primary_cleaner.output.concentrate_pb'].hist(alpha=0.75)\n",
    "full['final.output.concentrate_pb'].hist(alpha=0.75)\n",
    "ax_3 = fig.add_subplot(1, 3, 3)\n",
    "full['rougher.output.concentrate_au'].hist(alpha=0.75)\n",
    "full['primary_cleaner.output.concentrate_au'].hist(alpha=0.75)\n",
    "full['final.output.concentrate_au'].hist(alpha=0.75)        \n",
    "ax_1.set_title('concentrate_ag')\n",
    "ax_1.legend(['rougher', 'primary', 'final'])\n",
    "ax_2.set_title('concentrate_pb')\n",
    "ax_2.legend(['rougher', 'primary', 'final'])\n",
    "ax_3.set_title('concentrate_au')\n",
    "ax_3.legend(['rougher', 'primary', 'final'])\n",
    "fig.set_figwidth(15)\n",
    "fig.set_figheight(7)\n",
    "plt.show"
   ]
  },
  {
   "cell_type": "code",
   "execution_count": 18,
   "metadata": {
    "scrolled": true
   },
   "outputs": [
    {
     "data": {
      "text/plain": [
       "rougher.output.concentrate_ag            11.994759\n",
       "primary_cleaner.output.concentrate_ag     8.442408\n",
       "final.output.concentrate_ag               5.168470\n",
       "dtype: float64"
      ]
     },
     "execution_count": 18,
     "metadata": {},
     "output_type": "execute_result"
    }
   ],
   "source": [
    "full[['rougher.output.concentrate_ag', 'primary_cleaner.output.concentrate_ag', 'final.output.concentrate_ag']].mean()"
   ]
  },
  {
   "cell_type": "code",
   "execution_count": 19,
   "metadata": {},
   "outputs": [
    {
     "data": {
      "text/plain": [
       "rougher.output.concentrate_pb            7.606272\n",
       "primary_cleaner.output.concentrate_pb    9.829530\n",
       "final.output.concentrate_pb              9.978895\n",
       "dtype: float64"
      ]
     },
     "execution_count": 19,
     "metadata": {},
     "output_type": "execute_result"
    }
   ],
   "source": [
    "full[['rougher.output.concentrate_pb', 'primary_cleaner.output.concentrate_pb', 'final.output.concentrate_pb']].mean()"
   ]
  },
  {
   "cell_type": "code",
   "execution_count": 20,
   "metadata": {
    "scrolled": true
   },
   "outputs": [
    {
     "data": {
      "text/plain": [
       "rougher.output.concentrate_au            19.772000\n",
       "primary_cleaner.output.concentrate_au    32.119400\n",
       "final.output.concentrate_au              44.076513\n",
       "dtype: float64"
      ]
     },
     "execution_count": 20,
     "metadata": {},
     "output_type": "execute_result"
    }
   ],
   "source": [
    "full[['rougher.output.concentrate_au', 'primary_cleaner.output.concentrate_au', 'final.output.concentrate_au']].mean()"
   ]
  },
  {
   "cell_type": "markdown",
   "metadata": {},
   "source": [
    "Вывод: На различных этапах очистки концентрация меняется следующим образом:\n",
    "- au: на этапе флотации среднее значение 19.8, на этапе первой очистки - 32.1, на этапе второй очистки - 44.1\n",
    "- ag: на этапе флотации среднее значение 12, на этапе первой очистки - 8.4, на этапе второй очистки - 5.2\n",
    "- pb: на этапе флотации среднее значение 7.6, на этапе первой очистки - 9.8, на этапе второй очистки - 9.9\n",
    "\n",
    "Наблюдаем что по мере прохождения этапов очистки концентрация золота растет, концентрация серебра уменьшается, а концентрация свинца - уменьшается на этапе флотации и дальше не меняется. \n",
    "\n"
   ]
  },
  {
   "cell_type": "markdown",
   "metadata": {},
   "source": [
    "**Сравните распределения размеров гранул сырья на обучающей и тестовой выборках. Если распределения сильно отличаются друг от друга, оценка модели будет неправильной.**"
   ]
  },
  {
   "cell_type": "code",
   "execution_count": 21,
   "metadata": {
    "scrolled": true
   },
   "outputs": [
    {
     "data": {
      "text/plain": [
       "<function matplotlib.pyplot.show(*args, **kw)>"
      ]
     },
     "execution_count": 21,
     "metadata": {},
     "output_type": "execute_result"
    },
    {
     "data": {
      "image/png": "[encoded data removed]",
      "text/plain": [
       "<Figure size 1080x504 with 1 Axes>"
      ]
     },
     "metadata": {
      "needs_background": "light"
     },
     "output_type": "display_data"
    }
   ],
   "source": [
    "fig = plt.figure()\n",
    "ax_1 = fig.add_subplot()\n",
    "\n",
    "train['rougher.input.feed_size'].hist(alpha=0.75)\n",
    "test['rougher.input.feed_size'].hist(alpha=0.75)\n",
    "       \n",
    "ax_1.set_title('feed_size')\n",
    "ax_1.legend(['train', 'test'])\n",
    "\n",
    "fig.set_figwidth(15)\n",
    "fig.set_figheight(7)\n",
    "plt.show"
   ]
  },
  {
   "cell_type": "markdown",
   "metadata": {},
   "source": [
    "Вывод:  Распределения размеров гранул сырья на обучающей и тестовой выборках сопоставимы, адекватная оценка модели возможна"
   ]
  },
  {
   "cell_type": "markdown",
   "metadata": {},
   "source": [
    "**Исследуйте суммарную концентрацию всех веществ на разных стадиях: в сырье, в черновом и финальном концентратах.**"
   ]
  },
  {
   "cell_type": "code",
   "execution_count": 22,
   "metadata": {},
   "outputs": [],
   "source": [
    "full['rougher.input.concentrate_all'] = (full['rougher.input.feed_ag'] + full['rougher.input.feed_au']\n",
    "                                         + full['rougher.input.feed_pb'] + full['rougher.input.feed_sol'])\n",
    "\n",
    "full['rougher.output.concentrate_all'] = (full['rougher.output.concentrate_ag'] + full['rougher.output.concentrate_au']\n",
    "                                          + full['rougher.output.concentrate_pb'] + full['rougher.output.concentrate_sol'])\n",
    "\n",
    "full['primary_cleaner.output.concentrate_all'] = (full['primary_cleaner.output.concentrate_ag'] + full['primary_cleaner.output.concentrate_au']\n",
    "                                          + full['primary_cleaner.output.concentrate_pb'] + full['primary_cleaner.output.concentrate_sol'])\n",
    "\n",
    "full['final.output.concentrate_all'] = (full['final.output.concentrate_ag'] + full['final.output.concentrate_au']\n",
    "                                          + full['final.output.concentrate_pb'] + full['final.output.concentrate_sol'])"
   ]
  },
  {
   "cell_type": "code",
   "execution_count": 23,
   "metadata": {},
   "outputs": [
    {
     "data": {
      "image/png": "[encoded data removed]",
      "text/plain": [
       "<Figure size 1080x576 with 2 Axes>"
      ]
     },
     "metadata": {
      "needs_background": "light"
     },
     "output_type": "display_data"
    },
    {
     "data": {
      "image/png": "[encoded data removed]",
      "text/plain": [
       "<Figure size 1080x576 with 2 Axes>"
      ]
     },
     "metadata": {
      "needs_background": "light"
     },
     "output_type": "display_data"
    },
    {
     "data": {
      "image/png": "[encoded data removed]",
      "text/plain": [
       "<Figure size 1080x576 with 2 Axes>"
      ]
     },
     "metadata": {
      "needs_background": "light"
     },
     "output_type": "display_data"
    },
    {
     "data": {
      "image/png": "[encoded data removed]",
      "text/plain": [
       "<Figure size 1080x576 with 2 Axes>"
      ]
     },
     "metadata": {
      "needs_background": "light"
     },
     "output_type": "display_data"
    }
   ],
   "source": [
    "columns = (['rougher.input.concentrate_all', 'rougher.output.concentrate_all', \n",
    "            'primary_cleaner.output.concentrate_all', 'final.output.concentrate_all'])\n",
    "for column in columns:\n",
    "    fig = plt.figure()\n",
    "    ax_1 = fig.add_subplot(1, 2, 1)\n",
    "    full[column].hist()\n",
    "    ax_2 = fig.add_subplot(1, 2, 2)\n",
    "    full.boxplot(column=column)\n",
    "    ax_1.set_title(f'Распределение {column}')\n",
    "    ax_2.set_title(f'Ящик с усами {column}')\n",
    "    fig.set_figwidth(15)\n",
    "    fig.set_figheight(8)\n",
    "    plt.show"
   ]
  },
  {
   "cell_type": "markdown",
   "metadata": {},
   "source": [
    "Вывод: в данных присутстуют аномальные значения. Суммарная концентрация всех перечисленных веществ не может равняться нули ни на каком из этапов. Не могли же все эти вещества исчезнуть. Значит измерения с нулевой суммарной концентрацией - это какие-то сбои в сборе данных. То есть это мусор. Необходимо удалить такие данные из тестовой и обучающей выборки."
   ]
  },
  {
   "cell_type": "code",
   "execution_count": 24,
   "metadata": {},
   "outputs": [],
   "source": [
    "garbage = (full[(full['rougher.input.concentrate_all'] == 0) | (full['rougher.output.concentrate_all'] == 0) | \n",
    "               (full['primary_cleaner.output.concentrate_all']== 0) | (full['final.output.concentrate_all'] == 0)])"
   ]
  },
  {
   "cell_type": "code",
   "execution_count": 25,
   "metadata": {},
   "outputs": [],
   "source": [
    "train = train.drop(train.query('date in @garbage.date').index.values) "
   ]
  },
  {
   "cell_type": "code",
   "execution_count": 26,
   "metadata": {},
   "outputs": [],
   "source": [
    "test = test.drop(test.query('date in @garbage.date').index.values)"
   ]
  },
  {
   "cell_type": "markdown",
   "metadata": {},
   "source": [
    "**Вывод по этапу 2**\n",
    "1. Наблюдаем что по мере прохождения этапов очистки концентрация золота растет, концентрация серебра уменьшается, а концентрация свинца - уменьшается на этапе флотации и дальше не меняется.\n",
    "2. Распределения размеров гранул сырья на обучающей и тестовой выборках сопоставимы, адекватная оценка модели возможна\n",
    "3. В данных присутстовали аномальные значения. Суммарная концентрация всех перечисленных веществ не может равняться нули ни на каком из этапов. Такие объекты были удалены из тестовой и обучающей выборках."
   ]
  },
  {
   "cell_type": "markdown",
   "metadata": {},
   "source": [
    "## Модель"
   ]
  },
  {
   "cell_type": "markdown",
   "metadata": {},
   "source": [
    "На данном этапе выполняются следующие шаги:\n",
    "- 3.1. Напишите функцию для вычисления итоговой sMAPE.\n",
    "- 3.2. Обучите разные модели и оцените их качество кросс-валидацией. Выберите лучшую модель и проверьте её на тестовой выборке. Опишите выводы."
   ]
  },
  {
   "cell_type": "markdown",
   "metadata": {},
   "source": [
    "**Напишите функцию для вычисления итоговой sMAPE.**"
   ]
  },
  {
   "cell_type": "code",
   "execution_count": 27,
   "metadata": {},
   "outputs": [],
   "source": [
    "def smape_count_full(taget_rouger, probabilities_rouger,taget_final, probabilities_final):\n",
    "    smape_rouger = np.mean(100*abs(taget_rouger - probabilities_rouger)/((abs(taget_rouger) + abs(probabilities_rouger))/2))\n",
    "    smape_final = np.mean(100*abs(taget_final - probabilities_final)/((abs(taget_final) + abs(probabilities_final))/2))\n",
    "    return 0.25*smape_rouger + 0.75*smape_final"
   ]
  },
  {
   "cell_type": "code",
   "execution_count": 28,
   "metadata": {},
   "outputs": [],
   "source": [
    "def smape_count(taget, probabilities):\n",
    "    return np.mean(100*abs(taget - probabilities)/((abs(taget) + abs(probabilities))/2))"
   ]
  },
  {
   "cell_type": "code",
   "execution_count": 29,
   "metadata": {},
   "outputs": [],
   "source": [
    "smap_score = make_scorer(smape_count, greater_is_better=False)"
   ]
  },
  {
   "cell_type": "markdown",
   "metadata": {},
   "source": [
    "**Обучите разные модели и оцените их качество кросс-валидацией. Выберите лучшую модель и проверьте её на тестовой выборке. Опишите выводы.**"
   ]
  },
  {
   "cell_type": "markdown",
   "metadata": {},
   "source": [
    "Для обучения модели а этапе предсказания rougher, необходимо использовать признаки относящиеся к этому этапу. На этапе final будем использовать все признаки. "
   ]
  },
  {
   "cell_type": "code",
   "execution_count": 30,
   "metadata": {},
   "outputs": [],
   "source": [
    "features_final_train = train[test.columns].drop(columns='date')\n",
    "target_rougher_train = train['rougher.output.recovery']\n",
    "target_final_train = train['final.output.recovery']\n",
    "features_rougher_train = features_final_train[[x for x in features_final_train.columns if 'rougher' in x]]"
   ]
  },
  {
   "cell_type": "markdown",
   "metadata": {},
   "source": [
    "Для оценки аекватности модели найдем значение метрики sMAPE для DummyRegressor"
   ]
  },
  {
   "cell_type": "code",
   "execution_count": 31,
   "metadata": {
    "scrolled": true
   },
   "outputs": [],
   "source": [
    "dummy = DummyRegressor(strategy=\"mean\")\n",
    "predict_rougher = dummy.fit(features_rougher_train, target_rougher_train).predict(features_rougher_train)\n",
    "predict_final = dummy.fit(features_final_train, target_final_train).predict(features_final_train)"
   ]
  },
  {
   "cell_type": "code",
   "execution_count": 32,
   "metadata": {
    "scrolled": true
   },
   "outputs": [
    {
     "data": {
      "text/plain": [
       "9.486609457738226"
      ]
     },
     "execution_count": 32,
     "metadata": {},
     "output_type": "execute_result"
    }
   ],
   "source": [
    "smape_count_full (target_rougher_train, predict_rougher, target_final_train, predict_final)"
   ]
  },
  {
   "cell_type": "markdown",
   "metadata": {},
   "source": [
    "Подбор лучших параметров для моделей DecisionTreeRegressor"
   ]
  },
  {
   "cell_type": "code",
   "execution_count": 33,
   "metadata": {},
   "outputs": [
    {
     "name": "stderr",
     "output_type": "stream",
     "text": [
      "/opt/conda/lib/python3.7/site-packages/sklearn/model_selection/_split.py:1978: FutureWarning: The default value of cv will change from 3 to 5 in version 0.22. Specify it explicitly to silence this warning.\n",
      "  warnings.warn(CV_WARNING, FutureWarning)\n"
     ]
    },
    {
     "data": {
      "text/plain": [
       "{'max_depth': 5}"
      ]
     },
     "execution_count": 33,
     "metadata": {},
     "output_type": "execute_result"
    }
   ],
   "source": [
    "(GridSearchCV(estimator=DecisionTreeRegressor(), param_grid={'max_depth': [1, 5, 10, 15, 20, 25, 30]},scoring=smap_score)\n",
    " .fit(features_rougher_train, target_rougher_train).best_params_)"
   ]
  },
  {
   "cell_type": "code",
   "execution_count": 34,
   "metadata": {},
   "outputs": [
    {
     "name": "stderr",
     "output_type": "stream",
     "text": [
      "/opt/conda/lib/python3.7/site-packages/sklearn/model_selection/_split.py:1978: FutureWarning: The default value of cv will change from 3 to 5 in version 0.22. Specify it explicitly to silence this warning.\n",
      "  warnings.warn(CV_WARNING, FutureWarning)\n"
     ]
    },
    {
     "data": {
      "text/plain": [
       "{'max_depth': 1}"
      ]
     },
     "execution_count": 34,
     "metadata": {},
     "output_type": "execute_result"
    }
   ],
   "source": [
    "(GridSearchCV(estimator=DecisionTreeRegressor(), param_grid={'max_depth': [1, 5, 10, 15, 20, 25, 30]},scoring=smap_score)\n",
    " .fit(features_final_train, target_final_train).best_params_)"
   ]
  },
  {
   "cell_type": "markdown",
   "metadata": {},
   "source": [
    "- Для модели DecisionTreeRegressor предсказывающей sMAPE на этапе флотации - наилучший параметр max_depth = 5\n",
    "- Для модели DecisionTreeRegressor предсказывающей sMAPE на этапе финальной очистки - наилучший параметр max_depth = 1"
   ]
  },
  {
   "cell_type": "markdown",
   "metadata": {},
   "source": [
    "Подбор лучших параметров для моделей RandomForestRegressor"
   ]
  },
  {
   "cell_type": "code",
   "execution_count": 35,
   "metadata": {},
   "outputs": [
    {
     "name": "stderr",
     "output_type": "stream",
     "text": [
      "/opt/conda/lib/python3.7/site-packages/sklearn/model_selection/_split.py:1978: FutureWarning: The default value of cv will change from 3 to 5 in version 0.22. Specify it explicitly to silence this warning.\n",
      "  warnings.warn(CV_WARNING, FutureWarning)\n"
     ]
    },
    {
     "data": {
      "text/plain": [
       "{'max_depth': 5, 'n_estimators': 100}"
      ]
     },
     "execution_count": 35,
     "metadata": {},
     "output_type": "execute_result"
    }
   ],
   "source": [
    "(GridSearchCV(estimator=RandomForestRegressor(), param_grid={'max_depth': [1, 5, 10], 'n_estimators':[100, 200, 300]}\n",
    "              ,scoring=smap_score).fit(features_rougher_train, target_rougher_train).best_params_)"
   ]
  },
  {
   "cell_type": "code",
   "execution_count": 36,
   "metadata": {
    "scrolled": false
   },
   "outputs": [
    {
     "name": "stderr",
     "output_type": "stream",
     "text": [
      "/opt/conda/lib/python3.7/site-packages/sklearn/model_selection/_split.py:1978: FutureWarning: The default value of cv will change from 3 to 5 in version 0.22. Specify it explicitly to silence this warning.\n",
      "  warnings.warn(CV_WARNING, FutureWarning)\n"
     ]
    },
    {
     "data": {
      "text/plain": [
       "{'max_depth': 1, 'n_estimators': 100}"
      ]
     },
     "execution_count": 36,
     "metadata": {},
     "output_type": "execute_result"
    }
   ],
   "source": [
    "(GridSearchCV(estimator=RandomForestRegressor(), param_grid={'max_depth': [1, 5, 10], 'n_estimators':[100, 200, 300]}\n",
    "              ,scoring=smap_score).fit(features_final_train, target_final_train).best_params_)"
   ]
  },
  {
   "cell_type": "markdown",
   "metadata": {},
   "source": [
    "- Для модели RandomForestRegressor() предсказывающей sMAPE на этапе флотации - наилучшие параметры max_depth = 5, n_estimators = 100\n",
    "- Для модели RandomForestRegressor() предсказывающей sMAPE на этапе финальной очистки - наилучшие параметры max_depth = 1, n_estimators = 100"
   ]
  },
  {
   "cell_type": "code",
   "execution_count": 37,
   "metadata": {
    "scrolled": true
   },
   "outputs": [
    {
     "name": "stdout",
     "output_type": "stream",
     "text": [
      "LinearRegression(copy_X=True, fit_intercept=True, n_jobs=None, normalize=False)\n",
      "sMAPE этап Флотации: 6.685192436426763\n",
      "sMAPE этап Финальной очистки: 11.211911023172869\n",
      "Итоговый sMAPE 10.080231376486342\n",
      "\n",
      "DecisionTreeRegressor(criterion='mse', max_depth=5, max_features=None,\n",
      "                      max_leaf_nodes=None, min_impurity_decrease=0.0,\n",
      "                      min_impurity_split=None, min_samples_leaf=1,\n",
      "                      min_samples_split=2, min_weight_fraction_leaf=0.0,\n",
      "                      presort=False, random_state=None, splitter='best')\n",
      "sMAPE этап Флотации: 7.994771923784766\n",
      "sMAPE этап Финальной очистки: 9.929769782920664\n",
      "Итоговый sMAPE 9.44602031813669\n",
      "\n",
      "RandomForestRegressor(bootstrap=True, criterion='mse', max_depth=200,\n",
      "                      max_features='auto', max_leaf_nodes=None,\n",
      "                      min_impurity_decrease=0.0, min_impurity_split=None,\n",
      "                      min_samples_leaf=1, min_samples_split=2,\n",
      "                      min_weight_fraction_leaf=0.0, n_estimators=5, n_jobs=None,\n",
      "                      oob_score=False, random_state=None, verbose=0,\n",
      "                      warm_start=False)\n",
      "sMAPE этап Флотации: 7.4381626960720215\n",
      "sMAPE этап Финальной очистки: 11.52551019508459\n",
      "Итоговый sMAPE 10.50367332033145\n",
      "\n"
     ]
    }
   ],
   "source": [
    "models = [LinearRegression(), DecisionTreeRegressor(max_depth=5), RandomForestRegressor(n_estimators=100, max_depth=5)]\n",
    "for model in models:\n",
    "    smape_rouger = -1*cross_val_score(model, features_rougher_train, target_rougher_train, cv=5, scoring=smap_score)\n",
    "    smape_final = -1*cross_val_score(model, features_final_train, target_final_train, cv=5, scoring=smap_score)\n",
    "    print(model)\n",
    "    print(f'sMAPE этап Флотации: {np.mean(smape_rouger)}')\n",
    "    print(f'sMAPE этап Финальной очистки: {np.mean(smape_final)}')\n",
    "    print(f'Итоговый sMAPE {np.mean(0.25*smape_rouger + 0.75*smape_final)}')\n",
    "    print()"
   ]
  },
  {
   "cell_type": "markdown",
   "metadata": {},
   "source": [
    "Вывод по 3-му этапу:\n",
    "1. Написана функция для вычисления итоговой sMAPE. Создан критерий оценки моделей smap_score\n",
    "2. модель DummyRegressor, при формировании предсказаний стандартным значением mean показала результат sMAPE = 9.49. Необходимо подобрать наилучшую модель с параметром sMAPE ниже данного значения.\n",
    "3. Рассмотрены 3 модели, показавшие следующие результаты:\n",
    "- LinearRegression - sMAPE = 10.08\n",
    "- DecisionTreeRegressor - sMAPE = 9.44\n",
    "- RandomForestRegressor -  sMAPE = 10.5\n",
    "\n",
    "Таким образом, наилучшей моделью для предсказания является DecisionTreeRegressor"
   ]
  },
  {
   "cell_type": "markdown",
   "metadata": {},
   "source": [
    "**Вычислим  sMAPE для тестовой выборки:**"
   ]
  },
  {
   "cell_type": "code",
   "execution_count": 38,
   "metadata": {},
   "outputs": [],
   "source": [
    "smap_score_final = make_scorer(smape_count_full, greater_is_better=False)"
   ]
  },
  {
   "cell_type": "code",
   "execution_count": 40,
   "metadata": {},
   "outputs": [],
   "source": [
    "features_test = test.drop(columns='date')\n",
    "target_test = full.query('date in @test.date')[['rougher.output.recovery','final.output.recovery']]"
   ]
  },
  {
   "cell_type": "code",
   "execution_count": 44,
   "metadata": {},
   "outputs": [
    {
     "name": "stdout",
     "output_type": "stream",
     "text": [
      "<class 'pandas.core.frame.DataFrame'>\n",
      "Int64Index: 5123 entries, 4682 to 15059\n",
      "Data columns (total 2 columns):\n",
      "rougher.output.recovery    5123 non-null float64\n",
      "final.output.recovery      5123 non-null float64\n",
      "dtypes: float64(2)\n",
      "memory usage: 120.1 KB\n"
     ]
    }
   ],
   "source": [
    "target_test.info()"
   ]
  },
  {
   "cell_type": "code",
   "execution_count": 43,
   "metadata": {
    "scrolled": true
   },
   "outputs": [
    {
     "ename": "TypeError",
     "evalue": "predict() missing 1 required positional argument: 'X'",
     "output_type": "error",
     "traceback": [
      "\u001b[0;31m---------------------------------------------------------------------------\u001b[0m",
      "\u001b[0;31mTypeError\u001b[0m                                 Traceback (most recent call last)",
      "\u001b[0;32m<ipython-input-43-1f0f2c5a8858>\u001b[0m in \u001b[0;36m<module>\u001b[0;34m\u001b[0m\n\u001b[0;32m----> 1\u001b[0;31m \u001b[0mDecisionTreeRegressor\u001b[0m\u001b[0;34m(\u001b[0m\u001b[0;34m)\u001b[0m\u001b[0;34m.\u001b[0m\u001b[0mfit\u001b[0m\u001b[0;34m(\u001b[0m\u001b[0mfeatures_test\u001b[0m\u001b[0;34m,\u001b[0m\u001b[0mtarget_test\u001b[0m\u001b[0;34m)\u001b[0m\u001b[0;34m.\u001b[0m\u001b[0mpredict\u001b[0m\u001b[0;34m(\u001b[0m\u001b[0;34m)\u001b[0m\u001b[0;34m\u001b[0m\u001b[0;34m\u001b[0m\u001b[0m\n\u001b[0m",
      "\u001b[0;31mTypeError\u001b[0m: predict() missing 1 required positional argument: 'X'"
     ]
    }
   ],
   "source": [
    "DecisionTreeRegressor().fit(features_test,target_test).predict()"
   ]
  },
  {
   "cell_type": "code",
   "execution_count": 49,
   "metadata": {},
   "outputs": [],
   "source": [
    "features_final_test = test.drop(columns='date')\n",
    "target_final_test = full.query('date in @test.date')['final.output.recovery']\n",
    "features_rougher_test = features_final_test[[x for x in features_final_train.columns if 'rougher' in x]]\n",
    "target_rougher_test = full.query('date in @test.date')['rougher.output.recovery']"
   ]
  },
  {
   "cell_type": "code",
   "execution_count": 50,
   "metadata": {
    "scrolled": false
   },
   "outputs": [
    {
     "data": {
      "text/plain": [
       "{'max_depth': 5}"
      ]
     },
     "execution_count": 50,
     "metadata": {},
     "output_type": "execute_result"
    }
   ],
   "source": [
    "(GridSearchCV(estimator=DecisionTreeRegressor(), param_grid={'max_depth': [1, 5, 10, 15, 20, 25, 30]},scoring=smap_score)\n",
    " .fit(features_rougher_test, target_rougher_test).best_params_)"
   ]
  },
  {
   "cell_type": "code",
   "execution_count": 52,
   "metadata": {
    "scrolled": true
   },
   "outputs": [
    {
     "name": "stderr",
     "output_type": "stream",
     "text": [
      "/opt/conda/lib/python3.7/site-packages/sklearn/model_selection/_split.py:1978: FutureWarning: The default value of cv will change from 3 to 5 in version 0.22. Specify it explicitly to silence this warning.\n",
      "  warnings.warn(CV_WARNING, FutureWarning)\n"
     ]
    },
    {
     "data": {
      "text/plain": [
       "{'max_depth': 1}"
      ]
     },
     "execution_count": 52,
     "metadata": {},
     "output_type": "execute_result"
    }
   ],
   "source": [
    "(GridSearchCV(estimator=DecisionTreeRegressor(), param_grid={'max_depth': [1, 5, 10, 15, 20, 25, 30]},scoring=smap_score)\n",
    " .fit(features_final_test, target_final_test).best_params_)"
   ]
  },
  {
   "cell_type": "code",
   "execution_count": 58,
   "metadata": {
    "scrolled": false
   },
   "outputs": [
    {
     "name": "stdout",
     "output_type": "stream",
     "text": [
      "sMAPE этап Флотации: 4.9388507721976875\n",
      "sMAPE этап Финальной очистки: 7.730284260910492\n",
      "Итоговый sMAPE 7.0324258887322895\n"
     ]
    }
   ],
   "source": [
    "model_rougher = DecisionTreeRegressor(max_depth = 5)\n",
    "model_final = DecisionTreeRegressor(max_depth = 1)\n",
    "\n",
    "smape_rouger = -1*cross_val_score(model_rougher, features_rougher_test, target_rougher_test, cv=5, scoring=smap_score)\n",
    "smape_final = -1*cross_val_score(model_final, features_final_test, target_final_test, cv=5, scoring=smap_score)\n",
    "\n",
    "print(f'sMAPE этап Флотации: {np.mean(smape_rouger)}')\n",
    "print(f'sMAPE этап Финальной очистки: {np.mean(smape_final)}')\n",
    "print(f'Итоговый sMAPE {np.mean(0.25*smape_rouger + 0.75*smape_final)}')\n"
   ]
  },
  {
   "cell_type": "code",
   "execution_count": 59,
   "metadata": {},
   "outputs": [
    {
     "name": "stdout",
     "output_type": "stream",
     "text": [
      "sMAPE этап Флотации: 4.672008944209935\n",
      "sMAPE этап Финальной очистки: 8.636420937471062\n",
      "Итоговый sMAPE 7.645317939155779\n"
     ]
    }
   ],
   "source": [
    "model_rougher = LinearRegression()\n",
    "model_final = LinearRegression()\n",
    "\n",
    "smape_rouger = -1*cross_val_score(model_rougher, features_rougher_test, target_rougher_test, cv=5, scoring=smap_score)\n",
    "smape_final = -1*cross_val_score(model_final, features_final_test, target_final_test, cv=5, scoring=smap_score)\n",
    "\n",
    "print(f'sMAPE этап Флотации: {np.mean(smape_rouger)}')\n",
    "print(f'sMAPE этап Финальной очистки: {np.mean(smape_final)}')\n",
    "print(f'Итоговый sMAPE {np.mean(0.25*smape_rouger + 0.75*smape_final)}')\n"
   ]
  },
  {
   "cell_type": "markdown",
   "metadata": {},
   "source": [
    "Сравним с "
   ]
  },
  {
   "cell_type": "code",
   "execution_count": 54,
   "metadata": {},
   "outputs": [],
   "source": [
    "dummy = DummyRegressor(strategy=\"mean\")\n",
    "predict_rougher = dummy.fit(features_rougher_test, target_rougher_test).predict(features_rougher_test)\n",
    "predict_final = dummy.fit(features_final_test, target_final_test).predict(features_final_test)"
   ]
  },
  {
   "cell_type": "code",
   "execution_count": 56,
   "metadata": {},
   "outputs": [
    {
     "data": {
      "text/plain": [
       "6.849373526938927"
      ]
     },
     "execution_count": 56,
     "metadata": {},
     "output_type": "execute_result"
    }
   ],
   "source": [
    "smape_count_full (target_rougher_test, predict_rougher, target_final_test, predict_final)"
   ]
  },
  {
   "cell_type": "markdown",
   "metadata": {},
   "source": [
    "smape_count_full (target_rougher_train, predict_rougher, target_final_train, predict_final)"
   ]
  },
  {
   "cell_type": "markdown",
   "metadata": {},
   "source": [
    "**Общий вывод по проекту:**<br>\n",
    "1. Для построения модели предсказания коэффициента восстановления золота из золотосодержащей руды были поучены выборки:\n",
    "- обучающая (train)\n",
    "- тестовая (test)\n",
    "- полная (full)\n",
    "После исследования данных были сделаны следующие выводы:\n",
    "- Данные содержали пропуски, которые были заменены\n",
    "- Колличество признаков в обучающей и тестовой выборке не совпадало. В обучающей выборке дополнительно присутствовали  выходные параметры, которые измеряются после каждого технологического процесса очистки: концентрация полезных металлов и «отвальные хвосты», то есть остатки продукта с низкой концентрацией ценных металлов, а также расчитанные на их базе параметры. Очевидно что \"production\" модели будут недоступны данные измерения на этапе предсказания, и она должна быть обучена без этих признаков.\n",
    "- Данные содержали аномальные значения:  Суммарная концентрация всех перечисленных веществ не может равняться нули ни на каком из этапов. Такие данные были удалены.\n",
    "2. Написана функция для вычисления итоговой sMAPE. Создан критерий оценки моделей smap_score. Модель DummyRegressor, при формировании предсказаний стандартным значением mean показала результат sMAPE = 9.49. Необходимо подобрать наилучшую модель с параметром sMAPE ниже данного значения.\n",
    "3. Рассмотрены 3 модели, показавшие следующие результаты:\n",
    "- LinearRegression - sMAPE = 10.08\n",
    "- DecisionTreeRegressor - sMAPE = 9.44\n",
    "- RandomForestRegressor -  sMAPE = 10.5\n",
    "4. Наилучшая моделью DecisionTreeRegressor проверяна на тестовой выборке, результат sMAPE = 7.03, \n",
    "\n",
    "Таким образом, наилучшей моделью для предсказания является DecisionTreeRegressor: \n",
    "предсказать коэффициент восстановления золота из золотосодержащей руды."
   ]
  },
  {
   "cell_type": "markdown",
   "metadata": {},
   "source": [
    "## Чек-лист готовности проекта"
   ]
  },
  {
   "cell_type": "markdown",
   "metadata": {},
   "source": [
    "- [x]  Jupyter Notebook открыт\n",
    "- [x]  Весь код выполняется без ошибок\n",
    "- [x]  Ячейки с кодом расположены в порядке выполнения\n",
    "- [x]  Выполнен шаг 1: данные подготовлены\n",
    "    - [x]  Проверена формула вычисления эффективности обогащения\n",
    "    - [x]  Проанализированы признаки, недоступные в тестовой выборке\n",
    "    - [x]  Проведена предобработка данных\n",
    "- [x]  Выполнен шаг 2: данные проанализированы\n",
    "    - [x]  Исследовано изменение концентрации элементов на каждом этапе\n",
    "    - [x]  Проанализированы распределения размеров гранул на обучающей и тестовой выборках\n",
    "    - [x]  Исследованы суммарные концентрации\n",
    "- [x]  Выполнен шаг 3: построена модель прогнозирования\n",
    "    - [x]  Написана функция для вычисления итогового *sMAPE*\n",
    "    - [x]  Обучено и проверено несколько моделей\n",
    "    - [x]  Выбрана лучшая модель, её качество проверено на тестовой выборке"
   ]
  }
 ],
 "metadata": {
  "ExecuteTimeLog": [
   {
    "duration": 533,
    "start_time": "2022-03-08T05:01:31.636Z"
   },
   {
    "duration": 650,
    "start_time": "2022-03-08T05:01:35.776Z"
   },
   {
    "duration": 337,
    "start_time": "2022-03-08T05:06:51.451Z"
   },
   {
    "duration": 52,
    "start_time": "2022-03-08T05:07:24.402Z"
   },
   {
    "duration": 276,
    "start_time": "2022-03-08T05:07:54.050Z"
   },
   {
    "duration": 14,
    "start_time": "2022-03-08T05:08:01.078Z"
   },
   {
    "duration": 9,
    "start_time": "2022-03-08T05:09:17.130Z"
   },
   {
    "duration": 16,
    "start_time": "2022-03-08T05:10:56.261Z"
   },
   {
    "duration": 211,
    "start_time": "2022-03-09T05:15:16.745Z"
   },
   {
    "duration": 163,
    "start_time": "2022-03-09T05:15:21.322Z"
   },
   {
    "duration": 582,
    "start_time": "2022-03-09T05:15:28.652Z"
   },
   {
    "duration": 719,
    "start_time": "2022-03-09T05:15:29.235Z"
   },
   {
    "duration": 15,
    "start_time": "2022-03-09T05:15:29.956Z"
   },
   {
    "duration": 10,
    "start_time": "2022-03-09T05:15:29.974Z"
   },
   {
    "duration": 23,
    "start_time": "2022-03-09T05:32:57.692Z"
   },
   {
    "duration": 6,
    "start_time": "2022-03-09T05:43:11.526Z"
   },
   {
    "duration": 11,
    "start_time": "2022-03-09T05:43:11.550Z"
   },
   {
    "duration": 74,
    "start_time": "2022-03-09T05:43:50.493Z"
   },
   {
    "duration": 208,
    "start_time": "2022-03-09T05:44:01.522Z"
   },
   {
    "duration": 6,
    "start_time": "2022-03-09T05:45:45.807Z"
   },
   {
    "duration": 16,
    "start_time": "2022-03-09T05:46:32.449Z"
   },
   {
    "duration": 9,
    "start_time": "2022-03-09T05:46:32.545Z"
   },
   {
    "duration": 5026,
    "start_time": "2022-03-09T05:55:05.949Z"
   },
   {
    "duration": 5,
    "start_time": "2022-03-09T06:09:12.339Z"
   },
   {
    "duration": 422,
    "start_time": "2022-03-09T06:11:06.546Z"
   },
   {
    "duration": 6,
    "start_time": "2022-03-09T06:12:43.070Z"
   },
   {
    "duration": 1189,
    "start_time": "2022-03-10T08:58:31.629Z"
   },
   {
    "duration": 64,
    "start_time": "2022-03-10T09:10:57.918Z"
   },
   {
    "duration": 56,
    "start_time": "2022-03-10T09:11:33.290Z"
   },
   {
    "duration": 3,
    "start_time": "2022-03-10T09:12:25.073Z"
   },
   {
    "duration": 683,
    "start_time": "2022-03-10T09:12:25.078Z"
   },
   {
    "duration": 16,
    "start_time": "2022-03-10T09:12:25.764Z"
   },
   {
    "duration": 10,
    "start_time": "2022-03-10T09:12:25.782Z"
   },
   {
    "duration": 16,
    "start_time": "2022-03-10T09:12:25.794Z"
   },
   {
    "duration": 29,
    "start_time": "2022-03-10T09:12:25.812Z"
   },
   {
    "duration": 6,
    "start_time": "2022-03-10T09:12:25.844Z"
   },
   {
    "duration": 69,
    "start_time": "2022-03-10T09:12:32.145Z"
   },
   {
    "duration": 73,
    "start_time": "2022-03-10T09:15:15.966Z"
   },
   {
    "duration": 63,
    "start_time": "2022-03-10T09:15:54.374Z"
   },
   {
    "duration": 5077,
    "start_time": "2022-03-10T09:16:21.502Z"
   },
   {
    "duration": 759,
    "start_time": "2022-03-10T09:18:55.665Z"
   },
   {
    "duration": 809,
    "start_time": "2022-03-10T09:20:37.006Z"
   },
   {
    "duration": 770,
    "start_time": "2022-03-10T09:25:13.580Z"
   },
   {
    "duration": 739,
    "start_time": "2022-03-10T09:27:40.607Z"
   },
   {
    "duration": 722,
    "start_time": "2022-03-10T09:28:23.143Z"
   },
   {
    "duration": 899,
    "start_time": "2022-03-10T09:29:19.203Z"
   },
   {
    "duration": 4316,
    "start_time": "2022-03-10T09:38:44.736Z"
   },
   {
    "duration": 8,
    "start_time": "2022-03-10T09:39:10.011Z"
   },
   {
    "duration": 8,
    "start_time": "2022-03-10T09:40:09.372Z"
   },
   {
    "duration": 8,
    "start_time": "2022-03-10T09:40:10.687Z"
   },
   {
    "duration": 1173,
    "start_time": "2022-03-11T05:09:37.824Z"
   },
   {
    "duration": 724,
    "start_time": "2022-03-11T05:09:38.999Z"
   },
   {
    "duration": 16,
    "start_time": "2022-03-11T05:09:39.726Z"
   },
   {
    "duration": 12,
    "start_time": "2022-03-11T05:09:39.744Z"
   },
   {
    "duration": 17,
    "start_time": "2022-03-11T05:09:39.757Z"
   },
   {
    "duration": 6,
    "start_time": "2022-03-11T05:09:39.801Z"
   },
   {
    "duration": 8,
    "start_time": "2022-03-11T05:09:39.809Z"
   },
   {
    "duration": 828,
    "start_time": "2022-03-11T05:09:39.819Z"
   },
   {
    "duration": 8,
    "start_time": "2022-03-11T05:09:40.649Z"
   },
   {
    "duration": 11,
    "start_time": "2022-03-11T05:09:40.658Z"
   },
   {
    "duration": 7,
    "start_time": "2022-03-11T05:09:40.671Z"
   },
   {
    "duration": 316,
    "start_time": "2022-03-11T05:10:08.526Z"
   },
   {
    "duration": 335,
    "start_time": "2022-03-11T05:12:02.329Z"
   },
   {
    "duration": 321,
    "start_time": "2022-03-11T05:27:15.435Z"
   },
   {
    "duration": 170,
    "start_time": "2022-03-11T05:27:45.760Z"
   },
   {
    "duration": 11,
    "start_time": "2022-03-11T05:57:48.291Z"
   },
   {
    "duration": 89,
    "start_time": "2022-03-11T05:59:28.921Z"
   },
   {
    "duration": 1718,
    "start_time": "2022-03-11T06:00:04.601Z"
   },
   {
    "duration": 9,
    "start_time": "2022-03-11T06:17:02.934Z"
   },
   {
    "duration": 1662,
    "start_time": "2022-03-11T06:17:02.959Z"
   },
   {
    "duration": 70,
    "start_time": "2022-03-11T06:36:13.942Z"
   },
   {
    "duration": 235,
    "start_time": "2022-03-11T06:36:34.608Z"
   },
   {
    "duration": 228,
    "start_time": "2022-03-11T06:36:42.358Z"
   },
   {
    "duration": 262,
    "start_time": "2022-03-11T06:37:17.608Z"
   },
   {
    "duration": 4,
    "start_time": "2022-03-11T06:39:19.362Z"
   },
   {
    "duration": 727,
    "start_time": "2022-03-11T06:39:19.368Z"
   },
   {
    "duration": 17,
    "start_time": "2022-03-11T06:39:20.098Z"
   },
   {
    "duration": 12,
    "start_time": "2022-03-11T06:39:20.118Z"
   },
   {
    "duration": 18,
    "start_time": "2022-03-11T06:39:20.132Z"
   },
   {
    "duration": 6,
    "start_time": "2022-03-11T06:39:20.152Z"
   },
   {
    "duration": 44,
    "start_time": "2022-03-11T06:39:20.160Z"
   },
   {
    "duration": 812,
    "start_time": "2022-03-11T06:39:20.206Z"
   },
   {
    "duration": 7,
    "start_time": "2022-03-11T06:39:21.021Z"
   },
   {
    "duration": 20,
    "start_time": "2022-03-11T06:39:21.030Z"
   },
   {
    "duration": 9,
    "start_time": "2022-03-11T06:39:21.052Z"
   },
   {
    "duration": 454,
    "start_time": "2022-03-11T06:39:21.063Z"
   },
   {
    "duration": 9,
    "start_time": "2022-03-11T06:39:21.519Z"
   },
   {
    "duration": 1665,
    "start_time": "2022-03-11T06:39:21.530Z"
   },
   {
    "duration": 261,
    "start_time": "2022-03-11T06:39:23.197Z"
   },
   {
    "duration": 252,
    "start_time": "2022-03-11T06:41:45.528Z"
   },
   {
    "duration": 265,
    "start_time": "2022-03-11T06:42:13.668Z"
   },
   {
    "duration": 244,
    "start_time": "2022-03-11T06:50:04.732Z"
   },
   {
    "duration": 271,
    "start_time": "2022-03-11T06:50:15.581Z"
   },
   {
    "duration": 286,
    "start_time": "2022-03-11T06:51:19.097Z"
   },
   {
    "duration": 330,
    "start_time": "2022-03-11T06:52:24.605Z"
   },
   {
    "duration": 303,
    "start_time": "2022-03-11T06:52:54.287Z"
   },
   {
    "duration": 5813,
    "start_time": "2022-03-11T06:53:40.372Z"
   },
   {
    "duration": 15,
    "start_time": "2022-03-11T06:54:24.018Z"
   },
   {
    "duration": 72,
    "start_time": "2022-03-11T06:56:04.080Z"
   },
   {
    "duration": 223,
    "start_time": "2022-03-11T06:56:12.085Z"
   },
   {
    "duration": 28,
    "start_time": "2022-03-11T06:58:27.169Z"
   },
   {
    "duration": 9,
    "start_time": "2022-03-11T07:03:46.515Z"
   },
   {
    "duration": 29,
    "start_time": "2022-03-11T07:03:58.107Z"
   },
   {
    "duration": 255,
    "start_time": "2022-03-11T07:28:29.770Z"
   },
   {
    "duration": 74,
    "start_time": "2022-03-11T07:28:34.435Z"
   },
   {
    "duration": 12,
    "start_time": "2022-03-11T07:38:35.947Z"
   },
   {
    "duration": 232,
    "start_time": "2022-03-11T07:39:12.173Z"
   },
   {
    "duration": 22,
    "start_time": "2022-03-11T07:39:19.463Z"
   },
   {
    "duration": 21,
    "start_time": "2022-03-11T07:39:24.132Z"
   },
   {
    "duration": 22,
    "start_time": "2022-03-11T07:40:47.163Z"
   },
   {
    "duration": 21,
    "start_time": "2022-03-11T07:40:59.220Z"
   },
   {
    "duration": 14,
    "start_time": "2022-03-11T07:42:13.039Z"
   },
   {
    "duration": 8,
    "start_time": "2022-03-11T07:43:49.826Z"
   },
   {
    "duration": 288,
    "start_time": "2022-03-11T08:04:18.298Z"
   },
   {
    "duration": 300,
    "start_time": "2022-03-11T08:04:39.520Z"
   },
   {
    "duration": 1060,
    "start_time": "2022-03-12T10:43:56.040Z"
   },
   {
    "duration": 631,
    "start_time": "2022-03-12T10:43:57.102Z"
   },
   {
    "duration": 15,
    "start_time": "2022-03-12T10:43:57.735Z"
   },
   {
    "duration": 9,
    "start_time": "2022-03-12T10:43:57.751Z"
   },
   {
    "duration": 14,
    "start_time": "2022-03-12T10:43:57.762Z"
   },
   {
    "duration": 12,
    "start_time": "2022-03-12T10:44:07.297Z"
   },
   {
    "duration": 9,
    "start_time": "2022-03-12T10:44:21.261Z"
   },
   {
    "duration": 6,
    "start_time": "2022-03-12T10:47:12.317Z"
   },
   {
    "duration": 9,
    "start_time": "2022-03-12T10:47:12.356Z"
   },
   {
    "duration": 8,
    "start_time": "2022-03-12T10:53:37.178Z"
   },
   {
    "duration": 10,
    "start_time": "2022-03-12T11:02:54.755Z"
   },
   {
    "duration": 7,
    "start_time": "2022-03-12T11:03:32.297Z"
   },
   {
    "duration": 8,
    "start_time": "2022-03-12T11:04:18.340Z"
   },
   {
    "duration": 8,
    "start_time": "2022-03-12T11:05:45.772Z"
   },
   {
    "duration": 769,
    "start_time": "2022-03-12T11:12:59.009Z"
   },
   {
    "duration": 13,
    "start_time": "2022-03-12T11:13:26.561Z"
   },
   {
    "duration": 6,
    "start_time": "2022-03-12T11:13:26.618Z"
   },
   {
    "duration": 20,
    "start_time": "2022-03-12T11:13:56.742Z"
   },
   {
    "duration": 13,
    "start_time": "2022-03-12T11:22:03.311Z"
   },
   {
    "duration": 6,
    "start_time": "2022-03-12T11:22:26.723Z"
   },
   {
    "duration": 8,
    "start_time": "2022-03-12T11:22:47.792Z"
   },
   {
    "duration": 22,
    "start_time": "2022-03-12T11:28:42.029Z"
   },
   {
    "duration": 13,
    "start_time": "2022-03-12T11:30:03.689Z"
   },
   {
    "duration": 7,
    "start_time": "2022-03-12T11:31:43.856Z"
   },
   {
    "duration": 8,
    "start_time": "2022-03-12T11:31:43.896Z"
   },
   {
    "duration": 13,
    "start_time": "2022-03-12T11:32:38.689Z"
   },
   {
    "duration": 186,
    "start_time": "2022-03-12T11:33:39.476Z"
   },
   {
    "duration": 48,
    "start_time": "2022-03-12T11:33:56.212Z"
   },
   {
    "duration": 8,
    "start_time": "2022-03-12T11:33:56.262Z"
   },
   {
    "duration": 12,
    "start_time": "2022-03-12T11:33:58.352Z"
   },
   {
    "duration": 167,
    "start_time": "2022-03-12T11:39:15.519Z"
   },
   {
    "duration": 169,
    "start_time": "2022-03-12T11:39:35.939Z"
   },
   {
    "duration": 4,
    "start_time": "2022-03-12T11:39:49.667Z"
   },
   {
    "duration": 173,
    "start_time": "2022-03-12T11:41:00.799Z"
   },
   {
    "duration": 169,
    "start_time": "2022-03-12T11:41:45.178Z"
   },
   {
    "duration": 4,
    "start_time": "2022-03-12T11:42:10.710Z"
   },
   {
    "duration": 5,
    "start_time": "2022-03-12T11:42:40.179Z"
   },
   {
    "duration": 169,
    "start_time": "2022-03-12T11:43:04.090Z"
   },
   {
    "duration": 4,
    "start_time": "2022-03-12T11:43:25.018Z"
   },
   {
    "duration": 3,
    "start_time": "2022-03-12T11:45:13.957Z"
   },
   {
    "duration": 3,
    "start_time": "2022-03-12T11:45:54.463Z"
   },
   {
    "duration": 685,
    "start_time": "2022-03-12T11:45:54.468Z"
   },
   {
    "duration": 15,
    "start_time": "2022-03-12T11:45:55.155Z"
   },
   {
    "duration": 10,
    "start_time": "2022-03-12T11:45:55.171Z"
   },
   {
    "duration": 15,
    "start_time": "2022-03-12T11:45:55.182Z"
   },
   {
    "duration": 44,
    "start_time": "2022-03-12T11:45:55.198Z"
   },
   {
    "duration": 57,
    "start_time": "2022-03-12T11:45:55.244Z"
   },
   {
    "duration": 894,
    "start_time": "2022-03-12T11:45:54.409Z"
   },
   {
    "duration": 57,
    "start_time": "2022-03-12T11:46:11.097Z"
   },
   {
    "duration": 931,
    "start_time": "2022-03-12T11:46:10.225Z"
   },
   {
    "duration": 5,
    "start_time": "2022-03-12T11:46:22.888Z"
   },
   {
    "duration": 5,
    "start_time": "2022-03-12T11:46:29.492Z"
   },
   {
    "duration": 4,
    "start_time": "2022-03-12T11:47:02.256Z"
   },
   {
    "duration": 168,
    "start_time": "2022-03-12T11:47:24.852Z"
   },
   {
    "duration": 5,
    "start_time": "2022-03-12T11:47:30.252Z"
   },
   {
    "duration": 5,
    "start_time": "2022-03-12T11:47:56.211Z"
   },
   {
    "duration": 6,
    "start_time": "2022-03-12T11:48:59.029Z"
   },
   {
    "duration": 185,
    "start_time": "2022-03-12T11:49:35.048Z"
   },
   {
    "duration": 53,
    "start_time": "2022-03-12T11:50:58.551Z"
   },
   {
    "duration": 165,
    "start_time": "2022-03-12T11:51:12.516Z"
   },
   {
    "duration": 3,
    "start_time": "2022-03-12T12:00:01.011Z"
   },
   {
    "duration": 4,
    "start_time": "2022-03-12T12:00:31.893Z"
   },
   {
    "duration": 180,
    "start_time": "2022-03-12T12:00:53.844Z"
   },
   {
    "duration": 6,
    "start_time": "2022-03-12T12:01:09.384Z"
   },
   {
    "duration": 4,
    "start_time": "2022-03-12T12:01:11.995Z"
   },
   {
    "duration": 168,
    "start_time": "2022-03-12T12:09:36.670Z"
   },
   {
    "duration": 902,
    "start_time": "2022-03-12T12:09:35.938Z"
   },
   {
    "duration": 167,
    "start_time": "2022-03-12T12:09:51.474Z"
   },
   {
    "duration": 5,
    "start_time": "2022-03-12T12:19:49.803Z"
   },
   {
    "duration": 5,
    "start_time": "2022-03-12T12:19:57.927Z"
   },
   {
    "duration": 3,
    "start_time": "2022-03-12T12:20:38.059Z"
   },
   {
    "duration": 3,
    "start_time": "2022-03-12T12:23:19.728Z"
   },
   {
    "duration": 4,
    "start_time": "2022-03-12T12:23:32.947Z"
   },
   {
    "duration": 3,
    "start_time": "2022-03-12T12:33:32.722Z"
   },
   {
    "duration": 3,
    "start_time": "2022-03-12T12:33:33.478Z"
   },
   {
    "duration": 3,
    "start_time": "2022-03-12T16:15:34.060Z"
   },
   {
    "duration": 968,
    "start_time": "2022-03-12T16:15:34.065Z"
   },
   {
    "duration": 16,
    "start_time": "2022-03-12T16:15:35.035Z"
   },
   {
    "duration": 10,
    "start_time": "2022-03-12T16:15:35.053Z"
   },
   {
    "duration": 17,
    "start_time": "2022-03-12T16:15:35.065Z"
   },
   {
    "duration": 20,
    "start_time": "2022-03-12T16:15:35.084Z"
   },
   {
    "duration": 7,
    "start_time": "2022-03-12T16:15:35.135Z"
   },
   {
    "duration": 11,
    "start_time": "2022-03-12T16:15:35.144Z"
   },
   {
    "duration": 5,
    "start_time": "2022-03-12T16:15:35.157Z"
   },
   {
    "duration": 6,
    "start_time": "2022-03-12T16:15:35.164Z"
   },
   {
    "duration": 15,
    "start_time": "2022-03-12T16:15:35.172Z"
   },
   {
    "duration": 53,
    "start_time": "2022-03-12T16:15:35.189Z"
   },
   {
    "duration": 21,
    "start_time": "2022-03-12T16:15:35.244Z"
   },
   {
    "duration": 71,
    "start_time": "2022-03-12T16:15:35.266Z"
   },
   {
    "duration": 8,
    "start_time": "2022-03-12T16:15:35.339Z"
   },
   {
    "duration": 12,
    "start_time": "2022-03-12T16:15:35.349Z"
   },
   {
    "duration": 743,
    "start_time": "2022-03-12T16:15:35.362Z"
   },
   {
    "duration": 7,
    "start_time": "2022-03-12T16:15:36.107Z"
   },
   {
    "duration": 19,
    "start_time": "2022-03-12T16:15:36.118Z"
   },
   {
    "duration": 7,
    "start_time": "2022-03-12T16:15:36.139Z"
   },
   {
    "duration": 316,
    "start_time": "2022-03-12T16:15:36.148Z"
   },
   {
    "duration": 9,
    "start_time": "2022-03-12T16:15:36.466Z"
   },
   {
    "duration": 1589,
    "start_time": "2022-03-12T16:15:36.476Z"
   },
   {
    "duration": 7,
    "start_time": "2022-03-12T16:15:40.661Z"
   },
   {
    "duration": 25,
    "start_time": "2022-03-12T16:15:48.554Z"
   },
   {
    "duration": 31,
    "start_time": "2022-03-12T16:42:18.171Z"
   },
   {
    "duration": 195,
    "start_time": "2022-03-12T16:43:27.198Z"
   },
   {
    "duration": 171,
    "start_time": "2022-03-12T16:44:16.459Z"
   },
   {
    "duration": 16,
    "start_time": "2022-03-12T16:46:57.843Z"
   },
   {
    "duration": 10,
    "start_time": "2022-03-12T16:47:12.923Z"
   },
   {
    "duration": 3,
    "start_time": "2022-03-12T16:47:18.770Z"
   },
   {
    "duration": 758,
    "start_time": "2022-03-12T16:47:18.775Z"
   },
   {
    "duration": 15,
    "start_time": "2022-03-12T16:47:19.536Z"
   },
   {
    "duration": 13,
    "start_time": "2022-03-12T16:47:19.553Z"
   },
   {
    "duration": 18,
    "start_time": "2022-03-12T16:47:19.569Z"
   },
   {
    "duration": 48,
    "start_time": "2022-03-12T16:47:19.589Z"
   },
   {
    "duration": 6,
    "start_time": "2022-03-12T16:47:19.640Z"
   },
   {
    "duration": 12,
    "start_time": "2022-03-12T16:47:19.649Z"
   },
   {
    "duration": 7,
    "start_time": "2022-03-12T16:47:19.664Z"
   },
   {
    "duration": 8,
    "start_time": "2022-03-12T16:47:19.673Z"
   },
   {
    "duration": 13,
    "start_time": "2022-03-12T16:47:19.682Z"
   },
   {
    "duration": 38,
    "start_time": "2022-03-12T16:47:19.696Z"
   },
   {
    "duration": 22,
    "start_time": "2022-03-12T16:47:19.735Z"
   },
   {
    "duration": 84,
    "start_time": "2022-03-12T16:47:19.758Z"
   },
   {
    "duration": 8,
    "start_time": "2022-03-12T16:47:19.845Z"
   },
   {
    "duration": 13,
    "start_time": "2022-03-12T16:47:19.855Z"
   },
   {
    "duration": 811,
    "start_time": "2022-03-12T16:47:19.870Z"
   },
   {
    "duration": 6,
    "start_time": "2022-03-12T16:47:20.683Z"
   },
   {
    "duration": 9,
    "start_time": "2022-03-12T16:47:20.691Z"
   },
   {
    "duration": 7,
    "start_time": "2022-03-12T16:47:20.702Z"
   },
   {
    "duration": 337,
    "start_time": "2022-03-12T16:47:20.711Z"
   },
   {
    "duration": 10,
    "start_time": "2022-03-12T16:47:21.049Z"
   },
   {
    "duration": 1602,
    "start_time": "2022-03-12T16:47:21.061Z"
   },
   {
    "duration": 7,
    "start_time": "2022-03-12T16:47:22.666Z"
   },
   {
    "duration": 23,
    "start_time": "2022-03-12T16:47:22.674Z"
   },
   {
    "duration": 234,
    "start_time": "2022-03-12T16:47:22.698Z"
   },
   {
    "duration": 120,
    "start_time": "2022-03-12T16:47:33.280Z"
   },
   {
    "duration": 9,
    "start_time": "2022-03-12T16:47:48.515Z"
   },
   {
    "duration": 9,
    "start_time": "2022-03-12T16:47:52.047Z"
   },
   {
    "duration": 26,
    "start_time": "2022-03-12T16:48:06.522Z"
   },
   {
    "duration": 8,
    "start_time": "2022-03-12T16:49:46.775Z"
   },
   {
    "duration": 3,
    "start_time": "2022-03-12T17:21:51.634Z"
   },
   {
    "duration": 3,
    "start_time": "2022-03-12T17:24:27.276Z"
   },
   {
    "duration": 6,
    "start_time": "2022-03-12T17:43:18.443Z"
   },
   {
    "duration": 12,
    "start_time": "2022-03-12T17:43:37.008Z"
   },
   {
    "duration": 55,
    "start_time": "2022-03-12T19:03:17.257Z"
   },
   {
    "duration": 67,
    "start_time": "2022-03-12T19:03:30.426Z"
   },
   {
    "duration": 56,
    "start_time": "2022-03-12T19:03:42.646Z"
   },
   {
    "duration": 66,
    "start_time": "2022-03-12T19:05:03.214Z"
   },
   {
    "duration": 51,
    "start_time": "2022-03-12T19:05:21.082Z"
   },
   {
    "duration": 217,
    "start_time": "2022-03-12T19:07:58.214Z"
   },
   {
    "duration": 1532,
    "start_time": "2022-03-12T19:07:56.900Z"
   },
   {
    "duration": 4,
    "start_time": "2022-03-12T19:08:11.602Z"
   },
   {
    "duration": 6,
    "start_time": "2022-03-12T19:08:22.234Z"
   },
   {
    "duration": 3,
    "start_time": "2022-03-12T19:08:24.206Z"
   },
   {
    "duration": 5,
    "start_time": "2022-03-12T19:08:43.338Z"
   },
   {
    "duration": 6,
    "start_time": "2022-03-12T19:08:43.403Z"
   },
   {
    "duration": 58,
    "start_time": "2022-03-12T19:10:35.601Z"
   },
   {
    "duration": 60,
    "start_time": "2022-03-12T19:11:11.829Z"
   },
   {
    "duration": 54,
    "start_time": "2022-03-12T19:11:43.325Z"
   },
   {
    "duration": 7,
    "start_time": "2022-03-12T19:11:43.388Z"
   },
   {
    "duration": 166,
    "start_time": "2022-03-12T19:15:24.174Z"
   },
   {
    "duration": 7,
    "start_time": "2022-03-12T19:15:32.954Z"
   },
   {
    "duration": 171,
    "start_time": "2022-03-12T19:15:35.469Z"
   },
   {
    "duration": 4,
    "start_time": "2022-03-12T19:15:44.697Z"
   },
   {
    "duration": 162,
    "start_time": "2022-03-12T19:16:48.486Z"
   },
   {
    "duration": 4,
    "start_time": "2022-03-12T19:16:54.776Z"
   },
   {
    "duration": 663,
    "start_time": "2022-03-12T19:16:54.782Z"
   },
   {
    "duration": 16,
    "start_time": "2022-03-12T19:16:55.448Z"
   },
   {
    "duration": 18,
    "start_time": "2022-03-12T19:16:55.467Z"
   },
   {
    "duration": 46,
    "start_time": "2022-03-12T19:16:55.487Z"
   },
   {
    "duration": 20,
    "start_time": "2022-03-12T19:16:55.535Z"
   },
   {
    "duration": 7,
    "start_time": "2022-03-12T19:16:55.557Z"
   },
   {
    "duration": 7,
    "start_time": "2022-03-12T19:16:55.567Z"
   },
   {
    "duration": 4,
    "start_time": "2022-03-12T19:16:55.577Z"
   },
   {
    "duration": 7,
    "start_time": "2022-03-12T19:16:55.583Z"
   },
   {
    "duration": 42,
    "start_time": "2022-03-12T19:16:55.592Z"
   },
   {
    "duration": 22,
    "start_time": "2022-03-12T19:16:55.636Z"
   },
   {
    "duration": 50,
    "start_time": "2022-03-12T19:16:55.660Z"
   },
   {
    "duration": 123,
    "start_time": "2022-03-12T19:16:55.713Z"
   },
   {
    "duration": 12,
    "start_time": "2022-03-12T19:16:55.839Z"
   },
   {
    "duration": 20,
    "start_time": "2022-03-12T19:16:55.853Z"
   },
   {
    "duration": 1029,
    "start_time": "2022-03-12T19:16:55.876Z"
   },
   {
    "duration": 6,
    "start_time": "2022-03-12T19:16:56.907Z"
   },
   {
    "duration": 22,
    "start_time": "2022-03-12T19:16:56.914Z"
   },
   {
    "duration": 11,
    "start_time": "2022-03-12T19:16:56.938Z"
   },
   {
    "duration": 350,
    "start_time": "2022-03-12T19:16:56.951Z"
   },
   {
    "duration": 9,
    "start_time": "2022-03-12T19:16:57.303Z"
   },
   {
    "duration": 1618,
    "start_time": "2022-03-12T19:16:57.315Z"
   },
   {
    "duration": 12,
    "start_time": "2022-03-12T19:16:58.936Z"
   },
   {
    "duration": 15,
    "start_time": "2022-03-12T19:16:58.950Z"
   },
   {
    "duration": 9,
    "start_time": "2022-03-12T19:16:58.967Z"
   },
   {
    "duration": 3,
    "start_time": "2022-03-12T19:16:58.977Z"
   },
   {
    "duration": 66,
    "start_time": "2022-03-12T19:16:58.982Z"
   },
   {
    "duration": 1549,
    "start_time": "2022-03-12T19:16:57.502Z"
   },
   {
    "duration": 1546,
    "start_time": "2022-03-12T19:16:57.506Z"
   },
   {
    "duration": 9,
    "start_time": "2022-03-12T19:17:01.105Z"
   },
   {
    "duration": 210,
    "start_time": "2022-03-12T19:17:02.589Z"
   },
   {
    "duration": 59,
    "start_time": "2022-03-12T19:18:31.470Z"
   },
   {
    "duration": 2,
    "start_time": "2022-03-12T19:18:56.442Z"
   },
   {
    "duration": 4,
    "start_time": "2022-03-12T19:19:23.554Z"
   },
   {
    "duration": 8,
    "start_time": "2022-03-12T19:21:32.970Z"
   },
   {
    "duration": 5,
    "start_time": "2022-03-12T19:22:05.114Z"
   },
   {
    "duration": 6,
    "start_time": "2022-03-12T19:22:18.341Z"
   },
   {
    "duration": 5,
    "start_time": "2022-03-12T19:23:51.865Z"
   },
   {
    "duration": 9,
    "start_time": "2022-03-12T19:24:06.837Z"
   },
   {
    "duration": 8,
    "start_time": "2022-03-12T19:46:33.840Z"
   },
   {
    "duration": 3,
    "start_time": "2022-03-12T19:47:03.056Z"
   },
   {
    "duration": 337,
    "start_time": "2022-03-12T19:47:06.147Z"
   },
   {
    "duration": 3,
    "start_time": "2022-03-12T19:47:17.551Z"
   },
   {
    "duration": 6,
    "start_time": "2022-03-12T19:47:19.775Z"
   },
   {
    "duration": 172,
    "start_time": "2022-03-12T19:48:19.205Z"
   },
   {
    "duration": 171,
    "start_time": "2022-03-12T19:48:28.223Z"
   },
   {
    "duration": 197,
    "start_time": "2022-03-12T19:51:17.991Z"
   },
   {
    "duration": 213,
    "start_time": "2022-03-12T19:53:52.526Z"
   },
   {
    "duration": 192,
    "start_time": "2022-03-12T19:54:16.702Z"
   },
   {
    "duration": 1520,
    "start_time": "2022-03-12T19:54:15.376Z"
   },
   {
    "duration": 6,
    "start_time": "2022-03-12T19:54:27.135Z"
   },
   {
    "duration": 180,
    "start_time": "2022-03-12T19:55:04.762Z"
   },
   {
    "duration": 1523,
    "start_time": "2022-03-12T19:55:03.421Z"
   },
   {
    "duration": 687,
    "start_time": "2022-03-12T19:55:12.060Z"
   },
   {
    "duration": 1497,
    "start_time": "2022-03-12T19:55:11.253Z"
   },
   {
    "duration": 669,
    "start_time": "2022-03-12T19:55:26.298Z"
   },
   {
    "duration": 13,
    "start_time": "2022-03-12T19:56:51.027Z"
   },
   {
    "duration": 180,
    "start_time": "2022-03-12T19:57:15.133Z"
   },
   {
    "duration": 705,
    "start_time": "2022-03-12T19:58:00.407Z"
   },
   {
    "duration": 5,
    "start_time": "2022-03-12T19:58:19.611Z"
   },
   {
    "duration": 1118,
    "start_time": "2022-03-13T05:26:02.724Z"
   },
   {
    "duration": 652,
    "start_time": "2022-03-13T05:26:03.844Z"
   },
   {
    "duration": 14,
    "start_time": "2022-03-13T05:26:04.498Z"
   },
   {
    "duration": 8,
    "start_time": "2022-03-13T05:26:04.514Z"
   },
   {
    "duration": 13,
    "start_time": "2022-03-13T05:26:04.523Z"
   },
   {
    "duration": 18,
    "start_time": "2022-03-13T05:26:04.538Z"
   },
   {
    "duration": 5,
    "start_time": "2022-03-13T05:26:04.557Z"
   },
   {
    "duration": 5,
    "start_time": "2022-03-13T05:26:04.564Z"
   },
   {
    "duration": 36,
    "start_time": "2022-03-13T05:26:04.570Z"
   },
   {
    "duration": 6,
    "start_time": "2022-03-13T05:26:04.607Z"
   },
   {
    "duration": 9,
    "start_time": "2022-03-13T05:26:04.615Z"
   },
   {
    "duration": 18,
    "start_time": "2022-03-13T05:26:04.625Z"
   },
   {
    "duration": 19,
    "start_time": "2022-03-13T05:26:04.645Z"
   },
   {
    "duration": 66,
    "start_time": "2022-03-13T05:26:04.665Z"
   },
   {
    "duration": 6,
    "start_time": "2022-03-13T05:26:04.733Z"
   },
   {
    "duration": 10,
    "start_time": "2022-03-13T05:26:04.740Z"
   },
   {
    "duration": 771,
    "start_time": "2022-03-13T05:26:04.751Z"
   },
   {
    "duration": 6,
    "start_time": "2022-03-13T05:26:05.523Z"
   },
   {
    "duration": 10,
    "start_time": "2022-03-13T05:26:05.531Z"
   },
   {
    "duration": 8,
    "start_time": "2022-03-13T05:26:05.543Z"
   },
   {
    "duration": 317,
    "start_time": "2022-03-13T05:26:05.553Z"
   },
   {
    "duration": 9,
    "start_time": "2022-03-13T05:26:05.871Z"
   },
   {
    "duration": 1831,
    "start_time": "2022-03-13T05:26:05.883Z"
   },
   {
    "duration": 6,
    "start_time": "2022-03-13T05:26:07.715Z"
   },
   {
    "duration": 16,
    "start_time": "2022-03-13T05:26:07.723Z"
   },
   {
    "duration": 8,
    "start_time": "2022-03-13T05:26:07.740Z"
   },
   {
    "duration": 2,
    "start_time": "2022-03-13T05:26:32.262Z"
   },
   {
    "duration": 2,
    "start_time": "2022-03-13T05:26:32.774Z"
   },
   {
    "duration": 9,
    "start_time": "2022-03-13T05:26:33.814Z"
   },
   {
    "duration": 5,
    "start_time": "2022-03-13T05:26:34.533Z"
   },
   {
    "duration": 377,
    "start_time": "2022-03-13T05:26:36.225Z"
   },
   {
    "duration": 6,
    "start_time": "2022-03-13T05:27:19.618Z"
   },
   {
    "duration": 8,
    "start_time": "2022-03-13T06:04:33.567Z"
   },
   {
    "duration": 3,
    "start_time": "2022-03-13T07:36:09.100Z"
   },
   {
    "duration": 11,
    "start_time": "2022-03-13T07:38:28.123Z"
   },
   {
    "duration": 4,
    "start_time": "2022-03-13T07:39:18.769Z"
   },
   {
    "duration": 315,
    "start_time": "2022-03-13T07:47:39.360Z"
   },
   {
    "duration": 4,
    "start_time": "2022-03-13T07:47:59.028Z"
   },
   {
    "duration": 3,
    "start_time": "2022-03-13T07:48:53.296Z"
   },
   {
    "duration": 3,
    "start_time": "2022-03-13T07:49:01.613Z"
   },
   {
    "duration": 357,
    "start_time": "2022-03-13T07:56:18.085Z"
   },
   {
    "duration": 11,
    "start_time": "2022-03-13T07:57:05.765Z"
   },
   {
    "duration": 5,
    "start_time": "2022-03-13T07:57:06.681Z"
   },
   {
    "duration": 6,
    "start_time": "2022-03-13T07:58:22.318Z"
   },
   {
    "duration": 6,
    "start_time": "2022-03-13T07:59:52.165Z"
   },
   {
    "duration": 5,
    "start_time": "2022-03-13T08:00:33.495Z"
   },
   {
    "duration": 13,
    "start_time": "2022-03-13T11:12:58.927Z"
   },
   {
    "duration": 337,
    "start_time": "2022-03-13T11:14:11.758Z"
   },
   {
    "duration": 321,
    "start_time": "2022-03-13T11:16:28.105Z"
   },
   {
    "duration": 3,
    "start_time": "2022-03-13T11:16:46.912Z"
   },
   {
    "duration": 304,
    "start_time": "2022-03-13T11:16:53.497Z"
   },
   {
    "duration": 4,
    "start_time": "2022-03-13T11:18:02.216Z"
   },
   {
    "duration": 657,
    "start_time": "2022-03-13T11:18:02.222Z"
   },
   {
    "duration": 14,
    "start_time": "2022-03-13T11:18:02.881Z"
   },
   {
    "duration": 15,
    "start_time": "2022-03-13T11:18:02.897Z"
   },
   {
    "duration": 16,
    "start_time": "2022-03-13T11:18:02.914Z"
   },
   {
    "duration": 16,
    "start_time": "2022-03-13T11:18:02.931Z"
   },
   {
    "duration": 5,
    "start_time": "2022-03-13T11:18:02.948Z"
   },
   {
    "duration": 3,
    "start_time": "2022-03-13T11:18:02.955Z"
   },
   {
    "duration": 3,
    "start_time": "2022-03-13T11:18:02.960Z"
   },
   {
    "duration": 5,
    "start_time": "2022-03-13T11:18:02.965Z"
   },
   {
    "duration": 6,
    "start_time": "2022-03-13T11:18:03.006Z"
   },
   {
    "duration": 15,
    "start_time": "2022-03-13T11:18:03.014Z"
   },
   {
    "duration": 18,
    "start_time": "2022-03-13T11:18:03.031Z"
   },
   {
    "duration": 73,
    "start_time": "2022-03-13T11:18:03.051Z"
   },
   {
    "duration": 8,
    "start_time": "2022-03-13T11:18:03.125Z"
   },
   {
    "duration": 11,
    "start_time": "2022-03-13T11:18:03.134Z"
   },
   {
    "duration": 872,
    "start_time": "2022-03-13T11:18:03.146Z"
   },
   {
    "duration": 6,
    "start_time": "2022-03-13T11:18:04.019Z"
   },
   {
    "duration": 8,
    "start_time": "2022-03-13T11:18:04.027Z"
   },
   {
    "duration": 6,
    "start_time": "2022-03-13T11:18:04.037Z"
   },
   {
    "duration": 283,
    "start_time": "2022-03-13T11:18:04.044Z"
   },
   {
    "duration": 8,
    "start_time": "2022-03-13T11:18:04.329Z"
   },
   {
    "duration": 1495,
    "start_time": "2022-03-13T11:18:04.340Z"
   },
   {
    "duration": 7,
    "start_time": "2022-03-13T11:18:05.837Z"
   },
   {
    "duration": 109,
    "start_time": "2022-03-13T11:18:05.845Z"
   },
   {
    "duration": 7,
    "start_time": "2022-03-13T11:18:05.956Z"
   },
   {
    "duration": 8,
    "start_time": "2022-03-13T11:18:05.964Z"
   },
   {
    "duration": 13,
    "start_time": "2022-03-13T11:18:05.973Z"
   },
   {
    "duration": 6,
    "start_time": "2022-03-13T11:18:05.988Z"
   },
   {
    "duration": 14,
    "start_time": "2022-03-13T11:18:05.995Z"
   },
   {
    "duration": 6,
    "start_time": "2022-03-13T11:18:08.408Z"
   },
   {
    "duration": 303,
    "start_time": "2022-03-13T11:18:09.025Z"
   },
   {
    "duration": 353,
    "start_time": "2022-03-13T11:18:44.069Z"
   },
   {
    "duration": 4,
    "start_time": "2022-03-13T11:19:05.797Z"
   },
   {
    "duration": 6,
    "start_time": "2022-03-13T11:19:08.528Z"
   },
   {
    "duration": 339,
    "start_time": "2022-03-13T11:19:09.413Z"
   },
   {
    "duration": 26,
    "start_time": "2022-03-13T11:20:01.400Z"
   },
   {
    "duration": 315,
    "start_time": "2022-03-13T11:20:01.431Z"
   },
   {
    "duration": 440,
    "start_time": "2022-03-13T11:20:20.221Z"
   },
   {
    "duration": 25,
    "start_time": "2022-03-13T11:20:47.640Z"
   },
   {
    "duration": 277,
    "start_time": "2022-03-13T11:20:47.687Z"
   },
   {
    "duration": 335,
    "start_time": "2022-03-13T11:21:08.040Z"
   },
   {
    "duration": 323,
    "start_time": "2022-03-13T11:21:13.719Z"
   },
   {
    "duration": 295,
    "start_time": "2022-03-13T11:21:28.426Z"
   },
   {
    "duration": 28,
    "start_time": "2022-03-13T11:22:22.279Z"
   },
   {
    "duration": 11,
    "start_time": "2022-03-13T11:22:43.068Z"
   },
   {
    "duration": 5,
    "start_time": "2022-03-13T11:22:45.115Z"
   },
   {
    "duration": 6,
    "start_time": "2022-03-13T11:22:45.903Z"
   },
   {
    "duration": 338,
    "start_time": "2022-03-13T11:22:48.925Z"
   },
   {
    "duration": 297,
    "start_time": "2022-03-13T11:26:06.450Z"
   },
   {
    "duration": 299,
    "start_time": "2022-03-13T11:30:27.821Z"
   },
   {
    "duration": 12,
    "start_time": "2022-03-13T11:31:22.741Z"
   },
   {
    "duration": 5,
    "start_time": "2022-03-13T11:31:31.337Z"
   },
   {
    "duration": 4,
    "start_time": "2022-03-13T11:32:10.661Z"
   },
   {
    "duration": 319,
    "start_time": "2022-03-13T11:32:10.710Z"
   },
   {
    "duration": 22,
    "start_time": "2022-03-13T11:32:43.352Z"
   },
   {
    "duration": 7,
    "start_time": "2022-03-13T11:33:11.356Z"
   },
   {
    "duration": 298,
    "start_time": "2022-03-13T11:33:31.488Z"
   },
   {
    "duration": 293,
    "start_time": "2022-03-13T11:33:46.364Z"
   },
   {
    "duration": 300,
    "start_time": "2022-03-13T11:34:31.803Z"
   },
   {
    "duration": 1144,
    "start_time": "2022-03-13T17:08:50.033Z"
   },
   {
    "duration": 666,
    "start_time": "2022-03-13T17:08:51.179Z"
   },
   {
    "duration": 15,
    "start_time": "2022-03-13T17:08:51.847Z"
   },
   {
    "duration": 9,
    "start_time": "2022-03-13T17:08:51.863Z"
   },
   {
    "duration": 37,
    "start_time": "2022-03-13T17:08:51.873Z"
   },
   {
    "duration": 19,
    "start_time": "2022-03-13T17:08:51.912Z"
   },
   {
    "duration": 5,
    "start_time": "2022-03-13T17:08:51.933Z"
   },
   {
    "duration": 5,
    "start_time": "2022-03-13T17:08:51.939Z"
   },
   {
    "duration": 3,
    "start_time": "2022-03-13T17:08:51.947Z"
   },
   {
    "duration": 5,
    "start_time": "2022-03-13T17:08:51.952Z"
   },
   {
    "duration": 45,
    "start_time": "2022-03-13T17:08:51.959Z"
   },
   {
    "duration": 21,
    "start_time": "2022-03-13T17:08:52.006Z"
   },
   {
    "duration": 22,
    "start_time": "2022-03-13T17:08:52.028Z"
   },
   {
    "duration": 71,
    "start_time": "2022-03-13T17:08:52.051Z"
   },
   {
    "duration": 11,
    "start_time": "2022-03-13T17:08:52.123Z"
   },
   {
    "duration": 11,
    "start_time": "2022-03-13T17:08:52.136Z"
   },
   {
    "duration": 1010,
    "start_time": "2022-03-13T17:08:52.149Z"
   },
   {
    "duration": 7,
    "start_time": "2022-03-13T17:08:53.160Z"
   },
   {
    "duration": 6,
    "start_time": "2022-03-13T17:08:53.168Z"
   },
   {
    "duration": 25,
    "start_time": "2022-03-13T17:08:53.176Z"
   },
   {
    "duration": 284,
    "start_time": "2022-03-13T17:08:53.203Z"
   },
   {
    "duration": 15,
    "start_time": "2022-03-13T17:08:53.489Z"
   },
   {
    "duration": 1682,
    "start_time": "2022-03-13T17:08:53.506Z"
   },
   {
    "duration": 12,
    "start_time": "2022-03-13T17:08:55.191Z"
   },
   {
    "duration": 13,
    "start_time": "2022-03-13T17:08:55.205Z"
   },
   {
    "duration": 8,
    "start_time": "2022-03-13T17:08:55.220Z"
   },
   {
    "duration": 3,
    "start_time": "2022-03-13T17:08:55.231Z"
   },
   {
    "duration": 427,
    "start_time": "2022-03-13T17:08:55.236Z"
   },
   {
    "duration": -576,
    "start_time": "2022-03-13T17:08:56.241Z"
   },
   {
    "duration": -579,
    "start_time": "2022-03-13T17:08:56.245Z"
   },
   {
    "duration": 287,
    "start_time": "2022-03-13T17:08:58.328Z"
   },
   {
    "duration": 304,
    "start_time": "2022-03-13T17:09:11.794Z"
   },
   {
    "duration": 11,
    "start_time": "2022-03-13T17:09:41.838Z"
   },
   {
    "duration": 3,
    "start_time": "2022-03-13T17:09:43.295Z"
   },
   {
    "duration": 6,
    "start_time": "2022-03-13T17:09:44.106Z"
   },
   {
    "duration": 9,
    "start_time": "2022-03-13T17:09:46.270Z"
   },
   {
    "duration": 3,
    "start_time": "2022-03-13T17:45:55.044Z"
   },
   {
    "duration": 3,
    "start_time": "2022-03-13T17:46:46.090Z"
   },
   {
    "duration": 301,
    "start_time": "2022-03-13T17:49:11.223Z"
   },
   {
    "duration": 3,
    "start_time": "2022-03-13T17:49:18.446Z"
   },
   {
    "duration": 638,
    "start_time": "2022-03-13T17:49:18.450Z"
   },
   {
    "duration": 21,
    "start_time": "2022-03-13T17:49:19.090Z"
   },
   {
    "duration": 12,
    "start_time": "2022-03-13T17:49:19.113Z"
   },
   {
    "duration": 18,
    "start_time": "2022-03-13T17:49:19.126Z"
   },
   {
    "duration": 16,
    "start_time": "2022-03-13T17:49:19.146Z"
   },
   {
    "duration": 5,
    "start_time": "2022-03-13T17:49:19.163Z"
   },
   {
    "duration": 31,
    "start_time": "2022-03-13T17:49:19.171Z"
   },
   {
    "duration": 3,
    "start_time": "2022-03-13T17:49:19.203Z"
   },
   {
    "duration": 6,
    "start_time": "2022-03-13T17:49:19.207Z"
   },
   {
    "duration": 10,
    "start_time": "2022-03-13T17:49:19.215Z"
   },
   {
    "duration": 17,
    "start_time": "2022-03-13T17:49:19.226Z"
   },
   {
    "duration": 20,
    "start_time": "2022-03-13T17:49:19.245Z"
   },
   {
    "duration": 76,
    "start_time": "2022-03-13T17:49:19.266Z"
   },
   {
    "duration": 8,
    "start_time": "2022-03-13T17:49:19.344Z"
   },
   {
    "duration": 11,
    "start_time": "2022-03-13T17:49:19.353Z"
   },
   {
    "duration": 696,
    "start_time": "2022-03-13T17:49:19.365Z"
   },
   {
    "duration": 7,
    "start_time": "2022-03-13T17:49:20.064Z"
   },
   {
    "duration": 6,
    "start_time": "2022-03-13T17:49:20.073Z"
   },
   {
    "duration": 21,
    "start_time": "2022-03-13T17:49:20.081Z"
   },
   {
    "duration": 297,
    "start_time": "2022-03-13T17:49:20.104Z"
   },
   {
    "duration": 8,
    "start_time": "2022-03-13T17:49:20.403Z"
   },
   {
    "duration": 1420,
    "start_time": "2022-03-13T17:49:20.414Z"
   },
   {
    "duration": 6,
    "start_time": "2022-03-13T17:49:21.836Z"
   },
   {
    "duration": 117,
    "start_time": "2022-03-13T17:49:21.843Z"
   },
   {
    "duration": 8,
    "start_time": "2022-03-13T17:49:21.961Z"
   },
   {
    "duration": 3,
    "start_time": "2022-03-13T17:49:21.970Z"
   },
   {
    "duration": 6,
    "start_time": "2022-03-13T17:49:21.974Z"
   },
   {
    "duration": 3,
    "start_time": "2022-03-13T17:49:24.487Z"
   },
   {
    "duration": 329,
    "start_time": "2022-03-13T17:49:24.903Z"
   },
   {
    "duration": 3,
    "start_time": "2022-03-13T17:50:04.314Z"
   },
   {
    "duration": 2,
    "start_time": "2022-03-13T17:50:12.955Z"
   },
   {
    "duration": 11,
    "start_time": "2022-03-13T17:50:42.766Z"
   },
   {
    "duration": 4,
    "start_time": "2022-03-13T17:50:44.338Z"
   },
   {
    "duration": 6,
    "start_time": "2022-03-13T17:50:50.994Z"
   },
   {
    "duration": 1938,
    "start_time": "2022-03-13T18:01:23.285Z"
   },
   {
    "duration": 2171,
    "start_time": "2022-03-13T18:03:25.131Z"
   },
   {
    "duration": 1432,
    "start_time": "2022-03-13T18:03:53.786Z"
   },
   {
    "duration": 107,
    "start_time": "2022-03-13T18:06:22.782Z"
   },
   {
    "duration": 2252,
    "start_time": "2022-03-13T18:06:31.253Z"
   },
   {
    "duration": 389,
    "start_time": "2022-03-13T18:15:51.962Z"
   },
   {
    "duration": 366,
    "start_time": "2022-03-13T18:17:15.389Z"
   },
   {
    "duration": 310,
    "start_time": "2022-03-13T18:17:20.779Z"
   },
   {
    "duration": 313,
    "start_time": "2022-03-13T18:18:26.746Z"
   },
   {
    "duration": 295,
    "start_time": "2022-03-13T18:18:51.161Z"
   },
   {
    "duration": 314,
    "start_time": "2022-03-13T18:24:01.424Z"
   },
   {
    "duration": 317,
    "start_time": "2022-03-13T18:24:08.072Z"
   },
   {
    "duration": 100,
    "start_time": "2022-03-13T18:33:59.240Z"
   },
   {
    "duration": 411,
    "start_time": "2022-03-13T18:34:07.785Z"
   },
   {
    "duration": 311,
    "start_time": "2022-03-13T20:09:21.368Z"
   },
   {
    "duration": 16,
    "start_time": "2022-03-13T20:09:28.328Z"
   },
   {
    "duration": 670,
    "start_time": "2022-03-13T20:09:28.346Z"
   },
   {
    "duration": 13,
    "start_time": "2022-03-13T20:09:29.018Z"
   },
   {
    "duration": 9,
    "start_time": "2022-03-13T20:09:29.033Z"
   },
   {
    "duration": 13,
    "start_time": "2022-03-13T20:09:29.043Z"
   },
   {
    "duration": 16,
    "start_time": "2022-03-13T20:09:29.058Z"
   },
   {
    "duration": 7,
    "start_time": "2022-03-13T20:09:29.102Z"
   },
   {
    "duration": 16,
    "start_time": "2022-03-13T20:09:29.113Z"
   },
   {
    "duration": 6,
    "start_time": "2022-03-13T20:09:29.131Z"
   },
   {
    "duration": 6,
    "start_time": "2022-03-13T20:09:29.139Z"
   },
   {
    "duration": 9,
    "start_time": "2022-03-13T20:09:29.147Z"
   },
   {
    "duration": 43,
    "start_time": "2022-03-13T20:09:29.158Z"
   },
   {
    "duration": 24,
    "start_time": "2022-03-13T20:09:29.203Z"
   },
   {
    "duration": 50,
    "start_time": "2022-03-13T20:09:29.229Z"
   },
   {
    "duration": 26,
    "start_time": "2022-03-13T20:09:29.281Z"
   },
   {
    "duration": 16,
    "start_time": "2022-03-13T20:09:29.309Z"
   },
   {
    "duration": 719,
    "start_time": "2022-03-13T20:09:29.326Z"
   },
   {
    "duration": 5,
    "start_time": "2022-03-13T20:09:30.047Z"
   },
   {
    "duration": 5,
    "start_time": "2022-03-13T20:09:30.054Z"
   },
   {
    "duration": 5,
    "start_time": "2022-03-13T20:09:30.061Z"
   },
   {
    "duration": 311,
    "start_time": "2022-03-13T20:09:30.067Z"
   },
   {
    "duration": 8,
    "start_time": "2022-03-13T20:09:30.380Z"
   },
   {
    "duration": 1677,
    "start_time": "2022-03-13T20:09:30.391Z"
   },
   {
    "duration": 6,
    "start_time": "2022-03-13T20:09:32.070Z"
   },
   {
    "duration": 11,
    "start_time": "2022-03-13T20:09:32.077Z"
   },
   {
    "duration": 18,
    "start_time": "2022-03-13T20:09:32.089Z"
   },
   {
    "duration": 6,
    "start_time": "2022-03-13T20:09:32.109Z"
   },
   {
    "duration": 7,
    "start_time": "2022-03-13T20:09:32.116Z"
   },
   {
    "duration": 4,
    "start_time": "2022-03-13T20:09:32.125Z"
   },
   {
    "duration": 11,
    "start_time": "2022-03-13T20:09:32.130Z"
   },
   {
    "duration": 8,
    "start_time": "2022-03-13T20:09:32.142Z"
   },
   {
    "duration": 10,
    "start_time": "2022-03-13T20:09:32.152Z"
   },
   {
    "duration": 8873,
    "start_time": "2022-03-13T20:09:59.109Z"
   },
   {
    "duration": 10,
    "start_time": "2022-03-13T20:13:25.299Z"
   },
   {
    "duration": 42296,
    "start_time": "2022-03-13T20:13:43.936Z"
   },
   {
    "duration": 40484,
    "start_time": "2022-03-13T20:15:06.160Z"
   },
   {
    "duration": 4,
    "start_time": "2022-03-13T20:17:36.886Z"
   },
   {
    "duration": 7,
    "start_time": "2022-03-13T20:18:06.807Z"
   },
   {
    "duration": 6,
    "start_time": "2022-03-13T20:18:40.782Z"
   },
   {
    "duration": 4,
    "start_time": "2022-03-13T20:19:20.289Z"
   },
   {
    "duration": 6,
    "start_time": "2022-03-13T20:22:09.612Z"
   },
   {
    "duration": 5,
    "start_time": "2022-03-13T20:28:05.087Z"
   },
   {
    "duration": 6,
    "start_time": "2022-03-13T20:28:05.166Z"
   },
   {
    "duration": 4,
    "start_time": "2022-03-13T20:29:48.261Z"
   },
   {
    "duration": 8,
    "start_time": "2022-03-13T20:29:49.113Z"
   },
   {
    "duration": 1263,
    "start_time": "2022-03-14T05:28:16.957Z"
   },
   {
    "duration": 740,
    "start_time": "2022-03-14T05:28:18.222Z"
   },
   {
    "duration": 18,
    "start_time": "2022-03-14T05:28:18.964Z"
   },
   {
    "duration": 12,
    "start_time": "2022-03-14T05:28:18.984Z"
   },
   {
    "duration": 18,
    "start_time": "2022-03-14T05:28:18.998Z"
   },
   {
    "duration": 27,
    "start_time": "2022-03-14T05:28:19.018Z"
   },
   {
    "duration": 6,
    "start_time": "2022-03-14T05:28:19.078Z"
   },
   {
    "duration": 7,
    "start_time": "2022-03-14T05:28:19.087Z"
   },
   {
    "duration": 3,
    "start_time": "2022-03-14T05:28:19.096Z"
   },
   {
    "duration": 9,
    "start_time": "2022-03-14T05:28:19.101Z"
   },
   {
    "duration": 16,
    "start_time": "2022-03-14T05:28:19.111Z"
   },
   {
    "duration": 49,
    "start_time": "2022-03-14T05:28:19.129Z"
   },
   {
    "duration": 27,
    "start_time": "2022-03-14T05:28:19.180Z"
   },
   {
    "duration": 69,
    "start_time": "2022-03-14T05:28:19.209Z"
   },
   {
    "duration": 9,
    "start_time": "2022-03-14T05:28:19.280Z"
   },
   {
    "duration": 14,
    "start_time": "2022-03-14T05:28:19.291Z"
   },
   {
    "duration": 934,
    "start_time": "2022-03-14T05:28:19.307Z"
   },
   {
    "duration": 8,
    "start_time": "2022-03-14T05:28:20.242Z"
   },
   {
    "duration": 9,
    "start_time": "2022-03-14T05:28:20.252Z"
   },
   {
    "duration": 7,
    "start_time": "2022-03-14T05:28:20.278Z"
   },
   {
    "duration": 404,
    "start_time": "2022-03-14T05:28:20.287Z"
   },
   {
    "duration": 10,
    "start_time": "2022-03-14T05:28:20.693Z"
   },
   {
    "duration": 1864,
    "start_time": "2022-03-14T05:28:20.706Z"
   },
   {
    "duration": 9,
    "start_time": "2022-03-14T05:28:22.572Z"
   },
   {
    "duration": 31,
    "start_time": "2022-03-14T05:28:22.583Z"
   },
   {
    "duration": 10,
    "start_time": "2022-03-14T05:28:22.616Z"
   },
   {
    "duration": 19,
    "start_time": "2022-03-14T05:28:22.628Z"
   },
   {
    "duration": 3,
    "start_time": "2022-03-14T05:28:35.301Z"
   },
   {
    "duration": 4,
    "start_time": "2022-03-14T05:28:36.349Z"
   },
   {
    "duration": 3,
    "start_time": "2022-03-14T05:28:37.417Z"
   },
   {
    "duration": 13,
    "start_time": "2022-03-14T05:28:40.357Z"
   },
   {
    "duration": 4,
    "start_time": "2022-03-14T05:28:41.865Z"
   },
   {
    "duration": 7,
    "start_time": "2022-03-14T05:28:42.689Z"
   },
   {
    "duration": 3,
    "start_time": "2022-03-14T05:29:02.972Z"
   },
   {
    "duration": 4,
    "start_time": "2022-03-14T05:29:13.816Z"
   },
   {
    "duration": 3,
    "start_time": "2022-03-14T05:29:14.857Z"
   },
   {
    "duration": 2,
    "start_time": "2022-03-14T05:29:16.140Z"
   },
   {
    "duration": 14,
    "start_time": "2022-03-14T05:29:17.688Z"
   },
   {
    "duration": 4,
    "start_time": "2022-03-14T05:29:18.969Z"
   },
   {
    "duration": 7,
    "start_time": "2022-03-14T05:29:19.513Z"
   },
   {
    "duration": 47556,
    "start_time": "2022-03-14T05:29:23.161Z"
   },
   {
    "duration": 2660,
    "start_time": "2022-03-14T05:31:14.811Z"
   },
   {
    "duration": 47135,
    "start_time": "2022-03-14T05:31:30.316Z"
   },
   {
    "duration": 4,
    "start_time": "2022-03-14T05:42:49.864Z"
   },
   {
    "duration": 3,
    "start_time": "2022-03-14T05:43:28.760Z"
   },
   {
    "duration": 87,
    "start_time": "2022-03-14T05:48:51.874Z"
   },
   {
    "duration": 2808,
    "start_time": "2022-03-14T05:49:02.504Z"
   },
   {
    "duration": 2726,
    "start_time": "2022-03-14T05:50:37.008Z"
   },
   {
    "duration": 305,
    "start_time": "2022-03-14T05:52:20.080Z"
   },
   {
    "duration": 2977,
    "start_time": "2022-03-14T05:53:13.081Z"
   },
   {
    "duration": 85,
    "start_time": "2022-03-14T05:54:07.523Z"
   },
   {
    "duration": 85,
    "start_time": "2022-03-14T05:54:41.411Z"
   },
   {
    "duration": 3037,
    "start_time": "2022-03-14T05:55:09.874Z"
   },
   {
    "duration": 3834,
    "start_time": "2022-03-14T05:55:22.306Z"
   },
   {
    "duration": 4723,
    "start_time": "2022-03-14T05:55:51.437Z"
   },
   {
    "duration": 3811,
    "start_time": "2022-03-14T05:56:11.370Z"
   },
   {
    "duration": 4710,
    "start_time": "2022-03-14T05:56:47.078Z"
   },
   {
    "duration": 4706,
    "start_time": "2022-03-14T05:57:15.658Z"
   },
   {
    "duration": 4957,
    "start_time": "2022-03-14T06:14:58.477Z"
   },
   {
    "duration": 4786,
    "start_time": "2022-03-14T06:16:02.729Z"
   },
   {
    "duration": 683,
    "start_time": "2022-03-14T06:16:37.680Z"
   },
   {
    "duration": 44551,
    "start_time": "2022-03-14T06:16:52.167Z"
   },
   {
    "duration": 44507,
    "start_time": "2022-03-14T06:23:05.880Z"
   },
   {
    "duration": 3,
    "start_time": "2022-03-14T06:32:31.894Z"
   },
   {
    "duration": 4564,
    "start_time": "2022-03-14T06:32:35.434Z"
   },
   {
    "duration": 1659,
    "start_time": "2022-03-14T19:32:31.501Z"
   },
   {
    "duration": 955,
    "start_time": "2022-03-14T19:32:33.163Z"
   },
   {
    "duration": 24,
    "start_time": "2022-03-14T19:32:34.121Z"
   },
   {
    "duration": 36,
    "start_time": "2022-03-14T19:32:34.148Z"
   },
   {
    "duration": 27,
    "start_time": "2022-03-14T19:32:34.187Z"
   },
   {
    "duration": 62,
    "start_time": "2022-03-14T19:32:34.216Z"
   },
   {
    "duration": 14,
    "start_time": "2022-03-14T19:32:34.280Z"
   },
   {
    "duration": 10,
    "start_time": "2022-03-14T19:32:34.299Z"
   },
   {
    "duration": 5,
    "start_time": "2022-03-14T19:32:34.312Z"
   },
   {
    "duration": 11,
    "start_time": "2022-03-14T19:32:34.319Z"
   },
   {
    "duration": 14,
    "start_time": "2022-03-14T19:32:34.374Z"
   },
   {
    "duration": 29,
    "start_time": "2022-03-14T19:32:34.391Z"
   },
   {
    "duration": 68,
    "start_time": "2022-03-14T19:32:34.422Z"
   },
   {
    "duration": 97,
    "start_time": "2022-03-14T19:32:34.493Z"
   },
   {
    "duration": 11,
    "start_time": "2022-03-14T19:32:34.592Z"
   },
   {
    "duration": 21,
    "start_time": "2022-03-14T19:32:34.605Z"
   },
   {
    "duration": 1309,
    "start_time": "2022-03-14T19:32:34.629Z"
   },
   {
    "duration": 10,
    "start_time": "2022-03-14T19:32:35.940Z"
   },
   {
    "duration": 26,
    "start_time": "2022-03-14T19:32:35.952Z"
   },
   {
    "duration": 10,
    "start_time": "2022-03-14T19:32:35.980Z"
   },
   {
    "duration": 584,
    "start_time": "2022-03-14T19:32:35.992Z"
   },
   {
    "duration": 14,
    "start_time": "2022-03-14T19:32:36.579Z"
   },
   {
    "duration": 2794,
    "start_time": "2022-03-14T19:32:36.598Z"
   },
   {
    "duration": 9,
    "start_time": "2022-03-14T19:32:39.395Z"
   },
   {
    "duration": 22,
    "start_time": "2022-03-14T19:32:39.407Z"
   },
   {
    "duration": 12,
    "start_time": "2022-03-14T19:32:39.432Z"
   },
   {
    "duration": 30,
    "start_time": "2022-03-14T19:32:39.446Z"
   },
   {
    "duration": 11,
    "start_time": "2022-03-14T19:32:39.479Z"
   },
   {
    "duration": 6,
    "start_time": "2022-03-14T19:32:39.492Z"
   },
   {
    "duration": 17,
    "start_time": "2022-03-14T19:32:39.501Z"
   },
   {
    "duration": 13,
    "start_time": "2022-03-14T19:32:39.521Z"
   },
   {
    "duration": 14,
    "start_time": "2022-03-14T19:32:44.004Z"
   },
   {
    "duration": 11,
    "start_time": "2022-03-14T19:32:44.780Z"
   },
   {
    "duration": 6098,
    "start_time": "2022-03-14T19:32:56.215Z"
   },
   {
    "duration": 6815,
    "start_time": "2022-03-14T19:37:32.539Z"
   },
   {
    "duration": 12754,
    "start_time": "2022-03-14T19:38:15.568Z"
   },
   {
    "duration": 12362,
    "start_time": "2022-03-14T19:38:41.580Z"
   },
   {
    "duration": 286057,
    "start_time": "2022-03-14T20:25:19.269Z"
   },
   {
    "duration": -16,
    "start_time": "2022-03-14T20:30:05.345Z"
   },
   {
    "duration": 457191,
    "start_time": "2022-03-14T20:30:11.398Z"
   },
   {
    "duration": 67379,
    "start_time": "2022-03-14T20:37:48.591Z"
   },
   {
    "duration": 16,
    "start_time": "2022-03-14T20:38:57.966Z"
   },
   {
    "duration": 820019,
    "start_time": "2022-03-14T20:39:15.564Z"
   },
   {
    "duration": 5,
    "start_time": "2022-03-14T20:53:09.504Z"
   },
   {
    "duration": 13369,
    "start_time": "2022-03-14T20:53:26.855Z"
   },
   {
    "duration": 13113,
    "start_time": "2022-03-14T20:55:04.822Z"
   },
   {
    "duration": 13625,
    "start_time": "2022-03-14T20:55:22.602Z"
   },
   {
    "duration": 27444,
    "start_time": "2022-03-14T20:55:36.230Z"
   },
   {
    "duration": 30282,
    "start_time": "2022-03-14T20:56:16.055Z"
   },
   {
    "duration": 29457,
    "start_time": "2022-03-14T20:57:12.227Z"
   },
   {
    "duration": 32414,
    "start_time": "2022-03-14T20:57:46.972Z"
   },
   {
    "duration": 1078,
    "start_time": "2022-03-15T04:59:09.297Z"
   },
   {
    "duration": 659,
    "start_time": "2022-03-15T04:59:10.377Z"
   },
   {
    "duration": 15,
    "start_time": "2022-03-15T04:59:11.038Z"
   },
   {
    "duration": 10,
    "start_time": "2022-03-15T04:59:11.054Z"
   },
   {
    "duration": 36,
    "start_time": "2022-03-15T04:59:11.065Z"
   },
   {
    "duration": 19,
    "start_time": "2022-03-15T04:59:11.102Z"
   },
   {
    "duration": 4,
    "start_time": "2022-03-15T04:59:11.123Z"
   },
   {
    "duration": 4,
    "start_time": "2022-03-15T04:59:11.129Z"
   },
   {
    "duration": 2,
    "start_time": "2022-03-15T04:59:11.135Z"
   },
   {
    "duration": 7,
    "start_time": "2022-03-15T04:59:11.138Z"
   },
   {
    "duration": 8,
    "start_time": "2022-03-15T04:59:11.147Z"
   },
   {
    "duration": 46,
    "start_time": "2022-03-15T04:59:11.157Z"
   },
   {
    "duration": 20,
    "start_time": "2022-03-15T04:59:11.204Z"
   },
   {
    "duration": 43,
    "start_time": "2022-03-15T04:59:11.226Z"
   },
   {
    "duration": 6,
    "start_time": "2022-03-15T04:59:11.271Z"
   },
   {
    "duration": 27,
    "start_time": "2022-03-15T04:59:11.278Z"
   },
   {
    "duration": 672,
    "start_time": "2022-03-15T04:59:11.307Z"
   },
   {
    "duration": 6,
    "start_time": "2022-03-15T04:59:11.981Z"
   },
   {
    "duration": 16,
    "start_time": "2022-03-15T04:59:11.988Z"
   },
   {
    "duration": 5,
    "start_time": "2022-03-15T04:59:12.005Z"
   },
   {
    "duration": 281,
    "start_time": "2022-03-15T04:59:12.012Z"
   },
   {
    "duration": 12,
    "start_time": "2022-03-15T04:59:12.295Z"
   },
   {
    "duration": 1428,
    "start_time": "2022-03-15T04:59:12.309Z"
   },
   {
    "duration": 7,
    "start_time": "2022-03-15T04:59:13.739Z"
   },
   {
    "duration": 14,
    "start_time": "2022-03-15T04:59:13.747Z"
   },
   {
    "duration": 8,
    "start_time": "2022-03-15T04:59:13.762Z"
   },
   {
    "duration": 4,
    "start_time": "2022-03-15T04:59:13.771Z"
   },
   {
    "duration": 6,
    "start_time": "2022-03-15T04:59:13.776Z"
   },
   {
    "duration": 6,
    "start_time": "2022-03-15T04:59:13.801Z"
   },
   {
    "duration": 13,
    "start_time": "2022-03-15T04:59:13.808Z"
   },
   {
    "duration": 6,
    "start_time": "2022-03-15T04:59:13.822Z"
   },
   {
    "duration": 12,
    "start_time": "2022-03-15T04:59:13.829Z"
   },
   {
    "duration": 3734,
    "start_time": "2022-03-15T04:59:13.842Z"
   },
   {
    "duration": 9011,
    "start_time": "2022-03-15T04:59:17.578Z"
   },
   {
    "duration": 298116,
    "start_time": "2022-03-15T04:59:26.591Z"
   },
   {
    "duration": 681218,
    "start_time": "2022-03-15T05:04:24.709Z"
   },
   {
    "duration": 20436,
    "start_time": "2022-03-15T05:15:45.928Z"
   },
   {
    "duration": 3,
    "start_time": "2022-03-15T05:16:06.365Z"
   },
   {
    "duration": 7577,
    "start_time": "2022-03-15T05:25:43.186Z"
   },
   {
    "duration": 9,
    "start_time": "2022-03-15T05:26:42.066Z"
   },
   {
    "duration": 346,
    "start_time": "2022-03-15T05:26:43.599Z"
   },
   {
    "duration": 333,
    "start_time": "2022-03-15T05:26:56.381Z"
   },
   {
    "duration": 647,
    "start_time": "2022-03-15T05:28:35.183Z"
   },
   {
    "duration": 6,
    "start_time": "2022-03-15T05:29:47.558Z"
   },
   {
    "duration": 12,
    "start_time": "2022-03-15T05:30:31.594Z"
   },
   {
    "duration": 310,
    "start_time": "2022-03-15T05:41:34.415Z"
   },
   {
    "duration": 10,
    "start_time": "2022-03-15T05:41:46.802Z"
   },
   {
    "duration": 312,
    "start_time": "2022-03-15T05:41:47.283Z"
   },
   {
    "duration": 15,
    "start_time": "2022-03-15T05:43:53.191Z"
   },
   {
    "duration": 1294,
    "start_time": "2022-03-15T05:44:09.294Z"
   },
   {
    "duration": 8863,
    "start_time": "2022-03-15T05:44:47.806Z"
   },
   {
    "duration": 3353,
    "start_time": "2022-03-15T05:45:07.449Z"
   },
   {
    "duration": 321,
    "start_time": "2022-03-15T05:48:47.865Z"
   },
   {
    "duration": 4,
    "start_time": "2022-03-15T05:55:35.446Z"
   },
   {
    "duration": 582,
    "start_time": "2022-03-15T05:55:51.186Z"
   },
   {
    "duration": 7,
    "start_time": "2022-03-15T05:56:37.741Z"
   },
   {
    "duration": 658,
    "start_time": "2022-03-15T05:59:57.405Z"
   },
   {
    "duration": 329,
    "start_time": "2022-03-15T06:00:06.125Z"
   },
   {
    "duration": 1941,
    "start_time": "2022-03-15T06:01:49.297Z"
   }
  ],
  "kernelspec": {
   "display_name": "Python 3 (ipykernel)",
   "language": "python",
   "name": "python3"
  },
  "language_info": {
   "codemirror_mode": {
    "name": "ipython",
    "version": 3
   },
   "file_extension": ".py",
   "mimetype": "text/x-python",
   "name": "python",
   "nbconvert_exporter": "python",
   "pygments_lexer": "ipython3",
   "version": "3.9.7"
  },
  "toc": {
   "base_numbering": 1,
   "nav_menu": {},
   "number_sections": true,
   "sideBar": true,
   "skip_h1_title": true,
   "title_cell": "Содержание",
   "title_sidebar": "Contents",
   "toc_cell": true,
   "toc_position": {},
   "toc_section_display": true,
   "toc_window_display": true
  }
 },
 "nbformat": 4,
 "nbformat_minor": 2
}
