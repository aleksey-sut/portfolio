{
 "cells": [
  {
   "cell_type": "markdown",
   "metadata": {},
   "source": [
    "# Определение стоимости автомобилей"
   ]
  },
  {
   "cell_type": "markdown",
   "metadata": {},
   "source": [
    "Сервис по продаже автомобилей с пробегом «Не бит, не крашен» разрабатывает приложение для привлечения новых клиентов. В нём можно быстро узнать рыночную стоимость своего автомобиля. В вашем распоряжении исторические данные: технические характеристики, комплектации и цены автомобилей. Вам нужно построить модель для определения стоимости. \n",
    "\n",
    "Заказчику важны:\n",
    "\n",
    "- качество предсказания;\n",
    "- скорость предсказания;\n",
    "- время обучения.\n"
   ]
  },
  {
   "cell_type": "markdown",
   "metadata": {},
   "source": [
    "Признаки\n",
    "- DateCrawled — дата скачивания анкеты из базы\n",
    "- VehicleType — тип автомобильного кузова\n",
    "- RegistrationYear — год регистрации автомобиля\n",
    "- Gearbox — тип коробки передач\n",
    "- Power — мощность (л. с.)\n",
    "- Model — модель автомобиля\n",
    "- Kilometer — пробег (км)\n",
    "- RegistrationMonth — месяц регистрации автомобиля\n",
    "- FuelType — тип топлива\n",
    "- Brand — марка автомобиля\n",
    "- NotRepaired — была машина в ремонте или нет\n",
    "- DateCreated — дата создания анкеты\n",
    "- NumberOfPictures — количество фотографий автомобиля\n",
    "- PostalCode — почтовый индекс владельца анкеты (пользователя)\n",
    "- LastSeen — дата последней активности пользователя\n",
    "\n",
    "Целевой признак\n",
    "- Price — цена (евро)"
   ]
  },
  {
   "cell_type": "code",
   "execution_count": 14,
   "metadata": {},
   "outputs": [
    {
     "name": "stdout",
     "output_type": "stream",
     "text": [
      "Requirement already satisfied: sweetviz in /opt/conda/lib/python3.9/site-packages (2.1.3)\n",
      "Requirement already satisfied: scipy>=1.3.2 in /opt/conda/lib/python3.9/site-packages (from sweetviz) (1.8.0)\n",
      "Requirement already satisfied: jinja2>=2.11.1 in /opt/conda/lib/python3.9/site-packages (from sweetviz) (3.0.1)\n",
      "Requirement already satisfied: importlib-resources>=1.2.0 in /opt/conda/lib/python3.9/site-packages (from sweetviz) (5.7.1)\n",
      "Requirement already satisfied: pandas!=1.0.0,!=1.0.1,!=1.0.2,>=0.25.3 in /opt/conda/lib/python3.9/site-packages (from sweetviz) (1.2.4)\n",
      "Requirement already satisfied: tqdm>=4.43.0 in /opt/conda/lib/python3.9/site-packages (from sweetviz) (4.61.2)\n",
      "Requirement already satisfied: numpy>=1.16.0 in /opt/conda/lib/python3.9/site-packages (from sweetviz) (1.21.1)\n",
      "Requirement already satisfied: matplotlib>=3.1.3 in /opt/conda/lib/python3.9/site-packages (from sweetviz) (3.3.4)\n",
      "Requirement already satisfied: zipp>=3.1.0 in /opt/conda/lib/python3.9/site-packages (from importlib-resources>=1.2.0->sweetviz) (3.5.0)\n",
      "Requirement already satisfied: MarkupSafe>=2.0 in /opt/conda/lib/python3.9/site-packages (from jinja2>=2.11.1->sweetviz) (2.0.1)\n",
      "Requirement already satisfied: kiwisolver>=1.0.1 in /opt/conda/lib/python3.9/site-packages (from matplotlib>=3.1.3->sweetviz) (1.4.0)\n",
      "Requirement already satisfied: pillow>=6.2.0 in /opt/conda/lib/python3.9/site-packages (from matplotlib>=3.1.3->sweetviz) (8.4.0)\n",
      "Requirement already satisfied: pyparsing!=2.0.4,!=2.1.2,!=2.1.6,>=2.0.3 in /opt/conda/lib/python3.9/site-packages (from matplotlib>=3.1.3->sweetviz) (2.4.7)\n",
      "Requirement already satisfied: python-dateutil>=2.1 in /opt/conda/lib/python3.9/site-packages (from matplotlib>=3.1.3->sweetviz) (2.8.1)\n",
      "Requirement already satisfied: cycler>=0.10 in /opt/conda/lib/python3.9/site-packages (from matplotlib>=3.1.3->sweetviz) (0.11.0)\n",
      "Requirement already satisfied: pytz>=2017.3 in /opt/conda/lib/python3.9/site-packages (from pandas!=1.0.0,!=1.0.1,!=1.0.2,>=0.25.3->sweetviz) (2021.1)\n",
      "Requirement already satisfied: six>=1.5 in /opt/conda/lib/python3.9/site-packages (from python-dateutil>=2.1->matplotlib>=3.1.3->sweetviz) (1.16.0)\n",
      "Note: you may need to restart the kernel to use updated packages.\n"
     ]
    }
   ],
   "source": [
    "pip install sweetviz"
   ]
  },
  {
   "cell_type": "code",
   "execution_count": 51,
   "metadata": {},
   "outputs": [],
   "source": [
    "import pandas as pd\n",
    "from tqdm import tqdm\n",
    "from sklearn.model_selection import train_test_split, cross_val_score, GridSearchCV\n",
    "from sklearn.preprocessing import OneHotEncoder, StandardScaler\n",
    "from sklearn.compose import ColumnTransformer\n",
    "from sklearn.pipeline import Pipeline\n",
    "from sklearn.linear_model import LinearRegression\n",
    "import lightgbm as lgb\n",
    "from lightgbm import LGBMRegressor\n",
    "from catboost import CatBoostRegressor\n",
    "from sklearn.metrics import mean_squared_error\n",
    "import sweetviz as sv\n",
    "import matplotlib.pyplot as plt"
   ]
  },
  {
   "cell_type": "markdown",
   "metadata": {},
   "source": [
    "## Подготовка данных"
   ]
  },
  {
   "cell_type": "code",
   "execution_count": 16,
   "metadata": {},
   "outputs": [],
   "source": [
    "df = pd.read_csv('/datasets/autos.csv')"
   ]
  },
  {
   "cell_type": "code",
   "execution_count": 17,
   "metadata": {},
   "outputs": [
    {
     "data": {
      "text/html": [
       "<div>\n",
       "<style scoped>\n",
       "    .dataframe tbody tr th:only-of-type {\n",
       "        vertical-align: middle;\n",
       "    }\n",
       "\n",
       "    .dataframe tbody tr th {\n",
       "        vertical-align: top;\n",
       "    }\n",
       "\n",
       "    .dataframe thead th {\n",
       "        text-align: right;\n",
       "    }\n",
       "</style>\n",
       "<table border=\"1\" class=\"dataframe\">\n",
       "  <thead>\n",
       "    <tr style=\"text-align: right;\">\n",
       "      <th></th>\n",
       "      <th>DateCrawled</th>\n",
       "      <th>Price</th>\n",
       "      <th>VehicleType</th>\n",
       "      <th>RegistrationYear</th>\n",
       "      <th>Gearbox</th>\n",
       "      <th>Power</th>\n",
       "      <th>Model</th>\n",
       "      <th>Kilometer</th>\n",
       "      <th>RegistrationMonth</th>\n",
       "      <th>FuelType</th>\n",
       "      <th>Brand</th>\n",
       "      <th>NotRepaired</th>\n",
       "      <th>DateCreated</th>\n",
       "      <th>NumberOfPictures</th>\n",
       "      <th>PostalCode</th>\n",
       "      <th>LastSeen</th>\n",
       "    </tr>\n",
       "  </thead>\n",
       "  <tbody>\n",
       "    <tr>\n",
       "      <th>278557</th>\n",
       "      <td>2016-04-04 15:54:02</td>\n",
       "      <td>1200</td>\n",
       "      <td>small</td>\n",
       "      <td>1998</td>\n",
       "      <td>manual</td>\n",
       "      <td>44</td>\n",
       "      <td>polo</td>\n",
       "      <td>150000</td>\n",
       "      <td>2</td>\n",
       "      <td>NaN</td>\n",
       "      <td>volkswagen</td>\n",
       "      <td>NaN</td>\n",
       "      <td>2016-04-04 00:00:00</td>\n",
       "      <td>0</td>\n",
       "      <td>57645</td>\n",
       "      <td>2016-04-05 12:09:12</td>\n",
       "    </tr>\n",
       "    <tr>\n",
       "      <th>306152</th>\n",
       "      <td>2016-03-13 18:53:22</td>\n",
       "      <td>3200</td>\n",
       "      <td>NaN</td>\n",
       "      <td>2016</td>\n",
       "      <td>manual</td>\n",
       "      <td>108</td>\n",
       "      <td>3_reihe</td>\n",
       "      <td>125000</td>\n",
       "      <td>3</td>\n",
       "      <td>NaN</td>\n",
       "      <td>peugeot</td>\n",
       "      <td>no</td>\n",
       "      <td>2016-03-13 00:00:00</td>\n",
       "      <td>0</td>\n",
       "      <td>33775</td>\n",
       "      <td>2016-03-24 07:15:37</td>\n",
       "    </tr>\n",
       "    <tr>\n",
       "      <th>263731</th>\n",
       "      <td>2016-03-22 20:52:39</td>\n",
       "      <td>11900</td>\n",
       "      <td>sedan</td>\n",
       "      <td>2006</td>\n",
       "      <td>auto</td>\n",
       "      <td>224</td>\n",
       "      <td>other</td>\n",
       "      <td>150000</td>\n",
       "      <td>7</td>\n",
       "      <td>gasoline</td>\n",
       "      <td>mercedes_benz</td>\n",
       "      <td>yes</td>\n",
       "      <td>2016-03-22 00:00:00</td>\n",
       "      <td>0</td>\n",
       "      <td>4416</td>\n",
       "      <td>2016-04-02 16:18:07</td>\n",
       "    </tr>\n",
       "    <tr>\n",
       "      <th>166869</th>\n",
       "      <td>2016-03-23 11:25:23</td>\n",
       "      <td>2700</td>\n",
       "      <td>small</td>\n",
       "      <td>2006</td>\n",
       "      <td>NaN</td>\n",
       "      <td>0</td>\n",
       "      <td>polo</td>\n",
       "      <td>150000</td>\n",
       "      <td>0</td>\n",
       "      <td>gasoline</td>\n",
       "      <td>volkswagen</td>\n",
       "      <td>NaN</td>\n",
       "      <td>2016-03-23 00:00:00</td>\n",
       "      <td>0</td>\n",
       "      <td>60314</td>\n",
       "      <td>2016-03-23 11:31:48</td>\n",
       "    </tr>\n",
       "    <tr>\n",
       "      <th>235520</th>\n",
       "      <td>2016-03-18 15:36:55</td>\n",
       "      <td>2900</td>\n",
       "      <td>convertible</td>\n",
       "      <td>2000</td>\n",
       "      <td>manual</td>\n",
       "      <td>75</td>\n",
       "      <td>lupo</td>\n",
       "      <td>150000</td>\n",
       "      <td>6</td>\n",
       "      <td>petrol</td>\n",
       "      <td>volkswagen</td>\n",
       "      <td>no</td>\n",
       "      <td>2016-03-18 00:00:00</td>\n",
       "      <td>0</td>\n",
       "      <td>89081</td>\n",
       "      <td>2016-04-05 22:18:59</td>\n",
       "    </tr>\n",
       "  </tbody>\n",
       "</table>\n",
       "</div>"
      ],
      "text/plain": [
       "                DateCrawled  Price  VehicleType  RegistrationYear Gearbox  \\\n",
       "278557  2016-04-04 15:54:02   1200        small              1998  manual   \n",
       "306152  2016-03-13 18:53:22   3200          NaN              2016  manual   \n",
       "263731  2016-03-22 20:52:39  11900        sedan              2006    auto   \n",
       "166869  2016-03-23 11:25:23   2700        small              2006     NaN   \n",
       "235520  2016-03-18 15:36:55   2900  convertible              2000  manual   \n",
       "\n",
       "        Power    Model  Kilometer  RegistrationMonth  FuelType          Brand  \\\n",
       "278557     44     polo     150000                  2       NaN     volkswagen   \n",
       "306152    108  3_reihe     125000                  3       NaN        peugeot   \n",
       "263731    224    other     150000                  7  gasoline  mercedes_benz   \n",
       "166869      0     polo     150000                  0  gasoline     volkswagen   \n",
       "235520     75     lupo     150000                  6    petrol     volkswagen   \n",
       "\n",
       "       NotRepaired          DateCreated  NumberOfPictures  PostalCode  \\\n",
       "278557         NaN  2016-04-04 00:00:00                 0       57645   \n",
       "306152          no  2016-03-13 00:00:00                 0       33775   \n",
       "263731         yes  2016-03-22 00:00:00                 0        4416   \n",
       "166869         NaN  2016-03-23 00:00:00                 0       60314   \n",
       "235520          no  2016-03-18 00:00:00                 0       89081   \n",
       "\n",
       "                   LastSeen  \n",
       "278557  2016-04-05 12:09:12  \n",
       "306152  2016-03-24 07:15:37  \n",
       "263731  2016-04-02 16:18:07  \n",
       "166869  2016-03-23 11:31:48  \n",
       "235520  2016-04-05 22:18:59  "
      ]
     },
     "execution_count": 17,
     "metadata": {},
     "output_type": "execute_result"
    }
   ],
   "source": [
    "df.sample(5)"
   ]
  },
  {
   "cell_type": "code",
   "execution_count": 18,
   "metadata": {
    "scrolled": true
   },
   "outputs": [
    {
     "name": "stdout",
     "output_type": "stream",
     "text": [
      "<class 'pandas.core.frame.DataFrame'>\n",
      "RangeIndex: 354369 entries, 0 to 354368\n",
      "Data columns (total 16 columns):\n",
      " #   Column             Non-Null Count   Dtype \n",
      "---  ------             --------------   ----- \n",
      " 0   DateCrawled        354369 non-null  object\n",
      " 1   Price              354369 non-null  int64 \n",
      " 2   VehicleType        316879 non-null  object\n",
      " 3   RegistrationYear   354369 non-null  int64 \n",
      " 4   Gearbox            334536 non-null  object\n",
      " 5   Power              354369 non-null  int64 \n",
      " 6   Model              334664 non-null  object\n",
      " 7   Kilometer          354369 non-null  int64 \n",
      " 8   RegistrationMonth  354369 non-null  int64 \n",
      " 9   FuelType           321474 non-null  object\n",
      " 10  Brand              354369 non-null  object\n",
      " 11  NotRepaired        283215 non-null  object\n",
      " 12  DateCreated        354369 non-null  object\n",
      " 13  NumberOfPictures   354369 non-null  int64 \n",
      " 14  PostalCode         354369 non-null  int64 \n",
      " 15  LastSeen           354369 non-null  object\n",
      "dtypes: int64(7), object(9)\n",
      "memory usage: 43.3+ MB\n"
     ]
    }
   ],
   "source": [
    "df.info()"
   ]
  },
  {
   "cell_type": "code",
   "execution_count": 19,
   "metadata": {},
   "outputs": [
    {
     "data": {
      "text/html": [
       "<div>\n",
       "<style scoped>\n",
       "    .dataframe tbody tr th:only-of-type {\n",
       "        vertical-align: middle;\n",
       "    }\n",
       "\n",
       "    .dataframe tbody tr th {\n",
       "        vertical-align: top;\n",
       "    }\n",
       "\n",
       "    .dataframe thead th {\n",
       "        text-align: right;\n",
       "    }\n",
       "</style>\n",
       "<table border=\"1\" class=\"dataframe\">\n",
       "  <thead>\n",
       "    <tr style=\"text-align: right;\">\n",
       "      <th></th>\n",
       "      <th>count</th>\n",
       "      <th>mean</th>\n",
       "      <th>std</th>\n",
       "      <th>min</th>\n",
       "      <th>25%</th>\n",
       "      <th>50%</th>\n",
       "      <th>75%</th>\n",
       "      <th>max</th>\n",
       "    </tr>\n",
       "  </thead>\n",
       "  <tbody>\n",
       "    <tr>\n",
       "      <th>Price</th>\n",
       "      <td>354369.0</td>\n",
       "      <td>4416.656776</td>\n",
       "      <td>4514.158514</td>\n",
       "      <td>0.0</td>\n",
       "      <td>1050.0</td>\n",
       "      <td>2700.0</td>\n",
       "      <td>6400.0</td>\n",
       "      <td>20000.0</td>\n",
       "    </tr>\n",
       "    <tr>\n",
       "      <th>RegistrationYear</th>\n",
       "      <td>354369.0</td>\n",
       "      <td>2004.234448</td>\n",
       "      <td>90.227958</td>\n",
       "      <td>1000.0</td>\n",
       "      <td>1999.0</td>\n",
       "      <td>2003.0</td>\n",
       "      <td>2008.0</td>\n",
       "      <td>9999.0</td>\n",
       "    </tr>\n",
       "    <tr>\n",
       "      <th>Power</th>\n",
       "      <td>354369.0</td>\n",
       "      <td>110.094337</td>\n",
       "      <td>189.850405</td>\n",
       "      <td>0.0</td>\n",
       "      <td>69.0</td>\n",
       "      <td>105.0</td>\n",
       "      <td>143.0</td>\n",
       "      <td>20000.0</td>\n",
       "    </tr>\n",
       "    <tr>\n",
       "      <th>Kilometer</th>\n",
       "      <td>354369.0</td>\n",
       "      <td>128211.172535</td>\n",
       "      <td>37905.341530</td>\n",
       "      <td>5000.0</td>\n",
       "      <td>125000.0</td>\n",
       "      <td>150000.0</td>\n",
       "      <td>150000.0</td>\n",
       "      <td>150000.0</td>\n",
       "    </tr>\n",
       "    <tr>\n",
       "      <th>RegistrationMonth</th>\n",
       "      <td>354369.0</td>\n",
       "      <td>5.714645</td>\n",
       "      <td>3.726421</td>\n",
       "      <td>0.0</td>\n",
       "      <td>3.0</td>\n",
       "      <td>6.0</td>\n",
       "      <td>9.0</td>\n",
       "      <td>12.0</td>\n",
       "    </tr>\n",
       "    <tr>\n",
       "      <th>NumberOfPictures</th>\n",
       "      <td>354369.0</td>\n",
       "      <td>0.000000</td>\n",
       "      <td>0.000000</td>\n",
       "      <td>0.0</td>\n",
       "      <td>0.0</td>\n",
       "      <td>0.0</td>\n",
       "      <td>0.0</td>\n",
       "      <td>0.0</td>\n",
       "    </tr>\n",
       "    <tr>\n",
       "      <th>PostalCode</th>\n",
       "      <td>354369.0</td>\n",
       "      <td>50508.689087</td>\n",
       "      <td>25783.096248</td>\n",
       "      <td>1067.0</td>\n",
       "      <td>30165.0</td>\n",
       "      <td>49413.0</td>\n",
       "      <td>71083.0</td>\n",
       "      <td>99998.0</td>\n",
       "    </tr>\n",
       "  </tbody>\n",
       "</table>\n",
       "</div>"
      ],
      "text/plain": [
       "                      count           mean           std     min       25%  \\\n",
       "Price              354369.0    4416.656776   4514.158514     0.0    1050.0   \n",
       "RegistrationYear   354369.0    2004.234448     90.227958  1000.0    1999.0   \n",
       "Power              354369.0     110.094337    189.850405     0.0      69.0   \n",
       "Kilometer          354369.0  128211.172535  37905.341530  5000.0  125000.0   \n",
       "RegistrationMonth  354369.0       5.714645      3.726421     0.0       3.0   \n",
       "NumberOfPictures   354369.0       0.000000      0.000000     0.0       0.0   \n",
       "PostalCode         354369.0   50508.689087  25783.096248  1067.0   30165.0   \n",
       "\n",
       "                        50%       75%       max  \n",
       "Price                2700.0    6400.0   20000.0  \n",
       "RegistrationYear     2003.0    2008.0    9999.0  \n",
       "Power                 105.0     143.0   20000.0  \n",
       "Kilometer          150000.0  150000.0  150000.0  \n",
       "RegistrationMonth       6.0       9.0      12.0  \n",
       "NumberOfPictures        0.0       0.0       0.0  \n",
       "PostalCode          49413.0   71083.0   99998.0  "
      ]
     },
     "execution_count": 19,
     "metadata": {},
     "output_type": "execute_result"
    }
   ],
   "source": [
    "df.describe().T"
   ]
  },
  {
   "cell_type": "code",
   "execution_count": 20,
   "metadata": {
    "scrolled": false
   },
   "outputs": [
    {
     "data": {
      "text/plain": [
       "DateCrawled              0\n",
       "Price                    0\n",
       "VehicleType          37490\n",
       "RegistrationYear         0\n",
       "Gearbox              19833\n",
       "Power                    0\n",
       "Model                19705\n",
       "Kilometer                0\n",
       "RegistrationMonth        0\n",
       "FuelType             32895\n",
       "Brand                    0\n",
       "NotRepaired          71154\n",
       "DateCreated              0\n",
       "NumberOfPictures         0\n",
       "PostalCode               0\n",
       "LastSeen                 0\n",
       "dtype: int64"
      ]
     },
     "execution_count": 20,
     "metadata": {},
     "output_type": "execute_result"
    }
   ],
   "source": [
    "df.isna().sum()"
   ]
  },
  {
   "cell_type": "markdown",
   "metadata": {},
   "source": [
    "В данных присутствуют пропуски:\n",
    "- VehicleType:          37490\n",
    "- Gearbox:              19833\n",
    "- Model:                19705\n",
    "- FuelType:             32895\n",
    "- NotRepaired:          71154"
   ]
  },
  {
   "cell_type": "code",
   "execution_count": 21,
   "metadata": {},
   "outputs": [
    {
     "data": {
      "application/vnd.jupyter.widget-view+json": {
       "model_id": "a92d095785d24ba395f6d3fdb8d3fe07",
       "version_major": 2,
       "version_minor": 0
      },
      "text/plain": [
       "                                             |          | [  0%]   00:00 -> (? left)"
      ]
     },
     "metadata": {},
     "output_type": "display_data"
    }
   ],
   "source": [
    "comparison_report = sv.analyze([df, \"Car price\"])"
   ]
  },
  {
   "cell_type": "code",
   "execution_count": 49,
   "metadata": {},
   "outputs": [
    {
     "ename": "SyntaxError",
     "evalue": "invalid syntax (3360956505.py, line 1)",
     "output_type": "error",
     "traceback": [
      "\u001b[0;36m  File \u001b[0;32m\"/tmp/ipykernel_57/3360956505.py\"\u001b[0;36m, line \u001b[0;32m1\u001b[0m\n\u001b[0;31m    comparison_report.show_notebook((w=900, h=700, scale=0.8)\u001b[0m\n\u001b[0m                                      ^\u001b[0m\n\u001b[0;31mSyntaxError\u001b[0m\u001b[0;31m:\u001b[0m invalid syntax\n"
     ]
    }
   ],
   "source": [
    "comparison_report.show_notebook((w=900, h=700, scale=0.8)"
   ]
  },
  {
   "cell_type": "markdown",
   "metadata": {},
   "source": [
    "Заменим Null значения в признаках Model и NotRepaired на \"unknoun\""
   ]
  },
  {
   "cell_type": "code",
   "execution_count": 23,
   "metadata": {
    "scrolled": false
   },
   "outputs": [],
   "source": [
    "df[['Model', 'NotRepaired']] = df[['Model', 'NotRepaired']].fillna('unknoun')"
   ]
  },
  {
   "cell_type": "code",
   "execution_count": 24,
   "metadata": {
    "scrolled": false
   },
   "outputs": [
    {
     "data": {
      "text/plain": [
       "Model          0\n",
       "NotRepaired    0\n",
       "dtype: int64"
      ]
     },
     "execution_count": 24,
     "metadata": {},
     "output_type": "execute_result"
    }
   ],
   "source": [
    "df[['Model', 'NotRepaired']].isna().sum()"
   ]
  },
  {
   "cell_type": "markdown",
   "metadata": {},
   "source": [
    "Заменим Null значения в столбцах VehicleType, Gearbox, FuelType. Так как данные категориальные, самой логичной заменой является мода этих признаков, сгрупированных по модели (столбец \"Model\")"
   ]
  },
  {
   "cell_type": "code",
   "execution_count": 25,
   "metadata": {},
   "outputs": [],
   "source": [
    "def mode(series):\n",
    "    mode = series.mode()\n",
    "    if len(mode) > 0:\n",
    "        return mode[0]\n",
    "    return None"
   ]
  },
  {
   "cell_type": "code",
   "execution_count": 26,
   "metadata": {},
   "outputs": [
    {
     "name": "stderr",
     "output_type": "stream",
     "text": [
      "100%|██████████| 3/3 [00:00<00:00,  3.32it/s]\n"
     ]
    }
   ],
   "source": [
    "features = ['VehicleType','Gearbox', 'FuelType']\n",
    "for feature in tqdm(features):\n",
    "    df[feature] = df[feature].fillna(df.groupby('Model')[feature].transform(mode))"
   ]
  },
  {
   "cell_type": "code",
   "execution_count": 27,
   "metadata": {
    "scrolled": true
   },
   "outputs": [
    {
     "data": {
      "text/plain": [
       "DateCrawled          0\n",
       "Price                0\n",
       "VehicleType          0\n",
       "RegistrationYear     0\n",
       "Gearbox              0\n",
       "Power                0\n",
       "Model                0\n",
       "Kilometer            0\n",
       "RegistrationMonth    0\n",
       "FuelType             0\n",
       "Brand                0\n",
       "NotRepaired          0\n",
       "DateCreated          0\n",
       "NumberOfPictures     0\n",
       "PostalCode           0\n",
       "LastSeen             0\n",
       "dtype: int64"
      ]
     },
     "execution_count": 27,
     "metadata": {},
     "output_type": "execute_result"
    }
   ],
   "source": [
    "df.isna().sum()"
   ]
  },
  {
   "cell_type": "markdown",
   "metadata": {},
   "source": [
    "Вывод: Null значения заменены."
   ]
  },
  {
   "cell_type": "markdown",
   "metadata": {},
   "source": [
    " В данных присцтствуют признаки которые не влияют на прогнозируемую стоимость, а именно:\n",
    "\n",
    "- DateCrawled — дата скачивания анкеты из базы\n",
    "- PostalCode — почтовый индекс владельца анкеты (пользователя)\n",
    "- LastSeen — дата последней активности пользователя\n",
    "- NumberOfPictures — количество фотографий автомобиля  \n",
    "Удалим их   \n",
    "Дополнительно, переведем DateCreated в формат год и месяц создания анкеты"
   ]
  },
  {
   "cell_type": "code",
   "execution_count": 28,
   "metadata": {
    "scrolled": true
   },
   "outputs": [],
   "source": [
    "df['DateCreated'] = pd.to_datetime(df['DateCreated'],format='%Y.%m.%d %H:%M:%S')\n"
   ]
  },
  {
   "cell_type": "code",
   "execution_count": 29,
   "metadata": {},
   "outputs": [],
   "source": [
    "df['DateCreatedYear'] = pd.DatetimeIndex(df['DateCreated']).year\n",
    "df['DateCreatedMonth'] = pd.DatetimeIndex(df['DateCreated']).month"
   ]
  },
  {
   "cell_type": "code",
   "execution_count": 30,
   "metadata": {},
   "outputs": [],
   "source": [
    "df = df.drop(['DateCrawled', 'PostalCode', 'LastSeen', 'NumberOfPictures', 'DateCreated'], axis=1)"
   ]
  },
  {
   "cell_type": "code",
   "execution_count": 31,
   "metadata": {},
   "outputs": [
    {
     "name": "stdout",
     "output_type": "stream",
     "text": [
      "<class 'pandas.core.frame.DataFrame'>\n",
      "RangeIndex: 354369 entries, 0 to 354368\n",
      "Data columns (total 13 columns):\n",
      " #   Column             Non-Null Count   Dtype \n",
      "---  ------             --------------   ----- \n",
      " 0   Price              354369 non-null  int64 \n",
      " 1   VehicleType        354369 non-null  object\n",
      " 2   RegistrationYear   354369 non-null  int64 \n",
      " 3   Gearbox            354369 non-null  object\n",
      " 4   Power              354369 non-null  int64 \n",
      " 5   Model              354369 non-null  object\n",
      " 6   Kilometer          354369 non-null  int64 \n",
      " 7   RegistrationMonth  354369 non-null  int64 \n",
      " 8   FuelType           354369 non-null  object\n",
      " 9   Brand              354369 non-null  object\n",
      " 10  NotRepaired        354369 non-null  object\n",
      " 11  DateCreatedYear    354369 non-null  int64 \n",
      " 12  DateCreatedMonth   354369 non-null  int64 \n",
      "dtypes: int64(7), object(6)\n",
      "memory usage: 35.1+ MB\n"
     ]
    }
   ],
   "source": [
    "df.info()"
   ]
  },
  {
   "cell_type": "markdown",
   "metadata": {},
   "source": [
    "Разделим выборку на trein и valid: "
   ]
  },
  {
   "cell_type": "code",
   "execution_count": 32,
   "metadata": {},
   "outputs": [
    {
     "name": "stdout",
     "output_type": "stream",
     "text": [
      "(265776, 12) (265776,) (88593, 12) (88593,)\n"
     ]
    }
   ],
   "source": [
    "df_train, df_valid = train_test_split(df, train_size=0.75, random_state=12345)\n",
    "features_train = df_train.drop('Price', axis=1)\n",
    "target_train = df_train['Price']\n",
    "features_valid = df_valid.drop('Price', axis=1)\n",
    "target_valid = df_valid['Price']\n",
    "print(features_train.shape, target_train.shape, features_valid.shape, target_valid.shape)"
   ]
  },
  {
   "cell_type": "markdown",
   "metadata": {},
   "source": [
    "**Вывод по п.1:**  \n",
    "Данные загружены из csv файла. В вборке - 354369 объкта, достаточное колличество для проведения исследования.  \n",
    "В данных присутствовали Null значения, которые были заменяны:  в признаках Model и NotRepaired на \"unknoun\", в признаках VehicleType, Gearbox, FuelType - на моду этих признаков, сгрупированных по модели (столбец \"Model\")  \n",
    "Для обучения моделей, датафрейм был разделен на train и valid выборки."
   ]
  },
  {
   "cell_type": "markdown",
   "metadata": {},
   "source": [
    "## Обучение моделей"
   ]
  },
  {
   "cell_type": "markdown",
   "metadata": {},
   "source": [
    "LightGBM"
   ]
  },
  {
   "cell_type": "markdown",
   "metadata": {},
   "source": [
    "**Исследуем модель LightGBM**"
   ]
  },
  {
   "cell_type": "code",
   "execution_count": 33,
   "metadata": {},
   "outputs": [],
   "source": [
    "features_train[['VehicleType', 'Gearbox', 'Model', 'FuelType', 'Brand', 'NotRepaired']] = features_train[['VehicleType', 'Gearbox', 'Model', 'FuelType', 'Brand', 'NotRepaired']].astype('category')\n",
    "features_valid[['VehicleType', 'Gearbox', 'Model', 'FuelType', 'Brand', 'NotRepaired']] = features_valid[['VehicleType', 'Gearbox', 'Model', 'FuelType', 'Brand', 'NotRepaired']].astype('category')"
   ]
  },
  {
   "cell_type": "code",
   "execution_count": 34,
   "metadata": {
    "scrolled": false
   },
   "outputs": [
    {
     "name": "stdout",
     "output_type": "stream",
     "text": [
      "CPU times: user 8.07 s, sys: 90.9 ms, total: 8.16 s\n",
      "Wall time: 8.24 s\n"
     ]
    },
    {
     "data": {
      "text/plain": [
       "LGBMRegressor()"
      ]
     },
     "execution_count": 34,
     "metadata": {},
     "output_type": "execute_result"
    }
   ],
   "source": [
    "%%time\n",
    "model = LGBMRegressor()\n",
    "model.fit(features_train, target_train)"
   ]
  },
  {
   "cell_type": "code",
   "execution_count": 35,
   "metadata": {
    "scrolled": true
   },
   "outputs": [
    {
     "name": "stdout",
     "output_type": "stream",
     "text": [
      "RMSE LightGBM на валидационной выборке: 1787.051214844383\n",
      "CPU times: user 1.28 s, sys: 317 µs, total: 1.28 s\n",
      "Wall time: 1.29 s\n"
     ]
    }
   ],
   "source": [
    "%%time\n",
    "predict_cb = model.predict(features_valid)\n",
    "RMSE_CB = mean_squared_error(target_valid, predict_cb)**0.5\n",
    "print('RMSE LightGBM на валидационной выборке:', RMSE_CB)"
   ]
  },
  {
   "cell_type": "markdown",
   "metadata": {},
   "source": [
    "Вывод: \n",
    "модель LightGBM показала следующие результаты:\n",
    "- время обучения на train выборке - 6.25 сек.\n",
    "- время предсказания на valid выборке - 904 мсек.\n",
    "- RMSE на валидационной выборке - 1787"
   ]
  },
  {
   "cell_type": "markdown",
   "metadata": {},
   "source": [
    "**Исследуем модель CatBoostRegressor**"
   ]
  },
  {
   "cell_type": "code",
   "execution_count": 36,
   "metadata": {
    "collapsed": true
   },
   "outputs": [
    {
     "name": "stdout",
     "output_type": "stream",
     "text": [
      "Learning rate set to 0.5\n",
      "0:\tlearn: 3284.8785243\ttotal: 333ms\tremaining: 16.3s\n",
      "10:\tlearn: 2045.0147455\ttotal: 2.74s\tremaining: 9.73s\n",
      "20:\tlearn: 1955.0049921\ttotal: 5.04s\tremaining: 6.97s\n",
      "30:\tlearn: 1909.5916279\ttotal: 7.38s\tremaining: 4.52s\n",
      "40:\tlearn: 1877.3699701\ttotal: 9.72s\tremaining: 2.13s\n",
      "49:\tlearn: 1860.8319420\ttotal: 11.8s\tremaining: 0us\n",
      "CPU times: user 12.2 s, sys: 66.9 ms, total: 12.3 s\n",
      "Wall time: 13.8 s\n"
     ]
    },
    {
     "data": {
      "text/plain": [
       "<catboost.core.CatBoostRegressor at 0x7fb40b6483a0>"
      ]
     },
     "execution_count": 36,
     "metadata": {},
     "output_type": "execute_result"
    }
   ],
   "source": [
    "%%time\n",
    "model = CatBoostRegressor(loss_function='RMSE', iterations=50)\n",
    "cat_features=['VehicleType', 'Gearbox', 'Model', 'FuelType', 'Brand', 'NotRepaired']\n",
    "model.fit(features_train, target_train, cat_features=cat_features, verbose=10)"
   ]
  },
  {
   "cell_type": "code",
   "execution_count": 54,
   "metadata": {},
   "outputs": [
    {
     "data": {
      "text/plain": [
       "array([ 6.37644798, 32.27029327,  1.50987139, 20.42916577,  7.02512071,\n",
       "       10.12792414,  2.6582799 ,  3.41620591, 11.18991366,  4.58381542,\n",
       "        0.03463451,  0.37832734])"
      ]
     },
     "execution_count": 54,
     "metadata": {},
     "output_type": "execute_result"
    }
   ],
   "source": [
    "model.feature_importances_"
   ]
  },
  {
   "cell_type": "code",
   "execution_count": 37,
   "metadata": {
    "scrolled": true
   },
   "outputs": [
    {
     "name": "stdout",
     "output_type": "stream",
     "text": [
      "RMSE  CatBoostRegressor на валидационной выборке: 1880.2616744310826\n",
      "CPU times: user 90.9 ms, sys: 146 µs, total: 91.1 ms\n",
      "Wall time: 92.3 ms\n"
     ]
    }
   ],
   "source": [
    "%%time\n",
    "predict_cb = model.predict(features_valid)\n",
    "RMSE_CB = mean_squared_error(target_valid, predict_cb)**0.5\n",
    "print('RMSE  CatBoostRegressor на валидационной выборке:', RMSE_CB)"
   ]
  },
  {
   "cell_type": "code",
   "execution_count": 38,
   "metadata": {},
   "outputs": [
    {
     "data": {
      "text/plain": [
       "{'learn': {'RMSE': 1860.8319420092646}}"
      ]
     },
     "execution_count": 38,
     "metadata": {},
     "output_type": "execute_result"
    }
   ],
   "source": [
    "model.get_best_score()"
   ]
  },
  {
   "cell_type": "markdown",
   "metadata": {},
   "source": [
    "Вывод: \n",
    "модель CatBoostRegressor показала следующие результаты:\n",
    "- время обучения на train выборке - 12,9 сек.\n",
    "- время предсказания на valid выборке - 215 мсек.\n",
    "- RMSE на тестовой выборке, полученное кросс-валидацией - 1860,83\n",
    "- RMSE на валидационной выборке - 1880,23"
   ]
  },
  {
   "cell_type": "markdown",
   "metadata": {},
   "source": [
    "**Исследуем модель LinearRegression()**"
   ]
  },
  {
   "cell_type": "code",
   "execution_count": 39,
   "metadata": {
    "scrolled": true
   },
   "outputs": [],
   "source": [
    "regressor = LinearRegression()\n",
    "num = ['RegistrationYear', 'Power', 'Kilometer', 'RegistrationMonth', 'DateCreatedYear', 'DateCreatedMonth']\n",
    "cat = ['VehicleType', 'Gearbox', 'Model', 'FuelType', 'Brand', 'NotRepaired']\n",
    "transformer = ColumnTransformer(transformers=[('num', StandardScaler(), num),('cat', OneHotEncoder(), cat)])\n",
    "pipeline = Pipeline(steps=[('t',transformer), ('m',regressor)])"
   ]
  },
  {
   "cell_type": "code",
   "execution_count": 40,
   "metadata": {
    "scrolled": true
   },
   "outputs": [
    {
     "name": "stdout",
     "output_type": "stream",
     "text": [
      "CPU times: user 31.6 s, sys: 28.4 s, total: 60 s\n",
      "Wall time: 1min\n"
     ]
    },
    {
     "data": {
      "text/plain": [
       "Pipeline(steps=[('t',\n",
       "                 ColumnTransformer(transformers=[('num', StandardScaler(),\n",
       "                                                  ['RegistrationYear', 'Power',\n",
       "                                                   'Kilometer',\n",
       "                                                   'RegistrationMonth',\n",
       "                                                   'DateCreatedYear',\n",
       "                                                   'DateCreatedMonth']),\n",
       "                                                 ('cat', OneHotEncoder(),\n",
       "                                                  ['VehicleType', 'Gearbox',\n",
       "                                                   'Model', 'FuelType', 'Brand',\n",
       "                                                   'NotRepaired'])])),\n",
       "                ('m', LinearRegression())])"
      ]
     },
     "execution_count": 40,
     "metadata": {},
     "output_type": "execute_result"
    }
   ],
   "source": [
    "%%time\n",
    "pipeline.fit(features_train, target_train)"
   ]
  },
  {
   "cell_type": "code",
   "execution_count": 41,
   "metadata": {
    "scrolled": true
   },
   "outputs": [
    {
     "name": "stdout",
     "output_type": "stream",
     "text": [
      "RMSE  LinearRegression на валидационной выборке: 3196.008591801047\n",
      "CPU times: user 214 ms, sys: 9.01 ms, total: 223 ms\n",
      "Wall time: 239 ms\n"
     ]
    }
   ],
   "source": [
    "%%time\n",
    "predict_lr = pipeline.predict(features_valid)\n",
    "RMSE_LR = mean_squared_error(target_valid, predict_lr)**0.5\n",
    "print('RMSE  LinearRegression на валидационной выборке:', RMSE_LR)"
   ]
  },
  {
   "cell_type": "code",
   "execution_count": 42,
   "metadata": {},
   "outputs": [
    {
     "name": "stdout",
     "output_type": "stream",
     "text": [
      "CPU times: user 2min 20s, sys: 2min 21s, total: 4min 42s\n",
      "Wall time: 4min 42s\n"
     ]
    }
   ],
   "source": [
    "%%time\n",
    "\n",
    "RMSE_LR = (cross_val_score(pipeline, features_train, target_train, cv=5, scoring='neg_mean_squared_error').mean()*-1)**0.5\n",
    "\n"
   ]
  },
  {
   "cell_type": "code",
   "execution_count": 43,
   "metadata": {},
   "outputs": [
    {
     "data": {
      "text/plain": [
       "3197.5843373173457"
      ]
     },
     "execution_count": 43,
     "metadata": {},
     "output_type": "execute_result"
    }
   ],
   "source": [
    "RMSE_LR"
   ]
  },
  {
   "cell_type": "markdown",
   "metadata": {},
   "source": [
    "Вывод: \n",
    "модель LinearRegression() показала следующие результаты:\n",
    "- время обучения на train выборке - 34,7 сек.\n",
    "- время предсказания на valid выборке - 131 мсек.\n",
    "- RMSE - 3197.94"
   ]
  },
  {
   "cell_type": "markdown",
   "metadata": {},
   "source": [
    "## Анализ моделей"
   ]
  },
  {
   "cell_type": "markdown",
   "metadata": {},
   "source": [
    "**Анализ модель CatBoostRegressor**  \n",
    "На данном этапе изменим гиперпараметры одели и проанализируем влияние на скорость и качество:"
   ]
  },
  {
   "cell_type": "code",
   "execution_count": 44,
   "metadata": {
    "scrolled": true
   },
   "outputs": [
    {
     "name": "stdout",
     "output_type": "stream",
     "text": [
      "CPU times: user 33.3 s, sys: 0 ns, total: 33.3 s\n",
      "Wall time: 33.6 s\n"
     ]
    },
    {
     "data": {
      "text/plain": [
       "LGBMRegressor(max_depth=100, n_estimators=500, num_leaves=50)"
      ]
     },
     "execution_count": 44,
     "metadata": {},
     "output_type": "execute_result"
    }
   ],
   "source": [
    "%%time\n",
    "model = LGBMRegressor(n_estimators=500, num_leaves=50, max_depth=100 )\n",
    "model.fit(features_train, target_train)"
   ]
  },
  {
   "cell_type": "code",
   "execution_count": 45,
   "metadata": {
    "scrolled": true
   },
   "outputs": [
    {
     "name": "stdout",
     "output_type": "stream",
     "text": [
      "RMSE LightGBM на валидационной выборке: 1698.1308405019197\n",
      "CPU times: user 7.19 s, sys: 0 ns, total: 7.19 s\n",
      "Wall time: 7.32 s\n"
     ]
    }
   ],
   "source": [
    "%%time\n",
    "predict_cb = model.predict(features_valid)\n",
    "RMSE_CB = mean_squared_error(target_valid, predict_cb)**0.5\n",
    "print('RMSE LightGBM на валидационной выборке:', RMSE_CB)"
   ]
  },
  {
   "cell_type": "markdown",
   "metadata": {},
   "source": [
    "**Анализ модель CatBoostRegressor**  \n",
    "На данном этапе изменим гиперпараметры одели и проанализируем влияние на скорость и качество:"
   ]
  },
  {
   "cell_type": "code",
   "execution_count": 46,
   "metadata": {},
   "outputs": [
    {
     "name": "stdout",
     "output_type": "stream",
     "text": [
      "0:\tlearn: 3129.3572591\ttotal: 1.39s\tremaining: 11m 35s\n",
      "100:\tlearn: 1581.3420633\ttotal: 2m 14s\tremaining: 8m 50s\n",
      "200:\tlearn: 1474.4637127\ttotal: 4m 48s\tremaining: 7m 8s\n",
      "300:\tlearn: 1400.8874611\ttotal: 7m 17s\tremaining: 4m 49s\n",
      "400:\tlearn: 1344.4223604\ttotal: 9m 46s\tremaining: 2m 24s\n",
      "499:\tlearn: 1300.9179589\ttotal: 12m 8s\tremaining: 0us\n",
      "CPU times: user 11min 55s, sys: 0 ns, total: 11min 55s\n",
      "Wall time: 12min 13s\n"
     ]
    },
    {
     "data": {
      "text/plain": [
       "<catboost.core.CatBoostRegressor at 0x7fb40b648640>"
      ]
     },
     "execution_count": 46,
     "metadata": {},
     "output_type": "execute_result"
    }
   ],
   "source": [
    "%%time\n",
    "model = CatBoostRegressor(loss_function='RMSE', iterations=500, depth=10, learning_rate=0.5)\n",
    "cat_features=['VehicleType', 'Gearbox', 'Model', 'FuelType', 'Brand', 'NotRepaired']\n",
    "model.fit(features_train, target_train, cat_features=cat_features, verbose=100)"
   ]
  },
  {
   "cell_type": "code",
   "execution_count": 47,
   "metadata": {},
   "outputs": [
    {
     "name": "stdout",
     "output_type": "stream",
     "text": [
      "RMSE CatBoostRegressor на валидационной выборке: 1743.5253105234433\n",
      "CPU times: user 1.15 s, sys: 0 ns, total: 1.15 s\n",
      "Wall time: 1.16 s\n"
     ]
    }
   ],
   "source": [
    "%%time\n",
    "predict_cb = model.predict(features_valid)\n",
    "RMSE_CB = mean_squared_error(target_valid, predict_cb)**0.5\n",
    "print('RMSE CatBoostRegressor на валидационной выборке:', RMSE_CB)"
   ]
  },
  {
   "cell_type": "markdown",
   "metadata": {},
   "source": [
    "**Вывод по п3**  \n",
    "\n",
    "Изменяя гиперпараметры мы  добились улучшение точности предсказания, но при этом увеличивается время обучения: \n",
    "\n",
    "Для модели CatBoostRegressor, установив параметры(iterations=500, depth=10, learning_rate=0.5): \n",
    "- RMSE изменилась c 1880,23 на 1743,52\n",
    "- время обучения изменилось с 12,9 сек. на 4 мин. 14 сек.\n",
    "- время предсказания изменилось с 215 мсек. на 900 мсек\n",
    "\n",
    "Для модели LinearRegression, установив параметры(n_estimators=500, num_leaves=50, max_depth=100): \n",
    "- RMSE изменилась c 1787 на 1698\n",
    "- время обучения изменилось с 6,25 мсек. на 24,7 сек.\n",
    "- время предсказания изменилось с 904 мсек. на 4,22 сек\n"
   ]
  },
  {
   "cell_type": "markdown",
   "metadata": {},
   "source": [
    "**Общий вывод по проекту**  \n",
    "1.  Модель LinearRegression() - наихудшая точность предсказания, при этом модели бустинга показывают лучшие результаты при меньшем времени обучения и предсказания.\n",
    "- время обучения на train выборке - 34,7 сек.\n",
    "- время предсказания на valid выборке - 131 мсек.\n",
    "- RMSE - 3197.94\n",
    "2. Модель CatBoostRegressor - при применении параметров (iterations=500, depth=10, learning_rate=0.5) показала следующие результаты:  \n",
    "- время обучения на train выборке - 4 мин 14 сек.\n",
    "- время предсказания на valid выборке - 900 мсек.\n",
    "- RMSE - 1743,5\n",
    "3. Модель LightGBM - при применении параметров (n_estimators=500, num_leaves=50, max_depth=100 ) показала следующие результаты:  \n",
    "- время обучения на train выборке - 24,7 сек.\n",
    "- время предсказания на valid выборке - 4,22сек.\n",
    "- RMSE - 1698  \n",
    "\n",
    "Для модели LightGBM дефолтные настройки параметров показывают наилучшие результаты RMSE за минимальное время обучения и предсказания. Перебирая настройки гиперпараметров можно несущественно улучшить RMSE, однако время обучения и предсказания заметно увеличивается. Это же справидливо и для модели CatBoostRegressor."
   ]
  },
  {
   "cell_type": "markdown",
   "metadata": {},
   "source": [
    "## Чек-лист проверки\n",
    "\n",
    "Поставьте 'x' в выполненных пунктах. Далее нажмите Shift+Enter.\n",
    "\n",
    "- [x]  Jupyter Notebook открыт\n",
    "- [x]  Весь код выполняется без ошибок\n",
    "- [x]  Ячейки с кодом расположены в порядке исполнения\n",
    "- [x]  Выполнена загрузка и подготовка данных\n",
    "- [x]  Выполнено обучение моделей\n",
    "- [x]  Есть анализ скорости работы и качества моделей\n"
   ]
  }
 ],
 "metadata": {
  "ExecuteTimeLog": [
   {
    "duration": 573,
    "start_time": "2022-04-16T08:03:58.063Z"
   },
   {
    "duration": 1201,
    "start_time": "2022-04-16T08:04:50.572Z"
   },
   {
    "duration": 45,
    "start_time": "2022-04-16T08:11:30.172Z"
   },
   {
    "duration": 180,
    "start_time": "2022-04-16T08:11:57.365Z"
   },
   {
    "duration": 4,
    "start_time": "2022-04-16T08:28:24.813Z"
   },
   {
    "duration": 1137,
    "start_time": "2022-04-16T08:28:26.873Z"
   },
   {
    "duration": 30,
    "start_time": "2022-04-16T08:28:28.805Z"
   },
   {
    "duration": 158,
    "start_time": "2022-04-16T08:28:29.813Z"
   },
   {
    "duration": 163,
    "start_time": "2022-04-16T08:30:57.359Z"
   },
   {
    "duration": 153,
    "start_time": "2022-04-16T08:31:14.760Z"
   },
   {
    "duration": 63,
    "start_time": "2022-04-16T08:48:39.880Z"
   },
   {
    "duration": 114,
    "start_time": "2022-04-16T08:50:21.756Z"
   },
   {
    "duration": 28,
    "start_time": "2022-04-16T08:50:29.054Z"
   },
   {
    "duration": 26,
    "start_time": "2022-04-16T08:50:43.559Z"
   },
   {
    "duration": 28,
    "start_time": "2022-04-16T08:50:54.198Z"
   },
   {
    "duration": 10,
    "start_time": "2022-04-16T08:51:02.604Z"
   },
   {
    "duration": 69,
    "start_time": "2022-04-16T08:51:58.299Z"
   },
   {
    "duration": 81,
    "start_time": "2022-04-16T08:52:04.524Z"
   },
   {
    "duration": 82,
    "start_time": "2022-04-16T08:52:37.841Z"
   },
   {
    "duration": 50,
    "start_time": "2022-04-16T08:52:58.942Z"
   },
   {
    "duration": 38,
    "start_time": "2022-04-16T08:56:39.462Z"
   },
   {
    "duration": 40,
    "start_time": "2022-04-16T08:57:22.149Z"
   },
   {
    "duration": 38,
    "start_time": "2022-04-16T08:57:45.740Z"
   },
   {
    "duration": 14,
    "start_time": "2022-04-16T09:01:30.115Z"
   },
   {
    "duration": 11,
    "start_time": "2022-04-16T09:01:56.078Z"
   },
   {
    "duration": 10,
    "start_time": "2022-04-16T09:02:25.837Z"
   },
   {
    "duration": 132,
    "start_time": "2022-04-16T09:02:41.983Z"
   },
   {
    "duration": 11,
    "start_time": "2022-04-16T09:05:23.714Z"
   },
   {
    "duration": 6,
    "start_time": "2022-04-16T09:05:45.890Z"
   },
   {
    "duration": 40,
    "start_time": "2022-04-16T09:06:57.341Z"
   },
   {
    "duration": 36,
    "start_time": "2022-04-16T09:07:02.862Z"
   },
   {
    "duration": 10,
    "start_time": "2022-04-16T09:11:32.712Z"
   },
   {
    "duration": 140,
    "start_time": "2022-04-16T09:14:43.563Z"
   },
   {
    "duration": 226,
    "start_time": "2022-04-16T09:15:22.331Z"
   },
   {
    "duration": 12,
    "start_time": "2022-04-16T09:15:39.280Z"
   },
   {
    "duration": 132,
    "start_time": "2022-04-16T09:15:49.451Z"
   },
   {
    "duration": 11,
    "start_time": "2022-04-16T09:16:40.650Z"
   },
   {
    "duration": 421,
    "start_time": "2022-04-16T09:31:59.098Z"
   },
   {
    "duration": 19,
    "start_time": "2022-04-16T09:34:22.936Z"
   },
   {
    "duration": 11,
    "start_time": "2022-04-16T09:34:33.162Z"
   },
   {
    "duration": 19,
    "start_time": "2022-04-16T09:39:05.208Z"
   },
   {
    "duration": 45,
    "start_time": "2022-04-16T09:39:34.588Z"
   },
   {
    "duration": 26,
    "start_time": "2022-04-16T09:46:54.168Z"
   },
   {
    "duration": 49,
    "start_time": "2022-04-16T09:47:46.461Z"
   },
   {
    "duration": 46,
    "start_time": "2022-04-16T09:48:19.036Z"
   },
   {
    "duration": 49,
    "start_time": "2022-04-16T09:48:42.356Z"
   },
   {
    "duration": 48,
    "start_time": "2022-04-16T09:48:43.608Z"
   },
   {
    "duration": 61,
    "start_time": "2022-04-16T09:51:47.115Z"
   },
   {
    "duration": 49,
    "start_time": "2022-04-16T09:51:47.788Z"
   },
   {
    "duration": 82,
    "start_time": "2022-04-16T09:53:16.420Z"
   },
   {
    "duration": 57,
    "start_time": "2022-04-16T09:53:41.648Z"
   },
   {
    "duration": 120,
    "start_time": "2022-04-16T09:55:17.831Z"
   },
   {
    "duration": 117,
    "start_time": "2022-04-16T09:56:29.270Z"
   },
   {
    "duration": 73,
    "start_time": "2022-04-16T10:00:06.822Z"
   },
   {
    "duration": 4030,
    "start_time": "2022-04-16T10:00:15.322Z"
   },
   {
    "duration": 3995,
    "start_time": "2022-04-16T10:00:32.650Z"
   },
   {
    "duration": 49625,
    "start_time": "2022-04-16T10:06:40.028Z"
   },
   {
    "duration": 99,
    "start_time": "2022-04-16T10:08:20.787Z"
   },
   {
    "duration": 1925,
    "start_time": "2022-04-16T10:09:41.818Z"
   },
   {
    "duration": 1743,
    "start_time": "2022-04-16T10:10:09.356Z"
   },
   {
    "duration": 3266,
    "start_time": "2022-04-16T10:10:50.930Z"
   },
   {
    "duration": 3369,
    "start_time": "2022-04-16T10:11:19.411Z"
   },
   {
    "duration": 1587,
    "start_time": "2022-04-16T10:12:03.320Z"
   },
   {
    "duration": 18,
    "start_time": "2022-04-16T10:16:17.726Z"
   },
   {
    "duration": 1915,
    "start_time": "2022-04-16T10:16:54.683Z"
   },
   {
    "duration": 86,
    "start_time": "2022-04-16T10:18:13.903Z"
   },
   {
    "duration": 63,
    "start_time": "2022-04-16T10:18:33.180Z"
   },
   {
    "duration": 269,
    "start_time": "2022-04-16T10:20:10.812Z"
   },
   {
    "duration": 71,
    "start_time": "2022-04-16T10:21:27.024Z"
   },
   {
    "duration": 266,
    "start_time": "2022-04-16T10:21:39.251Z"
   },
   {
    "duration": 67,
    "start_time": "2022-04-16T10:21:40.234Z"
   },
   {
    "duration": 508,
    "start_time": "2022-04-16T10:22:32.770Z"
   },
   {
    "duration": 308,
    "start_time": "2022-04-16T10:23:01.606Z"
   },
   {
    "duration": 68,
    "start_time": "2022-04-16T10:23:10.241Z"
   },
   {
    "duration": 228,
    "start_time": "2022-04-16T10:23:31.432Z"
   },
   {
    "duration": 67,
    "start_time": "2022-04-16T10:23:33.642Z"
   },
   {
    "duration": 138,
    "start_time": "2022-04-16T10:24:15.817Z"
   },
   {
    "duration": 272,
    "start_time": "2022-04-16T10:26:27.292Z"
   },
   {
    "duration": 74,
    "start_time": "2022-04-16T10:26:30.399Z"
   },
   {
    "duration": 273,
    "start_time": "2022-04-16T10:27:10.182Z"
   },
   {
    "duration": 80,
    "start_time": "2022-04-16T10:27:10.695Z"
   },
   {
    "duration": 184,
    "start_time": "2022-04-16T10:28:05.360Z"
   },
   {
    "duration": 14996,
    "start_time": "2022-04-16T10:28:25.711Z"
   },
   {
    "duration": 63941,
    "start_time": "2022-04-16T10:28:50.722Z"
   },
   {
    "duration": 118,
    "start_time": "2022-04-16T10:31:26.517Z"
   },
   {
    "duration": 66887,
    "start_time": "2022-04-16T10:31:29.209Z"
   },
   {
    "duration": 51,
    "start_time": "2022-04-16T10:32:36.098Z"
   },
   {
    "duration": 55,
    "start_time": "2022-04-16T10:33:48.912Z"
   },
   {
    "duration": 7566,
    "start_time": "2022-04-16T10:35:07.213Z"
   },
   {
    "duration": 7463,
    "start_time": "2022-04-16T10:35:19.479Z"
   },
   {
    "duration": 26887,
    "start_time": "2022-04-16T10:37:06.656Z"
   },
   {
    "duration": 26722,
    "start_time": "2022-04-16T10:37:33.854Z"
   },
   {
    "duration": 70655,
    "start_time": "2022-04-16T10:42:19.996Z"
   },
   {
    "duration": 23438,
    "start_time": "2022-04-16T10:50:33.339Z"
   },
   {
    "duration": 116,
    "start_time": "2022-04-16T10:51:21.698Z"
   },
   {
    "duration": 128,
    "start_time": "2022-04-16T10:51:34.974Z"
   },
   {
    "duration": 87,
    "start_time": "2022-04-16T10:53:00.314Z"
   },
   {
    "duration": 123,
    "start_time": "2022-04-16T10:53:28.743Z"
   },
   {
    "duration": 118,
    "start_time": "2022-04-16T10:54:45.965Z"
   },
   {
    "duration": 1785,
    "start_time": "2022-04-16T10:54:57.485Z"
   },
   {
    "duration": 1793,
    "start_time": "2022-04-16T10:55:15.308Z"
   },
   {
    "duration": 73,
    "start_time": "2022-04-16T10:56:04.864Z"
   },
   {
    "duration": 44,
    "start_time": "2022-04-16T10:56:20.850Z"
   },
   {
    "duration": 120,
    "start_time": "2022-04-16T10:56:40.596Z"
   },
   {
    "duration": 114,
    "start_time": "2022-04-16T10:56:59.860Z"
   },
   {
    "duration": 127,
    "start_time": "2022-04-16T10:57:12.316Z"
   },
   {
    "duration": 140,
    "start_time": "2022-04-16T13:45:09.976Z"
   },
   {
    "duration": 59,
    "start_time": "2022-04-16T13:45:43.910Z"
   },
   {
    "duration": 25,
    "start_time": "2022-04-16T13:46:21.926Z"
   },
   {
    "duration": 22,
    "start_time": "2022-04-16T13:46:59.213Z"
   },
   {
    "duration": 27,
    "start_time": "2022-04-16T13:48:56.014Z"
   },
   {
    "duration": 19,
    "start_time": "2022-04-16T13:49:19.054Z"
   },
   {
    "duration": 4,
    "start_time": "2022-04-16T13:50:34.258Z"
   },
   {
    "duration": 1125,
    "start_time": "2022-04-16T13:50:34.269Z"
   },
   {
    "duration": 42,
    "start_time": "2022-04-16T13:50:35.396Z"
   },
   {
    "duration": 172,
    "start_time": "2022-04-16T13:50:35.440Z"
   },
   {
    "duration": 138,
    "start_time": "2022-04-16T13:50:35.625Z"
   },
   {
    "duration": 164,
    "start_time": "2022-04-16T13:50:35.768Z"
   },
   {
    "duration": 122,
    "start_time": "2022-04-16T13:50:35.935Z"
   },
   {
    "duration": 93,
    "start_time": "2022-04-16T13:50:36.060Z"
   },
   {
    "duration": 78,
    "start_time": "2022-04-16T13:50:36.156Z"
   },
   {
    "duration": 47,
    "start_time": "2022-04-16T13:50:36.236Z"
   },
   {
    "duration": 19,
    "start_time": "2022-04-16T13:50:41.786Z"
   },
   {
    "duration": 27,
    "start_time": "2022-04-16T13:50:43.369Z"
   },
   {
    "duration": 19,
    "start_time": "2022-04-16T13:50:56.968Z"
   },
   {
    "duration": 12,
    "start_time": "2022-04-16T13:51:25.108Z"
   },
   {
    "duration": 12,
    "start_time": "2022-04-16T13:51:34.797Z"
   },
   {
    "duration": 20347,
    "start_time": "2022-04-16T13:51:34.877Z"
   },
   {
    "duration": 18,
    "start_time": "2022-04-16T13:51:55.227Z"
   },
   {
    "duration": 28,
    "start_time": "2022-04-16T13:56:31.120Z"
   },
   {
    "duration": 58,
    "start_time": "2022-04-16T13:57:32.294Z"
   },
   {
    "duration": 26,
    "start_time": "2022-04-16T13:57:46.931Z"
   },
   {
    "duration": 19,
    "start_time": "2022-04-16T13:58:21.882Z"
   },
   {
    "duration": 18,
    "start_time": "2022-04-16T13:58:28.931Z"
   },
   {
    "duration": 67,
    "start_time": "2022-04-16T14:11:36.438Z"
   },
   {
    "duration": 3,
    "start_time": "2022-04-16T14:12:26.184Z"
   },
   {
    "duration": 1349,
    "start_time": "2022-04-16T14:12:26.190Z"
   },
   {
    "duration": 45,
    "start_time": "2022-04-16T14:12:27.542Z"
   },
   {
    "duration": 328,
    "start_time": "2022-04-16T14:12:27.589Z"
   },
   {
    "duration": 134,
    "start_time": "2022-04-16T14:12:27.927Z"
   },
   {
    "duration": 165,
    "start_time": "2022-04-16T14:12:28.063Z"
   },
   {
    "duration": 64,
    "start_time": "2022-04-16T14:12:28.230Z"
   },
   {
    "duration": 67,
    "start_time": "2022-04-16T14:12:28.297Z"
   },
   {
    "duration": 37,
    "start_time": "2022-04-16T14:12:28.366Z"
   },
   {
    "duration": 114,
    "start_time": "2022-04-16T14:12:38.189Z"
   },
   {
    "duration": 99,
    "start_time": "2022-04-16T14:13:05.812Z"
   },
   {
    "duration": 69729,
    "start_time": "2022-04-16T14:16:14.240Z"
   },
   {
    "duration": 66,
    "start_time": "2022-04-16T14:17:27.975Z"
   },
   {
    "duration": 4,
    "start_time": "2022-04-16T14:32:26.457Z"
   },
   {
    "duration": 1064,
    "start_time": "2022-04-16T14:32:26.464Z"
   },
   {
    "duration": 29,
    "start_time": "2022-04-16T14:32:27.531Z"
   },
   {
    "duration": 184,
    "start_time": "2022-04-16T14:32:27.563Z"
   },
   {
    "duration": 164,
    "start_time": "2022-04-16T14:32:27.750Z"
   },
   {
    "duration": 158,
    "start_time": "2022-04-16T14:32:27.916Z"
   },
   {
    "duration": 81,
    "start_time": "2022-04-16T14:32:28.076Z"
   },
   {
    "duration": 47,
    "start_time": "2022-04-16T14:32:28.159Z"
   },
   {
    "duration": 18,
    "start_time": "2022-04-16T14:32:28.208Z"
   },
   {
    "duration": 4,
    "start_time": "2022-04-16T14:32:32.459Z"
   },
   {
    "duration": 62656,
    "start_time": "2022-04-16T14:32:32.934Z"
   },
   {
    "duration": 11,
    "start_time": "2022-04-16T14:34:01.327Z"
   },
   {
    "duration": 68,
    "start_time": "2022-04-16T14:34:06.395Z"
   },
   {
    "duration": 64555,
    "start_time": "2022-04-16T14:34:33.551Z"
   },
   {
    "duration": 68,
    "start_time": "2022-04-16T14:35:40.505Z"
   },
   {
    "duration": 64055,
    "start_time": "2022-04-16T14:36:06.969Z"
   },
   {
    "duration": 69,
    "start_time": "2022-04-16T14:37:16.362Z"
   },
   {
    "duration": 21850,
    "start_time": "2022-04-16T14:38:07.514Z"
   },
   {
    "duration": 22,
    "start_time": "2022-04-16T14:38:32.773Z"
   },
   {
    "duration": 39,
    "start_time": "2022-04-16T14:39:59.357Z"
   },
   {
    "duration": 4,
    "start_time": "2022-04-16T14:45:06.512Z"
   },
   {
    "duration": 12,
    "start_time": "2022-04-16T14:46:13.455Z"
   },
   {
    "duration": 4,
    "start_time": "2022-04-16T14:48:20.133Z"
   },
   {
    "duration": 10,
    "start_time": "2022-04-16T14:48:21.546Z"
   },
   {
    "duration": 10,
    "start_time": "2022-04-16T14:49:38.241Z"
   },
   {
    "duration": 5,
    "start_time": "2022-04-16T14:51:24.505Z"
   },
   {
    "duration": 8,
    "start_time": "2022-04-16T14:51:43.765Z"
   },
   {
    "duration": 4,
    "start_time": "2022-04-16T14:52:39.629Z"
   },
   {
    "duration": 15,
    "start_time": "2022-04-16T14:52:41.104Z"
   },
   {
    "duration": 3,
    "start_time": "2022-04-16T14:54:23.873Z"
   },
   {
    "duration": 8,
    "start_time": "2022-04-16T14:54:26.332Z"
   },
   {
    "duration": 4,
    "start_time": "2022-04-16T14:54:53.720Z"
   },
   {
    "duration": 15,
    "start_time": "2022-04-16T14:54:54.521Z"
   },
   {
    "duration": 5,
    "start_time": "2022-04-16T14:55:41.207Z"
   },
   {
    "duration": 7,
    "start_time": "2022-04-16T14:55:42.020Z"
   },
   {
    "duration": 5,
    "start_time": "2022-04-16T14:56:02.012Z"
   },
   {
    "duration": 17,
    "start_time": "2022-04-16T14:56:43.672Z"
   },
   {
    "duration": 77,
    "start_time": "2022-04-16T14:57:54.491Z"
   },
   {
    "duration": 13,
    "start_time": "2022-04-16T14:58:22.577Z"
   },
   {
    "duration": 4,
    "start_time": "2022-04-16T14:59:17.251Z"
   },
   {
    "duration": 345,
    "start_time": "2022-04-16T14:59:18.576Z"
   },
   {
    "duration": 4,
    "start_time": "2022-04-16T15:03:50.275Z"
   },
   {
    "duration": 48,
    "start_time": "2022-04-16T15:05:00.518Z"
   },
   {
    "duration": 14,
    "start_time": "2022-04-16T15:05:35.066Z"
   },
   {
    "duration": 10,
    "start_time": "2022-04-16T15:05:58.797Z"
   },
   {
    "duration": 16,
    "start_time": "2022-04-16T15:06:05.321Z"
   },
   {
    "duration": 6,
    "start_time": "2022-04-16T15:08:31.772Z"
   },
   {
    "duration": 11,
    "start_time": "2022-04-16T15:08:50.960Z"
   },
   {
    "duration": 62,
    "start_time": "2022-04-16T15:11:05.484Z"
   },
   {
    "duration": 11,
    "start_time": "2022-04-16T15:12:22.187Z"
   },
   {
    "duration": 135,
    "start_time": "2022-04-16T15:12:29.816Z"
   },
   {
    "duration": 11,
    "start_time": "2022-04-16T15:17:55.677Z"
   },
   {
    "duration": 120,
    "start_time": "2022-04-16T15:18:32.513Z"
   },
   {
    "duration": 109,
    "start_time": "2022-04-16T15:18:52.561Z"
   },
   {
    "duration": 17,
    "start_time": "2022-04-16T15:19:42.958Z"
   },
   {
    "duration": 10,
    "start_time": "2022-04-16T15:19:58.494Z"
   },
   {
    "duration": 12,
    "start_time": "2022-04-16T15:20:45.155Z"
   },
   {
    "duration": 6,
    "start_time": "2022-04-16T15:20:54.968Z"
   },
   {
    "duration": 12,
    "start_time": "2022-04-16T15:21:58.132Z"
   },
   {
    "duration": 13,
    "start_time": "2022-04-16T15:22:12.349Z"
   },
   {
    "duration": 9,
    "start_time": "2022-04-16T15:22:20.986Z"
   },
   {
    "duration": 7,
    "start_time": "2022-04-16T15:22:49.468Z"
   },
   {
    "duration": 408,
    "start_time": "2022-04-16T15:23:10.112Z"
   },
   {
    "duration": 6,
    "start_time": "2022-04-16T15:30:48.013Z"
   },
   {
    "duration": 5,
    "start_time": "2022-04-16T15:31:09.282Z"
   },
   {
    "duration": 5,
    "start_time": "2022-04-16T15:31:17.822Z"
   },
   {
    "duration": 9,
    "start_time": "2022-04-16T15:31:19.831Z"
   },
   {
    "duration": 8,
    "start_time": "2022-04-16T15:32:49.065Z"
   },
   {
    "duration": 11,
    "start_time": "2022-04-16T15:32:56.764Z"
   },
   {
    "duration": 6,
    "start_time": "2022-04-16T15:33:25.056Z"
   },
   {
    "duration": 9,
    "start_time": "2022-04-16T15:33:28.168Z"
   },
   {
    "duration": 12,
    "start_time": "2022-04-16T15:33:48.280Z"
   },
   {
    "duration": 17,
    "start_time": "2022-04-16T15:34:08.960Z"
   },
   {
    "duration": 7,
    "start_time": "2022-04-16T15:36:18.331Z"
   },
   {
    "duration": 10,
    "start_time": "2022-04-16T15:36:19.075Z"
   },
   {
    "duration": 16,
    "start_time": "2022-04-16T15:36:57.384Z"
   },
   {
    "duration": 5,
    "start_time": "2022-04-16T15:38:02.284Z"
   },
   {
    "duration": 111,
    "start_time": "2022-04-16T15:38:12.706Z"
   },
   {
    "duration": 23,
    "start_time": "2022-04-16T15:38:18.695Z"
   },
   {
    "duration": 325,
    "start_time": "2022-04-16T15:41:56.102Z"
   },
   {
    "duration": 6,
    "start_time": "2022-04-16T15:43:04.394Z"
   },
   {
    "duration": 3,
    "start_time": "2022-04-16T18:56:17.500Z"
   },
   {
    "duration": 1006,
    "start_time": "2022-04-16T18:56:17.506Z"
   },
   {
    "duration": 30,
    "start_time": "2022-04-16T18:56:18.514Z"
   },
   {
    "duration": 195,
    "start_time": "2022-04-16T18:56:18.547Z"
   },
   {
    "duration": 128,
    "start_time": "2022-04-16T18:56:18.744Z"
   },
   {
    "duration": 170,
    "start_time": "2022-04-16T18:56:18.874Z"
   },
   {
    "duration": 82,
    "start_time": "2022-04-16T18:56:19.046Z"
   },
   {
    "duration": 45,
    "start_time": "2022-04-16T18:56:19.130Z"
   },
   {
    "duration": 3,
    "start_time": "2022-04-16T18:56:19.177Z"
   },
   {
    "duration": 3,
    "start_time": "2022-04-16T18:56:36.892Z"
   },
   {
    "duration": 65619,
    "start_time": "2022-04-16T18:56:37.392Z"
   },
   {
    "duration": 24,
    "start_time": "2022-04-16T18:57:50.152Z"
   },
   {
    "duration": 33,
    "start_time": "2022-04-16T18:58:32.560Z"
   },
   {
    "duration": 40,
    "start_time": "2022-04-16T18:58:57.615Z"
   },
   {
    "duration": 45,
    "start_time": "2022-04-16T18:59:34.315Z"
   },
   {
    "duration": 40,
    "start_time": "2022-04-16T18:59:55.299Z"
   },
   {
    "duration": 11,
    "start_time": "2022-04-16T19:06:11.405Z"
   },
   {
    "duration": 11,
    "start_time": "2022-04-16T19:06:18.056Z"
   },
   {
    "duration": 4,
    "start_time": "2022-04-16T19:08:11.423Z"
   },
   {
    "duration": 218,
    "start_time": "2022-04-16T19:08:15.452Z"
   },
   {
    "duration": 220,
    "start_time": "2022-04-16T19:09:42.000Z"
   },
   {
    "duration": 4,
    "start_time": "2022-04-16T19:10:21.838Z"
   },
   {
    "duration": 214,
    "start_time": "2022-04-16T19:10:22.643Z"
   },
   {
    "duration": 10,
    "start_time": "2022-04-16T19:11:43.202Z"
   },
   {
    "duration": 11,
    "start_time": "2022-04-16T19:11:54.896Z"
   },
   {
    "duration": 74,
    "start_time": "2022-04-16T19:12:12.587Z"
   },
   {
    "duration": 209,
    "start_time": "2022-04-16T19:13:00.950Z"
   },
   {
    "duration": 77,
    "start_time": "2022-04-16T19:18:06.117Z"
   },
   {
    "duration": 63,
    "start_time": "2022-04-16T19:18:31.221Z"
   },
   {
    "duration": 219,
    "start_time": "2022-04-16T19:19:24.896Z"
   },
   {
    "duration": 217,
    "start_time": "2022-04-16T19:23:28.147Z"
   },
   {
    "duration": 77,
    "start_time": "2022-04-16T19:24:20.094Z"
   },
   {
    "duration": 68,
    "start_time": "2022-04-16T19:27:16.969Z"
   },
   {
    "duration": 9,
    "start_time": "2022-04-16T19:27:39.334Z"
   },
   {
    "duration": 16,
    "start_time": "2022-04-16T19:28:27.849Z"
   },
   {
    "duration": 233,
    "start_time": "2022-04-16T19:32:44.540Z"
   },
   {
    "duration": 205,
    "start_time": "2022-04-16T19:33:29.155Z"
   },
   {
    "duration": 206,
    "start_time": "2022-04-16T19:34:20.048Z"
   },
   {
    "duration": 209,
    "start_time": "2022-04-16T19:34:32.799Z"
   },
   {
    "duration": 260,
    "start_time": "2022-04-16T19:34:51.599Z"
   },
   {
    "duration": 14,
    "start_time": "2022-04-16T19:35:59.830Z"
   },
   {
    "duration": 1292,
    "start_time": "2022-04-16T19:37:23.622Z"
   },
   {
    "duration": 246,
    "start_time": "2022-04-16T19:41:47.412Z"
   },
   {
    "duration": 344,
    "start_time": "2022-04-16T19:43:17.988Z"
   },
   {
    "duration": 229,
    "start_time": "2022-04-16T19:43:45.669Z"
   },
   {
    "duration": 370,
    "start_time": "2022-04-16T19:44:16.844Z"
   },
   {
    "duration": 1065,
    "start_time": "2022-04-17T07:25:57.820Z"
   },
   {
    "duration": 750,
    "start_time": "2022-04-17T07:25:58.886Z"
   },
   {
    "duration": 28,
    "start_time": "2022-04-17T07:25:59.637Z"
   },
   {
    "duration": 130,
    "start_time": "2022-04-17T07:25:59.672Z"
   },
   {
    "duration": 101,
    "start_time": "2022-04-17T07:25:59.805Z"
   },
   {
    "duration": 125,
    "start_time": "2022-04-17T07:25:59.908Z"
   },
   {
    "duration": 63,
    "start_time": "2022-04-17T07:26:00.034Z"
   },
   {
    "duration": 34,
    "start_time": "2022-04-17T07:26:00.099Z"
   },
   {
    "duration": 24,
    "start_time": "2022-04-17T07:26:00.135Z"
   },
   {
    "duration": 3,
    "start_time": "2022-04-17T07:26:00.172Z"
   },
   {
    "duration": 2,
    "start_time": "2022-04-17T07:26:03.878Z"
   },
   {
    "duration": 40568,
    "start_time": "2022-04-17T07:26:04.796Z"
   },
   {
    "duration": 22,
    "start_time": "2022-04-17T07:27:10.368Z"
   },
   {
    "duration": 23,
    "start_time": "2022-04-17T07:27:16.767Z"
   },
   {
    "duration": 50,
    "start_time": "2022-04-17T07:27:53.363Z"
   },
   {
    "duration": 3,
    "start_time": "2022-04-17T07:28:55.182Z"
   },
   {
    "duration": 187,
    "start_time": "2022-04-17T07:29:47.538Z"
   },
   {
    "duration": 3,
    "start_time": "2022-04-17T07:30:02.149Z"
   },
   {
    "duration": 815,
    "start_time": "2022-04-17T07:30:02.154Z"
   },
   {
    "duration": 22,
    "start_time": "2022-04-17T07:30:02.971Z"
   },
   {
    "duration": 137,
    "start_time": "2022-04-17T07:30:02.995Z"
   },
   {
    "duration": 98,
    "start_time": "2022-04-17T07:30:03.134Z"
   },
   {
    "duration": 127,
    "start_time": "2022-04-17T07:30:03.234Z"
   },
   {
    "duration": 47,
    "start_time": "2022-04-17T07:30:03.363Z"
   },
   {
    "duration": 42,
    "start_time": "2022-04-17T07:30:05.820Z"
   },
   {
    "duration": 36,
    "start_time": "2022-04-17T07:30:06.954Z"
   },
   {
    "duration": 50,
    "start_time": "2022-04-17T07:30:13.607Z"
   },
   {
    "duration": 3,
    "start_time": "2022-04-17T07:30:25.258Z"
   },
   {
    "duration": 184,
    "start_time": "2022-04-17T07:30:27.358Z"
   },
   {
    "duration": 50,
    "start_time": "2022-04-17T07:30:29.654Z"
   },
   {
    "duration": 523,
    "start_time": "2022-04-17T07:34:56.454Z"
   },
   {
    "duration": 1079,
    "start_time": "2022-04-17T07:45:55.594Z"
   },
   {
    "duration": 772,
    "start_time": "2022-04-17T07:45:56.676Z"
   },
   {
    "duration": 27,
    "start_time": "2022-04-17T07:45:57.450Z"
   },
   {
    "duration": 129,
    "start_time": "2022-04-17T07:45:57.478Z"
   },
   {
    "duration": 108,
    "start_time": "2022-04-17T07:45:57.609Z"
   },
   {
    "duration": 119,
    "start_time": "2022-04-17T07:45:57.718Z"
   },
   {
    "duration": 55,
    "start_time": "2022-04-17T07:45:57.839Z"
   },
   {
    "duration": 33,
    "start_time": "2022-04-17T07:45:57.896Z"
   },
   {
    "duration": 2,
    "start_time": "2022-04-17T07:45:57.930Z"
   },
   {
    "duration": 3,
    "start_time": "2022-04-17T07:46:02.356Z"
   },
   {
    "duration": 4,
    "start_time": "2022-04-17T07:46:11.997Z"
   },
   {
    "duration": 563,
    "start_time": "2022-04-17T07:46:13.178Z"
   },
   {
    "duration": 51,
    "start_time": "2022-04-17T07:46:16.798Z"
   },
   {
    "duration": 114,
    "start_time": "2022-04-17T07:46:27.841Z"
   },
   {
    "duration": 242,
    "start_time": "2022-04-17T08:02:00.545Z"
   },
   {
    "duration": 100,
    "start_time": "2022-04-17T08:15:45.770Z"
   },
   {
    "duration": 95,
    "start_time": "2022-04-17T08:39:04.281Z"
   },
   {
    "duration": 2,
    "start_time": "2022-04-17T08:39:10.786Z"
   },
   {
    "duration": 11,
    "start_time": "2022-04-17T08:39:19.022Z"
   },
   {
    "duration": 4,
    "start_time": "2022-04-17T08:39:51.962Z"
   },
   {
    "duration": 3,
    "start_time": "2022-04-17T08:43:54.437Z"
   },
   {
    "duration": 3,
    "start_time": "2022-04-17T09:42:55.355Z"
   },
   {
    "duration": 111,
    "start_time": "2022-04-17T10:13:49.241Z"
   },
   {
    "duration": 95,
    "start_time": "2022-04-17T10:21:37.511Z"
   },
   {
    "duration": 6,
    "start_time": "2022-04-17T10:23:40.870Z"
   },
   {
    "duration": 118,
    "start_time": "2022-04-17T10:23:50.491Z"
   },
   {
    "duration": 10,
    "start_time": "2022-04-17T10:26:05.586Z"
   },
   {
    "duration": 4,
    "start_time": "2022-04-17T10:27:08.937Z"
   },
   {
    "duration": 10,
    "start_time": "2022-04-17T10:27:14.108Z"
   },
   {
    "duration": 4,
    "start_time": "2022-04-17T10:28:38.557Z"
   },
   {
    "duration": 24,
    "start_time": "2022-04-17T10:28:46.589Z"
   },
   {
    "duration": 108,
    "start_time": "2022-04-17T10:29:19.473Z"
   },
   {
    "duration": 1044,
    "start_time": "2022-04-17T10:29:32.265Z"
   },
   {
    "duration": 6,
    "start_time": "2022-04-17T10:43:54.298Z"
   },
   {
    "duration": 6,
    "start_time": "2022-04-17T11:25:03.590Z"
   },
   {
    "duration": 1743,
    "start_time": "2022-04-17T11:26:01.058Z"
   },
   {
    "duration": 11,
    "start_time": "2022-04-17T11:28:21.054Z"
   },
   {
    "duration": 12,
    "start_time": "2022-04-17T11:28:36.449Z"
   },
   {
    "duration": 53,
    "start_time": "2022-04-17T11:28:45.397Z"
   },
   {
    "duration": 0,
    "start_time": "2022-04-17T11:28:45.452Z"
   },
   {
    "duration": 4,
    "start_time": "2022-04-17T12:43:34.437Z"
   },
   {
    "duration": 10,
    "start_time": "2022-04-17T12:43:39.370Z"
   },
   {
    "duration": 3,
    "start_time": "2022-04-17T12:43:47.604Z"
   },
   {
    "duration": 759,
    "start_time": "2022-04-17T12:43:47.609Z"
   },
   {
    "duration": 23,
    "start_time": "2022-04-17T12:43:48.369Z"
   },
   {
    "duration": 132,
    "start_time": "2022-04-17T12:43:48.394Z"
   },
   {
    "duration": 105,
    "start_time": "2022-04-17T12:43:48.528Z"
   },
   {
    "duration": 117,
    "start_time": "2022-04-17T12:43:48.635Z"
   },
   {
    "duration": 50,
    "start_time": "2022-04-17T12:43:48.754Z"
   },
   {
    "duration": 35,
    "start_time": "2022-04-17T12:43:48.805Z"
   },
   {
    "duration": 4,
    "start_time": "2022-04-17T12:43:48.842Z"
   },
   {
    "duration": 25,
    "start_time": "2022-04-17T12:43:48.848Z"
   },
   {
    "duration": 547,
    "start_time": "2022-04-17T12:43:48.875Z"
   },
   {
    "duration": 126,
    "start_time": "2022-04-17T12:43:49.424Z"
   },
   {
    "duration": 265,
    "start_time": "2022-04-17T12:43:49.552Z"
   },
   {
    "duration": 13,
    "start_time": "2022-04-17T12:43:49.820Z"
   },
   {
    "duration": 0,
    "start_time": "2022-04-17T12:43:49.834Z"
   },
   {
    "duration": 12,
    "start_time": "2022-04-17T12:43:55.875Z"
   },
   {
    "duration": 410,
    "start_time": "2022-04-17T12:44:47.394Z"
   },
   {
    "duration": 481,
    "start_time": "2022-04-17T12:45:59.962Z"
   },
   {
    "duration": 87,
    "start_time": "2022-04-17T12:46:18.917Z"
   },
   {
    "duration": 145,
    "start_time": "2022-04-17T12:57:12.858Z"
   },
   {
    "duration": 85,
    "start_time": "2022-04-17T12:58:53.906Z"
   },
   {
    "duration": 11,
    "start_time": "2022-04-17T12:59:34.355Z"
   },
   {
    "duration": 98,
    "start_time": "2022-04-17T12:59:40.563Z"
   },
   {
    "duration": 5,
    "start_time": "2022-04-17T13:01:56.408Z"
   },
   {
    "duration": 27,
    "start_time": "2022-04-17T13:02:07.407Z"
   },
   {
    "duration": 74,
    "start_time": "2022-04-17T13:02:13.050Z"
   },
   {
    "duration": 1526,
    "start_time": "2022-04-17T19:42:17.739Z"
   },
   {
    "duration": 1010,
    "start_time": "2022-04-17T19:42:19.268Z"
   },
   {
    "duration": 37,
    "start_time": "2022-04-17T19:42:20.280Z"
   },
   {
    "duration": 209,
    "start_time": "2022-04-17T19:42:20.320Z"
   },
   {
    "duration": 98,
    "start_time": "2022-04-17T19:42:20.531Z"
   },
   {
    "duration": 128,
    "start_time": "2022-04-17T19:42:20.631Z"
   },
   {
    "duration": 47,
    "start_time": "2022-04-17T19:42:20.761Z"
   },
   {
    "duration": 52,
    "start_time": "2022-04-17T19:42:20.809Z"
   },
   {
    "duration": 2,
    "start_time": "2022-04-17T19:42:20.862Z"
   },
   {
    "duration": 7,
    "start_time": "2022-04-17T19:42:20.866Z"
   },
   {
    "duration": 626,
    "start_time": "2022-04-17T19:42:20.875Z"
   },
   {
    "duration": 126,
    "start_time": "2022-04-17T19:42:21.502Z"
   },
   {
    "duration": 135,
    "start_time": "2022-04-17T19:42:44.134Z"
   },
   {
    "duration": 74,
    "start_time": "2022-04-17T19:42:47.034Z"
   },
   {
    "duration": 142,
    "start_time": "2022-04-17T19:45:59.896Z"
   },
   {
    "duration": 9526,
    "start_time": "2022-04-17T19:46:38.415Z"
   },
   {
    "duration": 9907,
    "start_time": "2022-04-17T19:47:18.092Z"
   },
   {
    "duration": 9634,
    "start_time": "2022-04-17T19:48:28.212Z"
   },
   {
    "duration": 729,
    "start_time": "2022-04-17T19:48:47.671Z"
   },
   {
    "duration": 99,
    "start_time": "2022-04-17T19:50:42.535Z"
   },
   {
    "duration": 4,
    "start_time": "2022-04-17T19:51:46.307Z"
   },
   {
    "duration": 3,
    "start_time": "2022-04-17T19:51:53.195Z"
   },
   {
    "duration": 1431,
    "start_time": "2022-04-17T19:53:34.106Z"
   },
   {
    "duration": 3,
    "start_time": "2022-04-17T19:54:46.474Z"
   },
   {
    "duration": 164630,
    "start_time": "2022-04-17T19:54:47.387Z"
   },
   {
    "duration": 19,
    "start_time": "2022-04-17T20:00:12.424Z"
   },
   {
    "duration": 14,
    "start_time": "2022-04-17T20:02:46.773Z"
   },
   {
    "duration": 9,
    "start_time": "2022-04-17T20:02:53.652Z"
   },
   {
    "duration": 151902,
    "start_time": "2022-04-17T20:05:42.624Z"
   },
   {
    "duration": 153217,
    "start_time": "2022-04-17T20:10:54.406Z"
   },
   {
    "duration": 3,
    "start_time": "2022-04-17T20:13:27.625Z"
   },
   {
    "duration": 195,
    "start_time": "2022-04-17T20:18:04.085Z"
   },
   {
    "duration": 156753,
    "start_time": "2022-04-17T20:19:15.651Z"
   },
   {
    "duration": 4,
    "start_time": "2022-04-17T20:23:49.445Z"
   },
   {
    "duration": 34799,
    "start_time": "2022-04-17T20:26:15.657Z"
   },
   {
    "duration": 136,
    "start_time": "2022-04-17T20:27:44.364Z"
   },
   {
    "duration": 2262,
    "start_time": "2022-04-18T05:06:44.815Z"
   },
   {
    "duration": 155,
    "start_time": "2022-04-18T05:19:16.232Z"
   },
   {
    "duration": 5,
    "start_time": "2022-04-18T05:19:21.161Z"
   },
   {
    "duration": 1131,
    "start_time": "2022-04-18T05:19:21.169Z"
   },
   {
    "duration": 44,
    "start_time": "2022-04-18T05:19:22.303Z"
   },
   {
    "duration": 193,
    "start_time": "2022-04-18T05:19:22.349Z"
   },
   {
    "duration": 136,
    "start_time": "2022-04-18T05:19:22.545Z"
   },
   {
    "duration": 163,
    "start_time": "2022-04-18T05:19:22.683Z"
   },
   {
    "duration": 84,
    "start_time": "2022-04-18T05:19:22.849Z"
   },
   {
    "duration": 45,
    "start_time": "2022-04-18T05:19:22.935Z"
   },
   {
    "duration": 3,
    "start_time": "2022-04-18T05:19:22.983Z"
   },
   {
    "duration": 12,
    "start_time": "2022-04-18T05:19:22.988Z"
   },
   {
    "duration": 992,
    "start_time": "2022-04-18T05:19:23.024Z"
   },
   {
    "duration": 166,
    "start_time": "2022-04-18T05:19:24.017Z"
   },
   {
    "duration": 263,
    "start_time": "2022-04-18T05:19:24.186Z"
   },
   {
    "duration": 108,
    "start_time": "2022-04-18T05:19:24.453Z"
   },
   {
    "duration": 134,
    "start_time": "2022-04-18T05:19:27.078Z"
   },
   {
    "duration": 4383,
    "start_time": "2022-04-18T05:19:29.322Z"
   },
   {
    "duration": 229,
    "start_time": "2022-04-18T05:21:05.982Z"
   },
   {
    "duration": 16128,
    "start_time": "2022-04-18T05:21:10.710Z"
   },
   {
    "duration": 5,
    "start_time": "2022-04-18T05:24:46.904Z"
   },
   {
    "duration": 14074,
    "start_time": "2022-04-18T05:25:32.024Z"
   },
   {
    "duration": 123,
    "start_time": "2022-04-18T05:27:18.036Z"
   },
   {
    "duration": 193,
    "start_time": "2022-04-18T05:27:28.716Z"
   },
   {
    "duration": 164,
    "start_time": "2022-04-18T05:28:00.264Z"
   },
   {
    "duration": 9,
    "start_time": "2022-04-18T05:29:45.582Z"
   },
   {
    "duration": 7,
    "start_time": "2022-04-18T05:29:58.012Z"
   },
   {
    "duration": 5,
    "start_time": "2022-04-18T05:30:25.395Z"
   },
   {
    "duration": 6,
    "start_time": "2022-04-18T05:30:26.286Z"
   },
   {
    "duration": 106,
    "start_time": "2022-04-18T05:32:26.909Z"
   },
   {
    "duration": 5,
    "start_time": "2022-04-18T05:32:34.261Z"
   },
   {
    "duration": 1142,
    "start_time": "2022-04-18T05:32:34.269Z"
   },
   {
    "duration": 37,
    "start_time": "2022-04-18T05:32:35.413Z"
   },
   {
    "duration": 191,
    "start_time": "2022-04-18T05:32:35.452Z"
   },
   {
    "duration": 135,
    "start_time": "2022-04-18T05:32:35.647Z"
   },
   {
    "duration": 163,
    "start_time": "2022-04-18T05:32:35.784Z"
   },
   {
    "duration": 85,
    "start_time": "2022-04-18T05:32:35.950Z"
   },
   {
    "duration": 47,
    "start_time": "2022-04-18T05:32:36.037Z"
   },
   {
    "duration": 4,
    "start_time": "2022-04-18T05:32:36.086Z"
   },
   {
    "duration": 33,
    "start_time": "2022-04-18T05:32:36.092Z"
   },
   {
    "duration": 908,
    "start_time": "2022-04-18T05:32:36.127Z"
   },
   {
    "duration": 168,
    "start_time": "2022-04-18T05:32:37.039Z"
   },
   {
    "duration": 236,
    "start_time": "2022-04-18T05:32:37.209Z"
   },
   {
    "duration": 13732,
    "start_time": "2022-04-18T05:32:37.449Z"
   },
   {
    "duration": 173,
    "start_time": "2022-04-18T05:32:51.183Z"
   },
   {
    "duration": 5,
    "start_time": "2022-04-18T05:32:51.359Z"
   },
   {
    "duration": 8,
    "start_time": "2022-04-18T05:32:51.366Z"
   },
   {
    "duration": 7,
    "start_time": "2022-04-18T05:32:51.376Z"
   },
   {
    "duration": 6,
    "start_time": "2022-04-18T05:32:51.385Z"
   },
   {
    "duration": 52707,
    "start_time": "2022-04-18T05:32:51.425Z"
   },
   {
    "duration": 226,
    "start_time": "2022-04-18T05:33:44.134Z"
   },
   {
    "duration": 7,
    "start_time": "2022-04-18T05:34:27.770Z"
   },
   {
    "duration": 13,
    "start_time": "2022-04-18T05:56:41.106Z"
   },
   {
    "duration": 144,
    "start_time": "2022-04-18T05:56:55.023Z"
   },
   {
    "duration": 1676,
    "start_time": "2022-04-18T05:59:01.471Z"
   },
   {
    "duration": 92,
    "start_time": "2022-04-18T05:59:26.714Z"
   },
   {
    "duration": 15,
    "start_time": "2022-04-18T06:00:03.050Z"
   },
   {
    "duration": 152,
    "start_time": "2022-04-18T06:00:10.038Z"
   },
   {
    "duration": 61,
    "start_time": "2022-04-18T06:04:31.046Z"
   },
   {
    "duration": 154,
    "start_time": "2022-04-18T06:04:31.949Z"
   },
   {
    "duration": 200,
    "start_time": "2022-04-18T06:05:05.837Z"
   },
   {
    "duration": 13875,
    "start_time": "2022-04-18T06:05:12.441Z"
   },
   {
    "duration": 220,
    "start_time": "2022-04-18T06:05:26.318Z"
   },
   {
    "duration": 4,
    "start_time": "2022-04-18T06:05:30.977Z"
   },
   {
    "duration": 5,
    "start_time": "2022-04-18T06:05:32.764Z"
   },
   {
    "duration": 6,
    "start_time": "2022-04-18T06:05:35.225Z"
   },
   {
    "duration": 6,
    "start_time": "2022-04-18T06:05:51.976Z"
   },
   {
    "duration": 52234,
    "start_time": "2022-04-18T06:05:53.202Z"
   },
   {
    "duration": 6,
    "start_time": "2022-04-18T06:09:37.683Z"
   },
   {
    "duration": 47129,
    "start_time": "2022-04-18T06:09:38.705Z"
   },
   {
    "duration": 218,
    "start_time": "2022-04-18T06:14:44.020Z"
   },
   {
    "duration": 7,
    "start_time": "2022-04-18T06:14:45.439Z"
   },
   {
    "duration": 262104,
    "start_time": "2022-04-18T06:14:47.772Z"
   },
   {
    "duration": 6,
    "start_time": "2022-04-18T06:19:09.879Z"
   },
   {
    "duration": 1656,
    "start_time": "2022-04-18T06:19:09.887Z"
   },
   {
    "duration": 0,
    "start_time": "2022-04-18T06:19:11.545Z"
   },
   {
    "duration": 0,
    "start_time": "2022-04-18T06:19:11.547Z"
   },
   {
    "duration": 1721,
    "start_time": "2022-04-18T06:23:35.157Z"
   },
   {
    "duration": 2015,
    "start_time": "2022-04-18T06:24:24.514Z"
   },
   {
    "duration": 1737,
    "start_time": "2022-04-18T06:24:35.242Z"
   },
   {
    "duration": 4,
    "start_time": "2022-04-18T06:24:49.039Z"
   },
   {
    "duration": 1014,
    "start_time": "2022-04-18T06:24:49.046Z"
   },
   {
    "duration": 31,
    "start_time": "2022-04-18T06:24:50.063Z"
   },
   {
    "duration": 192,
    "start_time": "2022-04-18T06:24:50.097Z"
   },
   {
    "duration": 133,
    "start_time": "2022-04-18T06:24:50.292Z"
   },
   {
    "duration": 160,
    "start_time": "2022-04-18T06:24:50.428Z"
   },
   {
    "duration": 77,
    "start_time": "2022-04-18T06:24:50.590Z"
   },
   {
    "duration": 55,
    "start_time": "2022-04-18T06:24:50.669Z"
   },
   {
    "duration": 4,
    "start_time": "2022-04-18T06:24:50.726Z"
   },
   {
    "duration": 920,
    "start_time": "2022-04-18T06:24:50.732Z"
   },
   {
    "duration": 164,
    "start_time": "2022-04-18T06:24:51.654Z"
   },
   {
    "duration": 114,
    "start_time": "2022-04-18T06:24:58.354Z"
   },
   {
    "duration": 85,
    "start_time": "2022-04-18T06:24:59.358Z"
   },
   {
    "duration": 73,
    "start_time": "2022-04-18T06:25:00.686Z"
   },
   {
    "duration": 1306,
    "start_time": "2022-04-18T20:36:31.077Z"
   },
   {
    "duration": 147,
    "start_time": "2022-04-18T20:40:37.234Z"
   },
   {
    "duration": 5,
    "start_time": "2022-04-18T20:40:43.398Z"
   },
   {
    "duration": 885,
    "start_time": "2022-04-18T20:40:43.405Z"
   },
   {
    "duration": 26,
    "start_time": "2022-04-18T20:40:44.292Z"
   },
   {
    "duration": 148,
    "start_time": "2022-04-18T20:40:44.320Z"
   },
   {
    "duration": 102,
    "start_time": "2022-04-18T20:40:44.469Z"
   },
   {
    "duration": 138,
    "start_time": "2022-04-18T20:40:44.573Z"
   },
   {
    "duration": 61,
    "start_time": "2022-04-18T20:40:44.712Z"
   },
   {
    "duration": 36,
    "start_time": "2022-04-18T20:40:44.775Z"
   },
   {
    "duration": 3,
    "start_time": "2022-04-18T20:40:44.813Z"
   },
   {
    "duration": 775,
    "start_time": "2022-04-18T20:40:44.817Z"
   },
   {
    "duration": 195,
    "start_time": "2022-04-18T20:40:45.594Z"
   },
   {
    "duration": 95,
    "start_time": "2022-04-18T20:40:45.791Z"
   },
   {
    "duration": 63,
    "start_time": "2022-04-18T20:40:45.888Z"
   },
   {
    "duration": 59,
    "start_time": "2022-04-18T20:40:45.953Z"
   },
   {
    "duration": 106,
    "start_time": "2022-04-18T20:40:46.014Z"
   },
   {
    "duration": 120,
    "start_time": "2022-04-18T20:40:46.121Z"
   },
   {
    "duration": 47,
    "start_time": "2022-04-18T20:40:54.287Z"
   },
   {
    "duration": 38,
    "start_time": "2022-04-18T20:41:39.302Z"
   },
   {
    "duration": 41,
    "start_time": "2022-04-18T20:42:07.523Z"
   },
   {
    "duration": 48,
    "start_time": "2022-04-18T20:48:25.120Z"
   },
   {
    "duration": 4,
    "start_time": "2022-04-18T20:49:39.194Z"
   },
   {
    "duration": 4,
    "start_time": "2022-04-18T20:49:50.974Z"
   },
   {
    "duration": 3,
    "start_time": "2022-04-18T20:53:14.524Z"
   },
   {
    "duration": 4,
    "start_time": "2022-04-18T20:53:16.624Z"
   },
   {
    "duration": 43,
    "start_time": "2022-04-18T20:53:17.248Z"
   },
   {
    "duration": 3,
    "start_time": "2022-04-18T20:54:30.762Z"
   },
   {
    "duration": 4,
    "start_time": "2022-04-18T20:54:32.492Z"
   },
   {
    "duration": 47,
    "start_time": "2022-04-18T20:54:35.596Z"
   },
   {
    "duration": 3,
    "start_time": "2022-04-18T20:56:35.039Z"
   },
   {
    "duration": 3,
    "start_time": "2022-04-18T20:56:36.191Z"
   },
   {
    "duration": 17,
    "start_time": "2022-04-18T20:56:36.947Z"
   },
   {
    "duration": 3,
    "start_time": "2022-04-18T21:03:07.167Z"
   },
   {
    "duration": 11,
    "start_time": "2022-04-18T21:05:03.219Z"
   },
   {
    "duration": 10,
    "start_time": "2022-04-18T21:05:35.879Z"
   },
   {
    "duration": 11,
    "start_time": "2022-04-18T21:06:18.219Z"
   },
   {
    "duration": 1353,
    "start_time": "2022-04-19T05:18:33.658Z"
   },
   {
    "duration": 763,
    "start_time": "2022-04-19T05:18:35.013Z"
   },
   {
    "duration": 26,
    "start_time": "2022-04-19T05:18:35.778Z"
   },
   {
    "duration": 135,
    "start_time": "2022-04-19T05:18:35.806Z"
   },
   {
    "duration": 91,
    "start_time": "2022-04-19T05:18:35.943Z"
   },
   {
    "duration": 129,
    "start_time": "2022-04-19T05:18:36.035Z"
   },
   {
    "duration": 47,
    "start_time": "2022-04-19T05:18:36.166Z"
   },
   {
    "duration": 46,
    "start_time": "2022-04-19T05:18:36.214Z"
   },
   {
    "duration": 2,
    "start_time": "2022-04-19T05:18:36.262Z"
   },
   {
    "duration": 641,
    "start_time": "2022-04-19T05:18:36.266Z"
   },
   {
    "duration": 125,
    "start_time": "2022-04-19T05:18:36.909Z"
   },
   {
    "duration": 87,
    "start_time": "2022-04-19T05:18:37.036Z"
   },
   {
    "duration": 68,
    "start_time": "2022-04-19T05:18:37.125Z"
   },
   {
    "duration": 69,
    "start_time": "2022-04-19T05:18:37.195Z"
   },
   {
    "duration": 90,
    "start_time": "2022-04-19T05:18:37.266Z"
   },
   {
    "duration": 110,
    "start_time": "2022-04-19T05:18:37.357Z"
   },
   {
    "duration": 95,
    "start_time": "2022-04-19T05:19:19.572Z"
   },
   {
    "duration": 3,
    "start_time": "2022-04-19T05:19:27.859Z"
   },
   {
    "duration": 11,
    "start_time": "2022-04-19T05:19:27.924Z"
   },
   {
    "duration": 5777,
    "start_time": "2022-04-19T05:19:31.518Z"
   },
   {
    "duration": 111,
    "start_time": "2022-04-19T05:19:37.296Z"
   },
   {
    "duration": 4,
    "start_time": "2022-04-19T05:19:37.408Z"
   },
   {
    "duration": 7,
    "start_time": "2022-04-19T05:19:37.414Z"
   },
   {
    "duration": 7,
    "start_time": "2022-04-19T05:19:37.423Z"
   },
   {
    "duration": 4,
    "start_time": "2022-04-19T05:19:38.163Z"
   },
   {
    "duration": 38512,
    "start_time": "2022-04-19T05:19:38.546Z"
   },
   {
    "duration": 250,
    "start_time": "2022-04-19T05:20:17.060Z"
   },
   {
    "duration": 5,
    "start_time": "2022-04-19T05:20:17.312Z"
   },
   {
    "duration": 172438,
    "start_time": "2022-04-19T05:20:17.319Z"
   },
   {
    "duration": 4,
    "start_time": "2022-04-19T05:23:09.759Z"
   },
   {
    "duration": 12,
    "start_time": "2022-04-19T05:23:09.765Z"
   },
   {
    "duration": 9,
    "start_time": "2022-04-19T05:23:42.741Z"
   },
   {
    "duration": 5,
    "start_time": "2022-04-19T05:23:47.002Z"
   },
   {
    "duration": 2,
    "start_time": "2022-04-19T05:23:58.310Z"
   },
   {
    "duration": 10,
    "start_time": "2022-04-19T05:23:58.358Z"
   },
   {
    "duration": 3,
    "start_time": "2022-04-19T05:24:01.637Z"
   },
   {
    "duration": 11,
    "start_time": "2022-04-19T05:24:02.246Z"
   },
   {
    "duration": 39,
    "start_time": "2022-04-19T05:25:37.209Z"
   },
   {
    "duration": 4,
    "start_time": "2022-04-19T05:26:20.325Z"
   },
   {
    "duration": 4,
    "start_time": "2022-04-19T05:27:01.925Z"
   },
   {
    "duration": 3,
    "start_time": "2022-04-19T05:27:11.401Z"
   },
   {
    "duration": 16,
    "start_time": "2022-04-19T05:27:12.805Z"
   },
   {
    "duration": 3,
    "start_time": "2022-04-19T05:46:52.033Z"
   },
   {
    "duration": 10,
    "start_time": "2022-04-19T05:49:07.249Z"
   },
   {
    "duration": 14514,
    "start_time": "2022-04-19T05:49:21.596Z"
   },
   {
    "duration": 114701,
    "start_time": "2022-04-19T05:50:17.330Z"
   },
   {
    "duration": 114029,
    "start_time": "2022-04-19T05:53:43.390Z"
   },
   {
    "duration": 72,
    "start_time": "2022-04-19T05:55:57.087Z"
   },
   {
    "duration": 479,
    "start_time": "2022-04-19T05:56:07.896Z"
   },
   {
    "duration": 254917,
    "start_time": "2022-04-19T05:58:27.975Z"
   },
   {
    "duration": 903,
    "start_time": "2022-04-19T06:03:07.045Z"
   },
   {
    "duration": 4,
    "start_time": "2022-04-19T06:37:13.810Z"
   },
   {
    "duration": 147,
    "start_time": "2022-04-19T06:40:49.675Z"
   },
   {
    "duration": 227,
    "start_time": "2022-04-19T06:41:19.429Z"
   },
   {
    "duration": 159,
    "start_time": "2022-04-19T06:42:29.613Z"
   },
   {
    "duration": 5,
    "start_time": "2022-04-19T06:46:39.103Z"
   },
   {
    "duration": 34,
    "start_time": "2022-04-19T10:44:50.410Z"
   },
   {
    "duration": 138,
    "start_time": "2022-04-19T10:44:55.747Z"
   },
   {
    "duration": 74,
    "start_time": "2022-04-19T10:45:31.229Z"
   },
   {
    "duration": 32,
    "start_time": "2022-04-19T10:48:42.711Z"
   },
   {
    "duration": 111,
    "start_time": "2022-04-19T10:49:30.899Z"
   },
   {
    "duration": 89,
    "start_time": "2022-04-19T10:49:50.653Z"
   },
   {
    "duration": 109,
    "start_time": "2022-04-19T10:51:24.562Z"
   },
   {
    "duration": 4,
    "start_time": "2022-04-19T10:51:29.477Z"
   },
   {
    "duration": 751,
    "start_time": "2022-04-19T10:51:29.483Z"
   },
   {
    "duration": 36,
    "start_time": "2022-04-19T10:51:30.236Z"
   },
   {
    "duration": 150,
    "start_time": "2022-04-19T10:51:30.274Z"
   },
   {
    "duration": 94,
    "start_time": "2022-04-19T10:51:30.427Z"
   },
   {
    "duration": 132,
    "start_time": "2022-04-19T10:51:30.523Z"
   },
   {
    "duration": 42,
    "start_time": "2022-04-19T10:51:30.657Z"
   },
   {
    "duration": 33,
    "start_time": "2022-04-19T10:51:30.701Z"
   },
   {
    "duration": 20,
    "start_time": "2022-04-19T10:51:30.735Z"
   },
   {
    "duration": 558,
    "start_time": "2022-04-19T10:51:30.757Z"
   },
   {
    "duration": 129,
    "start_time": "2022-04-19T10:51:31.316Z"
   },
   {
    "duration": 79,
    "start_time": "2022-04-19T10:51:31.447Z"
   },
   {
    "duration": 69,
    "start_time": "2022-04-19T10:51:31.528Z"
   },
   {
    "duration": 65,
    "start_time": "2022-04-19T10:51:31.600Z"
   },
   {
    "duration": 95,
    "start_time": "2022-04-19T10:51:31.667Z"
   },
   {
    "duration": 110,
    "start_time": "2022-04-19T10:51:31.764Z"
   },
   {
    "duration": 128,
    "start_time": "2022-04-19T10:51:36.246Z"
   },
   {
    "duration": 70,
    "start_time": "2022-04-19T10:51:41.578Z"
   },
   {
    "duration": 162,
    "start_time": "2022-04-19T10:51:45.784Z"
   },
   {
    "duration": 118,
    "start_time": "2022-04-19T10:52:17.912Z"
   },
   {
    "duration": 18,
    "start_time": "2022-04-19T10:52:18.699Z"
   },
   {
    "duration": 5763,
    "start_time": "2022-04-19T10:52:19.899Z"
   },
   {
    "duration": 6182,
    "start_time": "2022-04-19T10:52:45.079Z"
   },
   {
    "duration": 51,
    "start_time": "2022-04-19T10:53:45.249Z"
   },
   {
    "duration": 16,
    "start_time": "2022-04-19T10:53:47.629Z"
   },
   {
    "duration": 6127,
    "start_time": "2022-04-19T10:53:52.831Z"
   },
   {
    "duration": 910,
    "start_time": "2022-04-19T10:55:40.366Z"
   },
   {
    "duration": 1358,
    "start_time": "2022-04-19T10:56:17.165Z"
   },
   {
    "duration": 757,
    "start_time": "2022-04-19T10:56:18.525Z"
   },
   {
    "duration": 27,
    "start_time": "2022-04-19T10:56:19.283Z"
   },
   {
    "duration": 142,
    "start_time": "2022-04-19T10:56:19.312Z"
   },
   {
    "duration": 105,
    "start_time": "2022-04-19T10:56:19.456Z"
   },
   {
    "duration": 120,
    "start_time": "2022-04-19T10:56:19.562Z"
   },
   {
    "duration": 46,
    "start_time": "2022-04-19T10:56:19.684Z"
   },
   {
    "duration": 50,
    "start_time": "2022-04-19T10:56:19.731Z"
   },
   {
    "duration": 2,
    "start_time": "2022-04-19T10:56:19.783Z"
   },
   {
    "duration": 622,
    "start_time": "2022-04-19T10:56:19.787Z"
   },
   {
    "duration": 131,
    "start_time": "2022-04-19T10:56:20.410Z"
   },
   {
    "duration": 106,
    "start_time": "2022-04-19T10:56:20.542Z"
   },
   {
    "duration": 55,
    "start_time": "2022-04-19T10:56:20.650Z"
   },
   {
    "duration": 65,
    "start_time": "2022-04-19T10:56:20.707Z"
   },
   {
    "duration": 86,
    "start_time": "2022-04-19T10:56:20.774Z"
   },
   {
    "duration": 115,
    "start_time": "2022-04-19T10:56:20.862Z"
   },
   {
    "duration": 177,
    "start_time": "2022-04-19T10:56:20.979Z"
   },
   {
    "duration": 6400,
    "start_time": "2022-04-19T10:56:21.158Z"
   },
   {
    "duration": 909,
    "start_time": "2022-04-19T10:56:27.560Z"
   },
   {
    "duration": 908,
    "start_time": "2022-04-19T10:56:31.068Z"
   },
   {
    "duration": 5896,
    "start_time": "2022-04-19T10:56:35.211Z"
   },
   {
    "duration": 69,
    "start_time": "2022-04-19T10:57:17.587Z"
   },
   {
    "duration": 4,
    "start_time": "2022-04-19T10:57:36.482Z"
   },
   {
    "duration": 4,
    "start_time": "2022-04-19T11:00:13.454Z"
   },
   {
    "duration": 39263,
    "start_time": "2022-04-19T11:00:14.094Z"
   },
   {
    "duration": 158,
    "start_time": "2022-04-19T11:00:53.359Z"
   },
   {
    "duration": 5,
    "start_time": "2022-04-19T11:00:53.519Z"
   },
   {
    "duration": 178216,
    "start_time": "2022-04-19T11:00:53.526Z"
   },
   {
    "duration": 140,
    "start_time": "2022-04-19T11:03:51.755Z"
   },
   {
    "duration": 25012,
    "start_time": "2022-04-19T11:06:40.561Z"
   },
   {
    "duration": 4176,
    "start_time": "2022-04-19T11:07:41.295Z"
   },
   {
    "duration": 290305,
    "start_time": "2022-04-19T11:16:57.364Z"
   },
   {
    "duration": 892,
    "start_time": "2022-04-19T11:21:47.671Z"
   },
   {
    "duration": 6777,
    "start_time": "2022-04-19T16:50:37.608Z"
   },
   {
    "duration": 2819,
    "start_time": "2022-04-19T16:51:15.996Z"
   },
   {
    "duration": 4092,
    "start_time": "2022-04-19T16:54:08.309Z"
   },
   {
    "duration": 6,
    "start_time": "2022-04-19T16:54:12.405Z"
   },
   {
    "duration": 1102,
    "start_time": "2022-04-19T16:54:12.413Z"
   },
   {
    "duration": 40,
    "start_time": "2022-04-19T16:54:13.517Z"
   },
   {
    "duration": 184,
    "start_time": "2022-04-19T16:54:13.560Z"
   },
   {
    "duration": 149,
    "start_time": "2022-04-19T16:54:13.746Z"
   },
   {
    "duration": 167,
    "start_time": "2022-04-19T16:54:13.897Z"
   },
   {
    "duration": 187,
    "start_time": "2022-04-19T16:54:14.067Z"
   },
   {
    "duration": 14,
    "start_time": "2022-04-19T16:57:05.327Z"
   },
   {
    "duration": 48235,
    "start_time": "2022-04-19T16:57:46.382Z"
   },
   {
    "duration": 15,
    "start_time": "2022-04-19T16:59:11.344Z"
   },
   {
    "duration": 289,
    "start_time": "2022-04-19T17:00:32.589Z"
   },
   {
    "duration": 3538,
    "start_time": "2022-04-19T17:05:39.445Z"
   },
   {
    "duration": 6,
    "start_time": "2022-04-19T17:05:42.987Z"
   },
   {
    "duration": 1117,
    "start_time": "2022-04-19T17:05:42.995Z"
   },
   {
    "duration": 33,
    "start_time": "2022-04-19T17:05:44.114Z"
   },
   {
    "duration": 184,
    "start_time": "2022-04-19T17:05:44.150Z"
   },
   {
    "duration": 135,
    "start_time": "2022-04-19T17:05:44.337Z"
   },
   {
    "duration": 168,
    "start_time": "2022-04-19T17:05:44.475Z"
   },
   {
    "duration": 41838,
    "start_time": "2022-04-19T17:05:44.646Z"
   },
   {
    "duration": 61,
    "start_time": "2022-04-19T17:06:26.494Z"
   },
   {
    "duration": 94,
    "start_time": "2022-04-19T17:06:26.557Z"
   },
   {
    "duration": 77,
    "start_time": "2022-04-19T17:06:26.654Z"
   },
   {
    "duration": 4,
    "start_time": "2022-04-19T17:06:26.733Z"
   },
   {
    "duration": 915,
    "start_time": "2022-04-19T17:06:26.740Z"
   },
   {
    "duration": 159,
    "start_time": "2022-04-19T17:06:27.660Z"
   },
   {
    "duration": 132,
    "start_time": "2022-04-19T17:06:27.822Z"
   },
   {
    "duration": 84,
    "start_time": "2022-04-19T17:06:27.956Z"
   },
   {
    "duration": 83,
    "start_time": "2022-04-19T17:06:28.042Z"
   },
   {
    "duration": 114,
    "start_time": "2022-04-19T17:06:28.128Z"
   },
   {
    "duration": 194,
    "start_time": "2022-04-19T17:06:28.245Z"
   },
   {
    "duration": 309,
    "start_time": "2022-04-19T17:06:28.441Z"
   },
   {
    "duration": 8252,
    "start_time": "2022-04-19T17:06:28.752Z"
   },
   {
    "duration": 1298,
    "start_time": "2022-04-19T17:06:37.006Z"
   },
   {
    "duration": 13798,
    "start_time": "2022-04-19T17:06:38.306Z"
   },
   {
    "duration": 98,
    "start_time": "2022-04-19T17:06:52.106Z"
   },
   {
    "duration": 6,
    "start_time": "2022-04-19T17:06:52.206Z"
   },
   {
    "duration": 13,
    "start_time": "2022-04-19T17:06:52.214Z"
   },
   {
    "duration": 60368,
    "start_time": "2022-04-19T17:06:52.229Z"
   },
   {
    "duration": 244,
    "start_time": "2022-04-19T17:07:52.599Z"
   },
   {
    "duration": 282486,
    "start_time": "2022-04-19T17:07:52.845Z"
   },
   {
    "duration": 5,
    "start_time": "2022-04-19T17:12:35.334Z"
   },
   {
    "duration": 33657,
    "start_time": "2022-04-19T17:12:35.342Z"
   },
   {
    "duration": 7394,
    "start_time": "2022-04-19T17:13:09.001Z"
   },
   {
    "duration": 733972,
    "start_time": "2022-04-19T17:13:16.397Z"
   },
   {
    "duration": 1161,
    "start_time": "2022-04-19T17:25:30.372Z"
   },
   {
    "duration": 7,
    "start_time": "2022-04-19T17:25:31.539Z"
   },
   {
    "duration": 209,
    "start_time": "2022-04-19T17:25:31.548Z"
   },
   {
    "duration": 6,
    "start_time": "2022-04-19T17:28:07.432Z"
   },
   {
    "duration": 5,
    "start_time": "2022-04-19T17:30:59.633Z"
   },
   {
    "duration": 16,
    "start_time": "2022-04-19T17:32:06.720Z"
   },
   {
    "duration": 183,
    "start_time": "2022-04-19T17:32:32.987Z"
   },
   {
    "duration": 6,
    "start_time": "2022-04-19T17:33:08.908Z"
   }
  ],
  "kernelspec": {
   "display_name": "Python 3 (ipykernel)",
   "language": "python",
   "name": "python3"
  },
  "language_info": {
   "codemirror_mode": {
    "name": "ipython",
    "version": 3
   },
   "file_extension": ".py",
   "mimetype": "text/x-python",
   "name": "python",
   "nbconvert_exporter": "python",
   "pygments_lexer": "ipython3",
   "version": "3.9.7"
  },
  "toc": {
   "base_numbering": 1,
   "nav_menu": {},
   "number_sections": true,
   "sideBar": true,
   "skip_h1_title": true,
   "title_cell": "Table of Contents",
   "title_sidebar": "Contents",
   "toc_cell": false,
   "toc_position": {},
   "toc_section_display": true,
   "toc_window_display": false
  }
 },
 "nbformat": 4,
 "nbformat_minor": 2
}
