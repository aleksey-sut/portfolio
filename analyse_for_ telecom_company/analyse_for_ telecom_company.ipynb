{
 "cells": [
  {
   "cell_type": "markdown",
   "metadata": {},
   "source": [
    "# Исследование тарифных планов"
   ]
  },
  {
   "cell_type": "markdown",
   "metadata": {},
   "source": [
    "Компания «Мегалайн» — федеральный оператор сотовой связи. Клиентам предлагают два тарифных плана: «Смарт» и «Ультра».<br>\n",
    "Чтобы скорректировать рекламный бюджет, коммерческий департамент хочет понять, какой тариф приносит больше денег.\n",
    "Необходимо сделать предварительный анализ тарифов на небольшой выборке клиентов.<br> В вашем распоряжении данные 500 пользователей «Мегалайна»: кто они, откуда, каким тарифом пользуются, сколько звонков и сообщений каждый отправил за 2018 год. Нужно проанализировать поведение клиентов и сделать вывод — какой тариф лучше."
   ]
  },
  {
   "cell_type": "markdown",
   "metadata": {},
   "source": [
    "**Описание тарифов**\n",
    "\n",
    "Тариф «Смарт»\n",
    "* Ежемесячная плата: 550 рублей\n",
    "* Включено 500 минут разговора, 50 сообщений и 15 Гб интернет-трафика\n",
    "* Стоимость услуг сверх тарифного пакета: 1. минута разговора: 3 рубля («Мегалайн» всегда округляет вверх значения минут и мегабайтов. Если пользователь проговорил всего 1 секунду, в тарифе засчитывается целая минута); 2. сообщение: 3 рубля; 3. 1 Гб интернет-трафика: 200 рублей.\n",
    "\n",
    "\n",
    "Тариф «Ультра»\n",
    "* Ежемесячная плата: 1950 рублей\n",
    "* Включено 3000 минут разговора, 1000 сообщений и 30 Гб интернет-трафика\n",
    "* Стоимость услуг сверх тарифного пакета: 1. минута разговора: 1 рубль; 2. сообщение: 1 рубль; 3. 1 Гб интернет-трафика: 150 рублей."
   ]
  },
  {
   "cell_type": "markdown",
   "metadata": {},
   "source": [
    "*Примечание:*\n",
    "\n",
    "*«Мегалайн» всегда округляет секунды до минут, а мегабайты — до гигабайт. Каждый звонок округляется отдельно: даже если он длился всего 1 секунду, будет засчитан как 1 минута.*\n",
    "\n",
    "*Для веб-трафика отдельные сессии не считаются. Вместо этого общая сумма за месяц округляется в бо́льшую сторону. Если абонент использует 1025 мегабайт в этом месяце, с него возьмут плату за 2 гигабайта.*"
   ]
  },
  {
   "cell_type": "markdown",
   "metadata": {},
   "source": [
    "**Задание на исследование:**"
   ]
  },
  {
   "cell_type": "markdown",
   "metadata": {},
   "source": [
    "1. Необходимо исследовать: поведение клиентов оператора, исходя из выборки. Сколько минут разговора, сколько сообщений и какой объём интернет-трафика требуется пользователям каждого тарифа в месяц.\n",
    "\n",
    "2. Проверка гипотез:\n",
    "* Cредняя выручка пользователей тарифов «Ультра» и «Смарт» различаются.\n",
    "* Cредняя выручка пользователей из Москвы отличается от выручки пользователей из других регионов."
   ]
  },
  {
   "cell_type": "markdown",
   "metadata": {},
   "source": [
    "**Этапы иссслледования:**\n",
    "1. [Обзор данных, изучение общей информации](#start)\n",
    "2. [Предобработка данных](#preprocessing)<br>\n",
    "   2.1. [Приведение данные к нужным типам:](#change)<br>\n",
    "   2.2. [Поиск и исправление ошибок:](#mistakes)<br>\n",
    "   2.3. [Расчёты и добавление результатов в таблицы](#calculation)<br> \n",
    "3. [Исследовательский анализ данных](#investigation)<br>\n",
    "4. [Проверка гипотез](#hypothesis)<br>\n",
    "   4.1. [Cредняя выручка пользователей тарифов «Ультра» и «Смарт» различаются](#hypothesis_1)<br>\n",
    "   4.2. [Cредняя выручка пользователей из Москвы отличается от выручки пользователей из других регионов.](#hypothesis_2)<br>\n",
    "5. [Общий вывод](#conclusion)<br>"
   ]
  },
  {
   "cell_type": "markdown",
   "metadata": {},
   "source": [
    "<a id =\"start\"></a>\n",
    "## Обзор данных, изучение общей информации"
   ]
  },
  {
   "cell_type": "code",
   "execution_count": 2,
   "metadata": {},
   "outputs": [],
   "source": [
    "import pandas as pd\n",
    "import matplotlib.pyplot as plt\n",
    "import numpy as np\n",
    "from scipy import stats as st"
   ]
  },
  {
   "cell_type": "code",
   "execution_count": 3,
   "metadata": {},
   "outputs": [],
   "source": [
    "df_users = pd.read_csv('/datasets/users.csv')"
   ]
  },
  {
   "cell_type": "code",
   "execution_count": 4,
   "metadata": {},
   "outputs": [],
   "source": [
    "df_tariffs = pd.read_csv('/datasets/tariffs.csv')"
   ]
  },
  {
   "cell_type": "code",
   "execution_count": 5,
   "metadata": {},
   "outputs": [],
   "source": [
    "df_messages = pd.read_csv('/datasets/messages.csv')"
   ]
  },
  {
   "cell_type": "code",
   "execution_count": 6,
   "metadata": {},
   "outputs": [],
   "source": [
    "df_internet = pd.read_csv('/datasets/internet.csv')"
   ]
  },
  {
   "cell_type": "code",
   "execution_count": 7,
   "metadata": {},
   "outputs": [],
   "source": [
    "df_calls = pd.read_csv('/datasets/calls.csv')"
   ]
  },
  {
   "cell_type": "code",
   "execution_count": 8,
   "metadata": {},
   "outputs": [],
   "source": [
    "df_calls['duration'] = np.ceil(df_calls['duration'])"
   ]
  },
  {
   "cell_type": "code",
   "execution_count": 9,
   "metadata": {
    "scrolled": true
   },
   "outputs": [
    {
     "data": {
      "text/html": [
       "<div>\n",
       "<style scoped>\n",
       "    .dataframe tbody tr th:only-of-type {\n",
       "        vertical-align: middle;\n",
       "    }\n",
       "\n",
       "    .dataframe tbody tr th {\n",
       "        vertical-align: top;\n",
       "    }\n",
       "\n",
       "    .dataframe thead th {\n",
       "        text-align: right;\n",
       "    }\n",
       "</style>\n",
       "<table border=\"1\" class=\"dataframe\">\n",
       "  <thead>\n",
       "    <tr style=\"text-align: right;\">\n",
       "      <th></th>\n",
       "      <th>user_id</th>\n",
       "      <th>age</th>\n",
       "      <th>churn_date</th>\n",
       "      <th>city</th>\n",
       "      <th>first_name</th>\n",
       "      <th>last_name</th>\n",
       "      <th>reg_date</th>\n",
       "      <th>tariff</th>\n",
       "    </tr>\n",
       "  </thead>\n",
       "  <tbody>\n",
       "    <tr>\n",
       "      <td>318</td>\n",
       "      <td>1318</td>\n",
       "      <td>53</td>\n",
       "      <td>NaN</td>\n",
       "      <td>Курган</td>\n",
       "      <td>Марьяна</td>\n",
       "      <td>Анищенко</td>\n",
       "      <td>2018-03-22</td>\n",
       "      <td>ultra</td>\n",
       "    </tr>\n",
       "    <tr>\n",
       "      <td>100</td>\n",
       "      <td>1100</td>\n",
       "      <td>58</td>\n",
       "      <td>NaN</td>\n",
       "      <td>Санкт-Петербург</td>\n",
       "      <td>Руслан</td>\n",
       "      <td>Красильников</td>\n",
       "      <td>2018-07-02</td>\n",
       "      <td>smart</td>\n",
       "    </tr>\n",
       "    <tr>\n",
       "      <td>40</td>\n",
       "      <td>1040</td>\n",
       "      <td>23</td>\n",
       "      <td>NaN</td>\n",
       "      <td>Сочи</td>\n",
       "      <td>Юрий</td>\n",
       "      <td>Одинцов</td>\n",
       "      <td>2018-06-08</td>\n",
       "      <td>smart</td>\n",
       "    </tr>\n",
       "    <tr>\n",
       "      <td>178</td>\n",
       "      <td>1178</td>\n",
       "      <td>56</td>\n",
       "      <td>NaN</td>\n",
       "      <td>Москва</td>\n",
       "      <td>Наталья</td>\n",
       "      <td>Жарова</td>\n",
       "      <td>2018-05-15</td>\n",
       "      <td>smart</td>\n",
       "    </tr>\n",
       "    <tr>\n",
       "      <td>472</td>\n",
       "      <td>1472</td>\n",
       "      <td>53</td>\n",
       "      <td>NaN</td>\n",
       "      <td>Ярославль</td>\n",
       "      <td>Наида</td>\n",
       "      <td>Боброва</td>\n",
       "      <td>2018-01-18</td>\n",
       "      <td>smart</td>\n",
       "    </tr>\n",
       "  </tbody>\n",
       "</table>\n",
       "</div>"
      ],
      "text/plain": [
       "     user_id  age churn_date             city first_name     last_name  \\\n",
       "318     1318   53        NaN           Курган    Марьяна      Анищенко   \n",
       "100     1100   58        NaN  Санкт-Петербург     Руслан  Красильников   \n",
       "40      1040   23        NaN             Сочи       Юрий       Одинцов   \n",
       "178     1178   56        NaN           Москва    Наталья        Жарова   \n",
       "472     1472   53        NaN        Ярославль      Наида       Боброва   \n",
       "\n",
       "       reg_date tariff  \n",
       "318  2018-03-22  ultra  \n",
       "100  2018-07-02  smart  \n",
       "40   2018-06-08  smart  \n",
       "178  2018-05-15  smart  \n",
       "472  2018-01-18  smart  "
      ]
     },
     "execution_count": 9,
     "metadata": {},
     "output_type": "execute_result"
    }
   ],
   "source": [
    "df_users.sample(5)"
   ]
  },
  {
   "cell_type": "code",
   "execution_count": 10,
   "metadata": {},
   "outputs": [
    {
     "name": "stdout",
     "output_type": "stream",
     "text": [
      "<class 'pandas.core.frame.DataFrame'>\n",
      "RangeIndex: 500 entries, 0 to 499\n",
      "Data columns (total 8 columns):\n",
      "user_id       500 non-null int64\n",
      "age           500 non-null int64\n",
      "churn_date    38 non-null object\n",
      "city          500 non-null object\n",
      "first_name    500 non-null object\n",
      "last_name     500 non-null object\n",
      "reg_date      500 non-null object\n",
      "tariff        500 non-null object\n",
      "dtypes: int64(2), object(6)\n",
      "memory usage: 31.4+ KB\n"
     ]
    }
   ],
   "source": [
    "df_users.info()"
   ]
  },
  {
   "cell_type": "code",
   "execution_count": 11,
   "metadata": {
    "scrolled": true
   },
   "outputs": [
    {
     "data": {
      "text/html": [
       "<div>\n",
       "<style scoped>\n",
       "    .dataframe tbody tr th:only-of-type {\n",
       "        vertical-align: middle;\n",
       "    }\n",
       "\n",
       "    .dataframe tbody tr th {\n",
       "        vertical-align: top;\n",
       "    }\n",
       "\n",
       "    .dataframe thead th {\n",
       "        text-align: right;\n",
       "    }\n",
       "</style>\n",
       "<table border=\"1\" class=\"dataframe\">\n",
       "  <thead>\n",
       "    <tr style=\"text-align: right;\">\n",
       "      <th></th>\n",
       "      <th>messages_included</th>\n",
       "      <th>mb_per_month_included</th>\n",
       "      <th>minutes_included</th>\n",
       "      <th>rub_monthly_fee</th>\n",
       "      <th>rub_per_gb</th>\n",
       "      <th>rub_per_message</th>\n",
       "      <th>rub_per_minute</th>\n",
       "      <th>tariff_name</th>\n",
       "    </tr>\n",
       "  </thead>\n",
       "  <tbody>\n",
       "    <tr>\n",
       "      <td>0</td>\n",
       "      <td>50</td>\n",
       "      <td>15360</td>\n",
       "      <td>500</td>\n",
       "      <td>550</td>\n",
       "      <td>200</td>\n",
       "      <td>3</td>\n",
       "      <td>3</td>\n",
       "      <td>smart</td>\n",
       "    </tr>\n",
       "    <tr>\n",
       "      <td>1</td>\n",
       "      <td>1000</td>\n",
       "      <td>30720</td>\n",
       "      <td>3000</td>\n",
       "      <td>1950</td>\n",
       "      <td>150</td>\n",
       "      <td>1</td>\n",
       "      <td>1</td>\n",
       "      <td>ultra</td>\n",
       "    </tr>\n",
       "  </tbody>\n",
       "</table>\n",
       "</div>"
      ],
      "text/plain": [
       "   messages_included  mb_per_month_included  minutes_included  \\\n",
       "0                 50                  15360               500   \n",
       "1               1000                  30720              3000   \n",
       "\n",
       "   rub_monthly_fee  rub_per_gb  rub_per_message  rub_per_minute tariff_name  \n",
       "0              550         200                3               3       smart  \n",
       "1             1950         150                1               1       ultra  "
      ]
     },
     "execution_count": 11,
     "metadata": {},
     "output_type": "execute_result"
    }
   ],
   "source": [
    "df_tariffs"
   ]
  },
  {
   "cell_type": "code",
   "execution_count": 12,
   "metadata": {},
   "outputs": [
    {
     "name": "stdout",
     "output_type": "stream",
     "text": [
      "<class 'pandas.core.frame.DataFrame'>\n",
      "RangeIndex: 2 entries, 0 to 1\n",
      "Data columns (total 8 columns):\n",
      "messages_included        2 non-null int64\n",
      "mb_per_month_included    2 non-null int64\n",
      "minutes_included         2 non-null int64\n",
      "rub_monthly_fee          2 non-null int64\n",
      "rub_per_gb               2 non-null int64\n",
      "rub_per_message          2 non-null int64\n",
      "rub_per_minute           2 non-null int64\n",
      "tariff_name              2 non-null object\n",
      "dtypes: int64(7), object(1)\n",
      "memory usage: 256.0+ bytes\n"
     ]
    }
   ],
   "source": [
    "df_tariffs.info()"
   ]
  },
  {
   "cell_type": "code",
   "execution_count": 13,
   "metadata": {
    "scrolled": true
   },
   "outputs": [
    {
     "data": {
      "text/html": [
       "<div>\n",
       "<style scoped>\n",
       "    .dataframe tbody tr th:only-of-type {\n",
       "        vertical-align: middle;\n",
       "    }\n",
       "\n",
       "    .dataframe tbody tr th {\n",
       "        vertical-align: top;\n",
       "    }\n",
       "\n",
       "    .dataframe thead th {\n",
       "        text-align: right;\n",
       "    }\n",
       "</style>\n",
       "<table border=\"1\" class=\"dataframe\">\n",
       "  <thead>\n",
       "    <tr style=\"text-align: right;\">\n",
       "      <th></th>\n",
       "      <th>id</th>\n",
       "      <th>message_date</th>\n",
       "      <th>user_id</th>\n",
       "    </tr>\n",
       "  </thead>\n",
       "  <tbody>\n",
       "    <tr>\n",
       "      <td>71599</td>\n",
       "      <td>1302_427</td>\n",
       "      <td>2018-12-26</td>\n",
       "      <td>1302</td>\n",
       "    </tr>\n",
       "    <tr>\n",
       "      <td>83140</td>\n",
       "      <td>1346_51</td>\n",
       "      <td>2018-10-28</td>\n",
       "      <td>1346</td>\n",
       "    </tr>\n",
       "    <tr>\n",
       "      <td>11619</td>\n",
       "      <td>1048_265</td>\n",
       "      <td>2018-11-11</td>\n",
       "      <td>1048</td>\n",
       "    </tr>\n",
       "    <tr>\n",
       "      <td>84889</td>\n",
       "      <td>1354_341</td>\n",
       "      <td>2018-10-27</td>\n",
       "      <td>1354</td>\n",
       "    </tr>\n",
       "    <tr>\n",
       "      <td>59099</td>\n",
       "      <td>1257_891</td>\n",
       "      <td>2018-09-26</td>\n",
       "      <td>1257</td>\n",
       "    </tr>\n",
       "  </tbody>\n",
       "</table>\n",
       "</div>"
      ],
      "text/plain": [
       "             id message_date  user_id\n",
       "71599  1302_427   2018-12-26     1302\n",
       "83140   1346_51   2018-10-28     1346\n",
       "11619  1048_265   2018-11-11     1048\n",
       "84889  1354_341   2018-10-27     1354\n",
       "59099  1257_891   2018-09-26     1257"
      ]
     },
     "execution_count": 13,
     "metadata": {},
     "output_type": "execute_result"
    }
   ],
   "source": [
    "df_messages.sample(5)"
   ]
  },
  {
   "cell_type": "code",
   "execution_count": 14,
   "metadata": {},
   "outputs": [
    {
     "name": "stdout",
     "output_type": "stream",
     "text": [
      "<class 'pandas.core.frame.DataFrame'>\n",
      "RangeIndex: 123036 entries, 0 to 123035\n",
      "Data columns (total 3 columns):\n",
      "id              123036 non-null object\n",
      "message_date    123036 non-null object\n",
      "user_id         123036 non-null int64\n",
      "dtypes: int64(1), object(2)\n",
      "memory usage: 2.8+ MB\n"
     ]
    }
   ],
   "source": [
    "df_messages.info()"
   ]
  },
  {
   "cell_type": "code",
   "execution_count": 15,
   "metadata": {
    "scrolled": true
   },
   "outputs": [
    {
     "data": {
      "text/html": [
       "<div>\n",
       "<style scoped>\n",
       "    .dataframe tbody tr th:only-of-type {\n",
       "        vertical-align: middle;\n",
       "    }\n",
       "\n",
       "    .dataframe tbody tr th {\n",
       "        vertical-align: top;\n",
       "    }\n",
       "\n",
       "    .dataframe thead th {\n",
       "        text-align: right;\n",
       "    }\n",
       "</style>\n",
       "<table border=\"1\" class=\"dataframe\">\n",
       "  <thead>\n",
       "    <tr style=\"text-align: right;\">\n",
       "      <th></th>\n",
       "      <th>Unnamed: 0</th>\n",
       "      <th>id</th>\n",
       "      <th>mb_used</th>\n",
       "      <th>session_date</th>\n",
       "      <th>user_id</th>\n",
       "    </tr>\n",
       "  </thead>\n",
       "  <tbody>\n",
       "    <tr>\n",
       "      <td>23217</td>\n",
       "      <td>23217</td>\n",
       "      <td>1078_134</td>\n",
       "      <td>515.37</td>\n",
       "      <td>2018-10-17</td>\n",
       "      <td>1078</td>\n",
       "    </tr>\n",
       "    <tr>\n",
       "      <td>20470</td>\n",
       "      <td>20470</td>\n",
       "      <td>1068_220</td>\n",
       "      <td>0.00</td>\n",
       "      <td>2018-09-14</td>\n",
       "      <td>1068</td>\n",
       "    </tr>\n",
       "    <tr>\n",
       "      <td>109962</td>\n",
       "      <td>109962</td>\n",
       "      <td>1374_173</td>\n",
       "      <td>235.88</td>\n",
       "      <td>2018-06-03</td>\n",
       "      <td>1374</td>\n",
       "    </tr>\n",
       "    <tr>\n",
       "      <td>148029</td>\n",
       "      <td>148029</td>\n",
       "      <td>1495_231</td>\n",
       "      <td>903.53</td>\n",
       "      <td>2018-09-11</td>\n",
       "      <td>1495</td>\n",
       "    </tr>\n",
       "    <tr>\n",
       "      <td>72538</td>\n",
       "      <td>72538</td>\n",
       "      <td>1244_370</td>\n",
       "      <td>95.89</td>\n",
       "      <td>2018-09-21</td>\n",
       "      <td>1244</td>\n",
       "    </tr>\n",
       "  </tbody>\n",
       "</table>\n",
       "</div>"
      ],
      "text/plain": [
       "        Unnamed: 0        id  mb_used session_date  user_id\n",
       "23217        23217  1078_134   515.37   2018-10-17     1078\n",
       "20470        20470  1068_220     0.00   2018-09-14     1068\n",
       "109962      109962  1374_173   235.88   2018-06-03     1374\n",
       "148029      148029  1495_231   903.53   2018-09-11     1495\n",
       "72538        72538  1244_370    95.89   2018-09-21     1244"
      ]
     },
     "execution_count": 15,
     "metadata": {},
     "output_type": "execute_result"
    }
   ],
   "source": [
    "df_internet.sample(5)"
   ]
  },
  {
   "cell_type": "code",
   "execution_count": 16,
   "metadata": {},
   "outputs": [
    {
     "name": "stdout",
     "output_type": "stream",
     "text": [
      "<class 'pandas.core.frame.DataFrame'>\n",
      "RangeIndex: 149396 entries, 0 to 149395\n",
      "Data columns (total 5 columns):\n",
      "Unnamed: 0      149396 non-null int64\n",
      "id              149396 non-null object\n",
      "mb_used         149396 non-null float64\n",
      "session_date    149396 non-null object\n",
      "user_id         149396 non-null int64\n",
      "dtypes: float64(1), int64(2), object(2)\n",
      "memory usage: 5.7+ MB\n"
     ]
    }
   ],
   "source": [
    "df_internet.info()"
   ]
  },
  {
   "cell_type": "code",
   "execution_count": 17,
   "metadata": {
    "scrolled": false
   },
   "outputs": [
    {
     "data": {
      "text/html": [
       "<div>\n",
       "<style scoped>\n",
       "    .dataframe tbody tr th:only-of-type {\n",
       "        vertical-align: middle;\n",
       "    }\n",
       "\n",
       "    .dataframe tbody tr th {\n",
       "        vertical-align: top;\n",
       "    }\n",
       "\n",
       "    .dataframe thead th {\n",
       "        text-align: right;\n",
       "    }\n",
       "</style>\n",
       "<table border=\"1\" class=\"dataframe\">\n",
       "  <thead>\n",
       "    <tr style=\"text-align: right;\">\n",
       "      <th></th>\n",
       "      <th>id</th>\n",
       "      <th>call_date</th>\n",
       "      <th>duration</th>\n",
       "      <th>user_id</th>\n",
       "    </tr>\n",
       "  </thead>\n",
       "  <tbody>\n",
       "    <tr>\n",
       "      <td>174562</td>\n",
       "      <td>1431_251</td>\n",
       "      <td>2018-11-06</td>\n",
       "      <td>7.0</td>\n",
       "      <td>1431</td>\n",
       "    </tr>\n",
       "    <tr>\n",
       "      <td>15871</td>\n",
       "      <td>1043_295</td>\n",
       "      <td>2018-10-27</td>\n",
       "      <td>9.0</td>\n",
       "      <td>1043</td>\n",
       "    </tr>\n",
       "    <tr>\n",
       "      <td>119387</td>\n",
       "      <td>1308_173</td>\n",
       "      <td>2018-10-12</td>\n",
       "      <td>1.0</td>\n",
       "      <td>1308</td>\n",
       "    </tr>\n",
       "    <tr>\n",
       "      <td>150664</td>\n",
       "      <td>1377_1511</td>\n",
       "      <td>2018-03-23</td>\n",
       "      <td>6.0</td>\n",
       "      <td>1377</td>\n",
       "    </tr>\n",
       "    <tr>\n",
       "      <td>179703</td>\n",
       "      <td>1449_183</td>\n",
       "      <td>2018-12-02</td>\n",
       "      <td>4.0</td>\n",
       "      <td>1449</td>\n",
       "    </tr>\n",
       "  </tbody>\n",
       "</table>\n",
       "</div>"
      ],
      "text/plain": [
       "               id   call_date  duration  user_id\n",
       "174562   1431_251  2018-11-06       7.0     1431\n",
       "15871    1043_295  2018-10-27       9.0     1043\n",
       "119387   1308_173  2018-10-12       1.0     1308\n",
       "150664  1377_1511  2018-03-23       6.0     1377\n",
       "179703   1449_183  2018-12-02       4.0     1449"
      ]
     },
     "execution_count": 17,
     "metadata": {},
     "output_type": "execute_result"
    }
   ],
   "source": [
    "df_calls.sample(5)"
   ]
  },
  {
   "cell_type": "code",
   "execution_count": 18,
   "metadata": {},
   "outputs": [
    {
     "name": "stdout",
     "output_type": "stream",
     "text": [
      "<class 'pandas.core.frame.DataFrame'>\n",
      "RangeIndex: 202607 entries, 0 to 202606\n",
      "Data columns (total 4 columns):\n",
      "id           202607 non-null object\n",
      "call_date    202607 non-null object\n",
      "duration     202607 non-null float64\n",
      "user_id      202607 non-null int64\n",
      "dtypes: float64(1), int64(1), object(2)\n",
      "memory usage: 6.2+ MB\n"
     ]
    }
   ],
   "source": [
    "df_calls.info()"
   ]
  },
  {
   "cell_type": "markdown",
   "metadata": {},
   "source": [
    "**Вывод:**\n",
    "\n",
    "1. **df_users (инормация о пользователях):** Пропусков данных нет (пропуски в столбце churn_date означают что абонент еще пользуется тарифом). В столбцах churn_date и reg_date необходимо изменить тип данных на datetime.\n",
    "* user_id — уникальный идентификатор пользователя\n",
    "* first_name — имя пользователя\n",
    "* last_name — фамилия пользователя\n",
    "* age — возраст пользователя (годы)\n",
    "* reg_date — дата подключения тарифа (день, месяц, год)\n",
    "* churn_date — дата прекращения пользования тарифом (если значение пропущено, то тариф ещё действовал на момент выгрузки данных)\n",
    "* city — город проживания пользователя\n",
    "* tarif — название тарифного плана\n",
    "2. **df_tariffs (информация о тарифах):** Пропусков данных нет, типы данных соответствуют значениям.\n",
    "* tariff_name — название тарифа\n",
    "* rub_monthly_fee — ежемесячная абонентская плата в рублях\n",
    "* minutes_included — количество минут разговора в месяц, включённых в абонентскую плату\n",
    "* messages_included — количество сообщений в месяц, включённых в абонентскую плату\n",
    "* mb_per_month_included — объём интернет-трафика, включённого в абонентскую плату (в мегабайтах)\n",
    "* rub_per_minute — стоимость минуты разговора сверх тарифного пакета (например, если в тарифе 100 минут разговора в месяц, то со 101 минуты будет взиматься плата)\n",
    "* rub_per_message — стоимость отправки сообщения сверх тарифного пакета\n",
    "* rub_per_gb — стоимость дополнительного гигабайта интернет-трафика сверх тарифного пакета (1 гигабайт = 1024 мегабайта)\n",
    "3. **df_messages (информация о сообщениях):** Пропусков данных нет. В столбце message_date необходимо изменить тип данных на datetime.\n",
    "* id — уникальный номер сообщения\n",
    "* message_date — дата сообщения\n",
    "* user_id — идентификатор пользователя, отправившего сообщение\n",
    "4. **df_internet (информация об интернет-сессиях):** Пропусков данных нет. В столбце session_date необходимо изменить тип данных на datetime.\n",
    "* id — уникальный номер сессии\n",
    "* mb_used — объём потраченного за сессию интернет-трафика (в мегабайтах)\n",
    "* session_date — дата интернет-сессии\n",
    "* user_id — идентификатор пользователя\n",
    "5. **df_calls (информация о звонках):** Пропусков данных нет. В столбце calls_date необходимо изменить тип данных на datetime.\n",
    "* id — уникальный номер звонка\n",
    "* call_date — дата звонка\n",
    "* duration — длительность звонка в минутах\n",
    "* user_id — идентификатор пользователя, сделавшего звонок\n"
   ]
  },
  {
   "cell_type": "markdown",
   "metadata": {},
   "source": [
    "<a id =\"proprcessing\"></a>\n",
    "## Предобработка данных"
   ]
  },
  {
   "cell_type": "markdown",
   "metadata": {},
   "source": [
    "Необходимо выполнить следуюие действия:\n",
    "1. Приведение данных к нужным типам (данные в столбцах churn_date, reg_date, message_date, call_date, session_date  необходимо привести к формату datetime)\n",
    "2. Поиск и исправление ошибок - анализ столбцов на наличие ошибок и исправление при необходимости."
   ]
  },
  {
   "cell_type": "markdown",
   "metadata": {},
   "source": [
    "<a id =\"change\"></a>\n",
    "### Приведение данные к нужным типам:"
   ]
  },
  {
   "cell_type": "code",
   "execution_count": 19,
   "metadata": {
    "scrolled": true
   },
   "outputs": [],
   "source": [
    "df_users['churn_date'] = pd.to_datetime(df_users['churn_date'], format='%Y-%m-%d')"
   ]
  },
  {
   "cell_type": "code",
   "execution_count": 20,
   "metadata": {},
   "outputs": [],
   "source": [
    "df_users['reg_date'] = pd.to_datetime(df_users['reg_date'], format='%Y-%m-%d')"
   ]
  },
  {
   "cell_type": "code",
   "execution_count": 21,
   "metadata": {},
   "outputs": [
    {
     "name": "stdout",
     "output_type": "stream",
     "text": [
      "<class 'pandas.core.frame.DataFrame'>\n",
      "RangeIndex: 500 entries, 0 to 499\n",
      "Data columns (total 8 columns):\n",
      "user_id       500 non-null int64\n",
      "age           500 non-null int64\n",
      "churn_date    38 non-null datetime64[ns]\n",
      "city          500 non-null object\n",
      "first_name    500 non-null object\n",
      "last_name     500 non-null object\n",
      "reg_date      500 non-null datetime64[ns]\n",
      "tariff        500 non-null object\n",
      "dtypes: datetime64[ns](2), int64(2), object(4)\n",
      "memory usage: 31.4+ KB\n"
     ]
    }
   ],
   "source": [
    "df_users.info()"
   ]
  },
  {
   "cell_type": "code",
   "execution_count": 22,
   "metadata": {},
   "outputs": [],
   "source": [
    "df_messages['message_date'] = pd.to_datetime(df_messages['message_date'], format='%Y-%m-%d')"
   ]
  },
  {
   "cell_type": "code",
   "execution_count": 23,
   "metadata": {},
   "outputs": [
    {
     "name": "stdout",
     "output_type": "stream",
     "text": [
      "<class 'pandas.core.frame.DataFrame'>\n",
      "RangeIndex: 123036 entries, 0 to 123035\n",
      "Data columns (total 3 columns):\n",
      "id              123036 non-null object\n",
      "message_date    123036 non-null datetime64[ns]\n",
      "user_id         123036 non-null int64\n",
      "dtypes: datetime64[ns](1), int64(1), object(1)\n",
      "memory usage: 2.8+ MB\n"
     ]
    }
   ],
   "source": [
    "df_messages.info()"
   ]
  },
  {
   "cell_type": "code",
   "execution_count": 24,
   "metadata": {},
   "outputs": [],
   "source": [
    "df_calls['call_date'] = pd.to_datetime(df_calls['call_date'], format='%Y-%m-%d')"
   ]
  },
  {
   "cell_type": "code",
   "execution_count": 25,
   "metadata": {},
   "outputs": [
    {
     "name": "stdout",
     "output_type": "stream",
     "text": [
      "<class 'pandas.core.frame.DataFrame'>\n",
      "RangeIndex: 202607 entries, 0 to 202606\n",
      "Data columns (total 4 columns):\n",
      "id           202607 non-null object\n",
      "call_date    202607 non-null datetime64[ns]\n",
      "duration     202607 non-null float64\n",
      "user_id      202607 non-null int64\n",
      "dtypes: datetime64[ns](1), float64(1), int64(1), object(1)\n",
      "memory usage: 6.2+ MB\n"
     ]
    }
   ],
   "source": [
    "df_calls.info()"
   ]
  },
  {
   "cell_type": "code",
   "execution_count": 26,
   "metadata": {},
   "outputs": [],
   "source": [
    "df_internet['session_date'] = pd.to_datetime(df_internet['session_date'], format='%Y-%m-%d')"
   ]
  },
  {
   "cell_type": "code",
   "execution_count": 27,
   "metadata": {},
   "outputs": [
    {
     "name": "stdout",
     "output_type": "stream",
     "text": [
      "<class 'pandas.core.frame.DataFrame'>\n",
      "RangeIndex: 149396 entries, 0 to 149395\n",
      "Data columns (total 5 columns):\n",
      "Unnamed: 0      149396 non-null int64\n",
      "id              149396 non-null object\n",
      "mb_used         149396 non-null float64\n",
      "session_date    149396 non-null datetime64[ns]\n",
      "user_id         149396 non-null int64\n",
      "dtypes: datetime64[ns](1), float64(1), int64(2), object(1)\n",
      "memory usage: 5.7+ MB\n"
     ]
    }
   ],
   "source": [
    "df_internet.info()"
   ]
  },
  {
   "cell_type": "markdown",
   "metadata": {},
   "source": [
    "**Вывод**\n",
    "\n",
    "Форматы столбцов приведены к необходимым значениям"
   ]
  },
  {
   "cell_type": "markdown",
   "metadata": {},
   "source": [
    "<a id =\"mistakes\"></a>\n",
    "### Поиск и исправление ошибок:"
   ]
  },
  {
   "cell_type": "markdown",
   "metadata": {},
   "source": [
    "**Поиск ошибок в таблице df_users**"
   ]
  },
  {
   "cell_type": "code",
   "execution_count": 28,
   "metadata": {},
   "outputs": [
    {
     "data": {
      "text/html": [
       "<div>\n",
       "<style scoped>\n",
       "    .dataframe tbody tr th:only-of-type {\n",
       "        vertical-align: middle;\n",
       "    }\n",
       "\n",
       "    .dataframe tbody tr th {\n",
       "        vertical-align: top;\n",
       "    }\n",
       "\n",
       "    .dataframe thead th {\n",
       "        text-align: right;\n",
       "    }\n",
       "</style>\n",
       "<table border=\"1\" class=\"dataframe\">\n",
       "  <thead>\n",
       "    <tr style=\"text-align: right;\">\n",
       "      <th></th>\n",
       "      <th>user_id</th>\n",
       "      <th>age</th>\n",
       "      <th>churn_date</th>\n",
       "      <th>city</th>\n",
       "      <th>first_name</th>\n",
       "      <th>last_name</th>\n",
       "      <th>reg_date</th>\n",
       "      <th>tariff</th>\n",
       "    </tr>\n",
       "  </thead>\n",
       "  <tbody>\n",
       "    <tr>\n",
       "      <td>19</td>\n",
       "      <td>1019</td>\n",
       "      <td>63</td>\n",
       "      <td>2018-10-05</td>\n",
       "      <td>Томск</td>\n",
       "      <td>Игнатий</td>\n",
       "      <td>Круглов</td>\n",
       "      <td>2018-05-16</td>\n",
       "      <td>ultra</td>\n",
       "    </tr>\n",
       "    <tr>\n",
       "      <td>254</td>\n",
       "      <td>1254</td>\n",
       "      <td>75</td>\n",
       "      <td>2018-08-17</td>\n",
       "      <td>Москва</td>\n",
       "      <td>Александра</td>\n",
       "      <td>Сухарева</td>\n",
       "      <td>2018-01-04</td>\n",
       "      <td>ultra</td>\n",
       "    </tr>\n",
       "    <tr>\n",
       "      <td>387</td>\n",
       "      <td>1387</td>\n",
       "      <td>74</td>\n",
       "      <td>NaT</td>\n",
       "      <td>Краснодар</td>\n",
       "      <td>Габриель</td>\n",
       "      <td>Зуев</td>\n",
       "      <td>2018-12-21</td>\n",
       "      <td>smart</td>\n",
       "    </tr>\n",
       "    <tr>\n",
       "      <td>183</td>\n",
       "      <td>1183</td>\n",
       "      <td>20</td>\n",
       "      <td>NaT</td>\n",
       "      <td>Владивосток</td>\n",
       "      <td>Снежана</td>\n",
       "      <td>Озерова</td>\n",
       "      <td>2018-07-12</td>\n",
       "      <td>smart</td>\n",
       "    </tr>\n",
       "    <tr>\n",
       "      <td>396</td>\n",
       "      <td>1396</td>\n",
       "      <td>23</td>\n",
       "      <td>NaT</td>\n",
       "      <td>Пенза</td>\n",
       "      <td>Эльга</td>\n",
       "      <td>Савельева</td>\n",
       "      <td>2018-01-12</td>\n",
       "      <td>ultra</td>\n",
       "    </tr>\n",
       "    <tr>\n",
       "      <td>471</td>\n",
       "      <td>1471</td>\n",
       "      <td>35</td>\n",
       "      <td>NaT</td>\n",
       "      <td>Вологда</td>\n",
       "      <td>Элеонора</td>\n",
       "      <td>Гаврилова</td>\n",
       "      <td>2018-02-26</td>\n",
       "      <td>ultra</td>\n",
       "    </tr>\n",
       "    <tr>\n",
       "      <td>319</td>\n",
       "      <td>1319</td>\n",
       "      <td>70</td>\n",
       "      <td>NaT</td>\n",
       "      <td>Санкт-Петербург</td>\n",
       "      <td>Харитон</td>\n",
       "      <td>Парфенов</td>\n",
       "      <td>2018-08-24</td>\n",
       "      <td>smart</td>\n",
       "    </tr>\n",
       "    <tr>\n",
       "      <td>194</td>\n",
       "      <td>1194</td>\n",
       "      <td>70</td>\n",
       "      <td>NaT</td>\n",
       "      <td>Москва</td>\n",
       "      <td>Егор</td>\n",
       "      <td>Наумов</td>\n",
       "      <td>2018-12-03</td>\n",
       "      <td>smart</td>\n",
       "    </tr>\n",
       "    <tr>\n",
       "      <td>147</td>\n",
       "      <td>1147</td>\n",
       "      <td>63</td>\n",
       "      <td>NaT</td>\n",
       "      <td>Якутск</td>\n",
       "      <td>Владимир</td>\n",
       "      <td>Синицын</td>\n",
       "      <td>2018-07-09</td>\n",
       "      <td>smart</td>\n",
       "    </tr>\n",
       "    <tr>\n",
       "      <td>157</td>\n",
       "      <td>1157</td>\n",
       "      <td>27</td>\n",
       "      <td>NaT</td>\n",
       "      <td>Москва</td>\n",
       "      <td>Виктория</td>\n",
       "      <td>Белоусова</td>\n",
       "      <td>2018-02-23</td>\n",
       "      <td>smart</td>\n",
       "    </tr>\n",
       "  </tbody>\n",
       "</table>\n",
       "</div>"
      ],
      "text/plain": [
       "     user_id  age churn_date             city  first_name  last_name  \\\n",
       "19      1019   63 2018-10-05            Томск     Игнатий    Круглов   \n",
       "254     1254   75 2018-08-17           Москва  Александра   Сухарева   \n",
       "387     1387   74        NaT        Краснодар    Габриель       Зуев   \n",
       "183     1183   20        NaT      Владивосток     Снежана    Озерова   \n",
       "396     1396   23        NaT            Пенза       Эльга  Савельева   \n",
       "471     1471   35        NaT          Вологда    Элеонора  Гаврилова   \n",
       "319     1319   70        NaT  Санкт-Петербург     Харитон   Парфенов   \n",
       "194     1194   70        NaT           Москва        Егор     Наумов   \n",
       "147     1147   63        NaT           Якутск    Владимир    Синицын   \n",
       "157     1157   27        NaT           Москва    Виктория  Белоусова   \n",
       "\n",
       "      reg_date tariff  \n",
       "19  2018-05-16  ultra  \n",
       "254 2018-01-04  ultra  \n",
       "387 2018-12-21  smart  \n",
       "183 2018-07-12  smart  \n",
       "396 2018-01-12  ultra  \n",
       "471 2018-02-26  ultra  \n",
       "319 2018-08-24  smart  \n",
       "194 2018-12-03  smart  \n",
       "147 2018-07-09  smart  \n",
       "157 2018-02-23  smart  "
      ]
     },
     "execution_count": 28,
     "metadata": {},
     "output_type": "execute_result"
    }
   ],
   "source": [
    "df_users.sample(10)"
   ]
  },
  {
   "cell_type": "code",
   "execution_count": 29,
   "metadata": {
    "scrolled": false
   },
   "outputs": [
    {
     "data": {
      "text/plain": [
       "0"
      ]
     },
     "execution_count": 29,
     "metadata": {},
     "output_type": "execute_result"
    }
   ],
   "source": [
    "df_users.duplicated().sum()"
   ]
  },
  {
   "cell_type": "code",
   "execution_count": 30,
   "metadata": {},
   "outputs": [
    {
     "data": {
      "text/plain": [
       "0"
      ]
     },
     "execution_count": 30,
     "metadata": {},
     "output_type": "execute_result"
    }
   ],
   "source": [
    "df_users['user_id'].duplicated().sum()"
   ]
  },
  {
   "cell_type": "code",
   "execution_count": 31,
   "metadata": {
    "scrolled": true
   },
   "outputs": [
    {
     "data": {
      "text/html": [
       "<div>\n",
       "<style scoped>\n",
       "    .dataframe tbody tr th:only-of-type {\n",
       "        vertical-align: middle;\n",
       "    }\n",
       "\n",
       "    .dataframe tbody tr th {\n",
       "        vertical-align: top;\n",
       "    }\n",
       "\n",
       "    .dataframe thead th {\n",
       "        text-align: right;\n",
       "    }\n",
       "</style>\n",
       "<table border=\"1\" class=\"dataframe\">\n",
       "  <thead>\n",
       "    <tr style=\"text-align: right;\">\n",
       "      <th></th>\n",
       "      <th>count</th>\n",
       "      <th>mean</th>\n",
       "      <th>std</th>\n",
       "      <th>min</th>\n",
       "      <th>25%</th>\n",
       "      <th>50%</th>\n",
       "      <th>75%</th>\n",
       "      <th>max</th>\n",
       "    </tr>\n",
       "  </thead>\n",
       "  <tbody>\n",
       "    <tr>\n",
       "      <td>user_id</td>\n",
       "      <td>500.0</td>\n",
       "      <td>1249.500</td>\n",
       "      <td>144.481833</td>\n",
       "      <td>1000.0</td>\n",
       "      <td>1124.75</td>\n",
       "      <td>1249.5</td>\n",
       "      <td>1374.25</td>\n",
       "      <td>1499.0</td>\n",
       "    </tr>\n",
       "    <tr>\n",
       "      <td>age</td>\n",
       "      <td>500.0</td>\n",
       "      <td>46.588</td>\n",
       "      <td>16.667630</td>\n",
       "      <td>18.0</td>\n",
       "      <td>32.00</td>\n",
       "      <td>46.0</td>\n",
       "      <td>62.00</td>\n",
       "      <td>75.0</td>\n",
       "    </tr>\n",
       "  </tbody>\n",
       "</table>\n",
       "</div>"
      ],
      "text/plain": [
       "         count      mean         std     min      25%     50%      75%     max\n",
       "user_id  500.0  1249.500  144.481833  1000.0  1124.75  1249.5  1374.25  1499.0\n",
       "age      500.0    46.588   16.667630    18.0    32.00    46.0    62.00    75.0"
      ]
     },
     "execution_count": 31,
     "metadata": {},
     "output_type": "execute_result"
    }
   ],
   "source": [
    "df_users.describe().T"
   ]
  },
  {
   "cell_type": "code",
   "execution_count": 32,
   "metadata": {
    "scrolled": false
   },
   "outputs": [
    {
     "data": {
      "text/plain": [
       "array(['Краснодар', 'Москва', 'Стерлитамак', 'Новокузнецк',\n",
       "       'Набережные Челны', 'Ульяновск', 'Челябинск', 'Пермь', 'Тюмень',\n",
       "       'Самара', 'Санкт-Петербург', 'Иваново', 'Чебоксары', 'Омск', 'Уфа',\n",
       "       'Томск', 'Чита', 'Мурманск', 'Петрозаводск', 'Тверь',\n",
       "       'Екатеринбург', 'Махачкала', 'Вологда', 'Череповец', 'Ярославль',\n",
       "       'Сочи', 'Хабаровск', 'Ставрополь', 'Рязань', 'Улан-Удэ', 'Тула',\n",
       "       'Саратов', 'Ростов-на-Дону', 'Казань', 'Иркутск', 'Курск',\n",
       "       'Калуга', 'Якутск', 'Астрахань', 'Химки', 'Владикавказ',\n",
       "       'Волгоград', 'Саранск', 'Ижевск', 'Новосибирск', 'Брянск',\n",
       "       'Тольятти', 'Нижний Тагил', 'Орёл', 'Белгород', 'Воронеж',\n",
       "       'Волжский', 'Курган', 'Барнаул', 'Красноярск', 'Архангельск',\n",
       "       'Липецк', 'Кемерово', 'Киров', 'Сургут', 'Пенза', 'Магнитогорск',\n",
       "       'Нижний Новгород', 'Кострома', 'Владивосток', 'Тамбов', 'Балашиха',\n",
       "       'Севастополь', 'Калининград', 'Оренбург', 'Смоленск',\n",
       "       'Нижневартовск', 'Владимир', 'Новороссийск', 'Грозный', 'Подольск'],\n",
       "      dtype=object)"
      ]
     },
     "execution_count": 32,
     "metadata": {},
     "output_type": "execute_result"
    }
   ],
   "source": [
    "df_users['city'].unique()"
   ]
  },
  {
   "cell_type": "code",
   "execution_count": 33,
   "metadata": {},
   "outputs": [
    {
     "data": {
      "text/plain": [
       "smart    351\n",
       "ultra    149\n",
       "Name: tariff, dtype: int64"
      ]
     },
     "execution_count": 33,
     "metadata": {},
     "output_type": "execute_result"
    }
   ],
   "source": [
    "df_users['tariff'].value_counts()"
   ]
  },
  {
   "cell_type": "markdown",
   "metadata": {},
   "source": [
    " В столбце df_users нет явных ошибок"
   ]
  },
  {
   "cell_type": "markdown",
   "metadata": {},
   "source": [
    "**Втаблице df_tariffs нет явных ошибок**"
   ]
  },
  {
   "cell_type": "markdown",
   "metadata": {},
   "source": [
    "**Поиск ошибок в таблице df_messages**"
   ]
  },
  {
   "cell_type": "code",
   "execution_count": 34,
   "metadata": {
    "scrolled": false
   },
   "outputs": [
    {
     "data": {
      "text/html": [
       "<div>\n",
       "<style scoped>\n",
       "    .dataframe tbody tr th:only-of-type {\n",
       "        vertical-align: middle;\n",
       "    }\n",
       "\n",
       "    .dataframe tbody tr th {\n",
       "        vertical-align: top;\n",
       "    }\n",
       "\n",
       "    .dataframe thead th {\n",
       "        text-align: right;\n",
       "    }\n",
       "</style>\n",
       "<table border=\"1\" class=\"dataframe\">\n",
       "  <thead>\n",
       "    <tr style=\"text-align: right;\">\n",
       "      <th></th>\n",
       "      <th>id</th>\n",
       "      <th>message_date</th>\n",
       "      <th>user_id</th>\n",
       "    </tr>\n",
       "  </thead>\n",
       "  <tbody>\n",
       "    <tr>\n",
       "      <td>101166</td>\n",
       "      <td>1414_110</td>\n",
       "      <td>2018-09-10</td>\n",
       "      <td>1414</td>\n",
       "    </tr>\n",
       "    <tr>\n",
       "      <td>73283</td>\n",
       "      <td>1310_152</td>\n",
       "      <td>2018-08-28</td>\n",
       "      <td>1310</td>\n",
       "    </tr>\n",
       "    <tr>\n",
       "      <td>92986</td>\n",
       "      <td>1382_447</td>\n",
       "      <td>2018-05-24</td>\n",
       "      <td>1382</td>\n",
       "    </tr>\n",
       "    <tr>\n",
       "      <td>20437</td>\n",
       "      <td>1089_440</td>\n",
       "      <td>2018-09-24</td>\n",
       "      <td>1089</td>\n",
       "    </tr>\n",
       "    <tr>\n",
       "      <td>40753</td>\n",
       "      <td>1174_98</td>\n",
       "      <td>2018-09-28</td>\n",
       "      <td>1174</td>\n",
       "    </tr>\n",
       "    <tr>\n",
       "      <td>6475</td>\n",
       "      <td>1028_130</td>\n",
       "      <td>2018-10-20</td>\n",
       "      <td>1028</td>\n",
       "    </tr>\n",
       "    <tr>\n",
       "      <td>10684</td>\n",
       "      <td>1045_263</td>\n",
       "      <td>2018-02-21</td>\n",
       "      <td>1045</td>\n",
       "    </tr>\n",
       "    <tr>\n",
       "      <td>75575</td>\n",
       "      <td>1319_164</td>\n",
       "      <td>2018-09-13</td>\n",
       "      <td>1319</td>\n",
       "    </tr>\n",
       "    <tr>\n",
       "      <td>27834</td>\n",
       "      <td>1119_357</td>\n",
       "      <td>2018-08-13</td>\n",
       "      <td>1119</td>\n",
       "    </tr>\n",
       "    <tr>\n",
       "      <td>65714</td>\n",
       "      <td>1282_146</td>\n",
       "      <td>2018-02-12</td>\n",
       "      <td>1282</td>\n",
       "    </tr>\n",
       "  </tbody>\n",
       "</table>\n",
       "</div>"
      ],
      "text/plain": [
       "              id message_date  user_id\n",
       "101166  1414_110   2018-09-10     1414\n",
       "73283   1310_152   2018-08-28     1310\n",
       "92986   1382_447   2018-05-24     1382\n",
       "20437   1089_440   2018-09-24     1089\n",
       "40753    1174_98   2018-09-28     1174\n",
       "6475    1028_130   2018-10-20     1028\n",
       "10684   1045_263   2018-02-21     1045\n",
       "75575   1319_164   2018-09-13     1319\n",
       "27834   1119_357   2018-08-13     1119\n",
       "65714   1282_146   2018-02-12     1282"
      ]
     },
     "execution_count": 34,
     "metadata": {},
     "output_type": "execute_result"
    }
   ],
   "source": [
    "df_messages.sample(10)"
   ]
  },
  {
   "cell_type": "code",
   "execution_count": 35,
   "metadata": {},
   "outputs": [
    {
     "data": {
      "text/plain": [
       "0"
      ]
     },
     "execution_count": 35,
     "metadata": {},
     "output_type": "execute_result"
    }
   ],
   "source": [
    "df_messages.duplicated().sum()"
   ]
  },
  {
   "cell_type": "markdown",
   "metadata": {},
   "source": [
    " В столбце df_messages нет явных ошибок"
   ]
  },
  {
   "cell_type": "markdown",
   "metadata": {},
   "source": [
    "**Поиск ошибок в таблице df_internet**"
   ]
  },
  {
   "cell_type": "code",
   "execution_count": 36,
   "metadata": {
    "scrolled": true
   },
   "outputs": [
    {
     "data": {
      "text/html": [
       "<div>\n",
       "<style scoped>\n",
       "    .dataframe tbody tr th:only-of-type {\n",
       "        vertical-align: middle;\n",
       "    }\n",
       "\n",
       "    .dataframe tbody tr th {\n",
       "        vertical-align: top;\n",
       "    }\n",
       "\n",
       "    .dataframe thead th {\n",
       "        text-align: right;\n",
       "    }\n",
       "</style>\n",
       "<table border=\"1\" class=\"dataframe\">\n",
       "  <thead>\n",
       "    <tr style=\"text-align: right;\">\n",
       "      <th></th>\n",
       "      <th>Unnamed: 0</th>\n",
       "      <th>id</th>\n",
       "      <th>mb_used</th>\n",
       "      <th>session_date</th>\n",
       "      <th>user_id</th>\n",
       "    </tr>\n",
       "  </thead>\n",
       "  <tbody>\n",
       "    <tr>\n",
       "      <td>20891</td>\n",
       "      <td>20891</td>\n",
       "      <td>1071_8</td>\n",
       "      <td>291.76</td>\n",
       "      <td>2018-04-10</td>\n",
       "      <td>1071</td>\n",
       "    </tr>\n",
       "    <tr>\n",
       "      <td>21805</td>\n",
       "      <td>21805</td>\n",
       "      <td>1072_528</td>\n",
       "      <td>75.46</td>\n",
       "      <td>2018-03-30</td>\n",
       "      <td>1072</td>\n",
       "    </tr>\n",
       "    <tr>\n",
       "      <td>3967</td>\n",
       "      <td>3967</td>\n",
       "      <td>1012_240</td>\n",
       "      <td>344.37</td>\n",
       "      <td>2018-09-16</td>\n",
       "      <td>1012</td>\n",
       "    </tr>\n",
       "    <tr>\n",
       "      <td>6396</td>\n",
       "      <td>6396</td>\n",
       "      <td>1021_40</td>\n",
       "      <td>660.86</td>\n",
       "      <td>2018-08-15</td>\n",
       "      <td>1021</td>\n",
       "    </tr>\n",
       "    <tr>\n",
       "      <td>73119</td>\n",
       "      <td>73119</td>\n",
       "      <td>1247_157</td>\n",
       "      <td>308.52</td>\n",
       "      <td>2018-09-10</td>\n",
       "      <td>1247</td>\n",
       "    </tr>\n",
       "    <tr>\n",
       "      <td>116010</td>\n",
       "      <td>116010</td>\n",
       "      <td>1391_143</td>\n",
       "      <td>848.65</td>\n",
       "      <td>2018-08-09</td>\n",
       "      <td>1391</td>\n",
       "    </tr>\n",
       "    <tr>\n",
       "      <td>131132</td>\n",
       "      <td>131132</td>\n",
       "      <td>1436_98</td>\n",
       "      <td>30.39</td>\n",
       "      <td>2018-10-25</td>\n",
       "      <td>1436</td>\n",
       "    </tr>\n",
       "    <tr>\n",
       "      <td>127662</td>\n",
       "      <td>127662</td>\n",
       "      <td>1428_100</td>\n",
       "      <td>358.91</td>\n",
       "      <td>2018-11-26</td>\n",
       "      <td>1428</td>\n",
       "    </tr>\n",
       "    <tr>\n",
       "      <td>59523</td>\n",
       "      <td>59523</td>\n",
       "      <td>1201_59</td>\n",
       "      <td>700.72</td>\n",
       "      <td>2018-08-13</td>\n",
       "      <td>1201</td>\n",
       "    </tr>\n",
       "    <tr>\n",
       "      <td>33528</td>\n",
       "      <td>33528</td>\n",
       "      <td>1118_145</td>\n",
       "      <td>490.54</td>\n",
       "      <td>2018-03-13</td>\n",
       "      <td>1118</td>\n",
       "    </tr>\n",
       "  </tbody>\n",
       "</table>\n",
       "</div>"
      ],
      "text/plain": [
       "        Unnamed: 0        id  mb_used session_date  user_id\n",
       "20891        20891    1071_8   291.76   2018-04-10     1071\n",
       "21805        21805  1072_528    75.46   2018-03-30     1072\n",
       "3967          3967  1012_240   344.37   2018-09-16     1012\n",
       "6396          6396   1021_40   660.86   2018-08-15     1021\n",
       "73119        73119  1247_157   308.52   2018-09-10     1247\n",
       "116010      116010  1391_143   848.65   2018-08-09     1391\n",
       "131132      131132   1436_98    30.39   2018-10-25     1436\n",
       "127662      127662  1428_100   358.91   2018-11-26     1428\n",
       "59523        59523   1201_59   700.72   2018-08-13     1201\n",
       "33528        33528  1118_145   490.54   2018-03-13     1118"
      ]
     },
     "execution_count": 36,
     "metadata": {},
     "output_type": "execute_result"
    }
   ],
   "source": [
    "df_internet.sample(10)"
   ]
  },
  {
   "cell_type": "code",
   "execution_count": 37,
   "metadata": {
    "scrolled": true
   },
   "outputs": [
    {
     "data": {
      "text/plain": [
       "0"
      ]
     },
     "execution_count": 37,
     "metadata": {},
     "output_type": "execute_result"
    }
   ],
   "source": [
    "df_internet.duplicated().sum()"
   ]
  },
  {
   "cell_type": "markdown",
   "metadata": {},
   "source": [
    "В столбце df_internet нет явных ошибок"
   ]
  },
  {
   "cell_type": "markdown",
   "metadata": {},
   "source": [
    "**Поиск ошибок в таблице df_calls**"
   ]
  },
  {
   "cell_type": "code",
   "execution_count": 38,
   "metadata": {},
   "outputs": [
    {
     "data": {
      "text/html": [
       "<div>\n",
       "<style scoped>\n",
       "    .dataframe tbody tr th:only-of-type {\n",
       "        vertical-align: middle;\n",
       "    }\n",
       "\n",
       "    .dataframe tbody tr th {\n",
       "        vertical-align: top;\n",
       "    }\n",
       "\n",
       "    .dataframe thead th {\n",
       "        text-align: right;\n",
       "    }\n",
       "</style>\n",
       "<table border=\"1\" class=\"dataframe\">\n",
       "  <thead>\n",
       "    <tr style=\"text-align: right;\">\n",
       "      <th></th>\n",
       "      <th>id</th>\n",
       "      <th>call_date</th>\n",
       "      <th>duration</th>\n",
       "      <th>user_id</th>\n",
       "    </tr>\n",
       "  </thead>\n",
       "  <tbody>\n",
       "    <tr>\n",
       "      <td>122477</td>\n",
       "      <td>1316_98</td>\n",
       "      <td>2018-12-24</td>\n",
       "      <td>8.0</td>\n",
       "      <td>1316</td>\n",
       "    </tr>\n",
       "    <tr>\n",
       "      <td>93478</td>\n",
       "      <td>1235_46</td>\n",
       "      <td>2018-10-23</td>\n",
       "      <td>11.0</td>\n",
       "      <td>1235</td>\n",
       "    </tr>\n",
       "    <tr>\n",
       "      <td>118087</td>\n",
       "      <td>1303_355</td>\n",
       "      <td>2018-09-13</td>\n",
       "      <td>11.0</td>\n",
       "      <td>1303</td>\n",
       "    </tr>\n",
       "    <tr>\n",
       "      <td>184282</td>\n",
       "      <td>1457_254</td>\n",
       "      <td>2018-12-24</td>\n",
       "      <td>15.0</td>\n",
       "      <td>1457</td>\n",
       "    </tr>\n",
       "    <tr>\n",
       "      <td>171149</td>\n",
       "      <td>1423_120</td>\n",
       "      <td>2018-06-12</td>\n",
       "      <td>7.0</td>\n",
       "      <td>1423</td>\n",
       "    </tr>\n",
       "    <tr>\n",
       "      <td>59630</td>\n",
       "      <td>1149_148</td>\n",
       "      <td>2018-07-08</td>\n",
       "      <td>15.0</td>\n",
       "      <td>1149</td>\n",
       "    </tr>\n",
       "    <tr>\n",
       "      <td>140109</td>\n",
       "      <td>1357_67</td>\n",
       "      <td>2018-12-03</td>\n",
       "      <td>2.0</td>\n",
       "      <td>1357</td>\n",
       "    </tr>\n",
       "    <tr>\n",
       "      <td>175294</td>\n",
       "      <td>1433_193</td>\n",
       "      <td>2018-03-02</td>\n",
       "      <td>1.0</td>\n",
       "      <td>1433</td>\n",
       "    </tr>\n",
       "    <tr>\n",
       "      <td>135</td>\n",
       "      <td>1000_135</td>\n",
       "      <td>2018-10-25</td>\n",
       "      <td>1.0</td>\n",
       "      <td>1000</td>\n",
       "    </tr>\n",
       "    <tr>\n",
       "      <td>146493</td>\n",
       "      <td>1372_671</td>\n",
       "      <td>2018-02-16</td>\n",
       "      <td>10.0</td>\n",
       "      <td>1372</td>\n",
       "    </tr>\n",
       "  </tbody>\n",
       "</table>\n",
       "</div>"
      ],
      "text/plain": [
       "              id  call_date  duration  user_id\n",
       "122477   1316_98 2018-12-24       8.0     1316\n",
       "93478    1235_46 2018-10-23      11.0     1235\n",
       "118087  1303_355 2018-09-13      11.0     1303\n",
       "184282  1457_254 2018-12-24      15.0     1457\n",
       "171149  1423_120 2018-06-12       7.0     1423\n",
       "59630   1149_148 2018-07-08      15.0     1149\n",
       "140109   1357_67 2018-12-03       2.0     1357\n",
       "175294  1433_193 2018-03-02       1.0     1433\n",
       "135     1000_135 2018-10-25       1.0     1000\n",
       "146493  1372_671 2018-02-16      10.0     1372"
      ]
     },
     "execution_count": 38,
     "metadata": {},
     "output_type": "execute_result"
    }
   ],
   "source": [
    "df_calls.sample(10)"
   ]
  },
  {
   "cell_type": "code",
   "execution_count": 39,
   "metadata": {
    "scrolled": true
   },
   "outputs": [
    {
     "data": {
      "text/plain": [
       "0"
      ]
     },
     "execution_count": 39,
     "metadata": {},
     "output_type": "execute_result"
    }
   ],
   "source": [
    "df_calls.duplicated().sum()"
   ]
  },
  {
   "cell_type": "markdown",
   "metadata": {},
   "source": [
    "В столбце df_calls нет явных ошибок"
   ]
  },
  {
   "cell_type": "markdown",
   "metadata": {},
   "source": [
    "<a id =\"calculation\"></a>\n",
    "### Расчёты и добавление результатов в таблицы:"
   ]
  },
  {
   "cell_type": "markdown",
   "metadata": {},
   "source": [
    "**Количество сделанных звонков и израсходованных минут разговора по месяцам**"
   ]
  },
  {
   "cell_type": "code",
   "execution_count": 40,
   "metadata": {},
   "outputs": [],
   "source": [
    "df_calls['month']= df_calls['call_date'].dt.month"
   ]
  },
  {
   "cell_type": "markdown",
   "metadata": {},
   "source": [
    "Округление значений израсходованных минут > 0 до целого"
   ]
  },
  {
   "cell_type": "code",
   "execution_count": 41,
   "metadata": {},
   "outputs": [],
   "source": [
    "df_calls['duration_round'] = np.ceil(df_calls[df_calls['duration'] > 0.0001]['duration']).astype('int64')"
   ]
  },
  {
   "cell_type": "markdown",
   "metadata": {},
   "source": [
    "Звонки со значением 0 - пропущенные звонки, оставляем как 0"
   ]
  },
  {
   "cell_type": "code",
   "execution_count": 42,
   "metadata": {},
   "outputs": [],
   "source": [
    "df_calls['duration_round'] = df_calls['duration_round'].fillna(0)"
   ]
  },
  {
   "cell_type": "code",
   "execution_count": 43,
   "metadata": {},
   "outputs": [],
   "source": [
    "df_calls['duration_round'] = df_calls['duration_round'].astype('int64')"
   ]
  },
  {
   "cell_type": "code",
   "execution_count": 44,
   "metadata": {
    "scrolled": true
   },
   "outputs": [
    {
     "data": {
      "text/html": [
       "<div>\n",
       "<style scoped>\n",
       "    .dataframe tbody tr th:only-of-type {\n",
       "        vertical-align: middle;\n",
       "    }\n",
       "\n",
       "    .dataframe tbody tr th {\n",
       "        vertical-align: top;\n",
       "    }\n",
       "\n",
       "    .dataframe thead th {\n",
       "        text-align: right;\n",
       "    }\n",
       "</style>\n",
       "<table border=\"1\" class=\"dataframe\">\n",
       "  <thead>\n",
       "    <tr style=\"text-align: right;\">\n",
       "      <th></th>\n",
       "      <th>id</th>\n",
       "      <th>call_date</th>\n",
       "      <th>duration</th>\n",
       "      <th>user_id</th>\n",
       "      <th>month</th>\n",
       "      <th>duration_round</th>\n",
       "    </tr>\n",
       "  </thead>\n",
       "  <tbody>\n",
       "    <tr>\n",
       "      <td>27447</td>\n",
       "      <td>1067_357</td>\n",
       "      <td>2018-05-17</td>\n",
       "      <td>11.0</td>\n",
       "      <td>1067</td>\n",
       "      <td>5</td>\n",
       "      <td>11</td>\n",
       "    </tr>\n",
       "    <tr>\n",
       "      <td>192227</td>\n",
       "      <td>1472_40</td>\n",
       "      <td>2018-05-13</td>\n",
       "      <td>1.0</td>\n",
       "      <td>1472</td>\n",
       "      <td>5</td>\n",
       "      <td>1</td>\n",
       "    </tr>\n",
       "    <tr>\n",
       "      <td>72425</td>\n",
       "      <td>1180_103</td>\n",
       "      <td>2018-12-30</td>\n",
       "      <td>7.0</td>\n",
       "      <td>1180</td>\n",
       "      <td>12</td>\n",
       "      <td>7</td>\n",
       "    </tr>\n",
       "    <tr>\n",
       "      <td>90362</td>\n",
       "      <td>1225_622</td>\n",
       "      <td>2018-08-30</td>\n",
       "      <td>10.0</td>\n",
       "      <td>1225</td>\n",
       "      <td>8</td>\n",
       "      <td>10</td>\n",
       "    </tr>\n",
       "    <tr>\n",
       "      <td>19866</td>\n",
       "      <td>1054_199</td>\n",
       "      <td>2018-11-13</td>\n",
       "      <td>5.0</td>\n",
       "      <td>1054</td>\n",
       "      <td>11</td>\n",
       "      <td>5</td>\n",
       "    </tr>\n",
       "  </tbody>\n",
       "</table>\n",
       "</div>"
      ],
      "text/plain": [
       "              id  call_date  duration  user_id  month  duration_round\n",
       "27447   1067_357 2018-05-17      11.0     1067      5              11\n",
       "192227   1472_40 2018-05-13       1.0     1472      5               1\n",
       "72425   1180_103 2018-12-30       7.0     1180     12               7\n",
       "90362   1225_622 2018-08-30      10.0     1225      8              10\n",
       "19866   1054_199 2018-11-13       5.0     1054     11               5"
      ]
     },
     "execution_count": 44,
     "metadata": {},
     "output_type": "execute_result"
    }
   ],
   "source": [
    "df_calls.sample(5)"
   ]
  },
  {
   "cell_type": "code",
   "execution_count": 45,
   "metadata": {
    "scrolled": false
   },
   "outputs": [],
   "source": [
    "df_user_calls_month = df_calls.groupby(['user_id', 'month'])['duration_round'].agg(['sum', 'count']).reset_index().rename(columns = {'sum':'duration_month', 'count':'calles_month'})"
   ]
  },
  {
   "cell_type": "code",
   "execution_count": 47,
   "metadata": {},
   "outputs": [
    {
     "data": {
      "text/html": [
       "<div>\n",
       "<style scoped>\n",
       "    .dataframe tbody tr th:only-of-type {\n",
       "        vertical-align: middle;\n",
       "    }\n",
       "\n",
       "    .dataframe tbody tr th {\n",
       "        vertical-align: top;\n",
       "    }\n",
       "\n",
       "    .dataframe thead th {\n",
       "        text-align: right;\n",
       "    }\n",
       "</style>\n",
       "<table border=\"1\" class=\"dataframe\">\n",
       "  <thead>\n",
       "    <tr style=\"text-align: right;\">\n",
       "      <th></th>\n",
       "      <th>user_id</th>\n",
       "      <th>month</th>\n",
       "      <th>duration_month</th>\n",
       "      <th>calles_month</th>\n",
       "    </tr>\n",
       "  </thead>\n",
       "  <tbody>\n",
       "    <tr>\n",
       "      <td>0</td>\n",
       "      <td>1000</td>\n",
       "      <td>5</td>\n",
       "      <td>159</td>\n",
       "      <td>22</td>\n",
       "    </tr>\n",
       "    <tr>\n",
       "      <td>1</td>\n",
       "      <td>1000</td>\n",
       "      <td>6</td>\n",
       "      <td>172</td>\n",
       "      <td>43</td>\n",
       "    </tr>\n",
       "    <tr>\n",
       "      <td>2</td>\n",
       "      <td>1000</td>\n",
       "      <td>7</td>\n",
       "      <td>340</td>\n",
       "      <td>47</td>\n",
       "    </tr>\n",
       "    <tr>\n",
       "      <td>3</td>\n",
       "      <td>1000</td>\n",
       "      <td>8</td>\n",
       "      <td>408</td>\n",
       "      <td>52</td>\n",
       "    </tr>\n",
       "    <tr>\n",
       "      <td>4</td>\n",
       "      <td>1000</td>\n",
       "      <td>9</td>\n",
       "      <td>466</td>\n",
       "      <td>58</td>\n",
       "    </tr>\n",
       "    <tr>\n",
       "      <td>...</td>\n",
       "      <td>...</td>\n",
       "      <td>...</td>\n",
       "      <td>...</td>\n",
       "      <td>...</td>\n",
       "    </tr>\n",
       "    <tr>\n",
       "      <td>3169</td>\n",
       "      <td>1498</td>\n",
       "      <td>10</td>\n",
       "      <td>247</td>\n",
       "      <td>41</td>\n",
       "    </tr>\n",
       "    <tr>\n",
       "      <td>3170</td>\n",
       "      <td>1499</td>\n",
       "      <td>9</td>\n",
       "      <td>70</td>\n",
       "      <td>9</td>\n",
       "    </tr>\n",
       "    <tr>\n",
       "      <td>3171</td>\n",
       "      <td>1499</td>\n",
       "      <td>10</td>\n",
       "      <td>449</td>\n",
       "      <td>68</td>\n",
       "    </tr>\n",
       "    <tr>\n",
       "      <td>3172</td>\n",
       "      <td>1499</td>\n",
       "      <td>11</td>\n",
       "      <td>612</td>\n",
       "      <td>74</td>\n",
       "    </tr>\n",
       "    <tr>\n",
       "      <td>3173</td>\n",
       "      <td>1499</td>\n",
       "      <td>12</td>\n",
       "      <td>492</td>\n",
       "      <td>69</td>\n",
       "    </tr>\n",
       "  </tbody>\n",
       "</table>\n",
       "<p>3174 rows × 4 columns</p>\n",
       "</div>"
      ],
      "text/plain": [
       "      user_id  month  duration_month  calles_month\n",
       "0        1000      5             159            22\n",
       "1        1000      6             172            43\n",
       "2        1000      7             340            47\n",
       "3        1000      8             408            52\n",
       "4        1000      9             466            58\n",
       "...       ...    ...             ...           ...\n",
       "3169     1498     10             247            41\n",
       "3170     1499      9              70             9\n",
       "3171     1499     10             449            68\n",
       "3172     1499     11             612            74\n",
       "3173     1499     12             492            69\n",
       "\n",
       "[3174 rows x 4 columns]"
      ]
     },
     "execution_count": 47,
     "metadata": {},
     "output_type": "execute_result"
    }
   ],
   "source": [
    "# код ревьюреа\n",
    "df_calls.groupby(['user_id', 'month']).agg(duration_month = ('duration_round', 'sum'),\n",
    "                                        calles_month = ('duration_round', 'count')).reset_index()"
   ]
  },
  {
   "cell_type": "code",
   "execution_count": null,
   "metadata": {},
   "outputs": [],
   "source": [
    "#df_user_calls_month.columns = ['user_id', 'month', 'duration_month', 'calles_month' ]"
   ]
  },
  {
   "cell_type": "code",
   "execution_count": null,
   "metadata": {
    "scrolled": false
   },
   "outputs": [],
   "source": [
    "df_user_calls_month.sample(5)"
   ]
  },
  {
   "cell_type": "code",
   "execution_count": null,
   "metadata": {},
   "outputs": [],
   "source": [
    "df_user_calls_month.info()"
   ]
  },
  {
   "cell_type": "markdown",
   "metadata": {},
   "source": [
    "**Количество отправленных сообщений по месяцам**"
   ]
  },
  {
   "cell_type": "code",
   "execution_count": null,
   "metadata": {},
   "outputs": [],
   "source": [
    "df_messages['month']= df_messages['message_date'].dt.month"
   ]
  },
  {
   "cell_type": "code",
   "execution_count": null,
   "metadata": {},
   "outputs": [],
   "source": [
    "df_user_messages_month = df_messages.groupby(['user_id', 'month'])['id'].agg('count').reset_index().rename(columns = {'id':'messages_month'})"
   ]
  },
  {
   "cell_type": "code",
   "execution_count": null,
   "metadata": {},
   "outputs": [],
   "source": [
    "#df_user_messages_month.columns = ['user_id', 'month', 'messages_month']"
   ]
  },
  {
   "cell_type": "code",
   "execution_count": null,
   "metadata": {},
   "outputs": [],
   "source": [
    "df_user_messages_month.sample(5)"
   ]
  },
  {
   "cell_type": "code",
   "execution_count": null,
   "metadata": {},
   "outputs": [],
   "source": [
    "df_user_messages_month.info()"
   ]
  },
  {
   "cell_type": "markdown",
   "metadata": {},
   "source": [
    "**Объем израсходованного интернет-трафика по месяцам**"
   ]
  },
  {
   "cell_type": "code",
   "execution_count": null,
   "metadata": {},
   "outputs": [],
   "source": [
    "df_internet['month']= df_internet['session_date'].dt.month"
   ]
  },
  {
   "cell_type": "code",
   "execution_count": null,
   "metadata": {},
   "outputs": [],
   "source": [
    "df_user_internet_month = df_internet.groupby(['user_id', 'month'])['mb_used'].agg('sum').reset_index().rename(columns = {'mb_used':'mb_used_month'})"
   ]
  },
  {
   "cell_type": "code",
   "execution_count": null,
   "metadata": {},
   "outputs": [],
   "source": [
    "#df_user_internet_month.columns = ['user_id', 'month', 'mb_used_month']"
   ]
  },
  {
   "cell_type": "code",
   "execution_count": null,
   "metadata": {},
   "outputs": [],
   "source": [
    "df_user_internet_month['gb_used_month'] = np.ceil(df_user_internet_month['mb_used_month']/1024).astype('int64')"
   ]
  },
  {
   "cell_type": "code",
   "execution_count": null,
   "metadata": {},
   "outputs": [],
   "source": [
    "df_user_internet_month.sample(5)"
   ]
  },
  {
   "cell_type": "code",
   "execution_count": null,
   "metadata": {},
   "outputs": [],
   "source": [
    "df_user_internet_month.info()"
   ]
  },
  {
   "cell_type": "markdown",
   "metadata": {},
   "source": [
    "**Формирование итоговой таблицы:**"
   ]
  },
  {
   "cell_type": "code",
   "execution_count": null,
   "metadata": {},
   "outputs": [],
   "source": [
    "df = df_user_messages_month.merge(df_user_calls_month, how='outer', on=['user_id', 'month'])"
   ]
  },
  {
   "cell_type": "code",
   "execution_count": null,
   "metadata": {},
   "outputs": [],
   "source": [
    "df = df.merge(df_user_internet_month, how='outer', on=['user_id', 'month'])"
   ]
  },
  {
   "cell_type": "code",
   "execution_count": null,
   "metadata": {},
   "outputs": [],
   "source": [
    "df = df_users.merge(df, how='outer', on='user_id')\n"
   ]
  },
  {
   "cell_type": "code",
   "execution_count": null,
   "metadata": {},
   "outputs": [],
   "source": [
    "df.info()"
   ]
  },
  {
   "cell_type": "markdown",
   "metadata": {},
   "source": [
    "Заменим нулевые NaN значения в столбцах month, messages_month, duration_month, calles_month, mb_used_month, gb_used_month на 0"
   ]
  },
  {
   "cell_type": "code",
   "execution_count": null,
   "metadata": {},
   "outputs": [],
   "source": [
    "df.loc[:,'month':'gb_used_month'] = df.loc[:,'month':'gb_used_month'].fillna(0)"
   ]
  },
  {
   "cell_type": "code",
   "execution_count": null,
   "metadata": {},
   "outputs": [],
   "source": [
    "df.loc[:,'month':'gb_used_month'] = df.loc[:,'month':'gb_used_month'].astype('int64')"
   ]
  },
  {
   "cell_type": "code",
   "execution_count": null,
   "metadata": {},
   "outputs": [],
   "source": [
    "df.info()"
   ]
  },
  {
   "cell_type": "code",
   "execution_count": null,
   "metadata": {},
   "outputs": [],
   "source": [
    "df.head(10)"
   ]
  },
  {
   "cell_type": "markdown",
   "metadata": {},
   "source": [
    "**Помесячная выручка с каждого пользователя**"
   ]
  },
  {
   "cell_type": "code",
   "execution_count": null,
   "metadata": {},
   "outputs": [],
   "source": [
    "df.loc[df['tariff'] == 'smart', 'revenue'] = (550 + np.clip(df['duration_month'] - 500, 0, None)*3 + np.clip(df['messages_month'] - 50, 0, None)*3 + np.clip(df['gb_used_month'] - 15, 0, None)*200)"
   ]
  },
  {
   "cell_type": "code",
   "execution_count": null,
   "metadata": {},
   "outputs": [],
   "source": [
    "df.loc[df['tariff'] == 'ultra', 'revenue'] = (1950 + np.clip(df['duration_month'] - 3000, 0, None)*1 + np.clip(df['messages_month'] - 1000, 0, None)*1 + np.clip(df['gb_used_month'] - 30, 0, None)*150)"
   ]
  },
  {
   "cell_type": "code",
   "execution_count": null,
   "metadata": {
    "scrolled": true
   },
   "outputs": [],
   "source": [
    "df.sample(15)"
   ]
  },
  {
   "cell_type": "code",
   "execution_count": null,
   "metadata": {
    "scrolled": true
   },
   "outputs": [],
   "source": [
    "df.describe().T"
   ]
  },
  {
   "cell_type": "markdown",
   "metadata": {},
   "source": [
    "**Вывод**\n",
    "\n",
    "Сформирована итоговая таблица df для последующего анализа данных. Добавлена следующая информация в разрезе каждого клиента (user_id) помесячно :\n",
    "* month - месяц\n",
    "* messages_month - колличество сообщений в месяц\n",
    "* duration_month - колличество использованных минут разговора в месяц\n",
    "* calles_month - колличество звонков в месяц\n",
    "* gb_used_month - колличество потраченных Гб в месяц\n",
    "* revenue - выручка за месяц\n",
    "\n",
    "Данные подготовлены для дальнейшего анализа."
   ]
  },
  {
   "cell_type": "markdown",
   "metadata": {},
   "source": [
    "<a id =\"investigation\"></a>\n",
    "## Исследовательский анализ данных:"
   ]
  },
  {
   "cell_type": "markdown",
   "metadata": {},
   "source": [
    "Необходимо исследовать: поведение клиентов оператора, исходя из выборки. Сколько минут разговора, сколько сообщений и какой объём интернет-трафика требуется пользователям каждого тарифа в месяц? Посчитайте среднее количество, дисперсию и стандартное отклонение. Постройте гистограммы. Опишите распределения."
   ]
  },
  {
   "cell_type": "code",
   "execution_count": null,
   "metadata": {},
   "outputs": [],
   "source": [
    "columns = ['duration_month', 'messages_month', 'gb_used_month', 'revenue']\n",
    "tariffs = ['smart', 'ultra']\n",
    "variance=[]\n",
    "standard_deviation=[]\n",
    "mean=[]\n",
    "median=[]\n",
    "\n",
    "for tariff in tariffs:\n",
    "    for column in columns:\n",
    "        variance.append(np.var(df.query('tariff == @tariff')[column], ddof=1))\n",
    "        standard_deviation.append(np.std(df.query('tariff == @tariff')[column], ddof=1))\n",
    "        mean.append(df.query('tariff == @tariff')[column].mean())\n",
    "        median.append(df.query('tariff == @tariff')[column].median())\n",
    "        \n",
    "result = pd.DataFrame(data=[variance, standard_deviation, mean, median], \n",
    "                 columns=['Кол-во минут (смарт)', 'Кол-во СМС (смарт)', 'Кол-во ГБ (смарт)','Выручка(смарт)',\n",
    "                         'Кол-во минут (ультра)', 'Кол-во СМС (ультра)', 'Кол-во ГБ (ультра)', 'Выручка(ультра)'],\n",
    "                index = ['Дисперсия', 'Стандартное отклонение', 'Среднее значение', 'Медиана' ] )"
   ]
  },
  {
   "cell_type": "code",
   "execution_count": null,
   "metadata": {
    "scrolled": false
   },
   "outputs": [],
   "source": [
    "result"
   ]
  },
  {
   "cell_type": "code",
   "execution_count": null,
   "metadata": {},
   "outputs": [],
   "source": [
    "columns = ['duration_month', 'messages_month', 'gb_used_month', 'revenue']\n",
    "tariffs = ['smart', 'ultra']\n",
    "for tariff in tariffs:\n",
    "    for column in columns:\n",
    "        fig = plt.figure()\n",
    "        ax_1 = fig.add_subplot(1, 2, 1)\n",
    "        df.query('tariff == @tariff')[column].hist(density=True)\n",
    "        ax_2 = fig.add_subplot(1, 2, 2)\n",
    "        df.query('tariff == @tariff').boxplot(column=column)\n",
    "        ax_1.set_title(f'Тариф: {tariff},  Параметр:  {column}')\n",
    "        ax_2.set_title(f'Тариф: {tariff},  Параметр:  {column}')\n",
    "        fig.set_figwidth(12)\n",
    "        fig.set_figheight(7)\n",
    "        plt.show"
   ]
  },
  {
   "cell_type": "markdown",
   "metadata": {},
   "source": [
    "**Вывод:**\n",
    "\n",
    "1. Тариф smart:\n",
    "- Среднее количество минут в месяц - 418, распределение - нормальное, немного скошено влево\n",
    "- Среднее количество смс в месяц - 33, распределение - сильно скошено влево\n",
    "- Среднее количество Гб в месяц - 16, распределение - нормальное.\n",
    "\n",
    "2. Тариф ultra:\n",
    "- Среднее количество минут в месяц - 526, распределение - нормальное,  скошено влево\n",
    "- Среднее количество смс в месяц - 49, распределение - сильно скошено влево\n",
    "- Среднее количество Гб в месяц - 19, распределение - нормальное."
   ]
  },
  {
   "cell_type": "code",
   "execution_count": null,
   "metadata": {},
   "outputs": [],
   "source": [
    "fig = plt.figure()\n",
    "ax_1 = fig.add_subplot(1, 3, 1)\n",
    "df.query('tariff == \"smart\"')['duration_month'].hist(alpha=0.75)\n",
    "df.query('tariff == \"ultra\"')['duration_month'].hist(alpha=0.75)\n",
    "ax_2 = fig.add_subplot(1, 3, 2)\n",
    "df.query('tariff == \"smart\"')['messages_month'].hist(alpha=0.75)\n",
    "df.query('tariff == \"ultra\"')['messages_month'].hist(alpha=0.75)\n",
    "ax_3 = fig.add_subplot(1, 3, 3)\n",
    "df.query('tariff == \"smart\"')['gb_used_month'].hist(alpha=0.75)\n",
    "df.query('tariff == \"ultra\"')['gb_used_month'].hist(alpha=0.75)        \n",
    "ax_1.set_title('duration_month')\n",
    "ax_2.set_title('messages_month')\n",
    "ax_3.set_title('gb_used_month')\n",
    "fig.set_figwidth(15)\n",
    "fig.set_figheight(7)\n",
    "plt.show"
   ]
  },
  {
   "cell_type": "markdown",
   "metadata": {},
   "source": [
    "<a id =\"hypothesis\"></a>\n",
    "## Проверка гипотез:"
   ]
  },
  {
   "cell_type": "markdown",
   "metadata": {},
   "source": [
    "<a id =\"hypothesis_1\"></a>\n",
    "### Cредняя выручка пользователей тарифов «Ультра» и «Смарт» различаются"
   ]
  },
  {
   "cell_type": "markdown",
   "metadata": {},
   "source": [
    "* Ho - Cредняя выручка пользователей тарифов «Ультра» и «Смарт» одинаковые\n",
    "* H1 - Cредняя выручка пользователей тарифов «Ультра» и «Смарт» различаются\n",
    "\n",
    "для проверки гипотезы о равенстве среднего двух генеральных совокупностей по взятым из них выборкам используем метод scipy.stats.ttest_ind (array1, array2,equal_var)\n",
    "\n",
    "alpha = .05 # критический уровень статистической значимости<br>\n",
    "если p-value окажется меньше него - отвегнем гипотезу"
   ]
  },
  {
   "cell_type": "code",
   "execution_count": null,
   "metadata": {},
   "outputs": [],
   "source": [
    "results = st.ttest_ind(\n",
    "    df.query('tariff == \"smart\"')['revenue'], \n",
    "    df.query('tariff == \"ultra\"')['revenue'],\n",
    "    equal_var = False)"
   ]
  },
  {
   "cell_type": "code",
   "execution_count": null,
   "metadata": {},
   "outputs": [],
   "source": [
    "results.pvalue"
   ]
  },
  {
   "cell_type": "markdown",
   "metadata": {},
   "source": [
    "**Вывод**\n",
    "\n",
    "**Отвергаем** нулевую гипотезу в пользу \"H1 - Cредняя выручка пользователей тарифов «Ультра» и «Смарт» различаются\", т.к. значение p-value намного меньше критического уровня статистической значимости"
   ]
  },
  {
   "cell_type": "markdown",
   "metadata": {},
   "source": [
    "<a id =\"hypothesis_2\"></a>\n",
    "### Cредняя выручка пользователей из Москвы отличается от выручки пользователей из других регионов."
   ]
  },
  {
   "cell_type": "markdown",
   "metadata": {},
   "source": [
    "* Ho - Cредняя выручка пользователей из Москвы не отличается от выручки пользователей из других регионов.\n",
    "* H1 - Cредняя выручка пользователей из Москвы отличается от выручки пользователей из других регионов.\n",
    "\n",
    "для проверки гипотезы о равенстве среднего двух генеральных совокупностей по взятым из них выборкам используем метод scipy.stats.ttest_ind (array1, array2,equal_var)\n",
    "\n",
    "alpha = .05 # критический уровень статистической значимости<br>\n",
    "если p-value окажется меньше него - отвегнем гипотезу"
   ]
  },
  {
   "cell_type": "code",
   "execution_count": null,
   "metadata": {},
   "outputs": [],
   "source": [
    "results = st.ttest_ind(\n",
    "    df.query('city == \"Москва\"')['revenue'], \n",
    "    df.query('city != \"Москва\"')['revenue'],\n",
    "    equal_var = False)"
   ]
  },
  {
   "cell_type": "code",
   "execution_count": null,
   "metadata": {},
   "outputs": [],
   "source": [
    "results.pvalue"
   ]
  },
  {
   "cell_type": "markdown",
   "metadata": {},
   "source": [
    "**Вывод**\n",
    "\n",
    "p-value намного больше критического уровня статистической значимости, гипотезу \"Ho - Cредняя выручка пользователей из Москвы не отличается от выручки пользователей из других регионов.\" - **не отвергаем**\n",
    "\n"
   ]
  },
  {
   "cell_type": "markdown",
   "metadata": {},
   "source": [
    "<a id =\"conclusion\"></a>\n",
    "## Общий вывод:"
   ]
  },
  {
   "cell_type": "markdown",
   "metadata": {},
   "source": [
    "1. На тарифе Смарт абоненты в среднем расходуют 418 минут разговоров, 33 смс и 17 Гб интернета. Средняя выручка - 1290 руб. <br> На тарифе Ультра - 526 минут, 50 смс и 20 Гб. Средняя выручка - 2070 р.\n",
    "\n",
    "2. Проверка гипотез:\n",
    "* Cредняя выручка пользователей тарифов «Ультра» и «Смарт» различаются - **гипотеза подтверждена.**\n",
    "* Cредняя выручка пользователей из Москвы отличается от выручки пользователей из других регионов - **гипотеза отброшена.**."
   ]
  }
 ],
 "metadata": {
  "ExecuteTimeLog": [
   {
    "duration": 771,
    "start_time": "2021-12-27T05:41:17.975Z"
   },
   {
    "duration": 40,
    "start_time": "2021-12-27T05:42:24.144Z"
   },
   {
    "duration": 28,
    "start_time": "2021-12-27T05:42:37.848Z"
   },
   {
    "duration": 18,
    "start_time": "2021-12-27T05:43:59.584Z"
   },
   {
    "duration": 12,
    "start_time": "2021-12-27T05:44:14.124Z"
   },
   {
    "duration": 519,
    "start_time": "2021-12-27T05:45:19.545Z"
   },
   {
    "duration": 127,
    "start_time": "2021-12-27T05:45:54.802Z"
   },
   {
    "duration": 10,
    "start_time": "2021-12-27T05:46:15.031Z"
   },
   {
    "duration": 199,
    "start_time": "2021-12-27T05:47:17.087Z"
   },
   {
    "duration": 15,
    "start_time": "2021-12-27T05:47:17.289Z"
   },
   {
    "duration": 12,
    "start_time": "2021-12-27T05:47:45.495Z"
   },
   {
    "duration": 232,
    "start_time": "2021-12-27T05:48:48.351Z"
   },
   {
    "duration": 12,
    "start_time": "2021-12-27T05:49:14.834Z"
   },
   {
    "duration": 271,
    "start_time": "2021-12-27T05:56:13.972Z"
   },
   {
    "duration": 11,
    "start_time": "2021-12-27T05:56:19.172Z"
   },
   {
    "duration": 11,
    "start_time": "2021-12-27T05:56:19.235Z"
   },
   {
    "duration": 23,
    "start_time": "2021-12-27T06:04:33.985Z"
   },
   {
    "duration": 24,
    "start_time": "2021-12-27T06:05:08.362Z"
   },
   {
    "duration": 17,
    "start_time": "2021-12-27T06:05:29.577Z"
   },
   {
    "duration": 11,
    "start_time": "2021-12-27T06:06:42.161Z"
   },
   {
    "duration": 20,
    "start_time": "2021-12-27T06:46:45.277Z"
   },
   {
    "duration": 23,
    "start_time": "2021-12-27T06:49:35.009Z"
   },
   {
    "duration": 19,
    "start_time": "2021-12-27T06:50:39.267Z"
   },
   {
    "duration": 22,
    "start_time": "2021-12-27T06:50:39.349Z"
   },
   {
    "duration": 15,
    "start_time": "2021-12-27T06:50:47.377Z"
   },
   {
    "duration": 20,
    "start_time": "2021-12-27T06:50:47.422Z"
   },
   {
    "duration": 15,
    "start_time": "2021-12-27T06:50:54.594Z"
   },
   {
    "duration": 18,
    "start_time": "2021-12-27T06:51:29.104Z"
   },
   {
    "duration": 22,
    "start_time": "2021-12-27T06:51:32.959Z"
   },
   {
    "duration": 18,
    "start_time": "2021-12-27T06:54:01.727Z"
   },
   {
    "duration": 29,
    "start_time": "2021-12-27T06:54:17.239Z"
   },
   {
    "duration": 377,
    "start_time": "2021-12-28T05:58:28.223Z"
   },
   {
    "duration": 598,
    "start_time": "2021-12-28T05:58:38.224Z"
   },
   {
    "duration": 54,
    "start_time": "2021-12-28T05:58:38.823Z"
   },
   {
    "duration": 18,
    "start_time": "2021-12-28T05:58:38.879Z"
   },
   {
    "duration": 88,
    "start_time": "2021-12-28T05:58:38.899Z"
   },
   {
    "duration": 143,
    "start_time": "2021-12-28T05:58:38.989Z"
   },
   {
    "duration": 147,
    "start_time": "2021-12-28T05:58:39.134Z"
   },
   {
    "duration": 14,
    "start_time": "2021-12-28T05:58:39.283Z"
   },
   {
    "duration": 7,
    "start_time": "2021-12-28T05:58:39.299Z"
   },
   {
    "duration": 20,
    "start_time": "2021-12-28T05:58:39.308Z"
   },
   {
    "duration": 6,
    "start_time": "2021-12-28T05:58:39.329Z"
   },
   {
    "duration": 11,
    "start_time": "2021-12-28T05:58:39.337Z"
   },
   {
    "duration": 12,
    "start_time": "2021-12-28T05:58:39.349Z"
   },
   {
    "duration": 11,
    "start_time": "2021-12-28T05:58:39.362Z"
   },
   {
    "duration": 56,
    "start_time": "2021-12-28T05:58:39.375Z"
   },
   {
    "duration": 18,
    "start_time": "2021-12-28T05:58:39.433Z"
   },
   {
    "duration": 32,
    "start_time": "2021-12-28T05:58:39.453Z"
   },
   {
    "duration": 325,
    "start_time": "2021-12-28T05:58:59.565Z"
   },
   {
    "duration": 5,
    "start_time": "2021-12-28T06:00:31.788Z"
   },
   {
    "duration": 4,
    "start_time": "2021-12-28T06:01:09.308Z"
   },
   {
    "duration": 8,
    "start_time": "2021-12-28T06:01:29.868Z"
   },
   {
    "duration": 17,
    "start_time": "2021-12-28T06:02:57.777Z"
   },
   {
    "duration": 7,
    "start_time": "2021-12-28T06:04:19.866Z"
   },
   {
    "duration": 11,
    "start_time": "2021-12-28T06:04:39.267Z"
   },
   {
    "duration": 31,
    "start_time": "2021-12-28T06:06:06.402Z"
   },
   {
    "duration": 19,
    "start_time": "2021-12-28T06:06:06.879Z"
   },
   {
    "duration": 15,
    "start_time": "2021-12-28T06:06:49.715Z"
   },
   {
    "duration": 17,
    "start_time": "2021-12-28T06:07:03.311Z"
   },
   {
    "duration": 116,
    "start_time": "2021-12-28T06:10:44.339Z"
   },
   {
    "duration": 6,
    "start_time": "2021-12-28T06:18:02.607Z"
   },
   {
    "duration": 326,
    "start_time": "2021-12-28T06:19:10.014Z"
   },
   {
    "duration": 18,
    "start_time": "2021-12-28T06:19:22.364Z"
   },
   {
    "duration": 10,
    "start_time": "2021-12-28T06:23:15.313Z"
   },
   {
    "duration": 6,
    "start_time": "2021-12-28T06:24:20.480Z"
   },
   {
    "duration": 6,
    "start_time": "2021-12-28T06:24:52.769Z"
   },
   {
    "duration": 10,
    "start_time": "2021-12-28T06:26:03.108Z"
   },
   {
    "duration": 5,
    "start_time": "2021-12-28T06:26:27.678Z"
   },
   {
    "duration": 11,
    "start_time": "2021-12-28T06:26:27.709Z"
   },
   {
    "duration": 179,
    "start_time": "2021-12-28T06:27:23.668Z"
   },
   {
    "duration": 1145,
    "start_time": "2021-12-28T06:27:22.704Z"
   },
   {
    "duration": 411,
    "start_time": "2021-12-28T06:27:49.443Z"
   },
   {
    "duration": 424,
    "start_time": "2021-12-28T06:28:30.911Z"
   },
   {
    "duration": 1026,
    "start_time": "2021-12-28T06:28:30.311Z"
   },
   {
    "duration": 109,
    "start_time": "2021-12-28T06:29:29.572Z"
   },
   {
    "duration": 367,
    "start_time": "2021-12-28T06:29:43.883Z"
   },
   {
    "duration": 385,
    "start_time": "2021-12-28T06:30:19.644Z"
   },
   {
    "duration": 233,
    "start_time": "2021-12-28T06:30:34.261Z"
   },
   {
    "duration": 2528,
    "start_time": "2021-12-28T06:30:41.536Z"
   },
   {
    "duration": 332,
    "start_time": "2021-12-28T06:47:53.134Z"
   },
   {
    "duration": 6,
    "start_time": "2021-12-28T06:48:12.328Z"
   },
   {
    "duration": 6,
    "start_time": "2021-12-28T06:48:31.248Z"
   },
   {
    "duration": 6,
    "start_time": "2021-12-28T06:48:39.086Z"
   },
   {
    "duration": 6,
    "start_time": "2021-12-28T06:48:48.800Z"
   },
   {
    "duration": 101,
    "start_time": "2021-12-28T06:50:44.681Z"
   },
   {
    "duration": 102,
    "start_time": "2021-12-28T06:50:57.100Z"
   },
   {
    "duration": 8,
    "start_time": "2021-12-28T06:51:13.347Z"
   },
   {
    "duration": 311,
    "start_time": "2021-12-28T06:54:25.934Z"
   },
   {
    "duration": 4,
    "start_time": "2021-12-28T06:54:33.818Z"
   },
   {
    "duration": 6,
    "start_time": "2021-12-28T06:55:04.207Z"
   },
   {
    "duration": 5,
    "start_time": "2021-12-28T06:55:56.909Z"
   },
   {
    "duration": 1941,
    "start_time": "2021-12-28T06:56:58.859Z"
   },
   {
    "duration": 5,
    "start_time": "2021-12-28T06:57:30.882Z"
   },
   {
    "duration": 7,
    "start_time": "2021-12-28T10:19:02.426Z"
   },
   {
    "duration": 7,
    "start_time": "2021-12-28T10:23:11.141Z"
   },
   {
    "duration": 3,
    "start_time": "2021-12-28T10:23:21.065Z"
   },
   {
    "duration": 47,
    "start_time": "2021-12-28T10:23:21.069Z"
   },
   {
    "duration": 19,
    "start_time": "2021-12-28T10:23:21.117Z"
   },
   {
    "duration": 97,
    "start_time": "2021-12-28T10:23:21.138Z"
   },
   {
    "duration": 130,
    "start_time": "2021-12-28T10:23:21.236Z"
   },
   {
    "duration": 148,
    "start_time": "2021-12-28T10:23:21.368Z"
   },
   {
    "duration": 11,
    "start_time": "2021-12-28T10:23:21.518Z"
   },
   {
    "duration": 22,
    "start_time": "2021-12-28T10:23:21.531Z"
   },
   {
    "duration": 11,
    "start_time": "2021-12-28T10:23:21.555Z"
   },
   {
    "duration": 17,
    "start_time": "2021-12-28T10:23:21.568Z"
   },
   {
    "duration": 11,
    "start_time": "2021-12-28T10:23:21.587Z"
   },
   {
    "duration": 13,
    "start_time": "2021-12-28T10:23:21.600Z"
   },
   {
    "duration": 18,
    "start_time": "2021-12-28T10:23:21.614Z"
   },
   {
    "duration": 17,
    "start_time": "2021-12-28T10:23:21.634Z"
   },
   {
    "duration": 16,
    "start_time": "2021-12-28T10:23:21.652Z"
   },
   {
    "duration": 20,
    "start_time": "2021-12-28T10:23:21.669Z"
   },
   {
    "duration": 5,
    "start_time": "2021-12-28T10:23:21.690Z"
   },
   {
    "duration": 5,
    "start_time": "2021-12-28T10:23:21.727Z"
   },
   {
    "duration": 9,
    "start_time": "2021-12-28T10:23:21.733Z"
   },
   {
    "duration": 19,
    "start_time": "2021-12-28T10:23:21.743Z"
   },
   {
    "duration": 10,
    "start_time": "2021-12-28T10:23:21.764Z"
   },
   {
    "duration": 60,
    "start_time": "2021-12-28T10:23:21.775Z"
   },
   {
    "duration": 15,
    "start_time": "2021-12-28T10:23:21.836Z"
   },
   {
    "duration": 18,
    "start_time": "2021-12-28T10:23:21.852Z"
   },
   {
    "duration": 17,
    "start_time": "2021-12-28T10:23:21.871Z"
   },
   {
    "duration": 38,
    "start_time": "2021-12-28T10:23:21.890Z"
   },
   {
    "duration": 17,
    "start_time": "2021-12-28T10:23:21.931Z"
   },
   {
    "duration": 11,
    "start_time": "2021-12-28T10:23:21.949Z"
   },
   {
    "duration": 9,
    "start_time": "2021-12-28T10:23:21.961Z"
   },
   {
    "duration": 8,
    "start_time": "2021-12-28T10:23:21.972Z"
   },
   {
    "duration": 7,
    "start_time": "2021-12-28T10:23:24.866Z"
   },
   {
    "duration": 23,
    "start_time": "2021-12-28T10:24:43.200Z"
   },
   {
    "duration": 7676,
    "start_time": "2021-12-28T10:26:11.770Z"
   },
   {
    "duration": 9,
    "start_time": "2021-12-28T10:26:50.155Z"
   },
   {
    "duration": 343,
    "start_time": "2021-12-28T10:34:03.586Z"
   },
   {
    "duration": 4,
    "start_time": "2021-12-28T10:34:40.158Z"
   },
   {
    "duration": 4,
    "start_time": "2021-12-28T10:34:40.195Z"
   },
   {
    "duration": 8,
    "start_time": "2021-12-28T10:36:03.738Z"
   },
   {
    "duration": 2,
    "start_time": "2021-12-28T10:37:31.392Z"
   },
   {
    "duration": 38,
    "start_time": "2021-12-28T10:37:31.396Z"
   },
   {
    "duration": 15,
    "start_time": "2021-12-28T10:37:31.436Z"
   },
   {
    "duration": 84,
    "start_time": "2021-12-28T10:37:31.453Z"
   },
   {
    "duration": 119,
    "start_time": "2021-12-28T10:37:31.539Z"
   },
   {
    "duration": 143,
    "start_time": "2021-12-28T10:37:31.660Z"
   },
   {
    "duration": 9,
    "start_time": "2021-12-28T10:37:31.805Z"
   },
   {
    "duration": 13,
    "start_time": "2021-12-28T10:37:31.816Z"
   },
   {
    "duration": 12,
    "start_time": "2021-12-28T10:37:31.832Z"
   },
   {
    "duration": 14,
    "start_time": "2021-12-28T10:37:31.846Z"
   },
   {
    "duration": 10,
    "start_time": "2021-12-28T10:37:31.862Z"
   },
   {
    "duration": 13,
    "start_time": "2021-12-28T10:37:31.874Z"
   },
   {
    "duration": 40,
    "start_time": "2021-12-28T10:37:31.889Z"
   },
   {
    "duration": 26,
    "start_time": "2021-12-28T10:37:31.931Z"
   },
   {
    "duration": 12,
    "start_time": "2021-12-28T10:37:31.959Z"
   },
   {
    "duration": 18,
    "start_time": "2021-12-28T10:37:31.973Z"
   },
   {
    "duration": 39,
    "start_time": "2021-12-28T10:37:31.993Z"
   },
   {
    "duration": 8,
    "start_time": "2021-12-28T10:37:32.034Z"
   },
   {
    "duration": 8,
    "start_time": "2021-12-28T10:37:32.044Z"
   },
   {
    "duration": 18,
    "start_time": "2021-12-28T10:37:32.054Z"
   },
   {
    "duration": 10,
    "start_time": "2021-12-28T10:37:32.074Z"
   },
   {
    "duration": 60,
    "start_time": "2021-12-28T10:37:32.085Z"
   },
   {
    "duration": 15,
    "start_time": "2021-12-28T10:37:32.148Z"
   },
   {
    "duration": 20,
    "start_time": "2021-12-28T10:37:32.165Z"
   },
   {
    "duration": 45,
    "start_time": "2021-12-28T10:37:32.186Z"
   },
   {
    "duration": 9,
    "start_time": "2021-12-28T10:37:32.233Z"
   },
   {
    "duration": 28,
    "start_time": "2021-12-28T10:37:32.244Z"
   },
   {
    "duration": 4,
    "start_time": "2021-12-28T10:37:32.274Z"
   },
   {
    "duration": 4,
    "start_time": "2021-12-28T10:37:32.280Z"
   },
   {
    "duration": 6,
    "start_time": "2021-12-28T10:37:32.286Z"
   },
   {
    "duration": 38,
    "start_time": "2021-12-28T10:37:32.293Z"
   },
   {
    "duration": 11,
    "start_time": "2021-12-28T10:37:32.333Z"
   },
   {
    "duration": 9,
    "start_time": "2021-12-28T10:37:34.517Z"
   },
   {
    "duration": 9,
    "start_time": "2021-12-28T10:40:08.531Z"
   },
   {
    "duration": 105,
    "start_time": "2021-12-28T10:45:13.211Z"
   },
   {
    "duration": 11,
    "start_time": "2021-12-28T10:46:21.160Z"
   },
   {
    "duration": 11,
    "start_time": "2021-12-28T10:46:38.673Z"
   },
   {
    "duration": 7,
    "start_time": "2021-12-28T10:53:50.907Z"
   },
   {
    "duration": 11,
    "start_time": "2021-12-28T10:55:10.803Z"
   },
   {
    "duration": 122,
    "start_time": "2021-12-28T10:55:26.531Z"
   },
   {
    "duration": 12,
    "start_time": "2021-12-28T10:55:30.917Z"
   },
   {
    "duration": 9,
    "start_time": "2021-12-28T10:55:30.947Z"
   },
   {
    "duration": 14,
    "start_time": "2021-12-28T10:57:27.053Z"
   },
   {
    "duration": 326,
    "start_time": "2021-12-28T11:05:40.914Z"
   },
   {
    "duration": 21,
    "start_time": "2021-12-28T11:05:55.156Z"
   },
   {
    "duration": 17,
    "start_time": "2021-12-28T11:06:06.080Z"
   },
   {
    "duration": 46,
    "start_time": "2021-12-28T11:12:33.965Z"
   },
   {
    "duration": 13,
    "start_time": "2021-12-28T11:12:34.012Z"
   },
   {
    "duration": 25,
    "start_time": "2021-12-28T11:12:51.657Z"
   },
   {
    "duration": 12,
    "start_time": "2021-12-28T11:12:51.700Z"
   },
   {
    "duration": 42,
    "start_time": "2021-12-28T11:15:56.469Z"
   },
   {
    "duration": 365,
    "start_time": "2021-12-28T11:43:46.240Z"
   },
   {
    "duration": 323,
    "start_time": "2021-12-28T11:43:46.950Z"
   },
   {
    "duration": 397,
    "start_time": "2021-12-28T11:44:45.026Z"
   },
   {
    "duration": 368,
    "start_time": "2021-12-28T11:45:10.010Z"
   },
   {
    "duration": 16,
    "start_time": "2021-12-28T12:00:31.694Z"
   },
   {
    "duration": 302,
    "start_time": "2021-12-28T12:01:25.594Z"
   },
   {
    "duration": 323,
    "start_time": "2021-12-28T12:01:47.552Z"
   },
   {
    "duration": 23,
    "start_time": "2021-12-28T12:12:30.165Z"
   },
   {
    "duration": 15,
    "start_time": "2021-12-28T12:13:19.211Z"
   },
   {
    "duration": 13,
    "start_time": "2021-12-28T12:13:27.100Z"
   },
   {
    "duration": 8,
    "start_time": "2021-12-28T12:13:27.943Z"
   },
   {
    "duration": 13,
    "start_time": "2021-12-28T12:14:10.951Z"
   },
   {
    "duration": 8,
    "start_time": "2021-12-28T12:14:10.982Z"
   },
   {
    "duration": 2,
    "start_time": "2021-12-28T12:14:20.907Z"
   },
   {
    "duration": 37,
    "start_time": "2021-12-28T12:14:20.911Z"
   },
   {
    "duration": 14,
    "start_time": "2021-12-28T12:14:20.950Z"
   },
   {
    "duration": 77,
    "start_time": "2021-12-28T12:14:20.966Z"
   },
   {
    "duration": 109,
    "start_time": "2021-12-28T12:14:21.045Z"
   },
   {
    "duration": 131,
    "start_time": "2021-12-28T12:14:21.156Z"
   },
   {
    "duration": 9,
    "start_time": "2021-12-28T12:14:21.288Z"
   },
   {
    "duration": 9,
    "start_time": "2021-12-28T12:14:21.298Z"
   },
   {
    "duration": 19,
    "start_time": "2021-12-28T12:14:21.310Z"
   },
   {
    "duration": 6,
    "start_time": "2021-12-28T12:14:21.330Z"
   },
   {
    "duration": 9,
    "start_time": "2021-12-28T12:14:21.338Z"
   },
   {
    "duration": 13,
    "start_time": "2021-12-28T12:14:21.349Z"
   },
   {
    "duration": 13,
    "start_time": "2021-12-28T12:14:21.363Z"
   },
   {
    "duration": 52,
    "start_time": "2021-12-28T12:14:21.377Z"
   },
   {
    "duration": 13,
    "start_time": "2021-12-28T12:14:21.432Z"
   },
   {
    "duration": 21,
    "start_time": "2021-12-28T12:14:21.447Z"
   },
   {
    "duration": 5,
    "start_time": "2021-12-28T12:14:21.470Z"
   },
   {
    "duration": 6,
    "start_time": "2021-12-28T12:14:21.476Z"
   },
   {
    "duration": 45,
    "start_time": "2021-12-28T12:14:21.483Z"
   },
   {
    "duration": 17,
    "start_time": "2021-12-28T12:14:21.529Z"
   },
   {
    "duration": 10,
    "start_time": "2021-12-28T12:14:21.548Z"
   },
   {
    "duration": 25,
    "start_time": "2021-12-28T12:14:21.560Z"
   },
   {
    "duration": 40,
    "start_time": "2021-12-28T12:14:21.587Z"
   },
   {
    "duration": 19,
    "start_time": "2021-12-28T12:14:21.629Z"
   },
   {
    "duration": 11,
    "start_time": "2021-12-28T12:14:21.649Z"
   },
   {
    "duration": 10,
    "start_time": "2021-12-28T12:14:21.662Z"
   },
   {
    "duration": 6,
    "start_time": "2021-12-28T12:14:21.675Z"
   },
   {
    "duration": 48,
    "start_time": "2021-12-28T12:14:21.682Z"
   },
   {
    "duration": 4,
    "start_time": "2021-12-28T12:14:21.732Z"
   },
   {
    "duration": 8,
    "start_time": "2021-12-28T12:14:21.738Z"
   },
   {
    "duration": 13,
    "start_time": "2021-12-28T12:14:21.748Z"
   },
   {
    "duration": 8,
    "start_time": "2021-12-28T12:14:21.763Z"
   },
   {
    "duration": 13,
    "start_time": "2021-12-28T12:14:21.773Z"
   },
   {
    "duration": 9,
    "start_time": "2021-12-28T12:14:21.828Z"
   },
   {
    "duration": 13,
    "start_time": "2021-12-28T12:14:21.839Z"
   },
   {
    "duration": 22,
    "start_time": "2021-12-28T12:14:21.854Z"
   },
   {
    "duration": 20,
    "start_time": "2021-12-28T12:14:25.555Z"
   },
   {
    "duration": 3,
    "start_time": "2021-12-28T12:14:26.726Z"
   },
   {
    "duration": 19,
    "start_time": "2021-12-28T12:14:27.793Z"
   },
   {
    "duration": 8,
    "start_time": "2021-12-28T12:14:27.825Z"
   },
   {
    "duration": 8,
    "start_time": "2021-12-28T12:14:46.828Z"
   },
   {
    "duration": 1273,
    "start_time": "2021-12-28T12:23:39.945Z"
   },
   {
    "duration": -187,
    "start_time": "2021-12-28T12:23:41.407Z"
   },
   {
    "duration": 317,
    "start_time": "2021-12-28T12:29:40.160Z"
   },
   {
    "duration": 6658,
    "start_time": "2021-12-28T12:29:48.830Z"
   },
   {
    "duration": -190,
    "start_time": "2021-12-28T12:29:55.680Z"
   },
   {
    "duration": -191,
    "start_time": "2021-12-28T12:29:55.682Z"
   },
   {
    "duration": -192,
    "start_time": "2021-12-28T12:29:55.684Z"
   },
   {
    "duration": 342,
    "start_time": "2021-12-28T12:30:31.514Z"
   },
   {
    "duration": 318,
    "start_time": "2021-12-28T12:30:44.458Z"
   },
   {
    "duration": 14,
    "start_time": "2021-12-28T12:30:52.585Z"
   },
   {
    "duration": 1450,
    "start_time": "2021-12-28T12:30:52.629Z"
   },
   {
    "duration": 3,
    "start_time": "2021-12-28T12:31:06.130Z"
   },
   {
    "duration": 8,
    "start_time": "2021-12-28T12:31:07.369Z"
   },
   {
    "duration": 16,
    "start_time": "2021-12-28T12:38:56.315Z"
   },
   {
    "duration": 3,
    "start_time": "2021-12-28T12:38:57.697Z"
   },
   {
    "duration": 8,
    "start_time": "2021-12-28T12:38:58.449Z"
   },
   {
    "duration": 106,
    "start_time": "2021-12-28T12:46:08.554Z"
   },
   {
    "duration": -199,
    "start_time": "2021-12-28T12:46:08.861Z"
   },
   {
    "duration": 304,
    "start_time": "2021-12-28T13:17:58.208Z"
   },
   {
    "duration": -212,
    "start_time": "2021-12-28T13:17:58.726Z"
   },
   {
    "duration": 5,
    "start_time": "2021-12-28T13:18:11.107Z"
   },
   {
    "duration": 17,
    "start_time": "2021-12-28T13:18:43.403Z"
   },
   {
    "duration": 106,
    "start_time": "2021-12-28T13:23:13.789Z"
   },
   {
    "duration": 316,
    "start_time": "2021-12-28T13:23:20.897Z"
   },
   {
    "duration": -194,
    "start_time": "2021-12-28T13:23:21.409Z"
   },
   {
    "duration": 400,
    "start_time": "2021-12-28T13:23:53.570Z"
   },
   {
    "duration": 306,
    "start_time": "2021-12-28T13:28:37.732Z"
   },
   {
    "duration": -197,
    "start_time": "2021-12-28T13:28:38.236Z"
   },
   {
    "duration": 5,
    "start_time": "2021-12-28T13:28:59.560Z"
   },
   {
    "duration": 308,
    "start_time": "2021-12-28T13:31:26.703Z"
   },
   {
    "duration": 11,
    "start_time": "2021-12-28T13:33:35.865Z"
   },
   {
    "duration": 9,
    "start_time": "2021-12-28T13:35:35.265Z"
   },
   {
    "duration": 11,
    "start_time": "2021-12-28T13:35:35.276Z"
   },
   {
    "duration": 7,
    "start_time": "2021-12-28T13:36:10.734Z"
   },
   {
    "duration": 10,
    "start_time": "2021-12-28T13:36:18.376Z"
   },
   {
    "duration": 7,
    "start_time": "2021-12-28T13:36:31.753Z"
   },
   {
    "duration": 10,
    "start_time": "2021-12-28T13:36:46.183Z"
   },
   {
    "duration": 24,
    "start_time": "2021-12-28T13:36:59.457Z"
   },
   {
    "duration": 13,
    "start_time": "2021-12-28T13:36:59.503Z"
   },
   {
    "duration": 103,
    "start_time": "2021-12-28T13:38:34.798Z"
   },
   {
    "duration": 330,
    "start_time": "2021-12-28T13:39:21.612Z"
   },
   {
    "duration": 227,
    "start_time": "2021-12-28T19:51:56.198Z"
   },
   {
    "duration": 65,
    "start_time": "2021-12-28T19:56:06.472Z"
   },
   {
    "duration": 337,
    "start_time": "2021-12-28T19:56:22.384Z"
   },
   {
    "duration": 4,
    "start_time": "2021-12-28T19:56:22.722Z"
   },
   {
    "duration": 35,
    "start_time": "2021-12-28T19:56:22.730Z"
   },
   {
    "duration": 15,
    "start_time": "2021-12-28T19:56:22.767Z"
   },
   {
    "duration": 89,
    "start_time": "2021-12-28T19:56:22.784Z"
   },
   {
    "duration": 126,
    "start_time": "2021-12-28T19:56:22.874Z"
   },
   {
    "duration": 146,
    "start_time": "2021-12-28T19:56:23.001Z"
   },
   {
    "duration": 15,
    "start_time": "2021-12-28T19:56:23.149Z"
   },
   {
    "duration": 8,
    "start_time": "2021-12-28T19:56:23.167Z"
   },
   {
    "duration": 20,
    "start_time": "2021-12-28T19:56:23.177Z"
   },
   {
    "duration": 6,
    "start_time": "2021-12-28T19:56:23.199Z"
   },
   {
    "duration": 10,
    "start_time": "2021-12-28T19:56:23.207Z"
   },
   {
    "duration": 13,
    "start_time": "2021-12-28T19:56:23.219Z"
   },
   {
    "duration": 11,
    "start_time": "2021-12-28T19:56:23.233Z"
   },
   {
    "duration": 50,
    "start_time": "2021-12-28T19:56:23.246Z"
   },
   {
    "duration": 12,
    "start_time": "2021-12-28T19:56:23.298Z"
   },
   {
    "duration": 20,
    "start_time": "2021-12-28T19:56:23.312Z"
   },
   {
    "duration": 4,
    "start_time": "2021-12-28T19:56:23.333Z"
   },
   {
    "duration": 6,
    "start_time": "2021-12-28T19:56:23.339Z"
   },
   {
    "duration": 8,
    "start_time": "2021-12-28T19:56:23.346Z"
   },
   {
    "duration": 51,
    "start_time": "2021-12-28T19:56:23.355Z"
   },
   {
    "duration": 9,
    "start_time": "2021-12-28T19:56:23.408Z"
   },
   {
    "duration": 31,
    "start_time": "2021-12-28T19:56:23.419Z"
   },
   {
    "duration": 15,
    "start_time": "2021-12-28T19:56:23.451Z"
   },
   {
    "duration": 44,
    "start_time": "2021-12-28T19:56:23.467Z"
   },
   {
    "duration": 12,
    "start_time": "2021-12-28T19:56:23.513Z"
   },
   {
    "duration": 15,
    "start_time": "2021-12-28T19:56:23.528Z"
   },
   {
    "duration": 10,
    "start_time": "2021-12-28T19:56:23.545Z"
   },
   {
    "duration": 36,
    "start_time": "2021-12-28T19:56:23.556Z"
   },
   {
    "duration": 4,
    "start_time": "2021-12-28T19:56:23.594Z"
   },
   {
    "duration": 8,
    "start_time": "2021-12-28T19:56:23.600Z"
   },
   {
    "duration": 11,
    "start_time": "2021-12-28T19:56:23.610Z"
   },
   {
    "duration": 6,
    "start_time": "2021-12-28T19:56:23.623Z"
   },
   {
    "duration": 17,
    "start_time": "2021-12-28T19:56:23.631Z"
   },
   {
    "duration": 42,
    "start_time": "2021-12-28T19:56:23.649Z"
   },
   {
    "duration": 14,
    "start_time": "2021-12-28T19:56:23.693Z"
   },
   {
    "duration": 25,
    "start_time": "2021-12-28T19:56:23.708Z"
   },
   {
    "duration": 1197,
    "start_time": "2021-12-28T19:56:34.060Z"
   },
   {
    "duration": 20,
    "start_time": "2021-12-28T19:57:35.975Z"
   },
   {
    "duration": 20,
    "start_time": "2021-12-28T19:57:48.134Z"
   },
   {
    "duration": 12,
    "start_time": "2021-12-28T19:58:22.540Z"
   },
   {
    "duration": 7,
    "start_time": "2021-12-28T20:00:21.115Z"
   },
   {
    "duration": 5,
    "start_time": "2021-12-28T20:01:23.619Z"
   },
   {
    "duration": 15,
    "start_time": "2021-12-28T20:01:40.997Z"
   },
   {
    "duration": 23,
    "start_time": "2021-12-28T20:09:20.577Z"
   },
   {
    "duration": 6,
    "start_time": "2021-12-28T20:09:20.639Z"
   },
   {
    "duration": 16,
    "start_time": "2021-12-28T20:09:25.228Z"
   },
   {
    "duration": 21,
    "start_time": "2021-12-28T20:09:33.603Z"
   },
   {
    "duration": 5,
    "start_time": "2021-12-28T20:09:33.660Z"
   },
   {
    "duration": 16,
    "start_time": "2021-12-28T20:09:37.185Z"
   },
   {
    "duration": 8,
    "start_time": "2021-12-28T20:09:37.203Z"
   },
   {
    "duration": 463,
    "start_time": "2021-12-28T20:10:16.720Z"
   },
   {
    "duration": 21,
    "start_time": "2021-12-28T20:10:25.784Z"
   },
   {
    "duration": 21,
    "start_time": "2021-12-28T20:19:09.122Z"
   },
   {
    "duration": 5,
    "start_time": "2021-12-28T20:19:10.049Z"
   },
   {
    "duration": 16,
    "start_time": "2021-12-28T20:19:10.801Z"
   },
   {
    "duration": 3,
    "start_time": "2021-12-28T20:19:10.865Z"
   },
   {
    "duration": 16,
    "start_time": "2021-12-28T20:19:40.617Z"
   },
   {
    "duration": 4,
    "start_time": "2021-12-28T20:20:27.206Z"
   },
   {
    "duration": 18,
    "start_time": "2021-12-28T20:20:27.253Z"
   },
   {
    "duration": 16,
    "start_time": "2021-12-28T20:20:27.385Z"
   },
   {
    "duration": 16,
    "start_time": "2021-12-28T20:20:37.569Z"
   },
   {
    "duration": 15,
    "start_time": "2021-12-28T20:20:42.776Z"
   },
   {
    "duration": 15,
    "start_time": "2021-12-28T20:20:47.104Z"
   },
   {
    "duration": 3,
    "start_time": "2021-12-28T20:20:47.135Z"
   },
   {
    "duration": 3,
    "start_time": "2021-12-28T20:21:55.236Z"
   },
   {
    "duration": 16,
    "start_time": "2021-12-28T20:21:55.269Z"
   },
   {
    "duration": 3,
    "start_time": "2021-12-28T20:21:56.322Z"
   },
   {
    "duration": 64,
    "start_time": "2021-12-28T20:21:56.372Z"
   },
   {
    "duration": 9,
    "start_time": "2021-12-28T20:21:58.604Z"
   },
   {
    "duration": 16,
    "start_time": "2021-12-28T20:24:50.122Z"
   },
   {
    "duration": 9,
    "start_time": "2021-12-28T20:25:25.829Z"
   },
   {
    "duration": 20,
    "start_time": "2021-12-28T20:28:01.665Z"
   },
   {
    "duration": 7,
    "start_time": "2021-12-28T20:28:15.190Z"
   },
   {
    "duration": 676,
    "start_time": "2021-12-28T20:30:11.821Z"
   },
   {
    "duration": -10,
    "start_time": "2021-12-28T20:30:12.510Z"
   },
   {
    "duration": 3,
    "start_time": "2021-12-28T20:30:35.737Z"
   },
   {
    "duration": 7,
    "start_time": "2021-12-28T20:30:35.785Z"
   },
   {
    "duration": 7,
    "start_time": "2021-12-28T20:30:54.280Z"
   },
   {
    "duration": 9,
    "start_time": "2021-12-28T20:31:13.305Z"
   },
   {
    "duration": 3,
    "start_time": "2021-12-28T20:31:51.443Z"
   },
   {
    "duration": 8,
    "start_time": "2021-12-28T20:31:51.949Z"
   },
   {
    "duration": 14,
    "start_time": "2021-12-28T20:31:55.629Z"
   },
   {
    "duration": 15,
    "start_time": "2021-12-28T20:31:56.169Z"
   },
   {
    "duration": 3,
    "start_time": "2021-12-28T20:31:57.467Z"
   },
   {
    "duration": 7,
    "start_time": "2021-12-28T20:31:58.027Z"
   },
   {
    "duration": 9,
    "start_time": "2021-12-28T20:32:09.599Z"
   },
   {
    "duration": 13,
    "start_time": "2021-12-28T20:35:05.366Z"
   },
   {
    "duration": 18,
    "start_time": "2021-12-28T20:35:25.288Z"
   },
   {
    "duration": 17,
    "start_time": "2021-12-28T20:38:27.008Z"
   },
   {
    "duration": 9,
    "start_time": "2021-12-28T20:38:27.802Z"
   },
   {
    "duration": 12,
    "start_time": "2021-12-28T20:38:46.766Z"
   },
   {
    "duration": 11,
    "start_time": "2021-12-28T20:38:47.390Z"
   },
   {
    "duration": 3,
    "start_time": "2021-12-28T20:40:54.981Z"
   },
   {
    "duration": 8,
    "start_time": "2021-12-28T20:40:55.447Z"
   },
   {
    "duration": 17,
    "start_time": "2021-12-28T20:40:58.276Z"
   },
   {
    "duration": 14,
    "start_time": "2021-12-28T20:40:58.804Z"
   },
   {
    "duration": 3,
    "start_time": "2021-12-28T20:40:59.350Z"
   },
   {
    "duration": 57,
    "start_time": "2021-12-28T20:41:00.302Z"
   },
   {
    "duration": 4580,
    "start_time": "2021-12-28T20:44:11.025Z"
   },
   {
    "duration": -16,
    "start_time": "2021-12-28T20:44:15.623Z"
   },
   {
    "duration": 3,
    "start_time": "2021-12-28T20:44:36.032Z"
   },
   {
    "duration": 4650,
    "start_time": "2021-12-28T20:44:36.753Z"
   },
   {
    "duration": -13,
    "start_time": "2021-12-28T20:44:41.418Z"
   },
   {
    "duration": 18,
    "start_time": "2021-12-28T20:44:45.672Z"
   },
   {
    "duration": 11,
    "start_time": "2021-12-28T20:44:46.152Z"
   },
   {
    "duration": 2,
    "start_time": "2021-12-28T20:44:46.658Z"
   },
   {
    "duration": 5067,
    "start_time": "2021-12-28T20:44:47.957Z"
   },
   {
    "duration": 4308,
    "start_time": "2021-12-28T20:45:10.764Z"
   },
   {
    "duration": 3,
    "start_time": "2021-12-28T20:45:53.183Z"
   },
   {
    "duration": 5,
    "start_time": "2021-12-28T20:45:53.232Z"
   },
   {
    "duration": 10,
    "start_time": "2021-12-28T20:45:54.695Z"
   },
   {
    "duration": 12,
    "start_time": "2021-12-28T20:46:08.496Z"
   },
   {
    "duration": 8,
    "start_time": "2021-12-28T20:46:55.694Z"
   },
   {
    "duration": 10,
    "start_time": "2021-12-28T20:46:56.138Z"
   },
   {
    "duration": 4,
    "start_time": "2021-12-28T20:47:40.856Z"
   },
   {
    "duration": 9,
    "start_time": "2021-12-28T20:47:43.228Z"
   },
   {
    "duration": 18,
    "start_time": "2021-12-28T20:49:19.598Z"
   },
   {
    "duration": 13,
    "start_time": "2021-12-28T20:49:20.053Z"
   },
   {
    "duration": 3,
    "start_time": "2021-12-28T20:49:20.478Z"
   },
   {
    "duration": 4,
    "start_time": "2021-12-28T20:49:21.174Z"
   },
   {
    "duration": 10,
    "start_time": "2021-12-28T20:49:21.250Z"
   },
   {
    "duration": 4,
    "start_time": "2021-12-28T20:51:37.519Z"
   },
   {
    "duration": 8,
    "start_time": "2021-12-28T20:51:38.143Z"
   },
   {
    "duration": 20,
    "start_time": "2021-12-28T20:53:41.207Z"
   },
   {
    "duration": 17,
    "start_time": "2021-12-28T20:53:55.932Z"
   },
   {
    "duration": 3,
    "start_time": "2021-12-28T20:53:55.964Z"
   },
   {
    "duration": 9,
    "start_time": "2021-12-28T20:53:56.465Z"
   },
   {
    "duration": 3,
    "start_time": "2021-12-28T20:54:26.197Z"
   },
   {
    "duration": 7,
    "start_time": "2021-12-28T20:54:26.707Z"
   },
   {
    "duration": 18,
    "start_time": "2021-12-28T20:54:33.382Z"
   },
   {
    "duration": 12,
    "start_time": "2021-12-28T20:54:33.418Z"
   },
   {
    "duration": 3,
    "start_time": "2021-12-28T20:54:33.903Z"
   },
   {
    "duration": 5,
    "start_time": "2021-12-28T20:54:34.402Z"
   },
   {
    "duration": 8,
    "start_time": "2021-12-28T20:54:35.099Z"
   },
   {
    "duration": 7,
    "start_time": "2021-12-28T21:04:40.742Z"
   },
   {
    "duration": 19,
    "start_time": "2021-12-28T21:04:46.117Z"
   },
   {
    "duration": 8,
    "start_time": "2021-12-28T21:06:31.775Z"
   },
   {
    "duration": 60,
    "start_time": "2021-12-28T21:06:34.530Z"
   },
   {
    "duration": 20,
    "start_time": "2021-12-28T21:06:35.537Z"
   },
   {
    "duration": 7,
    "start_time": "2021-12-28T21:07:24.559Z"
   },
   {
    "duration": 19,
    "start_time": "2021-12-28T21:07:24.572Z"
   },
   {
    "duration": 31,
    "start_time": "2021-12-28T21:07:24.593Z"
   },
   {
    "duration": 750,
    "start_time": "2021-12-29T04:40:25.115Z"
   },
   {
    "duration": 4,
    "start_time": "2021-12-29T04:40:25.868Z"
   },
   {
    "duration": 35,
    "start_time": "2021-12-29T04:40:25.875Z"
   },
   {
    "duration": 19,
    "start_time": "2021-12-29T04:40:25.912Z"
   },
   {
    "duration": 128,
    "start_time": "2021-12-29T04:40:25.933Z"
   },
   {
    "duration": 184,
    "start_time": "2021-12-29T04:40:26.063Z"
   },
   {
    "duration": 208,
    "start_time": "2021-12-29T04:40:26.249Z"
   },
   {
    "duration": 25,
    "start_time": "2021-12-29T04:40:26.460Z"
   },
   {
    "duration": 9,
    "start_time": "2021-12-29T04:40:26.488Z"
   },
   {
    "duration": 11,
    "start_time": "2021-12-29T04:40:26.499Z"
   },
   {
    "duration": 11,
    "start_time": "2021-12-29T04:40:26.513Z"
   },
   {
    "duration": 19,
    "start_time": "2021-12-29T04:40:26.564Z"
   },
   {
    "duration": 31,
    "start_time": "2021-12-29T04:40:26.586Z"
   },
   {
    "duration": 52,
    "start_time": "2021-12-29T04:40:26.619Z"
   },
   {
    "duration": 26,
    "start_time": "2021-12-29T04:40:26.674Z"
   },
   {
    "duration": 20,
    "start_time": "2021-12-29T04:40:26.703Z"
   },
   {
    "duration": 58,
    "start_time": "2021-12-29T04:40:26.726Z"
   },
   {
    "duration": 7,
    "start_time": "2021-12-29T04:40:26.786Z"
   },
   {
    "duration": 8,
    "start_time": "2021-12-29T04:40:26.796Z"
   },
   {
    "duration": 11,
    "start_time": "2021-12-29T04:40:26.806Z"
   },
   {
    "duration": 28,
    "start_time": "2021-12-29T04:40:26.864Z"
   },
   {
    "duration": 17,
    "start_time": "2021-12-29T04:40:26.894Z"
   },
   {
    "duration": 76,
    "start_time": "2021-12-29T04:40:26.918Z"
   },
   {
    "duration": 23,
    "start_time": "2021-12-29T04:40:26.998Z"
   },
   {
    "duration": 58,
    "start_time": "2021-12-29T04:40:27.024Z"
   },
   {
    "duration": 20,
    "start_time": "2021-12-29T04:40:27.085Z"
   },
   {
    "duration": 25,
    "start_time": "2021-12-29T04:40:27.107Z"
   },
   {
    "duration": 36,
    "start_time": "2021-12-29T04:40:27.135Z"
   },
   {
    "duration": 37,
    "start_time": "2021-12-29T04:40:27.174Z"
   },
   {
    "duration": 7,
    "start_time": "2021-12-29T04:40:27.214Z"
   },
   {
    "duration": 42,
    "start_time": "2021-12-29T04:40:27.224Z"
   },
   {
    "duration": 22,
    "start_time": "2021-12-29T04:40:27.269Z"
   },
   {
    "duration": 9,
    "start_time": "2021-12-29T04:40:27.293Z"
   },
   {
    "duration": 17,
    "start_time": "2021-12-29T04:40:27.305Z"
   },
   {
    "duration": 13,
    "start_time": "2021-12-29T04:40:27.364Z"
   },
   {
    "duration": 19,
    "start_time": "2021-12-29T04:40:27.379Z"
   },
   {
    "duration": 32,
    "start_time": "2021-12-29T04:40:27.400Z"
   },
   {
    "duration": 38,
    "start_time": "2021-12-29T04:40:27.464Z"
   },
   {
    "duration": 6,
    "start_time": "2021-12-29T04:40:27.504Z"
   },
   {
    "duration": 5,
    "start_time": "2021-12-29T04:40:27.512Z"
   },
   {
    "duration": 53,
    "start_time": "2021-12-29T04:40:27.519Z"
   },
   {
    "duration": 31,
    "start_time": "2021-12-29T04:40:27.574Z"
   },
   {
    "duration": 4,
    "start_time": "2021-12-29T04:40:27.607Z"
   },
   {
    "duration": 12,
    "start_time": "2021-12-29T04:40:27.614Z"
   },
   {
    "duration": 49,
    "start_time": "2021-12-29T04:40:27.629Z"
   },
   {
    "duration": 25,
    "start_time": "2021-12-29T04:40:27.681Z"
   },
   {
    "duration": 3,
    "start_time": "2021-12-29T04:40:27.709Z"
   },
   {
    "duration": 12,
    "start_time": "2021-12-29T04:40:27.714Z"
   },
   {
    "duration": 57,
    "start_time": "2021-12-29T04:40:27.729Z"
   },
   {
    "duration": 27,
    "start_time": "2021-12-29T04:40:27.789Z"
   },
   {
    "duration": 3,
    "start_time": "2021-12-29T04:40:27.818Z"
   },
   {
    "duration": 13,
    "start_time": "2021-12-29T04:40:27.824Z"
   },
   {
    "duration": 11,
    "start_time": "2021-12-29T04:40:27.863Z"
   },
   {
    "duration": 10,
    "start_time": "2021-12-29T04:40:46.556Z"
   },
   {
    "duration": 31,
    "start_time": "2021-12-29T04:40:58.123Z"
   },
   {
    "duration": 15,
    "start_time": "2021-12-29T04:43:24.287Z"
   },
   {
    "duration": 382,
    "start_time": "2021-12-29T04:47:00.706Z"
   },
   {
    "duration": 281,
    "start_time": "2021-12-29T04:47:24.764Z"
   },
   {
    "duration": 15,
    "start_time": "2021-12-29T04:47:48.393Z"
   },
   {
    "duration": 35,
    "start_time": "2021-12-29T04:47:49.901Z"
   },
   {
    "duration": 36,
    "start_time": "2021-12-29T04:49:30.109Z"
   },
   {
    "duration": 4,
    "start_time": "2021-12-29T04:49:42.766Z"
   },
   {
    "duration": 8,
    "start_time": "2021-12-29T04:49:42.773Z"
   },
   {
    "duration": 36,
    "start_time": "2021-12-29T04:49:42.785Z"
   },
   {
    "duration": 19,
    "start_time": "2021-12-29T04:49:42.824Z"
   },
   {
    "duration": 130,
    "start_time": "2021-12-29T04:49:42.862Z"
   },
   {
    "duration": 182,
    "start_time": "2021-12-29T04:49:42.995Z"
   },
   {
    "duration": 205,
    "start_time": "2021-12-29T04:49:43.180Z"
   },
   {
    "duration": 17,
    "start_time": "2021-12-29T04:49:43.388Z"
   },
   {
    "duration": 9,
    "start_time": "2021-12-29T04:49:43.412Z"
   },
   {
    "duration": 41,
    "start_time": "2021-12-29T04:49:43.424Z"
   },
   {
    "duration": 13,
    "start_time": "2021-12-29T04:49:43.467Z"
   },
   {
    "duration": 14,
    "start_time": "2021-12-29T04:49:43.483Z"
   },
   {
    "duration": 18,
    "start_time": "2021-12-29T04:49:43.500Z"
   },
   {
    "duration": 56,
    "start_time": "2021-12-29T04:49:43.521Z"
   },
   {
    "duration": 29,
    "start_time": "2021-12-29T04:49:43.580Z"
   },
   {
    "duration": 19,
    "start_time": "2021-12-29T04:49:43.612Z"
   },
   {
    "duration": 55,
    "start_time": "2021-12-29T04:49:43.634Z"
   },
   {
    "duration": 7,
    "start_time": "2021-12-29T04:49:43.692Z"
   },
   {
    "duration": 7,
    "start_time": "2021-12-29T04:49:43.702Z"
   },
   {
    "duration": 51,
    "start_time": "2021-12-29T04:49:43.712Z"
   },
   {
    "duration": 37,
    "start_time": "2021-12-29T04:49:43.766Z"
   },
   {
    "duration": 21,
    "start_time": "2021-12-29T04:49:43.806Z"
   },
   {
    "duration": 81,
    "start_time": "2021-12-29T04:49:43.829Z"
   },
   {
    "duration": 30,
    "start_time": "2021-12-29T04:49:43.913Z"
   },
   {
    "duration": 43,
    "start_time": "2021-12-29T04:49:43.962Z"
   },
   {
    "duration": 24,
    "start_time": "2021-12-29T04:49:44.008Z"
   },
   {
    "duration": 45,
    "start_time": "2021-12-29T04:49:44.040Z"
   },
   {
    "duration": 12,
    "start_time": "2021-12-29T04:49:44.090Z"
   },
   {
    "duration": 68,
    "start_time": "2021-12-29T04:49:44.105Z"
   },
   {
    "duration": 8,
    "start_time": "2021-12-29T04:49:44.176Z"
   },
   {
    "duration": 9,
    "start_time": "2021-12-29T04:49:44.187Z"
   },
   {
    "duration": 16,
    "start_time": "2021-12-29T04:49:44.198Z"
   },
   {
    "duration": 50,
    "start_time": "2021-12-29T04:49:44.217Z"
   },
   {
    "duration": 18,
    "start_time": "2021-12-29T04:49:44.270Z"
   },
   {
    "duration": 16,
    "start_time": "2021-12-29T04:49:44.291Z"
   },
   {
    "duration": 56,
    "start_time": "2021-12-29T04:49:44.309Z"
   },
   {
    "duration": 33,
    "start_time": "2021-12-29T04:49:44.367Z"
   },
   {
    "duration": 35,
    "start_time": "2021-12-29T04:49:44.403Z"
   },
   {
    "duration": 27,
    "start_time": "2021-12-29T04:49:44.440Z"
   },
   {
    "duration": 5,
    "start_time": "2021-12-29T04:49:44.469Z"
   },
   {
    "duration": 25,
    "start_time": "2021-12-29T04:49:44.477Z"
   },
   {
    "duration": 63,
    "start_time": "2021-12-29T04:49:44.505Z"
   },
   {
    "duration": 3,
    "start_time": "2021-12-29T04:49:44.570Z"
   },
   {
    "duration": 13,
    "start_time": "2021-12-29T04:49:44.576Z"
   },
   {
    "duration": 21,
    "start_time": "2021-12-29T04:49:44.592Z"
   },
   {
    "duration": 62,
    "start_time": "2021-12-29T04:49:44.615Z"
   },
   {
    "duration": 3,
    "start_time": "2021-12-29T04:49:44.680Z"
   },
   {
    "duration": 12,
    "start_time": "2021-12-29T04:49:44.686Z"
   },
   {
    "duration": 24,
    "start_time": "2021-12-29T04:49:44.701Z"
   },
   {
    "duration": 46,
    "start_time": "2021-12-29T04:49:44.728Z"
   },
   {
    "duration": 4,
    "start_time": "2021-12-29T04:49:44.777Z"
   },
   {
    "duration": 7,
    "start_time": "2021-12-29T04:49:44.783Z"
   },
   {
    "duration": 12,
    "start_time": "2021-12-29T04:49:44.792Z"
   },
   {
    "duration": 11,
    "start_time": "2021-12-29T04:49:47.436Z"
   },
   {
    "duration": 46,
    "start_time": "2021-12-29T04:49:48.548Z"
   },
   {
    "duration": 13,
    "start_time": "2021-12-29T04:50:29.759Z"
   },
   {
    "duration": 334,
    "start_time": "2021-12-29T04:52:39.171Z"
   },
   {
    "duration": 29,
    "start_time": "2021-12-29T04:53:04.672Z"
   },
   {
    "duration": 28,
    "start_time": "2021-12-29T04:53:04.719Z"
   },
   {
    "duration": 291,
    "start_time": "2021-12-29T04:53:58.242Z"
   },
   {
    "duration": 10,
    "start_time": "2021-12-29T04:54:02.802Z"
   },
   {
    "duration": 3,
    "start_time": "2021-12-29T04:54:09.020Z"
   },
   {
    "duration": 6,
    "start_time": "2021-12-29T04:54:09.026Z"
   },
   {
    "duration": 33,
    "start_time": "2021-12-29T04:54:09.037Z"
   },
   {
    "duration": 18,
    "start_time": "2021-12-29T04:54:09.073Z"
   },
   {
    "duration": 126,
    "start_time": "2021-12-29T04:54:09.094Z"
   },
   {
    "duration": 179,
    "start_time": "2021-12-29T04:54:09.222Z"
   },
   {
    "duration": 207,
    "start_time": "2021-12-29T04:54:09.403Z"
   },
   {
    "duration": 15,
    "start_time": "2021-12-29T04:54:09.612Z"
   },
   {
    "duration": 9,
    "start_time": "2021-12-29T04:54:09.631Z"
   },
   {
    "duration": 12,
    "start_time": "2021-12-29T04:54:09.666Z"
   },
   {
    "duration": 16,
    "start_time": "2021-12-29T04:54:09.680Z"
   },
   {
    "duration": 18,
    "start_time": "2021-12-29T04:54:09.698Z"
   },
   {
    "duration": 48,
    "start_time": "2021-12-29T04:54:09.719Z"
   },
   {
    "duration": 19,
    "start_time": "2021-12-29T04:54:09.770Z"
   },
   {
    "duration": 27,
    "start_time": "2021-12-29T04:54:09.792Z"
   },
   {
    "duration": 58,
    "start_time": "2021-12-29T04:54:09.822Z"
   },
   {
    "duration": 27,
    "start_time": "2021-12-29T04:54:09.883Z"
   },
   {
    "duration": 7,
    "start_time": "2021-12-29T04:54:09.912Z"
   },
   {
    "duration": 42,
    "start_time": "2021-12-29T04:54:09.921Z"
   },
   {
    "duration": 14,
    "start_time": "2021-12-29T04:54:09.966Z"
   },
   {
    "duration": 29,
    "start_time": "2021-12-29T04:54:09.982Z"
   },
   {
    "duration": 16,
    "start_time": "2021-12-29T04:54:10.013Z"
   },
   {
    "duration": 70,
    "start_time": "2021-12-29T04:54:10.032Z"
   },
   {
    "duration": 23,
    "start_time": "2021-12-29T04:54:10.104Z"
   },
   {
    "duration": 62,
    "start_time": "2021-12-29T04:54:10.129Z"
   },
   {
    "duration": 20,
    "start_time": "2021-12-29T04:54:10.193Z"
   },
   {
    "duration": 49,
    "start_time": "2021-12-29T04:54:10.221Z"
   },
   {
    "duration": 13,
    "start_time": "2021-12-29T04:54:10.273Z"
   },
   {
    "duration": 29,
    "start_time": "2021-12-29T04:54:10.288Z"
   },
   {
    "duration": 44,
    "start_time": "2021-12-29T04:54:10.319Z"
   },
   {
    "duration": 8,
    "start_time": "2021-12-29T04:54:10.366Z"
   },
   {
    "duration": 15,
    "start_time": "2021-12-29T04:54:10.377Z"
   },
   {
    "duration": 9,
    "start_time": "2021-12-29T04:54:10.395Z"
   },
   {
    "duration": 64,
    "start_time": "2021-12-29T04:54:10.407Z"
   },
   {
    "duration": 15,
    "start_time": "2021-12-29T04:54:10.473Z"
   },
   {
    "duration": 21,
    "start_time": "2021-12-29T04:54:10.490Z"
   },
   {
    "duration": 64,
    "start_time": "2021-12-29T04:54:10.514Z"
   },
   {
    "duration": 35,
    "start_time": "2021-12-29T04:54:10.581Z"
   },
   {
    "duration": 6,
    "start_time": "2021-12-29T04:54:10.618Z"
   },
   {
    "duration": 36,
    "start_time": "2021-12-29T04:54:10.627Z"
   },
   {
    "duration": 33,
    "start_time": "2021-12-29T04:54:10.666Z"
   },
   {
    "duration": 32,
    "start_time": "2021-12-29T04:54:10.702Z"
   },
   {
    "duration": 27,
    "start_time": "2021-12-29T04:54:10.737Z"
   },
   {
    "duration": 17,
    "start_time": "2021-12-29T04:54:10.767Z"
   },
   {
    "duration": 26,
    "start_time": "2021-12-29T04:54:10.787Z"
   },
   {
    "duration": 63,
    "start_time": "2021-12-29T04:54:10.816Z"
   },
   {
    "duration": 5,
    "start_time": "2021-12-29T04:54:10.883Z"
   },
   {
    "duration": 16,
    "start_time": "2021-12-29T04:54:10.890Z"
   },
   {
    "duration": 54,
    "start_time": "2021-12-29T04:54:10.909Z"
   },
   {
    "duration": 25,
    "start_time": "2021-12-29T04:54:10.966Z"
   },
   {
    "duration": 3,
    "start_time": "2021-12-29T04:54:10.994Z"
   },
   {
    "duration": 9,
    "start_time": "2021-12-29T04:54:10.999Z"
   },
   {
    "duration": 19,
    "start_time": "2021-12-29T04:54:11.010Z"
   },
   {
    "duration": 10,
    "start_time": "2021-12-29T04:54:13.186Z"
   },
   {
    "duration": 12,
    "start_time": "2021-12-29T04:54:13.738Z"
   },
   {
    "duration": 4,
    "start_time": "2021-12-29T04:55:02.430Z"
   },
   {
    "duration": 6,
    "start_time": "2021-12-29T04:55:02.436Z"
   },
   {
    "duration": 45,
    "start_time": "2021-12-29T04:55:02.445Z"
   },
   {
    "duration": 19,
    "start_time": "2021-12-29T04:55:02.493Z"
   },
   {
    "duration": 113,
    "start_time": "2021-12-29T04:55:02.514Z"
   },
   {
    "duration": 170,
    "start_time": "2021-12-29T04:55:02.629Z"
   },
   {
    "duration": 199,
    "start_time": "2021-12-29T04:55:02.802Z"
   },
   {
    "duration": 15,
    "start_time": "2021-12-29T04:55:03.004Z"
   },
   {
    "duration": 9,
    "start_time": "2021-12-29T04:55:03.023Z"
   },
   {
    "duration": 33,
    "start_time": "2021-12-29T04:55:03.035Z"
   },
   {
    "duration": 12,
    "start_time": "2021-12-29T04:55:03.070Z"
   },
   {
    "duration": 15,
    "start_time": "2021-12-29T04:55:03.084Z"
   },
   {
    "duration": 19,
    "start_time": "2021-12-29T04:55:03.101Z"
   },
   {
    "duration": 55,
    "start_time": "2021-12-29T04:55:03.122Z"
   },
   {
    "duration": 22,
    "start_time": "2021-12-29T04:55:03.180Z"
   },
   {
    "duration": 17,
    "start_time": "2021-12-29T04:55:03.204Z"
   },
   {
    "duration": 65,
    "start_time": "2021-12-29T04:55:03.224Z"
   },
   {
    "duration": 6,
    "start_time": "2021-12-29T04:55:03.291Z"
   },
   {
    "duration": 7,
    "start_time": "2021-12-29T04:55:03.300Z"
   },
   {
    "duration": 11,
    "start_time": "2021-12-29T04:55:03.310Z"
   },
   {
    "duration": 25,
    "start_time": "2021-12-29T04:55:03.364Z"
   },
   {
    "duration": 15,
    "start_time": "2021-12-29T04:55:03.391Z"
   },
   {
    "duration": 70,
    "start_time": "2021-12-29T04:55:03.409Z"
   },
   {
    "duration": 22,
    "start_time": "2021-12-29T04:55:03.481Z"
   },
   {
    "duration": 57,
    "start_time": "2021-12-29T04:55:03.506Z"
   },
   {
    "duration": 18,
    "start_time": "2021-12-29T04:55:03.566Z"
   },
   {
    "duration": 17,
    "start_time": "2021-12-29T04:55:03.590Z"
   },
   {
    "duration": 10,
    "start_time": "2021-12-29T04:55:03.610Z"
   },
   {
    "duration": 64,
    "start_time": "2021-12-29T04:55:03.622Z"
   },
   {
    "duration": 6,
    "start_time": "2021-12-29T04:55:03.689Z"
   },
   {
    "duration": 9,
    "start_time": "2021-12-29T04:55:03.697Z"
   },
   {
    "duration": 56,
    "start_time": "2021-12-29T04:55:03.708Z"
   },
   {
    "duration": 10,
    "start_time": "2021-12-29T04:55:03.767Z"
   },
   {
    "duration": 19,
    "start_time": "2021-12-29T04:55:03.779Z"
   },
   {
    "duration": 26,
    "start_time": "2021-12-29T04:55:03.801Z"
   },
   {
    "duration": 42,
    "start_time": "2021-12-29T04:55:03.830Z"
   },
   {
    "duration": 31,
    "start_time": "2021-12-29T04:55:03.874Z"
   },
   {
    "duration": 58,
    "start_time": "2021-12-29T04:55:03.907Z"
   },
   {
    "duration": 5,
    "start_time": "2021-12-29T04:55:03.968Z"
   },
   {
    "duration": 6,
    "start_time": "2021-12-29T04:55:03.976Z"
   },
   {
    "duration": 25,
    "start_time": "2021-12-29T04:55:03.984Z"
   },
   {
    "duration": 67,
    "start_time": "2021-12-29T04:55:04.012Z"
   },
   {
    "duration": 5,
    "start_time": "2021-12-29T04:55:04.082Z"
   },
   {
    "duration": 16,
    "start_time": "2021-12-29T04:55:04.090Z"
   },
   {
    "duration": 23,
    "start_time": "2021-12-29T04:55:04.109Z"
   },
   {
    "duration": 22,
    "start_time": "2021-12-29T04:55:04.164Z"
   },
   {
    "duration": 4,
    "start_time": "2021-12-29T04:55:04.188Z"
   },
   {
    "duration": 21,
    "start_time": "2021-12-29T04:55:04.194Z"
   },
   {
    "duration": 56,
    "start_time": "2021-12-29T04:55:04.218Z"
   },
   {
    "duration": 19,
    "start_time": "2021-12-29T04:55:04.277Z"
   },
   {
    "duration": 3,
    "start_time": "2021-12-29T04:55:04.299Z"
   },
   {
    "duration": 7,
    "start_time": "2021-12-29T04:55:04.305Z"
   },
   {
    "duration": 48,
    "start_time": "2021-12-29T04:55:04.315Z"
   },
   {
    "duration": 10,
    "start_time": "2021-12-29T04:55:05.952Z"
   },
   {
    "duration": 14,
    "start_time": "2021-12-29T04:55:06.709Z"
   },
   {
    "duration": 27,
    "start_time": "2021-12-29T04:55:09.505Z"
   },
   {
    "duration": 36,
    "start_time": "2021-12-29T04:55:10.057Z"
   },
   {
    "duration": 4,
    "start_time": "2021-12-29T04:55:36.746Z"
   },
   {
    "duration": 6,
    "start_time": "2021-12-29T04:55:36.752Z"
   },
   {
    "duration": 32,
    "start_time": "2021-12-29T04:55:36.762Z"
   },
   {
    "duration": 19,
    "start_time": "2021-12-29T04:55:36.797Z"
   },
   {
    "duration": 115,
    "start_time": "2021-12-29T04:55:36.818Z"
   },
   {
    "duration": 173,
    "start_time": "2021-12-29T04:55:36.935Z"
   },
   {
    "duration": 204,
    "start_time": "2021-12-29T04:55:37.110Z"
   },
   {
    "duration": 16,
    "start_time": "2021-12-29T04:55:37.319Z"
   },
   {
    "duration": 26,
    "start_time": "2021-12-29T04:55:37.338Z"
   },
   {
    "duration": 12,
    "start_time": "2021-12-29T04:55:37.367Z"
   },
   {
    "duration": 10,
    "start_time": "2021-12-29T04:55:37.381Z"
   },
   {
    "duration": 15,
    "start_time": "2021-12-29T04:55:37.393Z"
   },
   {
    "duration": 59,
    "start_time": "2021-12-29T04:55:37.410Z"
   },
   {
    "duration": 18,
    "start_time": "2021-12-29T04:55:37.471Z"
   },
   {
    "duration": 22,
    "start_time": "2021-12-29T04:55:37.491Z"
   },
   {
    "duration": 58,
    "start_time": "2021-12-29T04:55:37.515Z"
   },
   {
    "duration": 30,
    "start_time": "2021-12-29T04:55:37.576Z"
   },
   {
    "duration": 7,
    "start_time": "2021-12-29T04:55:37.609Z"
   },
   {
    "duration": 45,
    "start_time": "2021-12-29T04:55:37.618Z"
   },
   {
    "duration": 12,
    "start_time": "2021-12-29T04:55:37.666Z"
   },
   {
    "duration": 25,
    "start_time": "2021-12-29T04:55:37.680Z"
   },
   {
    "duration": 17,
    "start_time": "2021-12-29T04:55:37.707Z"
   },
   {
    "duration": 40,
    "start_time": "2021-12-29T04:55:37.764Z"
   },
   {
    "duration": 22,
    "start_time": "2021-12-29T04:55:37.808Z"
   },
   {
    "duration": 57,
    "start_time": "2021-12-29T04:55:37.832Z"
   },
   {
    "duration": 17,
    "start_time": "2021-12-29T04:55:37.891Z"
   },
   {
    "duration": 16,
    "start_time": "2021-12-29T04:55:37.910Z"
   },
   {
    "duration": 39,
    "start_time": "2021-12-29T04:55:37.929Z"
   },
   {
    "duration": 27,
    "start_time": "2021-12-29T04:55:37.971Z"
   },
   {
    "duration": 6,
    "start_time": "2021-12-29T04:55:38.000Z"
   },
   {
    "duration": 9,
    "start_time": "2021-12-29T04:55:38.008Z"
   },
   {
    "duration": 62,
    "start_time": "2021-12-29T04:55:38.019Z"
   },
   {
    "duration": 11,
    "start_time": "2021-12-29T04:55:38.084Z"
   },
   {
    "duration": 20,
    "start_time": "2021-12-29T04:55:38.098Z"
   },
   {
    "duration": 50,
    "start_time": "2021-12-29T04:55:38.120Z"
   },
   {
    "duration": 21,
    "start_time": "2021-12-29T04:55:38.173Z"
   },
   {
    "duration": 34,
    "start_time": "2021-12-29T04:55:38.197Z"
   },
   {
    "duration": 35,
    "start_time": "2021-12-29T04:55:38.263Z"
   },
   {
    "duration": 7,
    "start_time": "2021-12-29T04:55:38.301Z"
   },
   {
    "duration": 6,
    "start_time": "2021-12-29T04:55:38.311Z"
   },
   {
    "duration": 57,
    "start_time": "2021-12-29T04:55:38.320Z"
   },
   {
    "duration": 26,
    "start_time": "2021-12-29T04:55:38.380Z"
   },
   {
    "duration": 5,
    "start_time": "2021-12-29T04:55:38.408Z"
   },
   {
    "duration": 50,
    "start_time": "2021-12-29T04:55:38.415Z"
   },
   {
    "duration": 21,
    "start_time": "2021-12-29T04:55:38.467Z"
   },
   {
    "duration": 22,
    "start_time": "2021-12-29T04:55:38.491Z"
   },
   {
    "duration": 3,
    "start_time": "2021-12-29T04:55:38.516Z"
   },
   {
    "duration": 48,
    "start_time": "2021-12-29T04:55:38.522Z"
   },
   {
    "duration": 24,
    "start_time": "2021-12-29T04:55:38.573Z"
   },
   {
    "duration": 19,
    "start_time": "2021-12-29T04:55:38.600Z"
   },
   {
    "duration": 4,
    "start_time": "2021-12-29T04:55:38.621Z"
   },
   {
    "duration": 37,
    "start_time": "2021-12-29T04:55:38.627Z"
   },
   {
    "duration": 12,
    "start_time": "2021-12-29T04:55:38.667Z"
   },
   {
    "duration": 10,
    "start_time": "2021-12-29T04:55:38.682Z"
   },
   {
    "duration": 12,
    "start_time": "2021-12-29T04:55:38.695Z"
   },
   {
    "duration": 59,
    "start_time": "2021-12-29T04:55:38.710Z"
   },
   {
    "duration": 15,
    "start_time": "2021-12-29T04:55:40.513Z"
   },
   {
    "duration": 39,
    "start_time": "2021-12-29T04:55:40.646Z"
   },
   {
    "duration": 8,
    "start_time": "2021-12-29T04:57:56.749Z"
   },
   {
    "duration": 8,
    "start_time": "2021-12-29T04:58:37.125Z"
   },
   {
    "duration": 18,
    "start_time": "2021-12-29T05:05:44.183Z"
   },
   {
    "duration": 46,
    "start_time": "2021-12-29T05:05:44.279Z"
   },
   {
    "duration": 352,
    "start_time": "2021-12-29T05:16:32.014Z"
   },
   {
    "duration": 6,
    "start_time": "2021-12-29T05:16:42.694Z"
   },
   {
    "duration": 748,
    "start_time": "2021-12-29T05:21:46.219Z"
   },
   {
    "duration": 12,
    "start_time": "2021-12-29T05:27:07.462Z"
   },
   {
    "duration": 283,
    "start_time": "2021-12-29T05:35:12.784Z"
   },
   {
    "duration": -59,
    "start_time": "2021-12-29T05:35:13.130Z"
   },
   {
    "duration": 294,
    "start_time": "2021-12-29T05:35:18.826Z"
   },
   {
    "duration": 310,
    "start_time": "2021-12-29T05:35:19.383Z"
   },
   {
    "duration": 5,
    "start_time": "2021-12-29T05:36:37.379Z"
   },
   {
    "duration": 354,
    "start_time": "2021-12-29T05:36:38.564Z"
   },
   {
    "duration": 310,
    "start_time": "2021-12-29T05:37:39.437Z"
   },
   {
    "duration": 326,
    "start_time": "2021-12-29T05:37:40.434Z"
   },
   {
    "duration": 4,
    "start_time": "2021-12-29T05:37:55.948Z"
   },
   {
    "duration": 590,
    "start_time": "2021-12-29T05:37:59.675Z"
   },
   {
    "duration": 6,
    "start_time": "2021-12-29T05:38:37.688Z"
   },
   {
    "duration": 296,
    "start_time": "2021-12-29T05:39:05.102Z"
   },
   {
    "duration": 302,
    "start_time": "2021-12-29T05:40:23.891Z"
   },
   {
    "duration": 307,
    "start_time": "2021-12-29T05:42:06.210Z"
   },
   {
    "duration": 5,
    "start_time": "2021-12-29T05:45:52.811Z"
   },
   {
    "duration": 7,
    "start_time": "2021-12-29T05:45:52.819Z"
   },
   {
    "duration": 39,
    "start_time": "2021-12-29T05:45:52.830Z"
   },
   {
    "duration": 21,
    "start_time": "2021-12-29T05:45:52.872Z"
   },
   {
    "duration": 158,
    "start_time": "2021-12-29T05:45:52.895Z"
   },
   {
    "duration": 240,
    "start_time": "2021-12-29T05:45:53.055Z"
   },
   {
    "duration": 271,
    "start_time": "2021-12-29T05:45:53.299Z"
   },
   {
    "duration": 21,
    "start_time": "2021-12-29T05:45:53.573Z"
   },
   {
    "duration": 22,
    "start_time": "2021-12-29T05:45:53.600Z"
   },
   {
    "duration": 39,
    "start_time": "2021-12-29T05:45:53.626Z"
   },
   {
    "duration": 13,
    "start_time": "2021-12-29T05:45:53.668Z"
   },
   {
    "duration": 17,
    "start_time": "2021-12-29T05:45:53.684Z"
   },
   {
    "duration": 22,
    "start_time": "2021-12-29T05:45:53.704Z"
   },
   {
    "duration": 18,
    "start_time": "2021-12-29T05:45:53.764Z"
   },
   {
    "duration": 27,
    "start_time": "2021-12-29T05:45:53.784Z"
   },
   {
    "duration": 58,
    "start_time": "2021-12-29T05:45:53.813Z"
   },
   {
    "duration": 27,
    "start_time": "2021-12-29T05:45:53.873Z"
   },
   {
    "duration": 6,
    "start_time": "2021-12-29T05:45:53.903Z"
   },
   {
    "duration": 6,
    "start_time": "2021-12-29T05:45:53.911Z"
   },
   {
    "duration": 44,
    "start_time": "2021-12-29T05:45:53.919Z"
   },
   {
    "duration": 26,
    "start_time": "2021-12-29T05:45:53.965Z"
   },
   {
    "duration": 15,
    "start_time": "2021-12-29T05:45:53.993Z"
   },
   {
    "duration": 79,
    "start_time": "2021-12-29T05:45:54.010Z"
   },
   {
    "duration": 19,
    "start_time": "2021-12-29T05:45:54.091Z"
   },
   {
    "duration": 58,
    "start_time": "2021-12-29T05:45:54.113Z"
   },
   {
    "duration": 25,
    "start_time": "2021-12-29T05:45:54.174Z"
   },
   {
    "duration": 24,
    "start_time": "2021-12-29T05:45:54.208Z"
   },
   {
    "duration": 37,
    "start_time": "2021-12-29T05:45:54.236Z"
   },
   {
    "duration": 31,
    "start_time": "2021-12-29T05:45:54.276Z"
   },
   {
    "duration": 6,
    "start_time": "2021-12-29T05:45:54.310Z"
   },
   {
    "duration": 50,
    "start_time": "2021-12-29T05:45:54.318Z"
   },
   {
    "duration": 18,
    "start_time": "2021-12-29T05:45:54.370Z"
   },
   {
    "duration": 17,
    "start_time": "2021-12-29T05:45:54.391Z"
   },
   {
    "duration": 18,
    "start_time": "2021-12-29T05:45:54.411Z"
   },
   {
    "duration": 39,
    "start_time": "2021-12-29T05:45:54.432Z"
   },
   {
    "duration": 19,
    "start_time": "2021-12-29T05:45:54.473Z"
   },
   {
    "duration": 31,
    "start_time": "2021-12-29T05:45:54.494Z"
   },
   {
    "duration": 66,
    "start_time": "2021-12-29T05:45:54.528Z"
   },
   {
    "duration": 6,
    "start_time": "2021-12-29T05:45:54.597Z"
   },
   {
    "duration": 5,
    "start_time": "2021-12-29T05:45:54.606Z"
   },
   {
    "duration": 51,
    "start_time": "2021-12-29T05:45:54.613Z"
   },
   {
    "duration": 24,
    "start_time": "2021-12-29T05:45:54.667Z"
   },
   {
    "duration": 4,
    "start_time": "2021-12-29T05:45:54.693Z"
   },
   {
    "duration": 18,
    "start_time": "2021-12-29T05:45:54.699Z"
   },
   {
    "duration": 8,
    "start_time": "2021-12-29T05:45:54.719Z"
   },
   {
    "duration": 53,
    "start_time": "2021-12-29T05:45:54.729Z"
   },
   {
    "duration": 20,
    "start_time": "2021-12-29T05:45:54.785Z"
   },
   {
    "duration": 3,
    "start_time": "2021-12-29T05:45:54.808Z"
   },
   {
    "duration": 12,
    "start_time": "2021-12-29T05:45:54.813Z"
   },
   {
    "duration": 40,
    "start_time": "2021-12-29T05:45:54.828Z"
   },
   {
    "duration": 28,
    "start_time": "2021-12-29T05:45:54.871Z"
   },
   {
    "duration": 19,
    "start_time": "2021-12-29T05:45:54.901Z"
   },
   {
    "duration": 3,
    "start_time": "2021-12-29T05:45:54.923Z"
   },
   {
    "duration": 34,
    "start_time": "2021-12-29T05:45:54.929Z"
   },
   {
    "duration": 12,
    "start_time": "2021-12-29T05:45:54.965Z"
   },
   {
    "duration": 8,
    "start_time": "2021-12-29T05:45:54.980Z"
   },
   {
    "duration": 10,
    "start_time": "2021-12-29T05:45:56.968Z"
   },
   {
    "duration": 12,
    "start_time": "2021-12-29T05:45:57.628Z"
   },
   {
    "duration": 14,
    "start_time": "2021-12-29T05:46:00.220Z"
   },
   {
    "duration": 15,
    "start_time": "2021-12-29T05:46:00.703Z"
   },
   {
    "duration": 304,
    "start_time": "2021-12-29T05:46:01.532Z"
   },
   {
    "duration": 4,
    "start_time": "2021-12-29T06:08:05.081Z"
   },
   {
    "duration": 6,
    "start_time": "2021-12-29T06:08:05.088Z"
   },
   {
    "duration": 35,
    "start_time": "2021-12-29T06:08:05.098Z"
   },
   {
    "duration": 21,
    "start_time": "2021-12-29T06:08:05.136Z"
   },
   {
    "duration": 125,
    "start_time": "2021-12-29T06:08:05.160Z"
   },
   {
    "duration": 169,
    "start_time": "2021-12-29T06:08:05.288Z"
   },
   {
    "duration": 201,
    "start_time": "2021-12-29T06:08:05.460Z"
   },
   {
    "duration": 20,
    "start_time": "2021-12-29T06:08:05.666Z"
   },
   {
    "duration": 11,
    "start_time": "2021-12-29T06:08:05.689Z"
   },
   {
    "duration": 17,
    "start_time": "2021-12-29T06:08:05.702Z"
   },
   {
    "duration": 41,
    "start_time": "2021-12-29T06:08:05.721Z"
   },
   {
    "duration": 19,
    "start_time": "2021-12-29T06:08:05.765Z"
   },
   {
    "duration": 19,
    "start_time": "2021-12-29T06:08:05.787Z"
   },
   {
    "duration": 54,
    "start_time": "2021-12-29T06:08:05.811Z"
   },
   {
    "duration": 28,
    "start_time": "2021-12-29T06:08:05.868Z"
   },
   {
    "duration": 17,
    "start_time": "2021-12-29T06:08:05.898Z"
   },
   {
    "duration": 69,
    "start_time": "2021-12-29T06:08:05.918Z"
   },
   {
    "duration": 7,
    "start_time": "2021-12-29T06:08:05.990Z"
   },
   {
    "duration": 21,
    "start_time": "2021-12-29T06:08:06.000Z"
   },
   {
    "duration": 19,
    "start_time": "2021-12-29T06:08:06.024Z"
   },
   {
    "duration": 50,
    "start_time": "2021-12-29T06:08:06.046Z"
   },
   {
    "duration": 15,
    "start_time": "2021-12-29T06:08:06.102Z"
   },
   {
    "duration": 74,
    "start_time": "2021-12-29T06:08:06.121Z"
   },
   {
    "duration": 20,
    "start_time": "2021-12-29T06:08:06.198Z"
   },
   {
    "duration": 54,
    "start_time": "2021-12-29T06:08:06.220Z"
   },
   {
    "duration": 20,
    "start_time": "2021-12-29T06:08:06.277Z"
   },
   {
    "duration": 21,
    "start_time": "2021-12-29T06:08:06.301Z"
   },
   {
    "duration": 43,
    "start_time": "2021-12-29T06:08:06.326Z"
   },
   {
    "duration": 31,
    "start_time": "2021-12-29T06:08:06.373Z"
   },
   {
    "duration": 22,
    "start_time": "2021-12-29T06:08:06.407Z"
   },
   {
    "duration": 33,
    "start_time": "2021-12-29T06:08:06.432Z"
   },
   {
    "duration": 21,
    "start_time": "2021-12-29T06:08:06.467Z"
   },
   {
    "duration": 10,
    "start_time": "2021-12-29T06:08:06.491Z"
   },
   {
    "duration": 63,
    "start_time": "2021-12-29T06:08:06.504Z"
   },
   {
    "duration": 18,
    "start_time": "2021-12-29T06:08:06.571Z"
   },
   {
    "duration": 32,
    "start_time": "2021-12-29T06:08:06.592Z"
   },
   {
    "duration": 73,
    "start_time": "2021-12-29T06:08:06.627Z"
   },
   {
    "duration": 34,
    "start_time": "2021-12-29T06:08:06.702Z"
   },
   {
    "duration": 7,
    "start_time": "2021-12-29T06:08:06.738Z"
   },
   {
    "duration": 19,
    "start_time": "2021-12-29T06:08:06.747Z"
   },
   {
    "duration": 31,
    "start_time": "2021-12-29T06:08:06.770Z"
   },
   {
    "duration": 61,
    "start_time": "2021-12-29T06:08:06.804Z"
   },
   {
    "duration": 6,
    "start_time": "2021-12-29T06:08:06.868Z"
   },
   {
    "duration": 18,
    "start_time": "2021-12-29T06:08:06.879Z"
   },
   {
    "duration": 11,
    "start_time": "2021-12-29T06:08:06.900Z"
   },
   {
    "duration": 61,
    "start_time": "2021-12-29T06:08:06.913Z"
   },
   {
    "duration": 25,
    "start_time": "2021-12-29T06:08:06.977Z"
   },
   {
    "duration": 4,
    "start_time": "2021-12-29T06:08:07.004Z"
   },
   {
    "duration": 16,
    "start_time": "2021-12-29T06:08:07.011Z"
   },
   {
    "duration": 38,
    "start_time": "2021-12-29T06:08:07.030Z"
   },
   {
    "duration": 31,
    "start_time": "2021-12-29T06:08:07.071Z"
   },
   {
    "duration": 26,
    "start_time": "2021-12-29T06:08:07.105Z"
   },
   {
    "duration": 35,
    "start_time": "2021-12-29T06:08:07.134Z"
   },
   {
    "duration": 8,
    "start_time": "2021-12-29T06:08:07.173Z"
   },
   {
    "duration": 16,
    "start_time": "2021-12-29T06:08:07.184Z"
   },
   {
    "duration": 12,
    "start_time": "2021-12-29T06:08:07.203Z"
   },
   {
    "duration": 376,
    "start_time": "2021-12-29T06:09:54.624Z"
   },
   {
    "duration": 372,
    "start_time": "2021-12-29T06:11:01.759Z"
   },
   {
    "duration": 14,
    "start_time": "2021-12-29T06:16:30.731Z"
   },
   {
    "duration": 427,
    "start_time": "2021-12-29T06:16:30.866Z"
   },
   {
    "duration": 346,
    "start_time": "2021-12-29T06:21:32.775Z"
   },
   {
    "duration": 380,
    "start_time": "2021-12-29T19:25:33.412Z"
   },
   {
    "duration": 281,
    "start_time": "2021-12-29T19:25:33.907Z"
   },
   {
    "duration": 816,
    "start_time": "2021-12-29T19:25:33.375Z"
   },
   {
    "duration": 1109,
    "start_time": "2021-12-29T19:25:42.578Z"
   },
   {
    "duration": 4,
    "start_time": "2021-12-29T19:25:43.690Z"
   },
   {
    "duration": 32,
    "start_time": "2021-12-29T19:25:43.698Z"
   },
   {
    "duration": 19,
    "start_time": "2021-12-29T19:25:43.733Z"
   },
   {
    "duration": 118,
    "start_time": "2021-12-29T19:25:43.755Z"
   },
   {
    "duration": 182,
    "start_time": "2021-12-29T19:25:43.875Z"
   },
   {
    "duration": 211,
    "start_time": "2021-12-29T19:25:44.059Z"
   },
   {
    "duration": 25,
    "start_time": "2021-12-29T19:25:44.273Z"
   },
   {
    "duration": 9,
    "start_time": "2021-12-29T19:25:44.304Z"
   },
   {
    "duration": 50,
    "start_time": "2021-12-29T19:25:44.318Z"
   },
   {
    "duration": 12,
    "start_time": "2021-12-29T19:25:44.371Z"
   },
   {
    "duration": 14,
    "start_time": "2021-12-29T19:25:44.386Z"
   },
   {
    "duration": 61,
    "start_time": "2021-12-29T19:25:44.403Z"
   },
   {
    "duration": 18,
    "start_time": "2021-12-29T19:25:44.467Z"
   },
   {
    "duration": 23,
    "start_time": "2021-12-29T19:25:44.487Z"
   },
   {
    "duration": 53,
    "start_time": "2021-12-29T19:25:44.512Z"
   },
   {
    "duration": 28,
    "start_time": "2021-12-29T19:25:44.567Z"
   },
   {
    "duration": 7,
    "start_time": "2021-12-29T19:25:44.598Z"
   },
   {
    "duration": 8,
    "start_time": "2021-12-29T19:25:44.608Z"
   },
   {
    "duration": 45,
    "start_time": "2021-12-29T19:25:44.619Z"
   },
   {
    "duration": 27,
    "start_time": "2021-12-29T19:25:44.667Z"
   },
   {
    "duration": 15,
    "start_time": "2021-12-29T19:25:44.697Z"
   },
   {
    "duration": 73,
    "start_time": "2021-12-29T19:25:44.715Z"
   },
   {
    "duration": 30,
    "start_time": "2021-12-29T19:25:44.791Z"
   },
   {
    "duration": 63,
    "start_time": "2021-12-29T19:25:44.824Z"
   },
   {
    "duration": 26,
    "start_time": "2021-12-29T19:25:44.890Z"
   },
   {
    "duration": 19,
    "start_time": "2021-12-29T19:25:44.921Z"
   },
   {
    "duration": 20,
    "start_time": "2021-12-29T19:25:44.943Z"
   },
   {
    "duration": 27,
    "start_time": "2021-12-29T19:25:44.965Z"
   },
   {
    "duration": 6,
    "start_time": "2021-12-29T19:25:44.994Z"
   },
   {
    "duration": 16,
    "start_time": "2021-12-29T19:25:45.002Z"
   },
   {
    "duration": 26,
    "start_time": "2021-12-29T19:25:45.020Z"
   },
   {
    "duration": 8,
    "start_time": "2021-12-29T19:25:45.048Z"
   },
   {
    "duration": 18,
    "start_time": "2021-12-29T19:25:48.002Z"
   },
   {
    "duration": 96,
    "start_time": "2021-12-29T19:25:48.826Z"
   },
   {
    "duration": 20,
    "start_time": "2021-12-29T19:25:48.925Z"
   },
   {
    "duration": 20,
    "start_time": "2021-12-29T19:26:45.553Z"
   },
   {
    "duration": 131,
    "start_time": "2021-12-29T19:27:05.608Z"
   },
   {
    "duration": 798,
    "start_time": "2021-12-29T19:28:45.073Z"
   },
   {
    "duration": 4,
    "start_time": "2021-12-29T19:28:50.768Z"
   },
   {
    "duration": 12,
    "start_time": "2021-12-29T19:28:50.774Z"
   },
   {
    "duration": 37,
    "start_time": "2021-12-29T19:28:50.789Z"
   },
   {
    "duration": 20,
    "start_time": "2021-12-29T19:28:50.829Z"
   },
   {
    "duration": 135,
    "start_time": "2021-12-29T19:28:50.851Z"
   },
   {
    "duration": 178,
    "start_time": "2021-12-29T19:28:50.989Z"
   },
   {
    "duration": 208,
    "start_time": "2021-12-29T19:28:51.169Z"
   },
   {
    "duration": 17,
    "start_time": "2021-12-29T19:28:51.381Z"
   },
   {
    "duration": 16,
    "start_time": "2021-12-29T19:28:51.401Z"
   },
   {
    "duration": 17,
    "start_time": "2021-12-29T19:28:51.420Z"
   },
   {
    "duration": 25,
    "start_time": "2021-12-29T19:28:51.440Z"
   },
   {
    "duration": 15,
    "start_time": "2021-12-29T19:28:51.468Z"
   },
   {
    "duration": 21,
    "start_time": "2021-12-29T19:28:51.486Z"
   },
   {
    "duration": 58,
    "start_time": "2021-12-29T19:28:51.511Z"
   },
   {
    "duration": 43,
    "start_time": "2021-12-29T19:28:51.573Z"
   },
   {
    "duration": 22,
    "start_time": "2021-12-29T19:28:51.620Z"
   },
   {
    "duration": 59,
    "start_time": "2021-12-29T19:28:51.645Z"
   },
   {
    "duration": 11,
    "start_time": "2021-12-29T19:28:51.707Z"
   },
   {
    "duration": 14,
    "start_time": "2021-12-29T19:28:51.721Z"
   },
   {
    "duration": 33,
    "start_time": "2021-12-29T19:28:51.738Z"
   },
   {
    "duration": 26,
    "start_time": "2021-12-29T19:28:51.774Z"
   },
   {
    "duration": 16,
    "start_time": "2021-12-29T19:28:51.803Z"
   },
   {
    "duration": 73,
    "start_time": "2021-12-29T19:28:51.825Z"
   },
   {
    "duration": 20,
    "start_time": "2021-12-29T19:28:51.902Z"
   },
   {
    "duration": 55,
    "start_time": "2021-12-29T19:28:51.924Z"
   },
   {
    "duration": 17,
    "start_time": "2021-12-29T19:28:51.982Z"
   },
   {
    "duration": 27,
    "start_time": "2021-12-29T19:28:52.002Z"
   },
   {
    "duration": 33,
    "start_time": "2021-12-29T19:28:52.031Z"
   },
   {
    "duration": 29,
    "start_time": "2021-12-29T19:28:52.066Z"
   },
   {
    "duration": 6,
    "start_time": "2021-12-29T19:28:52.098Z"
   },
   {
    "duration": 9,
    "start_time": "2021-12-29T19:28:52.106Z"
   },
   {
    "duration": 55,
    "start_time": "2021-12-29T19:28:52.117Z"
   },
   {
    "duration": 12,
    "start_time": "2021-12-29T19:28:52.174Z"
   },
   {
    "duration": 26,
    "start_time": "2021-12-29T19:28:52.189Z"
   },
   {
    "duration": 111,
    "start_time": "2021-12-29T19:28:52.217Z"
   },
   {
    "duration": 36,
    "start_time": "2021-12-29T19:28:52.330Z"
   },
   {
    "duration": 118,
    "start_time": "2021-12-29T19:28:52.368Z"
   },
   {
    "duration": 31,
    "start_time": "2021-12-29T19:28:52.489Z"
   },
   {
    "duration": 51,
    "start_time": "2021-12-29T19:28:52.523Z"
   },
   {
    "duration": 6,
    "start_time": "2021-12-29T19:28:52.576Z"
   },
   {
    "duration": 12,
    "start_time": "2021-12-29T19:28:52.585Z"
   },
   {
    "duration": 37,
    "start_time": "2021-12-29T19:28:52.600Z"
   },
   {
    "duration": 37,
    "start_time": "2021-12-29T19:28:52.640Z"
   },
   {
    "duration": 4,
    "start_time": "2021-12-29T19:28:52.679Z"
   },
   {
    "duration": 16,
    "start_time": "2021-12-29T19:28:52.685Z"
   },
   {
    "duration": 12,
    "start_time": "2021-12-29T19:28:52.704Z"
   },
   {
    "duration": 53,
    "start_time": "2021-12-29T19:28:52.719Z"
   },
   {
    "duration": 21,
    "start_time": "2021-12-29T19:28:52.775Z"
   },
   {
    "duration": 4,
    "start_time": "2021-12-29T19:28:52.798Z"
   },
   {
    "duration": 18,
    "start_time": "2021-12-29T19:28:52.804Z"
   },
   {
    "duration": 38,
    "start_time": "2021-12-29T19:28:52.825Z"
   },
   {
    "duration": 23,
    "start_time": "2021-12-29T19:28:52.866Z"
   },
   {
    "duration": 18,
    "start_time": "2021-12-29T19:28:52.892Z"
   },
   {
    "duration": 9,
    "start_time": "2021-12-29T19:28:52.912Z"
   },
   {
    "duration": 39,
    "start_time": "2021-12-29T19:28:52.923Z"
   },
   {
    "duration": 16,
    "start_time": "2021-12-29T19:28:52.965Z"
   },
   {
    "duration": 15,
    "start_time": "2021-12-29T19:28:52.983Z"
   },
   {
    "duration": 13,
    "start_time": "2021-12-29T19:28:55.653Z"
   },
   {
    "duration": 14,
    "start_time": "2021-12-29T19:29:26.275Z"
   },
   {
    "duration": 16,
    "start_time": "2021-12-29T19:29:42.886Z"
   },
   {
    "duration": 11,
    "start_time": "2021-12-29T19:30:56.009Z"
   },
   {
    "duration": 12,
    "start_time": "2021-12-29T19:31:04.987Z"
   },
   {
    "duration": 360,
    "start_time": "2021-12-29T19:31:05.023Z"
   },
   {
    "duration": 42,
    "start_time": "2021-12-29T19:31:56.822Z"
   },
   {
    "duration": 35,
    "start_time": "2021-12-29T19:34:23.120Z"
   },
   {
    "duration": 38,
    "start_time": "2021-12-29T19:34:23.158Z"
   },
   {
    "duration": 22,
    "start_time": "2021-12-29T19:34:29.956Z"
   },
   {
    "duration": 295,
    "start_time": "2021-12-29T19:35:51.261Z"
   },
   {
    "duration": 24,
    "start_time": "2021-12-29T19:36:02.509Z"
   },
   {
    "duration": 561,
    "start_time": "2021-12-29T19:43:13.345Z"
   },
   {
    "duration": 22,
    "start_time": "2021-12-29T19:43:22.805Z"
   },
   {
    "duration": 6,
    "start_time": "2021-12-29T19:43:37.599Z"
   },
   {
    "duration": 6,
    "start_time": "2021-12-29T19:44:09.909Z"
   },
   {
    "duration": 9,
    "start_time": "2021-12-29T19:44:19.433Z"
   },
   {
    "duration": 3,
    "start_time": "2021-12-29T19:44:40.878Z"
   },
   {
    "duration": 7,
    "start_time": "2021-12-29T19:44:40.884Z"
   },
   {
    "duration": 32,
    "start_time": "2021-12-29T19:44:40.894Z"
   },
   {
    "duration": 18,
    "start_time": "2021-12-29T19:44:40.930Z"
   },
   {
    "duration": 119,
    "start_time": "2021-12-29T19:44:40.950Z"
   },
   {
    "duration": 166,
    "start_time": "2021-12-29T19:44:41.072Z"
   },
   {
    "duration": 193,
    "start_time": "2021-12-29T19:44:41.240Z"
   },
   {
    "duration": 14,
    "start_time": "2021-12-29T19:44:41.437Z"
   },
   {
    "duration": 15,
    "start_time": "2021-12-29T19:44:41.454Z"
   },
   {
    "duration": 11,
    "start_time": "2021-12-29T19:44:41.471Z"
   },
   {
    "duration": 9,
    "start_time": "2021-12-29T19:44:41.484Z"
   },
   {
    "duration": 17,
    "start_time": "2021-12-29T19:44:41.495Z"
   },
   {
    "duration": 61,
    "start_time": "2021-12-29T19:44:41.514Z"
   },
   {
    "duration": 16,
    "start_time": "2021-12-29T19:44:41.579Z"
   },
   {
    "duration": 23,
    "start_time": "2021-12-29T19:44:41.598Z"
   },
   {
    "duration": 51,
    "start_time": "2021-12-29T19:44:41.624Z"
   },
   {
    "duration": 27,
    "start_time": "2021-12-29T19:44:41.677Z"
   },
   {
    "duration": 6,
    "start_time": "2021-12-29T19:44:41.707Z"
   },
   {
    "duration": 8,
    "start_time": "2021-12-29T19:44:41.715Z"
   },
   {
    "duration": 9,
    "start_time": "2021-12-29T19:44:41.762Z"
   },
   {
    "duration": 25,
    "start_time": "2021-12-29T19:44:41.774Z"
   },
   {
    "duration": 20,
    "start_time": "2021-12-29T19:44:41.802Z"
   },
   {
    "duration": 72,
    "start_time": "2021-12-29T19:44:41.828Z"
   },
   {
    "duration": 21,
    "start_time": "2021-12-29T19:44:41.903Z"
   },
   {
    "duration": 51,
    "start_time": "2021-12-29T19:44:41.927Z"
   },
   {
    "duration": 19,
    "start_time": "2021-12-29T19:44:41.980Z"
   },
   {
    "duration": 18,
    "start_time": "2021-12-29T19:44:42.002Z"
   },
   {
    "duration": 42,
    "start_time": "2021-12-29T19:44:42.023Z"
   },
   {
    "duration": 27,
    "start_time": "2021-12-29T19:44:42.068Z"
   },
   {
    "duration": 8,
    "start_time": "2021-12-29T19:44:42.098Z"
   },
   {
    "duration": 54,
    "start_time": "2021-12-29T19:44:42.109Z"
   },
   {
    "duration": 26,
    "start_time": "2021-12-29T19:44:42.166Z"
   },
   {
    "duration": 13,
    "start_time": "2021-12-29T19:44:42.195Z"
   },
   {
    "duration": 54,
    "start_time": "2021-12-29T19:44:42.211Z"
   },
   {
    "duration": 119,
    "start_time": "2021-12-29T19:44:42.268Z"
   },
   {
    "duration": 28,
    "start_time": "2021-12-29T19:44:42.390Z"
   },
   {
    "duration": 168,
    "start_time": "2021-12-29T19:44:42.422Z"
   },
   {
    "duration": 40,
    "start_time": "2021-12-29T19:44:42.593Z"
   },
   {
    "duration": 63,
    "start_time": "2021-12-29T19:44:42.636Z"
   },
   {
    "duration": 8,
    "start_time": "2021-12-29T19:44:42.702Z"
   },
   {
    "duration": 6,
    "start_time": "2021-12-29T19:44:42.713Z"
   },
   {
    "duration": 45,
    "start_time": "2021-12-29T19:44:42.721Z"
   },
   {
    "duration": 22,
    "start_time": "2021-12-29T19:44:42.768Z"
   },
   {
    "duration": 4,
    "start_time": "2021-12-29T19:44:42.792Z"
   },
   {
    "duration": 14,
    "start_time": "2021-12-29T19:44:42.798Z"
   },
   {
    "duration": 9,
    "start_time": "2021-12-29T19:44:42.814Z"
   },
   {
    "duration": 21,
    "start_time": "2021-12-29T19:44:42.863Z"
   },
   {
    "duration": 21,
    "start_time": "2021-12-29T19:44:42.886Z"
   },
   {
    "duration": 4,
    "start_time": "2021-12-29T19:44:42.909Z"
   },
   {
    "duration": 12,
    "start_time": "2021-12-29T19:44:42.916Z"
   },
   {
    "duration": 8,
    "start_time": "2021-12-29T19:44:42.964Z"
   },
   {
    "duration": 30,
    "start_time": "2021-12-29T19:44:42.974Z"
   },
   {
    "duration": 19,
    "start_time": "2021-12-29T19:44:43.007Z"
   },
   {
    "duration": 35,
    "start_time": "2021-12-29T19:44:43.028Z"
   },
   {
    "duration": 6,
    "start_time": "2021-12-29T19:44:43.066Z"
   },
   {
    "duration": 16,
    "start_time": "2021-12-29T19:44:43.075Z"
   },
   {
    "duration": 10,
    "start_time": "2021-12-29T19:44:43.094Z"
   },
   {
    "duration": 58,
    "start_time": "2021-12-29T19:44:43.107Z"
   },
   {
    "duration": 15,
    "start_time": "2021-12-29T19:44:43.168Z"
   },
   {
    "duration": 13,
    "start_time": "2021-12-29T19:44:43.185Z"
   },
   {
    "duration": 14,
    "start_time": "2021-12-29T19:44:43.200Z"
   },
   {
    "duration": 55,
    "start_time": "2021-12-29T19:44:43.217Z"
   },
   {
    "duration": 24,
    "start_time": "2021-12-29T19:44:43.275Z"
   },
   {
    "duration": 577,
    "start_time": "2021-12-29T19:45:03.692Z"
   },
   {
    "duration": 402,
    "start_time": "2021-12-29T19:46:45.693Z"
   },
   {
    "duration": 819,
    "start_time": "2021-12-29T19:46:45.279Z"
   },
   {
    "duration": 3,
    "start_time": "2021-12-29T19:47:38.401Z"
   },
   {
    "duration": 7,
    "start_time": "2021-12-29T19:47:38.407Z"
   },
   {
    "duration": 33,
    "start_time": "2021-12-29T19:47:38.417Z"
   },
   {
    "duration": 20,
    "start_time": "2021-12-29T19:47:38.453Z"
   },
   {
    "duration": 119,
    "start_time": "2021-12-29T19:47:38.475Z"
   },
   {
    "duration": 168,
    "start_time": "2021-12-29T19:47:38.596Z"
   },
   {
    "duration": 192,
    "start_time": "2021-12-29T19:47:38.767Z"
   },
   {
    "duration": 16,
    "start_time": "2021-12-29T19:47:38.961Z"
   },
   {
    "duration": 8,
    "start_time": "2021-12-29T19:47:38.981Z"
   },
   {
    "duration": 13,
    "start_time": "2021-12-29T19:47:38.992Z"
   },
   {
    "duration": 10,
    "start_time": "2021-12-29T19:47:39.008Z"
   },
   {
    "duration": 53,
    "start_time": "2021-12-29T19:47:39.020Z"
   },
   {
    "duration": 19,
    "start_time": "2021-12-29T19:47:39.076Z"
   },
   {
    "duration": 17,
    "start_time": "2021-12-29T19:47:39.098Z"
   },
   {
    "duration": 59,
    "start_time": "2021-12-29T19:47:39.117Z"
   },
   {
    "duration": 20,
    "start_time": "2021-12-29T19:47:39.179Z"
   },
   {
    "duration": 28,
    "start_time": "2021-12-29T19:47:39.201Z"
   },
   {
    "duration": 38,
    "start_time": "2021-12-29T19:47:39.231Z"
   },
   {
    "duration": 9,
    "start_time": "2021-12-29T19:47:39.272Z"
   },
   {
    "duration": 13,
    "start_time": "2021-12-29T19:47:39.284Z"
   },
   {
    "duration": 72,
    "start_time": "2021-12-29T19:47:39.300Z"
   },
   {
    "duration": 21,
    "start_time": "2021-12-29T19:47:39.376Z"
   },
   {
    "duration": 75,
    "start_time": "2021-12-29T19:47:39.400Z"
   },
   {
    "duration": 21,
    "start_time": "2021-12-29T19:47:39.478Z"
   },
   {
    "duration": 29,
    "start_time": "2021-12-29T19:47:39.501Z"
   },
   {
    "duration": 45,
    "start_time": "2021-12-29T19:47:39.533Z"
   },
   {
    "duration": 16,
    "start_time": "2021-12-29T19:47:39.584Z"
   },
   {
    "duration": 14,
    "start_time": "2021-12-29T19:47:39.604Z"
   },
   {
    "duration": 67,
    "start_time": "2021-12-29T19:47:39.621Z"
   },
   {
    "duration": 7,
    "start_time": "2021-12-29T19:47:39.691Z"
   },
   {
    "duration": 11,
    "start_time": "2021-12-29T19:47:39.701Z"
   },
   {
    "duration": 57,
    "start_time": "2021-12-29T19:47:39.715Z"
   },
   {
    "duration": 9,
    "start_time": "2021-12-29T19:47:39.775Z"
   },
   {
    "duration": 20,
    "start_time": "2021-12-29T19:47:39.786Z"
   },
   {
    "duration": 126,
    "start_time": "2021-12-29T19:47:39.809Z"
   },
   {
    "duration": 33,
    "start_time": "2021-12-29T19:47:39.938Z"
   },
   {
    "duration": 118,
    "start_time": "2021-12-29T19:47:39.974Z"
   },
   {
    "duration": 33,
    "start_time": "2021-12-29T19:47:40.094Z"
   },
   {
    "duration": 55,
    "start_time": "2021-12-29T19:47:40.129Z"
   },
   {
    "duration": 5,
    "start_time": "2021-12-29T19:47:40.186Z"
   },
   {
    "duration": 6,
    "start_time": "2021-12-29T19:47:40.193Z"
   },
   {
    "duration": 24,
    "start_time": "2021-12-29T19:47:40.201Z"
   },
   {
    "duration": 51,
    "start_time": "2021-12-29T19:47:40.227Z"
   },
   {
    "duration": 4,
    "start_time": "2021-12-29T19:47:40.280Z"
   },
   {
    "duration": 14,
    "start_time": "2021-12-29T19:47:40.286Z"
   },
   {
    "duration": 8,
    "start_time": "2021-12-29T19:47:40.302Z"
   },
   {
    "duration": 56,
    "start_time": "2021-12-29T19:47:40.313Z"
   },
   {
    "duration": 20,
    "start_time": "2021-12-29T19:47:40.372Z"
   },
   {
    "duration": 4,
    "start_time": "2021-12-29T19:47:40.395Z"
   },
   {
    "duration": 12,
    "start_time": "2021-12-29T19:47:40.401Z"
   },
   {
    "duration": 7,
    "start_time": "2021-12-29T19:47:40.416Z"
   },
   {
    "duration": 58,
    "start_time": "2021-12-29T19:47:40.426Z"
   },
   {
    "duration": 18,
    "start_time": "2021-12-29T19:47:40.486Z"
   },
   {
    "duration": 4,
    "start_time": "2021-12-29T19:47:40.507Z"
   },
   {
    "duration": 10,
    "start_time": "2021-12-29T19:47:40.513Z"
   },
   {
    "duration": 48,
    "start_time": "2021-12-29T19:47:40.525Z"
   },
   {
    "duration": 10,
    "start_time": "2021-12-29T19:47:40.576Z"
   },
   {
    "duration": 13,
    "start_time": "2021-12-29T19:47:40.589Z"
   },
   {
    "duration": 13,
    "start_time": "2021-12-29T19:47:40.604Z"
   },
   {
    "duration": 49,
    "start_time": "2021-12-29T19:47:40.620Z"
   },
   {
    "duration": 16,
    "start_time": "2021-12-29T19:47:49.568Z"
   },
   {
    "duration": 14,
    "start_time": "2021-12-29T19:47:49.586Z"
   },
   {
    "duration": 34,
    "start_time": "2021-12-29T19:47:49.602Z"
   },
   {
    "duration": 4,
    "start_time": "2021-12-29T19:48:21.766Z"
   },
   {
    "duration": 8,
    "start_time": "2021-12-29T19:48:21.773Z"
   },
   {
    "duration": 33,
    "start_time": "2021-12-29T19:48:21.784Z"
   },
   {
    "duration": 20,
    "start_time": "2021-12-29T19:48:21.820Z"
   },
   {
    "duration": 114,
    "start_time": "2021-12-29T19:48:21.864Z"
   },
   {
    "duration": 181,
    "start_time": "2021-12-29T19:48:21.981Z"
   },
   {
    "duration": 201,
    "start_time": "2021-12-29T19:48:22.164Z"
   },
   {
    "duration": 17,
    "start_time": "2021-12-29T19:48:22.368Z"
   },
   {
    "duration": 9,
    "start_time": "2021-12-29T19:48:22.392Z"
   },
   {
    "duration": 14,
    "start_time": "2021-12-29T19:48:22.405Z"
   },
   {
    "duration": 48,
    "start_time": "2021-12-29T19:48:22.421Z"
   },
   {
    "duration": 17,
    "start_time": "2021-12-29T19:48:22.472Z"
   },
   {
    "duration": 21,
    "start_time": "2021-12-29T19:48:22.492Z"
   },
   {
    "duration": 19,
    "start_time": "2021-12-29T19:48:22.564Z"
   },
   {
    "duration": 25,
    "start_time": "2021-12-29T19:48:22.586Z"
   },
   {
    "duration": 53,
    "start_time": "2021-12-29T19:48:22.614Z"
   },
   {
    "duration": 30,
    "start_time": "2021-12-29T19:48:22.670Z"
   },
   {
    "duration": 9,
    "start_time": "2021-12-29T19:48:22.703Z"
   },
   {
    "duration": 49,
    "start_time": "2021-12-29T19:48:22.714Z"
   },
   {
    "duration": 13,
    "start_time": "2021-12-29T19:48:22.766Z"
   },
   {
    "duration": 34,
    "start_time": "2021-12-29T19:48:22.781Z"
   },
   {
    "duration": 15,
    "start_time": "2021-12-29T19:48:22.818Z"
   },
   {
    "duration": 65,
    "start_time": "2021-12-29T19:48:22.836Z"
   },
   {
    "duration": 20,
    "start_time": "2021-12-29T19:48:22.904Z"
   },
   {
    "duration": 56,
    "start_time": "2021-12-29T19:48:22.926Z"
   },
   {
    "duration": 18,
    "start_time": "2021-12-29T19:48:22.984Z"
   },
   {
    "duration": 18,
    "start_time": "2021-12-29T19:48:23.008Z"
   },
   {
    "duration": 42,
    "start_time": "2021-12-29T19:48:23.030Z"
   },
   {
    "duration": 27,
    "start_time": "2021-12-29T19:48:23.075Z"
   },
   {
    "duration": 8,
    "start_time": "2021-12-29T19:48:23.104Z"
   },
   {
    "duration": 47,
    "start_time": "2021-12-29T19:48:23.115Z"
   },
   {
    "duration": 15,
    "start_time": "2021-12-29T19:48:23.166Z"
   },
   {
    "duration": 12,
    "start_time": "2021-12-29T19:48:23.184Z"
   },
   {
    "duration": 25,
    "start_time": "2021-12-29T19:48:23.198Z"
   },
   {
    "duration": 86,
    "start_time": "2021-12-29T19:48:23.262Z"
   },
   {
    "duration": 20,
    "start_time": "2021-12-29T19:48:23.362Z"
   },
   {
    "duration": 132,
    "start_time": "2021-12-29T19:48:23.384Z"
   },
   {
    "duration": 31,
    "start_time": "2021-12-29T19:48:23.519Z"
   },
   {
    "duration": 34,
    "start_time": "2021-12-29T19:48:23.562Z"
   },
   {
    "duration": 5,
    "start_time": "2021-12-29T19:48:23.599Z"
   },
   {
    "duration": 6,
    "start_time": "2021-12-29T19:48:23.606Z"
   },
   {
    "duration": 56,
    "start_time": "2021-12-29T19:48:23.614Z"
   },
   {
    "duration": 24,
    "start_time": "2021-12-29T19:48:23.673Z"
   },
   {
    "duration": 4,
    "start_time": "2021-12-29T19:48:23.700Z"
   },
   {
    "duration": 20,
    "start_time": "2021-12-29T19:48:23.706Z"
   },
   {
    "duration": 38,
    "start_time": "2021-12-29T19:48:23.729Z"
   },
   {
    "duration": 27,
    "start_time": "2021-12-29T19:48:23.770Z"
   },
   {
    "duration": 22,
    "start_time": "2021-12-29T19:48:23.799Z"
   },
   {
    "duration": 4,
    "start_time": "2021-12-29T19:48:23.824Z"
   },
   {
    "duration": 41,
    "start_time": "2021-12-29T19:48:23.831Z"
   },
   {
    "duration": 12,
    "start_time": "2021-12-29T19:48:23.875Z"
   },
   {
    "duration": 27,
    "start_time": "2021-12-29T19:48:23.890Z"
   },
   {
    "duration": 59,
    "start_time": "2021-12-29T19:48:23.920Z"
   },
   {
    "duration": 4,
    "start_time": "2021-12-29T19:48:23.981Z"
   },
   {
    "duration": 7,
    "start_time": "2021-12-29T19:48:23.988Z"
   },
   {
    "duration": 13,
    "start_time": "2021-12-29T19:48:23.997Z"
   },
   {
    "duration": 9,
    "start_time": "2021-12-29T19:48:24.013Z"
   },
   {
    "duration": 12,
    "start_time": "2021-12-29T19:48:25.887Z"
   },
   {
    "duration": 13,
    "start_time": "2021-12-29T19:48:26.609Z"
   },
   {
    "duration": 10,
    "start_time": "2021-12-29T19:48:26.960Z"
   },
   {
    "duration": 13,
    "start_time": "2021-12-29T19:48:27.638Z"
   },
   {
    "duration": 22,
    "start_time": "2021-12-29T19:48:37.610Z"
   },
   {
    "duration": 7,
    "start_time": "2021-12-29T19:48:40.740Z"
   },
   {
    "duration": 6,
    "start_time": "2021-12-29T19:50:52.546Z"
   },
   {
    "duration": 292,
    "start_time": "2021-12-29T19:51:09.836Z"
   },
   {
    "duration": 425,
    "start_time": "2021-12-29T19:51:31.607Z"
   },
   {
    "duration": 10,
    "start_time": "2021-12-29T19:52:32.200Z"
   },
   {
    "duration": 352,
    "start_time": "2021-12-29T19:53:23.770Z"
   },
   {
    "duration": 6,
    "start_time": "2021-12-29T19:53:26.730Z"
   },
   {
    "duration": 8,
    "start_time": "2021-12-29T19:53:27.522Z"
   },
   {
    "duration": 11,
    "start_time": "2021-12-29T19:54:11.468Z"
   },
   {
    "duration": 7,
    "start_time": "2021-12-29T19:54:19.766Z"
   },
   {
    "duration": 12,
    "start_time": "2021-12-29T19:54:21.146Z"
   },
   {
    "duration": 8,
    "start_time": "2021-12-29T19:58:29.564Z"
   },
   {
    "duration": 15,
    "start_time": "2021-12-29T19:58:29.640Z"
   },
   {
    "duration": 7,
    "start_time": "2021-12-29T19:58:41.098Z"
   },
   {
    "duration": 11,
    "start_time": "2021-12-29T19:58:42.464Z"
   },
   {
    "duration": 12,
    "start_time": "2021-12-29T19:59:23.248Z"
   },
   {
    "duration": 11,
    "start_time": "2021-12-29T19:59:24.423Z"
   },
   {
    "duration": 17,
    "start_time": "2021-12-29T19:59:50.473Z"
   },
   {
    "duration": 14,
    "start_time": "2021-12-29T20:00:11.899Z"
   },
   {
    "duration": 14,
    "start_time": "2021-12-29T20:00:18.849Z"
   },
   {
    "duration": 22,
    "start_time": "2021-12-29T20:01:29.060Z"
   },
   {
    "duration": 6,
    "start_time": "2021-12-29T20:03:15.363Z"
   },
   {
    "duration": 27,
    "start_time": "2021-12-29T20:03:15.879Z"
   },
   {
    "duration": 6,
    "start_time": "2021-12-29T20:03:15.908Z"
   },
   {
    "duration": 550,
    "start_time": "2021-12-29T20:25:28.054Z"
   },
   {
    "duration": 403,
    "start_time": "2021-12-29T20:25:39.963Z"
   },
   {
    "duration": 558,
    "start_time": "2021-12-29T20:26:53.671Z"
   },
   {
    "duration": 721,
    "start_time": "2021-12-29T20:27:10.898Z"
   },
   {
    "duration": 799,
    "start_time": "2021-12-29T20:27:10.823Z"
   },
   {
    "duration": 17,
    "start_time": "2021-12-29T20:27:42.899Z"
   },
   {
    "duration": 295,
    "start_time": "2021-12-29T20:29:17.549Z"
   },
   {
    "duration": 297,
    "start_time": "2021-12-29T20:32:32.985Z"
   },
   {
    "duration": 11,
    "start_time": "2021-12-29T20:34:01.941Z"
   },
   {
    "duration": 8,
    "start_time": "2021-12-29T20:34:36.784Z"
   },
   {
    "duration": 286,
    "start_time": "2021-12-29T20:34:55.492Z"
   },
   {
    "duration": 789,
    "start_time": "2021-12-29T20:34:54.991Z"
   },
   {
    "duration": 7,
    "start_time": "2021-12-29T20:35:18.258Z"
   },
   {
    "duration": 815,
    "start_time": "2021-12-29T20:38:11.559Z"
   },
   {
    "duration": 791,
    "start_time": "2021-12-29T20:38:11.586Z"
   },
   {
    "duration": 13,
    "start_time": "2021-12-29T20:38:32.726Z"
   },
   {
    "duration": 37,
    "start_time": "2021-12-29T20:38:57.754Z"
   },
   {
    "duration": 17705,
    "start_time": "2021-12-29T20:48:44.442Z"
   },
   {
    "duration": 44,
    "start_time": "2021-12-29T20:49:02.150Z"
   },
   {
    "duration": 113,
    "start_time": "2021-12-29T20:51:49.641Z"
   },
   {
    "duration": 4,
    "start_time": "2021-12-29T20:52:11.924Z"
   },
   {
    "duration": 5,
    "start_time": "2021-12-29T20:52:11.931Z"
   },
   {
    "duration": 35,
    "start_time": "2021-12-29T20:52:11.939Z"
   },
   {
    "duration": 18,
    "start_time": "2021-12-29T20:52:11.977Z"
   },
   {
    "duration": 127,
    "start_time": "2021-12-29T20:52:11.998Z"
   },
   {
    "duration": 162,
    "start_time": "2021-12-29T20:52:12.128Z"
   },
   {
    "duration": 198,
    "start_time": "2021-12-29T20:52:12.292Z"
   },
   {
    "duration": 18,
    "start_time": "2021-12-29T20:52:12.492Z"
   },
   {
    "duration": 10,
    "start_time": "2021-12-29T20:52:12.513Z"
   },
   {
    "duration": 45,
    "start_time": "2021-12-29T20:52:12.526Z"
   },
   {
    "duration": 10,
    "start_time": "2021-12-29T20:52:12.574Z"
   },
   {
    "duration": 15,
    "start_time": "2021-12-29T20:52:12.587Z"
   },
   {
    "duration": 19,
    "start_time": "2021-12-29T20:52:12.604Z"
   },
   {
    "duration": 49,
    "start_time": "2021-12-29T20:52:12.628Z"
   },
   {
    "duration": 23,
    "start_time": "2021-12-29T20:52:12.681Z"
   },
   {
    "duration": 20,
    "start_time": "2021-12-29T20:52:12.707Z"
   },
   {
    "duration": 30,
    "start_time": "2021-12-29T20:52:12.764Z"
   },
   {
    "duration": 6,
    "start_time": "2021-12-29T20:52:12.797Z"
   },
   {
    "duration": 10,
    "start_time": "2021-12-29T20:52:12.807Z"
   },
   {
    "duration": 46,
    "start_time": "2021-12-29T20:52:12.820Z"
   },
   {
    "duration": 39,
    "start_time": "2021-12-29T20:52:12.870Z"
   },
   {
    "duration": 51,
    "start_time": "2021-12-29T20:52:12.912Z"
   },
   {
    "duration": 62,
    "start_time": "2021-12-29T20:52:12.966Z"
   },
   {
    "duration": 51,
    "start_time": "2021-12-29T20:52:13.032Z"
   },
   {
    "duration": 45,
    "start_time": "2021-12-29T20:52:13.086Z"
   },
   {
    "duration": 38,
    "start_time": "2021-12-29T20:52:13.133Z"
   },
   {
    "duration": 18,
    "start_time": "2021-12-29T20:52:13.174Z"
   },
   {
    "duration": 10,
    "start_time": "2021-12-29T20:52:13.195Z"
   },
   {
    "duration": 7,
    "start_time": "2021-12-29T20:52:13.208Z"
   },
   {
    "duration": 69,
    "start_time": "2021-12-29T20:52:13.217Z"
   },
   {
    "duration": 8,
    "start_time": "2021-12-29T20:52:13.289Z"
   },
   {
    "duration": 9,
    "start_time": "2021-12-29T20:52:13.300Z"
   },
   {
    "duration": 15,
    "start_time": "2021-12-29T20:52:13.311Z"
   },
   {
    "duration": 45,
    "start_time": "2021-12-29T20:52:13.328Z"
   },
   {
    "duration": 19,
    "start_time": "2021-12-29T20:52:13.376Z"
   },
   {
    "duration": 128,
    "start_time": "2021-12-29T20:52:13.397Z"
   },
   {
    "duration": 35,
    "start_time": "2021-12-29T20:52:13.527Z"
   },
   {
    "duration": 118,
    "start_time": "2021-12-29T20:52:13.568Z"
   },
   {
    "duration": 32,
    "start_time": "2021-12-29T20:52:13.689Z"
   },
   {
    "duration": 59,
    "start_time": "2021-12-29T20:52:13.724Z"
   },
   {
    "duration": 6,
    "start_time": "2021-12-29T20:52:13.785Z"
   },
   {
    "duration": 6,
    "start_time": "2021-12-29T20:52:13.793Z"
   },
   {
    "duration": 22,
    "start_time": "2021-12-29T20:52:13.801Z"
   },
   {
    "duration": 59,
    "start_time": "2021-12-29T20:52:13.825Z"
   },
   {
    "duration": 4,
    "start_time": "2021-12-29T20:52:13.886Z"
   },
   {
    "duration": 13,
    "start_time": "2021-12-29T20:52:13.893Z"
   },
   {
    "duration": 8,
    "start_time": "2021-12-29T20:52:13.908Z"
   },
   {
    "duration": 63,
    "start_time": "2021-12-29T20:52:13.918Z"
   },
   {
    "duration": 21,
    "start_time": "2021-12-29T20:52:13.984Z"
   },
   {
    "duration": 3,
    "start_time": "2021-12-29T20:52:14.007Z"
   },
   {
    "duration": 53,
    "start_time": "2021-12-29T20:52:14.013Z"
   },
   {
    "duration": 8,
    "start_time": "2021-12-29T20:52:14.068Z"
   },
   {
    "duration": 120,
    "start_time": "2021-12-29T20:52:14.080Z"
   },
   {
    "duration": 27,
    "start_time": "2021-12-29T20:52:14.203Z"
   },
   {
    "duration": 4,
    "start_time": "2021-12-29T20:52:14.233Z"
   },
   {
    "duration": 29,
    "start_time": "2021-12-29T20:52:14.240Z"
   },
   {
    "duration": 19,
    "start_time": "2021-12-29T20:52:14.272Z"
   },
   {
    "duration": 10,
    "start_time": "2021-12-29T20:52:14.294Z"
   },
   {
    "duration": 14,
    "start_time": "2021-12-29T20:52:14.307Z"
   },
   {
    "duration": 16,
    "start_time": "2021-12-29T20:52:14.364Z"
   },
   {
    "duration": 15,
    "start_time": "2021-12-29T20:52:14.383Z"
   },
   {
    "duration": 19,
    "start_time": "2021-12-29T20:52:14.401Z"
   },
   {
    "duration": 45,
    "start_time": "2021-12-29T20:52:14.423Z"
   },
   {
    "duration": 12,
    "start_time": "2021-12-29T20:52:14.471Z"
   },
   {
    "duration": 10,
    "start_time": "2021-12-29T20:52:14.486Z"
   },
   {
    "duration": 24,
    "start_time": "2021-12-29T20:52:14.498Z"
   },
   {
    "duration": 100,
    "start_time": "2021-12-29T20:52:18.125Z"
   },
   {
    "duration": 810,
    "start_time": "2021-12-29T20:52:17.417Z"
   },
   {
    "duration": 25965,
    "start_time": "2021-12-29T20:52:51.384Z"
   },
   {
    "duration": 724,
    "start_time": "2021-12-29T20:53:16.627Z"
   },
   {
    "duration": 16,
    "start_time": "2021-12-29T20:55:33.037Z"
   },
   {
    "duration": 3,
    "start_time": "2021-12-29T20:56:44.684Z"
   },
   {
    "duration": 5,
    "start_time": "2021-12-29T20:56:44.690Z"
   },
   {
    "duration": 32,
    "start_time": "2021-12-29T20:56:44.699Z"
   },
   {
    "duration": 18,
    "start_time": "2021-12-29T20:56:44.734Z"
   },
   {
    "duration": 108,
    "start_time": "2021-12-29T20:56:44.763Z"
   },
   {
    "duration": 171,
    "start_time": "2021-12-29T20:56:44.873Z"
   },
   {
    "duration": 187,
    "start_time": "2021-12-29T20:56:45.047Z"
   },
   {
    "duration": 15,
    "start_time": "2021-12-29T20:56:45.237Z"
   },
   {
    "duration": 14,
    "start_time": "2021-12-29T20:56:45.256Z"
   },
   {
    "duration": 15,
    "start_time": "2021-12-29T20:56:45.273Z"
   },
   {
    "duration": 10,
    "start_time": "2021-12-29T20:56:45.290Z"
   },
   {
    "duration": 24,
    "start_time": "2021-12-29T20:56:45.303Z"
   },
   {
    "duration": 51,
    "start_time": "2021-12-29T20:56:45.329Z"
   },
   {
    "duration": 17,
    "start_time": "2021-12-29T20:56:45.383Z"
   },
   {
    "duration": 69,
    "start_time": "2021-12-29T20:56:45.402Z"
   },
   {
    "duration": 21,
    "start_time": "2021-12-29T20:56:45.474Z"
   },
   {
    "duration": 27,
    "start_time": "2021-12-29T20:56:45.499Z"
   },
   {
    "duration": 35,
    "start_time": "2021-12-29T20:56:45.528Z"
   },
   {
    "duration": 10,
    "start_time": "2021-12-29T20:56:45.565Z"
   },
   {
    "duration": 14,
    "start_time": "2021-12-29T20:56:45.578Z"
   },
   {
    "duration": 25,
    "start_time": "2021-12-29T20:56:45.595Z"
   },
   {
    "duration": 56,
    "start_time": "2021-12-29T20:56:45.622Z"
   },
   {
    "duration": 41,
    "start_time": "2021-12-29T20:56:45.681Z"
   },
   {
    "duration": 45,
    "start_time": "2021-12-29T20:56:45.725Z"
   },
   {
    "duration": 30,
    "start_time": "2021-12-29T20:56:45.773Z"
   },
   {
    "duration": 20,
    "start_time": "2021-12-29T20:56:45.806Z"
   },
   {
    "duration": 18,
    "start_time": "2021-12-29T20:56:45.864Z"
   },
   {
    "duration": 9,
    "start_time": "2021-12-29T20:56:45.888Z"
   },
   {
    "duration": 8,
    "start_time": "2021-12-29T20:56:45.900Z"
   },
   {
    "duration": 65,
    "start_time": "2021-12-29T20:56:45.911Z"
   },
   {
    "duration": 7,
    "start_time": "2021-12-29T20:56:45.979Z"
   },
   {
    "duration": 9,
    "start_time": "2021-12-29T20:56:45.988Z"
   },
   {
    "duration": 16,
    "start_time": "2021-12-29T20:56:46.000Z"
   },
   {
    "duration": 47,
    "start_time": "2021-12-29T20:56:46.019Z"
   },
   {
    "duration": 26,
    "start_time": "2021-12-29T20:56:46.069Z"
   },
   {
    "duration": 153,
    "start_time": "2021-12-29T20:56:46.098Z"
   },
   {
    "duration": 31,
    "start_time": "2021-12-29T20:56:46.254Z"
   },
   {
    "duration": 169,
    "start_time": "2021-12-29T20:56:46.288Z"
   },
   {
    "duration": 40,
    "start_time": "2021-12-29T20:56:46.462Z"
   },
   {
    "duration": 66,
    "start_time": "2021-12-29T20:56:46.506Z"
   },
   {
    "duration": 6,
    "start_time": "2021-12-29T20:56:46.575Z"
   },
   {
    "duration": 6,
    "start_time": "2021-12-29T20:56:46.585Z"
   },
   {
    "duration": 24,
    "start_time": "2021-12-29T20:56:46.594Z"
   },
   {
    "duration": 73,
    "start_time": "2021-12-29T20:56:46.621Z"
   },
   {
    "duration": 5,
    "start_time": "2021-12-29T20:56:46.698Z"
   },
   {
    "duration": 22,
    "start_time": "2021-12-29T20:56:46.706Z"
   },
   {
    "duration": 38,
    "start_time": "2021-12-29T20:56:46.731Z"
   },
   {
    "duration": 24,
    "start_time": "2021-12-29T20:56:46.772Z"
   },
   {
    "duration": 23,
    "start_time": "2021-12-29T20:56:46.799Z"
   },
   {
    "duration": 39,
    "start_time": "2021-12-29T20:56:46.824Z"
   },
   {
    "duration": 16,
    "start_time": "2021-12-29T20:56:46.866Z"
   },
   {
    "duration": 10,
    "start_time": "2021-12-29T20:56:46.885Z"
   },
   {
    "duration": 31,
    "start_time": "2021-12-29T20:56:46.899Z"
   },
   {
    "duration": 54,
    "start_time": "2021-12-29T20:56:46.934Z"
   },
   {
    "duration": 5,
    "start_time": "2021-12-29T20:56:46.991Z"
   },
   {
    "duration": 7,
    "start_time": "2021-12-29T20:56:46.999Z"
   },
   {
    "duration": 17,
    "start_time": "2021-12-29T20:56:47.009Z"
   },
   {
    "duration": 10,
    "start_time": "2021-12-29T20:56:47.064Z"
   },
   {
    "duration": 14,
    "start_time": "2021-12-29T20:56:47.078Z"
   },
   {
    "duration": 15,
    "start_time": "2021-12-29T20:56:47.095Z"
   },
   {
    "duration": 54,
    "start_time": "2021-12-29T20:56:47.113Z"
   },
   {
    "duration": 14,
    "start_time": "2021-12-29T20:56:47.170Z"
   },
   {
    "duration": 11,
    "start_time": "2021-12-29T20:56:47.187Z"
   },
   {
    "duration": 15,
    "start_time": "2021-12-29T20:56:47.200Z"
   },
   {
    "duration": 46,
    "start_time": "2021-12-29T20:56:47.218Z"
   },
   {
    "duration": 23,
    "start_time": "2021-12-29T20:56:47.266Z"
   },
   {
    "duration": 3,
    "start_time": "2021-12-29T20:56:47.292Z"
   },
   {
    "duration": 4,
    "start_time": "2021-12-29T20:56:49.815Z"
   },
   {
    "duration": 16,
    "start_time": "2021-12-29T20:56:50.964Z"
   },
   {
    "duration": 15,
    "start_time": "2021-12-29T20:56:51.771Z"
   },
   {
    "duration": 32,
    "start_time": "2021-12-29T20:56:53.321Z"
   },
   {
    "duration": 26,
    "start_time": "2021-12-29T20:58:52.892Z"
   },
   {
    "duration": 277,
    "start_time": "2021-12-30T04:27:08.276Z"
   },
   {
    "duration": 602,
    "start_time": "2021-12-30T04:27:13.523Z"
   },
   {
    "duration": 3,
    "start_time": "2021-12-30T04:27:14.127Z"
   },
   {
    "duration": 29,
    "start_time": "2021-12-30T04:27:14.132Z"
   },
   {
    "duration": 15,
    "start_time": "2021-12-30T04:27:14.163Z"
   },
   {
    "duration": 90,
    "start_time": "2021-12-30T04:27:14.179Z"
   },
   {
    "duration": 137,
    "start_time": "2021-12-30T04:27:14.270Z"
   },
   {
    "duration": 154,
    "start_time": "2021-12-30T04:27:14.409Z"
   },
   {
    "duration": 15,
    "start_time": "2021-12-30T04:27:14.565Z"
   },
   {
    "duration": 8,
    "start_time": "2021-12-30T04:27:14.583Z"
   },
   {
    "duration": 8,
    "start_time": "2021-12-30T04:27:14.593Z"
   },
   {
    "duration": 7,
    "start_time": "2021-12-30T04:27:14.603Z"
   },
   {
    "duration": 11,
    "start_time": "2021-12-30T04:27:14.612Z"
   },
   {
    "duration": 43,
    "start_time": "2021-12-30T04:27:14.624Z"
   },
   {
    "duration": 12,
    "start_time": "2021-12-30T04:27:14.669Z"
   },
   {
    "duration": 17,
    "start_time": "2021-12-30T04:27:14.682Z"
   },
   {
    "duration": 13,
    "start_time": "2021-12-30T04:27:14.701Z"
   },
   {
    "duration": 49,
    "start_time": "2021-12-30T04:27:14.715Z"
   },
   {
    "duration": 5,
    "start_time": "2021-12-30T04:27:14.766Z"
   },
   {
    "duration": 6,
    "start_time": "2021-12-30T04:27:14.773Z"
   },
   {
    "duration": 9,
    "start_time": "2021-12-30T04:27:14.781Z"
   },
   {
    "duration": 18,
    "start_time": "2021-12-30T04:27:14.792Z"
   },
   {
    "duration": 11,
    "start_time": "2021-12-30T04:27:14.812Z"
   },
   {
    "duration": 57,
    "start_time": "2021-12-30T04:27:14.825Z"
   },
   {
    "duration": 17,
    "start_time": "2021-12-30T04:27:14.884Z"
   },
   {
    "duration": 24,
    "start_time": "2021-12-30T04:27:14.903Z"
   },
   {
    "duration": 33,
    "start_time": "2021-12-30T04:27:14.929Z"
   },
   {
    "duration": 12,
    "start_time": "2021-12-30T04:27:14.966Z"
   },
   {
    "duration": 11,
    "start_time": "2021-12-30T04:27:14.980Z"
   },
   {
    "duration": 6,
    "start_time": "2021-12-30T04:27:14.992Z"
   },
   {
    "duration": 28,
    "start_time": "2021-12-30T04:27:15.000Z"
   },
   {
    "duration": 5,
    "start_time": "2021-12-30T04:27:15.030Z"
   },
   {
    "duration": 29,
    "start_time": "2021-12-30T04:27:15.036Z"
   },
   {
    "duration": 23,
    "start_time": "2021-12-30T04:27:15.067Z"
   },
   {
    "duration": 7,
    "start_time": "2021-12-30T04:27:15.092Z"
   },
   {
    "duration": 18,
    "start_time": "2021-12-30T04:27:15.101Z"
   },
   {
    "duration": 70,
    "start_time": "2021-12-30T04:27:15.120Z"
   },
   {
    "duration": 14,
    "start_time": "2021-12-30T04:27:15.192Z"
   },
   {
    "duration": 115,
    "start_time": "2021-12-30T04:27:15.208Z"
   },
   {
    "duration": 22,
    "start_time": "2021-12-30T04:27:15.325Z"
   },
   {
    "duration": 37,
    "start_time": "2021-12-30T04:27:15.349Z"
   },
   {
    "duration": 5,
    "start_time": "2021-12-30T04:27:15.388Z"
   },
   {
    "duration": 8,
    "start_time": "2021-12-30T04:27:15.394Z"
   },
   {
    "duration": 18,
    "start_time": "2021-12-30T04:27:15.403Z"
   },
   {
    "duration": 44,
    "start_time": "2021-12-30T04:27:15.423Z"
   },
   {
    "duration": 3,
    "start_time": "2021-12-30T04:27:15.469Z"
   },
   {
    "duration": 13,
    "start_time": "2021-12-30T04:27:15.473Z"
   },
   {
    "duration": 8,
    "start_time": "2021-12-30T04:27:15.488Z"
   },
   {
    "duration": 18,
    "start_time": "2021-12-30T04:27:15.497Z"
   },
   {
    "duration": 20,
    "start_time": "2021-12-30T04:27:15.517Z"
   },
   {
    "duration": 22,
    "start_time": "2021-12-30T04:27:15.539Z"
   },
   {
    "duration": 10,
    "start_time": "2021-12-30T04:27:15.563Z"
   },
   {
    "duration": 7,
    "start_time": "2021-12-30T04:27:15.575Z"
   },
   {
    "duration": 27,
    "start_time": "2021-12-30T04:27:15.584Z"
   },
   {
    "duration": 20,
    "start_time": "2021-12-30T04:27:15.613Z"
   },
   {
    "duration": 4,
    "start_time": "2021-12-30T04:27:15.635Z"
   },
   {
    "duration": 10,
    "start_time": "2021-12-30T04:27:15.661Z"
   },
   {
    "duration": 9,
    "start_time": "2021-12-30T04:27:15.672Z"
   },
   {
    "duration": 5,
    "start_time": "2021-12-30T04:27:15.683Z"
   },
   {
    "duration": 10,
    "start_time": "2021-12-30T04:27:15.690Z"
   },
   {
    "duration": 8,
    "start_time": "2021-12-30T04:27:15.702Z"
   },
   {
    "duration": 7,
    "start_time": "2021-12-30T04:27:15.711Z"
   },
   {
    "duration": 44,
    "start_time": "2021-12-30T04:27:15.720Z"
   },
   {
    "duration": 8,
    "start_time": "2021-12-30T04:27:15.765Z"
   },
   {
    "duration": 8,
    "start_time": "2021-12-30T04:27:15.774Z"
   },
   {
    "duration": 7,
    "start_time": "2021-12-30T04:27:15.784Z"
   },
   {
    "duration": 12,
    "start_time": "2021-12-30T04:27:15.792Z"
   },
   {
    "duration": 13,
    "start_time": "2021-12-30T04:27:15.806Z"
   },
   {
    "duration": 9,
    "start_time": "2021-12-30T04:27:15.821Z"
   },
   {
    "duration": 16,
    "start_time": "2021-12-30T04:27:15.860Z"
   },
   {
    "duration": 264,
    "start_time": "2021-12-30T04:27:19.082Z"
   },
   {
    "duration": 240,
    "start_time": "2021-12-30T04:27:29.302Z"
   },
   {
    "duration": 309,
    "start_time": "2021-12-30T04:27:59.644Z"
   },
   {
    "duration": 1446,
    "start_time": "2021-12-30T04:28:24.340Z"
   },
   {
    "duration": 8,
    "start_time": "2021-12-30T04:28:51.644Z"
   },
   {
    "duration": 6,
    "start_time": "2021-12-30T04:29:55.195Z"
   },
   {
    "duration": 8,
    "start_time": "2021-12-30T04:29:55.244Z"
   },
   {
    "duration": 24,
    "start_time": "2021-12-30T04:30:14.955Z"
   },
   {
    "duration": 249,
    "start_time": "2021-12-30T04:30:34.096Z"
   },
   {
    "duration": 4,
    "start_time": "2021-12-30T04:30:41.008Z"
   },
   {
    "duration": 32,
    "start_time": "2021-12-30T04:31:33.975Z"
   },
   {
    "duration": 4,
    "start_time": "2021-12-30T04:32:51.869Z"
   },
   {
    "duration": 5,
    "start_time": "2021-12-30T04:33:47.314Z"
   },
   {
    "duration": 5,
    "start_time": "2021-12-30T04:35:48.538Z"
   },
   {
    "duration": 235,
    "start_time": "2021-12-30T04:42:23.756Z"
   },
   {
    "duration": 5,
    "start_time": "2021-12-30T04:52:31.401Z"
   },
   {
    "duration": 664,
    "start_time": "2021-12-30T04:57:04.950Z"
   },
   {
    "duration": 187,
    "start_time": "2021-12-30T04:57:39.745Z"
   },
   {
    "duration": 275,
    "start_time": "2021-12-30T05:11:17.436Z"
   },
   {
    "duration": 3,
    "start_time": "2021-12-30T05:11:50.035Z"
   },
   {
    "duration": 2729,
    "start_time": "2021-12-30T05:11:57.363Z"
   },
   {
    "duration": 3169,
    "start_time": "2021-12-30T05:12:42.221Z"
   },
   {
    "duration": 3243,
    "start_time": "2021-12-30T05:13:22.947Z"
   },
   {
    "duration": 2191,
    "start_time": "2021-12-30T05:14:52.538Z"
   },
   {
    "duration": 2118,
    "start_time": "2021-12-30T05:15:44.750Z"
   },
   {
    "duration": 1970,
    "start_time": "2021-12-30T05:16:31.016Z"
   },
   {
    "duration": 107,
    "start_time": "2021-12-30T05:32:36.084Z"
   },
   {
    "duration": 316,
    "start_time": "2021-12-30T05:32:56.704Z"
   },
   {
    "duration": 9,
    "start_time": "2021-12-30T05:33:04.274Z"
   },
   {
    "duration": 53,
    "start_time": "2021-12-30T05:34:54.174Z"
   },
   {
    "duration": 59,
    "start_time": "2021-12-30T05:58:53.242Z"
   },
   {
    "duration": 15,
    "start_time": "2021-12-30T05:58:53.303Z"
   },
   {
    "duration": 56,
    "start_time": "2021-12-30T06:13:19.968Z"
   },
   {
    "duration": 53,
    "start_time": "2021-12-30T06:13:34.906Z"
   },
   {
    "duration": 9,
    "start_time": "2021-12-30T06:13:35.376Z"
   },
   {
    "duration": 54,
    "start_time": "2021-12-30T06:14:04.562Z"
   },
   {
    "duration": 10,
    "start_time": "2021-12-30T06:14:05.326Z"
   },
   {
    "duration": 51,
    "start_time": "2021-12-30T06:14:52.215Z"
   },
   {
    "duration": 2001,
    "start_time": "2021-12-30T06:15:33.379Z"
   },
   {
    "duration": 2971,
    "start_time": "2021-12-30T06:16:34.243Z"
   },
   {
    "duration": 50,
    "start_time": "2021-12-30T06:18:50.716Z"
   },
   {
    "duration": 10,
    "start_time": "2021-12-30T06:18:53.187Z"
   },
   {
    "duration": 56,
    "start_time": "2021-12-30T06:19:04.149Z"
   },
   {
    "duration": 10,
    "start_time": "2021-12-30T06:19:04.421Z"
   },
   {
    "duration": 54,
    "start_time": "2021-12-30T06:19:42.795Z"
   },
   {
    "duration": 10,
    "start_time": "2021-12-30T06:19:43.442Z"
   },
   {
    "duration": 56,
    "start_time": "2021-12-30T06:20:04.009Z"
   },
   {
    "duration": 10,
    "start_time": "2021-12-30T06:20:04.628Z"
   },
   {
    "duration": 2985,
    "start_time": "2021-12-30T06:20:04.662Z"
   },
   {
    "duration": 2084,
    "start_time": "2021-12-30T06:21:26.030Z"
   },
   {
    "duration": 2039,
    "start_time": "2021-12-30T06:26:13.721Z"
   },
   {
    "duration": 2130,
    "start_time": "2021-12-30T06:32:39.633Z"
   },
   {
    "duration": 88,
    "start_time": "2021-12-30T12:57:39.518Z"
   },
   {
    "duration": 394,
    "start_time": "2021-12-30T14:23:37.189Z"
   },
   {
    "duration": 13,
    "start_time": "2021-12-30T14:26:45.404Z"
   },
   {
    "duration": 4,
    "start_time": "2021-12-30T14:26:53.023Z"
   },
   {
    "duration": 9,
    "start_time": "2021-12-30T14:32:55.746Z"
   },
   {
    "duration": 4,
    "start_time": "2021-12-30T14:32:56.690Z"
   },
   {
    "duration": 2,
    "start_time": "2021-12-30T14:53:08.524Z"
   },
   {
    "duration": 4,
    "start_time": "2021-12-30T14:53:08.530Z"
   },
   {
    "duration": 6,
    "start_time": "2021-12-30T14:53:08.536Z"
   },
   {
    "duration": 5,
    "start_time": "2021-12-30T14:53:08.543Z"
   },
   {
    "duration": 26,
    "start_time": "2021-12-30T14:53:08.636Z"
   },
   {
    "duration": 17,
    "start_time": "2021-12-30T14:53:08.664Z"
   },
   {
    "duration": 96,
    "start_time": "2021-12-30T14:53:08.683Z"
   },
   {
    "duration": 134,
    "start_time": "2021-12-30T14:53:08.781Z"
   },
   {
    "duration": 169,
    "start_time": "2021-12-30T14:53:08.917Z"
   },
   {
    "duration": 12,
    "start_time": "2021-12-30T14:53:09.088Z"
   },
   {
    "duration": 30,
    "start_time": "2021-12-30T14:53:09.102Z"
   },
   {
    "duration": 30,
    "start_time": "2021-12-30T14:53:09.135Z"
   },
   {
    "duration": 21,
    "start_time": "2021-12-30T14:53:09.169Z"
   },
   {
    "duration": 28,
    "start_time": "2021-12-30T14:53:09.192Z"
   },
   {
    "duration": 31,
    "start_time": "2021-12-30T14:53:09.222Z"
   },
   {
    "duration": 18,
    "start_time": "2021-12-30T14:53:09.255Z"
   },
   {
    "duration": 31,
    "start_time": "2021-12-30T14:53:09.274Z"
   },
   {
    "duration": 16,
    "start_time": "2021-12-30T14:53:09.307Z"
   },
   {
    "duration": 26,
    "start_time": "2021-12-30T14:53:09.324Z"
   },
   {
    "duration": 13,
    "start_time": "2021-12-30T14:53:09.351Z"
   },
   {
    "duration": 18,
    "start_time": "2021-12-30T14:53:09.365Z"
   },
   {
    "duration": 38,
    "start_time": "2021-12-30T14:53:09.385Z"
   },
   {
    "duration": 25,
    "start_time": "2021-12-30T14:53:09.425Z"
   },
   {
    "duration": 11,
    "start_time": "2021-12-30T14:53:09.451Z"
   },
   {
    "duration": 28,
    "start_time": "2021-12-30T14:53:09.464Z"
   },
   {
    "duration": 16,
    "start_time": "2021-12-30T14:53:09.494Z"
   },
   {
    "duration": 22,
    "start_time": "2021-12-30T14:53:09.512Z"
   },
   {
    "duration": 26,
    "start_time": "2021-12-30T14:53:09.536Z"
   },
   {
    "duration": 12,
    "start_time": "2021-12-30T14:53:09.563Z"
   },
   {
    "duration": 7,
    "start_time": "2021-12-30T14:53:09.577Z"
   },
   {
    "duration": 5,
    "start_time": "2021-12-30T14:53:09.588Z"
   },
   {
    "duration": 19,
    "start_time": "2021-12-30T14:53:09.595Z"
   },
   {
    "duration": 7,
    "start_time": "2021-12-30T14:53:09.616Z"
   },
   {
    "duration": 37,
    "start_time": "2021-12-30T14:53:09.625Z"
   },
   {
    "duration": 13,
    "start_time": "2021-12-30T14:53:09.664Z"
   },
   {
    "duration": 10,
    "start_time": "2021-12-30T14:53:09.679Z"
   },
   {
    "duration": 16,
    "start_time": "2021-12-30T14:53:09.690Z"
   },
   {
    "duration": 73,
    "start_time": "2021-12-30T14:53:09.708Z"
   },
   {
    "duration": 14,
    "start_time": "2021-12-30T14:53:09.783Z"
   },
   {
    "duration": 96,
    "start_time": "2021-12-30T14:53:09.799Z"
   },
   {
    "duration": 22,
    "start_time": "2021-12-30T14:53:09.897Z"
   },
   {
    "duration": 24,
    "start_time": "2021-12-30T14:53:09.921Z"
   },
   {
    "duration": 5,
    "start_time": "2021-12-30T14:53:09.961Z"
   },
   {
    "duration": 7,
    "start_time": "2021-12-30T14:53:09.968Z"
   },
   {
    "duration": 17,
    "start_time": "2021-12-30T14:53:09.977Z"
   },
   {
    "duration": 17,
    "start_time": "2021-12-30T14:53:09.996Z"
   },
   {
    "duration": 3,
    "start_time": "2021-12-30T14:53:10.015Z"
   },
   {
    "duration": 11,
    "start_time": "2021-12-30T14:53:10.020Z"
   },
   {
    "duration": 6,
    "start_time": "2021-12-30T14:53:10.061Z"
   },
   {
    "duration": 19,
    "start_time": "2021-12-30T14:53:10.069Z"
   },
   {
    "duration": 17,
    "start_time": "2021-12-30T14:53:10.090Z"
   },
   {
    "duration": 2,
    "start_time": "2021-12-30T14:53:10.109Z"
   },
   {
    "duration": 9,
    "start_time": "2021-12-30T14:53:10.113Z"
   },
   {
    "duration": 5,
    "start_time": "2021-12-30T14:53:10.124Z"
   },
   {
    "duration": 44,
    "start_time": "2021-12-30T14:53:10.130Z"
   },
   {
    "duration": 14,
    "start_time": "2021-12-30T14:53:10.176Z"
   },
   {
    "duration": 2,
    "start_time": "2021-12-30T14:53:10.192Z"
   },
   {
    "duration": 7,
    "start_time": "2021-12-30T14:53:10.196Z"
   },
   {
    "duration": 10,
    "start_time": "2021-12-30T14:53:10.204Z"
   },
   {
    "duration": 5,
    "start_time": "2021-12-30T14:53:10.216Z"
   },
   {
    "duration": 41,
    "start_time": "2021-12-30T14:53:10.224Z"
   },
   {
    "duration": 8,
    "start_time": "2021-12-30T14:53:10.267Z"
   },
   {
    "duration": 7,
    "start_time": "2021-12-30T14:53:10.277Z"
   },
   {
    "duration": 8,
    "start_time": "2021-12-30T14:53:10.285Z"
   },
   {
    "duration": 7,
    "start_time": "2021-12-30T14:53:10.294Z"
   },
   {
    "duration": 7,
    "start_time": "2021-12-30T14:53:10.302Z"
   },
   {
    "duration": 7,
    "start_time": "2021-12-30T14:53:10.310Z"
   },
   {
    "duration": 51,
    "start_time": "2021-12-30T14:53:10.319Z"
   },
   {
    "duration": 10,
    "start_time": "2021-12-30T14:53:10.372Z"
   },
   {
    "duration": 10,
    "start_time": "2021-12-30T14:53:10.383Z"
   },
   {
    "duration": 19,
    "start_time": "2021-12-30T14:53:10.394Z"
   },
   {
    "duration": 58,
    "start_time": "2021-12-30T14:53:10.414Z"
   },
   {
    "duration": 52,
    "start_time": "2021-12-30T14:53:10.473Z"
   },
   {
    "duration": 9,
    "start_time": "2021-12-30T14:53:10.526Z"
   },
   {
    "duration": 2233,
    "start_time": "2021-12-30T14:53:10.536Z"
   },
   {
    "duration": 9,
    "start_time": "2021-12-30T14:53:15.258Z"
   },
   {
    "duration": 4,
    "start_time": "2021-12-30T14:53:15.666Z"
   },
   {
    "duration": 5,
    "start_time": "2021-12-30T15:03:59.829Z"
   },
   {
    "duration": 5,
    "start_time": "2021-12-30T15:10:01.110Z"
   },
   {
    "duration": 351,
    "start_time": "2021-12-30T15:13:40.785Z"
   },
   {
    "duration": 9,
    "start_time": "2021-12-30T15:13:41.529Z"
   },
   {
    "duration": 68,
    "start_time": "2021-12-30T15:15:04.716Z"
   },
   {
    "duration": 12,
    "start_time": "2021-12-30T15:15:07.034Z"
   },
   {
    "duration": 3,
    "start_time": "2021-12-30T15:16:35.205Z"
   },
   {
    "duration": 9,
    "start_time": "2021-12-30T15:16:35.210Z"
   },
   {
    "duration": 6,
    "start_time": "2021-12-30T15:16:35.221Z"
   },
   {
    "duration": 5,
    "start_time": "2021-12-30T15:16:35.229Z"
   },
   {
    "duration": 43,
    "start_time": "2021-12-30T15:16:35.236Z"
   },
   {
    "duration": 16,
    "start_time": "2021-12-30T15:16:35.281Z"
   },
   {
    "duration": 116,
    "start_time": "2021-12-30T15:16:35.300Z"
   },
   {
    "duration": 179,
    "start_time": "2021-12-30T15:16:35.418Z"
   },
   {
    "duration": 152,
    "start_time": "2021-12-30T15:16:35.599Z"
   },
   {
    "duration": 18,
    "start_time": "2021-12-30T15:16:35.753Z"
   },
   {
    "duration": 10,
    "start_time": "2021-12-30T15:16:35.773Z"
   },
   {
    "duration": 10,
    "start_time": "2021-12-30T15:16:35.786Z"
   },
   {
    "duration": 11,
    "start_time": "2021-12-30T15:16:35.798Z"
   },
   {
    "duration": 15,
    "start_time": "2021-12-30T15:16:35.811Z"
   },
   {
    "duration": 41,
    "start_time": "2021-12-30T15:16:35.828Z"
   },
   {
    "duration": 13,
    "start_time": "2021-12-30T15:16:35.871Z"
   },
   {
    "duration": 19,
    "start_time": "2021-12-30T15:16:35.886Z"
   },
   {
    "duration": 13,
    "start_time": "2021-12-30T15:16:35.907Z"
   },
   {
    "duration": 54,
    "start_time": "2021-12-30T15:16:35.922Z"
   },
   {
    "duration": 5,
    "start_time": "2021-12-30T15:16:35.979Z"
   },
   {
    "duration": 10,
    "start_time": "2021-12-30T15:16:35.986Z"
   },
   {
    "duration": 11,
    "start_time": "2021-12-30T15:16:35.998Z"
   },
   {
    "duration": 23,
    "start_time": "2021-12-30T15:16:36.012Z"
   },
   {
    "duration": 33,
    "start_time": "2021-12-30T15:16:36.037Z"
   },
   {
    "duration": 36,
    "start_time": "2021-12-30T15:16:36.072Z"
   },
   {
    "duration": 15,
    "start_time": "2021-12-30T15:16:36.111Z"
   },
   {
    "duration": 46,
    "start_time": "2021-12-30T15:16:36.129Z"
   },
   {
    "duration": 13,
    "start_time": "2021-12-30T15:16:36.176Z"
   },
   {
    "duration": 14,
    "start_time": "2021-12-30T15:16:36.191Z"
   },
   {
    "duration": 9,
    "start_time": "2021-12-30T15:16:36.207Z"
   },
   {
    "duration": 8,
    "start_time": "2021-12-30T15:16:36.218Z"
   },
   {
    "duration": 43,
    "start_time": "2021-12-30T15:16:36.227Z"
   },
   {
    "duration": 4,
    "start_time": "2021-12-30T15:16:36.272Z"
   },
   {
    "duration": 26,
    "start_time": "2021-12-30T15:16:36.278Z"
   },
   {
    "duration": 25,
    "start_time": "2021-12-30T15:16:36.306Z"
   },
   {
    "duration": 9,
    "start_time": "2021-12-30T15:16:36.334Z"
   },
   {
    "duration": 18,
    "start_time": "2021-12-30T15:16:36.345Z"
   },
   {
    "duration": 63,
    "start_time": "2021-12-30T15:16:36.365Z"
   },
   {
    "duration": 14,
    "start_time": "2021-12-30T15:16:36.430Z"
   },
   {
    "duration": 88,
    "start_time": "2021-12-30T15:16:36.446Z"
   },
   {
    "duration": 27,
    "start_time": "2021-12-30T15:16:36.535Z"
   },
   {
    "duration": 24,
    "start_time": "2021-12-30T15:16:36.563Z"
   },
   {
    "duration": 4,
    "start_time": "2021-12-30T15:16:36.589Z"
   },
   {
    "duration": 6,
    "start_time": "2021-12-30T15:16:36.595Z"
   },
   {
    "duration": 19,
    "start_time": "2021-12-30T15:16:36.603Z"
   },
   {
    "duration": 41,
    "start_time": "2021-12-30T15:16:36.624Z"
   },
   {
    "duration": 3,
    "start_time": "2021-12-30T15:16:36.667Z"
   },
   {
    "duration": 10,
    "start_time": "2021-12-30T15:16:36.671Z"
   },
   {
    "duration": 10,
    "start_time": "2021-12-30T15:16:36.683Z"
   },
   {
    "duration": 19,
    "start_time": "2021-12-30T15:16:36.695Z"
   },
   {
    "duration": 17,
    "start_time": "2021-12-30T15:16:36.716Z"
   },
   {
    "duration": 2,
    "start_time": "2021-12-30T15:16:36.735Z"
   },
   {
    "duration": 29,
    "start_time": "2021-12-30T15:16:36.738Z"
   },
   {
    "duration": 5,
    "start_time": "2021-12-30T15:16:36.769Z"
   },
   {
    "duration": 19,
    "start_time": "2021-12-30T15:16:36.776Z"
   },
   {
    "duration": 15,
    "start_time": "2021-12-30T15:16:36.797Z"
   },
   {
    "duration": 3,
    "start_time": "2021-12-30T15:16:36.813Z"
   },
   {
    "duration": 45,
    "start_time": "2021-12-30T15:16:36.817Z"
   },
   {
    "duration": 9,
    "start_time": "2021-12-30T15:16:36.864Z"
   },
   {
    "duration": 6,
    "start_time": "2021-12-30T15:16:36.875Z"
   },
   {
    "duration": 8,
    "start_time": "2021-12-30T15:16:36.882Z"
   },
   {
    "duration": 12,
    "start_time": "2021-12-30T15:16:36.892Z"
   },
   {
    "duration": 7,
    "start_time": "2021-12-30T15:16:36.907Z"
   },
   {
    "duration": 8,
    "start_time": "2021-12-30T15:16:36.916Z"
   },
   {
    "duration": 43,
    "start_time": "2021-12-30T15:16:36.925Z"
   },
   {
    "duration": 8,
    "start_time": "2021-12-30T15:16:36.970Z"
   },
   {
    "duration": 7,
    "start_time": "2021-12-30T15:16:36.980Z"
   },
   {
    "duration": 14,
    "start_time": "2021-12-30T15:16:36.992Z"
   },
   {
    "duration": 13,
    "start_time": "2021-12-30T15:16:37.009Z"
   },
   {
    "duration": 44,
    "start_time": "2021-12-30T15:16:37.025Z"
   },
   {
    "duration": 26,
    "start_time": "2021-12-30T15:16:37.071Z"
   },
   {
    "duration": 37,
    "start_time": "2021-12-30T15:16:37.099Z"
   },
   {
    "duration": 88,
    "start_time": "2021-12-30T15:16:37.138Z"
   },
   {
    "duration": 69,
    "start_time": "2021-12-30T15:16:41.098Z"
   },
   {
    "duration": 10,
    "start_time": "2021-12-30T15:16:42.114Z"
   },
   {
    "duration": 9,
    "start_time": "2021-12-30T15:18:24.984Z"
   },
   {
    "duration": 251,
    "start_time": "2021-12-30T15:18:56.643Z"
   },
   {
    "duration": 11,
    "start_time": "2021-12-30T15:19:16.365Z"
   },
   {
    "duration": 12,
    "start_time": "2021-12-30T15:20:03.434Z"
   },
   {
    "duration": 11,
    "start_time": "2021-12-30T15:22:07.488Z"
   },
   {
    "duration": 68,
    "start_time": "2021-12-30T15:22:09.075Z"
   },
   {
    "duration": 9,
    "start_time": "2021-12-30T15:22:09.897Z"
   },
   {
    "duration": 78,
    "start_time": "2021-12-30T15:23:02.042Z"
   },
   {
    "duration": 10,
    "start_time": "2021-12-30T15:23:02.122Z"
   },
   {
    "duration": 100,
    "start_time": "2021-12-30T15:24:32.145Z"
   },
   {
    "duration": 13,
    "start_time": "2021-12-30T15:24:38.009Z"
   },
   {
    "duration": 2023,
    "start_time": "2021-12-30T15:24:38.060Z"
   },
   {
    "duration": 2972,
    "start_time": "2021-12-30T15:26:04.870Z"
   },
   {
    "duration": 82,
    "start_time": "2021-12-30T15:30:37.163Z"
   },
   {
    "duration": 105,
    "start_time": "2021-12-30T15:31:04.185Z"
   },
   {
    "duration": 9,
    "start_time": "2021-12-30T15:34:21.981Z"
   },
   {
    "duration": 9,
    "start_time": "2021-12-30T15:35:37.045Z"
   },
   {
    "duration": 4,
    "start_time": "2021-12-30T15:35:38.171Z"
   },
   {
    "duration": 11,
    "start_time": "2021-12-30T15:39:28.115Z"
   },
   {
    "duration": 12,
    "start_time": "2021-12-30T15:39:28.408Z"
   },
   {
    "duration": 25,
    "start_time": "2021-12-30T15:39:29.276Z"
   },
   {
    "duration": 34,
    "start_time": "2021-12-30T15:39:30.161Z"
   },
   {
    "duration": 73,
    "start_time": "2021-12-30T15:39:34.685Z"
   },
   {
    "duration": 9,
    "start_time": "2021-12-30T15:39:34.761Z"
   },
   {
    "duration": 74,
    "start_time": "2021-12-30T15:39:42.628Z"
   },
   {
    "duration": 12,
    "start_time": "2021-12-30T15:39:42.704Z"
   },
   {
    "duration": 2886,
    "start_time": "2021-12-30T15:39:44.298Z"
   },
   {
    "duration": 7,
    "start_time": "2021-12-30T15:39:54.091Z"
   },
   {
    "duration": 4,
    "start_time": "2021-12-30T15:39:55.221Z"
   },
   {
    "duration": 6,
    "start_time": "2021-12-30T15:39:56.837Z"
   },
   {
    "duration": 5,
    "start_time": "2021-12-30T15:39:59.244Z"
   },
   {
    "duration": 3,
    "start_time": "2021-12-30T15:48:26.762Z"
   },
   {
    "duration": 6,
    "start_time": "2021-12-30T15:48:26.767Z"
   },
   {
    "duration": 10,
    "start_time": "2021-12-30T15:48:26.775Z"
   },
   {
    "duration": 7,
    "start_time": "2021-12-30T15:48:26.787Z"
   },
   {
    "duration": 32,
    "start_time": "2021-12-30T15:48:26.795Z"
   },
   {
    "duration": 24,
    "start_time": "2021-12-30T15:48:26.829Z"
   },
   {
    "duration": 97,
    "start_time": "2021-12-30T15:48:26.855Z"
   },
   {
    "duration": 125,
    "start_time": "2021-12-30T15:48:26.954Z"
   },
   {
    "duration": 147,
    "start_time": "2021-12-30T15:48:27.082Z"
   },
   {
    "duration": 10,
    "start_time": "2021-12-30T15:48:27.231Z"
   },
   {
    "duration": 18,
    "start_time": "2021-12-30T15:48:27.243Z"
   },
   {
    "duration": 7,
    "start_time": "2021-12-30T15:48:27.263Z"
   },
   {
    "duration": 9,
    "start_time": "2021-12-30T15:48:27.271Z"
   },
   {
    "duration": 11,
    "start_time": "2021-12-30T15:48:27.282Z"
   },
   {
    "duration": 16,
    "start_time": "2021-12-30T15:48:27.294Z"
   },
   {
    "duration": 16,
    "start_time": "2021-12-30T15:48:27.311Z"
   },
   {
    "duration": 45,
    "start_time": "2021-12-30T15:48:27.328Z"
   },
   {
    "duration": 13,
    "start_time": "2021-12-30T15:48:27.374Z"
   },
   {
    "duration": 23,
    "start_time": "2021-12-30T15:48:27.389Z"
   },
   {
    "duration": 24,
    "start_time": "2021-12-30T15:48:27.413Z"
   },
   {
    "duration": 16,
    "start_time": "2021-12-30T15:48:27.439Z"
   },
   {
    "duration": 26,
    "start_time": "2021-12-30T15:48:27.457Z"
   },
   {
    "duration": 33,
    "start_time": "2021-12-30T15:48:27.485Z"
   },
   {
    "duration": 16,
    "start_time": "2021-12-30T15:48:27.520Z"
   },
   {
    "duration": 49,
    "start_time": "2021-12-30T15:48:27.538Z"
   },
   {
    "duration": 14,
    "start_time": "2021-12-30T15:48:27.588Z"
   },
   {
    "duration": 21,
    "start_time": "2021-12-30T15:48:27.607Z"
   },
   {
    "duration": 29,
    "start_time": "2021-12-30T15:48:27.631Z"
   },
   {
    "duration": 22,
    "start_time": "2021-12-30T15:48:27.662Z"
   },
   {
    "duration": 28,
    "start_time": "2021-12-30T15:48:27.686Z"
   },
   {
    "duration": 6,
    "start_time": "2021-12-30T15:48:27.716Z"
   },
   {
    "duration": 27,
    "start_time": "2021-12-30T15:48:27.723Z"
   },
   {
    "duration": 7,
    "start_time": "2021-12-30T15:48:27.752Z"
   },
   {
    "duration": 23,
    "start_time": "2021-12-30T15:48:27.761Z"
   },
   {
    "duration": 13,
    "start_time": "2021-12-30T15:48:27.785Z"
   },
   {
    "duration": 11,
    "start_time": "2021-12-30T15:48:27.800Z"
   },
   {
    "duration": 16,
    "start_time": "2021-12-30T15:48:27.813Z"
   },
   {
    "duration": 52,
    "start_time": "2021-12-30T15:48:27.831Z"
   },
   {
    "duration": 15,
    "start_time": "2021-12-30T15:48:27.885Z"
   },
   {
    "duration": 116,
    "start_time": "2021-12-30T15:48:27.901Z"
   },
   {
    "duration": 22,
    "start_time": "2021-12-30T15:48:28.019Z"
   },
   {
    "duration": 35,
    "start_time": "2021-12-30T15:48:28.042Z"
   },
   {
    "duration": 4,
    "start_time": "2021-12-30T15:48:28.079Z"
   },
   {
    "duration": 11,
    "start_time": "2021-12-30T15:48:28.085Z"
   },
   {
    "duration": 20,
    "start_time": "2021-12-30T15:48:28.098Z"
   },
   {
    "duration": 18,
    "start_time": "2021-12-30T15:48:28.120Z"
   },
   {
    "duration": 20,
    "start_time": "2021-12-30T15:48:28.140Z"
   },
   {
    "duration": 9,
    "start_time": "2021-12-30T15:48:28.163Z"
   },
   {
    "duration": 37,
    "start_time": "2021-12-30T15:48:28.173Z"
   },
   {
    "duration": 27,
    "start_time": "2021-12-30T15:48:28.212Z"
   },
   {
    "duration": 18,
    "start_time": "2021-12-30T15:48:28.241Z"
   },
   {
    "duration": 4,
    "start_time": "2021-12-30T15:48:28.260Z"
   },
   {
    "duration": 20,
    "start_time": "2021-12-30T15:48:28.266Z"
   },
   {
    "duration": 8,
    "start_time": "2021-12-30T15:48:28.288Z"
   },
   {
    "duration": 20,
    "start_time": "2021-12-30T15:48:28.298Z"
   },
   {
    "duration": 14,
    "start_time": "2021-12-30T15:48:28.320Z"
   },
   {
    "duration": 2,
    "start_time": "2021-12-30T15:48:28.336Z"
   },
   {
    "duration": 23,
    "start_time": "2021-12-30T15:48:28.340Z"
   },
   {
    "duration": 12,
    "start_time": "2021-12-30T15:48:28.365Z"
   },
   {
    "duration": 8,
    "start_time": "2021-12-30T15:48:28.378Z"
   },
   {
    "duration": 12,
    "start_time": "2021-12-30T15:48:28.388Z"
   },
   {
    "duration": 11,
    "start_time": "2021-12-30T15:48:28.401Z"
   },
   {
    "duration": 7,
    "start_time": "2021-12-30T15:48:28.413Z"
   },
   {
    "duration": 7,
    "start_time": "2021-12-30T15:48:28.422Z"
   },
   {
    "duration": 29,
    "start_time": "2021-12-30T15:48:28.431Z"
   },
   {
    "duration": 7,
    "start_time": "2021-12-30T15:48:28.462Z"
   },
   {
    "duration": 8,
    "start_time": "2021-12-30T15:48:28.471Z"
   },
   {
    "duration": 17,
    "start_time": "2021-12-30T15:48:28.481Z"
   },
   {
    "duration": 14,
    "start_time": "2021-12-30T15:48:28.500Z"
   },
   {
    "duration": 9,
    "start_time": "2021-12-30T15:48:28.516Z"
   },
   {
    "duration": 38,
    "start_time": "2021-12-30T15:48:28.527Z"
   },
   {
    "duration": 32,
    "start_time": "2021-12-30T15:48:28.567Z"
   },
   {
    "duration": 81,
    "start_time": "2021-12-30T15:48:28.601Z"
   },
   {
    "duration": 9,
    "start_time": "2021-12-30T15:48:28.687Z"
   },
   {
    "duration": 2824,
    "start_time": "2021-12-30T15:48:28.698Z"
   },
   {
    "duration": 8,
    "start_time": "2021-12-30T15:48:31.524Z"
   },
   {
    "duration": 13,
    "start_time": "2021-12-30T15:48:31.534Z"
   },
   {
    "duration": 18,
    "start_time": "2021-12-30T15:48:31.548Z"
   },
   {
    "duration": 13,
    "start_time": "2021-12-30T15:48:31.568Z"
   },
   {
    "duration": 557,
    "start_time": "2021-12-30T19:36:14.383Z"
   },
   {
    "duration": 64,
    "start_time": "2021-12-30T19:36:14.942Z"
   },
   {
    "duration": 2,
    "start_time": "2021-12-30T19:36:15.008Z"
   },
   {
    "duration": 371,
    "start_time": "2021-12-30T19:36:15.012Z"
   },
   {
    "duration": 28,
    "start_time": "2021-12-30T19:36:15.384Z"
   },
   {
    "duration": 17,
    "start_time": "2021-12-30T19:36:15.413Z"
   },
   {
    "duration": 82,
    "start_time": "2021-12-30T19:36:15.431Z"
   },
   {
    "duration": 118,
    "start_time": "2021-12-30T19:36:15.515Z"
   },
   {
    "duration": 130,
    "start_time": "2021-12-30T19:36:15.636Z"
   },
   {
    "duration": 13,
    "start_time": "2021-12-30T19:36:15.768Z"
   },
   {
    "duration": 8,
    "start_time": "2021-12-30T19:36:15.782Z"
   },
   {
    "duration": 9,
    "start_time": "2021-12-30T19:36:15.791Z"
   },
   {
    "duration": 27,
    "start_time": "2021-12-30T19:36:15.801Z"
   },
   {
    "duration": 10,
    "start_time": "2021-12-30T19:36:15.829Z"
   },
   {
    "duration": 13,
    "start_time": "2021-12-30T19:36:15.841Z"
   },
   {
    "duration": 11,
    "start_time": "2021-12-30T19:36:15.855Z"
   },
   {
    "duration": 16,
    "start_time": "2021-12-30T19:36:15.867Z"
   },
   {
    "duration": 44,
    "start_time": "2021-12-30T19:36:15.884Z"
   },
   {
    "duration": 17,
    "start_time": "2021-12-30T19:36:15.929Z"
   },
   {
    "duration": 4,
    "start_time": "2021-12-30T19:36:15.948Z"
   },
   {
    "duration": 5,
    "start_time": "2021-12-30T19:36:15.953Z"
   },
   {
    "duration": 7,
    "start_time": "2021-12-30T19:36:15.959Z"
   },
   {
    "duration": 15,
    "start_time": "2021-12-30T19:36:15.967Z"
   },
   {
    "duration": 9,
    "start_time": "2021-12-30T19:36:15.984Z"
   },
   {
    "duration": 57,
    "start_time": "2021-12-30T19:36:15.995Z"
   },
   {
    "duration": 14,
    "start_time": "2021-12-30T19:36:16.053Z"
   },
   {
    "duration": 22,
    "start_time": "2021-12-30T19:36:16.071Z"
   },
   {
    "duration": 32,
    "start_time": "2021-12-30T19:36:16.095Z"
   },
   {
    "duration": 11,
    "start_time": "2021-12-30T19:36:16.128Z"
   },
   {
    "duration": 8,
    "start_time": "2021-12-30T19:36:16.140Z"
   },
   {
    "duration": 4,
    "start_time": "2021-12-30T19:36:16.149Z"
   },
   {
    "duration": 19,
    "start_time": "2021-12-30T19:36:16.155Z"
   },
   {
    "duration": 3,
    "start_time": "2021-12-30T19:36:16.176Z"
   },
   {
    "duration": 7,
    "start_time": "2021-12-30T19:36:16.181Z"
   },
   {
    "duration": 44,
    "start_time": "2021-12-30T19:36:16.189Z"
   },
   {
    "duration": 7,
    "start_time": "2021-12-30T19:36:16.235Z"
   },
   {
    "duration": 16,
    "start_time": "2021-12-30T19:36:16.243Z"
   },
   {
    "duration": 89,
    "start_time": "2021-12-30T19:36:16.261Z"
   },
   {
    "duration": 16,
    "start_time": "2021-12-30T19:36:16.352Z"
   },
   {
    "duration": 132,
    "start_time": "2021-12-30T19:36:16.370Z"
   },
   {
    "duration": 28,
    "start_time": "2021-12-30T19:36:16.503Z"
   },
   {
    "duration": 23,
    "start_time": "2021-12-30T19:36:16.533Z"
   },
   {
    "duration": 4,
    "start_time": "2021-12-30T19:36:16.557Z"
   },
   {
    "duration": 4,
    "start_time": "2021-12-30T19:36:16.562Z"
   },
   {
    "duration": 17,
    "start_time": "2021-12-30T19:36:16.567Z"
   },
   {
    "duration": 19,
    "start_time": "2021-12-30T19:36:16.585Z"
   },
   {
    "duration": 22,
    "start_time": "2021-12-30T19:36:16.606Z"
   },
   {
    "duration": 10,
    "start_time": "2021-12-30T19:36:16.630Z"
   },
   {
    "duration": 4,
    "start_time": "2021-12-30T19:36:16.642Z"
   },
   {
    "duration": 15,
    "start_time": "2021-12-30T19:36:16.647Z"
   },
   {
    "duration": 16,
    "start_time": "2021-12-30T19:36:16.663Z"
   },
   {
    "duration": 2,
    "start_time": "2021-12-30T19:36:16.680Z"
   },
   {
    "duration": 7,
    "start_time": "2021-12-30T19:36:16.684Z"
   },
   {
    "duration": 4,
    "start_time": "2021-12-30T19:36:16.693Z"
   },
   {
    "duration": 42,
    "start_time": "2021-12-30T19:36:16.698Z"
   },
   {
    "duration": 15,
    "start_time": "2021-12-30T19:36:16.742Z"
   },
   {
    "duration": 2,
    "start_time": "2021-12-30T19:36:16.758Z"
   },
   {
    "duration": 8,
    "start_time": "2021-12-30T19:36:16.762Z"
   },
   {
    "duration": 6,
    "start_time": "2021-12-30T19:36:16.772Z"
   },
   {
    "duration": 4,
    "start_time": "2021-12-30T19:36:16.780Z"
   },
   {
    "duration": 7,
    "start_time": "2021-12-30T19:36:16.786Z"
   },
   {
    "duration": 33,
    "start_time": "2021-12-30T19:36:16.794Z"
   },
   {
    "duration": 6,
    "start_time": "2021-12-30T19:36:16.828Z"
   },
   {
    "duration": 6,
    "start_time": "2021-12-30T19:36:16.836Z"
   },
   {
    "duration": 7,
    "start_time": "2021-12-30T19:36:16.843Z"
   },
   {
    "duration": 6,
    "start_time": "2021-12-30T19:36:16.851Z"
   },
   {
    "duration": 6,
    "start_time": "2021-12-30T19:36:16.858Z"
   },
   {
    "duration": 11,
    "start_time": "2021-12-30T19:36:16.866Z"
   },
   {
    "duration": 10,
    "start_time": "2021-12-30T19:36:16.878Z"
   },
   {
    "duration": 39,
    "start_time": "2021-12-30T19:36:16.889Z"
   },
   {
    "duration": 16,
    "start_time": "2021-12-30T19:36:16.929Z"
   },
   {
    "duration": 27,
    "start_time": "2021-12-30T19:36:16.947Z"
   },
   {
    "duration": 74,
    "start_time": "2021-12-30T19:36:16.975Z"
   },
   {
    "duration": 8,
    "start_time": "2021-12-30T19:36:17.050Z"
   },
   {
    "duration": 2418,
    "start_time": "2021-12-30T19:36:17.059Z"
   },
   {
    "duration": 7,
    "start_time": "2021-12-30T19:36:19.479Z"
   },
   {
    "duration": 3,
    "start_time": "2021-12-30T19:36:19.487Z"
   },
   {
    "duration": 7,
    "start_time": "2021-12-30T19:36:19.492Z"
   },
   {
    "duration": 3,
    "start_time": "2021-12-30T19:36:19.500Z"
   },
   {
    "duration": 10,
    "start_time": "2021-12-30T19:36:48.418Z"
   },
   {
    "duration": 614,
    "start_time": "2022-01-01T15:49:03.859Z"
   },
   {
    "duration": 75,
    "start_time": "2022-01-01T15:49:04.475Z"
   },
   {
    "duration": 2,
    "start_time": "2022-01-01T15:49:04.552Z"
   },
   {
    "duration": 406,
    "start_time": "2022-01-01T15:49:04.561Z"
   },
   {
    "duration": 27,
    "start_time": "2022-01-01T15:49:04.969Z"
   },
   {
    "duration": 16,
    "start_time": "2022-01-01T15:49:04.998Z"
   },
   {
    "duration": 102,
    "start_time": "2022-01-01T15:49:05.016Z"
   },
   {
    "duration": 144,
    "start_time": "2022-01-01T15:49:05.122Z"
   },
   {
    "duration": 148,
    "start_time": "2022-01-01T15:49:05.268Z"
   },
   {
    "duration": 15,
    "start_time": "2022-01-01T15:49:05.418Z"
   },
   {
    "duration": 17,
    "start_time": "2022-01-01T15:49:05.434Z"
   },
   {
    "duration": 10,
    "start_time": "2022-01-01T15:49:05.453Z"
   },
   {
    "duration": 7,
    "start_time": "2022-01-01T15:49:05.465Z"
   },
   {
    "duration": 15,
    "start_time": "2022-01-01T15:49:05.474Z"
   },
   {
    "duration": 14,
    "start_time": "2022-01-01T15:49:05.491Z"
   },
   {
    "duration": 12,
    "start_time": "2022-01-01T15:49:05.507Z"
   },
   {
    "duration": 47,
    "start_time": "2022-01-01T15:49:05.521Z"
   },
   {
    "duration": 13,
    "start_time": "2022-01-01T15:49:05.571Z"
   },
   {
    "duration": 22,
    "start_time": "2022-01-01T15:49:05.586Z"
   },
   {
    "duration": 5,
    "start_time": "2022-01-01T15:49:05.610Z"
   },
   {
    "duration": 8,
    "start_time": "2022-01-01T15:49:05.617Z"
   },
   {
    "duration": 7,
    "start_time": "2022-01-01T15:49:05.660Z"
   },
   {
    "duration": 19,
    "start_time": "2022-01-01T15:49:05.673Z"
   },
   {
    "duration": 11,
    "start_time": "2022-01-01T15:49:05.696Z"
   },
   {
    "duration": 59,
    "start_time": "2022-01-01T15:49:05.709Z"
   },
   {
    "duration": 16,
    "start_time": "2022-01-01T15:49:05.770Z"
   },
   {
    "duration": 24,
    "start_time": "2022-01-01T15:49:05.788Z"
   },
   {
    "duration": 12,
    "start_time": "2022-01-01T15:49:05.814Z"
   },
   {
    "duration": 35,
    "start_time": "2022-01-01T15:49:05.828Z"
   },
   {
    "duration": 7,
    "start_time": "2022-01-01T15:49:05.865Z"
   },
   {
    "duration": 4,
    "start_time": "2022-01-01T15:49:05.874Z"
   },
   {
    "duration": 30,
    "start_time": "2022-01-01T15:49:05.880Z"
   },
   {
    "duration": 4,
    "start_time": "2022-01-01T15:49:05.912Z"
   },
   {
    "duration": 6,
    "start_time": "2022-01-01T15:49:05.917Z"
   },
   {
    "duration": 36,
    "start_time": "2022-01-01T15:49:05.925Z"
   },
   {
    "duration": 5,
    "start_time": "2022-01-01T15:49:05.963Z"
   },
   {
    "duration": 14,
    "start_time": "2022-01-01T15:49:05.970Z"
   },
   {
    "duration": 83,
    "start_time": "2022-01-01T15:49:05.985Z"
   },
   {
    "duration": 14,
    "start_time": "2022-01-01T15:49:06.069Z"
   },
   {
    "duration": 110,
    "start_time": "2022-01-01T15:49:06.084Z"
   },
   {
    "duration": 23,
    "start_time": "2022-01-01T15:49:06.196Z"
   },
   {
    "duration": 40,
    "start_time": "2022-01-01T15:49:06.221Z"
   },
   {
    "duration": 4,
    "start_time": "2022-01-01T15:49:06.262Z"
   },
   {
    "duration": 12,
    "start_time": "2022-01-01T15:49:06.268Z"
   },
   {
    "duration": 22,
    "start_time": "2022-01-01T15:49:06.281Z"
   },
   {
    "duration": 22,
    "start_time": "2022-01-01T15:49:06.304Z"
   },
   {
    "duration": 3,
    "start_time": "2022-01-01T15:49:06.328Z"
   },
   {
    "duration": 13,
    "start_time": "2022-01-01T15:49:06.332Z"
   },
   {
    "duration": 18,
    "start_time": "2022-01-01T15:49:06.347Z"
   },
   {
    "duration": 19,
    "start_time": "2022-01-01T15:49:06.366Z"
   },
   {
    "duration": 17,
    "start_time": "2022-01-01T15:49:06.387Z"
   },
   {
    "duration": 3,
    "start_time": "2022-01-01T15:49:06.406Z"
   },
   {
    "duration": 9,
    "start_time": "2022-01-01T15:49:06.410Z"
   },
   {
    "duration": 5,
    "start_time": "2022-01-01T15:49:06.420Z"
   },
   {
    "duration": 44,
    "start_time": "2022-01-01T15:49:06.426Z"
   },
   {
    "duration": 19,
    "start_time": "2022-01-01T15:49:06.472Z"
   },
   {
    "duration": 2,
    "start_time": "2022-01-01T15:49:06.493Z"
   },
   {
    "duration": 10,
    "start_time": "2022-01-01T15:49:06.497Z"
   },
   {
    "duration": 7,
    "start_time": "2022-01-01T15:49:06.509Z"
   },
   {
    "duration": 14,
    "start_time": "2022-01-01T15:49:06.517Z"
   },
   {
    "duration": 9,
    "start_time": "2022-01-01T15:49:06.532Z"
   },
   {
    "duration": 23,
    "start_time": "2022-01-01T15:49:06.542Z"
   },
   {
    "duration": 6,
    "start_time": "2022-01-01T15:49:06.567Z"
   },
   {
    "duration": 7,
    "start_time": "2022-01-01T15:49:06.574Z"
   },
   {
    "duration": 6,
    "start_time": "2022-01-01T15:49:06.583Z"
   },
   {
    "duration": 6,
    "start_time": "2022-01-01T15:49:06.590Z"
   },
   {
    "duration": 6,
    "start_time": "2022-01-01T15:49:06.599Z"
   },
   {
    "duration": 12,
    "start_time": "2022-01-01T15:49:06.610Z"
   },
   {
    "duration": 38,
    "start_time": "2022-01-01T15:49:06.624Z"
   },
   {
    "duration": 12,
    "start_time": "2022-01-01T15:49:06.664Z"
   },
   {
    "duration": 16,
    "start_time": "2022-01-01T15:49:06.677Z"
   },
   {
    "duration": 32,
    "start_time": "2022-01-01T15:49:06.695Z"
   },
   {
    "duration": 93,
    "start_time": "2022-01-01T15:49:06.728Z"
   },
   {
    "duration": 10,
    "start_time": "2022-01-01T15:49:06.823Z"
   },
   {
    "duration": 2691,
    "start_time": "2022-01-01T15:49:06.834Z"
   },
   {
    "duration": 9,
    "start_time": "2022-01-01T15:49:09.526Z"
   },
   {
    "duration": 6,
    "start_time": "2022-01-01T15:49:09.537Z"
   },
   {
    "duration": 19,
    "start_time": "2022-01-01T15:49:09.545Z"
   },
   {
    "duration": 18,
    "start_time": "2022-01-01T15:49:09.565Z"
   },
   {
    "duration": 1335,
    "start_time": "2022-01-02T08:02:11.898Z"
   },
   {
    "duration": 4,
    "start_time": "2022-01-02T08:02:53.898Z"
   },
   {
    "duration": 27,
    "start_time": "2022-01-02T08:02:59.234Z"
   },
   {
    "duration": 17,
    "start_time": "2022-01-02T08:02:59.658Z"
   },
   {
    "duration": 125,
    "start_time": "2022-01-02T08:03:00.058Z"
   },
   {
    "duration": 182,
    "start_time": "2022-01-02T08:03:00.394Z"
   },
   {
    "duration": 207,
    "start_time": "2022-01-02T08:03:00.578Z"
   },
   {
    "duration": 20,
    "start_time": "2022-01-02T08:03:00.844Z"
   },
   {
    "duration": 11,
    "start_time": "2022-01-02T08:03:01.586Z"
   },
   {
    "duration": 15,
    "start_time": "2022-01-02T08:03:03.510Z"
   },
   {
    "duration": 10,
    "start_time": "2022-01-02T08:03:04.089Z"
   },
   {
    "duration": 15,
    "start_time": "2022-01-02T08:03:05.913Z"
   },
   {
    "duration": 22,
    "start_time": "2022-01-02T08:03:06.457Z"
   },
   {
    "duration": 18,
    "start_time": "2022-01-02T08:03:06.987Z"
   },
   {
    "duration": 23,
    "start_time": "2022-01-02T08:03:08.590Z"
   },
   {
    "duration": 17,
    "start_time": "2022-01-02T08:03:09.078Z"
   },
   {
    "duration": 27,
    "start_time": "2022-01-02T08:03:09.666Z"
   },
   {
    "duration": 67,
    "start_time": "2022-01-02T08:08:49.705Z"
   },
   {
    "duration": 4,
    "start_time": "2022-01-02T08:08:54.906Z"
   },
   {
    "duration": 37,
    "start_time": "2022-01-02T08:08:54.917Z"
   },
   {
    "duration": 20,
    "start_time": "2022-01-02T08:08:54.957Z"
   },
   {
    "duration": 151,
    "start_time": "2022-01-02T08:08:54.981Z"
   },
   {
    "duration": 192,
    "start_time": "2022-01-02T08:08:55.135Z"
   },
   {
    "duration": 207,
    "start_time": "2022-01-02T08:08:55.330Z"
   },
   {
    "duration": 16,
    "start_time": "2022-01-02T08:08:55.540Z"
   },
   {
    "duration": 9,
    "start_time": "2022-01-02T08:08:55.567Z"
   },
   {
    "duration": 13,
    "start_time": "2022-01-02T08:08:55.578Z"
   },
   {
    "duration": 18,
    "start_time": "2022-01-02T08:08:55.595Z"
   },
   {
    "duration": 17,
    "start_time": "2022-01-02T08:08:55.616Z"
   },
   {
    "duration": 20,
    "start_time": "2022-01-02T08:08:55.668Z"
   },
   {
    "duration": 17,
    "start_time": "2022-01-02T08:08:55.690Z"
   },
   {
    "duration": 57,
    "start_time": "2022-01-02T08:08:55.710Z"
   },
   {
    "duration": 18,
    "start_time": "2022-01-02T08:08:55.770Z"
   },
   {
    "duration": 28,
    "start_time": "2022-01-02T08:08:55.791Z"
   },
   {
    "duration": 7,
    "start_time": "2022-01-02T08:08:55.821Z"
   },
   {
    "duration": 6,
    "start_time": "2022-01-02T08:08:55.868Z"
   },
   {
    "duration": 13,
    "start_time": "2022-01-02T08:08:55.877Z"
   },
   {
    "duration": 28,
    "start_time": "2022-01-02T08:08:55.892Z"
   },
   {
    "duration": 54,
    "start_time": "2022-01-02T08:08:55.923Z"
   },
   {
    "duration": 48,
    "start_time": "2022-01-02T08:08:55.979Z"
   },
   {
    "duration": 41,
    "start_time": "2022-01-02T08:08:56.029Z"
   },
   {
    "duration": 33,
    "start_time": "2022-01-02T08:08:56.072Z"
   },
   {
    "duration": 17,
    "start_time": "2022-01-02T08:08:56.108Z"
   },
   {
    "duration": 42,
    "start_time": "2022-01-02T08:08:56.128Z"
   },
   {
    "duration": 15,
    "start_time": "2022-01-02T08:08:56.173Z"
   },
   {
    "duration": 6,
    "start_time": "2022-01-02T08:08:56.195Z"
   },
   {
    "duration": 68,
    "start_time": "2022-01-02T08:08:56.204Z"
   },
   {
    "duration": 8,
    "start_time": "2022-01-02T08:08:56.275Z"
   },
   {
    "duration": 11,
    "start_time": "2022-01-02T08:08:56.286Z"
   },
   {
    "duration": 20,
    "start_time": "2022-01-02T08:08:56.300Z"
   },
   {
    "duration": 103,
    "start_time": "2022-01-02T08:08:56.323Z"
   },
   {
    "duration": 3,
    "start_time": "2022-01-02T08:20:27.005Z"
   },
   {
    "duration": 34,
    "start_time": "2022-01-02T08:20:27.024Z"
   },
   {
    "duration": 26,
    "start_time": "2022-01-02T08:20:27.060Z"
   },
   {
    "duration": 140,
    "start_time": "2022-01-02T08:20:27.089Z"
   },
   {
    "duration": 169,
    "start_time": "2022-01-02T08:20:27.232Z"
   },
   {
    "duration": 205,
    "start_time": "2022-01-02T08:20:27.404Z"
   },
   {
    "duration": 15,
    "start_time": "2022-01-02T08:20:27.612Z"
   },
   {
    "duration": 11,
    "start_time": "2022-01-02T08:20:27.629Z"
   },
   {
    "duration": 34,
    "start_time": "2022-01-02T08:20:27.642Z"
   },
   {
    "duration": 12,
    "start_time": "2022-01-02T08:20:27.681Z"
   },
   {
    "duration": 18,
    "start_time": "2022-01-02T08:20:27.696Z"
   },
   {
    "duration": 52,
    "start_time": "2022-01-02T08:20:27.716Z"
   },
   {
    "duration": 17,
    "start_time": "2022-01-02T08:20:27.771Z"
   },
   {
    "duration": 22,
    "start_time": "2022-01-02T08:20:27.790Z"
   },
   {
    "duration": 54,
    "start_time": "2022-01-02T08:20:27.815Z"
   },
   {
    "duration": 27,
    "start_time": "2022-01-02T08:20:27.872Z"
   },
   {
    "duration": 7,
    "start_time": "2022-01-02T08:20:27.901Z"
   },
   {
    "duration": 9,
    "start_time": "2022-01-02T08:20:27.911Z"
   },
   {
    "duration": 12,
    "start_time": "2022-01-02T08:20:27.922Z"
   },
   {
    "duration": 56,
    "start_time": "2022-01-02T08:20:27.936Z"
   },
   {
    "duration": 15,
    "start_time": "2022-01-02T08:20:27.994Z"
   },
   {
    "duration": 68,
    "start_time": "2022-01-02T08:20:28.012Z"
   },
   {
    "duration": 20,
    "start_time": "2022-01-02T08:20:28.082Z"
   },
   {
    "duration": 33,
    "start_time": "2022-01-02T08:20:28.105Z"
   },
   {
    "duration": 38,
    "start_time": "2022-01-02T08:20:28.141Z"
   },
   {
    "duration": 17,
    "start_time": "2022-01-02T08:20:28.182Z"
   },
   {
    "duration": 11,
    "start_time": "2022-01-02T08:20:28.201Z"
   },
   {
    "duration": 5,
    "start_time": "2022-01-02T08:20:28.217Z"
   },
   {
    "duration": 68,
    "start_time": "2022-01-02T08:20:28.225Z"
   },
   {
    "duration": 7,
    "start_time": "2022-01-02T08:20:28.295Z"
   },
   {
    "duration": 11,
    "start_time": "2022-01-02T08:20:28.304Z"
   },
   {
    "duration": 50,
    "start_time": "2022-01-02T08:20:28.317Z"
   },
   {
    "duration": 50,
    "start_time": "2022-01-02T08:20:28.370Z"
   },
   {
    "duration": 17,
    "start_time": "2022-01-02T08:20:28.423Z"
   },
   {
    "duration": 126,
    "start_time": "2022-01-02T08:20:28.443Z"
   },
   {
    "duration": 20,
    "start_time": "2022-01-02T08:20:28.571Z"
   },
   {
    "duration": 139,
    "start_time": "2022-01-02T08:20:28.594Z"
   },
   {
    "duration": 42,
    "start_time": "2022-01-02T08:20:28.735Z"
   },
   {
    "duration": 35,
    "start_time": "2022-01-02T08:20:28.779Z"
   },
   {
    "duration": 6,
    "start_time": "2022-01-02T08:20:28.816Z"
   },
   {
    "duration": 7,
    "start_time": "2022-01-02T08:20:28.824Z"
   },
   {
    "duration": 54,
    "start_time": "2022-01-02T08:20:28.833Z"
   },
   {
    "duration": 21,
    "start_time": "2022-01-02T08:20:30.960Z"
   },
   {
    "duration": 104,
    "start_time": "2022-01-02T08:20:31.562Z"
   },
   {
    "duration": 30,
    "start_time": "2022-01-02T08:21:00.533Z"
   },
   {
    "duration": 734,
    "start_time": "2022-01-02T08:21:33.020Z"
   },
   {
    "duration": 106,
    "start_time": "2022-01-02T08:21:57.664Z"
   },
   {
    "duration": 98,
    "start_time": "2022-01-02T08:22:45.339Z"
   },
   {
    "duration": 796,
    "start_time": "2022-01-02T08:33:15.556Z"
   },
   {
    "duration": 829,
    "start_time": "2022-01-02T08:33:47.604Z"
   },
   {
    "duration": 716,
    "start_time": "2022-01-02T08:38:18.526Z"
   },
   {
    "duration": 94,
    "start_time": "2022-01-02T08:43:30.978Z"
   },
   {
    "duration": 23,
    "start_time": "2022-01-02T08:43:45.972Z"
   },
   {
    "duration": 423,
    "start_time": "2022-01-02T08:45:48.356Z"
   },
   {
    "duration": 23,
    "start_time": "2022-01-02T08:46:13.161Z"
   },
   {
    "duration": 4,
    "start_time": "2022-01-02T08:46:18.223Z"
   },
   {
    "duration": 11,
    "start_time": "2022-01-02T08:46:18.786Z"
   },
   {
    "duration": 89,
    "start_time": "2022-01-02T08:48:32.192Z"
   },
   {
    "duration": 25,
    "start_time": "2022-01-02T08:48:54.430Z"
   },
   {
    "duration": 3,
    "start_time": "2022-01-02T08:48:56.214Z"
   },
   {
    "duration": 10,
    "start_time": "2022-01-02T08:48:56.635Z"
   },
   {
    "duration": 11,
    "start_time": "2022-01-02T08:49:25.185Z"
   },
   {
    "duration": 11,
    "start_time": "2022-01-02T08:49:32.761Z"
   },
   {
    "duration": 5,
    "start_time": "2022-01-02T08:53:13.509Z"
   },
   {
    "duration": 28,
    "start_time": "2022-01-02T08:53:13.518Z"
   },
   {
    "duration": 16,
    "start_time": "2022-01-02T08:53:13.549Z"
   },
   {
    "duration": 114,
    "start_time": "2022-01-02T08:53:13.569Z"
   },
   {
    "duration": 170,
    "start_time": "2022-01-02T08:53:13.686Z"
   },
   {
    "duration": 203,
    "start_time": "2022-01-02T08:53:13.859Z"
   },
   {
    "duration": 15,
    "start_time": "2022-01-02T08:53:14.064Z"
   },
   {
    "duration": 11,
    "start_time": "2022-01-02T08:53:14.081Z"
   },
   {
    "duration": 12,
    "start_time": "2022-01-02T08:53:14.094Z"
   },
   {
    "duration": 9,
    "start_time": "2022-01-02T08:53:14.110Z"
   },
   {
    "duration": 56,
    "start_time": "2022-01-02T08:53:14.123Z"
   },
   {
    "duration": 19,
    "start_time": "2022-01-02T08:53:14.182Z"
   },
   {
    "duration": 17,
    "start_time": "2022-01-02T08:53:14.204Z"
   },
   {
    "duration": 60,
    "start_time": "2022-01-02T08:53:14.224Z"
   },
   {
    "duration": 18,
    "start_time": "2022-01-02T08:53:14.286Z"
   },
   {
    "duration": 27,
    "start_time": "2022-01-02T08:53:14.306Z"
   },
   {
    "duration": 6,
    "start_time": "2022-01-02T08:53:14.367Z"
   },
   {
    "duration": 9,
    "start_time": "2022-01-02T08:53:14.376Z"
   },
   {
    "duration": 12,
    "start_time": "2022-01-02T08:53:14.388Z"
   },
   {
    "duration": 33,
    "start_time": "2022-01-02T08:53:14.402Z"
   },
   {
    "duration": 35,
    "start_time": "2022-01-02T08:53:14.438Z"
   },
   {
    "duration": 40,
    "start_time": "2022-01-02T08:53:14.476Z"
   },
   {
    "duration": 51,
    "start_time": "2022-01-02T08:53:14.520Z"
   },
   {
    "duration": 40,
    "start_time": "2022-01-02T08:53:14.574Z"
   },
   {
    "duration": 19,
    "start_time": "2022-01-02T08:53:14.617Z"
   },
   {
    "duration": 44,
    "start_time": "2022-01-02T08:53:14.639Z"
   },
   {
    "duration": 12,
    "start_time": "2022-01-02T08:53:14.686Z"
   },
   {
    "duration": 6,
    "start_time": "2022-01-02T08:53:14.705Z"
   },
   {
    "duration": 74,
    "start_time": "2022-01-02T08:53:14.715Z"
   },
   {
    "duration": 8,
    "start_time": "2022-01-02T08:53:14.792Z"
   },
   {
    "duration": 9,
    "start_time": "2022-01-02T08:53:14.802Z"
   },
   {
    "duration": 63,
    "start_time": "2022-01-02T08:53:14.814Z"
   },
   {
    "duration": 53,
    "start_time": "2022-01-02T08:53:14.879Z"
   },
   {
    "duration": 43,
    "start_time": "2022-01-02T08:53:14.935Z"
   },
   {
    "duration": 114,
    "start_time": "2022-01-02T08:53:14.981Z"
   },
   {
    "duration": 19,
    "start_time": "2022-01-02T08:53:15.098Z"
   },
   {
    "duration": 141,
    "start_time": "2022-01-02T08:53:15.119Z"
   },
   {
    "duration": 32,
    "start_time": "2022-01-02T08:53:15.266Z"
   },
   {
    "duration": 33,
    "start_time": "2022-01-02T08:53:15.301Z"
   },
   {
    "duration": 5,
    "start_time": "2022-01-02T08:53:15.337Z"
   },
   {
    "duration": 32,
    "start_time": "2022-01-02T08:53:15.344Z"
   },
   {
    "duration": 24,
    "start_time": "2022-01-02T08:53:15.378Z"
   },
   {
    "duration": 25,
    "start_time": "2022-01-02T08:53:15.405Z"
   },
   {
    "duration": 3,
    "start_time": "2022-01-02T08:53:17.004Z"
   },
   {
    "duration": 11,
    "start_time": "2022-01-02T08:53:17.729Z"
   },
   {
    "duration": 9,
    "start_time": "2022-01-02T08:53:20.561Z"
   },
   {
    "duration": 21,
    "start_time": "2022-01-02T08:53:25.985Z"
   },
   {
    "duration": 22,
    "start_time": "2022-01-02T08:54:15.766Z"
   },
   {
    "duration": 3,
    "start_time": "2022-01-02T08:54:24.050Z"
   },
   {
    "duration": 10,
    "start_time": "2022-01-02T08:54:25.088Z"
   },
   {
    "duration": 9,
    "start_time": "2022-01-02T08:54:25.130Z"
   },
   {
    "duration": 21,
    "start_time": "2022-01-02T08:55:02.057Z"
   },
   {
    "duration": 3,
    "start_time": "2022-01-02T08:55:02.103Z"
   },
   {
    "duration": 10,
    "start_time": "2022-01-02T08:55:03.170Z"
   },
   {
    "duration": 4,
    "start_time": "2022-01-02T08:56:08.504Z"
   },
   {
    "duration": 31,
    "start_time": "2022-01-02T08:56:08.511Z"
   },
   {
    "duration": 18,
    "start_time": "2022-01-02T08:56:08.545Z"
   },
   {
    "duration": 118,
    "start_time": "2022-01-02T08:56:08.567Z"
   },
   {
    "duration": 169,
    "start_time": "2022-01-02T08:56:08.688Z"
   },
   {
    "duration": 207,
    "start_time": "2022-01-02T08:56:08.860Z"
   },
   {
    "duration": 17,
    "start_time": "2022-01-02T08:56:09.071Z"
   },
   {
    "duration": 11,
    "start_time": "2022-01-02T08:56:09.092Z"
   },
   {
    "duration": 14,
    "start_time": "2022-01-02T08:56:09.106Z"
   },
   {
    "duration": 51,
    "start_time": "2022-01-02T08:56:09.123Z"
   },
   {
    "duration": 16,
    "start_time": "2022-01-02T08:56:09.178Z"
   },
   {
    "duration": 24,
    "start_time": "2022-01-02T08:56:09.197Z"
   },
   {
    "duration": 54,
    "start_time": "2022-01-02T08:56:09.224Z"
   },
   {
    "duration": 26,
    "start_time": "2022-01-02T08:56:09.281Z"
   },
   {
    "duration": 20,
    "start_time": "2022-01-02T08:56:09.310Z"
   },
   {
    "duration": 62,
    "start_time": "2022-01-02T08:56:09.333Z"
   },
   {
    "duration": 7,
    "start_time": "2022-01-02T08:56:09.399Z"
   },
   {
    "duration": 13,
    "start_time": "2022-01-02T08:56:09.409Z"
   },
   {
    "duration": 43,
    "start_time": "2022-01-02T08:56:09.430Z"
   },
   {
    "duration": 26,
    "start_time": "2022-01-02T08:56:09.476Z"
   },
   {
    "duration": 16,
    "start_time": "2022-01-02T08:56:09.505Z"
   },
   {
    "duration": 76,
    "start_time": "2022-01-02T08:56:09.523Z"
   },
   {
    "duration": 20,
    "start_time": "2022-01-02T08:56:09.602Z"
   },
   {
    "duration": 53,
    "start_time": "2022-01-02T08:56:09.625Z"
   },
   {
    "duration": 18,
    "start_time": "2022-01-02T08:56:09.680Z"
   },
   {
    "duration": 17,
    "start_time": "2022-01-02T08:56:09.700Z"
   },
   {
    "duration": 10,
    "start_time": "2022-01-02T08:56:09.719Z"
   },
   {
    "duration": 7,
    "start_time": "2022-01-02T08:56:09.769Z"
   },
   {
    "duration": 35,
    "start_time": "2022-01-02T08:56:09.780Z"
   },
   {
    "duration": 8,
    "start_time": "2022-01-02T08:56:09.818Z"
   },
   {
    "duration": 46,
    "start_time": "2022-01-02T08:56:09.828Z"
   },
   {
    "duration": 18,
    "start_time": "2022-01-02T08:56:09.877Z"
   },
   {
    "duration": 81,
    "start_time": "2022-01-02T08:56:09.898Z"
   },
   {
    "duration": 19,
    "start_time": "2022-01-02T08:56:09.981Z"
   },
   {
    "duration": 112,
    "start_time": "2022-01-02T08:56:10.002Z"
   },
   {
    "duration": 19,
    "start_time": "2022-01-02T08:56:10.117Z"
   },
   {
    "duration": 131,
    "start_time": "2022-01-02T08:56:10.138Z"
   },
   {
    "duration": 32,
    "start_time": "2022-01-02T08:56:10.272Z"
   },
   {
    "duration": 33,
    "start_time": "2022-01-02T08:56:10.306Z"
   },
   {
    "duration": 29,
    "start_time": "2022-01-02T08:56:10.341Z"
   },
   {
    "duration": 6,
    "start_time": "2022-01-02T08:56:10.372Z"
   },
   {
    "duration": 25,
    "start_time": "2022-01-02T08:56:10.380Z"
   },
   {
    "duration": 24,
    "start_time": "2022-01-02T08:56:10.407Z"
   },
   {
    "duration": 34,
    "start_time": "2022-01-02T08:56:10.434Z"
   },
   {
    "duration": 20,
    "start_time": "2022-01-02T08:56:10.471Z"
   },
   {
    "duration": 13,
    "start_time": "2022-01-02T08:56:10.493Z"
   },
   {
    "duration": 30,
    "start_time": "2022-01-02T08:56:10.508Z"
   },
   {
    "duration": 47,
    "start_time": "2022-01-02T08:56:10.541Z"
   },
   {
    "duration": 4,
    "start_time": "2022-01-02T08:56:10.591Z"
   },
   {
    "duration": 3,
    "start_time": "2022-01-02T08:56:13.053Z"
   },
   {
    "duration": 12,
    "start_time": "2022-01-02T08:56:13.137Z"
   },
   {
    "duration": 23,
    "start_time": "2022-01-02T08:57:19.995Z"
   },
   {
    "duration": 3,
    "start_time": "2022-01-02T08:57:20.992Z"
   },
   {
    "duration": 11,
    "start_time": "2022-01-02T08:57:21.577Z"
   },
   {
    "duration": 9,
    "start_time": "2022-01-02T08:57:44.712Z"
   },
   {
    "duration": 25,
    "start_time": "2022-01-02T08:59:19.123Z"
   },
   {
    "duration": 83,
    "start_time": "2022-01-02T08:59:19.739Z"
   },
   {
    "duration": 20,
    "start_time": "2022-01-02T08:59:32.800Z"
   },
   {
    "duration": 3,
    "start_time": "2022-01-02T08:59:35.119Z"
   },
   {
    "duration": 10,
    "start_time": "2022-01-02T08:59:35.706Z"
   },
   {
    "duration": 12,
    "start_time": "2022-01-02T08:59:36.661Z"
   },
   {
    "duration": 8,
    "start_time": "2022-01-02T08:59:40.169Z"
   },
   {
    "duration": 283,
    "start_time": "2022-01-02T09:08:09.284Z"
   },
   {
    "duration": 5,
    "start_time": "2022-01-02T09:16:27.782Z"
   },
   {
    "duration": 6545,
    "start_time": "2022-01-02T09:17:08.880Z"
   },
   {
    "duration": -412,
    "start_time": "2022-01-02T09:17:15.841Z"
   },
   {
    "duration": 4,
    "start_time": "2022-01-02T09:17:30.543Z"
   },
   {
    "duration": 7,
    "start_time": "2022-01-02T09:17:40.773Z"
   },
   {
    "duration": 359,
    "start_time": "2022-01-02T09:20:54.645Z"
   },
   {
    "duration": 294,
    "start_time": "2022-01-02T09:21:00.440Z"
   },
   {
    "duration": 4,
    "start_time": "2022-01-02T09:21:06.208Z"
   },
   {
    "duration": 50,
    "start_time": "2022-01-02T09:21:06.220Z"
   },
   {
    "duration": 16,
    "start_time": "2022-01-02T09:21:06.273Z"
   },
   {
    "duration": 124,
    "start_time": "2022-01-02T09:21:06.293Z"
   },
   {
    "duration": 166,
    "start_time": "2022-01-02T09:21:06.421Z"
   },
   {
    "duration": 194,
    "start_time": "2022-01-02T09:21:06.590Z"
   },
   {
    "duration": 16,
    "start_time": "2022-01-02T09:21:06.787Z"
   },
   {
    "duration": 10,
    "start_time": "2022-01-02T09:21:06.806Z"
   },
   {
    "duration": 14,
    "start_time": "2022-01-02T09:21:06.818Z"
   },
   {
    "duration": 38,
    "start_time": "2022-01-02T09:21:06.836Z"
   },
   {
    "duration": 16,
    "start_time": "2022-01-02T09:21:06.877Z"
   },
   {
    "duration": 21,
    "start_time": "2022-01-02T09:21:06.895Z"
   },
   {
    "duration": 50,
    "start_time": "2022-01-02T09:21:06.919Z"
   },
   {
    "duration": 24,
    "start_time": "2022-01-02T09:21:06.971Z"
   },
   {
    "duration": 18,
    "start_time": "2022-01-02T09:21:06.997Z"
   },
   {
    "duration": 57,
    "start_time": "2022-01-02T09:21:07.017Z"
   },
   {
    "duration": 7,
    "start_time": "2022-01-02T09:21:07.076Z"
   },
   {
    "duration": 7,
    "start_time": "2022-01-02T09:21:07.086Z"
   },
   {
    "duration": 11,
    "start_time": "2022-01-02T09:21:07.095Z"
   },
   {
    "duration": 64,
    "start_time": "2022-01-02T09:21:07.108Z"
   },
   {
    "duration": 14,
    "start_time": "2022-01-02T09:21:07.174Z"
   },
   {
    "duration": 41,
    "start_time": "2022-01-02T09:21:07.191Z"
   },
   {
    "duration": 43,
    "start_time": "2022-01-02T09:21:07.235Z"
   },
   {
    "duration": 33,
    "start_time": "2022-01-02T09:21:07.282Z"
   },
   {
    "duration": 20,
    "start_time": "2022-01-02T09:21:07.317Z"
   },
   {
    "duration": 19,
    "start_time": "2022-01-02T09:21:07.369Z"
   },
   {
    "duration": 13,
    "start_time": "2022-01-02T09:21:07.391Z"
   },
   {
    "duration": 7,
    "start_time": "2022-01-02T09:21:07.412Z"
   },
   {
    "duration": 70,
    "start_time": "2022-01-02T09:21:07.423Z"
   },
   {
    "duration": 13,
    "start_time": "2022-01-02T09:21:07.496Z"
   },
   {
    "duration": 20,
    "start_time": "2022-01-02T09:21:07.511Z"
   },
   {
    "duration": 44,
    "start_time": "2022-01-02T09:21:07.534Z"
   },
   {
    "duration": 60,
    "start_time": "2022-01-02T09:21:07.581Z"
   },
   {
    "duration": 19,
    "start_time": "2022-01-02T09:21:07.668Z"
   },
   {
    "duration": 112,
    "start_time": "2022-01-02T09:21:07.690Z"
   },
   {
    "duration": 20,
    "start_time": "2022-01-02T09:21:07.804Z"
   },
   {
    "duration": 132,
    "start_time": "2022-01-02T09:21:07.827Z"
   },
   {
    "duration": 32,
    "start_time": "2022-01-02T09:21:07.966Z"
   },
   {
    "duration": 34,
    "start_time": "2022-01-02T09:21:08.001Z"
   },
   {
    "duration": 7,
    "start_time": "2022-01-02T09:21:08.037Z"
   },
   {
    "duration": 6,
    "start_time": "2022-01-02T09:21:08.067Z"
   },
   {
    "duration": 24,
    "start_time": "2022-01-02T09:21:08.076Z"
   },
   {
    "duration": 25,
    "start_time": "2022-01-02T09:21:08.102Z"
   },
   {
    "duration": 4,
    "start_time": "2022-01-02T09:21:08.129Z"
   },
   {
    "duration": 42,
    "start_time": "2022-01-02T09:21:08.135Z"
   },
   {
    "duration": 11,
    "start_time": "2022-01-02T09:21:08.179Z"
   },
   {
    "duration": 26,
    "start_time": "2022-01-02T09:21:08.192Z"
   },
   {
    "duration": 56,
    "start_time": "2022-01-02T09:21:08.220Z"
   },
   {
    "duration": 2,
    "start_time": "2022-01-02T09:21:08.279Z"
   },
   {
    "duration": 12,
    "start_time": "2022-01-02T09:21:08.284Z"
   },
   {
    "duration": 8,
    "start_time": "2022-01-02T09:21:08.299Z"
   },
   {
    "duration": 27,
    "start_time": "2022-01-02T09:21:08.309Z"
   },
   {
    "duration": 20,
    "start_time": "2022-01-02T09:21:08.368Z"
   },
   {
    "duration": 3,
    "start_time": "2022-01-02T09:21:08.390Z"
   },
   {
    "duration": 7,
    "start_time": "2022-01-02T09:21:08.396Z"
   },
   {
    "duration": 16,
    "start_time": "2022-01-02T09:21:08.405Z"
   },
   {
    "duration": 8,
    "start_time": "2022-01-02T09:21:08.424Z"
   },
   {
    "duration": 12,
    "start_time": "2022-01-02T09:21:08.467Z"
   },
   {
    "duration": 13,
    "start_time": "2022-01-02T09:21:08.481Z"
   },
   {
    "duration": 10,
    "start_time": "2022-01-02T09:21:08.497Z"
   },
   {
    "duration": 13,
    "start_time": "2022-01-02T09:21:08.510Z"
   },
   {
    "duration": 53,
    "start_time": "2022-01-02T09:21:08.525Z"
   },
   {
    "duration": 12,
    "start_time": "2022-01-02T09:21:08.581Z"
   },
   {
    "duration": 18,
    "start_time": "2022-01-02T09:21:08.595Z"
   },
   {
    "duration": 21,
    "start_time": "2022-01-02T09:21:08.616Z"
   },
   {
    "duration": 42,
    "start_time": "2022-01-02T09:21:08.639Z"
   },
   {
    "duration": 17,
    "start_time": "2022-01-02T09:21:08.683Z"
   },
   {
    "duration": 26,
    "start_time": "2022-01-02T09:21:08.702Z"
   },
   {
    "duration": 86,
    "start_time": "2022-01-02T09:21:08.730Z"
   },
   {
    "duration": 14,
    "start_time": "2022-01-02T09:21:13.533Z"
   },
   {
    "duration": 1049,
    "start_time": "2022-01-02T09:40:41.358Z"
   },
   {
    "duration": 569,
    "start_time": "2022-01-02T09:41:24.042Z"
   },
   {
    "duration": 545,
    "start_time": "2022-01-02T09:42:30.662Z"
   },
   {
    "duration": 1006,
    "start_time": "2022-01-02T09:46:14.851Z"
   },
   {
    "duration": 108,
    "start_time": "2022-01-02T09:47:13.497Z"
   },
   {
    "duration": 16,
    "start_time": "2022-01-02T09:47:14.356Z"
   },
   {
    "duration": 4749,
    "start_time": "2022-01-02T09:47:19.987Z"
   },
   {
    "duration": 991,
    "start_time": "2022-01-02T09:48:52.751Z"
   },
   {
    "duration": 1000,
    "start_time": "2022-01-02T09:59:14.409Z"
   },
   {
    "duration": 1095,
    "start_time": "2022-01-02T09:59:25.153Z"
   },
   {
    "duration": 968,
    "start_time": "2022-01-02T09:59:39.364Z"
   },
   {
    "duration": 978,
    "start_time": "2022-01-02T09:59:52.977Z"
   },
   {
    "duration": 974,
    "start_time": "2022-01-02T10:00:12.038Z"
   },
   {
    "duration": 4781,
    "start_time": "2022-01-02T10:00:43.781Z"
   },
   {
    "duration": 1035,
    "start_time": "2022-01-02T10:01:34.015Z"
   },
   {
    "duration": 4,
    "start_time": "2022-01-02T10:05:49.750Z"
   },
   {
    "duration": 37,
    "start_time": "2022-01-02T10:05:49.758Z"
   },
   {
    "duration": 17,
    "start_time": "2022-01-02T10:05:49.798Z"
   },
   {
    "duration": 159,
    "start_time": "2022-01-02T10:05:49.818Z"
   },
   {
    "duration": 185,
    "start_time": "2022-01-02T10:05:49.980Z"
   },
   {
    "duration": 235,
    "start_time": "2022-01-02T10:05:50.168Z"
   },
   {
    "duration": 17,
    "start_time": "2022-01-02T10:05:50.406Z"
   },
   {
    "duration": 12,
    "start_time": "2022-01-02T10:05:50.427Z"
   },
   {
    "duration": 16,
    "start_time": "2022-01-02T10:05:50.466Z"
   },
   {
    "duration": 11,
    "start_time": "2022-01-02T10:05:50.485Z"
   },
   {
    "duration": 23,
    "start_time": "2022-01-02T10:05:50.499Z"
   },
   {
    "duration": 54,
    "start_time": "2022-01-02T10:05:50.526Z"
   },
   {
    "duration": 20,
    "start_time": "2022-01-02T10:05:50.583Z"
   },
   {
    "duration": 28,
    "start_time": "2022-01-02T10:05:50.605Z"
   },
   {
    "duration": 49,
    "start_time": "2022-01-02T10:05:50.635Z"
   },
   {
    "duration": 31,
    "start_time": "2022-01-02T10:05:50.686Z"
   },
   {
    "duration": 6,
    "start_time": "2022-01-02T10:05:50.720Z"
   },
   {
    "duration": 38,
    "start_time": "2022-01-02T10:05:50.729Z"
   },
   {
    "duration": 13,
    "start_time": "2022-01-02T10:05:50.774Z"
   },
   {
    "duration": 32,
    "start_time": "2022-01-02T10:05:50.791Z"
   },
   {
    "duration": 48,
    "start_time": "2022-01-02T10:05:50.825Z"
   },
   {
    "duration": 40,
    "start_time": "2022-01-02T10:05:50.876Z"
   },
   {
    "duration": 21,
    "start_time": "2022-01-02T10:05:50.918Z"
   },
   {
    "duration": 53,
    "start_time": "2022-01-02T10:05:50.942Z"
   },
   {
    "duration": 23,
    "start_time": "2022-01-02T10:05:50.998Z"
   },
   {
    "duration": 51,
    "start_time": "2022-01-02T10:05:51.025Z"
   },
   {
    "duration": 12,
    "start_time": "2022-01-02T10:05:51.080Z"
   },
   {
    "duration": 10,
    "start_time": "2022-01-02T10:05:51.094Z"
   },
   {
    "duration": 62,
    "start_time": "2022-01-02T10:05:51.107Z"
   },
   {
    "duration": 7,
    "start_time": "2022-01-02T10:05:51.172Z"
   },
   {
    "duration": 16,
    "start_time": "2022-01-02T10:05:51.182Z"
   },
   {
    "duration": 23,
    "start_time": "2022-01-02T10:05:51.201Z"
   },
   {
    "duration": 79,
    "start_time": "2022-01-02T10:05:51.226Z"
   },
   {
    "duration": 18,
    "start_time": "2022-01-02T10:05:51.308Z"
   },
   {
    "duration": 110,
    "start_time": "2022-01-02T10:05:51.329Z"
   },
   {
    "duration": 32,
    "start_time": "2022-01-02T10:05:51.441Z"
   },
   {
    "duration": 119,
    "start_time": "2022-01-02T10:05:51.476Z"
   },
   {
    "duration": 32,
    "start_time": "2022-01-02T10:05:51.597Z"
   },
   {
    "duration": 59,
    "start_time": "2022-01-02T10:05:51.631Z"
   },
   {
    "duration": 6,
    "start_time": "2022-01-02T10:05:51.693Z"
   },
   {
    "duration": 12,
    "start_time": "2022-01-02T10:05:51.701Z"
   },
   {
    "duration": 31,
    "start_time": "2022-01-02T10:05:51.716Z"
   },
   {
    "duration": 37,
    "start_time": "2022-01-02T10:05:51.750Z"
   },
   {
    "duration": 3,
    "start_time": "2022-01-02T10:05:51.789Z"
   },
   {
    "duration": 12,
    "start_time": "2022-01-02T10:05:51.794Z"
   },
   {
    "duration": 9,
    "start_time": "2022-01-02T10:05:51.809Z"
   },
   {
    "duration": 58,
    "start_time": "2022-01-02T10:05:51.821Z"
   },
   {
    "duration": 24,
    "start_time": "2022-01-02T10:05:51.882Z"
   },
   {
    "duration": 7,
    "start_time": "2022-01-02T10:05:51.908Z"
   },
   {
    "duration": 13,
    "start_time": "2022-01-02T10:05:51.918Z"
   },
   {
    "duration": 36,
    "start_time": "2022-01-02T10:05:51.934Z"
   },
   {
    "duration": 26,
    "start_time": "2022-01-02T10:05:51.973Z"
   },
   {
    "duration": 19,
    "start_time": "2022-01-02T10:05:52.002Z"
   },
   {
    "duration": 2,
    "start_time": "2022-01-02T10:05:52.024Z"
   },
   {
    "duration": 7,
    "start_time": "2022-01-02T10:05:52.066Z"
   },
   {
    "duration": 15,
    "start_time": "2022-01-02T10:05:52.076Z"
   },
   {
    "duration": 9,
    "start_time": "2022-01-02T10:05:52.093Z"
   },
   {
    "duration": 12,
    "start_time": "2022-01-02T10:05:52.104Z"
   },
   {
    "duration": 54,
    "start_time": "2022-01-02T10:05:52.118Z"
   },
   {
    "duration": 11,
    "start_time": "2022-01-02T10:05:52.174Z"
   },
   {
    "duration": 11,
    "start_time": "2022-01-02T10:05:52.188Z"
   },
   {
    "duration": 10,
    "start_time": "2022-01-02T10:05:52.201Z"
   },
   {
    "duration": 13,
    "start_time": "2022-01-02T10:05:52.214Z"
   },
   {
    "duration": 44,
    "start_time": "2022-01-02T10:05:52.229Z"
   },
   {
    "duration": 23,
    "start_time": "2022-01-02T10:05:52.275Z"
   },
   {
    "duration": 15,
    "start_time": "2022-01-02T10:05:52.300Z"
   },
   {
    "duration": 51,
    "start_time": "2022-01-02T10:05:52.318Z"
   },
   {
    "duration": 29,
    "start_time": "2022-01-02T10:05:52.371Z"
   },
   {
    "duration": 75,
    "start_time": "2022-01-02T10:05:52.402Z"
   },
   {
    "duration": 129,
    "start_time": "2022-01-02T10:05:52.480Z"
   },
   {
    "duration": 15,
    "start_time": "2022-01-02T10:05:52.612Z"
   },
   {
    "duration": 5040,
    "start_time": "2022-01-02T10:05:52.629Z"
   },
   {
    "duration": 1047,
    "start_time": "2022-01-02T10:05:57.671Z"
   },
   {
    "duration": 13,
    "start_time": "2022-01-02T10:05:58.720Z"
   },
   {
    "duration": 9,
    "start_time": "2022-01-02T10:05:58.735Z"
   },
   {
    "duration": 13,
    "start_time": "2022-01-02T10:05:58.768Z"
   },
   {
    "duration": 7,
    "start_time": "2022-01-02T10:05:58.784Z"
   },
   {
    "duration": 432,
    "start_time": "2022-01-02T19:17:59.108Z"
   },
   {
    "duration": 1350,
    "start_time": "2022-01-02T19:18:02.722Z"
   },
   {
    "duration": 192,
    "start_time": "2022-01-02T19:18:06.746Z"
   },
   {
    "duration": 26,
    "start_time": "2022-01-02T19:18:30.295Z"
   },
   {
    "duration": 5,
    "start_time": "2022-01-02T19:18:46.469Z"
   },
   {
    "duration": 27,
    "start_time": "2022-01-02T19:18:47.999Z"
   },
   {
    "duration": 19,
    "start_time": "2022-01-02T19:18:55.016Z"
   },
   {
    "duration": 182,
    "start_time": "2022-01-02T19:20:27.914Z"
   },
   {
    "duration": 138,
    "start_time": "2022-01-02T19:33:53.316Z"
   },
   {
    "duration": 434,
    "start_time": "2022-01-02T19:34:02.606Z"
   },
   {
    "duration": 38,
    "start_time": "2022-01-02T19:34:35.737Z"
   },
   {
    "duration": 15,
    "start_time": "2022-01-02T19:34:36.213Z"
   },
   {
    "duration": 100,
    "start_time": "2022-01-02T19:34:36.500Z"
   },
   {
    "duration": 1346,
    "start_time": "2022-01-02T19:34:40.574Z"
   },
   {
    "duration": 32,
    "start_time": "2022-01-02T19:34:41.924Z"
   },
   {
    "duration": 16,
    "start_time": "2022-01-02T19:34:41.959Z"
   },
   {
    "duration": 111,
    "start_time": "2022-01-02T19:34:41.978Z"
   },
   {
    "duration": 161,
    "start_time": "2022-01-02T19:34:42.091Z"
   },
   {
    "duration": 177,
    "start_time": "2022-01-02T19:34:42.254Z"
   },
   {
    "duration": 4,
    "start_time": "2022-01-02T19:34:42.434Z"
   },
   {
    "duration": 20,
    "start_time": "2022-01-02T19:34:42.442Z"
   },
   {
    "duration": 9,
    "start_time": "2022-01-02T19:34:42.464Z"
   },
   {
    "duration": 11,
    "start_time": "2022-01-02T19:34:42.475Z"
   },
   {
    "duration": 8,
    "start_time": "2022-01-02T19:34:42.524Z"
   },
   {
    "duration": 13,
    "start_time": "2022-01-02T19:34:42.535Z"
   },
   {
    "duration": 17,
    "start_time": "2022-01-02T19:34:42.551Z"
   },
   {
    "duration": 53,
    "start_time": "2022-01-02T19:34:42.571Z"
   },
   {
    "duration": 22,
    "start_time": "2022-01-02T19:34:42.627Z"
   },
   {
    "duration": 17,
    "start_time": "2022-01-02T19:34:42.651Z"
   },
   {
    "duration": 54,
    "start_time": "2022-01-02T19:34:42.671Z"
   },
   {
    "duration": 7,
    "start_time": "2022-01-02T19:34:42.727Z"
   },
   {
    "duration": 11,
    "start_time": "2022-01-02T19:34:42.736Z"
   },
   {
    "duration": 20,
    "start_time": "2022-01-02T19:34:42.750Z"
   },
   {
    "duration": 32,
    "start_time": "2022-01-02T19:34:42.772Z"
   },
   {
    "duration": 26,
    "start_time": "2022-01-02T19:34:42.806Z"
   },
   {
    "duration": 40,
    "start_time": "2022-01-02T19:34:42.839Z"
   },
   {
    "duration": 47,
    "start_time": "2022-01-02T19:34:42.883Z"
   },
   {
    "duration": 31,
    "start_time": "2022-01-02T19:34:42.933Z"
   },
   {
    "duration": 16,
    "start_time": "2022-01-02T19:34:42.967Z"
   },
   {
    "duration": 45,
    "start_time": "2022-01-02T19:34:42.986Z"
   },
   {
    "duration": 9,
    "start_time": "2022-01-02T19:34:43.034Z"
   },
   {
    "duration": 6,
    "start_time": "2022-01-02T19:34:43.045Z"
   },
   {
    "duration": 25,
    "start_time": "2022-01-02T19:34:43.053Z"
   },
   {
    "duration": 46,
    "start_time": "2022-01-02T19:34:43.081Z"
   },
   {
    "duration": 11,
    "start_time": "2022-01-02T19:34:43.130Z"
   },
   {
    "duration": 21,
    "start_time": "2022-01-02T19:34:43.144Z"
   },
   {
    "duration": 112,
    "start_time": "2022-01-02T19:34:43.168Z"
   },
   {
    "duration": 17,
    "start_time": "2022-01-02T19:34:43.282Z"
   },
   {
    "duration": 99,
    "start_time": "2022-01-02T19:34:43.301Z"
   },
   {
    "duration": 26,
    "start_time": "2022-01-02T19:34:43.402Z"
   },
   {
    "duration": 118,
    "start_time": "2022-01-02T19:34:43.430Z"
   },
   {
    "duration": 31,
    "start_time": "2022-01-02T19:34:43.550Z"
   },
   {
    "duration": 54,
    "start_time": "2022-01-02T19:34:43.583Z"
   },
   {
    "duration": 6,
    "start_time": "2022-01-02T19:34:43.639Z"
   },
   {
    "duration": 5,
    "start_time": "2022-01-02T19:34:43.647Z"
   },
   {
    "duration": 24,
    "start_time": "2022-01-02T19:34:43.655Z"
   },
   {
    "duration": 56,
    "start_time": "2022-01-02T19:34:43.681Z"
   },
   {
    "duration": 40,
    "start_time": "2022-01-02T19:34:43.740Z"
   },
   {
    "duration": 672,
    "start_time": "2022-01-02T19:34:43.782Z"
   },
   {
    "duration": -206,
    "start_time": "2022-01-02T19:34:44.663Z"
   },
   {
    "duration": -225,
    "start_time": "2022-01-02T19:34:44.683Z"
   },
   {
    "duration": -226,
    "start_time": "2022-01-02T19:34:44.686Z"
   },
   {
    "duration": -228,
    "start_time": "2022-01-02T19:34:44.689Z"
   },
   {
    "duration": -230,
    "start_time": "2022-01-02T19:34:44.692Z"
   },
   {
    "duration": -232,
    "start_time": "2022-01-02T19:34:44.696Z"
   },
   {
    "duration": -234,
    "start_time": "2022-01-02T19:34:44.699Z"
   },
   {
    "duration": -235,
    "start_time": "2022-01-02T19:34:44.702Z"
   },
   {
    "duration": -238,
    "start_time": "2022-01-02T19:34:44.706Z"
   },
   {
    "duration": -240,
    "start_time": "2022-01-02T19:34:44.709Z"
   },
   {
    "duration": -241,
    "start_time": "2022-01-02T19:34:44.712Z"
   },
   {
    "duration": -243,
    "start_time": "2022-01-02T19:34:44.715Z"
   },
   {
    "duration": -246,
    "start_time": "2022-01-02T19:34:44.719Z"
   },
   {
    "duration": -246,
    "start_time": "2022-01-02T19:34:44.721Z"
   },
   {
    "duration": -249,
    "start_time": "2022-01-02T19:34:44.725Z"
   },
   {
    "duration": -251,
    "start_time": "2022-01-02T19:34:44.728Z"
   },
   {
    "duration": -262,
    "start_time": "2022-01-02T19:34:44.741Z"
   },
   {
    "duration": -263,
    "start_time": "2022-01-02T19:34:44.744Z"
   },
   {
    "duration": -265,
    "start_time": "2022-01-02T19:34:44.747Z"
   },
   {
    "duration": -267,
    "start_time": "2022-01-02T19:34:44.751Z"
   },
   {
    "duration": -269,
    "start_time": "2022-01-02T19:34:44.754Z"
   },
   {
    "duration": -270,
    "start_time": "2022-01-02T19:34:44.757Z"
   },
   {
    "duration": -273,
    "start_time": "2022-01-02T19:34:44.761Z"
   },
   {
    "duration": -273,
    "start_time": "2022-01-02T19:34:44.763Z"
   },
   {
    "duration": -275,
    "start_time": "2022-01-02T19:34:44.767Z"
   },
   {
    "duration": -276,
    "start_time": "2022-01-02T19:34:44.769Z"
   },
   {
    "duration": -278,
    "start_time": "2022-01-02T19:34:44.772Z"
   },
   {
    "duration": -280,
    "start_time": "2022-01-02T19:34:44.775Z"
   },
   {
    "duration": -282,
    "start_time": "2022-01-02T19:34:44.778Z"
   },
   {
    "duration": -283,
    "start_time": "2022-01-02T19:34:44.780Z"
   },
   {
    "duration": -260,
    "start_time": "2022-01-02T19:34:44.783Z"
   },
   {
    "duration": -262,
    "start_time": "2022-01-02T19:34:44.786Z"
   },
   {
    "duration": -263,
    "start_time": "2022-01-02T19:34:44.789Z"
   },
   {
    "duration": -265,
    "start_time": "2022-01-02T19:34:44.792Z"
   },
   {
    "duration": 13,
    "start_time": "2022-01-02T19:35:04.252Z"
   },
   {
    "duration": 214,
    "start_time": "2022-01-03T08:59:41.513Z"
   },
   {
    "duration": 1009,
    "start_time": "2022-01-03T08:59:46.473Z"
   },
   {
    "duration": 25,
    "start_time": "2022-01-03T08:59:47.484Z"
   },
   {
    "duration": 17,
    "start_time": "2022-01-03T08:59:47.511Z"
   },
   {
    "duration": 95,
    "start_time": "2022-01-03T08:59:47.530Z"
   },
   {
    "duration": 131,
    "start_time": "2022-01-03T08:59:47.627Z"
   },
   {
    "duration": 143,
    "start_time": "2022-01-03T08:59:47.760Z"
   },
   {
    "duration": 4,
    "start_time": "2022-01-03T08:59:47.905Z"
   },
   {
    "duration": 20,
    "start_time": "2022-01-03T08:59:47.911Z"
   },
   {
    "duration": 6,
    "start_time": "2022-01-03T08:59:47.933Z"
   },
   {
    "duration": 18,
    "start_time": "2022-01-03T08:59:47.940Z"
   },
   {
    "duration": 7,
    "start_time": "2022-01-03T08:59:47.960Z"
   },
   {
    "duration": 24,
    "start_time": "2022-01-03T08:59:47.968Z"
   },
   {
    "duration": 13,
    "start_time": "2022-01-03T08:59:47.994Z"
   },
   {
    "duration": 11,
    "start_time": "2022-01-03T08:59:48.009Z"
   },
   {
    "duration": 19,
    "start_time": "2022-01-03T08:59:48.021Z"
   },
   {
    "duration": 12,
    "start_time": "2022-01-03T08:59:48.042Z"
   },
   {
    "duration": 52,
    "start_time": "2022-01-03T08:59:48.055Z"
   },
   {
    "duration": 5,
    "start_time": "2022-01-03T08:59:48.108Z"
   },
   {
    "duration": 8,
    "start_time": "2022-01-03T08:59:48.115Z"
   },
   {
    "duration": 8,
    "start_time": "2022-01-03T08:59:48.124Z"
   },
   {
    "duration": 19,
    "start_time": "2022-01-03T08:59:48.134Z"
   },
   {
    "duration": 10,
    "start_time": "2022-01-03T08:59:48.154Z"
   },
   {
    "duration": 50,
    "start_time": "2022-01-03T08:59:48.168Z"
   },
   {
    "duration": 14,
    "start_time": "2022-01-03T08:59:48.220Z"
   },
   {
    "duration": 23,
    "start_time": "2022-01-03T08:59:48.236Z"
   },
   {
    "duration": 37,
    "start_time": "2022-01-03T08:59:48.261Z"
   },
   {
    "duration": 10,
    "start_time": "2022-01-03T08:59:48.300Z"
   },
   {
    "duration": 8,
    "start_time": "2022-01-03T08:59:48.312Z"
   },
   {
    "duration": 6,
    "start_time": "2022-01-03T08:59:48.321Z"
   },
   {
    "duration": 18,
    "start_time": "2022-01-03T08:59:48.329Z"
   },
   {
    "duration": 4,
    "start_time": "2022-01-03T08:59:48.348Z"
   },
   {
    "duration": 39,
    "start_time": "2022-01-03T08:59:48.353Z"
   },
   {
    "duration": 10,
    "start_time": "2022-01-03T08:59:48.394Z"
   },
   {
    "duration": 39,
    "start_time": "2022-01-03T08:59:48.406Z"
   },
   {
    "duration": 12,
    "start_time": "2022-01-03T08:59:48.447Z"
   },
   {
    "duration": 79,
    "start_time": "2022-01-03T08:59:48.460Z"
   },
   {
    "duration": 14,
    "start_time": "2022-01-03T08:59:48.540Z"
   },
   {
    "duration": 101,
    "start_time": "2022-01-03T08:59:48.555Z"
   },
   {
    "duration": 33,
    "start_time": "2022-01-03T08:59:48.658Z"
   },
   {
    "duration": 25,
    "start_time": "2022-01-03T08:59:48.693Z"
   },
   {
    "duration": 4,
    "start_time": "2022-01-03T08:59:48.720Z"
   },
   {
    "duration": 4,
    "start_time": "2022-01-03T08:59:48.726Z"
   },
   {
    "duration": 20,
    "start_time": "2022-01-03T08:59:48.731Z"
   },
   {
    "duration": 41,
    "start_time": "2022-01-03T08:59:48.753Z"
   },
   {
    "duration": 31,
    "start_time": "2022-01-03T08:59:58.303Z"
   },
   {
    "duration": 34,
    "start_time": "2022-01-03T09:00:31.206Z"
   }
  ],
  "kernelspec": {
   "display_name": "Python 3 (ipykernel)",
   "language": "python",
   "name": "python3"
  },
  "language_info": {
   "codemirror_mode": {
    "name": "ipython",
    "version": 3
   },
   "file_extension": ".py",
   "mimetype": "text/x-python",
   "name": "python",
   "nbconvert_exporter": "python",
   "pygments_lexer": "ipython3",
   "version": "3.9.7"
  },
  "toc": {
   "base_numbering": 1,
   "nav_menu": {},
   "number_sections": false,
   "sideBar": true,
   "skip_h1_title": false,
   "title_cell": "Table of Contents",
   "title_sidebar": "Contents",
   "toc_cell": false,
   "toc_position": {},
   "toc_section_display": true,
   "toc_window_display": true
  }
 },
 "nbformat": 4,
 "nbformat_minor": 2
}
